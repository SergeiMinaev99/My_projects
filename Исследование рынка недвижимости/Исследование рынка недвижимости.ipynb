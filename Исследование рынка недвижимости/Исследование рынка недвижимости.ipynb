{
 "cells": [
  {
   "cell_type": "markdown",
   "metadata": {},
   "source": [
    "# Исследование объявлений о продаже квартир\n",
    "\n",
    "В вашем распоряжении данные сервиса Яндекс.Недвижимость — архив объявлений о продаже квартир в Санкт-Петербурге и соседних населённых пунктов за несколько лет. Нужно научиться определять рыночную стоимость объектов недвижимости. Ваша задача — установить параметры. Это позволит построить автоматизированную систему: она отследит аномалии и мошенническую деятельность. \n",
    "\n",
    "По каждой квартире на продажу доступны два вида данных. Первые вписаны пользователем, вторые — получены автоматически на основе картографических данных. Например, расстояние до центра, аэропорта, ближайшего парка и водоёма. "
   ]
  },
  {
   "cell_type": "markdown",
   "metadata": {},
   "source": [
    "### Откройте файл с данными и изучите общую информацию. "
   ]
  },
  {
   "cell_type": "code",
   "execution_count": 1,
   "metadata": {},
   "outputs": [],
   "source": [
    "# Вынес блок загрузки библиотек\n",
    "import pandas as pd\n",
    "import numpy as np\n",
    "import matplotlib.pyplot as plt"
   ]
  },
  {
   "cell_type": "code",
   "execution_count": 2,
   "metadata": {},
   "outputs": [
    {
     "name": "stdout",
     "output_type": "stream",
     "text": [
      "<class 'pandas.core.frame.DataFrame'>\n",
      "RangeIndex: 23699 entries, 0 to 23698\n",
      "Data columns (total 22 columns):\n",
      " #   Column                Non-Null Count  Dtype  \n",
      "---  ------                --------------  -----  \n",
      " 0   total_images          23699 non-null  int64  \n",
      " 1   last_price            23699 non-null  float64\n",
      " 2   total_area            23699 non-null  float64\n",
      " 3   first_day_exposition  23699 non-null  object \n",
      " 4   rooms                 23699 non-null  int64  \n",
      " 5   ceiling_height        14504 non-null  float64\n",
      " 6   floors_total          23613 non-null  float64\n",
      " 7   living_area           21796 non-null  float64\n",
      " 8   floor                 23699 non-null  int64  \n",
      " 9   is_apartment          2775 non-null   object \n",
      " 10  studio                23699 non-null  bool   \n",
      " 11  open_plan             23699 non-null  bool   \n",
      " 12  kitchen_area          21421 non-null  float64\n",
      " 13  balcony               12180 non-null  float64\n",
      " 14  locality_name         23650 non-null  object \n",
      " 15  airports_nearest      18157 non-null  float64\n",
      " 16  cityCenters_nearest   18180 non-null  float64\n",
      " 17  parks_around3000      18181 non-null  float64\n",
      " 18  parks_nearest         8079 non-null   float64\n",
      " 19  ponds_around3000      18181 non-null  float64\n",
      " 20  ponds_nearest         9110 non-null   float64\n",
      " 21  days_exposition       20518 non-null  float64\n",
      "dtypes: bool(2), float64(14), int64(3), object(3)\n",
      "memory usage: 3.7+ MB\n"
     ]
    },
    {
     "data": {
      "text/html": [
       "<div>\n",
       "<style scoped>\n",
       "    .dataframe tbody tr th:only-of-type {\n",
       "        vertical-align: middle;\n",
       "    }\n",
       "\n",
       "    .dataframe tbody tr th {\n",
       "        vertical-align: top;\n",
       "    }\n",
       "\n",
       "    .dataframe thead th {\n",
       "        text-align: right;\n",
       "    }\n",
       "</style>\n",
       "<table border=\"1\" class=\"dataframe\">\n",
       "  <thead>\n",
       "    <tr style=\"text-align: right;\">\n",
       "      <th></th>\n",
       "      <th>total_images</th>\n",
       "      <th>last_price</th>\n",
       "      <th>total_area</th>\n",
       "      <th>first_day_exposition</th>\n",
       "      <th>rooms</th>\n",
       "      <th>ceiling_height</th>\n",
       "      <th>floors_total</th>\n",
       "      <th>living_area</th>\n",
       "      <th>floor</th>\n",
       "      <th>is_apartment</th>\n",
       "      <th>...</th>\n",
       "      <th>kitchen_area</th>\n",
       "      <th>balcony</th>\n",
       "      <th>locality_name</th>\n",
       "      <th>airports_nearest</th>\n",
       "      <th>cityCenters_nearest</th>\n",
       "      <th>parks_around3000</th>\n",
       "      <th>parks_nearest</th>\n",
       "      <th>ponds_around3000</th>\n",
       "      <th>ponds_nearest</th>\n",
       "      <th>days_exposition</th>\n",
       "    </tr>\n",
       "  </thead>\n",
       "  <tbody>\n",
       "    <tr>\n",
       "      <th>0</th>\n",
       "      <td>20</td>\n",
       "      <td>13000000.0</td>\n",
       "      <td>108.0</td>\n",
       "      <td>2019-03-07T00:00:00</td>\n",
       "      <td>3</td>\n",
       "      <td>2.70</td>\n",
       "      <td>16.0</td>\n",
       "      <td>51.0</td>\n",
       "      <td>8</td>\n",
       "      <td>NaN</td>\n",
       "      <td>...</td>\n",
       "      <td>25.0</td>\n",
       "      <td>NaN</td>\n",
       "      <td>Санкт-Петербург</td>\n",
       "      <td>18863.0</td>\n",
       "      <td>16028.0</td>\n",
       "      <td>1.0</td>\n",
       "      <td>482.0</td>\n",
       "      <td>2.0</td>\n",
       "      <td>755.0</td>\n",
       "      <td>NaN</td>\n",
       "    </tr>\n",
       "    <tr>\n",
       "      <th>1</th>\n",
       "      <td>7</td>\n",
       "      <td>3350000.0</td>\n",
       "      <td>40.4</td>\n",
       "      <td>2018-12-04T00:00:00</td>\n",
       "      <td>1</td>\n",
       "      <td>NaN</td>\n",
       "      <td>11.0</td>\n",
       "      <td>18.6</td>\n",
       "      <td>1</td>\n",
       "      <td>NaN</td>\n",
       "      <td>...</td>\n",
       "      <td>11.0</td>\n",
       "      <td>2.0</td>\n",
       "      <td>посёлок Шушары</td>\n",
       "      <td>12817.0</td>\n",
       "      <td>18603.0</td>\n",
       "      <td>0.0</td>\n",
       "      <td>NaN</td>\n",
       "      <td>0.0</td>\n",
       "      <td>NaN</td>\n",
       "      <td>81.0</td>\n",
       "    </tr>\n",
       "    <tr>\n",
       "      <th>2</th>\n",
       "      <td>10</td>\n",
       "      <td>5196000.0</td>\n",
       "      <td>56.0</td>\n",
       "      <td>2015-08-20T00:00:00</td>\n",
       "      <td>2</td>\n",
       "      <td>NaN</td>\n",
       "      <td>5.0</td>\n",
       "      <td>34.3</td>\n",
       "      <td>4</td>\n",
       "      <td>NaN</td>\n",
       "      <td>...</td>\n",
       "      <td>8.3</td>\n",
       "      <td>0.0</td>\n",
       "      <td>Санкт-Петербург</td>\n",
       "      <td>21741.0</td>\n",
       "      <td>13933.0</td>\n",
       "      <td>1.0</td>\n",
       "      <td>90.0</td>\n",
       "      <td>2.0</td>\n",
       "      <td>574.0</td>\n",
       "      <td>558.0</td>\n",
       "    </tr>\n",
       "    <tr>\n",
       "      <th>3</th>\n",
       "      <td>0</td>\n",
       "      <td>64900000.0</td>\n",
       "      <td>159.0</td>\n",
       "      <td>2015-07-24T00:00:00</td>\n",
       "      <td>3</td>\n",
       "      <td>NaN</td>\n",
       "      <td>14.0</td>\n",
       "      <td>NaN</td>\n",
       "      <td>9</td>\n",
       "      <td>NaN</td>\n",
       "      <td>...</td>\n",
       "      <td>NaN</td>\n",
       "      <td>0.0</td>\n",
       "      <td>Санкт-Петербург</td>\n",
       "      <td>28098.0</td>\n",
       "      <td>6800.0</td>\n",
       "      <td>2.0</td>\n",
       "      <td>84.0</td>\n",
       "      <td>3.0</td>\n",
       "      <td>234.0</td>\n",
       "      <td>424.0</td>\n",
       "    </tr>\n",
       "    <tr>\n",
       "      <th>4</th>\n",
       "      <td>2</td>\n",
       "      <td>10000000.0</td>\n",
       "      <td>100.0</td>\n",
       "      <td>2018-06-19T00:00:00</td>\n",
       "      <td>2</td>\n",
       "      <td>3.03</td>\n",
       "      <td>14.0</td>\n",
       "      <td>32.0</td>\n",
       "      <td>13</td>\n",
       "      <td>NaN</td>\n",
       "      <td>...</td>\n",
       "      <td>41.0</td>\n",
       "      <td>NaN</td>\n",
       "      <td>Санкт-Петербург</td>\n",
       "      <td>31856.0</td>\n",
       "      <td>8098.0</td>\n",
       "      <td>2.0</td>\n",
       "      <td>112.0</td>\n",
       "      <td>1.0</td>\n",
       "      <td>48.0</td>\n",
       "      <td>121.0</td>\n",
       "    </tr>\n",
       "  </tbody>\n",
       "</table>\n",
       "<p>5 rows × 22 columns</p>\n",
       "</div>"
      ],
      "text/plain": [
       "   total_images  last_price  total_area first_day_exposition  rooms  \\\n",
       "0            20  13000000.0       108.0  2019-03-07T00:00:00      3   \n",
       "1             7   3350000.0        40.4  2018-12-04T00:00:00      1   \n",
       "2            10   5196000.0        56.0  2015-08-20T00:00:00      2   \n",
       "3             0  64900000.0       159.0  2015-07-24T00:00:00      3   \n",
       "4             2  10000000.0       100.0  2018-06-19T00:00:00      2   \n",
       "\n",
       "   ceiling_height  floors_total  living_area  floor is_apartment  ...  \\\n",
       "0            2.70          16.0         51.0      8          NaN  ...   \n",
       "1             NaN          11.0         18.6      1          NaN  ...   \n",
       "2             NaN           5.0         34.3      4          NaN  ...   \n",
       "3             NaN          14.0          NaN      9          NaN  ...   \n",
       "4            3.03          14.0         32.0     13          NaN  ...   \n",
       "\n",
       "   kitchen_area  balcony    locality_name  airports_nearest  \\\n",
       "0          25.0      NaN  Санкт-Петербург           18863.0   \n",
       "1          11.0      2.0   посёлок Шушары           12817.0   \n",
       "2           8.3      0.0  Санкт-Петербург           21741.0   \n",
       "3           NaN      0.0  Санкт-Петербург           28098.0   \n",
       "4          41.0      NaN  Санкт-Петербург           31856.0   \n",
       "\n",
       "  cityCenters_nearest  parks_around3000  parks_nearest  ponds_around3000  \\\n",
       "0             16028.0               1.0          482.0               2.0   \n",
       "1             18603.0               0.0            NaN               0.0   \n",
       "2             13933.0               1.0           90.0               2.0   \n",
       "3              6800.0               2.0           84.0               3.0   \n",
       "4              8098.0               2.0          112.0               1.0   \n",
       "\n",
       "   ponds_nearest  days_exposition  \n",
       "0          755.0              NaN  \n",
       "1            NaN             81.0  \n",
       "2          574.0            558.0  \n",
       "3          234.0            424.0  \n",
       "4           48.0            121.0  \n",
       "\n",
       "[5 rows x 22 columns]"
      ]
     },
     "execution_count": 2,
     "metadata": {},
     "output_type": "execute_result"
    }
   ],
   "source": [
    "data = pd.read_csv('/datasets/real_estate_data.csv', sep = '\\t')\n",
    "data.info()\n",
    "data.head(5)\n",
    "# На первом этапе необходимо изучить данные в датасете"
   ]
  },
  {
   "cell_type": "code",
   "execution_count": 3,
   "metadata": {},
   "outputs": [
    {
     "data": {
      "image/png": "[encoded data removed]",
      "text/plain": [
       "<Figure size 1080x1440 with 20 Axes>"
      ]
     },
     "metadata": {
      "needs_background": "light"
     },
     "output_type": "display_data"
    }
   ],
   "source": [
    "data.hist(figsize=(15, 20)); # убрал служебную информацию"
   ]
  },
  {
   "cell_type": "markdown",
   "metadata": {},
   "source": [
    "**Вывод**: в датасете 23699 строк, на первый взгляд имеются пропуски (например, kitchen area), некорректный тип данных( например, floors_total), а также, скорее всего, присутсвуют аномальные значения"
   ]
  },
  {
   "cell_type": "markdown",
   "metadata": {},
   "source": [
    "### Предобработка данных"
   ]
  },
  {
   "cell_type": "markdown",
   "metadata": {},
   "source": [
    "Далее необходимо провести обработку данных: заполнить пропуски 0, поменять тип переменной, заполнить значения медианой - все в зависимости от данных в столбцах"
   ]
  },
  {
   "cell_type": "code",
   "execution_count": 6,
   "metadata": {
    "scrolled": false
   },
   "outputs": [
    {
     "data": {
      "text/plain": [
       "total_images               0\n",
       "last_price                 0\n",
       "total_area                 0\n",
       "first_day_exposition       0\n",
       "rooms                      0\n",
       "ceiling_height             0\n",
       "floors_total               0\n",
       "living_area                0\n",
       "floor                      0\n",
       "is_apartment               0\n",
       "studio                     0\n",
       "open_plan                  0\n",
       "kitchen_area               0\n",
       "balcony                    0\n",
       "locality_name              0\n",
       "airports_nearest           0\n",
       "city_centers_nearest    5501\n",
       "parks_around3000           0\n",
       "parks_nearest              0\n",
       "ponds_around3000           0\n",
       "ponds_nearest              0\n",
       "days_exposition            0\n",
       "dtype: int64"
      ]
     },
     "execution_count": 6,
     "metadata": {},
     "output_type": "execute_result"
    }
   ],
   "source": [
    "# Поменяем неверно (не по правилам) записанную переменную\n",
    "data.rename (columns = {'cityCenters_nearest':'city_centers_nearest' }, inplace = True)\n",
    "\n",
    "# заменим высоту потолков, расстояния до парков и аэропортов на медианные (важно, что не средние - иначе исказятся данные) значения\n",
    "data['ceiling_height'].fillna(data['ceiling_height'].median(), inplace=True)\n",
    "data['airports_nearest'].fillna(data['airports_nearest'].median(), inplace=True)\n",
    "data['parks_nearest'].fillna(data['parks_nearest'].median(), inplace=True)\n",
    "data['ponds_nearest'].fillna(data['ponds_nearest'].median(), inplace=True)\n",
    "\n",
    "# Пропущенные значения площади кухни и жилого помещения заменяем на средние значения - так проще, чем с точностью высчитывать каждую отдельную площадь\n",
    "living_square = data['living_area'].mean() / data['total_area'].mean()\n",
    "kitchen_square = data['kitchen_area'].mean() / data['total_area'].mean()\n",
    "data['living_area'].fillna(living_square * data['total_area'], inplace=True)\n",
    "data['kitchen_area'].fillna(kitchen_square * data['total_area'], inplace=True)\n",
    "\n",
    "\n",
    "# Пропущенные значения  заменяем на \"Нет\" - в России чаще всего встречаются \"не апартаменты\"\n",
    "data['is_apartment'] = data['is_apartment'].fillna(False)\n",
    "\n",
    "# Удалим этажность и имя населенного пункта - иначе гадать можно очень долго\n",
    "data.dropna(subset=['locality_name'], inplace=True)\n",
    "data.dropna(subset=['floors_total'], inplace=True)\n",
    "\n",
    "# Меняем тип данных для удобства дальнейшего анализа\n",
    "data['balcony'] = data['balcony'].fillna(value = 0)\n",
    "data['balcony'] = data['balcony'].astype('int')\n",
    "data['floors_total'] = data['floors_total'].astype('int')\n",
    "data['parks_around3000'] = data['parks_around3000'].fillna(value = 0).astype('int')\n",
    "data['ponds_around3000'] = data['ponds_around3000'].fillna(value = 0).astype('int')\n",
    "data['days_exposition'] = data['days_exposition'].fillna(value = 0).astype('int')\n",
    "\n",
    "# Меняем формат времени\n",
    "data['first_day_exposition'] = pd.to_datetime(data['first_day_exposition'], format='%Y-%m-%dT%H:%M:%S')\n",
    "\n",
    "\n",
    "data.isnull().sum()"
   ]
  },
  {
   "cell_type": "markdown",
   "metadata": {},
   "source": [
    "**Вывод:** В данном случае мы избавились от пропусков. По-максимуму, в зависимости от данных в переменных были проведенены соответсвующие операции. Далее очистим еще некоторые аномалии, которые можно найти в данных."
   ]
  },
  {
   "cell_type": "code",
   "execution_count": 7,
   "metadata": {},
   "outputs": [
    {
     "data": {
      "text/html": [
       "<div>\n",
       "<style scoped>\n",
       "    .dataframe tbody tr th:only-of-type {\n",
       "        vertical-align: middle;\n",
       "    }\n",
       "\n",
       "    .dataframe tbody tr th {\n",
       "        vertical-align: top;\n",
       "    }\n",
       "\n",
       "    .dataframe thead th {\n",
       "        text-align: right;\n",
       "    }\n",
       "</style>\n",
       "<table border=\"1\" class=\"dataframe\">\n",
       "  <thead>\n",
       "    <tr style=\"text-align: right;\">\n",
       "      <th></th>\n",
       "      <th>total_area</th>\n",
       "      <th>living_area</th>\n",
       "      <th>kitchen_area</th>\n",
       "    </tr>\n",
       "  </thead>\n",
       "  <tbody>\n",
       "    <tr>\n",
       "      <th>41</th>\n",
       "      <td>74.0</td>\n",
       "      <td>59.0</td>\n",
       "      <td>12.000000</td>\n",
       "    </tr>\n",
       "    <tr>\n",
       "      <th>171</th>\n",
       "      <td>49.0</td>\n",
       "      <td>38.0</td>\n",
       "      <td>10.000000</td>\n",
       "    </tr>\n",
       "    <tr>\n",
       "      <th>184</th>\n",
       "      <td>30.2</td>\n",
       "      <td>26.1</td>\n",
       "      <td>6.200000</td>\n",
       "    </tr>\n",
       "    <tr>\n",
       "      <th>220</th>\n",
       "      <td>37.0</td>\n",
       "      <td>28.0</td>\n",
       "      <td>9.000000</td>\n",
       "    </tr>\n",
       "    <tr>\n",
       "      <th>319</th>\n",
       "      <td>59.7</td>\n",
       "      <td>47.4</td>\n",
       "      <td>6.400000</td>\n",
       "    </tr>\n",
       "    <tr>\n",
       "      <th>...</th>\n",
       "      <td>...</td>\n",
       "      <td>...</td>\n",
       "      <td>...</td>\n",
       "    </tr>\n",
       "    <tr>\n",
       "      <th>23297</th>\n",
       "      <td>48.2</td>\n",
       "      <td>42.2</td>\n",
       "      <td>6.000000</td>\n",
       "    </tr>\n",
       "    <tr>\n",
       "      <th>23328</th>\n",
       "      <td>54.0</td>\n",
       "      <td>40.0</td>\n",
       "      <td>10.000000</td>\n",
       "    </tr>\n",
       "    <tr>\n",
       "      <th>23521</th>\n",
       "      <td>65.0</td>\n",
       "      <td>44.0</td>\n",
       "      <td>15.300000</td>\n",
       "    </tr>\n",
       "    <tr>\n",
       "      <th>23579</th>\n",
       "      <td>24.8</td>\n",
       "      <td>18.0</td>\n",
       "      <td>4.343614</td>\n",
       "    </tr>\n",
       "    <tr>\n",
       "      <th>23680</th>\n",
       "      <td>59.0</td>\n",
       "      <td>52.0</td>\n",
       "      <td>7.000000</td>\n",
       "    </tr>\n",
       "  </tbody>\n",
       "</table>\n",
       "<p>657 rows × 3 columns</p>\n",
       "</div>"
      ],
      "text/plain": [
       "       total_area  living_area  kitchen_area\n",
       "41           74.0         59.0     12.000000\n",
       "171          49.0         38.0     10.000000\n",
       "184          30.2         26.1      6.200000\n",
       "220          37.0         28.0      9.000000\n",
       "319          59.7         47.4      6.400000\n",
       "...           ...          ...           ...\n",
       "23297        48.2         42.2      6.000000\n",
       "23328        54.0         40.0     10.000000\n",
       "23521        65.0         44.0     15.300000\n",
       "23579        24.8         18.0      4.343614\n",
       "23680        59.0         52.0      7.000000\n",
       "\n",
       "[657 rows x 3 columns]"
      ]
     },
     "execution_count": 7,
     "metadata": {},
     "output_type": "execute_result"
    }
   ],
   "source": [
    "\n",
    "data[data['total_area']*0.9 <= (data ['living_area']+data ['kitchen_area'])][['total_area'\n",
    "                                                                                  ,'living_area','kitchen_area']]"
   ]
  },
  {
   "cell_type": "code",
   "execution_count": 8,
   "metadata": {},
   "outputs": [
    {
     "data": {
      "text/plain": [
       "array(['санкт-петербург', 'поселок шушары',\n",
       "       'поселок городского типа янино-1', 'поселок парголово',\n",
       "       'поселок мурино', 'ломоносов', 'сертолово', 'петергоф', 'пушкин',\n",
       "       'деревня кудрово', 'коммунар', 'колпино',\n",
       "       'поселок городского типа красный бор', 'гатчина',\n",
       "       'деревня федоровское', 'выборг', 'кронштадт', 'кировск',\n",
       "       'деревня новое девяткино', 'поселок металлострой',\n",
       "       'поселок городского типа лебяжье',\n",
       "       'поселок городского типа сиверский', 'поселок молодцово',\n",
       "       'поселок городского типа кузьмоловский',\n",
       "       'садовое товарищество новая ропша', 'павловск',\n",
       "       'деревня пикколово', 'всеволожск', 'волхов', 'кингисепп',\n",
       "       'приозерск', 'сестрорецк', 'деревня куттузи', 'поселок аннино',\n",
       "       'поселок городского типа ефимовский', 'поселок плодовое',\n",
       "       'деревня заклинье', 'поселок торковичи', 'поселок первомайское',\n",
       "       'красное село', 'поселок понтонный', 'сясьстрой', 'деревня старая',\n",
       "       'деревня лесколово', 'поселок новый свет', 'сланцы',\n",
       "       'село путилово', 'ивангород', 'мурино', 'шлиссельбург',\n",
       "       'никольское', 'зеленогорск', 'сосновый бор', 'деревня оржицы',\n",
       "       'деревня кальтино', 'кудрово', 'поселок романовка',\n",
       "       'поселок бугры', 'поселок городского типа рощино', 'кириши',\n",
       "       'луга', 'волосово', 'отрадное', 'село павлово', 'поселок оредеж',\n",
       "       'село копорье', 'поселок молодежное', 'тихвин', 'поселок победа',\n",
       "       'деревня нурма', 'поселок городского типа синявино', 'тосно',\n",
       "       'поселок стрельна', 'бокситогорск', 'поселок александровская',\n",
       "       'деревня лопухинка', 'пикалево', 'поселок терволово',\n",
       "       'поселок городского типа советский', 'подпорожье',\n",
       "       'поселок петровское', 'поселок городского типа токсово',\n",
       "       'поселок сельцо', 'поселок городского типа вырица',\n",
       "       'деревня кипень', 'деревня келози', 'деревня вартемяги',\n",
       "       'поселок тельмана', 'поселок севастьяново',\n",
       "       'поселок городского типа большая ижора',\n",
       "       'поселок городского типа павлово', 'деревня агалатово',\n",
       "       'поселок новогорелово', 'поселок городского типа лесогорский',\n",
       "       'деревня лаголово', 'поселок цвелодубово',\n",
       "       'поселок городского типа рахья', 'деревня белогорка',\n",
       "       'поселок заводской', 'поселок городского типа новоселье',\n",
       "       'деревня большие колпаны', 'деревня горбунки', 'деревня батово',\n",
       "       'деревня заневка', 'деревня иссад', 'приморск',\n",
       "       'поселок городского типа федоровское', 'деревня мистолово',\n",
       "       'новая ладога', 'поселок зимитицы', 'поселок барышево',\n",
       "       'деревня разметелево', 'поселок городского типа имени свердлова',\n",
       "       'деревня пеники', 'поселок рябово', 'деревня пудомяги',\n",
       "       'поселок станции корнево', 'деревня низино', 'деревня бегуницы',\n",
       "       'поселок поляны', 'поселок городского типа мга',\n",
       "       'поселок елизаветино', 'поселок городского типа кузнечное',\n",
       "       'деревня колтуши', 'поселок запорожское', 'деревня гостилицы',\n",
       "       'деревня малое карлино', 'поселок мичуринское',\n",
       "       'поселок городского типа имени морозова', 'поселок песочный',\n",
       "       'поселок сосново', 'деревня аро', 'поселок ильичево',\n",
       "       'поселок городского типа тайцы', 'деревня малое верево',\n",
       "       'деревня извара', 'поселок станции вещево', 'село паша',\n",
       "       'деревня калитино', 'поселок городского типа ульяновка',\n",
       "       'деревня чудской бор', 'поселок городского типа дубровка',\n",
       "       'деревня мины', 'поселок войсковицы', 'деревня коркино',\n",
       "       'поселок ропша', 'поселок городского типа приладожский',\n",
       "       'поселок щеглово', 'поселок гаврилово', 'лодейное поле',\n",
       "       'деревня рабитицы', 'поселок городского типа никольский',\n",
       "       'деревня кузьмолово', 'деревня малые колпаны',\n",
       "       'поселок петро-славянка', 'поселок городского типа назия',\n",
       "       'поселок репино', 'поселок углово', 'поселок старая малукса',\n",
       "       'садовое товарищество рахья', 'деревня меньково',\n",
       "       'деревня старые бегуницы', 'поселок саперный', 'поселок семрино',\n",
       "       'поселок глажево', 'поселок кобринское', 'деревня гарболово',\n",
       "       'деревня юкки', 'поселок станции приветнинское',\n",
       "       'деревня мануйлово', 'деревня пчева', 'поселок цвылево',\n",
       "       'поселок мельниково', 'поселок пудость', 'поселок усть-луга',\n",
       "       'светогорск', 'любань', 'поселок селезнево',\n",
       "       'поселок городского типа рябово', 'каменногорск', 'деревня кривко',\n",
       "       'поселок глебычево', 'деревня парицы', 'поселок жилпоселок',\n",
       "       'поселок войскорово', 'село никольское', 'поселок стеклянный',\n",
       "       'поселок городского типа важины', 'поселок мыза-ивановка',\n",
       "       'село русско-высоцкое', 'поселок городского типа форносово',\n",
       "       'село старая ладога', 'поселок житково',\n",
       "       'поселок городского типа виллози', 'деревня лампово',\n",
       "       'деревня шпаньково', 'деревня лаврики', 'поселок сумино',\n",
       "       'поселок возрождение', 'деревня старосиверская',\n",
       "       'поселок кикерино', 'деревня старое хинколово',\n",
       "       'поселок пригородный', 'поселок торфяное',\n",
       "       'поселок городского типа будогощь', 'поселок суходолье',\n",
       "       'поселок красная долина', 'деревня хапо-ое',\n",
       "       'поселок городского типа дружная горка', 'поселок лисий нос',\n",
       "       'деревня яльгелево', 'село рождествено', 'деревня старополье',\n",
       "       'поселок левашово', 'деревня сяськелево', 'деревня камышовка',\n",
       "       'садоводческое некоммерческое товарищество лесная поляна',\n",
       "       'деревня хязельки', 'поселок жилгородок', 'деревня ялгино',\n",
       "       'поселок новый учхоз', 'поселок гончарово', 'поселок почап',\n",
       "       'поселок саперное', 'поселок платформа 69-й километр',\n",
       "       'поселок каложицы', 'деревня фалилеево', 'деревня пельгора',\n",
       "       'деревня торошковичи', 'поселок белоостров', 'поселок алексеевка',\n",
       "       'поселок серебрянский', 'поселок лукаши', 'деревня щеглово',\n",
       "       'деревня тарасово', 'поселок кингисеппский',\n",
       "       'поселок при железнодорожной станции вещево', 'поселок ушаки',\n",
       "       'деревня котлы', 'деревня сижно', 'деревня торосово',\n",
       "       'поселок форт красная горка', 'деревня новолисино',\n",
       "       'поселок станции громово', 'деревня глинка',\n",
       "       'деревня старая пустошь', 'поселок коммунары', 'поселок починок',\n",
       "       'поселок городского типа вознесенье', 'деревня разбегаево',\n",
       "       'поселок гладкое',\n",
       "       'поселок при железнодорожной станции приветнинское',\n",
       "       'поселок тесово-4', 'деревня бор', 'поселок коробицыно',\n",
       "       'деревня большая вруда', 'деревня курковицы', 'поселок кобралово',\n",
       "       'деревня суоранда', 'поселок городского типа кондратьево',\n",
       "       'коттеджный поселок счастье', 'поселок любань', 'деревня реброво',\n",
       "       'деревня зимитицы', 'деревня тойворово', 'поселок семиозерье',\n",
       "       'поселок лесное', 'поселок совхозный', 'поселок ленинское',\n",
       "       'поселок суйда', 'деревня нижние осельки', 'поселок станции свирь',\n",
       "       'поселок перово', 'высоцк', 'поселок гарболово', 'село шум',\n",
       "       'поселок котельский', 'поселок станции лужайка',\n",
       "       'деревня большая пустомержа', 'поселок красносельское',\n",
       "       'деревня вахнова кара', 'деревня пижма',\n",
       "       'коттеджный поселок кивеннапа север', 'поселок ромашки',\n",
       "       'деревня каськово', 'деревня куровицы', 'поселок плоское',\n",
       "       'поселок кирпичное', 'деревня ям-тесово', 'деревня раздолье',\n",
       "       'деревня терпилицы', 'поселок шугозеро', 'деревня ваганово',\n",
       "       'поселок пушное', 'садовое товарищество садко',\n",
       "       'поселок усть-ижора', 'деревня выскатка',\n",
       "       'поселок городского типа свирьстрой', 'поселок громово',\n",
       "       'деревня кисельня', 'деревня трубников бор', 'поселок калитино',\n",
       "       'поселок высокоключевой', 'садовое товарищество приладожский',\n",
       "       'поселок пансионат зеленый бор', 'деревня ненимяки',\n",
       "       'деревня снегиревка', 'деревня рапполово', 'деревня пустынка',\n",
       "       'поселок рабитицы', 'деревня большой сабск', 'деревня русско',\n",
       "       'деревня лупполово', 'деревня большое рейзино',\n",
       "       'деревня малая романовка', 'поселок дружноселье', 'поселок пчевжа',\n",
       "       'поселок володарское', 'деревня нижняя',\n",
       "       'коттеджный поселок лесное', 'деревня тихковицы',\n",
       "       'деревня борисова грива', 'поселок дзержинского'], dtype=object)"
      ]
     },
     "execution_count": 8,
     "metadata": {},
     "output_type": "execute_result"
    }
   ],
   "source": [
    "data['locality_name'] = data['locality_name'].str.lower()\n",
    "data['locality_name'] = data['locality_name'].str.replace('ё', 'е')\n",
    "data['locality_name'] = data['locality_name'].str.replace('городской поселок', 'поселок городского типа')\n",
    "data['locality_name'].unique()"
   ]
  },
  {
   "cell_type": "markdown",
   "metadata": {},
   "source": [
    "На первом этапе обработали аномалии в названиях населенных пунктов, далее обратимся к устранению аномалий в высоте потолков\n"
   ]
  },
  {
   "cell_type": "code",
   "execution_count": 9,
   "metadata": {
    "scrolled": false
   },
   "outputs": [
    {
     "data": {
      "text/plain": [
       "array([ 2.7 ,  2.65,  3.03,  2.5 ,  2.67,  2.56,  3.05,  2.75,  2.6 ,\n",
       "        2.9 ,  2.8 ,  2.55,  3.  ,  3.2 ,  2.61,  3.25,  3.45,  2.77,\n",
       "        2.85,  2.64,  2.57,  4.15,  3.5 ,  3.3 ,  2.71,  4.  ,  2.47,\n",
       "        2.73,  2.84,  3.1 ,  2.34,  3.4 ,  3.06,  2.72,  2.54,  2.51,\n",
       "        2.78,  2.76,  5.  ,  2.58,  3.7 ,  2.52,  5.2 ,  2.87,  2.66,\n",
       "        2.59,  2.  ,  2.45,  3.6 ,  2.92,  3.11,  3.13,  3.8 ,  3.15,\n",
       "        3.55,  3.16,  3.62,  3.12,  2.53,  2.74,  2.96,  2.46,  5.3 ,\n",
       "        2.79,  2.95,  4.06,  2.94,  3.82,  3.54,  3.53,  2.83,  4.7 ,\n",
       "        2.4 ,  3.38,  3.01,  5.6 ,  3.65,  3.9 ,  3.18,  3.35,  2.3 ,\n",
       "        3.57,  2.48,  2.62,  2.82,  3.98,  2.63,  3.83,  3.52,  3.95,\n",
       "        3.75,  2.88,  3.67,  3.87,  3.66,  3.85,  3.86,  4.19,  3.24,\n",
       "        4.8 ,  4.5 ,  4.2 ,  3.36,  6.4 ,  3.08,  3.68,  3.07,  3.37,\n",
       "        3.09,  8.  ,  3.26,  3.34,  2.81,  3.44,  2.97,  3.14,  4.37,\n",
       "        2.68,  3.22,  3.27,  5.4 ,  4.1 ,  2.93,  3.46,  3.47,  3.33,\n",
       "        3.63,  3.32,  1.2 ,  8.3 ,  2.98,  2.86,  3.17,  4.4 ,  3.28,\n",
       "        3.04,  4.45,  5.5 ,  3.84,  3.23,  3.02,  3.21,  3.43,  3.78,\n",
       "        4.3 ,  3.39,  2.69,  3.31,  4.65,  3.56,  2.2 ,  3.51,  3.93,\n",
       "        3.42,  2.99,  3.49,  4.14,  2.91,  3.88,  1.75,  4.25,  3.29,\n",
       "        2.25,  3.76,  3.69,  6.  ,  4.52,  2.89,  3.58,  5.8 ,  2.49,\n",
       "        4.9 ,  3.48,  2.06,  1.  , 20.  ,  3.59])"
      ]
     },
     "execution_count": 9,
     "metadata": {},
     "output_type": "execute_result"
    }
   ],
   "source": [
    "data.loc[(data['ceiling_height']>=10), 'ceiling_height'] = data.loc[(data['ceiling_height']>=10), 'ceiling_height']/ 5\n",
    "data['ceiling_height'].unique()      "
   ]
  },
  {
   "cell_type": "markdown",
   "metadata": {},
   "source": [
    "**Вывод:** В результате выполнения кода удалось избавиться от откровенно неверных значений в высоте потолков, а также в ошибках в названии населенных пунктов"
   ]
  },
  {
   "cell_type": "code",
   "execution_count": 12,
   "metadata": {},
   "outputs": [],
   "source": [
    "\n",
    "data = data[data['floors_total']<30]\n",
    "data = data[data['rooms']<5]\n",
    "data = data[data['total_area']<200]\n",
    "\n",
    "# Предположим, что в СПБ нет домов выше 30 этажей"
   ]
  },
  {
   "cell_type": "code",
   "execution_count": 13,
   "metadata": {},
   "outputs": [
    {
     "data": {
      "text/html": [
       "<style  type=\"text/css\" >\n",
       "</style><table id=\"T_d0f02_\" ><thead>    <tr>        <th class=\"blank level0\" ></th>        <th class=\"col_heading level0 col0\" >rooms</th>        <th class=\"col_heading level0 col1\" >total_area</th>        <th class=\"col_heading level0 col2\" >ceiling_height</th>        <th class=\"col_heading level0 col3\" >days_exposition</th>        <th class=\"col_heading level0 col4\" >last_price</th>        <th class=\"col_heading level0 col5\" >living_area</th>        <th class=\"col_heading level0 col6\" >kitchen_area</th>        <th class=\"col_heading level0 col7\" >floor</th>        <th class=\"col_heading level0 col8\" >floors_total</th>    </tr></thead><tbody>\n",
       "                <tr>\n",
       "                        <th id=\"T_d0f02_level0_row0\" class=\"row_heading level0 row0\" >count</th>\n",
       "                        <td id=\"T_d0f02_row0_col0\" class=\"data row0 col0\" >22,955.00</td>\n",
       "                        <td id=\"T_d0f02_row0_col1\" class=\"data row0 col1\" >22,955.00</td>\n",
       "                        <td id=\"T_d0f02_row0_col2\" class=\"data row0 col2\" >22,955.00</td>\n",
       "                        <td id=\"T_d0f02_row0_col3\" class=\"data row0 col3\" >22,955.00</td>\n",
       "                        <td id=\"T_d0f02_row0_col4\" class=\"data row0 col4\" >22,955.00</td>\n",
       "                        <td id=\"T_d0f02_row0_col5\" class=\"data row0 col5\" >22,955.00</td>\n",
       "                        <td id=\"T_d0f02_row0_col6\" class=\"data row0 col6\" >22,955.00</td>\n",
       "                        <td id=\"T_d0f02_row0_col7\" class=\"data row0 col7\" >22,955.00</td>\n",
       "                        <td id=\"T_d0f02_row0_col8\" class=\"data row0 col8\" >22,955.00</td>\n",
       "            </tr>\n",
       "            <tr>\n",
       "                        <th id=\"T_d0f02_level0_row1\" class=\"row_heading level0 row1\" >min</th>\n",
       "                        <td id=\"T_d0f02_row1_col0\" class=\"data row1 col0\" >0.00</td>\n",
       "                        <td id=\"T_d0f02_row1_col1\" class=\"data row1 col1\" >12.00</td>\n",
       "                        <td id=\"T_d0f02_row1_col2\" class=\"data row1 col2\" >1.00</td>\n",
       "                        <td id=\"T_d0f02_row1_col3\" class=\"data row1 col3\" >0.00</td>\n",
       "                        <td id=\"T_d0f02_row1_col4\" class=\"data row1 col4\" >12,190.00</td>\n",
       "                        <td id=\"T_d0f02_row1_col5\" class=\"data row1 col5\" >2.00</td>\n",
       "                        <td id=\"T_d0f02_row1_col6\" class=\"data row1 col6\" >1.30</td>\n",
       "                        <td id=\"T_d0f02_row1_col7\" class=\"data row1 col7\" >1.00</td>\n",
       "                        <td id=\"T_d0f02_row1_col8\" class=\"data row1 col8\" >1.00</td>\n",
       "            </tr>\n",
       "            <tr>\n",
       "                        <th id=\"T_d0f02_level0_row2\" class=\"row_heading level0 row2\" >max</th>\n",
       "                        <td id=\"T_d0f02_row2_col0\" class=\"data row2 col0\" >4.00</td>\n",
       "                        <td id=\"T_d0f02_row2_col1\" class=\"data row2 col1\" >199.20</td>\n",
       "                        <td id=\"T_d0f02_row2_col2\" class=\"data row2 col2\" >20.00</td>\n",
       "                        <td id=\"T_d0f02_row2_col3\" class=\"data row2 col3\" >1,580.00</td>\n",
       "                        <td id=\"T_d0f02_row2_col4\" class=\"data row2 col4\" >330,000,000.00</td>\n",
       "                        <td id=\"T_d0f02_row2_col5\" class=\"data row2 col5\" >164.70</td>\n",
       "                        <td id=\"T_d0f02_row2_col6\" class=\"data row2 col6\" >93.20</td>\n",
       "                        <td id=\"T_d0f02_row2_col7\" class=\"data row2 col7\" >27.00</td>\n",
       "                        <td id=\"T_d0f02_row2_col8\" class=\"data row2 col8\" >29.00</td>\n",
       "            </tr>\n",
       "    </tbody></table>"
      ],
      "text/plain": [
       "<pandas.io.formats.style.Styler at 0x7f06ab797e20>"
      ]
     },
     "execution_count": 13,
     "metadata": {},
     "output_type": "execute_result"
    }
   ],
   "source": [
    "(\n",
    "    data[['rooms', 'total_area', 'ceiling_height', 'days_exposition', 'last_price', 'living_area',  'kitchen_area',\n",
    "          'floor', 'floors_total']]\n",
    "    .apply (['count', 'min', 'max'])   \n",
    "    .style.format(\"{:,.2f}\")\n",
    ")"
   ]
  },
  {
   "cell_type": "code",
   "execution_count": 14,
   "metadata": {},
   "outputs": [
    {
     "data": {
      "text/html": [
       "<div>\n",
       "<style scoped>\n",
       "    .dataframe tbody tr th:only-of-type {\n",
       "        vertical-align: middle;\n",
       "    }\n",
       "\n",
       "    .dataframe tbody tr th {\n",
       "        vertical-align: top;\n",
       "    }\n",
       "\n",
       "    .dataframe thead th {\n",
       "        text-align: right;\n",
       "    }\n",
       "</style>\n",
       "<table border=\"1\" class=\"dataframe\">\n",
       "  <thead>\n",
       "    <tr style=\"text-align: right;\">\n",
       "      <th></th>\n",
       "      <th>rooms</th>\n",
       "    </tr>\n",
       "  </thead>\n",
       "  <tbody>\n",
       "    <tr>\n",
       "      <th>1</th>\n",
       "      <td>7994</td>\n",
       "    </tr>\n",
       "    <tr>\n",
       "      <th>2</th>\n",
       "      <td>7881</td>\n",
       "    </tr>\n",
       "    <tr>\n",
       "      <th>3</th>\n",
       "      <td>5759</td>\n",
       "    </tr>\n",
       "    <tr>\n",
       "      <th>4</th>\n",
       "      <td>1130</td>\n",
       "    </tr>\n",
       "    <tr>\n",
       "      <th>0</th>\n",
       "      <td>191</td>\n",
       "    </tr>\n",
       "  </tbody>\n",
       "</table>\n",
       "</div>"
      ],
      "text/plain": [
       "   rooms\n",
       "1   7994\n",
       "2   7881\n",
       "3   5759\n",
       "4   1130\n",
       "0    191"
      ]
     },
     "execution_count": 14,
     "metadata": {},
     "output_type": "execute_result"
    }
   ],
   "source": [
    "# check\n",
    "data.rooms.value_counts().to_frame()"
   ]
  },
  {
   "cell_type": "code",
   "execution_count": 15,
   "metadata": {
    "scrolled": true
   },
   "outputs": [
    {
     "data": {
      "image/png": "[encoded data removed]",
      "text/plain": [
       "<Figure size 1080x216 with 1 Axes>"
      ]
     },
     "metadata": {
      "needs_background": "light"
     },
     "output_type": "display_data"
    }
   ],
   "source": [
    "# check\n",
    "data.total_area.hist(bins = 150, figsize = (15,3));"
   ]
  },
  {
   "cell_type": "code",
   "execution_count": 16,
   "metadata": {
    "scrolled": false
   },
   "outputs": [
    {
     "data": {
      "image/png": "[encoded data removed]",
      "text/plain": [
       "<Figure size 1080x216 with 1 Axes>"
      ]
     },
     "metadata": {
      "needs_background": "light"
     },
     "output_type": "display_data"
    }
   ],
   "source": [
    "# check\n",
    "data.total_area.hist(bins = 150, figsize = (15,3), range = (180,500));"
   ]
  },
  {
   "cell_type": "code",
   "execution_count": 17,
   "metadata": {
    "scrolled": false
   },
   "outputs": [
    {
     "data": {
      "text/html": [
       "<style  type=\"text/css\" >\n",
       "</style><table id=\"T_40954_\" ><thead>    <tr>        <th class=\"blank level0\" ></th>        <th class=\"col_heading level0 col0\" >rooms</th>        <th class=\"col_heading level0 col1\" >total_area</th>        <th class=\"col_heading level0 col2\" >ceiling_height</th>        <th class=\"col_heading level0 col3\" >days_exposition</th>        <th class=\"col_heading level0 col4\" >last_price</th>        <th class=\"col_heading level0 col5\" >living_area</th>        <th class=\"col_heading level0 col6\" >kitchen_area</th>        <th class=\"col_heading level0 col7\" >floor</th>        <th class=\"col_heading level0 col8\" >floors_total</th>    </tr></thead><tbody>\n",
       "                <tr>\n",
       "                        <th id=\"T_40954_level0_row0\" class=\"row_heading level0 row0\" >count</th>\n",
       "                        <td id=\"T_40954_row0_col0\" class=\"data row0 col0\" >22,955.00</td>\n",
       "                        <td id=\"T_40954_row0_col1\" class=\"data row0 col1\" >22,955.00</td>\n",
       "                        <td id=\"T_40954_row0_col2\" class=\"data row0 col2\" >22,955.00</td>\n",
       "                        <td id=\"T_40954_row0_col3\" class=\"data row0 col3\" >22,955.00</td>\n",
       "                        <td id=\"T_40954_row0_col4\" class=\"data row0 col4\" >22,955.00</td>\n",
       "                        <td id=\"T_40954_row0_col5\" class=\"data row0 col5\" >22,955.00</td>\n",
       "                        <td id=\"T_40954_row0_col6\" class=\"data row0 col6\" >22,955.00</td>\n",
       "                        <td id=\"T_40954_row0_col7\" class=\"data row0 col7\" >22,955.00</td>\n",
       "                        <td id=\"T_40954_row0_col8\" class=\"data row0 col8\" >22,955.00</td>\n",
       "            </tr>\n",
       "            <tr>\n",
       "                        <th id=\"T_40954_level0_row1\" class=\"row_heading level0 row1\" >min</th>\n",
       "                        <td id=\"T_40954_row1_col0\" class=\"data row1 col0\" >0.00</td>\n",
       "                        <td id=\"T_40954_row1_col1\" class=\"data row1 col1\" >12.00</td>\n",
       "                        <td id=\"T_40954_row1_col2\" class=\"data row1 col2\" >1.00</td>\n",
       "                        <td id=\"T_40954_row1_col3\" class=\"data row1 col3\" >0.00</td>\n",
       "                        <td id=\"T_40954_row1_col4\" class=\"data row1 col4\" >12,190.00</td>\n",
       "                        <td id=\"T_40954_row1_col5\" class=\"data row1 col5\" >2.00</td>\n",
       "                        <td id=\"T_40954_row1_col6\" class=\"data row1 col6\" >1.30</td>\n",
       "                        <td id=\"T_40954_row1_col7\" class=\"data row1 col7\" >1.00</td>\n",
       "                        <td id=\"T_40954_row1_col8\" class=\"data row1 col8\" >1.00</td>\n",
       "            </tr>\n",
       "            <tr>\n",
       "                        <th id=\"T_40954_level0_row2\" class=\"row_heading level0 row2\" >max</th>\n",
       "                        <td id=\"T_40954_row2_col0\" class=\"data row2 col0\" >4.00</td>\n",
       "                        <td id=\"T_40954_row2_col1\" class=\"data row2 col1\" >199.20</td>\n",
       "                        <td id=\"T_40954_row2_col2\" class=\"data row2 col2\" >20.00</td>\n",
       "                        <td id=\"T_40954_row2_col3\" class=\"data row2 col3\" >1,580.00</td>\n",
       "                        <td id=\"T_40954_row2_col4\" class=\"data row2 col4\" >330,000,000.00</td>\n",
       "                        <td id=\"T_40954_row2_col5\" class=\"data row2 col5\" >164.70</td>\n",
       "                        <td id=\"T_40954_row2_col6\" class=\"data row2 col6\" >93.20</td>\n",
       "                        <td id=\"T_40954_row2_col7\" class=\"data row2 col7\" >27.00</td>\n",
       "                        <td id=\"T_40954_row2_col8\" class=\"data row2 col8\" >29.00</td>\n",
       "            </tr>\n",
       "    </tbody></table>"
      ],
      "text/plain": [
       "<pandas.io.formats.style.Styler at 0x7f06a1ce8970>"
      ]
     },
     "execution_count": 17,
     "metadata": {},
     "output_type": "execute_result"
    }
   ],
   "source": [
    "# check\n",
    "\n",
    "# Показатели о кол-ве объявлений в датасете, минимальных и максимальных значениях \n",
    "# в выбранных параметрах о продаже квартир\n",
    "# сырые данные\n",
    "\n",
    "(\n",
    "    data[['rooms', 'total_area', 'ceiling_height', 'days_exposition', 'last_price', 'living_area',  'kitchen_area',\n",
    "          'floor', 'floors_total']]\n",
    "    .apply (['count', 'min', 'max'])   \n",
    "    .style.format(\"{:,.2f}\")\n",
    ")"
   ]
  },
  {
   "cell_type": "markdown",
   "metadata": {},
   "source": [
    "#### check nan"
   ]
  },
  {
   "cell_type": "code",
   "execution_count": 18,
   "metadata": {
    "scrolled": false
   },
   "outputs": [
    {
     "name": "stdout",
     "output_type": "stream",
     "text": [
      "<class 'pandas.core.frame.DataFrame'>\n",
      "Int64Index: 22955 entries, 0 to 23698\n",
      "Data columns (total 22 columns):\n",
      " #   Column                Non-Null Count  Dtype         \n",
      "---  ------                --------------  -----         \n",
      " 0   total_images          22955 non-null  int64         \n",
      " 1   last_price            22955 non-null  float64       \n",
      " 2   total_area            22955 non-null  float64       \n",
      " 3   first_day_exposition  22955 non-null  datetime64[ns]\n",
      " 4   rooms                 22955 non-null  int64         \n",
      " 5   ceiling_height        22955 non-null  float64       \n",
      " 6   floors_total          22955 non-null  int64         \n",
      " 7   living_area           22955 non-null  float64       \n",
      " 8   floor                 22955 non-null  int64         \n",
      " 9   is_apartment          22955 non-null  bool          \n",
      " 10  studio                22955 non-null  bool          \n",
      " 11  open_plan             22955 non-null  bool          \n",
      " 12  kitchen_area          22955 non-null  float64       \n",
      " 13  balcony               22955 non-null  int64         \n",
      " 14  locality_name         22955 non-null  object        \n",
      " 15  airports_nearest      22955 non-null  float64       \n",
      " 16  city_centers_nearest  17485 non-null  float64       \n",
      " 17  parks_around3000      22955 non-null  int64         \n",
      " 18  parks_nearest         22955 non-null  float64       \n",
      " 19  ponds_around3000      22955 non-null  int64         \n",
      " 20  ponds_nearest         22955 non-null  float64       \n",
      " 21  days_exposition       22955 non-null  int64         \n",
      "dtypes: bool(3), datetime64[ns](1), float64(9), int64(8), object(1)\n",
      "memory usage: 3.6+ MB\n"
     ]
    }
   ],
   "source": [
    "# check\n",
    "data.info()"
   ]
  },
  {
   "cell_type": "code",
   "execution_count": 19,
   "metadata": {
    "scrolled": false
   },
   "outputs": [
    {
     "data": {
      "image/png": "[encoded data removed]",
      "text/plain": [
       "<Figure size 1080x216 with 1 Axes>"
      ]
     },
     "metadata": {
      "needs_background": "light"
     },
     "output_type": "display_data"
    }
   ],
   "source": [
    "# check\n",
    "data.hist(column = 'days_exposition', bins = 50, figsize = (15,3));"
   ]
  },
  {
   "cell_type": "code",
   "execution_count": 20,
   "metadata": {
    "scrolled": false
   },
   "outputs": [
    {
     "data": {
      "image/png": "[encoded data removed]",
      "text/plain": [
       "<Figure size 1080x216 with 1 Axes>"
      ]
     },
     "metadata": {
      "needs_background": "light"
     },
     "output_type": "display_data"
    }
   ],
   "source": [
    "# check\n",
    "data.hist(column = 'days_exposition', bins = 50, figsize = (15,3), range = (500, 1600));"
   ]
  },
  {
   "cell_type": "code",
   "execution_count": 21,
   "metadata": {
    "scrolled": false
   },
   "outputs": [
    {
     "data": {
      "image/png": "[encoded data removed]",
      "text/plain": [
       "<Figure size 1080x216 with 1 Axes>"
      ]
     },
     "metadata": {
      "needs_background": "light"
     },
     "output_type": "display_data"
    }
   ],
   "source": [
    "# check\n",
    "data.hist(column = 'days_exposition', bins = 50, figsize = (15,3), range = (1000, 1600));"
   ]
  },
  {
   "cell_type": "code",
   "execution_count": 22,
   "metadata": {
    "scrolled": false
   },
   "outputs": [
    {
     "data": {
      "text/html": [
       "<style  type=\"text/css\" >\n",
       "</style><table id=\"T_e7795_\" ><thead>    <tr>        <th class=\"blank level0\" ></th>        <th class=\"col_heading level0 col0\" >rooms</th>        <th class=\"col_heading level0 col1\" >total_area</th>        <th class=\"col_heading level0 col2\" >ceiling_height</th>        <th class=\"col_heading level0 col3\" >days_exposition</th>        <th class=\"col_heading level0 col4\" >last_price</th>        <th class=\"col_heading level0 col5\" >living_area</th>        <th class=\"col_heading level0 col6\" >kitchen_area</th>        <th class=\"col_heading level0 col7\" >floor</th>        <th class=\"col_heading level0 col8\" >floors_total</th>    </tr></thead><tbody>\n",
       "                <tr>\n",
       "                        <th id=\"T_e7795_level0_row0\" class=\"row_heading level0 row0\" >count</th>\n",
       "                        <td id=\"T_e7795_row0_col0\" class=\"data row0 col0\" >22,955.00</td>\n",
       "                        <td id=\"T_e7795_row0_col1\" class=\"data row0 col1\" >22,955.00</td>\n",
       "                        <td id=\"T_e7795_row0_col2\" class=\"data row0 col2\" >22,955.00</td>\n",
       "                        <td id=\"T_e7795_row0_col3\" class=\"data row0 col3\" >22,955.00</td>\n",
       "                        <td id=\"T_e7795_row0_col4\" class=\"data row0 col4\" >22,955.00</td>\n",
       "                        <td id=\"T_e7795_row0_col5\" class=\"data row0 col5\" >22,955.00</td>\n",
       "                        <td id=\"T_e7795_row0_col6\" class=\"data row0 col6\" >22,955.00</td>\n",
       "                        <td id=\"T_e7795_row0_col7\" class=\"data row0 col7\" >22,955.00</td>\n",
       "                        <td id=\"T_e7795_row0_col8\" class=\"data row0 col8\" >22,955.00</td>\n",
       "            </tr>\n",
       "            <tr>\n",
       "                        <th id=\"T_e7795_level0_row1\" class=\"row_heading level0 row1\" >min</th>\n",
       "                        <td id=\"T_e7795_row1_col0\" class=\"data row1 col0\" >0.00</td>\n",
       "                        <td id=\"T_e7795_row1_col1\" class=\"data row1 col1\" >12.00</td>\n",
       "                        <td id=\"T_e7795_row1_col2\" class=\"data row1 col2\" >1.00</td>\n",
       "                        <td id=\"T_e7795_row1_col3\" class=\"data row1 col3\" >0.00</td>\n",
       "                        <td id=\"T_e7795_row1_col4\" class=\"data row1 col4\" >12,190.00</td>\n",
       "                        <td id=\"T_e7795_row1_col5\" class=\"data row1 col5\" >2.00</td>\n",
       "                        <td id=\"T_e7795_row1_col6\" class=\"data row1 col6\" >1.30</td>\n",
       "                        <td id=\"T_e7795_row1_col7\" class=\"data row1 col7\" >1.00</td>\n",
       "                        <td id=\"T_e7795_row1_col8\" class=\"data row1 col8\" >1.00</td>\n",
       "            </tr>\n",
       "            <tr>\n",
       "                        <th id=\"T_e7795_level0_row2\" class=\"row_heading level0 row2\" >max</th>\n",
       "                        <td id=\"T_e7795_row2_col0\" class=\"data row2 col0\" >4.00</td>\n",
       "                        <td id=\"T_e7795_row2_col1\" class=\"data row2 col1\" >199.20</td>\n",
       "                        <td id=\"T_e7795_row2_col2\" class=\"data row2 col2\" >20.00</td>\n",
       "                        <td id=\"T_e7795_row2_col3\" class=\"data row2 col3\" >1,580.00</td>\n",
       "                        <td id=\"T_e7795_row2_col4\" class=\"data row2 col4\" >330,000,000.00</td>\n",
       "                        <td id=\"T_e7795_row2_col5\" class=\"data row2 col5\" >164.70</td>\n",
       "                        <td id=\"T_e7795_row2_col6\" class=\"data row2 col6\" >93.20</td>\n",
       "                        <td id=\"T_e7795_row2_col7\" class=\"data row2 col7\" >27.00</td>\n",
       "                        <td id=\"T_e7795_row2_col8\" class=\"data row2 col8\" >29.00</td>\n",
       "            </tr>\n",
       "    </tbody></table>"
      ],
      "text/plain": [
       "<pandas.io.formats.style.Styler at 0x7f06a23e7b50>"
      ]
     },
     "execution_count": 22,
     "metadata": {},
     "output_type": "execute_result"
    }
   ],
   "source": [
    "# check\n",
    "\n",
    "# Показатели о кол-ве объявлений в датасете, минимальных и максимальных значениях \n",
    "# в выбранных параметрах о продаже квартир\n",
    "\n",
    "\n",
    "(\n",
    "    data[['rooms', 'total_area', 'ceiling_height', 'days_exposition', 'last_price', 'living_area',  'kitchen_area',\n",
    "          'floor', 'floors_total']]\n",
    "    .apply (['count', 'min', 'max'])   \n",
    "    .style.format(\"{:,.2f}\")\n",
    ")"
   ]
  },
  {
   "cell_type": "code",
   "execution_count": 23,
   "metadata": {},
   "outputs": [
    {
     "name": "stdout",
     "output_type": "stream",
     "text": [
      "<class 'pandas.core.frame.DataFrame'>\n",
      "Int64Index: 22955 entries, 0 to 23698\n",
      "Data columns (total 22 columns):\n",
      " #   Column                Non-Null Count  Dtype         \n",
      "---  ------                --------------  -----         \n",
      " 0   total_images          22955 non-null  int64         \n",
      " 1   last_price            22955 non-null  float64       \n",
      " 2   total_area            22955 non-null  float64       \n",
      " 3   first_day_exposition  22955 non-null  datetime64[ns]\n",
      " 4   rooms                 22955 non-null  int64         \n",
      " 5   ceiling_height        22955 non-null  float64       \n",
      " 6   floors_total          22955 non-null  int64         \n",
      " 7   living_area           22955 non-null  float64       \n",
      " 8   floor                 22955 non-null  int64         \n",
      " 9   is_apartment          22955 non-null  bool          \n",
      " 10  studio                22955 non-null  bool          \n",
      " 11  open_plan             22955 non-null  bool          \n",
      " 12  kitchen_area          22955 non-null  float64       \n",
      " 13  balcony               22955 non-null  int64         \n",
      " 14  locality_name         22955 non-null  object        \n",
      " 15  airports_nearest      22955 non-null  float64       \n",
      " 16  city_centers_nearest  17485 non-null  float64       \n",
      " 17  parks_around3000      22955 non-null  int64         \n",
      " 18  parks_nearest         22955 non-null  float64       \n",
      " 19  ponds_around3000      22955 non-null  int64         \n",
      " 20  ponds_nearest         22955 non-null  float64       \n",
      " 21  days_exposition       22955 non-null  int64         \n",
      "dtypes: bool(3), datetime64[ns](1), float64(9), int64(8), object(1)\n",
      "memory usage: 3.6+ MB\n"
     ]
    }
   ],
   "source": [
    "data.info()"
   ]
  },
  {
   "cell_type": "code",
   "execution_count": 24,
   "metadata": {
    "scrolled": false
   },
   "outputs": [
    {
     "data": {
      "image/png": "[encoded data removed]",
      "text/plain": [
       "<Figure size 1080x216 with 1 Axes>"
      ]
     },
     "metadata": {
      "needs_background": "light"
     },
     "output_type": "display_data"
    }
   ],
   "source": [
    "# check\n",
    "data.hist(column = 'kitchen_area', bins = 50, figsize = (15,3), range = (0,5));"
   ]
  },
  {
   "cell_type": "code",
   "execution_count": 25,
   "metadata": {
    "scrolled": false
   },
   "outputs": [
    {
     "data": {
      "image/png": "[encoded data removed]",
      "text/plain": [
       "<Figure size 1080x216 with 1 Axes>"
      ]
     },
     "metadata": {
      "needs_background": "light"
     },
     "output_type": "display_data"
    }
   ],
   "source": [
    "# check\n",
    "data.hist(column = 'total_area', bins = 50, figsize = (15,3), range = (0,20));"
   ]
  },
  {
   "cell_type": "code",
   "execution_count": 26,
   "metadata": {},
   "outputs": [
    {
     "data": {
      "image/png": "[encoded data removed]",
      "text/plain": [
       "<Figure size 1080x216 with 1 Axes>"
      ]
     },
     "metadata": {
      "needs_background": "light"
     },
     "output_type": "display_data"
    }
   ],
   "source": [
    "data.hist(column = 'living_area', bins = 50, figsize = (15,3), range = (0,30));"
   ]
  },
  {
   "cell_type": "code",
   "execution_count": 27,
   "metadata": {
    "scrolled": false
   },
   "outputs": [
    {
     "name": "stdout",
     "output_type": "stream",
     "text": [
      "<class 'pandas.core.frame.DataFrame'>\n",
      "Int64Index: 22955 entries, 0 to 23698\n",
      "Data columns (total 22 columns):\n",
      " #   Column                Non-Null Count  Dtype         \n",
      "---  ------                --------------  -----         \n",
      " 0   total_images          22955 non-null  int64         \n",
      " 1   last_price            22955 non-null  float64       \n",
      " 2   total_area            22955 non-null  float64       \n",
      " 3   first_day_exposition  22955 non-null  datetime64[ns]\n",
      " 4   rooms                 22955 non-null  int64         \n",
      " 5   ceiling_height        22955 non-null  float64       \n",
      " 6   floors_total          22955 non-null  int64         \n",
      " 7   living_area           22955 non-null  float64       \n",
      " 8   floor                 22955 non-null  int64         \n",
      " 9   is_apartment          22955 non-null  bool          \n",
      " 10  studio                22955 non-null  bool          \n",
      " 11  open_plan             22955 non-null  bool          \n",
      " 12  kitchen_area          22955 non-null  float64       \n",
      " 13  balcony               22955 non-null  int64         \n",
      " 14  locality_name         22955 non-null  object        \n",
      " 15  airports_nearest      22955 non-null  float64       \n",
      " 16  city_centers_nearest  17485 non-null  float64       \n",
      " 17  parks_around3000      22955 non-null  int64         \n",
      " 18  parks_nearest         22955 non-null  float64       \n",
      " 19  ponds_around3000      22955 non-null  int64         \n",
      " 20  ponds_nearest         22955 non-null  float64       \n",
      " 21  days_exposition       22955 non-null  int64         \n",
      "dtypes: bool(3), datetime64[ns](1), float64(9), int64(8), object(1)\n",
      "memory usage: 3.6+ MB\n"
     ]
    }
   ],
   "source": [
    "# check \n",
    "data.info()"
   ]
  },
  {
   "cell_type": "code",
   "execution_count": 28,
   "metadata": {},
   "outputs": [
    {
     "data": {
      "text/html": [
       "<style  type=\"text/css\" >\n",
       "</style><table id=\"T_1650e_\" ><thead>    <tr>        <th class=\"blank level0\" ></th>        <th class=\"col_heading level0 col0\" >rooms</th>        <th class=\"col_heading level0 col1\" >total_area</th>        <th class=\"col_heading level0 col2\" >ceiling_height</th>        <th class=\"col_heading level0 col3\" >days_exposition</th>        <th class=\"col_heading level0 col4\" >last_price</th>        <th class=\"col_heading level0 col5\" >living_area</th>        <th class=\"col_heading level0 col6\" >kitchen_area</th>        <th class=\"col_heading level0 col7\" >floor</th>        <th class=\"col_heading level0 col8\" >floors_total</th>    </tr></thead><tbody>\n",
       "                <tr>\n",
       "                        <th id=\"T_1650e_level0_row0\" class=\"row_heading level0 row0\" >0.01</th>\n",
       "                        <td id=\"T_1650e_row0_col0\" class=\"data row0 col0\" >1.00</td>\n",
       "                        <td id=\"T_1650e_row0_col1\" class=\"data row0 col1\" >25.20</td>\n",
       "                        <td id=\"T_1650e_row0_col2\" class=\"data row0 col2\" >2.50</td>\n",
       "                        <td id=\"T_1650e_row0_col3\" class=\"data row0 col3\" >0.00</td>\n",
       "                        <td id=\"T_1650e_row0_col4\" class=\"data row0 col4\" >1,000,000.00</td>\n",
       "                        <td id=\"T_1650e_row0_col5\" class=\"data row0 col5\" >13.00</td>\n",
       "                        <td id=\"T_1650e_row0_col6\" class=\"data row0 col6\" >4.38</td>\n",
       "                        <td id=\"T_1650e_row0_col7\" class=\"data row0 col7\" >1.00</td>\n",
       "                        <td id=\"T_1650e_row0_col8\" class=\"data row0 col8\" >2.00</td>\n",
       "            </tr>\n",
       "            <tr>\n",
       "                        <th id=\"T_1650e_level0_row1\" class=\"row_heading level0 row1\" >0.5</th>\n",
       "                        <td id=\"T_1650e_row1_col0\" class=\"data row1 col0\" >2.00</td>\n",
       "                        <td id=\"T_1650e_row1_col1\" class=\"data row1 col1\" >51.00</td>\n",
       "                        <td id=\"T_1650e_row1_col2\" class=\"data row1 col2\" >2.65</td>\n",
       "                        <td id=\"T_1650e_row1_col3\" class=\"data row1 col3\" >73.00</td>\n",
       "                        <td id=\"T_1650e_row1_col4\" class=\"data row1 col4\" >4,575,000.00</td>\n",
       "                        <td id=\"T_1650e_row1_col5\" class=\"data row1 col5\" >30.00</td>\n",
       "                        <td id=\"T_1650e_row1_col6\" class=\"data row1 col6\" >9.00</td>\n",
       "                        <td id=\"T_1650e_row1_col7\" class=\"data row1 col7\" >4.00</td>\n",
       "                        <td id=\"T_1650e_row1_col8\" class=\"data row1 col8\" >9.00</td>\n",
       "            </tr>\n",
       "            <tr>\n",
       "                        <th id=\"T_1650e_level0_row2\" class=\"row_heading level0 row2\" >0.9</th>\n",
       "                        <td id=\"T_1650e_row2_col0\" class=\"data row2 col0\" >3.00</td>\n",
       "                        <td id=\"T_1650e_row2_col1\" class=\"data row2 col1\" >87.80</td>\n",
       "                        <td id=\"T_1650e_row2_col2\" class=\"data row2 col2\" >3.00</td>\n",
       "                        <td id=\"T_1650e_row2_col3\" class=\"data row2 col3\" >421.00</td>\n",
       "                        <td id=\"T_1650e_row2_col4\" class=\"data row2 col4\" >9,990,000.00</td>\n",
       "                        <td id=\"T_1650e_row2_col5\" class=\"data row2 col5\" >52.00</td>\n",
       "                        <td id=\"T_1650e_row2_col6\" class=\"data row2 col6\" >15.00</td>\n",
       "                        <td id=\"T_1650e_row2_col7\" class=\"data row2 col7\" >13.00</td>\n",
       "                        <td id=\"T_1650e_row2_col8\" class=\"data row2 col8\" >22.00</td>\n",
       "            </tr>\n",
       "            <tr>\n",
       "                        <th id=\"T_1650e_level0_row3\" class=\"row_heading level0 row3\" >0.9976</th>\n",
       "                        <td id=\"T_1650e_row3_col0\" class=\"data row3 col0\" >4.00</td>\n",
       "                        <td id=\"T_1650e_row3_col1\" class=\"data row3 col1\" >173.92</td>\n",
       "                        <td id=\"T_1650e_row3_col2\" class=\"data row3 col2\" >4.10</td>\n",
       "                        <td id=\"T_1650e_row3_col3\" class=\"data row3 col3\" >1,274.82</td>\n",
       "                        <td id=\"T_1650e_row3_col4\" class=\"data row3 col4\" >47,700,000.00</td>\n",
       "                        <td id=\"T_1650e_row3_col5\" class=\"data row3 col5\" >101.98</td>\n",
       "                        <td id=\"T_1650e_row3_col6\" class=\"data row3 col6\" >44.70</td>\n",
       "                        <td id=\"T_1650e_row3_col7\" class=\"data row3 col7\" >25.00</td>\n",
       "                        <td id=\"T_1650e_row3_col8\" class=\"data row3 col8\" >27.00</td>\n",
       "            </tr>\n",
       "    </tbody></table>"
      ],
      "text/plain": [
       "<pandas.io.formats.style.Styler at 0x7f06a242a100>"
      ]
     },
     "execution_count": 28,
     "metadata": {},
     "output_type": "execute_result"
    }
   ],
   "source": [
    "# check\n",
    "\n",
    "# Значения параметров объектов недвижимости на разных квантилях\n",
    "\n",
    "(\n",
    "    data[['rooms', 'total_area', 'ceiling_height', 'days_exposition', 'last_price', 'living_area',  \n",
    "        'kitchen_area', 'floor',   'floors_total']]\n",
    "    .quantile([0.01, .5, .90, .9976])  \n",
    "    .style.format(\"{:,.2f}\")\n",
    ")"
   ]
  },
  {
   "cell_type": "code",
   "execution_count": 29,
   "metadata": {
    "scrolled": false
   },
   "outputs": [
    {
     "data": {
      "image/png": "[encoded data removed]",
      "text/plain": [
       "<Figure size 1080x216 with 1 Axes>"
      ]
     },
     "metadata": {
      "needs_background": "light"
     },
     "output_type": "display_data"
    }
   ],
   "source": [
    "# check\n",
    "data.hist(column = 'living_area', bins = 30, figsize = (15,3), range = (0, 20));"
   ]
  },
  {
   "cell_type": "code",
   "execution_count": 30,
   "metadata": {
    "scrolled": false
   },
   "outputs": [
    {
     "data": {
      "image/png": "[encoded data removed]",
      "text/plain": [
       "<Figure size 1080x216 with 1 Axes>"
      ]
     },
     "metadata": {
      "needs_background": "light"
     },
     "output_type": "display_data"
    }
   ],
   "source": [
    "# check\n",
    "data.hist(column = 'kitchen_area', bins = 30, figsize = (15,3), range = (0, 10));"
   ]
  },
  {
   "cell_type": "code",
   "execution_count": 31,
   "metadata": {
    "scrolled": false
   },
   "outputs": [
    {
     "data": {
      "image/png": "[encoded data removed]",
      "text/plain": [
       "<Figure size 1080x216 with 1 Axes>"
      ]
     },
     "metadata": {
      "needs_background": "light"
     },
     "output_type": "display_data"
    }
   ],
   "source": [
    "# check\n",
    "data.hist(column = 'days_exposition', bins = 30, figsize = (15,3), range = (200, 1600));"
   ]
  },
  {
   "cell_type": "code",
   "execution_count": 33,
   "metadata": {
    "scrolled": true
   },
   "outputs": [
    {
     "data": {
      "text/html": [
       "<style  type=\"text/css\" >\n",
       "</style><table id=\"T_42629_\" ><thead>    <tr>        <th class=\"blank level0\" ></th>        <th class=\"col_heading level0 col0\" >rooms</th>        <th class=\"col_heading level0 col1\" >total_area</th>        <th class=\"col_heading level0 col2\" >ceiling_height</th>        <th class=\"col_heading level0 col3\" >days_exposition</th>        <th class=\"col_heading level0 col4\" >last_price</th>        <th class=\"col_heading level0 col5\" >living_area</th>        <th class=\"col_heading level0 col6\" >kitchen_area</th>        <th class=\"col_heading level0 col7\" >floor</th>        <th class=\"col_heading level0 col8\" >floors_total</th>    </tr></thead><tbody>\n",
       "                <tr>\n",
       "                        <th id=\"T_42629_level0_row0\" class=\"row_heading level0 row0\" >count</th>\n",
       "                        <td id=\"T_42629_row0_col0\" class=\"data row0 col0\" >18,703.00</td>\n",
       "                        <td id=\"T_42629_row0_col1\" class=\"data row0 col1\" >18,703.00</td>\n",
       "                        <td id=\"T_42629_row0_col2\" class=\"data row0 col2\" >18,703.00</td>\n",
       "                        <td id=\"T_42629_row0_col3\" class=\"data row0 col3\" >18,703.00</td>\n",
       "                        <td id=\"T_42629_row0_col4\" class=\"data row0 col4\" >18,703.00</td>\n",
       "                        <td id=\"T_42629_row0_col5\" class=\"data row0 col5\" >18,703.00</td>\n",
       "                        <td id=\"T_42629_row0_col6\" class=\"data row0 col6\" >18,703.00</td>\n",
       "                        <td id=\"T_42629_row0_col7\" class=\"data row0 col7\" >18,703.00</td>\n",
       "                        <td id=\"T_42629_row0_col8\" class=\"data row0 col8\" >18,703.00</td>\n",
       "            </tr>\n",
       "            <tr>\n",
       "                        <th id=\"T_42629_level0_row1\" class=\"row_heading level0 row1\" >min</th>\n",
       "                        <td id=\"T_42629_row1_col0\" class=\"data row1 col0\" >0.00</td>\n",
       "                        <td id=\"T_42629_row1_col1\" class=\"data row1 col1\" >24.00</td>\n",
       "                        <td id=\"T_42629_row1_col2\" class=\"data row1 col2\" >2.45</td>\n",
       "                        <td id=\"T_42629_row1_col3\" class=\"data row1 col3\" >0.00</td>\n",
       "                        <td id=\"T_42629_row1_col4\" class=\"data row1 col4\" >430,000.00</td>\n",
       "                        <td id=\"T_42629_row1_col5\" class=\"data row1 col5\" >15.01</td>\n",
       "                        <td id=\"T_42629_row1_col6\" class=\"data row1 col6\" >5.01</td>\n",
       "                        <td id=\"T_42629_row1_col7\" class=\"data row1 col7\" >1.00</td>\n",
       "                        <td id=\"T_42629_row1_col8\" class=\"data row1 col8\" >1.00</td>\n",
       "            </tr>\n",
       "            <tr>\n",
       "                        <th id=\"T_42629_level0_row2\" class=\"row_heading level0 row2\" >max</th>\n",
       "                        <td id=\"T_42629_row2_col0\" class=\"data row2 col0\" >4.00</td>\n",
       "                        <td id=\"T_42629_row2_col1\" class=\"data row2 col1\" >179.70</td>\n",
       "                        <td id=\"T_42629_row2_col2\" class=\"data row2 col2\" >4.80</td>\n",
       "                        <td id=\"T_42629_row2_col3\" class=\"data row2 col3\" >399.00</td>\n",
       "                        <td id=\"T_42629_row2_col4\" class=\"data row2 col4\" >124,000,000.00</td>\n",
       "                        <td id=\"T_42629_row2_col5\" class=\"data row2 col5\" >99.92</td>\n",
       "                        <td id=\"T_42629_row2_col6\" class=\"data row2 col6\" >39.90</td>\n",
       "                        <td id=\"T_42629_row2_col7\" class=\"data row2 col7\" >27.00</td>\n",
       "                        <td id=\"T_42629_row2_col8\" class=\"data row2 col8\" >28.00</td>\n",
       "            </tr>\n",
       "    </tbody></table>"
      ],
      "text/plain": [
       "<pandas.io.formats.style.Styler at 0x7f06a263eb20>"
      ]
     },
     "execution_count": 33,
     "metadata": {},
     "output_type": "execute_result"
    }
   ],
   "source": [
    "# check\n",
    "\n",
    "# Показатели о кол-ве объявлений в датасете, минимальных и максимальных значениях \n",
    "# в выбранных параметрах о продаже квартир\n",
    "\n",
    "\n",
    "(\n",
    "    data[['rooms', 'total_area', 'ceiling_height', 'days_exposition', 'last_price', 'living_area',  'kitchen_area',\n",
    "          'floor', 'floors_total']]\n",
    "    .apply (['count', 'min', 'max'])   \n",
    "    .style.format(\"{:,.2f}\")\n",
    ")"
   ]
  },
  {
   "cell_type": "markdown",
   "metadata": {},
   "source": [
    "### Проведите исследовательский анализ данных"
   ]
  },
  {
   "cell_type": "markdown",
   "metadata": {},
   "source": [
    "1) Находим цену одного кватратного метра жилья и добавляем ее в новый столбец\n"
   ]
  },
  {
   "cell_type": "code",
   "execution_count": 34,
   "metadata": {},
   "outputs": [
    {
     "name": "stdout",
     "output_type": "stream",
     "text": [
      "0     120370\n",
      "1      82920\n",
      "7     110544\n",
      "8      87454\n",
      "9      88524\n",
      "10    127525\n",
      "11     75000\n",
      "12     72037\n",
      "13     82943\n",
      "14    122222\n",
      "Name: price_meter, dtype: int64\n"
     ]
    }
   ],
   "source": [
    "data['price_meter'] = data['last_price'] / data['total_area']\n",
    "data['price_meter'] = data['price_meter'].astype('int')\n",
    "print(data['price_meter'].head(10))"
   ]
  },
  {
   "cell_type": "markdown",
   "metadata": {},
   "source": [
    "2) Укажем день публикации объявления и добавим ее в новый столбец"
   ]
  },
  {
   "cell_type": "code",
   "execution_count": 35,
   "metadata": {},
   "outputs": [
    {
     "name": "stdout",
     "output_type": "stream",
     "text": [
      "0     3\n",
      "1     1\n",
      "7     3\n",
      "8     2\n",
      "9     6\n",
      "10    3\n",
      "11    0\n",
      "12    3\n",
      "13    5\n",
      "14    3\n",
      "Name: day, dtype: int64\n"
     ]
    }
   ],
   "source": [
    "data['day'] = data['first_day_exposition'].dt.weekday\n",
    "print(data['day'].head(10))"
   ]
  },
  {
   "cell_type": "markdown",
   "metadata": {},
   "source": [
    "3) Укажем месяц публикации и добавим ее в новый столбец"
   ]
  },
  {
   "cell_type": "code",
   "execution_count": 36,
   "metadata": {},
   "outputs": [
    {
     "name": "stdout",
     "output_type": "stream",
     "text": [
      "0      3\n",
      "1     12\n",
      "7      4\n",
      "8      5\n",
      "9      2\n",
      "10    11\n",
      "11     8\n",
      "12     6\n",
      "13     7\n",
      "14     6\n",
      "Name: month, dtype: int64\n"
     ]
    }
   ],
   "source": [
    "data['month'] = data['first_day_exposition'].dt.month\n",
    "print(data['month'].head(10))"
   ]
  },
  {
   "cell_type": "markdown",
   "metadata": {},
   "source": [
    "4) Укажем год публикации и добавим его в новый столбец"
   ]
  },
  {
   "cell_type": "code",
   "execution_count": 37,
   "metadata": {},
   "outputs": [
    {
     "name": "stdout",
     "output_type": "stream",
     "text": [
      "0     2019\n",
      "1     2018\n",
      "7     2019\n",
      "8     2018\n",
      "9     2017\n",
      "10    2017\n",
      "11    2018\n",
      "12    2016\n",
      "13    2017\n",
      "14    2016\n",
      "Name: year, dtype: int64\n"
     ]
    }
   ],
   "source": [
    "data['year'] = data['first_day_exposition'].dt.year\n",
    "print(data['year'].head(10))"
   ]
  },
  {
   "cell_type": "markdown",
   "metadata": {},
   "source": [
    "5) Укажем тип этажа квартиры и добавим его в новый столбец"
   ]
  },
  {
   "cell_type": "code",
   "execution_count": 38,
   "metadata": {},
   "outputs": [
    {
     "name": "stdout",
     "output_type": "stream",
     "text": [
      "0        другой\n",
      "1        первый\n",
      "7        другой\n",
      "8        другой\n",
      "9        другой\n",
      "10       другой\n",
      "11       другой\n",
      "12    последний\n",
      "13    последний\n",
      "14       первый\n",
      "Name: floor_status, dtype: object\n"
     ]
    }
   ],
   "source": [
    "def floor_type(row):\n",
    "    if row['floor'] == 1:\n",
    "        return 'первый'\n",
    "    elif row['floor'] == row['floors_total']:\n",
    "        return 'последний'\n",
    "    else:\n",
    "        return 'другой'\n",
    "data['floor_status'] = data.apply(floor_type, axis=1)\n",
    "print(data['floor_status'].head(10))    "
   ]
  },
  {
   "cell_type": "markdown",
   "metadata": {},
   "source": [
    "6) Укажем расстояние до центра города в километрах и добавим его в новый столбец"
   ]
  },
  {
   "cell_type": "code",
   "execution_count": 39,
   "metadata": {},
   "outputs": [
    {
     "name": "stdout",
     "output_type": "stream",
     "text": [
      "0     16\n",
      "1     18\n",
      "7     11\n",
      "8      0\n",
      "9     15\n",
      "10    13\n",
      "11    51\n",
      "12     0\n",
      "13    33\n",
      "14    30\n",
      "Name: city_centers_nearest_km, dtype: int64\n"
     ]
    }
   ],
   "source": [
    "data['city_centers_nearest_km'] = data['city_centers_nearest'] / 1000\n",
    "data['city_centers_nearest_km'] = data['city_centers_nearest_km'].fillna(value=0).astype(int)\n",
    "print(data['city_centers_nearest_km'].head(10))"
   ]
  },
  {
   "cell_type": "markdown",
   "metadata": {},
   "source": [
    "Необходимо провести проверку, что все строки кода выполнились корректно"
   ]
  },
  {
   "cell_type": "code",
   "execution_count": 40,
   "metadata": {
    "scrolled": true
   },
   "outputs": [
    {
     "data": {
      "text/html": [
       "<div>\n",
       "<style scoped>\n",
       "    .dataframe tbody tr th:only-of-type {\n",
       "        vertical-align: middle;\n",
       "    }\n",
       "\n",
       "    .dataframe tbody tr th {\n",
       "        vertical-align: top;\n",
       "    }\n",
       "\n",
       "    .dataframe thead th {\n",
       "        text-align: right;\n",
       "    }\n",
       "</style>\n",
       "<table border=\"1\" class=\"dataframe\">\n",
       "  <thead>\n",
       "    <tr style=\"text-align: right;\">\n",
       "      <th></th>\n",
       "      <th>total_images</th>\n",
       "      <th>last_price</th>\n",
       "      <th>total_area</th>\n",
       "      <th>first_day_exposition</th>\n",
       "      <th>rooms</th>\n",
       "      <th>ceiling_height</th>\n",
       "      <th>floors_total</th>\n",
       "      <th>living_area</th>\n",
       "      <th>floor</th>\n",
       "      <th>is_apartment</th>\n",
       "      <th>...</th>\n",
       "      <th>parks_nearest</th>\n",
       "      <th>ponds_around3000</th>\n",
       "      <th>ponds_nearest</th>\n",
       "      <th>days_exposition</th>\n",
       "      <th>price_meter</th>\n",
       "      <th>day</th>\n",
       "      <th>month</th>\n",
       "      <th>year</th>\n",
       "      <th>floor_status</th>\n",
       "      <th>city_centers_nearest_km</th>\n",
       "    </tr>\n",
       "  </thead>\n",
       "  <tbody>\n",
       "    <tr>\n",
       "      <th>0</th>\n",
       "      <td>20</td>\n",
       "      <td>13000000.0</td>\n",
       "      <td>108.00</td>\n",
       "      <td>2019-03-07</td>\n",
       "      <td>3</td>\n",
       "      <td>2.70</td>\n",
       "      <td>16</td>\n",
       "      <td>51.000000</td>\n",
       "      <td>8</td>\n",
       "      <td>False</td>\n",
       "      <td>...</td>\n",
       "      <td>482.0</td>\n",
       "      <td>2</td>\n",
       "      <td>755.0</td>\n",
       "      <td>0</td>\n",
       "      <td>120370</td>\n",
       "      <td>3</td>\n",
       "      <td>3</td>\n",
       "      <td>2019</td>\n",
       "      <td>другой</td>\n",
       "      <td>16</td>\n",
       "    </tr>\n",
       "    <tr>\n",
       "      <th>1</th>\n",
       "      <td>7</td>\n",
       "      <td>3350000.0</td>\n",
       "      <td>40.40</td>\n",
       "      <td>2018-12-04</td>\n",
       "      <td>1</td>\n",
       "      <td>2.65</td>\n",
       "      <td>11</td>\n",
       "      <td>18.600000</td>\n",
       "      <td>1</td>\n",
       "      <td>False</td>\n",
       "      <td>...</td>\n",
       "      <td>455.0</td>\n",
       "      <td>0</td>\n",
       "      <td>502.0</td>\n",
       "      <td>81</td>\n",
       "      <td>82920</td>\n",
       "      <td>1</td>\n",
       "      <td>12</td>\n",
       "      <td>2018</td>\n",
       "      <td>первый</td>\n",
       "      <td>18</td>\n",
       "    </tr>\n",
       "    <tr>\n",
       "      <th>7</th>\n",
       "      <td>5</td>\n",
       "      <td>7915000.0</td>\n",
       "      <td>71.60</td>\n",
       "      <td>2019-04-18</td>\n",
       "      <td>2</td>\n",
       "      <td>2.65</td>\n",
       "      <td>24</td>\n",
       "      <td>40.882144</td>\n",
       "      <td>22</td>\n",
       "      <td>False</td>\n",
       "      <td>...</td>\n",
       "      <td>455.0</td>\n",
       "      <td>0</td>\n",
       "      <td>502.0</td>\n",
       "      <td>0</td>\n",
       "      <td>110544</td>\n",
       "      <td>3</td>\n",
       "      <td>4</td>\n",
       "      <td>2019</td>\n",
       "      <td>другой</td>\n",
       "      <td>11</td>\n",
       "    </tr>\n",
       "    <tr>\n",
       "      <th>8</th>\n",
       "      <td>20</td>\n",
       "      <td>2900000.0</td>\n",
       "      <td>33.16</td>\n",
       "      <td>2018-05-23</td>\n",
       "      <td>1</td>\n",
       "      <td>2.65</td>\n",
       "      <td>27</td>\n",
       "      <td>15.430000</td>\n",
       "      <td>26</td>\n",
       "      <td>False</td>\n",
       "      <td>...</td>\n",
       "      <td>455.0</td>\n",
       "      <td>0</td>\n",
       "      <td>502.0</td>\n",
       "      <td>189</td>\n",
       "      <td>87454</td>\n",
       "      <td>2</td>\n",
       "      <td>5</td>\n",
       "      <td>2018</td>\n",
       "      <td>другой</td>\n",
       "      <td>0</td>\n",
       "    </tr>\n",
       "    <tr>\n",
       "      <th>9</th>\n",
       "      <td>18</td>\n",
       "      <td>5400000.0</td>\n",
       "      <td>61.00</td>\n",
       "      <td>2017-02-26</td>\n",
       "      <td>3</td>\n",
       "      <td>2.50</td>\n",
       "      <td>9</td>\n",
       "      <td>43.600000</td>\n",
       "      <td>7</td>\n",
       "      <td>False</td>\n",
       "      <td>...</td>\n",
       "      <td>455.0</td>\n",
       "      <td>0</td>\n",
       "      <td>502.0</td>\n",
       "      <td>289</td>\n",
       "      <td>88524</td>\n",
       "      <td>6</td>\n",
       "      <td>2</td>\n",
       "      <td>2017</td>\n",
       "      <td>другой</td>\n",
       "      <td>15</td>\n",
       "    </tr>\n",
       "  </tbody>\n",
       "</table>\n",
       "<p>5 rows × 28 columns</p>\n",
       "</div>"
      ],
      "text/plain": [
       "   total_images  last_price  total_area first_day_exposition  rooms  \\\n",
       "0            20  13000000.0      108.00           2019-03-07      3   \n",
       "1             7   3350000.0       40.40           2018-12-04      1   \n",
       "7             5   7915000.0       71.60           2019-04-18      2   \n",
       "8            20   2900000.0       33.16           2018-05-23      1   \n",
       "9            18   5400000.0       61.00           2017-02-26      3   \n",
       "\n",
       "   ceiling_height  floors_total  living_area  floor  is_apartment  ...  \\\n",
       "0            2.70            16    51.000000      8         False  ...   \n",
       "1            2.65            11    18.600000      1         False  ...   \n",
       "7            2.65            24    40.882144     22         False  ...   \n",
       "8            2.65            27    15.430000     26         False  ...   \n",
       "9            2.50             9    43.600000      7         False  ...   \n",
       "\n",
       "   parks_nearest  ponds_around3000  ponds_nearest  days_exposition  \\\n",
       "0          482.0                 2          755.0                0   \n",
       "1          455.0                 0          502.0               81   \n",
       "7          455.0                 0          502.0                0   \n",
       "8          455.0                 0          502.0              189   \n",
       "9          455.0                 0          502.0              289   \n",
       "\n",
       "  price_meter  day  month  year  floor_status  city_centers_nearest_km  \n",
       "0      120370    3      3  2019        другой                       16  \n",
       "1       82920    1     12  2018        первый                       18  \n",
       "7      110544    3      4  2019        другой                       11  \n",
       "8       87454    2      5  2018        другой                        0  \n",
       "9       88524    6      2  2017        другой                       15  \n",
       "\n",
       "[5 rows x 28 columns]"
      ]
     },
     "execution_count": 40,
     "metadata": {},
     "output_type": "execute_result"
    }
   ],
   "source": [
    "data.head(5)"
   ]
  },
  {
   "cell_type": "markdown",
   "metadata": {},
   "source": [
    "**Вывод:** все корректно, можно приступать к исследовательскому анализу данных"
   ]
  },
  {
   "cell_type": "markdown",
   "metadata": {},
   "source": [
    "### Изучаем следующие параметры объектов:\n",
    " - общая площадь;\n",
    " -  жилая площадь;\n",
    " - площадь кухни;\n",
    " - цена объекта;\n",
    " - количество комнат;\n",
    " - высота потолков;\n",
    " - этаж квартиры;\n",
    " - тип этажа квартиры («первый», «последний», «другой»);\n",
    " - общее количество этажей в доме;\n",
    " -  расстояние до центра города в метрах;\n",
    " -  расстояние до ближайшего аэропорта;\n",
    " -  расстояние до ближайшего парка;\n",
    " -  день и месяц публикации объявления."
   ]
  },
  {
   "cell_type": "code",
   "execution_count": 41,
   "metadata": {},
   "outputs": [
    {
     "data": {
      "image/png": "[encoded data removed]",
      "text/plain": [
       "<Figure size 648x360 with 1 Axes>"
      ]
     },
     "metadata": {
      "needs_background": "light"
     },
     "output_type": "display_data"
    }
   ],
   "source": [
    "data['total_area'].plot(kind = 'hist', title = 'общая площадь', bins = 100, figsize = (9,5), range = (0,300));"
   ]
  },
  {
   "cell_type": "code",
   "execution_count": 42,
   "metadata": {},
   "outputs": [
    {
     "data": {
      "image/png": "[encoded data removed]",
      "text/plain": [
       "<Figure size 648x360 with 1 Axes>"
      ]
     },
     "metadata": {
      "needs_background": "light"
     },
     "output_type": "display_data"
    }
   ],
   "source": [
    "data['living_area'].plot(kind = 'hist', title = 'жилая площадь', bins = 100, figsize = (9,5), range = (0,100));"
   ]
  },
  {
   "cell_type": "code",
   "execution_count": 43,
   "metadata": {
    "scrolled": false
   },
   "outputs": [
    {
     "data": {
      "image/png": "[encoded data removed]",
      "text/plain": [
       "<Figure size 648x360 with 1 Axes>"
      ]
     },
     "metadata": {
      "needs_background": "light"
     },
     "output_type": "display_data"
    }
   ],
   "source": [
    "data['kitchen_area'].plot(kind = 'hist', title = 'площадь кухни', bins = 30, figsize = (9,5), range = (0,100));"
   ]
  },
  {
   "cell_type": "code",
   "execution_count": 44,
   "metadata": {
    "scrolled": false
   },
   "outputs": [
    {
     "data": {
      "image/png": "[encoded data removed]",
      "text/plain": [
       "<Figure size 648x360 with 1 Axes>"
      ]
     },
     "metadata": {
      "needs_background": "light"
     },
     "output_type": "display_data"
    }
   ],
   "source": [
    "data['last_price'].plot( kind = 'hist',title = 'цена квартиры', bins = 30, range = (0,50000000), figsize = (9,5));"
   ]
  },
  {
   "cell_type": "code",
   "execution_count": 45,
   "metadata": {
    "scrolled": false
   },
   "outputs": [
    {
     "data": {
      "image/png": "[encoded data removed]",
      "text/plain": [
       "<Figure size 648x360 with 1 Axes>"
      ]
     },
     "metadata": {
      "needs_background": "light"
     },
     "output_type": "display_data"
    }
   ],
   "source": [
    "data['rooms'].plot( kind = 'hist',title = 'количество комнат', bins = 30, range = (0,5), figsize = (9,5));"
   ]
  },
  {
   "cell_type": "code",
   "execution_count": 46,
   "metadata": {
    "scrolled": false
   },
   "outputs": [
    {
     "data": {
      "image/png": "[encoded data removed]",
      "text/plain": [
       "<Figure size 648x360 with 1 Axes>"
      ]
     },
     "metadata": {
      "needs_background": "light"
     },
     "output_type": "display_data"
    }
   ],
   "source": [
    "data['ceiling_height'].plot( kind = 'hist',title = 'высота потолков', bins = 30, range = (0,5), figsize = (9,5));"
   ]
  },
  {
   "cell_type": "code",
   "execution_count": 47,
   "metadata": {
    "scrolled": false
   },
   "outputs": [
    {
     "data": {
      "image/png": "[encoded data removed]",
      "text/plain": [
       "<Figure size 648x360 with 1 Axes>"
      ]
     },
     "metadata": {
      "needs_background": "light"
     },
     "output_type": "display_data"
    }
   ],
   "source": [
    "data['floor'].plot( kind = 'hist',title = 'этаж', bins = 30 , range = (0,25), figsize = (9,5));"
   ]
  },
  {
   "cell_type": "code",
   "execution_count": 48,
   "metadata": {},
   "outputs": [
    {
     "data": {
      "image/png": "[encoded data removed]",
      "text/plain": [
       "<Figure size 432x288 with 3 Axes>"
      ]
     },
     "metadata": {
      "needs_background": "light"
     },
     "output_type": "display_data"
    }
   ],
   "source": [
    "fig, axs = plt.subplots(1,3)\n",
    "data['floor_status'].value_counts().plot(ax = axs[0], kind = 'bar')\n",
    "data['floor_status'].value_counts().plot(ax = axs[1], kind = 'bar')\n",
    "data['floor_status'].value_counts().plot(ax = axs[2], kind = 'bar')\n",
    "plt.tight_layout()"
   ]
  },
  {
   "cell_type": "code",
   "execution_count": 49,
   "metadata": {
    "scrolled": false
   },
   "outputs": [
    {
     "data": {
      "image/png": "[encoded data removed]",
      "text/plain": [
       "<Figure size 648x360 with 1 Axes>"
      ]
     },
     "metadata": {
      "needs_background": "light"
     },
     "output_type": "display_data"
    }
   ],
   "source": [
    "data['floors_total'].plot( kind = 'hist',title = 'общее количество этажей', bins = 30, range = (0,30), figsize = (9,5));"
   ]
  },
  {
   "cell_type": "code",
   "execution_count": 50,
   "metadata": {
    "scrolled": false
   },
   "outputs": [
    {
     "data": {
      "image/png": "[encoded data removed]",
      "text/plain": [
       "<Figure size 648x360 with 1 Axes>"
      ]
     },
     "metadata": {
      "needs_background": "light"
     },
     "output_type": "display_data"
    }
   ],
   "source": [
    "data['city_centers_nearest'].plot( kind = 'hist',title = 'расстояние до центра города', bins = 30 , range = (0,800), figsize = (9,5));"
   ]
  },
  {
   "cell_type": "code",
   "execution_count": 51,
   "metadata": {
    "scrolled": false
   },
   "outputs": [
    {
     "data": {
      "image/png": "[encoded data removed]",
      "text/plain": [
       "<Figure size 648x360 with 1 Axes>"
      ]
     },
     "metadata": {
      "needs_background": "light"
     },
     "output_type": "display_data"
    }
   ],
   "source": [
    "data['airports_nearest'].plot( kind = 'hist',title = 'расстояние до аэропорта', bins = 10 , range = (0,100), figsize = (9,5));"
   ]
  },
  {
   "cell_type": "code",
   "execution_count": 52,
   "metadata": {
    "scrolled": false
   },
   "outputs": [
    {
     "data": {
      "image/png": "[encoded data removed]",
      "text/plain": [
       "<Figure size 648x360 with 1 Axes>"
      ]
     },
     "metadata": {
      "needs_background": "light"
     },
     "output_type": "display_data"
    }
   ],
   "source": [
    "data['parks_nearest'].plot( kind = 'hist',title = 'расстояние до парка', bins = 30 , range = (0,800), figsize = (9,5));"
   ]
  },
  {
   "cell_type": "code",
   "execution_count": 53,
   "metadata": {
    "scrolled": false
   },
   "outputs": [
    {
     "data": {
      "image/png": "[encoded data removed]",
      "text/plain": [
       "<Figure size 648x360 with 1 Axes>"
      ]
     },
     "metadata": {
      "needs_background": "light"
     },
     "output_type": "display_data"
    }
   ],
   "source": [
    "data['day'].plot( kind = 'hist',title = 'день публикации объявления', bins = 30 , range = (0,7), figsize = (9,5));"
   ]
  },
  {
   "cell_type": "markdown",
   "metadata": {},
   "source": []
  },
  {
   "cell_type": "code",
   "execution_count": 54,
   "metadata": {
    "scrolled": false
   },
   "outputs": [
    {
     "data": {
      "image/png": "[encoded data removed]",
      "text/plain": [
       "<Figure size 648x360 with 1 Axes>"
      ]
     },
     "metadata": {
      "needs_background": "light"
     },
     "output_type": "display_data"
    }
   ],
   "source": [
    "data['month'].plot( kind = 'hist',title = 'месяц публикации', bins = 50 , range = (0,12), figsize = (9,5));"
   ]
  },
  {
   "cell_type": "markdown",
   "metadata": {},
   "source": [
    "**Вывод:** большинство квартир имеют площадь менее 100 квадратных метров, в датасете есть несколько вариантов больше 200 метров (доходит до 900) - скорее всего это элитная недвижимость в Санкт-Петербурге, средняя площадь квартиры - 60 квадратных метров. Самые распространённые варианты с жилой площадью от 10 до 50 метров. После 80 метров встречаются единичные случаи. по графику видно, что большинство квартир либо 1 комнатные, либо 2 комнатные. Площадь кухни также доказывает, что квартиры, представленные в датасете, небльшие, так как площаь кухни в основном составляет 10 квадратных метров. Большиснтво квартир расположены на 1-4 этажах, а также большое количество расположено на 5 этаже, можно предпопложить, что основную часть выборки составяют квартиры в так называемых \"Хрущевках\" (это также подтверждается графиком с общим кол-вом этажей в доме, при этом довольно сильно распространены 10-этажки). Высота потолков, в основном составляет 2,5 метра (стандартная высота для российского жилья). Многие продававшиеся квартиры находятся не на первом и не на последнем этаже. Стоимость жилья в основном варьируется на отметке в 5 миллионов рублей. Многие квартиры расположены в пешей достпуности к паркам (450 метров), находятся на расстоянии в 10 километрах от аэропорта (внутри города), а также недалеко от центра (пик в 300 метрах6 а также 500-650 и 750 метров). День недели публикации объявления распереден равномерно с сильным спадом ближе к выходным. Больше всего квартиры размещаются в начале и конце года, со спадом в мае и летних месяцах, также наблюдается спад в январе и декабре."
   ]
  },
  {
   "cell_type": "markdown",
   "metadata": {},
   "source": [
    "**Далее** необходимо проанализировать как быстро продавались квартиры"
   ]
  },
  {
   "cell_type": "code",
   "execution_count": 55,
   "metadata": {
    "scrolled": false
   },
   "outputs": [
    {
     "data": {
      "text/plain": [
       "count    15917.000000\n",
       "mean       111.113087\n",
       "std         97.775733\n",
       "min          1.000000\n",
       "25%         38.000000\n",
       "50%         77.000000\n",
       "75%        162.000000\n",
       "max        399.000000\n",
       "Name: days_exposition, dtype: float64"
      ]
     },
     "execution_count": 55,
     "metadata": {},
     "output_type": "execute_result"
    },
    {
     "data": {
      "image/png": "[encoded data removed]",
      "text/plain": [
       "<Figure size 432x288 with 1 Axes>"
      ]
     },
     "metadata": {
      "needs_background": "light"
     },
     "output_type": "display_data"
    }
   ],
   "source": [
    "\n",
    "data.plot(y = 'days_exposition', kind = 'hist', bins = 100, range = (1,250))\n",
    "\n",
    "data[data['days_exposition']!=0]['days_exposition'].describe()\n"
   ]
  },
  {
   "cell_type": "markdown",
   "metadata": {},
   "source": [
    "**Вывод:** Медианное время продажи - 95 дней. Среднее время продажи - 181 день.\n",
    "Есть большое количество жилья, проданного за 50 дней. Также есть большое число квартир, проданных всего за несколько дней после публикации. А также есть варианты, которые продавались несколько десятков месяцев.\n"
   ]
  },
  {
   "cell_type": "markdown",
   "metadata": {},
   "source": [
    "### Проанализируем факторы, которые наиболее влияют на общую стоимость объекта"
   ]
  },
  {
   "cell_type": "markdown",
   "metadata": {},
   "source": [
    "1) Зависимость цены от площади квартиры"
   ]
  },
  {
   "cell_type": "code",
   "execution_count": 56,
   "metadata": {
    "scrolled": true
   },
   "outputs": [
    {
     "data": {
      "text/plain": [
       "0.22792712434492327"
      ]
     },
     "execution_count": 56,
     "metadata": {},
     "output_type": "execute_result"
    },
    {
     "data": {
      "image/png": "[encoded data removed]",
      "text/plain": [
       "<Figure size 432x288 with 1 Axes>"
      ]
     },
     "metadata": {
      "needs_background": "light"
     },
     "output_type": "display_data"
    }
   ],
   "source": [
    "data.plot(x = 'total_area', y = 'price_meter', kind = 'scatter');\n",
    "\n",
    "\n",
    "data['total_area'].corr(data['price_meter'])\n",
    "\n"
   ]
  },
  {
   "cell_type": "markdown",
   "metadata": {},
   "source": [
    "2) Зависимость цены от жилой площади квартиры"
   ]
  },
  {
   "cell_type": "code",
   "execution_count": 57,
   "metadata": {
    "scrolled": true
   },
   "outputs": [
    {
     "data": {
      "text/plain": [
       "0.1340325882928151"
      ]
     },
     "execution_count": 57,
     "metadata": {},
     "output_type": "execute_result"
    },
    {
     "data": {
      "image/png": "[encoded data removed]",
      "text/plain": [
       "<Figure size 432x288 with 1 Axes>"
      ]
     },
     "metadata": {
      "needs_background": "light"
     },
     "output_type": "display_data"
    }
   ],
   "source": [
    "data.plot(x = 'living_area', y = 'price_meter', kind = 'scatter');\n",
    "data['living_area'].corr(data['price_meter'])"
   ]
  },
  {
   "cell_type": "markdown",
   "metadata": {},
   "source": [
    "3) Зависимость цены от площади кухни квартиры"
   ]
  },
  {
   "cell_type": "code",
   "execution_count": 58,
   "metadata": {
    "scrolled": true
   },
   "outputs": [
    {
     "data": {
      "text/plain": [
       "0.3310739889061977"
      ]
     },
     "execution_count": 58,
     "metadata": {},
     "output_type": "execute_result"
    },
    {
     "data": {
      "image/png": "[encoded data removed]",
      "text/plain": [
       "<Figure size 432x288 with 1 Axes>"
      ]
     },
     "metadata": {
      "needs_background": "light"
     },
     "output_type": "display_data"
    }
   ],
   "source": [
    "data.plot(x = 'kitchen_area', y = 'price_meter', kind = 'scatter');\n",
    "\n",
    "data['kitchen_area'].corr(data['price_meter'])"
   ]
  },
  {
   "cell_type": "markdown",
   "metadata": {},
   "source": [
    "4) Зависимость цены и количества комнат"
   ]
  },
  {
   "cell_type": "code",
   "execution_count": 59,
   "metadata": {},
   "outputs": [
    {
     "data": {
      "text/plain": [
       "-0.031922106538337686"
      ]
     },
     "execution_count": 59,
     "metadata": {},
     "output_type": "execute_result"
    },
    {
     "data": {
      "image/png": "[encoded data removed]",
      "text/plain": [
       "<Figure size 432x288 with 1 Axes>"
      ]
     },
     "metadata": {
      "needs_background": "light"
     },
     "output_type": "display_data"
    }
   ],
   "source": [
    "pivot_table_total_area = data.pivot_table(index = 'rooms', values = 'price_meter', aggfunc = ['median'])\n",
    "pivot_table_total_area.columns = ['median']\n",
    "pivot_table_total_area.plot(y = 'median')\n",
    "\n",
    "\n",
    "data['rooms'].corr(data['price_meter'])"
   ]
  },
  {
   "cell_type": "code",
   "execution_count": 60,
   "metadata": {
    "scrolled": true
   },
   "outputs": [
    {
     "data": {
      "image/png": "[encoded data removed]",
      "text/plain": [
       "<Figure size 360x360 with 1 Axes>"
      ]
     },
     "metadata": {
      "needs_background": "light"
     },
     "output_type": "display_data"
    }
   ],
   "source": [
    "(data.pivot_table(index='floor_status', values='price_meter', aggfunc='median').plot( style='o-', figsize=(5, 5)))\n",
    "plt.show()\n"
   ]
  },
  {
   "cell_type": "code",
   "execution_count": 61,
   "metadata": {
    "scrolled": true
   },
   "outputs": [
    {
     "data": {
      "text/plain": [
       "-0.0122529918117748"
      ]
     },
     "execution_count": 61,
     "metadata": {},
     "output_type": "execute_result"
    },
    {
     "data": {
      "image/png": "[encoded data removed]",
      "text/plain": [
       "<Figure size 432x288 with 1 Axes>"
      ]
     },
     "metadata": {
      "needs_background": "light"
     },
     "output_type": "display_data"
    }
   ],
   "source": [
    "pivot_table_total_area = data.pivot_table(index = 'day', values = 'price_meter', aggfunc = ['median'])\n",
    "pivot_table_total_area.columns = ['median']\n",
    "pivot_table_total_area.plot(y = 'median')\n",
    "\n",
    "\n",
    "data['day'].corr(data['price_meter'])"
   ]
  },
  {
   "cell_type": "code",
   "execution_count": 62,
   "metadata": {
    "scrolled": true
   },
   "outputs": [
    {
     "data": {
      "text/plain": [
       "-0.004286337215142957"
      ]
     },
     "execution_count": 62,
     "metadata": {},
     "output_type": "execute_result"
    },
    {
     "data": {
      "image/png": "[encoded data removed]",
      "text/plain": [
       "<Figure size 432x288 with 1 Axes>"
      ]
     },
     "metadata": {
      "needs_background": "light"
     },
     "output_type": "display_data"
    }
   ],
   "source": [
    "pivot_table_total_area = data.pivot_table(index = 'month', values = 'price_meter', aggfunc = ['median'])\n",
    "pivot_table_total_area.columns = ['median']\n",
    "pivot_table_total_area.plot(y = 'median')\n",
    "\n",
    "\n",
    "data['month'].corr(data['price_meter'])"
   ]
  },
  {
   "cell_type": "code",
   "execution_count": 63,
   "metadata": {
    "scrolled": true
   },
   "outputs": [
    {
     "data": {
      "text/plain": [
       "-0.0434947400124368"
      ]
     },
     "execution_count": 63,
     "metadata": {},
     "output_type": "execute_result"
    },
    {
     "data": {
      "image/png": "[encoded data removed]",
      "text/plain": [
       "<Figure size 432x288 with 1 Axes>"
      ]
     },
     "metadata": {
      "needs_background": "light"
     },
     "output_type": "display_data"
    }
   ],
   "source": [
    "pivot_table_total_area = data.pivot_table(index = 'year', values = 'total_area', aggfunc = ['mean'])\n",
    "pivot_table_total_area.columns = [ 'mean']\n",
    "pivot_table_total_area.plot(y = 'mean')\n",
    "\n",
    "\n",
    "data['year'].corr(data['total_area'])"
   ]
  },
  {
   "cell_type": "code",
   "execution_count": 64,
   "metadata": {},
   "outputs": [
    {
     "data": {
      "text/plain": [
       "0.046085367081621385"
      ]
     },
     "execution_count": 64,
     "metadata": {},
     "output_type": "execute_result"
    },
    {
     "data": {
      "image/png": "[encoded data removed]",
      "text/plain": [
       "<Figure size 432x288 with 1 Axes>"
      ]
     },
     "metadata": {
      "needs_background": "light"
     },
     "output_type": "display_data"
    }
   ],
   "source": [
    "pivot_table_total_area = data.pivot_table(index = 'year', values = 'price_meter', aggfunc = ['mean'])\n",
    "pivot_table_total_area.columns = ['mean']\n",
    "pivot_table_total_area.plot(y = 'mean')\n",
    "\n",
    "\n",
    "data['year'].corr(data['price_meter'])"
   ]
  },
  {
   "cell_type": "markdown",
   "metadata": {},
   "source": [
    "**Вывод:** Чем больше площадь - тем выше стоимость квартиры (высокая корреляция). Площадь кухни также сильно влияет на цену квартиры, при этом жилая площадь менее сильно влияет на цену квартиры (что интересно). Скорее всего, кухня больше влияет на цену квартиры, так как люди там проводят большинство своего времени. Число комнат влияет на цену (больше комнат - больше цена), однако зависимость ниже, чем у площади. Первый этаж непосредственно влияет на стоимость квартиры - квартиры на 1-м этаже значительно дешевле. Чуть дороже последний этаж. Наибольшая стоимость у квартир, расположенных не на 1-м и не на последнем этаже. Рассмотрим зависимость от дня/недели и года размещения. День недели: дороже всего квартиры, опубликованные во вторник, дешевле всего - в субботу.\n",
    "Месяц: дороже всего квартиры, продающиеся с апреля, дешевле всего - с мая.\n",
    "Год: квартиры очень сильно подешевели в 2015-2017 годах, что, вероятно, кризисами в экономике и политике в России после событий 2014 года. В 2018 году цены снова стали повышаться на фоне роста благосостотояния граждан и государственных программах в сфере недвижимости"
   ]
  },
  {
   "cell_type": "code",
   "execution_count": 65,
   "metadata": {},
   "outputs": [
    {
     "data": {
      "text/plain": [
       "0.7088806052512869"
      ]
     },
     "execution_count": 65,
     "metadata": {},
     "output_type": "execute_result"
    },
    {
     "data": {
      "image/png": "[encoded data removed]",
      "text/plain": [
       "<Figure size 432x288 with 1 Axes>"
      ]
     },
     "metadata": {
      "needs_background": "light"
     },
     "output_type": "display_data"
    }
   ],
   "source": [
    "data.plot(x = 'total_area', y = 'last_price', kind = 'scatter');\n",
    "\n",
    "\n",
    "data['total_area'].corr(data['last_price'])"
   ]
  },
  {
   "cell_type": "code",
   "execution_count": 66,
   "metadata": {},
   "outputs": [
    {
     "data": {
      "text/plain": [
       "0.601881325701627"
      ]
     },
     "execution_count": 66,
     "metadata": {},
     "output_type": "execute_result"
    },
    {
     "data": {
      "image/png": "[encoded data removed]",
      "text/plain": [
       "<Figure size 432x288 with 1 Axes>"
      ]
     },
     "metadata": {
      "needs_background": "light"
     },
     "output_type": "display_data"
    }
   ],
   "source": [
    "data.plot(x = 'living_area', y = 'last_price', kind = 'scatter');\n",
    "\n",
    "\n",
    "data['living_area'].corr(data['last_price'])\n",
    "\n"
   ]
  },
  {
   "cell_type": "code",
   "execution_count": 67,
   "metadata": {
    "scrolled": true
   },
   "outputs": [
    {
     "data": {
      "text/plain": [
       "0.5427215283617142"
      ]
     },
     "execution_count": 67,
     "metadata": {},
     "output_type": "execute_result"
    },
    {
     "data": {
      "image/png": "[encoded data removed]",
      "text/plain": [
       "<Figure size 432x288 with 1 Axes>"
      ]
     },
     "metadata": {
      "needs_background": "light"
     },
     "output_type": "display_data"
    }
   ],
   "source": [
    "data.plot(x = 'kitchen_area', y = 'last_price', kind = 'scatter');\n",
    "\n",
    "\n",
    "data['kitchen_area'].corr(data['last_price'])"
   ]
  },
  {
   "cell_type": "code",
   "execution_count": 68,
   "metadata": {
    "scrolled": true
   },
   "outputs": [
    {
     "data": {
      "text/plain": [
       "0.3867673097026851"
      ]
     },
     "execution_count": 68,
     "metadata": {},
     "output_type": "execute_result"
    },
    {
     "data": {
      "image/png": "[encoded data removed]",
      "text/plain": [
       "<Figure size 432x288 with 1 Axes>"
      ]
     },
     "metadata": {
      "needs_background": "light"
     },
     "output_type": "display_data"
    }
   ],
   "source": [
    "pivot_table_total_area = data.pivot_table(index = 'rooms', values = 'last_price', aggfunc = ['median'])\n",
    "pivot_table_total_area.columns = ['median']\n",
    "pivot_table_total_area.plot(y = 'median')\n",
    "\n",
    "\n",
    "data['rooms'].corr(data['last_price'])"
   ]
  },
  {
   "cell_type": "code",
   "execution_count": 69,
   "metadata": {
    "scrolled": true
   },
   "outputs": [
    {
     "data": {
      "image/png": "[encoded data removed]",
      "text/plain": [
       "<Figure size 360x360 with 1 Axes>"
      ]
     },
     "metadata": {
      "needs_background": "light"
     },
     "output_type": "display_data"
    }
   ],
   "source": [
    "(data.pivot_table(index='floor_status', values='last_price', aggfunc='median').plot( style='o-', figsize=(5, 5)))\n",
    "plt.show()"
   ]
  },
  {
   "cell_type": "code",
   "execution_count": 70,
   "metadata": {
    "scrolled": true
   },
   "outputs": [
    {
     "data": {
      "text/plain": [
       "-0.011937057681492912"
      ]
     },
     "execution_count": 70,
     "metadata": {},
     "output_type": "execute_result"
    },
    {
     "data": {
      "image/png": "[encoded data removed]",
      "text/plain": [
       "<Figure size 432x288 with 1 Axes>"
      ]
     },
     "metadata": {
      "needs_background": "light"
     },
     "output_type": "display_data"
    }
   ],
   "source": [
    "pivot_table_total_area = data.pivot_table(index = 'day', values = 'last_price', aggfunc = ['median'])\n",
    "pivot_table_total_area.columns = ['median']\n",
    "pivot_table_total_area.plot(y = 'median')\n",
    "\n",
    "\n",
    "data['day'].corr(data['last_price'])"
   ]
  },
  {
   "cell_type": "code",
   "execution_count": 71,
   "metadata": {
    "scrolled": true
   },
   "outputs": [
    {
     "data": {
      "text/plain": [
       "0.007338178910859261"
      ]
     },
     "execution_count": 71,
     "metadata": {},
     "output_type": "execute_result"
    },
    {
     "data": {
      "image/png": "[encoded data removed]",
      "text/plain": [
       "<Figure size 432x288 with 1 Axes>"
      ]
     },
     "metadata": {
      "needs_background": "light"
     },
     "output_type": "display_data"
    }
   ],
   "source": [
    "pivot_table_total_area = data.pivot_table(index = 'month', values = 'last_price', aggfunc = ['median'])\n",
    "pivot_table_total_area.columns = ['median']\n",
    "pivot_table_total_area.plot(y = 'median')\n",
    "\n",
    "\n",
    "data['month'].corr(data['last_price'])"
   ]
  },
  {
   "cell_type": "code",
   "execution_count": 72,
   "metadata": {
    "scrolled": true
   },
   "outputs": [
    {
     "data": {
      "text/plain": [
       "-0.007714368375294356"
      ]
     },
     "execution_count": 72,
     "metadata": {},
     "output_type": "execute_result"
    },
    {
     "data": {
      "image/png": "[encoded data removed]",
      "text/plain": [
       "<Figure size 432x288 with 1 Axes>"
      ]
     },
     "metadata": {
      "needs_background": "light"
     },
     "output_type": "display_data"
    }
   ],
   "source": [
    "pivot_table_total_area = data.pivot_table(index = 'year', values = 'last_price', aggfunc = ['mean'])\n",
    "pivot_table_total_area.columns = ['mean']\n",
    "pivot_table_total_area.plot(y = 'mean')\n",
    "\n",
    "\n",
    "data['year'].corr(data['last_price'])"
   ]
  },
  {
   "cell_type": "markdown",
   "metadata": {},
   "source": [
    "Построии графики зависимости общей стоимости квартиры от 8 факторов. Общая площадь играет наиброльшую роль в формировании общей стоимости квартиры, чуть меньше влияют жилая площадь и площадь кухни. Чуть меньше влияет количество комнат (чем их больше - тем общая стоимость выше), а также влияет на общую стоиомость квартиры ее этаж"
   ]
  },
  {
   "cell_type": "code",
   "execution_count": 87,
   "metadata": {
    "scrolled": true
   },
   "outputs": [
    {
     "data": {
      "image/png": "[encoded data removed]",
      "text/plain": [
       "<Figure size 432x288 with 1 Axes>"
      ]
     },
     "metadata": {
      "needs_background": "light"
     },
     "output_type": "display_data"
    }
   ],
   "source": [
    "# check\n",
    "data.pivot_table(index = 'year', values = 'total_area').plot();"
   ]
  },
  {
   "cell_type": "markdown",
   "metadata": {},
   "source": [
    "### check top-10"
   ]
  },
  {
   "cell_type": "markdown",
   "metadata": {},
   "source": [
    "**Далее** Посчитаем среднюю цену одного квадратного метра в 10 населённых пунктах с наибольшим числом объявлений. Выделим населённые пункты с самой высокой и низкой стоимостью квадратного метра. "
   ]
  },
  {
   "cell_type": "code",
   "execution_count": 74,
   "metadata": {},
   "outputs": [
    {
     "data": {
      "text/html": [
       "<div>\n",
       "<style scoped>\n",
       "    .dataframe tbody tr th:only-of-type {\n",
       "        vertical-align: middle;\n",
       "    }\n",
       "\n",
       "    .dataframe tbody tr th {\n",
       "        vertical-align: top;\n",
       "    }\n",
       "\n",
       "    .dataframe thead th {\n",
       "        text-align: right;\n",
       "    }\n",
       "</style>\n",
       "<table border=\"1\" class=\"dataframe\">\n",
       "  <thead>\n",
       "    <tr style=\"text-align: right;\">\n",
       "      <th></th>\n",
       "      <th>count</th>\n",
       "      <th>mean</th>\n",
       "    </tr>\n",
       "    <tr>\n",
       "      <th>locality_name</th>\n",
       "      <th></th>\n",
       "      <th></th>\n",
       "    </tr>\n",
       "  </thead>\n",
       "  <tbody>\n",
       "    <tr>\n",
       "      <th>санкт-петербург</th>\n",
       "      <td>12489</td>\n",
       "      <td>111745.942750</td>\n",
       "    </tr>\n",
       "    <tr>\n",
       "      <th>поселок мурино</th>\n",
       "      <td>367</td>\n",
       "      <td>83380.991826</td>\n",
       "    </tr>\n",
       "    <tr>\n",
       "      <th>поселок шушары</th>\n",
       "      <td>348</td>\n",
       "      <td>76845.089080</td>\n",
       "    </tr>\n",
       "    <tr>\n",
       "      <th>всеволожск</th>\n",
       "      <td>311</td>\n",
       "      <td>69105.102894</td>\n",
       "    </tr>\n",
       "    <tr>\n",
       "      <th>колпино</th>\n",
       "      <td>290</td>\n",
       "      <td>75240.958621</td>\n",
       "    </tr>\n",
       "    <tr>\n",
       "      <th>пушкин</th>\n",
       "      <td>277</td>\n",
       "      <td>103143.068592</td>\n",
       "    </tr>\n",
       "    <tr>\n",
       "      <th>гатчина</th>\n",
       "      <td>246</td>\n",
       "      <td>69662.995935</td>\n",
       "    </tr>\n",
       "    <tr>\n",
       "      <th>поселок парголово</th>\n",
       "      <td>236</td>\n",
       "      <td>87072.190678</td>\n",
       "    </tr>\n",
       "    <tr>\n",
       "      <th>деревня кудрово</th>\n",
       "      <td>211</td>\n",
       "      <td>91156.355450</td>\n",
       "    </tr>\n",
       "    <tr>\n",
       "      <th>выборг</th>\n",
       "      <td>188</td>\n",
       "      <td>58097.180851</td>\n",
       "    </tr>\n",
       "  </tbody>\n",
       "</table>\n",
       "</div>"
      ],
      "text/plain": [
       "                   count           mean\n",
       "locality_name                          \n",
       "санкт-петербург    12489  111745.942750\n",
       "поселок мурино       367   83380.991826\n",
       "поселок шушары       348   76845.089080\n",
       "всеволожск           311   69105.102894\n",
       "колпино              290   75240.958621\n",
       "пушкин               277  103143.068592\n",
       "гатчина              246   69662.995935\n",
       "поселок парголово    236   87072.190678\n",
       "деревня кудрово      211   91156.355450\n",
       "выборг               188   58097.180851"
      ]
     },
     "execution_count": 74,
     "metadata": {},
     "output_type": "execute_result"
    }
   ],
   "source": [
    "locality_pivot_table = data.pivot_table(index = 'locality_name', values = 'price_meter', aggfunc=['count', 'mean'])\n",
    "locality_pivot_table.columns = ['count', 'mean']\n",
    "locality_pivot_table = locality_pivot_table.sort_values('count', ascending = False).head(10)\n",
    "locality_pivot_table"
   ]
  },
  {
   "cell_type": "code",
   "execution_count": 75,
   "metadata": {
    "scrolled": true
   },
   "outputs": [
    {
     "data": {
      "text/html": [
       "<div>\n",
       "<style scoped>\n",
       "    .dataframe tbody tr th:only-of-type {\n",
       "        vertical-align: middle;\n",
       "    }\n",
       "\n",
       "    .dataframe tbody tr th {\n",
       "        vertical-align: top;\n",
       "    }\n",
       "\n",
       "    .dataframe thead th {\n",
       "        text-align: right;\n",
       "    }\n",
       "</style>\n",
       "<table border=\"1\" class=\"dataframe\">\n",
       "  <thead>\n",
       "    <tr style=\"text-align: right;\">\n",
       "      <th></th>\n",
       "      <th>count</th>\n",
       "      <th>mean</th>\n",
       "    </tr>\n",
       "    <tr>\n",
       "      <th>locality_name</th>\n",
       "      <th></th>\n",
       "      <th></th>\n",
       "    </tr>\n",
       "  </thead>\n",
       "  <tbody>\n",
       "    <tr>\n",
       "      <th>санкт-петербург</th>\n",
       "      <td>12489</td>\n",
       "      <td>111745.94275</td>\n",
       "    </tr>\n",
       "  </tbody>\n",
       "</table>\n",
       "</div>"
      ],
      "text/plain": [
       "                 count          mean\n",
       "locality_name                       \n",
       "санкт-петербург  12489  111745.94275"
      ]
     },
     "execution_count": 75,
     "metadata": {},
     "output_type": "execute_result"
    }
   ],
   "source": [
    "locality_pivot_table[locality_pivot_table['mean']==locality_pivot_table['mean'].max()] #самая высокая стоимость"
   ]
  },
  {
   "cell_type": "code",
   "execution_count": 76,
   "metadata": {
    "scrolled": true
   },
   "outputs": [
    {
     "data": {
      "text/html": [
       "<div>\n",
       "<style scoped>\n",
       "    .dataframe tbody tr th:only-of-type {\n",
       "        vertical-align: middle;\n",
       "    }\n",
       "\n",
       "    .dataframe tbody tr th {\n",
       "        vertical-align: top;\n",
       "    }\n",
       "\n",
       "    .dataframe thead th {\n",
       "        text-align: right;\n",
       "    }\n",
       "</style>\n",
       "<table border=\"1\" class=\"dataframe\">\n",
       "  <thead>\n",
       "    <tr style=\"text-align: right;\">\n",
       "      <th></th>\n",
       "      <th>count</th>\n",
       "      <th>mean</th>\n",
       "    </tr>\n",
       "    <tr>\n",
       "      <th>locality_name</th>\n",
       "      <th></th>\n",
       "      <th></th>\n",
       "    </tr>\n",
       "  </thead>\n",
       "  <tbody>\n",
       "    <tr>\n",
       "      <th>выборг</th>\n",
       "      <td>188</td>\n",
       "      <td>58097.180851</td>\n",
       "    </tr>\n",
       "  </tbody>\n",
       "</table>\n",
       "</div>"
      ],
      "text/plain": [
       "               count          mean\n",
       "locality_name                     \n",
       "выборг           188  58097.180851"
      ]
     },
     "execution_count": 76,
     "metadata": {},
     "output_type": "execute_result"
    }
   ],
   "source": [
    "\n",
    "locality_pivot_table[locality_pivot_table['mean']==locality_pivot_table['mean'].min()] #самая низкая стоимость жилья"
   ]
  },
  {
   "cell_type": "markdown",
   "metadata": {},
   "source": [
    "**Теперь** выделим квартиры в Санкт-Петербурге и вычислим среднюю цену каждого километра."
   ]
  },
  {
   "cell_type": "code",
   "execution_count": 77,
   "metadata": {},
   "outputs": [
    {
     "data": {
      "image/png": "[encoded data removed]",
      "text/plain": [
       "<Figure size 720x360 with 1 Axes>"
      ]
     },
     "metadata": {
      "needs_background": "light"
     },
     "output_type": "display_data"
    }
   ],
   "source": [
    "(data.query('locality_name == \"санкт-петербург\"').pivot_table(index='city_centers_nearest_km', values='last_price').plot(style='o-', xlim=(0,15), figsize=(10, 5)))\n",
    "plt.show()"
   ]
  },
  {
   "cell_type": "markdown",
   "metadata": {},
   "source": [
    "**Вывод:** Наибольшее число объявлений приходится на Санкт-Петербург (что довольно логично), средняя цена квадратного метра составляет почти 115 тысяч рублей. На втором месте идет Мурино - этот поселок сейчас густо населен, это настоящий \"человейник\" - в СМИ его нередко называют \"гетто\", при этом он является поппулярным среди людей, переезжающих в Петербург, так как расположен рядом с городом и имеет близкое расположение к станции метро \"Девяткино\" и выход к КАД. Наименьшая цена квадратного метра в Выборге - чуть больше 58 тысяч рублей - город расположен на значительном расстоянии от Санкт-Петербурга, добраться до города можно на \"Ласточке\" за 2 часа или на автомобиле также примерно за 2 часа. В Санкт-Петербурге условно центром считается расстояние до 7 км - дальше цена резко снижается. В 6 километрах, напрмиер, находится район \"Петроградская\" и \"Приморский\", которые обладают высокой стоимостью жилья (прежде всего из-за инфраструктуры и месторасположения)"
   ]
  },
  {
   "cell_type": "markdown",
   "metadata": {},
   "source": [
    "### Общие выводы по проекту"
   ]
  },
  {
   "cell_type": "markdown",
   "metadata": {},
   "source": [
    "На первом этапе полученный датасет был обработан от ошибок (пропущенные значения, неверные имена столбцов, неверный формат данных, аномальные значения). \n",
    "Далее добавили новые столбцы с ценой квадратного метра, со временем публикации объявлений, с типом этажа, расстоянием до центра города в километрах.\n",
    "\n",
    "После этого изучили следующие параметры: - площадь (общая, жилая, кухни), цена, число комнат, высота потолков, расстояние до аэропорта, центра, парков.  \n",
    "Нами было выявилено, что на стоимость квадратного метра квартиры больше всего влияют общая площадь и площадь кухни, количество комнат (в меньшей степени), этаж квартиры (первый этаж наиболее дешевый - дороже всего квартиры не на первом и не на последнем этаже), близость к центру.\n",
    "Незначительно на стоимость квадратного метра влияют время размещения объявления и площадь комнаты. \n",
    "Было выявлено, что на рынке недвижимости произошел спад средней площади квартир, при этом выросла их стоимость, что говорит о росте средней стоимости квадратного метра. \n",
    "Было выявлено, что многие квартиры расположены на 1-4 этаже, а также много квартир на 5 (скорее всего, большинство квартир - \"Хрущевки\")\n",
    "Наибольшая стоимость квартратного метра - в Санкт-Петербурге, наименьшая - в Выборге.\n",
    "Чаще всего квартиру продают за 95 дней. Есть большое число квартир, проданных всего за несколько дней после публикации, а также те квартиры, которые продавались несколько месяцев.\n",
    "\n",
    "Центр Петербурга можно охарактеризовать как 7км расастояние от условного центра города. \n"
   ]
  }
 ],
 "metadata": {
  "ExecuteTimeLog": [
   {
    "duration": 719,
    "start_time": "2022-10-03T17:52:08.277Z"
   },
   {
    "duration": 98,
    "start_time": "2022-10-03T17:52:29.233Z"
   },
   {
    "duration": 103,
    "start_time": "2022-10-03T17:53:16.956Z"
   },
   {
    "duration": 2368,
    "start_time": "2022-10-03T17:58:02.213Z"
   },
   {
    "duration": 18,
    "start_time": "2022-10-03T18:04:53.430Z"
   },
   {
    "duration": 988,
    "start_time": "2022-10-03T18:10:48.596Z"
   },
   {
    "duration": 29,
    "start_time": "2022-10-03T18:11:00.388Z"
   },
   {
    "duration": 22,
    "start_time": "2022-10-03T18:11:23.491Z"
   },
   {
    "duration": 37,
    "start_time": "2022-10-03T18:13:04.534Z"
   },
   {
    "duration": 28,
    "start_time": "2022-10-03T18:36:14.164Z"
   },
   {
    "duration": 33,
    "start_time": "2022-10-03T18:37:04.112Z"
   },
   {
    "duration": 19,
    "start_time": "2022-10-03T18:37:29.592Z"
   },
   {
    "duration": 45,
    "start_time": "2022-10-03T18:39:36.918Z"
   },
   {
    "duration": 40,
    "start_time": "2022-10-03T18:44:40.313Z"
   },
   {
    "duration": 823,
    "start_time": "2022-10-03T18:45:53.986Z"
   },
   {
    "duration": 1249,
    "start_time": "2022-10-03T18:46:16.670Z"
   },
   {
    "duration": 845,
    "start_time": "2022-10-03T18:47:00.927Z"
   },
   {
    "duration": 39,
    "start_time": "2022-10-03T18:47:18.827Z"
   },
   {
    "duration": 7,
    "start_time": "2022-10-03T18:57:09.719Z"
   },
   {
    "duration": 9,
    "start_time": "2022-10-03T19:00:46.215Z"
   },
   {
    "duration": 6,
    "start_time": "2022-10-03T19:03:47.391Z"
   },
   {
    "duration": 6,
    "start_time": "2022-10-03T19:03:56.065Z"
   },
   {
    "duration": 8,
    "start_time": "2022-10-03T19:05:41.238Z"
   },
   {
    "duration": 10,
    "start_time": "2022-10-03T19:05:48.396Z"
   },
   {
    "duration": 10,
    "start_time": "2022-10-03T19:05:54.084Z"
   },
   {
    "duration": 4,
    "start_time": "2022-10-03T19:06:26.408Z"
   },
   {
    "duration": 8,
    "start_time": "2022-10-03T19:06:46.441Z"
   },
   {
    "duration": 160,
    "start_time": "2022-10-03T19:10:38.198Z"
   },
   {
    "duration": 64,
    "start_time": "2022-10-03T19:14:59.397Z"
   },
   {
    "duration": 7,
    "start_time": "2022-10-03T19:17:49.276Z"
   },
   {
    "duration": 32,
    "start_time": "2022-10-03T19:19:05.127Z"
   },
   {
    "duration": 38,
    "start_time": "2022-10-03T19:19:17.143Z"
   },
   {
    "duration": 49,
    "start_time": "2022-10-03T19:20:04.215Z"
   },
   {
    "duration": 131,
    "start_time": "2022-10-03T19:21:06.830Z"
   },
   {
    "duration": 127,
    "start_time": "2022-10-03T19:21:43.977Z"
   },
   {
    "duration": 131,
    "start_time": "2022-10-03T19:21:49.783Z"
   },
   {
    "duration": 144,
    "start_time": "2022-10-03T19:22:13.895Z"
   },
   {
    "duration": 128,
    "start_time": "2022-10-03T19:23:12.156Z"
   },
   {
    "duration": 57,
    "start_time": "2022-10-03T19:25:52.265Z"
   },
   {
    "duration": 71,
    "start_time": "2022-10-03T19:26:08.823Z"
   },
   {
    "duration": 76,
    "start_time": "2022-10-03T19:26:55.515Z"
   },
   {
    "duration": 65,
    "start_time": "2022-10-03T19:29:18.401Z"
   },
   {
    "duration": 46,
    "start_time": "2022-10-03T19:31:23.997Z"
   },
   {
    "duration": 56,
    "start_time": "2022-10-03T19:31:30.875Z"
   },
   {
    "duration": 20,
    "start_time": "2022-10-03T19:36:45.200Z"
   },
   {
    "duration": 12,
    "start_time": "2022-10-03T19:37:17.961Z"
   },
   {
    "duration": 11,
    "start_time": "2022-10-03T19:37:31.166Z"
   },
   {
    "duration": 49,
    "start_time": "2022-10-03T19:42:11.500Z"
   },
   {
    "duration": 34,
    "start_time": "2022-10-03T19:43:48.638Z"
   },
   {
    "duration": 44,
    "start_time": "2022-10-03T19:43:57.832Z"
   },
   {
    "duration": 15,
    "start_time": "2022-10-03T19:44:25.057Z"
   },
   {
    "duration": 17,
    "start_time": "2022-10-03T19:44:52.243Z"
   },
   {
    "duration": 16,
    "start_time": "2022-10-03T19:45:17.520Z"
   },
   {
    "duration": 14,
    "start_time": "2022-10-03T19:45:33.014Z"
   },
   {
    "duration": 11,
    "start_time": "2022-10-03T19:45:38.687Z"
   },
   {
    "duration": 27,
    "start_time": "2022-10-03T19:45:45.566Z"
   },
   {
    "duration": 11,
    "start_time": "2022-10-03T19:45:53.042Z"
   },
   {
    "duration": 11,
    "start_time": "2022-10-03T19:46:12.861Z"
   },
   {
    "duration": 118,
    "start_time": "2022-10-03T19:46:17.458Z"
   },
   {
    "duration": 1878,
    "start_time": "2022-10-03T19:46:22.442Z"
   },
   {
    "duration": 43,
    "start_time": "2022-10-03T19:46:29.445Z"
   },
   {
    "duration": 21,
    "start_time": "2022-10-03T19:46:34.336Z"
   },
   {
    "duration": 64,
    "start_time": "2022-10-03T19:47:53.283Z"
   },
   {
    "duration": 49,
    "start_time": "2022-10-03T19:48:12.491Z"
   },
   {
    "duration": 57,
    "start_time": "2022-10-03T19:48:32.482Z"
   },
   {
    "duration": 56,
    "start_time": "2022-10-03T19:48:47.198Z"
   },
   {
    "duration": 31,
    "start_time": "2022-10-03T19:48:57.005Z"
   },
   {
    "duration": 41,
    "start_time": "2022-10-03T19:49:13.539Z"
   },
   {
    "duration": 497,
    "start_time": "2022-10-03T19:49:41.359Z"
   },
   {
    "duration": 2112,
    "start_time": "2022-10-03T19:49:41.857Z"
   },
   {
    "duration": 45,
    "start_time": "2022-10-03T19:49:43.970Z"
   },
   {
    "duration": 27,
    "start_time": "2022-10-03T19:49:44.016Z"
   },
   {
    "duration": 39,
    "start_time": "2022-10-03T19:50:10.748Z"
   },
   {
    "duration": 5,
    "start_time": "2022-10-03T20:03:56.983Z"
   },
   {
    "duration": 612,
    "start_time": "2022-10-04T09:23:59.318Z"
   },
   {
    "duration": 2752,
    "start_time": "2022-10-04T09:23:59.933Z"
   },
   {
    "duration": 53,
    "start_time": "2022-10-04T09:24:02.687Z"
   },
   {
    "duration": 56,
    "start_time": "2022-10-04T09:24:02.742Z"
   },
   {
    "duration": 5,
    "start_time": "2022-10-04T09:24:02.800Z"
   },
   {
    "duration": 6,
    "start_time": "2022-10-04T09:28:19.123Z"
   },
   {
    "duration": 8,
    "start_time": "2022-10-04T09:28:47.437Z"
   },
   {
    "duration": 12,
    "start_time": "2022-10-04T09:29:04.480Z"
   },
   {
    "duration": 9,
    "start_time": "2022-10-04T09:29:49.052Z"
   },
   {
    "duration": 9,
    "start_time": "2022-10-04T09:30:16.030Z"
   },
   {
    "duration": 7,
    "start_time": "2022-10-04T09:36:29.827Z"
   },
   {
    "duration": 6,
    "start_time": "2022-10-04T09:37:48.362Z"
   },
   {
    "duration": 6,
    "start_time": "2022-10-04T09:38:49.320Z"
   },
   {
    "duration": 329,
    "start_time": "2022-10-04T09:46:49.032Z"
   },
   {
    "duration": 1664,
    "start_time": "2022-10-04T09:55:24.672Z"
   },
   {
    "duration": 1297,
    "start_time": "2022-10-04T09:57:26.851Z"
   },
   {
    "duration": 48,
    "start_time": "2022-10-04T09:58:07.091Z"
   },
   {
    "duration": 5,
    "start_time": "2022-10-04T09:59:46.237Z"
   },
   {
    "duration": 26,
    "start_time": "2022-10-04T10:00:52.784Z"
   },
   {
    "duration": 21,
    "start_time": "2022-10-04T10:11:19.146Z"
   },
   {
    "duration": 18,
    "start_time": "2022-10-04T10:11:46.744Z"
   },
   {
    "duration": 319,
    "start_time": "2022-10-04T10:13:03.601Z"
   },
   {
    "duration": 248,
    "start_time": "2022-10-04T10:13:36.578Z"
   },
   {
    "duration": 284,
    "start_time": "2022-10-04T10:15:41.283Z"
   },
   {
    "duration": 256,
    "start_time": "2022-10-04T10:15:54.525Z"
   },
   {
    "duration": 398,
    "start_time": "2022-10-04T10:16:28.893Z"
   },
   {
    "duration": 465,
    "start_time": "2022-10-04T10:16:41.284Z"
   },
   {
    "duration": 258,
    "start_time": "2022-10-04T10:16:47.676Z"
   },
   {
    "duration": 259,
    "start_time": "2022-10-04T10:17:22.435Z"
   },
   {
    "duration": 256,
    "start_time": "2022-10-04T10:17:32.266Z"
   },
   {
    "duration": 281,
    "start_time": "2022-10-04T10:18:22.395Z"
   },
   {
    "duration": 258,
    "start_time": "2022-10-04T10:21:14.702Z"
   },
   {
    "duration": 441,
    "start_time": "2022-10-04T10:21:25.945Z"
   },
   {
    "duration": 79,
    "start_time": "2022-10-04T10:21:40.725Z"
   },
   {
    "duration": 291,
    "start_time": "2022-10-04T10:21:50.301Z"
   },
   {
    "duration": 49,
    "start_time": "2022-10-04T10:24:46.218Z"
   },
   {
    "duration": 279,
    "start_time": "2022-10-04T10:24:52.465Z"
   },
   {
    "duration": 320,
    "start_time": "2022-10-04T10:25:21.704Z"
   },
   {
    "duration": 263,
    "start_time": "2022-10-04T10:25:33.474Z"
   },
   {
    "duration": 433,
    "start_time": "2022-10-04T10:25:41.259Z"
   },
   {
    "duration": 294,
    "start_time": "2022-10-04T10:26:02.973Z"
   },
   {
    "duration": 275,
    "start_time": "2022-10-04T10:26:14.568Z"
   },
   {
    "duration": 271,
    "start_time": "2022-10-04T10:26:22.933Z"
   },
   {
    "duration": 280,
    "start_time": "2022-10-04T10:28:32.210Z"
   },
   {
    "duration": 198,
    "start_time": "2022-10-04T10:29:49.329Z"
   },
   {
    "duration": 79,
    "start_time": "2022-10-04T10:30:00.658Z"
   },
   {
    "duration": 172,
    "start_time": "2022-10-04T10:30:06.570Z"
   },
   {
    "duration": 200,
    "start_time": "2022-10-04T10:30:11.295Z"
   },
   {
    "duration": 222,
    "start_time": "2022-10-04T10:30:24.892Z"
   },
   {
    "duration": 746,
    "start_time": "2022-10-04T10:30:30.993Z"
   },
   {
    "duration": 292,
    "start_time": "2022-10-04T10:30:38.001Z"
   },
   {
    "duration": 187,
    "start_time": "2022-10-04T10:30:47.524Z"
   },
   {
    "duration": 272,
    "start_time": "2022-10-04T10:30:54.260Z"
   },
   {
    "duration": 191,
    "start_time": "2022-10-04T10:30:59.993Z"
   },
   {
    "duration": 202,
    "start_time": "2022-10-04T10:32:13.967Z"
   },
   {
    "duration": 191,
    "start_time": "2022-10-04T10:32:22.504Z"
   },
   {
    "duration": 733,
    "start_time": "2022-10-04T16:45:50.018Z"
   },
   {
    "duration": 2272,
    "start_time": "2022-10-04T16:45:50.753Z"
   },
   {
    "duration": 49,
    "start_time": "2022-10-04T16:45:53.027Z"
   },
   {
    "duration": 43,
    "start_time": "2022-10-04T16:45:53.078Z"
   },
   {
    "duration": 9,
    "start_time": "2022-10-04T16:45:53.124Z"
   },
   {
    "duration": 7,
    "start_time": "2022-10-04T16:45:53.134Z"
   },
   {
    "duration": 12,
    "start_time": "2022-10-04T16:45:53.143Z"
   },
   {
    "duration": 8,
    "start_time": "2022-10-04T16:45:53.157Z"
   },
   {
    "duration": 10,
    "start_time": "2022-10-04T16:45:53.167Z"
   },
   {
    "duration": 374,
    "start_time": "2022-10-04T16:45:53.179Z"
   },
   {
    "duration": 3,
    "start_time": "2022-10-04T16:45:53.555Z"
   },
   {
    "duration": 29,
    "start_time": "2022-10-04T16:45:53.560Z"
   },
   {
    "duration": 251,
    "start_time": "2022-10-04T16:45:53.591Z"
   },
   {
    "duration": 319,
    "start_time": "2022-10-04T16:45:53.845Z"
   },
   {
    "duration": 176,
    "start_time": "2022-10-04T16:45:54.166Z"
   },
   {
    "duration": 226,
    "start_time": "2022-10-04T16:45:54.344Z"
   },
   {
    "duration": 167,
    "start_time": "2022-10-04T16:45:54.571Z"
   },
   {
    "duration": 175,
    "start_time": "2022-10-04T16:45:54.739Z"
   },
   {
    "duration": 169,
    "start_time": "2022-10-04T16:49:00.288Z"
   },
   {
    "duration": 159,
    "start_time": "2022-10-04T16:49:08.231Z"
   },
   {
    "duration": 89,
    "start_time": "2022-10-04T16:49:57.481Z"
   },
   {
    "duration": 4,
    "start_time": "2022-10-04T16:50:32.204Z"
   },
   {
    "duration": 10,
    "start_time": "2022-10-04T16:54:04.541Z"
   },
   {
    "duration": 8,
    "start_time": "2022-10-04T16:54:39.482Z"
   },
   {
    "duration": 15,
    "start_time": "2022-10-04T16:54:46.063Z"
   },
   {
    "duration": 8,
    "start_time": "2022-10-04T16:55:15.370Z"
   },
   {
    "duration": 8,
    "start_time": "2022-10-04T16:55:36.147Z"
   },
   {
    "duration": 123,
    "start_time": "2022-10-04T16:56:06.578Z"
   },
   {
    "duration": 10,
    "start_time": "2022-10-04T16:56:14.083Z"
   },
   {
    "duration": 8,
    "start_time": "2022-10-04T16:58:44.706Z"
   },
   {
    "duration": 8,
    "start_time": "2022-10-04T16:59:14.131Z"
   },
   {
    "duration": 157,
    "start_time": "2022-10-04T17:01:06.677Z"
   },
   {
    "duration": 174,
    "start_time": "2022-10-04T17:01:13.969Z"
   },
   {
    "duration": 1559,
    "start_time": "2022-10-04T17:02:27.871Z"
   },
   {
    "duration": 1337,
    "start_time": "2022-10-04T17:02:50.684Z"
   },
   {
    "duration": 538,
    "start_time": "2022-10-04T17:03:01.835Z"
   },
   {
    "duration": 2058,
    "start_time": "2022-10-04T17:03:02.375Z"
   },
   {
    "duration": 46,
    "start_time": "2022-10-04T17:03:04.435Z"
   },
   {
    "duration": 39,
    "start_time": "2022-10-04T17:03:04.483Z"
   },
   {
    "duration": 7,
    "start_time": "2022-10-04T17:03:04.525Z"
   },
   {
    "duration": 6,
    "start_time": "2022-10-04T17:03:04.534Z"
   },
   {
    "duration": 11,
    "start_time": "2022-10-04T17:03:04.542Z"
   },
   {
    "duration": 9,
    "start_time": "2022-10-04T17:03:04.555Z"
   },
   {
    "duration": 7,
    "start_time": "2022-10-04T17:03:04.565Z"
   },
   {
    "duration": 342,
    "start_time": "2022-10-04T17:03:04.574Z"
   },
   {
    "duration": 3,
    "start_time": "2022-10-04T17:03:04.917Z"
   },
   {
    "duration": 26,
    "start_time": "2022-10-04T17:03:04.922Z"
   },
   {
    "duration": 254,
    "start_time": "2022-10-04T17:03:04.949Z"
   },
   {
    "duration": 296,
    "start_time": "2022-10-04T17:03:05.208Z"
   },
   {
    "duration": 175,
    "start_time": "2022-10-04T17:03:05.505Z"
   },
   {
    "duration": 229,
    "start_time": "2022-10-04T17:03:05.681Z"
   },
   {
    "duration": 171,
    "start_time": "2022-10-04T17:03:05.912Z"
   },
   {
    "duration": 179,
    "start_time": "2022-10-04T17:03:06.084Z"
   },
   {
    "duration": 169,
    "start_time": "2022-10-04T17:03:06.265Z"
   },
   {
    "duration": 176,
    "start_time": "2022-10-04T17:03:06.436Z"
   },
   {
    "duration": 167,
    "start_time": "2022-10-04T17:03:06.614Z"
   },
   {
    "duration": 157,
    "start_time": "2022-10-04T17:03:32.046Z"
   },
   {
    "duration": 171,
    "start_time": "2022-10-04T17:04:28.820Z"
   },
   {
    "duration": 245,
    "start_time": "2022-10-04T17:04:41.006Z"
   },
   {
    "duration": 154,
    "start_time": "2022-10-04T17:04:49.947Z"
   },
   {
    "duration": 130,
    "start_time": "2022-10-04T17:04:58.223Z"
   },
   {
    "duration": 175,
    "start_time": "2022-10-04T17:06:24.181Z"
   },
   {
    "duration": 163,
    "start_time": "2022-10-04T17:07:55.710Z"
   },
   {
    "duration": 170,
    "start_time": "2022-10-04T17:08:06.276Z"
   },
   {
    "duration": 202,
    "start_time": "2022-10-04T17:08:32.560Z"
   },
   {
    "duration": 156,
    "start_time": "2022-10-04T17:08:38.145Z"
   },
   {
    "duration": 154,
    "start_time": "2022-10-04T17:08:46.039Z"
   },
   {
    "duration": 146,
    "start_time": "2022-10-04T17:08:52.058Z"
   },
   {
    "duration": 235,
    "start_time": "2022-10-04T17:08:57.709Z"
   },
   {
    "duration": 255,
    "start_time": "2022-10-04T17:09:08.339Z"
   },
   {
    "duration": 181,
    "start_time": "2022-10-04T17:09:17.179Z"
   },
   {
    "duration": 176,
    "start_time": "2022-10-04T17:09:23.552Z"
   },
   {
    "duration": 1733,
    "start_time": "2022-10-04T17:15:00.551Z"
   },
   {
    "duration": 391,
    "start_time": "2022-10-04T17:15:26.705Z"
   },
   {
    "duration": 173,
    "start_time": "2022-10-04T17:16:24.643Z"
   },
   {
    "duration": 524,
    "start_time": "2022-10-04T17:16:57.474Z"
   },
   {
    "duration": 2053,
    "start_time": "2022-10-04T17:16:58.000Z"
   },
   {
    "duration": 47,
    "start_time": "2022-10-04T17:17:00.054Z"
   },
   {
    "duration": 44,
    "start_time": "2022-10-04T17:17:00.102Z"
   },
   {
    "duration": 23,
    "start_time": "2022-10-04T17:17:00.148Z"
   },
   {
    "duration": 14,
    "start_time": "2022-10-04T17:17:00.172Z"
   },
   {
    "duration": 36,
    "start_time": "2022-10-04T17:17:00.187Z"
   },
   {
    "duration": 22,
    "start_time": "2022-10-04T17:17:00.224Z"
   },
   {
    "duration": 31,
    "start_time": "2022-10-04T17:17:00.247Z"
   },
   {
    "duration": 358,
    "start_time": "2022-10-04T17:17:00.280Z"
   },
   {
    "duration": 3,
    "start_time": "2022-10-04T17:17:00.640Z"
   },
   {
    "duration": 27,
    "start_time": "2022-10-04T17:17:00.645Z"
   },
   {
    "duration": 258,
    "start_time": "2022-10-04T17:17:00.673Z"
   },
   {
    "duration": 319,
    "start_time": "2022-10-04T17:17:00.934Z"
   },
   {
    "duration": 172,
    "start_time": "2022-10-04T17:17:01.255Z"
   },
   {
    "duration": 241,
    "start_time": "2022-10-04T17:17:01.429Z"
   },
   {
    "duration": 177,
    "start_time": "2022-10-04T17:17:01.672Z"
   },
   {
    "duration": 174,
    "start_time": "2022-10-04T17:17:01.851Z"
   },
   {
    "duration": 175,
    "start_time": "2022-10-04T17:17:02.027Z"
   },
   {
    "duration": 418,
    "start_time": "2022-10-04T17:17:02.204Z"
   },
   {
    "duration": 220,
    "start_time": "2022-10-04T17:17:02.626Z"
   },
   {
    "duration": 182,
    "start_time": "2022-10-04T17:17:02.848Z"
   },
   {
    "duration": 223,
    "start_time": "2022-10-04T17:17:03.032Z"
   },
   {
    "duration": 186,
    "start_time": "2022-10-04T17:17:03.256Z"
   },
   {
    "duration": 181,
    "start_time": "2022-10-04T17:17:03.444Z"
   },
   {
    "duration": 185,
    "start_time": "2022-10-04T17:17:03.626Z"
   },
   {
    "duration": 56,
    "start_time": "2022-10-04T17:17:03.813Z"
   },
   {
    "duration": 169,
    "start_time": "2022-10-04T17:17:27.591Z"
   },
   {
    "duration": 533,
    "start_time": "2022-10-04T17:20:46.555Z"
   },
   {
    "duration": 467,
    "start_time": "2022-10-04T17:21:04.435Z"
   },
   {
    "duration": 57,
    "start_time": "2022-10-04T17:21:37.099Z"
   },
   {
    "duration": 50,
    "start_time": "2022-10-04T17:22:02.916Z"
   },
   {
    "duration": 535,
    "start_time": "2022-10-04T17:22:42.971Z"
   },
   {
    "duration": 505,
    "start_time": "2022-10-04T17:23:12.818Z"
   },
   {
    "duration": 259,
    "start_time": "2022-10-04T17:23:27.575Z"
   },
   {
    "duration": 2480,
    "start_time": "2022-10-04T17:28:43.049Z"
   },
   {
    "duration": 154,
    "start_time": "2022-10-04T17:29:23.015Z"
   },
   {
    "duration": 40,
    "start_time": "2022-10-04T17:29:35.080Z"
   },
   {
    "duration": 83,
    "start_time": "2022-10-04T17:39:56.438Z"
   },
   {
    "duration": 170,
    "start_time": "2022-10-04T17:40:42.680Z"
   },
   {
    "duration": 143,
    "start_time": "2022-10-04T17:40:49.296Z"
   },
   {
    "duration": 5,
    "start_time": "2022-10-04T17:41:29.204Z"
   },
   {
    "duration": 1019,
    "start_time": "2022-10-04T17:42:00.065Z"
   },
   {
    "duration": 191,
    "start_time": "2022-10-04T17:42:32.464Z"
   },
   {
    "duration": 162,
    "start_time": "2022-10-04T17:44:16.653Z"
   },
   {
    "duration": 160,
    "start_time": "2022-10-04T17:45:23.122Z"
   },
   {
    "duration": 140,
    "start_time": "2022-10-04T17:45:37.669Z"
   },
   {
    "duration": 143,
    "start_time": "2022-10-04T17:45:47.873Z"
   },
   {
    "duration": 146,
    "start_time": "2022-10-04T17:49:51.600Z"
   },
   {
    "duration": 149,
    "start_time": "2022-10-04T17:50:35.763Z"
   },
   {
    "duration": 25,
    "start_time": "2022-10-04T17:51:43.849Z"
   },
   {
    "duration": 168,
    "start_time": "2022-10-04T17:52:07.091Z"
   },
   {
    "duration": 406,
    "start_time": "2022-10-04T17:53:43.328Z"
   },
   {
    "duration": 763,
    "start_time": "2022-10-04T17:54:36.893Z"
   },
   {
    "duration": 335,
    "start_time": "2022-10-04T17:55:03.565Z"
   },
   {
    "duration": 267,
    "start_time": "2022-10-04T17:55:22.156Z"
   },
   {
    "duration": 125,
    "start_time": "2022-10-04T17:57:52.978Z"
   },
   {
    "duration": 132,
    "start_time": "2022-10-04T17:58:07.117Z"
   },
   {
    "duration": 404,
    "start_time": "2022-10-04T17:58:40.951Z"
   },
   {
    "duration": 133,
    "start_time": "2022-10-04T18:00:13.628Z"
   },
   {
    "duration": 150,
    "start_time": "2022-10-04T18:43:58.368Z"
   },
   {
    "duration": 147,
    "start_time": "2022-10-04T18:44:38.434Z"
   },
   {
    "duration": 148,
    "start_time": "2022-10-04T18:44:59.670Z"
   },
   {
    "duration": 21,
    "start_time": "2022-10-04T18:52:04.562Z"
   },
   {
    "duration": 28,
    "start_time": "2022-10-04T18:52:29.677Z"
   },
   {
    "duration": 17,
    "start_time": "2022-10-04T18:53:00.079Z"
   },
   {
    "duration": 26,
    "start_time": "2022-10-04T18:53:25.233Z"
   },
   {
    "duration": 25,
    "start_time": "2022-10-04T18:53:34.569Z"
   },
   {
    "duration": 9,
    "start_time": "2022-10-04T18:54:02.724Z"
   },
   {
    "duration": 8,
    "start_time": "2022-10-04T18:54:26.991Z"
   },
   {
    "duration": 7,
    "start_time": "2022-10-04T18:54:47.637Z"
   },
   {
    "duration": 7,
    "start_time": "2022-10-04T18:54:57.729Z"
   },
   {
    "duration": 4,
    "start_time": "2022-10-04T18:59:49.665Z"
   },
   {
    "duration": 20,
    "start_time": "2022-10-04T18:59:52.233Z"
   },
   {
    "duration": 5,
    "start_time": "2022-10-04T19:00:23.475Z"
   },
   {
    "duration": 6,
    "start_time": "2022-10-04T19:00:35.176Z"
   },
   {
    "duration": 4,
    "start_time": "2022-10-04T19:00:45.262Z"
   },
   {
    "duration": 6,
    "start_time": "2022-10-04T19:02:36.788Z"
   },
   {
    "duration": 22,
    "start_time": "2022-10-04T19:02:40.421Z"
   },
   {
    "duration": 20,
    "start_time": "2022-10-04T19:09:06.277Z"
   },
   {
    "duration": 22,
    "start_time": "2022-10-04T19:10:58.757Z"
   },
   {
    "duration": 45,
    "start_time": "2022-10-04T19:12:34.217Z"
   },
   {
    "duration": 13,
    "start_time": "2022-10-04T19:12:56.196Z"
   },
   {
    "duration": 19,
    "start_time": "2022-10-04T19:13:08.013Z"
   },
   {
    "duration": 7,
    "start_time": "2022-10-04T19:13:35.149Z"
   },
   {
    "duration": 22,
    "start_time": "2022-10-04T19:14:29.422Z"
   },
   {
    "duration": 22,
    "start_time": "2022-10-04T19:14:40.047Z"
   },
   {
    "duration": 27,
    "start_time": "2022-10-04T19:16:03.744Z"
   },
   {
    "duration": 6,
    "start_time": "2022-10-04T19:17:44.824Z"
   },
   {
    "duration": 22,
    "start_time": "2022-10-04T19:17:47.385Z"
   },
   {
    "duration": 549,
    "start_time": "2022-10-04T19:18:02.565Z"
   },
   {
    "duration": 2073,
    "start_time": "2022-10-04T19:18:03.116Z"
   },
   {
    "duration": 47,
    "start_time": "2022-10-04T19:18:05.191Z"
   },
   {
    "duration": 41,
    "start_time": "2022-10-04T19:18:05.240Z"
   },
   {
    "duration": 7,
    "start_time": "2022-10-04T19:18:05.283Z"
   },
   {
    "duration": 17,
    "start_time": "2022-10-04T19:18:05.292Z"
   },
   {
    "duration": 15,
    "start_time": "2022-10-04T19:18:05.310Z"
   },
   {
    "duration": 9,
    "start_time": "2022-10-04T19:18:05.327Z"
   },
   {
    "duration": 7,
    "start_time": "2022-10-04T19:18:05.337Z"
   },
   {
    "duration": 330,
    "start_time": "2022-10-04T19:18:05.347Z"
   },
   {
    "duration": 5,
    "start_time": "2022-10-04T19:18:05.678Z"
   },
   {
    "duration": 31,
    "start_time": "2022-10-04T19:18:05.684Z"
   },
   {
    "duration": 286,
    "start_time": "2022-10-04T19:18:05.717Z"
   },
   {
    "duration": 307,
    "start_time": "2022-10-04T19:18:06.008Z"
   },
   {
    "duration": 168,
    "start_time": "2022-10-04T19:18:06.317Z"
   },
   {
    "duration": 178,
    "start_time": "2022-10-04T19:18:06.487Z"
   },
   {
    "duration": 174,
    "start_time": "2022-10-04T19:18:06.667Z"
   },
   {
    "duration": 174,
    "start_time": "2022-10-04T19:18:06.843Z"
   },
   {
    "duration": 174,
    "start_time": "2022-10-04T19:18:07.019Z"
   },
   {
    "duration": 364,
    "start_time": "2022-10-04T19:18:07.194Z"
   },
   {
    "duration": 185,
    "start_time": "2022-10-04T19:18:07.560Z"
   },
   {
    "duration": 175,
    "start_time": "2022-10-04T19:18:07.747Z"
   },
   {
    "duration": 145,
    "start_time": "2022-10-04T19:18:07.923Z"
   },
   {
    "duration": 263,
    "start_time": "2022-10-04T19:18:08.070Z"
   },
   {
    "duration": 184,
    "start_time": "2022-10-04T19:18:08.334Z"
   },
   {
    "duration": 183,
    "start_time": "2022-10-04T19:18:08.520Z"
   },
   {
    "duration": 290,
    "start_time": "2022-10-04T19:18:08.705Z"
   },
   {
    "duration": 157,
    "start_time": "2022-10-04T19:18:08.999Z"
   },
   {
    "duration": 179,
    "start_time": "2022-10-04T19:18:09.158Z"
   },
   {
    "duration": 155,
    "start_time": "2022-10-04T19:18:09.340Z"
   },
   {
    "duration": 168,
    "start_time": "2022-10-04T19:18:09.497Z"
   },
   {
    "duration": 181,
    "start_time": "2022-10-04T19:18:09.667Z"
   },
   {
    "duration": 182,
    "start_time": "2022-10-04T19:18:09.850Z"
   },
   {
    "duration": 155,
    "start_time": "2022-10-04T19:18:10.034Z"
   },
   {
    "duration": 162,
    "start_time": "2022-10-04T19:18:10.191Z"
   },
   {
    "duration": 24,
    "start_time": "2022-10-04T19:18:10.355Z"
   },
   {
    "duration": 7,
    "start_time": "2022-10-04T19:18:10.380Z"
   },
   {
    "duration": 24,
    "start_time": "2022-10-04T19:18:10.388Z"
   },
   {
    "duration": 98,
    "start_time": "2022-10-04T19:18:10.414Z"
   },
   {
    "duration": 43,
    "start_time": "2022-10-04T19:19:16.992Z"
   },
   {
    "duration": 22,
    "start_time": "2022-10-04T19:19:25.110Z"
   },
   {
    "duration": 6,
    "start_time": "2022-10-04T19:20:39.547Z"
   },
   {
    "duration": 570,
    "start_time": "2022-10-04T19:20:46.739Z"
   },
   {
    "duration": 2026,
    "start_time": "2022-10-04T19:20:47.311Z"
   },
   {
    "duration": 47,
    "start_time": "2022-10-04T19:20:49.339Z"
   },
   {
    "duration": 84,
    "start_time": "2022-10-04T19:20:49.388Z"
   },
   {
    "duration": 16,
    "start_time": "2022-10-04T19:20:49.474Z"
   },
   {
    "duration": 40,
    "start_time": "2022-10-04T19:20:49.492Z"
   },
   {
    "duration": 30,
    "start_time": "2022-10-04T19:20:49.534Z"
   },
   {
    "duration": 48,
    "start_time": "2022-10-04T19:20:49.566Z"
   },
   {
    "duration": 41,
    "start_time": "2022-10-04T19:20:49.616Z"
   },
   {
    "duration": 349,
    "start_time": "2022-10-04T19:20:49.659Z"
   },
   {
    "duration": 6,
    "start_time": "2022-10-04T19:20:50.009Z"
   },
   {
    "duration": 61,
    "start_time": "2022-10-04T19:20:50.017Z"
   },
   {
    "duration": 278,
    "start_time": "2022-10-04T19:20:50.080Z"
   },
   {
    "duration": 298,
    "start_time": "2022-10-04T19:20:50.359Z"
   },
   {
    "duration": 183,
    "start_time": "2022-10-04T19:20:50.659Z"
   },
   {
    "duration": 191,
    "start_time": "2022-10-04T19:20:50.844Z"
   },
   {
    "duration": 180,
    "start_time": "2022-10-04T19:20:51.038Z"
   },
   {
    "duration": 191,
    "start_time": "2022-10-04T19:20:51.220Z"
   },
   {
    "duration": 186,
    "start_time": "2022-10-04T19:20:51.413Z"
   },
   {
    "duration": 404,
    "start_time": "2022-10-04T19:20:51.609Z"
   },
   {
    "duration": 187,
    "start_time": "2022-10-04T19:20:52.015Z"
   },
   {
    "duration": 220,
    "start_time": "2022-10-04T19:20:52.203Z"
   },
   {
    "duration": 166,
    "start_time": "2022-10-04T19:20:52.425Z"
   },
   {
    "duration": 331,
    "start_time": "2022-10-04T19:20:52.593Z"
   },
   {
    "duration": 188,
    "start_time": "2022-10-04T19:20:52.926Z"
   },
   {
    "duration": 186,
    "start_time": "2022-10-04T19:20:53.116Z"
   },
   {
    "duration": 278,
    "start_time": "2022-10-04T19:20:53.303Z"
   },
   {
    "duration": 150,
    "start_time": "2022-10-04T19:20:53.584Z"
   },
   {
    "duration": 187,
    "start_time": "2022-10-04T19:20:53.736Z"
   },
   {
    "duration": 171,
    "start_time": "2022-10-04T19:20:53.925Z"
   },
   {
    "duration": 181,
    "start_time": "2022-10-04T19:20:54.097Z"
   },
   {
    "duration": 154,
    "start_time": "2022-10-04T19:20:54.280Z"
   },
   {
    "duration": 163,
    "start_time": "2022-10-04T19:20:54.436Z"
   },
   {
    "duration": 167,
    "start_time": "2022-10-04T19:20:54.601Z"
   },
   {
    "duration": 163,
    "start_time": "2022-10-04T19:20:54.770Z"
   },
   {
    "duration": 25,
    "start_time": "2022-10-04T19:20:54.936Z"
   },
   {
    "duration": 7,
    "start_time": "2022-10-04T19:20:54.963Z"
   },
   {
    "duration": 18,
    "start_time": "2022-10-04T19:20:54.972Z"
   },
   {
    "duration": 101,
    "start_time": "2022-10-04T19:20:55.009Z"
   },
   {
    "duration": 21,
    "start_time": "2022-10-04T19:21:21.816Z"
   },
   {
    "duration": 765,
    "start_time": "2022-10-04T19:24:30.797Z"
   },
   {
    "duration": 28,
    "start_time": "2022-10-04T19:24:45.215Z"
   },
   {
    "duration": 791,
    "start_time": "2022-10-04T19:25:14.793Z"
   },
   {
    "duration": 10,
    "start_time": "2022-10-04T19:25:23.683Z"
   },
   {
    "duration": 5,
    "start_time": "2022-10-04T19:25:36.258Z"
   },
   {
    "duration": 5,
    "start_time": "2022-10-04T19:26:22.049Z"
   },
   {
    "duration": 6,
    "start_time": "2022-10-04T19:26:31.435Z"
   },
   {
    "duration": 149,
    "start_time": "2022-10-04T19:26:49.105Z"
   },
   {
    "duration": 6,
    "start_time": "2022-10-04T19:26:54.236Z"
   },
   {
    "duration": 7,
    "start_time": "2022-10-04T19:27:16.173Z"
   },
   {
    "duration": 40,
    "start_time": "2022-10-04T19:29:18.806Z"
   },
   {
    "duration": 555,
    "start_time": "2022-10-04T19:29:28.584Z"
   },
   {
    "duration": 1988,
    "start_time": "2022-10-04T19:29:29.141Z"
   },
   {
    "duration": 45,
    "start_time": "2022-10-04T19:29:31.130Z"
   },
   {
    "duration": 45,
    "start_time": "2022-10-04T19:29:31.176Z"
   },
   {
    "duration": 9,
    "start_time": "2022-10-04T19:29:31.223Z"
   },
   {
    "duration": 18,
    "start_time": "2022-10-04T19:29:31.233Z"
   },
   {
    "duration": 20,
    "start_time": "2022-10-04T19:29:31.253Z"
   },
   {
    "duration": 15,
    "start_time": "2022-10-04T19:29:31.275Z"
   },
   {
    "duration": 15,
    "start_time": "2022-10-04T19:29:31.292Z"
   },
   {
    "duration": 344,
    "start_time": "2022-10-04T19:29:31.308Z"
   },
   {
    "duration": 22,
    "start_time": "2022-10-04T19:29:31.653Z"
   },
   {
    "duration": 258,
    "start_time": "2022-10-04T19:29:31.677Z"
   },
   {
    "duration": 300,
    "start_time": "2022-10-04T19:29:31.937Z"
   },
   {
    "duration": 171,
    "start_time": "2022-10-04T19:29:32.240Z"
   },
   {
    "duration": 184,
    "start_time": "2022-10-04T19:29:32.412Z"
   },
   {
    "duration": 216,
    "start_time": "2022-10-04T19:29:32.598Z"
   },
   {
    "duration": 177,
    "start_time": "2022-10-04T19:29:32.816Z"
   },
   {
    "duration": 172,
    "start_time": "2022-10-04T19:29:32.994Z"
   },
   {
    "duration": 353,
    "start_time": "2022-10-04T19:29:33.167Z"
   },
   {
    "duration": 166,
    "start_time": "2022-10-04T19:29:33.522Z"
   },
   {
    "duration": 196,
    "start_time": "2022-10-04T19:29:33.689Z"
   },
   {
    "duration": 145,
    "start_time": "2022-10-04T19:29:33.887Z"
   },
   {
    "duration": 267,
    "start_time": "2022-10-04T19:29:34.034Z"
   },
   {
    "duration": 205,
    "start_time": "2022-10-04T19:29:34.302Z"
   },
   {
    "duration": 189,
    "start_time": "2022-10-04T19:29:34.509Z"
   },
   {
    "duration": 273,
    "start_time": "2022-10-04T19:29:34.699Z"
   },
   {
    "duration": 152,
    "start_time": "2022-10-04T19:29:34.973Z"
   },
   {
    "duration": 165,
    "start_time": "2022-10-04T19:29:35.127Z"
   },
   {
    "duration": 155,
    "start_time": "2022-10-04T19:29:35.293Z"
   },
   {
    "duration": 160,
    "start_time": "2022-10-04T19:29:35.450Z"
   },
   {
    "duration": 135,
    "start_time": "2022-10-04T19:29:35.612Z"
   },
   {
    "duration": 168,
    "start_time": "2022-10-04T19:29:35.748Z"
   },
   {
    "duration": 158,
    "start_time": "2022-10-04T19:29:35.918Z"
   },
   {
    "duration": 153,
    "start_time": "2022-10-04T19:29:36.077Z"
   },
   {
    "duration": 25,
    "start_time": "2022-10-04T19:29:36.231Z"
   },
   {
    "duration": 7,
    "start_time": "2022-10-04T19:29:36.258Z"
   },
   {
    "duration": 16,
    "start_time": "2022-10-04T19:29:36.266Z"
   },
   {
    "duration": 105,
    "start_time": "2022-10-04T19:29:36.284Z"
   },
   {
    "duration": 30,
    "start_time": "2022-10-04T19:31:17.104Z"
   },
   {
    "duration": 146,
    "start_time": "2022-10-04T19:32:23.053Z"
   },
   {
    "duration": 6,
    "start_time": "2022-10-04T19:36:11.862Z"
   },
   {
    "duration": 23,
    "start_time": "2022-10-04T19:36:15.274Z"
   },
   {
    "duration": 20,
    "start_time": "2022-10-04T19:37:46.942Z"
   },
   {
    "duration": 15,
    "start_time": "2022-10-04T20:07:00.311Z"
   },
   {
    "duration": 20,
    "start_time": "2022-10-04T20:07:12.455Z"
   },
   {
    "duration": 15,
    "start_time": "2022-10-04T20:08:00.120Z"
   },
   {
    "duration": 165,
    "start_time": "2022-10-04T20:13:05.939Z"
   },
   {
    "duration": 6,
    "start_time": "2022-10-04T20:16:30.410Z"
   },
   {
    "duration": 6,
    "start_time": "2022-10-04T20:16:41.726Z"
   },
   {
    "duration": 7,
    "start_time": "2022-10-04T20:17:02.633Z"
   },
   {
    "duration": 6,
    "start_time": "2022-10-04T20:17:12.984Z"
   },
   {
    "duration": 6,
    "start_time": "2022-10-04T20:17:25.809Z"
   },
   {
    "duration": 334,
    "start_time": "2022-10-04T20:17:47.961Z"
   },
   {
    "duration": 5,
    "start_time": "2022-10-04T20:18:06.240Z"
   },
   {
    "duration": 22,
    "start_time": "2022-10-04T20:18:21.507Z"
   },
   {
    "duration": 39,
    "start_time": "2022-10-04T20:18:31.201Z"
   },
   {
    "duration": 552,
    "start_time": "2022-10-04T20:19:04.090Z"
   },
   {
    "duration": 2045,
    "start_time": "2022-10-04T20:19:04.644Z"
   },
   {
    "duration": 47,
    "start_time": "2022-10-04T20:19:06.691Z"
   },
   {
    "duration": 43,
    "start_time": "2022-10-04T20:19:06.740Z"
   },
   {
    "duration": 24,
    "start_time": "2022-10-04T20:19:06.786Z"
   },
   {
    "duration": 7,
    "start_time": "2022-10-04T20:19:06.812Z"
   },
   {
    "duration": 13,
    "start_time": "2022-10-04T20:19:06.821Z"
   },
   {
    "duration": 21,
    "start_time": "2022-10-04T20:19:06.836Z"
   },
   {
    "duration": 14,
    "start_time": "2022-10-04T20:19:06.858Z"
   },
   {
    "duration": 339,
    "start_time": "2022-10-04T20:19:06.874Z"
   },
   {
    "duration": 6,
    "start_time": "2022-10-04T20:19:07.215Z"
   },
   {
    "duration": 26,
    "start_time": "2022-10-04T20:19:07.223Z"
   },
   {
    "duration": 271,
    "start_time": "2022-10-04T20:19:07.250Z"
   },
   {
    "duration": 298,
    "start_time": "2022-10-04T20:19:07.524Z"
   },
   {
    "duration": 178,
    "start_time": "2022-10-04T20:19:07.824Z"
   },
   {
    "duration": 191,
    "start_time": "2022-10-04T20:19:08.003Z"
   },
   {
    "duration": 177,
    "start_time": "2022-10-04T20:19:08.195Z"
   },
   {
    "duration": 187,
    "start_time": "2022-10-04T20:19:08.373Z"
   },
   {
    "duration": 171,
    "start_time": "2022-10-04T20:19:08.561Z"
   },
   {
    "duration": 377,
    "start_time": "2022-10-04T20:19:08.734Z"
   },
   {
    "duration": 174,
    "start_time": "2022-10-04T20:19:09.113Z"
   },
   {
    "duration": 205,
    "start_time": "2022-10-04T20:19:09.289Z"
   },
   {
    "duration": 159,
    "start_time": "2022-10-04T20:19:09.495Z"
   },
   {
    "duration": 262,
    "start_time": "2022-10-04T20:19:09.655Z"
   },
   {
    "duration": 191,
    "start_time": "2022-10-04T20:19:09.919Z"
   },
   {
    "duration": 183,
    "start_time": "2022-10-04T20:19:10.112Z"
   },
   {
    "duration": 273,
    "start_time": "2022-10-04T20:19:10.296Z"
   },
   {
    "duration": 154,
    "start_time": "2022-10-04T20:19:10.570Z"
   },
   {
    "duration": 167,
    "start_time": "2022-10-04T20:19:10.725Z"
   },
   {
    "duration": 150,
    "start_time": "2022-10-04T20:19:10.893Z"
   },
   {
    "duration": 178,
    "start_time": "2022-10-04T20:19:11.044Z"
   },
   {
    "duration": 147,
    "start_time": "2022-10-04T20:19:11.224Z"
   },
   {
    "duration": 176,
    "start_time": "2022-10-04T20:19:11.373Z"
   },
   {
    "duration": 172,
    "start_time": "2022-10-04T20:19:11.551Z"
   },
   {
    "duration": 155,
    "start_time": "2022-10-04T20:19:11.725Z"
   },
   {
    "duration": 33,
    "start_time": "2022-10-04T20:19:11.882Z"
   },
   {
    "duration": 7,
    "start_time": "2022-10-04T20:19:11.916Z"
   },
   {
    "duration": 12,
    "start_time": "2022-10-04T20:19:11.924Z"
   },
   {
    "duration": 166,
    "start_time": "2022-10-04T20:19:11.937Z"
   },
   {
    "duration": 273,
    "start_time": "2022-10-04T20:19:39.609Z"
   },
   {
    "duration": 52,
    "start_time": "2022-10-04T20:20:41.821Z"
   },
   {
    "duration": 521,
    "start_time": "2022-10-04T20:20:48.524Z"
   },
   {
    "duration": 2046,
    "start_time": "2022-10-04T20:20:49.047Z"
   },
   {
    "duration": 63,
    "start_time": "2022-10-04T20:20:51.095Z"
   },
   {
    "duration": 50,
    "start_time": "2022-10-04T20:20:51.160Z"
   },
   {
    "duration": 8,
    "start_time": "2022-10-04T20:20:51.212Z"
   },
   {
    "duration": 11,
    "start_time": "2022-10-04T20:20:51.222Z"
   },
   {
    "duration": 10,
    "start_time": "2022-10-04T20:20:51.234Z"
   },
   {
    "duration": 9,
    "start_time": "2022-10-04T20:20:51.246Z"
   },
   {
    "duration": 9,
    "start_time": "2022-10-04T20:20:51.257Z"
   },
   {
    "duration": 366,
    "start_time": "2022-10-04T20:20:51.268Z"
   },
   {
    "duration": 6,
    "start_time": "2022-10-04T20:20:51.636Z"
   },
   {
    "duration": 30,
    "start_time": "2022-10-04T20:20:51.644Z"
   },
   {
    "duration": 289,
    "start_time": "2022-10-04T20:20:51.676Z"
   },
   {
    "duration": 308,
    "start_time": "2022-10-04T20:20:51.969Z"
   },
   {
    "duration": 173,
    "start_time": "2022-10-04T20:20:52.279Z"
   },
   {
    "duration": 220,
    "start_time": "2022-10-04T20:20:52.454Z"
   },
   {
    "duration": 203,
    "start_time": "2022-10-04T20:20:52.676Z"
   },
   {
    "duration": 177,
    "start_time": "2022-10-04T20:20:52.881Z"
   },
   {
    "duration": 193,
    "start_time": "2022-10-04T20:20:53.060Z"
   },
   {
    "duration": 170,
    "start_time": "2022-10-04T20:20:53.254Z"
   },
   {
    "duration": 373,
    "start_time": "2022-10-04T20:20:53.425Z"
   },
   {
    "duration": 181,
    "start_time": "2022-10-04T20:20:53.810Z"
   },
   {
    "duration": 194,
    "start_time": "2022-10-04T20:20:53.993Z"
   },
   {
    "duration": 220,
    "start_time": "2022-10-04T20:20:54.190Z"
   },
   {
    "duration": 184,
    "start_time": "2022-10-04T20:20:54.412Z"
   },
   {
    "duration": 182,
    "start_time": "2022-10-04T20:20:54.598Z"
   },
   {
    "duration": 201,
    "start_time": "2022-10-04T20:20:54.782Z"
   },
   {
    "duration": 268,
    "start_time": "2022-10-04T20:20:54.985Z"
   },
   {
    "duration": 142,
    "start_time": "2022-10-04T20:20:55.255Z"
   },
   {
    "duration": 170,
    "start_time": "2022-10-04T20:20:55.399Z"
   },
   {
    "duration": 157,
    "start_time": "2022-10-04T20:20:55.571Z"
   },
   {
    "duration": 164,
    "start_time": "2022-10-04T20:20:55.730Z"
   },
   {
    "duration": 144,
    "start_time": "2022-10-04T20:20:55.895Z"
   },
   {
    "duration": 157,
    "start_time": "2022-10-04T20:20:56.040Z"
   },
   {
    "duration": 162,
    "start_time": "2022-10-04T20:20:56.198Z"
   },
   {
    "duration": 161,
    "start_time": "2022-10-04T20:20:56.361Z"
   },
   {
    "duration": 25,
    "start_time": "2022-10-04T20:20:56.524Z"
   },
   {
    "duration": 7,
    "start_time": "2022-10-04T20:20:56.551Z"
   },
   {
    "duration": 14,
    "start_time": "2022-10-04T20:20:56.559Z"
   },
   {
    "duration": 273,
    "start_time": "2022-10-04T20:20:56.574Z"
   },
   {
    "duration": 41,
    "start_time": "2022-10-04T20:21:48.283Z"
   },
   {
    "duration": 43,
    "start_time": "2022-10-04T20:22:39.025Z"
   },
   {
    "duration": 41,
    "start_time": "2022-10-04T20:22:56.592Z"
   },
   {
    "duration": 119,
    "start_time": "2022-10-04T20:23:34.787Z"
   },
   {
    "duration": 47,
    "start_time": "2022-10-04T20:23:50.849Z"
   },
   {
    "duration": 43,
    "start_time": "2022-10-04T20:24:09.221Z"
   },
   {
    "duration": 9,
    "start_time": "2022-10-04T20:24:26.501Z"
   },
   {
    "duration": 7,
    "start_time": "2022-10-04T20:24:50.596Z"
   },
   {
    "duration": 6,
    "start_time": "2022-10-04T20:25:04.405Z"
   },
   {
    "duration": 6,
    "start_time": "2022-10-04T20:25:22.953Z"
   },
   {
    "duration": 367,
    "start_time": "2022-10-04T20:25:33.737Z"
   },
   {
    "duration": 6,
    "start_time": "2022-10-04T20:25:47.812Z"
   },
   {
    "duration": 27,
    "start_time": "2022-10-04T20:26:04.109Z"
   },
   {
    "duration": 256,
    "start_time": "2022-10-04T20:26:20.717Z"
   },
   {
    "duration": 257,
    "start_time": "2022-10-04T20:26:30.668Z"
   },
   {
    "duration": 162,
    "start_time": "2022-10-04T20:26:45.244Z"
   },
   {
    "duration": 178,
    "start_time": "2022-10-04T20:26:51.831Z"
   },
   {
    "duration": 249,
    "start_time": "2022-10-04T20:26:59.396Z"
   },
   {
    "duration": 163,
    "start_time": "2022-10-04T20:27:05.430Z"
   },
   {
    "duration": 162,
    "start_time": "2022-10-04T20:27:15.574Z"
   },
   {
    "duration": 165,
    "start_time": "2022-10-04T20:27:25.245Z"
   },
   {
    "duration": 168,
    "start_time": "2022-10-04T20:27:38.952Z"
   },
   {
    "duration": 163,
    "start_time": "2022-10-04T20:27:45.576Z"
   },
   {
    "duration": 160,
    "start_time": "2022-10-04T20:28:45.837Z"
   },
   {
    "duration": 169,
    "start_time": "2022-10-04T20:28:52.743Z"
   },
   {
    "duration": 167,
    "start_time": "2022-10-04T20:29:00.295Z"
   },
   {
    "duration": 164,
    "start_time": "2022-10-04T20:29:07.876Z"
   },
   {
    "duration": 181,
    "start_time": "2022-10-04T20:29:40.986Z"
   },
   {
    "duration": 133,
    "start_time": "2022-10-04T20:29:48.399Z"
   },
   {
    "duration": 177,
    "start_time": "2022-10-04T20:29:57.974Z"
   },
   {
    "duration": 159,
    "start_time": "2022-10-04T20:30:19.784Z"
   },
   {
    "duration": 292,
    "start_time": "2022-10-04T20:30:29.679Z"
   },
   {
    "duration": 134,
    "start_time": "2022-10-04T20:30:36.597Z"
   },
   {
    "duration": 138,
    "start_time": "2022-10-04T20:30:42.379Z"
   },
   {
    "duration": 189,
    "start_time": "2022-10-04T20:30:50.452Z"
   },
   {
    "duration": 170,
    "start_time": "2022-10-04T20:30:58.376Z"
   },
   {
    "duration": 189,
    "start_time": "2022-10-04T20:31:04.770Z"
   },
   {
    "duration": 196,
    "start_time": "2022-10-04T20:31:13.961Z"
   },
   {
    "duration": 48,
    "start_time": "2022-10-05T07:46:52.650Z"
   },
   {
    "duration": 784,
    "start_time": "2022-10-05T07:46:59.252Z"
   },
   {
    "duration": 2483,
    "start_time": "2022-10-05T07:47:00.038Z"
   },
   {
    "duration": 56,
    "start_time": "2022-10-05T07:47:02.523Z"
   },
   {
    "duration": 40,
    "start_time": "2022-10-05T07:47:02.582Z"
   },
   {
    "duration": 9,
    "start_time": "2022-10-05T07:47:02.624Z"
   },
   {
    "duration": 7,
    "start_time": "2022-10-05T07:47:02.636Z"
   },
   {
    "duration": 43,
    "start_time": "2022-10-05T07:47:02.645Z"
   },
   {
    "duration": 6,
    "start_time": "2022-10-05T07:47:02.690Z"
   },
   {
    "duration": 7,
    "start_time": "2022-10-05T07:47:02.698Z"
   },
   {
    "duration": 350,
    "start_time": "2022-10-05T07:47:02.709Z"
   },
   {
    "duration": 17,
    "start_time": "2022-10-05T07:47:03.061Z"
   },
   {
    "duration": 24,
    "start_time": "2022-10-05T07:47:03.080Z"
   },
   {
    "duration": 297,
    "start_time": "2022-10-05T07:47:03.106Z"
   },
   {
    "duration": 361,
    "start_time": "2022-10-05T07:47:03.406Z"
   },
   {
    "duration": 199,
    "start_time": "2022-10-05T07:47:03.769Z"
   },
   {
    "duration": 208,
    "start_time": "2022-10-05T07:47:03.970Z"
   },
   {
    "duration": 198,
    "start_time": "2022-10-05T07:47:04.180Z"
   },
   {
    "duration": 208,
    "start_time": "2022-10-05T07:47:04.380Z"
   },
   {
    "duration": 205,
    "start_time": "2022-10-05T07:47:04.591Z"
   },
   {
    "duration": 471,
    "start_time": "2022-10-05T07:47:04.798Z"
   },
   {
    "duration": 254,
    "start_time": "2022-10-05T07:47:05.271Z"
   },
   {
    "duration": 222,
    "start_time": "2022-10-05T07:47:05.527Z"
   },
   {
    "duration": 264,
    "start_time": "2022-10-05T07:47:05.751Z"
   },
   {
    "duration": 219,
    "start_time": "2022-10-05T07:47:06.017Z"
   },
   {
    "duration": 221,
    "start_time": "2022-10-05T07:47:06.238Z"
   },
   {
    "duration": 229,
    "start_time": "2022-10-05T07:47:06.460Z"
   },
   {
    "duration": 341,
    "start_time": "2022-10-05T07:47:06.692Z"
   },
   {
    "duration": 180,
    "start_time": "2022-10-05T07:47:07.037Z"
   },
   {
    "duration": 211,
    "start_time": "2022-10-05T07:47:07.219Z"
   },
   {
    "duration": 179,
    "start_time": "2022-10-05T07:47:07.433Z"
   },
   {
    "duration": 191,
    "start_time": "2022-10-05T07:47:07.614Z"
   },
   {
    "duration": 160,
    "start_time": "2022-10-05T07:47:07.807Z"
   },
   {
    "duration": 190,
    "start_time": "2022-10-05T07:47:07.968Z"
   },
   {
    "duration": 178,
    "start_time": "2022-10-05T07:47:08.160Z"
   },
   {
    "duration": 202,
    "start_time": "2022-10-05T07:47:08.341Z"
   },
   {
    "duration": 50,
    "start_time": "2022-10-05T07:47:08.546Z"
   },
   {
    "duration": 9,
    "start_time": "2022-10-05T07:47:08.598Z"
   },
   {
    "duration": 11,
    "start_time": "2022-10-05T07:47:08.609Z"
   },
   {
    "duration": 318,
    "start_time": "2022-10-05T07:47:08.622Z"
   },
   {
    "duration": 270,
    "start_time": "2022-10-05T07:47:23.624Z"
   },
   {
    "duration": 261,
    "start_time": "2022-10-05T07:47:32.918Z"
   },
   {
    "duration": 206,
    "start_time": "2022-10-05T07:47:41.416Z"
   },
   {
    "duration": 197,
    "start_time": "2022-10-05T07:47:49.700Z"
   },
   {
    "duration": 178,
    "start_time": "2022-10-05T07:48:00.769Z"
   },
   {
    "duration": 174,
    "start_time": "2022-10-05T07:48:21.866Z"
   },
   {
    "duration": 176,
    "start_time": "2022-10-05T07:48:39.301Z"
   },
   {
    "duration": 171,
    "start_time": "2022-10-05T07:48:50.704Z"
   },
   {
    "duration": 195,
    "start_time": "2022-10-05T07:49:04.810Z"
   },
   {
    "duration": 259,
    "start_time": "2022-10-05T07:49:12.066Z"
   },
   {
    "duration": 194,
    "start_time": "2022-10-05T07:49:19.345Z"
   },
   {
    "duration": 198,
    "start_time": "2022-10-05T07:49:27.393Z"
   },
   {
    "duration": 191,
    "start_time": "2022-10-05T07:49:35.447Z"
   },
   {
    "duration": 322,
    "start_time": "2022-10-05T07:49:42.356Z"
   },
   {
    "duration": 141,
    "start_time": "2022-10-05T07:49:59.008Z"
   },
   {
    "duration": 7,
    "start_time": "2022-10-05T08:33:43.553Z"
   },
   {
    "duration": 23,
    "start_time": "2022-10-05T08:33:59.034Z"
   },
   {
    "duration": 531,
    "start_time": "2022-10-05T08:34:22.793Z"
   },
   {
    "duration": 2355,
    "start_time": "2022-10-05T08:34:23.326Z"
   },
   {
    "duration": 50,
    "start_time": "2022-10-05T08:34:25.683Z"
   },
   {
    "duration": 56,
    "start_time": "2022-10-05T08:34:25.735Z"
   },
   {
    "duration": 8,
    "start_time": "2022-10-05T08:34:25.794Z"
   },
   {
    "duration": 6,
    "start_time": "2022-10-05T08:34:25.804Z"
   },
   {
    "duration": 10,
    "start_time": "2022-10-05T08:34:25.812Z"
   },
   {
    "duration": 7,
    "start_time": "2022-10-05T08:34:25.824Z"
   },
   {
    "duration": 7,
    "start_time": "2022-10-05T08:34:25.833Z"
   },
   {
    "duration": 348,
    "start_time": "2022-10-05T08:34:25.878Z"
   },
   {
    "duration": 8,
    "start_time": "2022-10-05T08:34:26.228Z"
   },
   {
    "duration": 41,
    "start_time": "2022-10-05T08:34:26.237Z"
   },
   {
    "duration": 301,
    "start_time": "2022-10-05T08:34:26.280Z"
   },
   {
    "duration": 365,
    "start_time": "2022-10-05T08:34:26.585Z"
   },
   {
    "duration": 229,
    "start_time": "2022-10-05T08:34:26.952Z"
   },
   {
    "duration": 212,
    "start_time": "2022-10-05T08:34:27.184Z"
   },
   {
    "duration": 202,
    "start_time": "2022-10-05T08:34:27.398Z"
   },
   {
    "duration": 211,
    "start_time": "2022-10-05T08:34:27.602Z"
   },
   {
    "duration": 200,
    "start_time": "2022-10-05T08:34:27.815Z"
   },
   {
    "duration": 467,
    "start_time": "2022-10-05T08:34:28.017Z"
   },
   {
    "duration": 192,
    "start_time": "2022-10-05T08:34:28.486Z"
   },
   {
    "duration": 225,
    "start_time": "2022-10-05T08:34:28.680Z"
   },
   {
    "duration": 155,
    "start_time": "2022-10-05T08:34:28.906Z"
   },
   {
    "duration": 299,
    "start_time": "2022-10-05T08:34:29.062Z"
   },
   {
    "duration": 222,
    "start_time": "2022-10-05T08:34:29.363Z"
   },
   {
    "duration": 243,
    "start_time": "2022-10-05T08:34:29.587Z"
   },
   {
    "duration": 317,
    "start_time": "2022-10-05T08:34:29.832Z"
   },
   {
    "duration": 165,
    "start_time": "2022-10-05T08:34:30.151Z"
   },
   {
    "duration": 203,
    "start_time": "2022-10-05T08:34:30.318Z"
   },
   {
    "duration": 176,
    "start_time": "2022-10-05T08:34:30.523Z"
   },
   {
    "duration": 187,
    "start_time": "2022-10-05T08:34:30.701Z"
   },
   {
    "duration": 149,
    "start_time": "2022-10-05T08:34:30.890Z"
   },
   {
    "duration": 204,
    "start_time": "2022-10-05T08:34:31.041Z"
   },
   {
    "duration": 196,
    "start_time": "2022-10-05T08:34:31.246Z"
   },
   {
    "duration": 180,
    "start_time": "2022-10-05T08:34:31.444Z"
   },
   {
    "duration": 26,
    "start_time": "2022-10-05T08:34:31.625Z"
   },
   {
    "duration": 47,
    "start_time": "2022-10-05T08:34:31.653Z"
   },
   {
    "duration": 63,
    "start_time": "2022-10-05T08:34:31.702Z"
   },
   {
    "duration": 204,
    "start_time": "2022-10-05T08:34:31.767Z"
   },
   {
    "duration": 315,
    "start_time": "2022-10-05T09:11:48.867Z"
   },
   {
    "duration": 168,
    "start_time": "2022-10-05T09:37:23.723Z"
   },
   {
    "duration": 139,
    "start_time": "2022-10-05T09:37:38.914Z"
   },
   {
    "duration": 160,
    "start_time": "2022-10-05T09:38:24.322Z"
   },
   {
    "duration": 173,
    "start_time": "2022-10-05T09:38:50.171Z"
   },
   {
    "duration": 149,
    "start_time": "2022-10-05T09:39:01.415Z"
   },
   {
    "duration": 160,
    "start_time": "2022-10-05T09:39:12.307Z"
   },
   {
    "duration": 53,
    "start_time": "2022-10-05T17:14:02.091Z"
   },
   {
    "duration": 505,
    "start_time": "2022-10-05T17:15:43.238Z"
   },
   {
    "duration": 2014,
    "start_time": "2022-10-05T17:15:43.745Z"
   },
   {
    "duration": 4,
    "start_time": "2022-10-05T17:15:45.761Z"
   },
   {
    "duration": 233,
    "start_time": "2022-10-05T17:15:45.766Z"
   },
   {
    "duration": 42,
    "start_time": "2022-10-05T17:15:46.009Z"
   },
   {
    "duration": 40,
    "start_time": "2022-10-05T17:15:46.053Z"
   },
   {
    "duration": 20,
    "start_time": "2022-10-05T17:15:46.094Z"
   },
   {
    "duration": 53,
    "start_time": "2022-10-05T17:15:46.115Z"
   },
   {
    "duration": 8,
    "start_time": "2022-10-05T17:15:46.170Z"
   },
   {
    "duration": 284,
    "start_time": "2022-10-05T17:15:46.181Z"
   },
   {
    "duration": 286,
    "start_time": "2022-10-05T17:15:46.467Z"
   },
   {
    "duration": 16,
    "start_time": "2022-10-05T17:15:46.755Z"
   },
   {
    "duration": 18,
    "start_time": "2022-10-05T17:15:46.773Z"
   },
   {
    "duration": 33,
    "start_time": "2022-10-05T17:15:46.792Z"
   },
   {
    "duration": 35,
    "start_time": "2022-10-05T17:15:46.826Z"
   },
   {
    "duration": 31,
    "start_time": "2022-10-05T17:15:46.863Z"
   },
   {
    "duration": 422,
    "start_time": "2022-10-05T17:15:46.895Z"
   },
   {
    "duration": 5,
    "start_time": "2022-10-05T17:15:47.319Z"
   },
   {
    "duration": 45,
    "start_time": "2022-10-05T17:15:47.325Z"
   },
   {
    "duration": 235,
    "start_time": "2022-10-05T17:15:47.371Z"
   },
   {
    "duration": 243,
    "start_time": "2022-10-05T17:15:47.608Z"
   },
   {
    "duration": 171,
    "start_time": "2022-10-05T17:15:47.853Z"
   },
   {
    "duration": 165,
    "start_time": "2022-10-05T17:15:48.025Z"
   },
   {
    "duration": 169,
    "start_time": "2022-10-05T17:15:48.191Z"
   },
   {
    "duration": 163,
    "start_time": "2022-10-05T17:15:48.362Z"
   },
   {
    "duration": 232,
    "start_time": "2022-10-05T17:15:48.527Z"
   },
   {
    "duration": 350,
    "start_time": "2022-10-05T17:15:48.761Z"
   },
   {
    "duration": 165,
    "start_time": "2022-10-05T17:15:49.114Z"
   },
   {
    "duration": 184,
    "start_time": "2022-10-05T17:15:49.282Z"
   },
   {
    "duration": 150,
    "start_time": "2022-10-05T17:15:49.468Z"
   },
   {
    "duration": 180,
    "start_time": "2022-10-05T17:15:49.620Z"
   },
   {
    "duration": 173,
    "start_time": "2022-10-05T17:15:49.802Z"
   },
   {
    "duration": 185,
    "start_time": "2022-10-05T17:15:49.977Z"
   },
   {
    "duration": 263,
    "start_time": "2022-10-05T17:15:50.164Z"
   },
   {
    "duration": 225,
    "start_time": "2022-10-05T17:15:50.428Z"
   },
   {
    "duration": 165,
    "start_time": "2022-10-05T17:15:50.654Z"
   },
   {
    "duration": 151,
    "start_time": "2022-10-05T17:15:50.821Z"
   },
   {
    "duration": 153,
    "start_time": "2022-10-05T17:15:50.974Z"
   },
   {
    "duration": 144,
    "start_time": "2022-10-05T17:15:51.128Z"
   },
   {
    "duration": 152,
    "start_time": "2022-10-05T17:15:51.273Z"
   },
   {
    "duration": 147,
    "start_time": "2022-10-05T17:15:51.426Z"
   },
   {
    "duration": 149,
    "start_time": "2022-10-05T17:15:51.575Z"
   },
   {
    "duration": 27,
    "start_time": "2022-10-05T17:15:51.726Z"
   },
   {
    "duration": 7,
    "start_time": "2022-10-05T17:15:51.755Z"
   },
   {
    "duration": 9,
    "start_time": "2022-10-05T17:15:51.764Z"
   },
   {
    "duration": 178,
    "start_time": "2022-10-05T17:15:51.775Z"
   },
   {
    "duration": 18,
    "start_time": "2022-10-05T18:07:41.019Z"
   },
   {
    "duration": 426,
    "start_time": "2022-10-05T18:11:05.648Z"
   },
   {
    "duration": 158,
    "start_time": "2022-10-05T18:11:17.613Z"
   },
   {
    "duration": 18,
    "start_time": "2022-10-05T18:24:20.504Z"
   },
   {
    "duration": 521,
    "start_time": "2022-10-05T18:29:34.841Z"
   },
   {
    "duration": 2055,
    "start_time": "2022-10-05T18:29:35.364Z"
   },
   {
    "duration": 5,
    "start_time": "2022-10-05T18:29:37.421Z"
   },
   {
    "duration": 241,
    "start_time": "2022-10-05T18:29:37.428Z"
   },
   {
    "duration": 53,
    "start_time": "2022-10-05T18:29:37.671Z"
   },
   {
    "duration": 40,
    "start_time": "2022-10-05T18:29:37.726Z"
   },
   {
    "duration": 7,
    "start_time": "2022-10-05T18:29:37.768Z"
   },
   {
    "duration": 43,
    "start_time": "2022-10-05T18:29:37.777Z"
   },
   {
    "duration": 53,
    "start_time": "2022-10-05T18:29:37.822Z"
   },
   {
    "duration": 9,
    "start_time": "2022-10-05T18:29:37.876Z"
   },
   {
    "duration": 295,
    "start_time": "2022-10-05T18:29:37.886Z"
   },
   {
    "duration": 286,
    "start_time": "2022-10-05T18:29:38.183Z"
   },
   {
    "duration": 15,
    "start_time": "2022-10-05T18:29:38.470Z"
   },
   {
    "duration": 6,
    "start_time": "2022-10-05T18:29:38.488Z"
   },
   {
    "duration": 13,
    "start_time": "2022-10-05T18:29:38.512Z"
   },
   {
    "duration": 74,
    "start_time": "2022-10-05T18:29:38.527Z"
   },
   {
    "duration": 11,
    "start_time": "2022-10-05T18:29:38.613Z"
   },
   {
    "duration": 358,
    "start_time": "2022-10-05T18:29:38.625Z"
   },
   {
    "duration": 8,
    "start_time": "2022-10-05T18:29:38.985Z"
   },
   {
    "duration": 36,
    "start_time": "2022-10-05T18:29:38.994Z"
   },
   {
    "duration": 259,
    "start_time": "2022-10-05T18:29:39.032Z"
   },
   {
    "duration": 245,
    "start_time": "2022-10-05T18:29:39.293Z"
   },
   {
    "duration": 186,
    "start_time": "2022-10-05T18:29:39.540Z"
   },
   {
    "duration": 172,
    "start_time": "2022-10-05T18:29:39.728Z"
   },
   {
    "duration": 184,
    "start_time": "2022-10-05T18:29:39.902Z"
   },
   {
    "duration": 173,
    "start_time": "2022-10-05T18:29:40.087Z"
   },
   {
    "duration": 230,
    "start_time": "2022-10-05T18:29:40.261Z"
   },
   {
    "duration": 362,
    "start_time": "2022-10-05T18:29:40.492Z"
   },
   {
    "duration": 174,
    "start_time": "2022-10-05T18:29:40.856Z"
   },
   {
    "duration": 187,
    "start_time": "2022-10-05T18:29:41.032Z"
   },
   {
    "duration": 144,
    "start_time": "2022-10-05T18:29:41.221Z"
   },
   {
    "duration": 192,
    "start_time": "2022-10-05T18:29:41.366Z"
   },
   {
    "duration": 198,
    "start_time": "2022-10-05T18:29:41.560Z"
   },
   {
    "duration": 190,
    "start_time": "2022-10-05T18:29:41.760Z"
   },
   {
    "duration": 293,
    "start_time": "2022-10-05T18:29:41.952Z"
   },
   {
    "duration": 242,
    "start_time": "2022-10-05T18:29:42.246Z"
   },
   {
    "duration": 188,
    "start_time": "2022-10-05T18:29:42.489Z"
   },
   {
    "duration": 192,
    "start_time": "2022-10-05T18:29:42.680Z"
   },
   {
    "duration": 168,
    "start_time": "2022-10-05T18:29:42.873Z"
   },
   {
    "duration": 140,
    "start_time": "2022-10-05T18:29:43.043Z"
   },
   {
    "duration": 161,
    "start_time": "2022-10-05T18:29:43.187Z"
   },
   {
    "duration": 149,
    "start_time": "2022-10-05T18:29:43.350Z"
   },
   {
    "duration": 152,
    "start_time": "2022-10-05T18:29:43.508Z"
   },
   {
    "duration": 25,
    "start_time": "2022-10-05T18:29:43.662Z"
   },
   {
    "duration": 31,
    "start_time": "2022-10-05T18:29:43.689Z"
   },
   {
    "duration": 8,
    "start_time": "2022-10-05T18:29:43.722Z"
   },
   {
    "duration": 174,
    "start_time": "2022-10-05T18:29:43.732Z"
   },
   {
    "duration": 385,
    "start_time": "2022-10-05T19:58:27.689Z"
   },
   {
    "duration": 347,
    "start_time": "2022-10-05T19:58:42.654Z"
   },
   {
    "duration": 4,
    "start_time": "2022-10-05T19:58:54.376Z"
   },
   {
    "duration": 662,
    "start_time": "2022-10-05T19:59:24.231Z"
   },
   {
    "duration": 166,
    "start_time": "2022-10-05T19:59:24.895Z"
   },
   {
    "duration": 1789,
    "start_time": "2022-10-05T19:59:25.063Z"
   },
   {
    "duration": 4,
    "start_time": "2022-10-05T19:59:26.854Z"
   },
   {
    "duration": 208,
    "start_time": "2022-10-05T19:59:26.859Z"
   },
   {
    "duration": 40,
    "start_time": "2022-10-05T19:59:27.068Z"
   },
   {
    "duration": 44,
    "start_time": "2022-10-05T19:59:27.109Z"
   },
   {
    "duration": 7,
    "start_time": "2022-10-05T19:59:27.154Z"
   },
   {
    "duration": 16,
    "start_time": "2022-10-05T19:59:27.162Z"
   },
   {
    "duration": 57,
    "start_time": "2022-10-05T19:59:27.180Z"
   },
   {
    "duration": 7,
    "start_time": "2022-10-05T19:59:27.238Z"
   },
   {
    "duration": 269,
    "start_time": "2022-10-05T19:59:27.247Z"
   },
   {
    "duration": 259,
    "start_time": "2022-10-05T19:59:27.517Z"
   },
   {
    "duration": 15,
    "start_time": "2022-10-05T19:59:27.778Z"
   },
   {
    "duration": 6,
    "start_time": "2022-10-05T19:59:27.795Z"
   },
   {
    "duration": 21,
    "start_time": "2022-10-05T19:59:27.803Z"
   },
   {
    "duration": 7,
    "start_time": "2022-10-05T19:59:27.825Z"
   },
   {
    "duration": 8,
    "start_time": "2022-10-05T19:59:27.833Z"
   },
   {
    "duration": 384,
    "start_time": "2022-10-05T19:59:27.843Z"
   },
   {
    "duration": 5,
    "start_time": "2022-10-05T19:59:28.229Z"
   },
   {
    "duration": 30,
    "start_time": "2022-10-05T19:59:28.235Z"
   },
   {
    "duration": 225,
    "start_time": "2022-10-05T19:59:28.266Z"
   },
   {
    "duration": 224,
    "start_time": "2022-10-05T19:59:28.493Z"
   },
   {
    "duration": 152,
    "start_time": "2022-10-05T19:59:28.718Z"
   },
   {
    "duration": 162,
    "start_time": "2022-10-05T19:59:28.872Z"
   },
   {
    "duration": 156,
    "start_time": "2022-10-05T19:59:29.035Z"
   },
   {
    "duration": 165,
    "start_time": "2022-10-05T19:59:29.193Z"
   },
   {
    "duration": 217,
    "start_time": "2022-10-05T19:59:29.361Z"
   },
   {
    "duration": 324,
    "start_time": "2022-10-05T19:59:29.579Z"
   },
   {
    "duration": 157,
    "start_time": "2022-10-05T19:59:29.904Z"
   },
   {
    "duration": 164,
    "start_time": "2022-10-05T19:59:30.063Z"
   },
   {
    "duration": 128,
    "start_time": "2022-10-05T19:59:30.229Z"
   },
   {
    "duration": 178,
    "start_time": "2022-10-05T19:59:30.358Z"
   },
   {
    "duration": 177,
    "start_time": "2022-10-05T19:59:30.538Z"
   },
   {
    "duration": 169,
    "start_time": "2022-10-05T19:59:30.717Z"
   },
   {
    "duration": 272,
    "start_time": "2022-10-05T19:59:30.887Z"
   },
   {
    "duration": 234,
    "start_time": "2022-10-05T19:59:31.161Z"
   },
   {
    "duration": 152,
    "start_time": "2022-10-05T19:59:31.396Z"
   },
   {
    "duration": 129,
    "start_time": "2022-10-05T19:59:31.549Z"
   },
   {
    "duration": 146,
    "start_time": "2022-10-05T19:59:31.680Z"
   },
   {
    "duration": 123,
    "start_time": "2022-10-05T19:59:31.827Z"
   },
   {
    "duration": 145,
    "start_time": "2022-10-05T19:59:31.951Z"
   },
   {
    "duration": 138,
    "start_time": "2022-10-05T19:59:32.097Z"
   },
   {
    "duration": 128,
    "start_time": "2022-10-05T19:59:32.236Z"
   },
   {
    "duration": 22,
    "start_time": "2022-10-05T19:59:32.366Z"
   },
   {
    "duration": 7,
    "start_time": "2022-10-05T19:59:32.389Z"
   },
   {
    "duration": 25,
    "start_time": "2022-10-05T19:59:32.397Z"
   },
   {
    "duration": 135,
    "start_time": "2022-10-05T19:59:32.424Z"
   },
   {
    "duration": 2435,
    "start_time": "2022-10-05T20:00:06.338Z"
   },
   {
    "duration": 4,
    "start_time": "2022-10-05T20:00:36.479Z"
   },
   {
    "duration": 115,
    "start_time": "2022-10-05T20:00:40.365Z"
   },
   {
    "duration": 5,
    "start_time": "2022-10-05T20:00:46.071Z"
   },
   {
    "duration": 113,
    "start_time": "2022-10-05T20:00:48.171Z"
   },
   {
    "duration": 5,
    "start_time": "2022-10-05T20:00:56.202Z"
   },
   {
    "duration": 574,
    "start_time": "2022-10-05T20:01:03.724Z"
   },
   {
    "duration": 120,
    "start_time": "2022-10-05T20:01:04.300Z"
   },
   {
    "duration": 1807,
    "start_time": "2022-10-05T20:01:04.421Z"
   },
   {
    "duration": 4,
    "start_time": "2022-10-05T20:01:06.230Z"
   },
   {
    "duration": 227,
    "start_time": "2022-10-05T20:01:06.235Z"
   },
   {
    "duration": 42,
    "start_time": "2022-10-05T20:01:06.464Z"
   },
   {
    "duration": 47,
    "start_time": "2022-10-05T20:01:06.508Z"
   },
   {
    "duration": 7,
    "start_time": "2022-10-05T20:01:06.557Z"
   },
   {
    "duration": 13,
    "start_time": "2022-10-05T20:01:06.565Z"
   },
   {
    "duration": 66,
    "start_time": "2022-10-05T20:01:06.581Z"
   },
   {
    "duration": 7,
    "start_time": "2022-10-05T20:01:06.649Z"
   },
   {
    "duration": 313,
    "start_time": "2022-10-05T20:01:06.658Z"
   },
   {
    "duration": 290,
    "start_time": "2022-10-05T20:01:06.973Z"
   },
   {
    "duration": 16,
    "start_time": "2022-10-05T20:01:07.264Z"
   },
   {
    "duration": 5,
    "start_time": "2022-10-05T20:01:07.281Z"
   },
   {
    "duration": 7,
    "start_time": "2022-10-05T20:01:07.288Z"
   },
   {
    "duration": 26,
    "start_time": "2022-10-05T20:01:07.296Z"
   },
   {
    "duration": 7,
    "start_time": "2022-10-05T20:01:07.324Z"
   },
   {
    "duration": 423,
    "start_time": "2022-10-05T20:01:07.332Z"
   },
   {
    "duration": 6,
    "start_time": "2022-10-05T20:01:07.756Z"
   },
   {
    "duration": 24,
    "start_time": "2022-10-05T20:01:07.763Z"
   },
   {
    "duration": 276,
    "start_time": "2022-10-05T20:01:07.788Z"
   },
   {
    "duration": 219,
    "start_time": "2022-10-05T20:01:08.066Z"
   },
   {
    "duration": 153,
    "start_time": "2022-10-05T20:01:08.286Z"
   },
   {
    "duration": 158,
    "start_time": "2022-10-05T20:01:08.441Z"
   },
   {
    "duration": 154,
    "start_time": "2022-10-05T20:01:08.601Z"
   },
   {
    "duration": 155,
    "start_time": "2022-10-05T20:01:08.757Z"
   },
   {
    "duration": 212,
    "start_time": "2022-10-05T20:01:08.922Z"
   },
   {
    "duration": 374,
    "start_time": "2022-10-05T20:01:09.136Z"
   },
   {
    "duration": 147,
    "start_time": "2022-10-05T20:01:09.521Z"
   },
   {
    "duration": 169,
    "start_time": "2022-10-05T20:01:09.670Z"
   },
   {
    "duration": 134,
    "start_time": "2022-10-05T20:01:09.841Z"
   },
   {
    "duration": 166,
    "start_time": "2022-10-05T20:01:09.977Z"
   },
   {
    "duration": 162,
    "start_time": "2022-10-05T20:01:10.144Z"
   },
   {
    "duration": 164,
    "start_time": "2022-10-05T20:01:10.308Z"
   },
   {
    "duration": 257,
    "start_time": "2022-10-05T20:01:10.474Z"
   },
   {
    "duration": 227,
    "start_time": "2022-10-05T20:01:10.733Z"
   },
   {
    "duration": 153,
    "start_time": "2022-10-05T20:01:10.961Z"
   },
   {
    "duration": 127,
    "start_time": "2022-10-05T20:01:11.115Z"
   },
   {
    "duration": 158,
    "start_time": "2022-10-05T20:01:11.244Z"
   },
   {
    "duration": 130,
    "start_time": "2022-10-05T20:01:11.403Z"
   },
   {
    "duration": 160,
    "start_time": "2022-10-05T20:01:11.534Z"
   },
   {
    "duration": 144,
    "start_time": "2022-10-05T20:01:11.696Z"
   },
   {
    "duration": 139,
    "start_time": "2022-10-05T20:01:11.841Z"
   },
   {
    "duration": 22,
    "start_time": "2022-10-05T20:01:11.982Z"
   },
   {
    "duration": 18,
    "start_time": "2022-10-05T20:01:12.006Z"
   },
   {
    "duration": 11,
    "start_time": "2022-10-05T20:01:12.025Z"
   },
   {
    "duration": 161,
    "start_time": "2022-10-05T20:01:12.037Z"
   },
   {
    "duration": 5,
    "start_time": "2022-10-05T20:01:16.126Z"
   },
   {
    "duration": 132,
    "start_time": "2022-10-05T20:01:18.504Z"
   },
   {
    "duration": 563,
    "start_time": "2022-10-05T20:01:30.559Z"
   },
   {
    "duration": 116,
    "start_time": "2022-10-05T20:01:31.124Z"
   },
   {
    "duration": 1711,
    "start_time": "2022-10-05T20:01:31.241Z"
   },
   {
    "duration": 4,
    "start_time": "2022-10-05T20:01:32.953Z"
   },
   {
    "duration": 191,
    "start_time": "2022-10-05T20:01:32.959Z"
   },
   {
    "duration": 39,
    "start_time": "2022-10-05T20:01:33.151Z"
   },
   {
    "duration": 48,
    "start_time": "2022-10-05T20:01:33.191Z"
   },
   {
    "duration": 7,
    "start_time": "2022-10-05T20:01:33.241Z"
   },
   {
    "duration": 12,
    "start_time": "2022-10-05T20:01:33.249Z"
   },
   {
    "duration": 61,
    "start_time": "2022-10-05T20:01:33.262Z"
   },
   {
    "duration": 8,
    "start_time": "2022-10-05T20:01:33.324Z"
   },
   {
    "duration": 277,
    "start_time": "2022-10-05T20:01:33.333Z"
   },
   {
    "duration": 268,
    "start_time": "2022-10-05T20:01:33.612Z"
   },
   {
    "duration": 107,
    "start_time": "2022-10-05T20:01:33.882Z"
   },
   {
    "duration": 5,
    "start_time": "2022-10-05T20:01:33.991Z"
   },
   {
    "duration": 10,
    "start_time": "2022-10-05T20:01:33.997Z"
   },
   {
    "duration": 15,
    "start_time": "2022-10-05T20:01:34.008Z"
   },
   {
    "duration": 6,
    "start_time": "2022-10-05T20:01:34.024Z"
   },
   {
    "duration": 292,
    "start_time": "2022-10-05T20:01:34.031Z"
   },
   {
    "duration": 7,
    "start_time": "2022-10-05T20:01:34.325Z"
   },
   {
    "duration": 30,
    "start_time": "2022-10-05T20:01:34.334Z"
   },
   {
    "duration": 267,
    "start_time": "2022-10-05T20:01:34.365Z"
   },
   {
    "duration": 221,
    "start_time": "2022-10-05T20:01:34.633Z"
   },
   {
    "duration": 159,
    "start_time": "2022-10-05T20:01:34.856Z"
   },
   {
    "duration": 163,
    "start_time": "2022-10-05T20:01:35.017Z"
   },
   {
    "duration": 160,
    "start_time": "2022-10-05T20:01:35.182Z"
   },
   {
    "duration": 161,
    "start_time": "2022-10-05T20:01:35.343Z"
   },
   {
    "duration": 212,
    "start_time": "2022-10-05T20:01:35.506Z"
   },
   {
    "duration": 341,
    "start_time": "2022-10-05T20:01:35.722Z"
   },
   {
    "duration": 188,
    "start_time": "2022-10-05T20:01:36.065Z"
   },
   {
    "duration": 160,
    "start_time": "2022-10-05T20:01:36.255Z"
   },
   {
    "duration": 128,
    "start_time": "2022-10-05T20:01:36.416Z"
   },
   {
    "duration": 165,
    "start_time": "2022-10-05T20:01:36.545Z"
   },
   {
    "duration": 193,
    "start_time": "2022-10-05T20:01:36.712Z"
   },
   {
    "duration": 196,
    "start_time": "2022-10-05T20:01:36.906Z"
   },
   {
    "duration": 287,
    "start_time": "2022-10-05T20:01:37.104Z"
   },
   {
    "duration": 230,
    "start_time": "2022-10-05T20:01:37.393Z"
   },
   {
    "duration": 154,
    "start_time": "2022-10-05T20:01:37.625Z"
   },
   {
    "duration": 142,
    "start_time": "2022-10-05T20:01:37.781Z"
   },
   {
    "duration": 143,
    "start_time": "2022-10-05T20:01:37.925Z"
   },
   {
    "duration": 122,
    "start_time": "2022-10-05T20:01:38.071Z"
   },
   {
    "duration": 136,
    "start_time": "2022-10-05T20:01:38.194Z"
   },
   {
    "duration": 142,
    "start_time": "2022-10-05T20:01:38.332Z"
   },
   {
    "duration": 131,
    "start_time": "2022-10-05T20:01:38.476Z"
   },
   {
    "duration": 31,
    "start_time": "2022-10-05T20:01:38.608Z"
   },
   {
    "duration": 6,
    "start_time": "2022-10-05T20:01:38.641Z"
   },
   {
    "duration": 78,
    "start_time": "2022-10-05T20:01:38.649Z"
   },
   {
    "duration": 169,
    "start_time": "2022-10-05T20:01:38.728Z"
   },
   {
    "duration": 4,
    "start_time": "2022-10-05T20:01:50.489Z"
   },
   {
    "duration": 129,
    "start_time": "2022-10-05T20:01:54.796Z"
   },
   {
    "duration": 600,
    "start_time": "2022-10-05T20:02:13.017Z"
   },
   {
    "duration": 125,
    "start_time": "2022-10-05T20:02:13.619Z"
   },
   {
    "duration": 1691,
    "start_time": "2022-10-05T20:02:13.745Z"
   },
   {
    "duration": 4,
    "start_time": "2022-10-05T20:02:15.438Z"
   },
   {
    "duration": 195,
    "start_time": "2022-10-05T20:02:15.444Z"
   },
   {
    "duration": 41,
    "start_time": "2022-10-05T20:02:15.641Z"
   },
   {
    "duration": 52,
    "start_time": "2022-10-05T20:02:15.684Z"
   },
   {
    "duration": 8,
    "start_time": "2022-10-05T20:02:15.737Z"
   },
   {
    "duration": 19,
    "start_time": "2022-10-05T20:02:15.747Z"
   },
   {
    "duration": 59,
    "start_time": "2022-10-05T20:02:15.767Z"
   },
   {
    "duration": 8,
    "start_time": "2022-10-05T20:02:15.827Z"
   },
   {
    "duration": 288,
    "start_time": "2022-10-05T20:02:15.836Z"
   },
   {
    "duration": 303,
    "start_time": "2022-10-05T20:02:16.126Z"
   },
   {
    "duration": 116,
    "start_time": "2022-10-05T20:02:16.432Z"
   },
   {
    "duration": 5,
    "start_time": "2022-10-05T20:02:16.550Z"
   },
   {
    "duration": 10,
    "start_time": "2022-10-05T20:02:16.556Z"
   },
   {
    "duration": 5,
    "start_time": "2022-10-05T20:02:16.567Z"
   },
   {
    "duration": 7,
    "start_time": "2022-10-05T20:02:16.574Z"
   },
   {
    "duration": 292,
    "start_time": "2022-10-05T20:02:16.582Z"
   },
   {
    "duration": 5,
    "start_time": "2022-10-05T20:02:16.876Z"
   },
   {
    "duration": 24,
    "start_time": "2022-10-05T20:02:16.883Z"
   },
   {
    "duration": 238,
    "start_time": "2022-10-05T20:02:16.909Z"
   },
   {
    "duration": 226,
    "start_time": "2022-10-05T20:02:17.148Z"
   },
   {
    "duration": 162,
    "start_time": "2022-10-05T20:02:17.376Z"
   },
   {
    "duration": 156,
    "start_time": "2022-10-05T20:02:17.540Z"
   },
   {
    "duration": 169,
    "start_time": "2022-10-05T20:02:17.698Z"
   },
   {
    "duration": 154,
    "start_time": "2022-10-05T20:02:17.870Z"
   },
   {
    "duration": 202,
    "start_time": "2022-10-05T20:02:18.025Z"
   },
   {
    "duration": 369,
    "start_time": "2022-10-05T20:02:18.228Z"
   },
   {
    "duration": 167,
    "start_time": "2022-10-05T20:02:18.599Z"
   },
   {
    "duration": 166,
    "start_time": "2022-10-05T20:02:18.768Z"
   },
   {
    "duration": 119,
    "start_time": "2022-10-05T20:02:18.936Z"
   },
   {
    "duration": 170,
    "start_time": "2022-10-05T20:02:19.057Z"
   },
   {
    "duration": 168,
    "start_time": "2022-10-05T20:02:19.229Z"
   },
   {
    "duration": 159,
    "start_time": "2022-10-05T20:02:19.399Z"
   },
   {
    "duration": 250,
    "start_time": "2022-10-05T20:02:19.559Z"
   },
   {
    "duration": 201,
    "start_time": "2022-10-05T20:02:19.811Z"
   },
   {
    "duration": 142,
    "start_time": "2022-10-05T20:02:20.013Z"
   },
   {
    "duration": 131,
    "start_time": "2022-10-05T20:02:20.157Z"
   },
   {
    "duration": 157,
    "start_time": "2022-10-05T20:02:20.290Z"
   },
   {
    "duration": 123,
    "start_time": "2022-10-05T20:02:20.450Z"
   },
   {
    "duration": 138,
    "start_time": "2022-10-05T20:02:20.574Z"
   },
   {
    "duration": 167,
    "start_time": "2022-10-05T20:02:20.714Z"
   },
   {
    "duration": 141,
    "start_time": "2022-10-05T20:02:20.882Z"
   },
   {
    "duration": 24,
    "start_time": "2022-10-05T20:02:21.025Z"
   },
   {
    "duration": 12,
    "start_time": "2022-10-05T20:02:21.051Z"
   },
   {
    "duration": 15,
    "start_time": "2022-10-05T20:02:21.065Z"
   },
   {
    "duration": 155,
    "start_time": "2022-10-05T20:02:21.082Z"
   },
   {
    "duration": 7,
    "start_time": "2022-10-05T20:15:55.257Z"
   },
   {
    "duration": 108,
    "start_time": "2022-10-05T20:16:22.843Z"
   },
   {
    "duration": 45,
    "start_time": "2022-10-05T20:16:50.461Z"
   },
   {
    "duration": 40,
    "start_time": "2022-10-05T20:17:12.623Z"
   },
   {
    "duration": 8,
    "start_time": "2022-10-05T20:17:54.350Z"
   },
   {
    "duration": 7,
    "start_time": "2022-10-05T20:40:52.295Z"
   },
   {
    "duration": 9,
    "start_time": "2022-10-05T20:41:42.411Z"
   },
   {
    "duration": 7,
    "start_time": "2022-10-05T20:41:48.522Z"
   },
   {
    "duration": 23,
    "start_time": "2022-10-05T20:42:11.131Z"
   },
   {
    "duration": 7,
    "start_time": "2022-10-05T20:42:22.339Z"
   },
   {
    "duration": 15,
    "start_time": "2022-10-05T20:42:25.440Z"
   },
   {
    "duration": 6,
    "start_time": "2022-10-05T20:42:37.197Z"
   },
   {
    "duration": 16,
    "start_time": "2022-10-05T20:42:40.628Z"
   },
   {
    "duration": 6,
    "start_time": "2022-10-05T20:42:48.013Z"
   },
   {
    "duration": 18,
    "start_time": "2022-10-05T20:42:49.966Z"
   },
   {
    "duration": 6,
    "start_time": "2022-10-05T20:43:27.421Z"
   },
   {
    "duration": 9,
    "start_time": "2022-10-05T20:44:59.821Z"
   },
   {
    "duration": 16,
    "start_time": "2022-10-05T20:45:01.780Z"
   },
   {
    "duration": 10,
    "start_time": "2022-10-05T20:45:13.857Z"
   },
   {
    "duration": 16,
    "start_time": "2022-10-05T20:45:16.780Z"
   },
   {
    "duration": 14,
    "start_time": "2022-10-05T20:45:52.250Z"
   },
   {
    "duration": 16,
    "start_time": "2022-10-05T20:45:55.225Z"
   },
   {
    "duration": 146,
    "start_time": "2022-10-05T20:49:45.331Z"
   },
   {
    "duration": 567,
    "start_time": "2022-10-05T20:50:01.256Z"
   },
   {
    "duration": 134,
    "start_time": "2022-10-05T20:50:01.824Z"
   },
   {
    "duration": 1685,
    "start_time": "2022-10-05T20:50:01.959Z"
   },
   {
    "duration": 4,
    "start_time": "2022-10-05T20:50:03.646Z"
   },
   {
    "duration": 192,
    "start_time": "2022-10-05T20:50:03.651Z"
   },
   {
    "duration": 38,
    "start_time": "2022-10-05T20:50:03.844Z"
   },
   {
    "duration": 45,
    "start_time": "2022-10-05T20:50:03.884Z"
   },
   {
    "duration": 7,
    "start_time": "2022-10-05T20:50:03.930Z"
   },
   {
    "duration": 23,
    "start_time": "2022-10-05T20:50:03.938Z"
   },
   {
    "duration": 45,
    "start_time": "2022-10-05T20:50:03.964Z"
   },
   {
    "duration": 19,
    "start_time": "2022-10-05T20:50:04.011Z"
   },
   {
    "duration": 16,
    "start_time": "2022-10-05T20:50:04.032Z"
   },
   {
    "duration": 6,
    "start_time": "2022-10-05T20:50:04.049Z"
   },
   {
    "duration": 284,
    "start_time": "2022-10-05T20:50:04.056Z"
   },
   {
    "duration": 257,
    "start_time": "2022-10-05T20:50:04.342Z"
   },
   {
    "duration": 20,
    "start_time": "2022-10-05T20:50:04.601Z"
   },
   {
    "duration": 5,
    "start_time": "2022-10-05T20:50:04.623Z"
   },
   {
    "duration": 9,
    "start_time": "2022-10-05T20:50:04.629Z"
   },
   {
    "duration": 6,
    "start_time": "2022-10-05T20:50:04.639Z"
   },
   {
    "duration": 9,
    "start_time": "2022-10-05T20:50:04.647Z"
   },
   {
    "duration": 380,
    "start_time": "2022-10-05T20:50:04.657Z"
   },
   {
    "duration": 5,
    "start_time": "2022-10-05T20:50:05.039Z"
   },
   {
    "duration": 24,
    "start_time": "2022-10-05T20:50:05.045Z"
   },
   {
    "duration": 230,
    "start_time": "2022-10-05T20:50:05.070Z"
   },
   {
    "duration": 240,
    "start_time": "2022-10-05T20:50:05.301Z"
   },
   {
    "duration": 181,
    "start_time": "2022-10-05T20:50:05.543Z"
   },
   {
    "duration": 177,
    "start_time": "2022-10-05T20:50:05.726Z"
   },
   {
    "duration": 206,
    "start_time": "2022-10-05T20:50:05.907Z"
   },
   {
    "duration": 185,
    "start_time": "2022-10-05T20:50:06.115Z"
   },
   {
    "duration": 231,
    "start_time": "2022-10-05T20:50:06.302Z"
   },
   {
    "duration": 411,
    "start_time": "2022-10-05T20:50:06.535Z"
   },
   {
    "duration": 158,
    "start_time": "2022-10-05T20:50:06.947Z"
   },
   {
    "duration": 178,
    "start_time": "2022-10-05T20:50:07.106Z"
   },
   {
    "duration": 157,
    "start_time": "2022-10-05T20:50:07.286Z"
   },
   {
    "duration": 188,
    "start_time": "2022-10-05T20:50:07.445Z"
   },
   {
    "duration": 181,
    "start_time": "2022-10-05T20:50:07.636Z"
   },
   {
    "duration": 174,
    "start_time": "2022-10-05T20:50:07.821Z"
   },
   {
    "duration": 262,
    "start_time": "2022-10-05T20:50:07.997Z"
   },
   {
    "duration": 219,
    "start_time": "2022-10-05T20:50:08.260Z"
   },
   {
    "duration": 146,
    "start_time": "2022-10-05T20:50:08.480Z"
   },
   {
    "duration": 124,
    "start_time": "2022-10-05T20:50:08.628Z"
   },
   {
    "duration": 146,
    "start_time": "2022-10-05T20:50:08.753Z"
   },
   {
    "duration": 122,
    "start_time": "2022-10-05T20:50:08.901Z"
   },
   {
    "duration": 141,
    "start_time": "2022-10-05T20:50:09.024Z"
   },
   {
    "duration": 134,
    "start_time": "2022-10-05T20:50:09.166Z"
   },
   {
    "duration": 139,
    "start_time": "2022-10-05T20:50:09.301Z"
   },
   {
    "duration": 24,
    "start_time": "2022-10-05T20:50:09.441Z"
   },
   {
    "duration": 23,
    "start_time": "2022-10-05T20:50:09.467Z"
   },
   {
    "duration": 11,
    "start_time": "2022-10-05T20:50:09.492Z"
   },
   {
    "duration": 140,
    "start_time": "2022-10-05T20:50:09.504Z"
   },
   {
    "duration": 140,
    "start_time": "2022-10-05T20:52:26.878Z"
   },
   {
    "duration": 134,
    "start_time": "2022-10-05T20:53:40.792Z"
   },
   {
    "duration": 52,
    "start_time": "2022-10-06T07:16:54.262Z"
   },
   {
    "duration": 806,
    "start_time": "2022-10-06T07:17:01.634Z"
   },
   {
    "duration": 383,
    "start_time": "2022-10-06T07:17:02.442Z"
   },
   {
    "duration": 1862,
    "start_time": "2022-10-06T07:17:02.827Z"
   },
   {
    "duration": 5,
    "start_time": "2022-10-06T07:17:04.692Z"
   },
   {
    "duration": 217,
    "start_time": "2022-10-06T07:17:04.699Z"
   },
   {
    "duration": 40,
    "start_time": "2022-10-06T07:17:04.918Z"
   },
   {
    "duration": 53,
    "start_time": "2022-10-06T07:17:04.959Z"
   },
   {
    "duration": 8,
    "start_time": "2022-10-06T07:17:05.013Z"
   },
   {
    "duration": 28,
    "start_time": "2022-10-06T07:17:05.022Z"
   },
   {
    "duration": 59,
    "start_time": "2022-10-06T07:17:05.052Z"
   },
   {
    "duration": 13,
    "start_time": "2022-10-06T07:17:05.113Z"
   },
   {
    "duration": 19,
    "start_time": "2022-10-06T07:17:05.128Z"
   },
   {
    "duration": 8,
    "start_time": "2022-10-06T07:17:05.149Z"
   },
   {
    "duration": 289,
    "start_time": "2022-10-06T07:17:05.158Z"
   },
   {
    "duration": 274,
    "start_time": "2022-10-06T07:17:05.449Z"
   },
   {
    "duration": 16,
    "start_time": "2022-10-06T07:17:05.725Z"
   },
   {
    "duration": 7,
    "start_time": "2022-10-06T07:17:05.742Z"
   },
   {
    "duration": 42,
    "start_time": "2022-10-06T07:17:05.751Z"
   },
   {
    "duration": 8,
    "start_time": "2022-10-06T07:17:05.794Z"
   },
   {
    "duration": 6,
    "start_time": "2022-10-06T07:17:05.804Z"
   },
   {
    "duration": 404,
    "start_time": "2022-10-06T07:17:05.811Z"
   },
   {
    "duration": 6,
    "start_time": "2022-10-06T07:17:06.217Z"
   },
   {
    "duration": 24,
    "start_time": "2022-10-06T07:17:06.225Z"
   },
   {
    "duration": 250,
    "start_time": "2022-10-06T07:17:06.251Z"
   },
   {
    "duration": 235,
    "start_time": "2022-10-06T07:17:06.503Z"
   },
   {
    "duration": 166,
    "start_time": "2022-10-06T07:17:06.740Z"
   },
   {
    "duration": 164,
    "start_time": "2022-10-06T07:17:06.908Z"
   },
   {
    "duration": 175,
    "start_time": "2022-10-06T07:17:07.076Z"
   },
   {
    "duration": 159,
    "start_time": "2022-10-06T07:17:07.253Z"
   },
   {
    "duration": 212,
    "start_time": "2022-10-06T07:17:07.414Z"
   },
   {
    "duration": 425,
    "start_time": "2022-10-06T07:17:07.628Z"
   },
   {
    "duration": 165,
    "start_time": "2022-10-06T07:17:08.055Z"
   },
   {
    "duration": 187,
    "start_time": "2022-10-06T07:17:08.222Z"
   },
   {
    "duration": 43,
    "start_time": "2022-10-06T07:17:08.411Z"
   },
   {
    "duration": 0,
    "start_time": "2022-10-06T07:17:08.455Z"
   },
   {
    "duration": 0,
    "start_time": "2022-10-06T07:17:08.456Z"
   },
   {
    "duration": 0,
    "start_time": "2022-10-06T07:17:08.457Z"
   },
   {
    "duration": 0,
    "start_time": "2022-10-06T07:17:08.458Z"
   },
   {
    "duration": 0,
    "start_time": "2022-10-06T07:17:08.459Z"
   },
   {
    "duration": 0,
    "start_time": "2022-10-06T07:17:08.460Z"
   },
   {
    "duration": 0,
    "start_time": "2022-10-06T07:17:08.461Z"
   },
   {
    "duration": 0,
    "start_time": "2022-10-06T07:17:08.462Z"
   },
   {
    "duration": 0,
    "start_time": "2022-10-06T07:17:08.463Z"
   },
   {
    "duration": 0,
    "start_time": "2022-10-06T07:17:08.464Z"
   },
   {
    "duration": 0,
    "start_time": "2022-10-06T07:17:08.465Z"
   },
   {
    "duration": 0,
    "start_time": "2022-10-06T07:17:08.466Z"
   },
   {
    "duration": 0,
    "start_time": "2022-10-06T07:17:08.467Z"
   },
   {
    "duration": 0,
    "start_time": "2022-10-06T07:17:08.469Z"
   },
   {
    "duration": 1,
    "start_time": "2022-10-06T07:17:08.470Z"
   },
   {
    "duration": 0,
    "start_time": "2022-10-06T07:17:08.472Z"
   },
   {
    "duration": 677,
    "start_time": "2022-10-06T07:17:35.576Z"
   },
   {
    "duration": 135,
    "start_time": "2022-10-06T07:17:36.255Z"
   },
   {
    "duration": 1802,
    "start_time": "2022-10-06T07:17:36.391Z"
   },
   {
    "duration": 4,
    "start_time": "2022-10-06T07:17:38.195Z"
   },
   {
    "duration": 215,
    "start_time": "2022-10-06T07:17:38.201Z"
   },
   {
    "duration": 41,
    "start_time": "2022-10-06T07:17:38.418Z"
   },
   {
    "duration": 61,
    "start_time": "2022-10-06T07:17:38.461Z"
   },
   {
    "duration": 7,
    "start_time": "2022-10-06T07:17:38.524Z"
   },
   {
    "duration": 12,
    "start_time": "2022-10-06T07:17:38.532Z"
   },
   {
    "duration": 66,
    "start_time": "2022-10-06T07:17:38.546Z"
   },
   {
    "duration": 10,
    "start_time": "2022-10-06T07:17:38.614Z"
   },
   {
    "duration": 17,
    "start_time": "2022-10-06T07:17:38.626Z"
   },
   {
    "duration": 6,
    "start_time": "2022-10-06T07:17:38.644Z"
   },
   {
    "duration": 295,
    "start_time": "2022-10-06T07:17:38.652Z"
   },
   {
    "duration": 270,
    "start_time": "2022-10-06T07:17:38.948Z"
   },
   {
    "duration": 15,
    "start_time": "2022-10-06T07:17:39.220Z"
   },
   {
    "duration": 6,
    "start_time": "2022-10-06T07:17:39.236Z"
   },
   {
    "duration": 10,
    "start_time": "2022-10-06T07:17:39.243Z"
   },
   {
    "duration": 12,
    "start_time": "2022-10-06T07:17:39.254Z"
   },
   {
    "duration": 10,
    "start_time": "2022-10-06T07:17:39.267Z"
   },
   {
    "duration": 425,
    "start_time": "2022-10-06T07:17:39.278Z"
   },
   {
    "duration": 6,
    "start_time": "2022-10-06T07:17:39.708Z"
   },
   {
    "duration": 23,
    "start_time": "2022-10-06T07:17:39.715Z"
   },
   {
    "duration": 257,
    "start_time": "2022-10-06T07:17:39.740Z"
   },
   {
    "duration": 264,
    "start_time": "2022-10-06T07:17:39.999Z"
   },
   {
    "duration": 160,
    "start_time": "2022-10-06T07:17:40.264Z"
   },
   {
    "duration": 160,
    "start_time": "2022-10-06T07:17:40.426Z"
   },
   {
    "duration": 164,
    "start_time": "2022-10-06T07:17:40.590Z"
   },
   {
    "duration": 198,
    "start_time": "2022-10-06T07:17:40.756Z"
   },
   {
    "duration": 213,
    "start_time": "2022-10-06T07:17:40.956Z"
   },
   {
    "duration": 368,
    "start_time": "2022-10-06T07:17:41.171Z"
   },
   {
    "duration": 180,
    "start_time": "2022-10-06T07:17:41.541Z"
   },
   {
    "duration": 174,
    "start_time": "2022-10-06T07:17:41.723Z"
   },
   {
    "duration": 61,
    "start_time": "2022-10-06T07:17:41.899Z"
   },
   {
    "duration": 0,
    "start_time": "2022-10-06T07:17:41.962Z"
   },
   {
    "duration": 0,
    "start_time": "2022-10-06T07:17:41.963Z"
   },
   {
    "duration": 0,
    "start_time": "2022-10-06T07:17:41.964Z"
   },
   {
    "duration": 0,
    "start_time": "2022-10-06T07:17:41.965Z"
   },
   {
    "duration": 0,
    "start_time": "2022-10-06T07:17:41.966Z"
   },
   {
    "duration": 0,
    "start_time": "2022-10-06T07:17:41.966Z"
   },
   {
    "duration": 0,
    "start_time": "2022-10-06T07:17:41.967Z"
   },
   {
    "duration": 0,
    "start_time": "2022-10-06T07:17:41.968Z"
   },
   {
    "duration": 1,
    "start_time": "2022-10-06T07:17:41.968Z"
   },
   {
    "duration": 0,
    "start_time": "2022-10-06T07:17:41.969Z"
   },
   {
    "duration": 0,
    "start_time": "2022-10-06T07:17:41.970Z"
   },
   {
    "duration": 0,
    "start_time": "2022-10-06T07:17:41.971Z"
   },
   {
    "duration": 0,
    "start_time": "2022-10-06T07:17:41.972Z"
   },
   {
    "duration": 0,
    "start_time": "2022-10-06T07:17:41.973Z"
   },
   {
    "duration": 0,
    "start_time": "2022-10-06T07:17:41.975Z"
   },
   {
    "duration": 0,
    "start_time": "2022-10-06T07:17:41.975Z"
   },
   {
    "duration": 614,
    "start_time": "2022-10-06T07:21:31.431Z"
   },
   {
    "duration": 124,
    "start_time": "2022-10-06T07:21:32.047Z"
   },
   {
    "duration": 1840,
    "start_time": "2022-10-06T07:21:32.173Z"
   },
   {
    "duration": 5,
    "start_time": "2022-10-06T07:21:34.016Z"
   },
   {
    "duration": 232,
    "start_time": "2022-10-06T07:21:34.022Z"
   },
   {
    "duration": 42,
    "start_time": "2022-10-06T07:21:34.256Z"
   },
   {
    "duration": 50,
    "start_time": "2022-10-06T07:21:34.299Z"
   },
   {
    "duration": 9,
    "start_time": "2022-10-06T07:21:34.351Z"
   },
   {
    "duration": 14,
    "start_time": "2022-10-06T07:21:34.362Z"
   },
   {
    "duration": 73,
    "start_time": "2022-10-06T07:21:34.378Z"
   },
   {
    "duration": 10,
    "start_time": "2022-10-06T07:21:34.453Z"
   },
   {
    "duration": 15,
    "start_time": "2022-10-06T07:21:34.464Z"
   },
   {
    "duration": 7,
    "start_time": "2022-10-06T07:21:34.481Z"
   },
   {
    "duration": 272,
    "start_time": "2022-10-06T07:21:34.509Z"
   },
   {
    "duration": 267,
    "start_time": "2022-10-06T07:21:34.782Z"
   },
   {
    "duration": 17,
    "start_time": "2022-10-06T07:21:35.050Z"
   },
   {
    "duration": 6,
    "start_time": "2022-10-06T07:21:35.069Z"
   },
   {
    "duration": 10,
    "start_time": "2022-10-06T07:21:35.077Z"
   },
   {
    "duration": 24,
    "start_time": "2022-10-06T07:21:35.089Z"
   },
   {
    "duration": 6,
    "start_time": "2022-10-06T07:21:35.115Z"
   },
   {
    "duration": 411,
    "start_time": "2022-10-06T07:21:35.123Z"
   },
   {
    "duration": 7,
    "start_time": "2022-10-06T07:21:35.536Z"
   },
   {
    "duration": 30,
    "start_time": "2022-10-06T07:21:35.544Z"
   },
   {
    "duration": 241,
    "start_time": "2022-10-06T07:21:35.576Z"
   },
   {
    "duration": 234,
    "start_time": "2022-10-06T07:21:35.819Z"
   },
   {
    "duration": 159,
    "start_time": "2022-10-06T07:21:36.055Z"
   },
   {
    "duration": 161,
    "start_time": "2022-10-06T07:21:36.216Z"
   },
   {
    "duration": 166,
    "start_time": "2022-10-06T07:21:36.381Z"
   },
   {
    "duration": 162,
    "start_time": "2022-10-06T07:21:36.548Z"
   },
   {
    "duration": 217,
    "start_time": "2022-10-06T07:21:36.712Z"
   },
   {
    "duration": 380,
    "start_time": "2022-10-06T07:21:36.930Z"
   },
   {
    "duration": 158,
    "start_time": "2022-10-06T07:21:37.311Z"
   },
   {
    "duration": 178,
    "start_time": "2022-10-06T07:21:37.471Z"
   },
   {
    "duration": 67,
    "start_time": "2022-10-06T07:21:37.651Z"
   },
   {
    "duration": 0,
    "start_time": "2022-10-06T07:21:37.719Z"
   },
   {
    "duration": 0,
    "start_time": "2022-10-06T07:21:37.720Z"
   },
   {
    "duration": 0,
    "start_time": "2022-10-06T07:21:37.721Z"
   },
   {
    "duration": 0,
    "start_time": "2022-10-06T07:21:37.723Z"
   },
   {
    "duration": 1,
    "start_time": "2022-10-06T07:21:37.723Z"
   },
   {
    "duration": 0,
    "start_time": "2022-10-06T07:21:37.725Z"
   },
   {
    "duration": 0,
    "start_time": "2022-10-06T07:21:37.726Z"
   },
   {
    "duration": 0,
    "start_time": "2022-10-06T07:21:37.727Z"
   },
   {
    "duration": 0,
    "start_time": "2022-10-06T07:21:37.727Z"
   },
   {
    "duration": 0,
    "start_time": "2022-10-06T07:21:37.728Z"
   },
   {
    "duration": 0,
    "start_time": "2022-10-06T07:21:37.730Z"
   },
   {
    "duration": 0,
    "start_time": "2022-10-06T07:21:37.731Z"
   },
   {
    "duration": 0,
    "start_time": "2022-10-06T07:21:37.733Z"
   },
   {
    "duration": 0,
    "start_time": "2022-10-06T07:21:37.734Z"
   },
   {
    "duration": 0,
    "start_time": "2022-10-06T07:21:37.735Z"
   },
   {
    "duration": 0,
    "start_time": "2022-10-06T07:21:37.736Z"
   },
   {
    "duration": 53,
    "start_time": "2022-10-06T07:37:29.362Z"
   },
   {
    "duration": 751,
    "start_time": "2022-10-06T07:37:35.558Z"
   },
   {
    "duration": 344,
    "start_time": "2022-10-06T07:37:36.311Z"
   },
   {
    "duration": 1784,
    "start_time": "2022-10-06T07:37:36.657Z"
   },
   {
    "duration": 4,
    "start_time": "2022-10-06T07:37:38.443Z"
   },
   {
    "duration": 228,
    "start_time": "2022-10-06T07:37:38.448Z"
   },
   {
    "duration": 48,
    "start_time": "2022-10-06T07:37:38.677Z"
   },
   {
    "duration": 39,
    "start_time": "2022-10-06T07:37:38.727Z"
   },
   {
    "duration": 7,
    "start_time": "2022-10-06T07:37:38.768Z"
   },
   {
    "duration": 34,
    "start_time": "2022-10-06T07:37:38.777Z"
   },
   {
    "duration": 53,
    "start_time": "2022-10-06T07:37:38.813Z"
   },
   {
    "duration": 10,
    "start_time": "2022-10-06T07:37:38.867Z"
   },
   {
    "duration": 33,
    "start_time": "2022-10-06T07:37:38.878Z"
   },
   {
    "duration": 7,
    "start_time": "2022-10-06T07:37:38.912Z"
   },
   {
    "duration": 286,
    "start_time": "2022-10-06T07:37:38.920Z"
   },
   {
    "duration": 267,
    "start_time": "2022-10-06T07:37:39.207Z"
   },
   {
    "duration": 16,
    "start_time": "2022-10-06T07:37:39.475Z"
   },
   {
    "duration": 18,
    "start_time": "2022-10-06T07:37:39.492Z"
   },
   {
    "duration": 8,
    "start_time": "2022-10-06T07:37:39.512Z"
   },
   {
    "duration": 13,
    "start_time": "2022-10-06T07:37:39.522Z"
   },
   {
    "duration": 5,
    "start_time": "2022-10-06T07:37:39.537Z"
   },
   {
    "duration": 404,
    "start_time": "2022-10-06T07:37:39.544Z"
   },
   {
    "duration": 6,
    "start_time": "2022-10-06T07:37:39.950Z"
   },
   {
    "duration": 33,
    "start_time": "2022-10-06T07:37:39.957Z"
   },
   {
    "duration": 238,
    "start_time": "2022-10-06T07:37:39.991Z"
   },
   {
    "duration": 224,
    "start_time": "2022-10-06T07:37:40.231Z"
   },
   {
    "duration": 159,
    "start_time": "2022-10-06T07:37:40.456Z"
   },
   {
    "duration": 162,
    "start_time": "2022-10-06T07:37:40.617Z"
   },
   {
    "duration": 172,
    "start_time": "2022-10-06T07:37:40.783Z"
   },
   {
    "duration": 171,
    "start_time": "2022-10-06T07:37:40.957Z"
   },
   {
    "duration": 230,
    "start_time": "2022-10-06T07:37:41.130Z"
   },
   {
    "duration": 468,
    "start_time": "2022-10-06T07:37:41.362Z"
   },
   {
    "duration": 159,
    "start_time": "2022-10-06T07:37:41.832Z"
   },
   {
    "duration": 170,
    "start_time": "2022-10-06T07:37:41.992Z"
   },
   {
    "duration": 135,
    "start_time": "2022-10-06T07:37:42.163Z"
   },
   {
    "duration": 171,
    "start_time": "2022-10-06T07:37:42.300Z"
   },
   {
    "duration": 211,
    "start_time": "2022-10-06T07:37:42.472Z"
   },
   {
    "duration": 199,
    "start_time": "2022-10-06T07:37:42.685Z"
   },
   {
    "duration": 277,
    "start_time": "2022-10-06T07:37:42.885Z"
   },
   {
    "duration": 222,
    "start_time": "2022-10-06T07:37:43.164Z"
   },
   {
    "duration": 165,
    "start_time": "2022-10-06T07:37:43.388Z"
   },
   {
    "duration": 136,
    "start_time": "2022-10-06T07:37:43.554Z"
   },
   {
    "duration": 164,
    "start_time": "2022-10-06T07:37:43.691Z"
   },
   {
    "duration": 147,
    "start_time": "2022-10-06T07:37:43.857Z"
   },
   {
    "duration": 156,
    "start_time": "2022-10-06T07:37:44.009Z"
   },
   {
    "duration": 156,
    "start_time": "2022-10-06T07:37:44.167Z"
   },
   {
    "duration": 148,
    "start_time": "2022-10-06T07:37:44.324Z"
   },
   {
    "duration": 36,
    "start_time": "2022-10-06T07:37:44.474Z"
   },
   {
    "duration": 8,
    "start_time": "2022-10-06T07:37:44.511Z"
   },
   {
    "duration": 17,
    "start_time": "2022-10-06T07:37:44.520Z"
   },
   {
    "duration": 96,
    "start_time": "2022-10-06T07:37:44.539Z"
   },
   {
    "duration": 8,
    "start_time": "2022-10-06T07:40:59.472Z"
   },
   {
    "duration": 118,
    "start_time": "2022-10-06T07:41:10.939Z"
   },
   {
    "duration": 115,
    "start_time": "2022-10-06T07:41:21.146Z"
   },
   {
    "duration": 176,
    "start_time": "2022-10-06T07:41:29.524Z"
   },
   {
    "duration": 240,
    "start_time": "2022-10-06T07:41:53.928Z"
   },
   {
    "duration": 181,
    "start_time": "2022-10-06T07:42:08.356Z"
   },
   {
    "duration": 177,
    "start_time": "2022-10-06T07:42:21.804Z"
   },
   {
    "duration": 178,
    "start_time": "2022-10-06T07:42:36.105Z"
   },
   {
    "duration": 174,
    "start_time": "2022-10-06T07:43:18.912Z"
   },
   {
    "duration": 174,
    "start_time": "2022-10-06T07:43:48.480Z"
   },
   {
    "duration": 183,
    "start_time": "2022-10-06T07:44:12.379Z"
   },
   {
    "duration": 147,
    "start_time": "2022-10-06T07:44:41.170Z"
   },
   {
    "duration": 123,
    "start_time": "2022-10-06T07:46:41.145Z"
   },
   {
    "duration": 396,
    "start_time": "2022-10-06T07:49:40.158Z"
   },
   {
    "duration": 129,
    "start_time": "2022-10-06T07:49:51.555Z"
   },
   {
    "duration": 49,
    "start_time": "2022-10-06T07:52:04.487Z"
   },
   {
    "duration": 52,
    "start_time": "2022-10-06T07:52:15.078Z"
   },
   {
    "duration": 44,
    "start_time": "2022-10-06T07:52:40.697Z"
   },
   {
    "duration": 57,
    "start_time": "2022-10-06T07:53:03.377Z"
   },
   {
    "duration": 749,
    "start_time": "2022-10-06T07:53:14.304Z"
   },
   {
    "duration": 130,
    "start_time": "2022-10-06T07:53:15.055Z"
   },
   {
    "duration": 1775,
    "start_time": "2022-10-06T07:53:15.186Z"
   },
   {
    "duration": 4,
    "start_time": "2022-10-06T07:53:16.962Z"
   },
   {
    "duration": 214,
    "start_time": "2022-10-06T07:53:16.968Z"
   },
   {
    "duration": 46,
    "start_time": "2022-10-06T07:53:17.183Z"
   },
   {
    "duration": 40,
    "start_time": "2022-10-06T07:53:17.230Z"
   },
   {
    "duration": 7,
    "start_time": "2022-10-06T07:53:17.271Z"
   },
   {
    "duration": 30,
    "start_time": "2022-10-06T07:53:17.280Z"
   },
   {
    "duration": 50,
    "start_time": "2022-10-06T07:53:17.312Z"
   },
   {
    "duration": 9,
    "start_time": "2022-10-06T07:53:17.364Z"
   },
   {
    "duration": 36,
    "start_time": "2022-10-06T07:53:17.375Z"
   },
   {
    "duration": 6,
    "start_time": "2022-10-06T07:53:17.413Z"
   },
   {
    "duration": 276,
    "start_time": "2022-10-06T07:53:17.422Z"
   },
   {
    "duration": 268,
    "start_time": "2022-10-06T07:53:17.700Z"
   },
   {
    "duration": 15,
    "start_time": "2022-10-06T07:53:17.970Z"
   },
   {
    "duration": 8,
    "start_time": "2022-10-06T07:53:17.987Z"
   },
   {
    "duration": 13,
    "start_time": "2022-10-06T07:53:18.009Z"
   },
   {
    "duration": 17,
    "start_time": "2022-10-06T07:53:18.023Z"
   },
   {
    "duration": 15,
    "start_time": "2022-10-06T07:53:18.041Z"
   },
   {
    "duration": 414,
    "start_time": "2022-10-06T07:53:18.057Z"
   },
   {
    "duration": 6,
    "start_time": "2022-10-06T07:53:18.473Z"
   },
   {
    "duration": 42,
    "start_time": "2022-10-06T07:53:18.480Z"
   },
   {
    "duration": 239,
    "start_time": "2022-10-06T07:53:18.524Z"
   },
   {
    "duration": 236,
    "start_time": "2022-10-06T07:53:18.764Z"
   },
   {
    "duration": 161,
    "start_time": "2022-10-06T07:53:19.002Z"
   },
   {
    "duration": 162,
    "start_time": "2022-10-06T07:53:19.165Z"
   },
   {
    "duration": 160,
    "start_time": "2022-10-06T07:53:19.329Z"
   },
   {
    "duration": 162,
    "start_time": "2022-10-06T07:53:19.490Z"
   },
   {
    "duration": 207,
    "start_time": "2022-10-06T07:53:19.653Z"
   },
   {
    "duration": 369,
    "start_time": "2022-10-06T07:53:19.861Z"
   },
   {
    "duration": 153,
    "start_time": "2022-10-06T07:53:20.231Z"
   },
   {
    "duration": 172,
    "start_time": "2022-10-06T07:53:20.386Z"
   },
   {
    "duration": 129,
    "start_time": "2022-10-06T07:53:20.560Z"
   },
   {
    "duration": 181,
    "start_time": "2022-10-06T07:53:20.691Z"
   },
   {
    "duration": 176,
    "start_time": "2022-10-06T07:53:20.874Z"
   },
   {
    "duration": 178,
    "start_time": "2022-10-06T07:53:21.052Z"
   },
   {
    "duration": 269,
    "start_time": "2022-10-06T07:53:21.232Z"
   },
   {
    "duration": 260,
    "start_time": "2022-10-06T07:53:21.503Z"
   },
   {
    "duration": 195,
    "start_time": "2022-10-06T07:53:21.766Z"
   },
   {
    "duration": 185,
    "start_time": "2022-10-06T07:53:21.968Z"
   },
   {
    "duration": 161,
    "start_time": "2022-10-06T07:53:22.155Z"
   },
   {
    "duration": 136,
    "start_time": "2022-10-06T07:53:22.318Z"
   },
   {
    "duration": 175,
    "start_time": "2022-10-06T07:53:22.456Z"
   },
   {
    "duration": 194,
    "start_time": "2022-10-06T07:53:22.633Z"
   },
   {
    "duration": 152,
    "start_time": "2022-10-06T07:53:22.829Z"
   },
   {
    "duration": 64,
    "start_time": "2022-10-06T07:53:22.983Z"
   },
   {
    "duration": 0,
    "start_time": "2022-10-06T07:53:23.048Z"
   },
   {
    "duration": 0,
    "start_time": "2022-10-06T07:53:23.050Z"
   },
   {
    "duration": 0,
    "start_time": "2022-10-06T07:53:23.051Z"
   },
   {
    "duration": 0,
    "start_time": "2022-10-06T07:53:23.052Z"
   },
   {
    "duration": 62,
    "start_time": "2022-10-06T07:53:33.820Z"
   },
   {
    "duration": 90,
    "start_time": "2022-10-06T07:54:27.317Z"
   },
   {
    "duration": 8,
    "start_time": "2022-10-06T07:54:35.183Z"
   },
   {
    "duration": 10,
    "start_time": "2022-10-06T07:54:55.864Z"
   },
   {
    "duration": 3,
    "start_time": "2022-10-06T07:55:27.745Z"
   },
   {
    "duration": 8,
    "start_time": "2022-10-06T07:55:36.940Z"
   },
   {
    "duration": 147,
    "start_time": "2022-10-06T07:56:19.984Z"
   },
   {
    "duration": 7,
    "start_time": "2022-10-06T08:02:25.050Z"
   },
   {
    "duration": 24,
    "start_time": "2022-10-06T08:02:28.714Z"
   },
   {
    "duration": 8,
    "start_time": "2022-10-06T08:02:33.474Z"
   },
   {
    "duration": 8,
    "start_time": "2022-10-06T08:03:04.260Z"
   },
   {
    "duration": 47,
    "start_time": "2022-10-06T08:03:53.591Z"
   },
   {
    "duration": 577,
    "start_time": "2022-10-06T19:11:33.250Z"
   },
   {
    "duration": 122,
    "start_time": "2022-10-06T19:11:33.829Z"
   },
   {
    "duration": 2020,
    "start_time": "2022-10-06T19:11:33.953Z"
   },
   {
    "duration": 5,
    "start_time": "2022-10-06T19:11:35.975Z"
   },
   {
    "duration": 263,
    "start_time": "2022-10-06T19:11:35.982Z"
   },
   {
    "duration": 42,
    "start_time": "2022-10-06T19:11:36.247Z"
   },
   {
    "duration": 41,
    "start_time": "2022-10-06T19:11:36.306Z"
   },
   {
    "duration": 7,
    "start_time": "2022-10-06T19:11:36.349Z"
   },
   {
    "duration": 12,
    "start_time": "2022-10-06T19:11:36.357Z"
   },
   {
    "duration": 72,
    "start_time": "2022-10-06T19:11:36.371Z"
   },
   {
    "duration": 11,
    "start_time": "2022-10-06T19:11:36.444Z"
   },
   {
    "duration": 16,
    "start_time": "2022-10-06T19:11:36.456Z"
   },
   {
    "duration": 6,
    "start_time": "2022-10-06T19:11:36.474Z"
   },
   {
    "duration": 291,
    "start_time": "2022-10-06T19:11:36.504Z"
   },
   {
    "duration": 273,
    "start_time": "2022-10-06T19:11:36.800Z"
   },
   {
    "duration": 14,
    "start_time": "2022-10-06T19:11:37.075Z"
   },
   {
    "duration": 11,
    "start_time": "2022-10-06T19:11:37.104Z"
   },
   {
    "duration": 7,
    "start_time": "2022-10-06T19:11:37.117Z"
   },
   {
    "duration": 9,
    "start_time": "2022-10-06T19:11:37.126Z"
   },
   {
    "duration": 7,
    "start_time": "2022-10-06T19:11:37.136Z"
   },
   {
    "duration": 435,
    "start_time": "2022-10-06T19:11:37.145Z"
   },
   {
    "duration": 6,
    "start_time": "2022-10-06T19:11:37.582Z"
   },
   {
    "duration": 29,
    "start_time": "2022-10-06T19:11:37.589Z"
   },
   {
    "duration": 250,
    "start_time": "2022-10-06T19:11:37.619Z"
   },
   {
    "duration": 247,
    "start_time": "2022-10-06T19:11:37.871Z"
   },
   {
    "duration": 167,
    "start_time": "2022-10-06T19:11:38.120Z"
   },
   {
    "duration": 170,
    "start_time": "2022-10-06T19:11:38.289Z"
   },
   {
    "duration": 174,
    "start_time": "2022-10-06T19:11:38.460Z"
   },
   {
    "duration": 178,
    "start_time": "2022-10-06T19:11:38.636Z"
   },
   {
    "duration": 215,
    "start_time": "2022-10-06T19:11:38.818Z"
   },
   {
    "duration": 390,
    "start_time": "2022-10-06T19:11:39.035Z"
   },
   {
    "duration": 173,
    "start_time": "2022-10-06T19:11:39.427Z"
   },
   {
    "duration": 210,
    "start_time": "2022-10-06T19:11:39.602Z"
   },
   {
    "duration": 149,
    "start_time": "2022-10-06T19:11:39.816Z"
   },
   {
    "duration": 214,
    "start_time": "2022-10-06T19:11:39.966Z"
   },
   {
    "duration": 194,
    "start_time": "2022-10-06T19:11:40.182Z"
   },
   {
    "duration": 192,
    "start_time": "2022-10-06T19:11:40.378Z"
   },
   {
    "duration": 285,
    "start_time": "2022-10-06T19:11:40.571Z"
   },
   {
    "duration": 270,
    "start_time": "2022-10-06T19:11:40.858Z"
   },
   {
    "duration": 198,
    "start_time": "2022-10-06T19:11:41.130Z"
   },
   {
    "duration": 177,
    "start_time": "2022-10-06T19:11:41.332Z"
   },
   {
    "duration": 187,
    "start_time": "2022-10-06T19:11:41.511Z"
   },
   {
    "duration": 159,
    "start_time": "2022-10-06T19:11:41.700Z"
   },
   {
    "duration": 156,
    "start_time": "2022-10-06T19:11:41.861Z"
   },
   {
    "duration": 175,
    "start_time": "2022-10-06T19:11:42.018Z"
   },
   {
    "duration": 153,
    "start_time": "2022-10-06T19:11:42.194Z"
   },
   {
    "duration": 24,
    "start_time": "2022-10-06T19:11:42.349Z"
   },
   {
    "duration": 7,
    "start_time": "2022-10-06T19:11:42.375Z"
   },
   {
    "duration": 32,
    "start_time": "2022-10-06T19:11:42.384Z"
   },
   {
    "duration": 166,
    "start_time": "2022-10-06T19:11:42.417Z"
   },
   {
    "duration": 15,
    "start_time": "2022-10-06T21:27:16.458Z"
   },
   {
    "duration": 498,
    "start_time": "2022-10-06T21:40:09.811Z"
   },
   {
    "duration": 5108,
    "start_time": "2022-10-06T21:40:10.832Z"
   },
   {
    "duration": 599,
    "start_time": "2022-10-06T21:40:21.277Z"
   },
   {
    "duration": 645,
    "start_time": "2022-10-06T21:41:13.783Z"
   },
   {
    "duration": 144,
    "start_time": "2022-10-06T21:41:14.431Z"
   },
   {
    "duration": 1842,
    "start_time": "2022-10-06T21:41:14.576Z"
   },
   {
    "duration": 4,
    "start_time": "2022-10-06T21:41:16.419Z"
   },
   {
    "duration": 215,
    "start_time": "2022-10-06T21:41:16.425Z"
   },
   {
    "duration": 43,
    "start_time": "2022-10-06T21:41:16.641Z"
   },
   {
    "duration": 47,
    "start_time": "2022-10-06T21:41:16.686Z"
   },
   {
    "duration": 7,
    "start_time": "2022-10-06T21:41:16.735Z"
   },
   {
    "duration": 12,
    "start_time": "2022-10-06T21:41:16.744Z"
   },
   {
    "duration": 73,
    "start_time": "2022-10-06T21:41:16.757Z"
   },
   {
    "duration": 10,
    "start_time": "2022-10-06T21:41:16.832Z"
   },
   {
    "duration": 15,
    "start_time": "2022-10-06T21:41:16.843Z"
   },
   {
    "duration": 6,
    "start_time": "2022-10-06T21:41:16.859Z"
   },
   {
    "duration": 298,
    "start_time": "2022-10-06T21:41:16.868Z"
   },
   {
    "duration": 273,
    "start_time": "2022-10-06T21:41:17.168Z"
   },
   {
    "duration": 19,
    "start_time": "2022-10-06T21:41:17.443Z"
   },
   {
    "duration": 26,
    "start_time": "2022-10-06T21:41:17.464Z"
   },
   {
    "duration": 6,
    "start_time": "2022-10-06T21:41:17.501Z"
   },
   {
    "duration": 11,
    "start_time": "2022-10-06T21:41:17.509Z"
   },
   {
    "duration": 6,
    "start_time": "2022-10-06T21:41:17.522Z"
   },
   {
    "duration": 130,
    "start_time": "2022-10-06T21:41:17.530Z"
   },
   {
    "duration": 292,
    "start_time": "2022-10-06T21:41:17.661Z"
   },
   {
    "duration": 6,
    "start_time": "2022-10-06T21:41:17.954Z"
   },
   {
    "duration": 28,
    "start_time": "2022-10-06T21:41:17.961Z"
   },
   {
    "duration": 250,
    "start_time": "2022-10-06T21:41:17.990Z"
   },
   {
    "duration": 239,
    "start_time": "2022-10-06T21:41:18.241Z"
   },
   {
    "duration": 165,
    "start_time": "2022-10-06T21:41:18.482Z"
   },
   {
    "duration": 167,
    "start_time": "2022-10-06T21:41:18.649Z"
   },
   {
    "duration": 156,
    "start_time": "2022-10-06T21:41:18.818Z"
   },
   {
    "duration": 155,
    "start_time": "2022-10-06T21:41:18.975Z"
   },
   {
    "duration": 214,
    "start_time": "2022-10-06T21:41:19.131Z"
   },
   {
    "duration": 378,
    "start_time": "2022-10-06T21:41:19.346Z"
   },
   {
    "duration": 145,
    "start_time": "2022-10-06T21:41:19.725Z"
   },
   {
    "duration": 163,
    "start_time": "2022-10-06T21:41:19.872Z"
   },
   {
    "duration": 129,
    "start_time": "2022-10-06T21:41:20.037Z"
   },
   {
    "duration": 173,
    "start_time": "2022-10-06T21:41:20.168Z"
   },
   {
    "duration": 198,
    "start_time": "2022-10-06T21:41:20.342Z"
   },
   {
    "duration": 183,
    "start_time": "2022-10-06T21:41:20.542Z"
   },
   {
    "duration": 277,
    "start_time": "2022-10-06T21:41:20.727Z"
   },
   {
    "duration": 255,
    "start_time": "2022-10-06T21:41:21.006Z"
   },
   {
    "duration": 192,
    "start_time": "2022-10-06T21:41:21.264Z"
   },
   {
    "duration": 172,
    "start_time": "2022-10-06T21:41:21.458Z"
   },
   {
    "duration": 156,
    "start_time": "2022-10-06T21:41:21.632Z"
   },
   {
    "duration": 133,
    "start_time": "2022-10-06T21:41:21.790Z"
   },
   {
    "duration": 150,
    "start_time": "2022-10-06T21:41:21.924Z"
   },
   {
    "duration": 156,
    "start_time": "2022-10-06T21:41:22.076Z"
   },
   {
    "duration": 137,
    "start_time": "2022-10-06T21:41:22.233Z"
   },
   {
    "duration": 35,
    "start_time": "2022-10-06T21:41:22.372Z"
   },
   {
    "duration": 7,
    "start_time": "2022-10-06T21:41:22.408Z"
   },
   {
    "duration": 11,
    "start_time": "2022-10-06T21:41:22.417Z"
   },
   {
    "duration": 149,
    "start_time": "2022-10-06T21:41:22.429Z"
   },
   {
    "duration": 519,
    "start_time": "2022-10-06T21:41:22.579Z"
   },
   {
    "duration": 5384,
    "start_time": "2022-10-06T21:41:23.099Z"
   },
   {
    "duration": 572,
    "start_time": "2022-10-06T21:41:28.485Z"
   },
   {
    "duration": 13,
    "start_time": "2022-10-06T21:44:19.949Z"
   },
   {
    "duration": 122,
    "start_time": "2022-10-06T21:47:11.169Z"
   },
   {
    "duration": 611,
    "start_time": "2022-10-06T21:53:26.375Z"
   },
   {
    "duration": 126,
    "start_time": "2022-10-06T21:53:26.988Z"
   },
   {
    "duration": 1778,
    "start_time": "2022-10-06T21:53:27.116Z"
   },
   {
    "duration": 6,
    "start_time": "2022-10-06T21:53:28.896Z"
   },
   {
    "duration": 217,
    "start_time": "2022-10-06T21:53:28.903Z"
   },
   {
    "duration": 42,
    "start_time": "2022-10-06T21:53:29.122Z"
   },
   {
    "duration": 13,
    "start_time": "2022-10-06T21:53:29.165Z"
   },
   {
    "duration": 55,
    "start_time": "2022-10-06T21:53:29.179Z"
   },
   {
    "duration": 7,
    "start_time": "2022-10-06T21:53:29.235Z"
   },
   {
    "duration": 13,
    "start_time": "2022-10-06T21:53:29.243Z"
   },
   {
    "duration": 67,
    "start_time": "2022-10-06T21:53:29.258Z"
   },
   {
    "duration": 11,
    "start_time": "2022-10-06T21:53:29.328Z"
   },
   {
    "duration": 14,
    "start_time": "2022-10-06T21:53:29.340Z"
   },
   {
    "duration": 6,
    "start_time": "2022-10-06T21:53:29.356Z"
   },
   {
    "duration": 291,
    "start_time": "2022-10-06T21:53:29.363Z"
   },
   {
    "duration": 276,
    "start_time": "2022-10-06T21:53:29.656Z"
   },
   {
    "duration": 15,
    "start_time": "2022-10-06T21:53:29.934Z"
   },
   {
    "duration": 12,
    "start_time": "2022-10-06T21:53:29.950Z"
   },
   {
    "duration": 6,
    "start_time": "2022-10-06T21:53:29.963Z"
   },
   {
    "duration": 30,
    "start_time": "2022-10-06T21:53:29.970Z"
   },
   {
    "duration": 6,
    "start_time": "2022-10-06T21:53:30.001Z"
   },
   {
    "duration": 119,
    "start_time": "2022-10-06T21:53:30.008Z"
   },
   {
    "duration": 281,
    "start_time": "2022-10-06T21:53:30.128Z"
   },
   {
    "duration": 6,
    "start_time": "2022-10-06T21:53:30.411Z"
   },
   {
    "duration": 44,
    "start_time": "2022-10-06T21:53:30.418Z"
   },
   {
    "duration": 251,
    "start_time": "2022-10-06T21:53:30.463Z"
   },
   {
    "duration": 246,
    "start_time": "2022-10-06T21:53:30.715Z"
   },
   {
    "duration": 162,
    "start_time": "2022-10-06T21:53:30.963Z"
   },
   {
    "duration": 155,
    "start_time": "2022-10-06T21:53:31.127Z"
   },
   {
    "duration": 169,
    "start_time": "2022-10-06T21:53:31.283Z"
   },
   {
    "duration": 163,
    "start_time": "2022-10-06T21:53:31.453Z"
   },
   {
    "duration": 235,
    "start_time": "2022-10-06T21:53:31.617Z"
   },
   {
    "duration": 381,
    "start_time": "2022-10-06T21:53:31.854Z"
   },
   {
    "duration": 166,
    "start_time": "2022-10-06T21:53:32.237Z"
   },
   {
    "duration": 168,
    "start_time": "2022-10-06T21:53:32.404Z"
   },
   {
    "duration": 129,
    "start_time": "2022-10-06T21:53:32.575Z"
   },
   {
    "duration": 168,
    "start_time": "2022-10-06T21:53:32.705Z"
   },
   {
    "duration": 173,
    "start_time": "2022-10-06T21:53:32.874Z"
   },
   {
    "duration": 174,
    "start_time": "2022-10-06T21:53:33.048Z"
   },
   {
    "duration": 273,
    "start_time": "2022-10-06T21:53:33.223Z"
   },
   {
    "duration": 259,
    "start_time": "2022-10-06T21:53:33.499Z"
   },
   {
    "duration": 195,
    "start_time": "2022-10-06T21:53:33.760Z"
   },
   {
    "duration": 184,
    "start_time": "2022-10-06T21:53:33.957Z"
   },
   {
    "duration": 170,
    "start_time": "2022-10-06T21:53:34.142Z"
   },
   {
    "duration": 147,
    "start_time": "2022-10-06T21:53:34.314Z"
   },
   {
    "duration": 186,
    "start_time": "2022-10-06T21:53:34.462Z"
   },
   {
    "duration": 154,
    "start_time": "2022-10-06T21:53:34.650Z"
   },
   {
    "duration": 137,
    "start_time": "2022-10-06T21:53:34.805Z"
   },
   {
    "duration": 23,
    "start_time": "2022-10-06T21:53:34.943Z"
   },
   {
    "duration": 7,
    "start_time": "2022-10-06T21:53:34.968Z"
   },
   {
    "duration": 25,
    "start_time": "2022-10-06T21:53:34.976Z"
   },
   {
    "duration": 152,
    "start_time": "2022-10-06T21:53:35.002Z"
   },
   {
    "duration": 527,
    "start_time": "2022-10-06T21:53:35.155Z"
   },
   {
    "duration": 5316,
    "start_time": "2022-10-06T21:53:35.684Z"
   },
   {
    "duration": 972,
    "start_time": "2022-10-06T21:53:41.002Z"
   },
   {
    "duration": 726,
    "start_time": "2022-10-17T17:05:52.916Z"
   },
   {
    "duration": 146,
    "start_time": "2022-10-17T17:05:53.644Z"
   },
   {
    "duration": 1820,
    "start_time": "2022-10-17T17:05:53.791Z"
   },
   {
    "duration": 5,
    "start_time": "2022-10-17T17:05:55.613Z"
   },
   {
    "duration": 207,
    "start_time": "2022-10-17T17:05:55.620Z"
   },
   {
    "duration": 40,
    "start_time": "2022-10-17T17:05:55.829Z"
   },
   {
    "duration": 12,
    "start_time": "2022-10-17T17:05:55.870Z"
   },
   {
    "duration": 47,
    "start_time": "2022-10-17T17:05:55.883Z"
   },
   {
    "duration": 7,
    "start_time": "2022-10-17T17:05:55.931Z"
   },
   {
    "duration": 11,
    "start_time": "2022-10-17T17:05:55.940Z"
   },
   {
    "duration": 70,
    "start_time": "2022-10-17T17:05:55.952Z"
   },
   {
    "duration": 22,
    "start_time": "2022-10-17T17:05:56.023Z"
   },
   {
    "duration": 25,
    "start_time": "2022-10-17T17:05:56.047Z"
   },
   {
    "duration": 7,
    "start_time": "2022-10-17T17:05:56.074Z"
   },
   {
    "duration": 277,
    "start_time": "2022-10-17T17:05:56.083Z"
   },
   {
    "duration": 251,
    "start_time": "2022-10-17T17:05:56.362Z"
   },
   {
    "duration": 16,
    "start_time": "2022-10-17T17:05:56.615Z"
   },
   {
    "duration": 14,
    "start_time": "2022-10-17T17:05:56.632Z"
   },
   {
    "duration": 7,
    "start_time": "2022-10-17T17:05:56.648Z"
   },
   {
    "duration": 18,
    "start_time": "2022-10-17T17:05:56.656Z"
   },
   {
    "duration": 26,
    "start_time": "2022-10-17T17:05:56.675Z"
   },
   {
    "duration": 90,
    "start_time": "2022-10-17T17:05:56.702Z"
   },
   {
    "duration": 273,
    "start_time": "2022-10-17T17:05:56.800Z"
   },
   {
    "duration": 7,
    "start_time": "2022-10-17T17:05:57.074Z"
   },
   {
    "duration": 32,
    "start_time": "2022-10-17T17:05:57.083Z"
   },
   {
    "duration": 237,
    "start_time": "2022-10-17T17:05:57.117Z"
   },
   {
    "duration": 238,
    "start_time": "2022-10-17T17:05:57.356Z"
   },
   {
    "duration": 161,
    "start_time": "2022-10-17T17:05:57.599Z"
   },
   {
    "duration": 180,
    "start_time": "2022-10-17T17:05:57.761Z"
   },
   {
    "duration": 152,
    "start_time": "2022-10-17T17:05:57.942Z"
   },
   {
    "duration": 152,
    "start_time": "2022-10-17T17:05:58.100Z"
   },
   {
    "duration": 206,
    "start_time": "2022-10-17T17:05:58.254Z"
   },
   {
    "duration": 423,
    "start_time": "2022-10-17T17:05:58.462Z"
   },
   {
    "duration": 150,
    "start_time": "2022-10-17T17:05:58.887Z"
   },
   {
    "duration": 169,
    "start_time": "2022-10-17T17:05:59.039Z"
   },
   {
    "duration": 121,
    "start_time": "2022-10-17T17:05:59.210Z"
   },
   {
    "duration": 169,
    "start_time": "2022-10-17T17:05:59.333Z"
   },
   {
    "duration": 157,
    "start_time": "2022-10-17T17:05:59.503Z"
   },
   {
    "duration": 181,
    "start_time": "2022-10-17T17:05:59.662Z"
   },
   {
    "duration": 279,
    "start_time": "2022-10-17T17:05:59.845Z"
   },
   {
    "duration": 247,
    "start_time": "2022-10-17T17:06:00.126Z"
   },
   {
    "duration": 177,
    "start_time": "2022-10-17T17:06:00.374Z"
   },
   {
    "duration": 175,
    "start_time": "2022-10-17T17:06:00.553Z"
   },
   {
    "duration": 166,
    "start_time": "2022-10-17T17:06:00.730Z"
   },
   {
    "duration": 126,
    "start_time": "2022-10-17T17:06:00.899Z"
   },
   {
    "duration": 164,
    "start_time": "2022-10-17T17:06:01.027Z"
   },
   {
    "duration": 156,
    "start_time": "2022-10-17T17:06:01.193Z"
   },
   {
    "duration": 131,
    "start_time": "2022-10-17T17:06:01.351Z"
   },
   {
    "duration": 34,
    "start_time": "2022-10-17T17:06:01.484Z"
   },
   {
    "duration": 8,
    "start_time": "2022-10-17T17:06:01.519Z"
   },
   {
    "duration": 20,
    "start_time": "2022-10-17T17:06:01.529Z"
   },
   {
    "duration": 173,
    "start_time": "2022-10-17T17:06:01.551Z"
   },
   {
    "duration": 462,
    "start_time": "2022-10-17T17:06:01.725Z"
   },
   {
    "duration": 5234,
    "start_time": "2022-10-17T17:06:02.188Z"
   },
   {
    "duration": 554,
    "start_time": "2022-10-17T17:06:07.424Z"
   },
   {
    "duration": 75,
    "start_time": "2022-10-17T17:06:50.095Z"
   },
   {
    "duration": 37,
    "start_time": "2022-10-17T17:07:08.181Z"
   },
   {
    "duration": 540,
    "start_time": "2022-10-17T17:07:18.851Z"
   },
   {
    "duration": 106,
    "start_time": "2022-10-17T17:07:19.393Z"
   },
   {
    "duration": 1786,
    "start_time": "2022-10-17T17:07:19.501Z"
   },
   {
    "duration": 4,
    "start_time": "2022-10-17T17:07:21.288Z"
   },
   {
    "duration": 198,
    "start_time": "2022-10-17T17:07:21.294Z"
   },
   {
    "duration": 38,
    "start_time": "2022-10-17T17:07:21.500Z"
   },
   {
    "duration": 12,
    "start_time": "2022-10-17T17:07:21.540Z"
   },
   {
    "duration": 48,
    "start_time": "2022-10-17T17:07:21.554Z"
   },
   {
    "duration": 9,
    "start_time": "2022-10-17T17:07:21.603Z"
   },
   {
    "duration": 18,
    "start_time": "2022-10-17T17:07:21.613Z"
   },
   {
    "duration": 48,
    "start_time": "2022-10-17T17:07:21.632Z"
   },
   {
    "duration": 24,
    "start_time": "2022-10-17T17:07:21.682Z"
   },
   {
    "duration": 21,
    "start_time": "2022-10-17T17:07:21.708Z"
   },
   {
    "duration": 6,
    "start_time": "2022-10-17T17:07:21.731Z"
   },
   {
    "duration": 320,
    "start_time": "2022-10-17T17:07:21.738Z"
   },
   {
    "duration": 273,
    "start_time": "2022-10-17T17:07:22.059Z"
   },
   {
    "duration": 16,
    "start_time": "2022-10-17T17:07:22.334Z"
   },
   {
    "duration": 16,
    "start_time": "2022-10-17T17:07:22.352Z"
   },
   {
    "duration": 10,
    "start_time": "2022-10-17T17:07:22.370Z"
   },
   {
    "duration": 21,
    "start_time": "2022-10-17T17:07:22.382Z"
   },
   {
    "duration": 8,
    "start_time": "2022-10-17T17:07:22.404Z"
   },
   {
    "duration": 110,
    "start_time": "2022-10-17T17:07:22.413Z"
   },
   {
    "duration": 298,
    "start_time": "2022-10-17T17:07:22.525Z"
   },
   {
    "duration": 7,
    "start_time": "2022-10-17T17:07:22.825Z"
   },
   {
    "duration": 24,
    "start_time": "2022-10-17T17:07:22.834Z"
   },
   {
    "duration": 262,
    "start_time": "2022-10-17T17:07:22.860Z"
   },
   {
    "duration": 249,
    "start_time": "2022-10-17T17:07:23.124Z"
   },
   {
    "duration": 190,
    "start_time": "2022-10-17T17:07:23.375Z"
   },
   {
    "duration": 168,
    "start_time": "2022-10-17T17:07:23.567Z"
   },
   {
    "duration": 167,
    "start_time": "2022-10-17T17:07:23.736Z"
   },
   {
    "duration": 177,
    "start_time": "2022-10-17T17:07:23.905Z"
   },
   {
    "duration": 232,
    "start_time": "2022-10-17T17:07:24.084Z"
   },
   {
    "duration": 416,
    "start_time": "2022-10-17T17:07:24.318Z"
   },
   {
    "duration": 155,
    "start_time": "2022-10-17T17:07:24.735Z"
   },
   {
    "duration": 170,
    "start_time": "2022-10-17T17:07:24.891Z"
   },
   {
    "duration": 142,
    "start_time": "2022-10-17T17:07:25.062Z"
   },
   {
    "duration": 182,
    "start_time": "2022-10-17T17:07:25.206Z"
   },
   {
    "duration": 204,
    "start_time": "2022-10-17T17:07:25.390Z"
   },
   {
    "duration": 179,
    "start_time": "2022-10-17T17:07:25.596Z"
   },
   {
    "duration": 277,
    "start_time": "2022-10-17T17:07:25.776Z"
   },
   {
    "duration": 257,
    "start_time": "2022-10-17T17:07:26.056Z"
   },
   {
    "duration": 180,
    "start_time": "2022-10-17T17:07:26.314Z"
   },
   {
    "duration": 164,
    "start_time": "2022-10-17T17:07:26.496Z"
   },
   {
    "duration": 158,
    "start_time": "2022-10-17T17:07:26.662Z"
   },
   {
    "duration": 133,
    "start_time": "2022-10-17T17:07:26.822Z"
   },
   {
    "duration": 147,
    "start_time": "2022-10-17T17:07:26.956Z"
   },
   {
    "duration": 149,
    "start_time": "2022-10-17T17:07:27.104Z"
   },
   {
    "duration": 128,
    "start_time": "2022-10-17T17:07:27.254Z"
   },
   {
    "duration": 28,
    "start_time": "2022-10-17T17:07:27.384Z"
   },
   {
    "duration": 7,
    "start_time": "2022-10-17T17:07:27.413Z"
   },
   {
    "duration": 14,
    "start_time": "2022-10-17T17:07:27.421Z"
   },
   {
    "duration": 147,
    "start_time": "2022-10-17T17:07:27.437Z"
   },
   {
    "duration": 502,
    "start_time": "2022-10-17T17:07:27.586Z"
   },
   {
    "duration": 5040,
    "start_time": "2022-10-17T17:07:28.090Z"
   },
   {
    "duration": 369,
    "start_time": "2022-10-17T17:07:33.132Z"
   },
   {
    "duration": 112,
    "start_time": "2022-10-17T17:27:13.196Z"
   },
   {
    "duration": 8,
    "start_time": "2022-10-17T17:27:47.008Z"
   },
   {
    "duration": 184,
    "start_time": "2022-10-17T17:28:33.523Z"
   },
   {
    "duration": 535,
    "start_time": "2022-10-17T17:30:01.252Z"
   },
   {
    "duration": 100,
    "start_time": "2022-10-17T17:30:01.789Z"
   },
   {
    "duration": 1748,
    "start_time": "2022-10-17T17:30:01.891Z"
   },
   {
    "duration": 4,
    "start_time": "2022-10-17T17:30:03.641Z"
   },
   {
    "duration": 212,
    "start_time": "2022-10-17T17:30:03.646Z"
   },
   {
    "duration": 43,
    "start_time": "2022-10-17T17:30:03.859Z"
   },
   {
    "duration": 14,
    "start_time": "2022-10-17T17:30:03.903Z"
   },
   {
    "duration": 44,
    "start_time": "2022-10-17T17:30:03.918Z"
   },
   {
    "duration": 7,
    "start_time": "2022-10-17T17:30:03.963Z"
   },
   {
    "duration": 56,
    "start_time": "2022-10-17T17:30:03.972Z"
   },
   {
    "duration": 60,
    "start_time": "2022-10-17T17:30:04.030Z"
   },
   {
    "duration": 10,
    "start_time": "2022-10-17T17:30:04.092Z"
   },
   {
    "duration": 39,
    "start_time": "2022-10-17T17:30:04.103Z"
   },
   {
    "duration": 30,
    "start_time": "2022-10-17T17:30:04.144Z"
   },
   {
    "duration": 337,
    "start_time": "2022-10-17T17:30:04.177Z"
   },
   {
    "duration": 296,
    "start_time": "2022-10-17T17:30:04.516Z"
   },
   {
    "duration": 17,
    "start_time": "2022-10-17T17:30:04.813Z"
   },
   {
    "duration": 114,
    "start_time": "2022-10-17T17:30:04.831Z"
   },
   {
    "duration": 33,
    "start_time": "2022-10-17T17:30:04.947Z"
   },
   {
    "duration": 20,
    "start_time": "2022-10-17T17:30:04.982Z"
   },
   {
    "duration": 26,
    "start_time": "2022-10-17T17:30:05.003Z"
   },
   {
    "duration": 19,
    "start_time": "2022-10-17T17:30:05.031Z"
   },
   {
    "duration": 29,
    "start_time": "2022-10-17T17:30:05.051Z"
   },
   {
    "duration": 13,
    "start_time": "2022-10-17T17:30:05.082Z"
   },
   {
    "duration": 267,
    "start_time": "2022-10-17T17:30:05.097Z"
   },
   {
    "duration": 5,
    "start_time": "2022-10-17T17:30:05.366Z"
   },
   {
    "duration": 46,
    "start_time": "2022-10-17T17:30:05.373Z"
   },
   {
    "duration": 268,
    "start_time": "2022-10-17T17:30:05.423Z"
   },
   {
    "duration": 228,
    "start_time": "2022-10-17T17:30:05.692Z"
   },
   {
    "duration": 156,
    "start_time": "2022-10-17T17:30:05.922Z"
   },
   {
    "duration": 159,
    "start_time": "2022-10-17T17:30:06.079Z"
   },
   {
    "duration": 154,
    "start_time": "2022-10-17T17:30:06.240Z"
   },
   {
    "duration": 149,
    "start_time": "2022-10-17T17:30:06.399Z"
   },
   {
    "duration": 208,
    "start_time": "2022-10-17T17:30:06.549Z"
   },
   {
    "duration": 347,
    "start_time": "2022-10-17T17:30:06.759Z"
   },
   {
    "duration": 147,
    "start_time": "2022-10-17T17:30:07.108Z"
   },
   {
    "duration": 150,
    "start_time": "2022-10-17T17:30:07.257Z"
   },
   {
    "duration": 125,
    "start_time": "2022-10-17T17:30:07.409Z"
   },
   {
    "duration": 167,
    "start_time": "2022-10-17T17:30:07.535Z"
   },
   {
    "duration": 169,
    "start_time": "2022-10-17T17:30:07.704Z"
   },
   {
    "duration": 173,
    "start_time": "2022-10-17T17:30:07.875Z"
   },
   {
    "duration": 265,
    "start_time": "2022-10-17T17:30:08.050Z"
   },
   {
    "duration": 235,
    "start_time": "2022-10-17T17:30:08.317Z"
   },
   {
    "duration": 156,
    "start_time": "2022-10-17T17:30:08.553Z"
   },
   {
    "duration": 164,
    "start_time": "2022-10-17T17:30:08.711Z"
   },
   {
    "duration": 152,
    "start_time": "2022-10-17T17:30:08.877Z"
   },
   {
    "duration": 139,
    "start_time": "2022-10-17T17:30:09.031Z"
   },
   {
    "duration": 147,
    "start_time": "2022-10-17T17:30:09.171Z"
   },
   {
    "duration": 126,
    "start_time": "2022-10-17T17:30:09.320Z"
   },
   {
    "duration": 142,
    "start_time": "2022-10-17T17:30:09.447Z"
   },
   {
    "duration": 23,
    "start_time": "2022-10-17T17:30:09.599Z"
   },
   {
    "duration": 6,
    "start_time": "2022-10-17T17:30:09.623Z"
   },
   {
    "duration": 8,
    "start_time": "2022-10-17T17:30:09.631Z"
   },
   {
    "duration": 144,
    "start_time": "2022-10-17T17:30:09.641Z"
   },
   {
    "duration": 495,
    "start_time": "2022-10-17T17:30:09.786Z"
   },
   {
    "duration": 3593,
    "start_time": "2022-10-17T17:30:10.283Z"
   },
   {
    "duration": 476,
    "start_time": "2022-10-17T17:30:13.878Z"
   },
   {
    "duration": 95,
    "start_time": "2022-10-17T17:31:50.105Z"
   },
   {
    "duration": 10,
    "start_time": "2022-10-17T17:32:16.936Z"
   },
   {
    "duration": 142,
    "start_time": "2022-10-17T17:32:53.834Z"
   },
   {
    "duration": 131,
    "start_time": "2022-10-17T17:34:39.164Z"
   },
   {
    "duration": 130,
    "start_time": "2022-10-17T17:35:18.938Z"
   },
   {
    "duration": 87,
    "start_time": "2022-10-17T17:41:20.842Z"
   },
   {
    "duration": 552,
    "start_time": "2022-10-18T12:57:29.523Z"
   },
   {
    "duration": 105,
    "start_time": "2022-10-18T12:57:30.077Z"
   },
   {
    "duration": 1722,
    "start_time": "2022-10-18T12:57:30.183Z"
   },
   {
    "duration": 4,
    "start_time": "2022-10-18T12:57:31.907Z"
   },
   {
    "duration": 198,
    "start_time": "2022-10-18T12:57:31.912Z"
   },
   {
    "duration": 39,
    "start_time": "2022-10-18T12:57:32.112Z"
   },
   {
    "duration": 13,
    "start_time": "2022-10-18T12:57:32.153Z"
   },
   {
    "duration": 58,
    "start_time": "2022-10-18T12:57:32.168Z"
   },
   {
    "duration": 8,
    "start_time": "2022-10-18T12:57:32.227Z"
   },
   {
    "duration": 44,
    "start_time": "2022-10-18T12:57:32.237Z"
   },
   {
    "duration": 65,
    "start_time": "2022-10-18T12:57:32.283Z"
   },
   {
    "duration": 11,
    "start_time": "2022-10-18T12:57:32.350Z"
   },
   {
    "duration": 15,
    "start_time": "2022-10-18T12:57:32.363Z"
   },
   {
    "duration": 23,
    "start_time": "2022-10-18T12:57:32.379Z"
   },
   {
    "duration": 275,
    "start_time": "2022-10-18T12:57:32.404Z"
   },
   {
    "duration": 264,
    "start_time": "2022-10-18T12:57:32.680Z"
   },
   {
    "duration": 15,
    "start_time": "2022-10-18T12:57:32.946Z"
   },
   {
    "duration": 105,
    "start_time": "2022-10-18T12:57:32.962Z"
   },
   {
    "duration": 12,
    "start_time": "2022-10-18T12:57:33.069Z"
   },
   {
    "duration": 27,
    "start_time": "2022-10-18T12:57:33.082Z"
   },
   {
    "duration": 5,
    "start_time": "2022-10-18T12:57:33.110Z"
   },
   {
    "duration": 10,
    "start_time": "2022-10-18T12:57:33.117Z"
   },
   {
    "duration": 6,
    "start_time": "2022-10-18T12:57:33.128Z"
   },
   {
    "duration": 14,
    "start_time": "2022-10-18T12:57:33.135Z"
   },
   {
    "duration": 272,
    "start_time": "2022-10-18T12:57:33.151Z"
   },
   {
    "duration": 5,
    "start_time": "2022-10-18T12:57:33.425Z"
   },
   {
    "duration": 28,
    "start_time": "2022-10-18T12:57:33.432Z"
   },
   {
    "duration": 251,
    "start_time": "2022-10-18T12:57:33.463Z"
   },
   {
    "duration": 222,
    "start_time": "2022-10-18T12:57:33.715Z"
   },
   {
    "duration": 145,
    "start_time": "2022-10-18T12:57:33.938Z"
   },
   {
    "duration": 179,
    "start_time": "2022-10-18T12:57:34.084Z"
   },
   {
    "duration": 160,
    "start_time": "2022-10-18T12:57:34.265Z"
   },
   {
    "duration": 198,
    "start_time": "2022-10-18T12:57:34.427Z"
   },
   {
    "duration": 198,
    "start_time": "2022-10-18T12:57:34.627Z"
   },
   {
    "duration": 374,
    "start_time": "2022-10-18T12:57:34.826Z"
   },
   {
    "duration": 173,
    "start_time": "2022-10-18T12:57:35.203Z"
   },
   {
    "duration": 171,
    "start_time": "2022-10-18T12:57:35.378Z"
   },
   {
    "duration": 125,
    "start_time": "2022-10-18T12:57:35.550Z"
   },
   {
    "duration": 168,
    "start_time": "2022-10-18T12:57:35.676Z"
   },
   {
    "duration": 167,
    "start_time": "2022-10-18T12:57:35.846Z"
   },
   {
    "duration": 181,
    "start_time": "2022-10-18T12:57:36.015Z"
   },
   {
    "duration": 292,
    "start_time": "2022-10-18T12:57:36.198Z"
   },
   {
    "duration": 235,
    "start_time": "2022-10-18T12:57:36.492Z"
   },
   {
    "duration": 162,
    "start_time": "2022-10-18T12:57:36.728Z"
   },
   {
    "duration": 171,
    "start_time": "2022-10-18T12:57:36.891Z"
   },
   {
    "duration": 150,
    "start_time": "2022-10-18T12:57:37.063Z"
   },
   {
    "duration": 139,
    "start_time": "2022-10-18T12:57:37.214Z"
   },
   {
    "duration": 159,
    "start_time": "2022-10-18T12:57:37.355Z"
   },
   {
    "duration": 136,
    "start_time": "2022-10-18T12:57:37.516Z"
   },
   {
    "duration": 137,
    "start_time": "2022-10-18T12:57:37.654Z"
   },
   {
    "duration": 134,
    "start_time": "2022-10-18T12:57:37.792Z"
   },
   {
    "duration": 22,
    "start_time": "2022-10-18T12:57:37.927Z"
   },
   {
    "duration": 9,
    "start_time": "2022-10-18T12:57:37.950Z"
   },
   {
    "duration": 14,
    "start_time": "2022-10-18T12:57:37.960Z"
   },
   {
    "duration": 144,
    "start_time": "2022-10-18T12:57:37.975Z"
   },
   {
    "duration": 48,
    "start_time": "2022-10-18T12:57:38.121Z"
   },
   {
    "duration": 0,
    "start_time": "2022-10-18T12:57:38.171Z"
   },
   {
    "duration": 0,
    "start_time": "2022-10-18T12:57:38.172Z"
   },
   {
    "duration": 0,
    "start_time": "2022-10-18T12:57:38.173Z"
   },
   {
    "duration": 529,
    "start_time": "2022-10-18T13:04:19.756Z"
   },
   {
    "duration": 3683,
    "start_time": "2022-10-18T13:04:21.028Z"
   },
   {
    "duration": 464,
    "start_time": "2022-10-18T13:04:24.713Z"
   },
   {
    "duration": 17,
    "start_time": "2022-10-18T13:05:51.645Z"
   },
   {
    "duration": 727,
    "start_time": "2022-10-18T13:06:43.801Z"
   },
   {
    "duration": 132,
    "start_time": "2022-10-18T13:06:44.532Z"
   },
   {
    "duration": 1893,
    "start_time": "2022-10-18T13:06:44.666Z"
   },
   {
    "duration": 4,
    "start_time": "2022-10-18T13:06:46.560Z"
   },
   {
    "duration": 246,
    "start_time": "2022-10-18T13:06:46.566Z"
   },
   {
    "duration": 48,
    "start_time": "2022-10-18T13:06:46.814Z"
   },
   {
    "duration": 12,
    "start_time": "2022-10-18T13:06:46.864Z"
   },
   {
    "duration": 55,
    "start_time": "2022-10-18T13:06:46.878Z"
   },
   {
    "duration": 7,
    "start_time": "2022-10-18T13:06:46.935Z"
   },
   {
    "duration": 24,
    "start_time": "2022-10-18T13:06:46.943Z"
   },
   {
    "duration": 59,
    "start_time": "2022-10-18T13:06:46.968Z"
   },
   {
    "duration": 9,
    "start_time": "2022-10-18T13:06:47.029Z"
   },
   {
    "duration": 20,
    "start_time": "2022-10-18T13:06:47.040Z"
   },
   {
    "duration": 7,
    "start_time": "2022-10-18T13:06:47.062Z"
   },
   {
    "duration": 301,
    "start_time": "2022-10-18T13:06:47.070Z"
   },
   {
    "duration": 293,
    "start_time": "2022-10-18T13:06:47.372Z"
   },
   {
    "duration": 22,
    "start_time": "2022-10-18T13:06:47.667Z"
   },
   {
    "duration": 11,
    "start_time": "2022-10-18T13:06:47.700Z"
   },
   {
    "duration": 115,
    "start_time": "2022-10-18T13:06:47.712Z"
   },
   {
    "duration": 15,
    "start_time": "2022-10-18T13:06:47.828Z"
   },
   {
    "duration": 11,
    "start_time": "2022-10-18T13:06:47.845Z"
   },
   {
    "duration": 9,
    "start_time": "2022-10-18T13:06:47.858Z"
   },
   {
    "duration": 12,
    "start_time": "2022-10-18T13:06:47.868Z"
   },
   {
    "duration": 19,
    "start_time": "2022-10-18T13:06:47.881Z"
   },
   {
    "duration": 6,
    "start_time": "2022-10-18T13:06:47.902Z"
   },
   {
    "duration": 269,
    "start_time": "2022-10-18T13:06:47.910Z"
   },
   {
    "duration": 21,
    "start_time": "2022-10-18T13:06:48.181Z"
   },
   {
    "duration": 20,
    "start_time": "2022-10-18T13:06:48.204Z"
   },
   {
    "duration": 246,
    "start_time": "2022-10-18T13:06:48.226Z"
   },
   {
    "duration": 215,
    "start_time": "2022-10-18T13:06:48.474Z"
   },
   {
    "duration": 152,
    "start_time": "2022-10-18T13:06:48.691Z"
   },
   {
    "duration": 173,
    "start_time": "2022-10-18T13:06:48.845Z"
   },
   {
    "duration": 168,
    "start_time": "2022-10-18T13:06:49.020Z"
   },
   {
    "duration": 168,
    "start_time": "2022-10-18T13:06:49.191Z"
   },
   {
    "duration": 241,
    "start_time": "2022-10-18T13:06:49.361Z"
   },
   {
    "duration": 404,
    "start_time": "2022-10-18T13:06:49.604Z"
   },
   {
    "duration": 172,
    "start_time": "2022-10-18T13:06:50.011Z"
   },
   {
    "duration": 169,
    "start_time": "2022-10-18T13:06:50.185Z"
   },
   {
    "duration": 134,
    "start_time": "2022-10-18T13:06:50.355Z"
   },
   {
    "duration": 162,
    "start_time": "2022-10-18T13:06:50.491Z"
   },
   {
    "duration": 160,
    "start_time": "2022-10-18T13:06:50.658Z"
   },
   {
    "duration": 172,
    "start_time": "2022-10-18T13:06:50.819Z"
   },
   {
    "duration": 275,
    "start_time": "2022-10-18T13:06:50.993Z"
   },
   {
    "duration": 234,
    "start_time": "2022-10-18T13:06:51.270Z"
   },
   {
    "duration": 167,
    "start_time": "2022-10-18T13:06:51.506Z"
   },
   {
    "duration": 176,
    "start_time": "2022-10-18T13:06:51.674Z"
   },
   {
    "duration": 162,
    "start_time": "2022-10-18T13:06:51.852Z"
   },
   {
    "duration": 136,
    "start_time": "2022-10-18T13:06:52.015Z"
   },
   {
    "duration": 147,
    "start_time": "2022-10-18T13:06:52.153Z"
   },
   {
    "duration": 129,
    "start_time": "2022-10-18T13:06:52.302Z"
   },
   {
    "duration": 150,
    "start_time": "2022-10-18T13:06:52.433Z"
   },
   {
    "duration": 141,
    "start_time": "2022-10-18T13:06:52.585Z"
   },
   {
    "duration": 22,
    "start_time": "2022-10-18T13:06:52.728Z"
   },
   {
    "duration": 7,
    "start_time": "2022-10-18T13:06:52.752Z"
   },
   {
    "duration": 13,
    "start_time": "2022-10-18T13:06:52.760Z"
   },
   {
    "duration": 156,
    "start_time": "2022-10-18T13:06:52.774Z"
   },
   {
    "duration": 495,
    "start_time": "2022-10-18T13:06:52.931Z"
   },
   {
    "duration": 3906,
    "start_time": "2022-10-18T13:06:53.429Z"
   },
   {
    "duration": 361,
    "start_time": "2022-10-18T13:06:57.336Z"
   },
   {
    "duration": 24,
    "start_time": "2022-10-18T13:07:57.101Z"
   },
   {
    "duration": 195,
    "start_time": "2022-10-18T13:09:39.728Z"
   },
   {
    "duration": 194,
    "start_time": "2022-10-18T13:09:45.016Z"
   },
   {
    "duration": 164,
    "start_time": "2022-10-18T13:10:00.217Z"
   },
   {
    "duration": 187,
    "start_time": "2022-10-18T13:10:05.415Z"
   },
   {
    "duration": 181,
    "start_time": "2022-10-18T13:10:40.782Z"
   },
   {
    "duration": 188,
    "start_time": "2022-10-18T13:11:09.598Z"
   },
   {
    "duration": 640,
    "start_time": "2022-10-18T13:20:07.085Z"
   },
   {
    "duration": 108,
    "start_time": "2022-10-18T13:20:07.727Z"
   },
   {
    "duration": 1777,
    "start_time": "2022-10-18T13:20:07.837Z"
   },
   {
    "duration": 4,
    "start_time": "2022-10-18T13:20:09.615Z"
   },
   {
    "duration": 225,
    "start_time": "2022-10-18T13:20:09.621Z"
   },
   {
    "duration": 41,
    "start_time": "2022-10-18T13:20:09.847Z"
   },
   {
    "duration": 22,
    "start_time": "2022-10-18T13:20:09.889Z"
   },
   {
    "duration": 37,
    "start_time": "2022-10-18T13:20:09.912Z"
   },
   {
    "duration": 17,
    "start_time": "2022-10-18T13:20:09.951Z"
   },
   {
    "duration": 14,
    "start_time": "2022-10-18T13:20:09.970Z"
   },
   {
    "duration": 49,
    "start_time": "2022-10-18T13:20:10.000Z"
   },
   {
    "duration": 10,
    "start_time": "2022-10-18T13:20:10.051Z"
   },
   {
    "duration": 27,
    "start_time": "2022-10-18T13:20:10.062Z"
   },
   {
    "duration": 7,
    "start_time": "2022-10-18T13:20:10.102Z"
   },
   {
    "duration": 292,
    "start_time": "2022-10-18T13:20:10.110Z"
   },
   {
    "duration": 295,
    "start_time": "2022-10-18T13:20:10.405Z"
   },
   {
    "duration": 18,
    "start_time": "2022-10-18T13:20:10.703Z"
   },
   {
    "duration": 14,
    "start_time": "2022-10-18T13:20:10.723Z"
   },
   {
    "duration": 113,
    "start_time": "2022-10-18T13:20:10.739Z"
   },
   {
    "duration": 17,
    "start_time": "2022-10-18T13:20:10.854Z"
   },
   {
    "duration": 12,
    "start_time": "2022-10-18T13:20:10.873Z"
   },
   {
    "duration": 169,
    "start_time": "2022-10-18T13:20:10.901Z"
   },
   {
    "duration": 186,
    "start_time": "2022-10-18T13:20:11.072Z"
   },
   {
    "duration": 13,
    "start_time": "2022-10-18T13:20:11.260Z"
   },
   {
    "duration": 10,
    "start_time": "2022-10-18T13:20:11.275Z"
   },
   {
    "duration": 15,
    "start_time": "2022-10-18T13:20:11.287Z"
   },
   {
    "duration": 12,
    "start_time": "2022-10-18T13:20:11.304Z"
   },
   {
    "duration": 6,
    "start_time": "2022-10-18T13:20:11.318Z"
   },
   {
    "duration": 341,
    "start_time": "2022-10-18T13:20:11.326Z"
   },
   {
    "duration": 7,
    "start_time": "2022-10-18T13:20:11.669Z"
   },
   {
    "duration": 49,
    "start_time": "2022-10-18T13:20:11.678Z"
   },
   {
    "duration": 265,
    "start_time": "2022-10-18T13:20:11.729Z"
   },
   {
    "duration": 248,
    "start_time": "2022-10-18T13:20:12.000Z"
   },
   {
    "duration": 161,
    "start_time": "2022-10-18T13:20:12.249Z"
   },
   {
    "duration": 162,
    "start_time": "2022-10-18T13:20:12.411Z"
   },
   {
    "duration": 228,
    "start_time": "2022-10-18T13:20:12.574Z"
   },
   {
    "duration": 161,
    "start_time": "2022-10-18T13:20:12.804Z"
   },
   {
    "duration": 181,
    "start_time": "2022-10-18T13:20:12.967Z"
   },
   {
    "duration": 372,
    "start_time": "2022-10-18T13:20:13.150Z"
   },
   {
    "duration": 152,
    "start_time": "2022-10-18T13:20:13.523Z"
   },
   {
    "duration": 171,
    "start_time": "2022-10-18T13:20:13.678Z"
   },
   {
    "duration": 124,
    "start_time": "2022-10-18T13:20:13.850Z"
   },
   {
    "duration": 197,
    "start_time": "2022-10-18T13:20:13.975Z"
   },
   {
    "duration": 216,
    "start_time": "2022-10-18T13:20:14.174Z"
   },
   {
    "duration": 298,
    "start_time": "2022-10-18T13:20:14.392Z"
   },
   {
    "duration": 333,
    "start_time": "2022-10-18T13:20:14.692Z"
   },
   {
    "duration": 172,
    "start_time": "2022-10-18T13:20:15.026Z"
   },
   {
    "duration": 167,
    "start_time": "2022-10-18T13:20:15.200Z"
   },
   {
    "duration": 176,
    "start_time": "2022-10-18T13:20:15.368Z"
   },
   {
    "duration": 149,
    "start_time": "2022-10-18T13:20:15.546Z"
   },
   {
    "duration": 135,
    "start_time": "2022-10-18T13:20:15.701Z"
   },
   {
    "duration": 138,
    "start_time": "2022-10-18T13:20:15.838Z"
   },
   {
    "duration": 145,
    "start_time": "2022-10-18T13:20:15.978Z"
   },
   {
    "duration": 141,
    "start_time": "2022-10-18T13:20:16.126Z"
   },
   {
    "duration": 132,
    "start_time": "2022-10-18T13:20:16.268Z"
   },
   {
    "duration": 24,
    "start_time": "2022-10-18T13:20:16.402Z"
   },
   {
    "duration": 7,
    "start_time": "2022-10-18T13:20:16.428Z"
   },
   {
    "duration": 10,
    "start_time": "2022-10-18T13:20:16.436Z"
   },
   {
    "duration": 251,
    "start_time": "2022-10-18T13:20:16.448Z"
   },
   {
    "duration": 459,
    "start_time": "2022-10-18T13:20:16.701Z"
   },
   {
    "duration": 3833,
    "start_time": "2022-10-18T13:20:17.162Z"
   },
   {
    "duration": 358,
    "start_time": "2022-10-18T13:20:20.997Z"
   },
   {
    "duration": 214,
    "start_time": "2022-10-18T13:23:47.340Z"
   },
   {
    "duration": 233,
    "start_time": "2022-10-18T13:23:59.138Z"
   },
   {
    "duration": 182,
    "start_time": "2022-10-18T13:24:06.388Z"
   },
   {
    "duration": 174,
    "start_time": "2022-10-18T13:30:09.583Z"
   },
   {
    "duration": 160,
    "start_time": "2022-10-18T13:31:40.299Z"
   },
   {
    "duration": 173,
    "start_time": "2022-10-18T13:31:43.284Z"
   },
   {
    "duration": 178,
    "start_time": "2022-10-18T13:33:35.569Z"
   },
   {
    "duration": 316,
    "start_time": "2022-10-18T13:34:21.152Z"
   },
   {
    "duration": 176,
    "start_time": "2022-10-18T13:34:49.152Z"
   },
   {
    "duration": 951,
    "start_time": "2022-10-18T13:37:55.824Z"
   },
   {
    "duration": 117,
    "start_time": "2022-10-18T13:37:56.777Z"
   },
   {
    "duration": 1814,
    "start_time": "2022-10-18T13:37:56.901Z"
   },
   {
    "duration": 5,
    "start_time": "2022-10-18T13:37:58.718Z"
   },
   {
    "duration": 244,
    "start_time": "2022-10-18T13:37:58.724Z"
   },
   {
    "duration": 51,
    "start_time": "2022-10-18T13:37:58.970Z"
   },
   {
    "duration": 14,
    "start_time": "2022-10-18T13:37:59.023Z"
   },
   {
    "duration": 39,
    "start_time": "2022-10-18T13:37:59.039Z"
   },
   {
    "duration": 28,
    "start_time": "2022-10-18T13:37:59.079Z"
   },
   {
    "duration": 13,
    "start_time": "2022-10-18T13:37:59.110Z"
   },
   {
    "duration": 51,
    "start_time": "2022-10-18T13:37:59.125Z"
   },
   {
    "duration": 12,
    "start_time": "2022-10-18T13:37:59.201Z"
   },
   {
    "duration": 15,
    "start_time": "2022-10-18T13:37:59.215Z"
   },
   {
    "duration": 6,
    "start_time": "2022-10-18T13:37:59.231Z"
   },
   {
    "duration": 324,
    "start_time": "2022-10-18T13:37:59.239Z"
   },
   {
    "duration": 282,
    "start_time": "2022-10-18T13:37:59.565Z"
   },
   {
    "duration": 18,
    "start_time": "2022-10-18T13:37:59.849Z"
   },
   {
    "duration": 13,
    "start_time": "2022-10-18T13:37:59.869Z"
   },
   {
    "duration": 276,
    "start_time": "2022-10-18T13:37:59.900Z"
   },
   {
    "duration": 178,
    "start_time": "2022-10-18T13:38:00.177Z"
   },
   {
    "duration": 191,
    "start_time": "2022-10-18T13:38:00.356Z"
   },
   {
    "duration": 13,
    "start_time": "2022-10-18T13:38:00.548Z"
   },
   {
    "duration": 20,
    "start_time": "2022-10-18T13:38:00.562Z"
   },
   {
    "duration": 27,
    "start_time": "2022-10-18T13:38:00.584Z"
   },
   {
    "duration": 195,
    "start_time": "2022-10-18T13:38:00.612Z"
   },
   {
    "duration": 196,
    "start_time": "2022-10-18T13:38:00.809Z"
   },
   {
    "duration": 14,
    "start_time": "2022-10-18T13:38:01.007Z"
   },
   {
    "duration": 14,
    "start_time": "2022-10-18T13:38:01.024Z"
   },
   {
    "duration": 15,
    "start_time": "2022-10-18T13:38:01.040Z"
   },
   {
    "duration": 29,
    "start_time": "2022-10-18T13:38:01.056Z"
   },
   {
    "duration": 17,
    "start_time": "2022-10-18T13:38:01.087Z"
   },
   {
    "duration": 272,
    "start_time": "2022-10-18T13:38:01.106Z"
   },
   {
    "duration": 6,
    "start_time": "2022-10-18T13:38:01.379Z"
   },
   {
    "duration": 50,
    "start_time": "2022-10-18T13:38:01.387Z"
   },
   {
    "duration": 317,
    "start_time": "2022-10-18T13:38:01.439Z"
   },
   {
    "duration": 236,
    "start_time": "2022-10-18T13:38:01.758Z"
   },
   {
    "duration": 158,
    "start_time": "2022-10-18T13:38:01.996Z"
   },
   {
    "duration": 161,
    "start_time": "2022-10-18T13:38:02.155Z"
   },
   {
    "duration": 166,
    "start_time": "2022-10-18T13:38:02.318Z"
   },
   {
    "duration": 163,
    "start_time": "2022-10-18T13:38:02.485Z"
   },
   {
    "duration": 164,
    "start_time": "2022-10-18T13:38:02.649Z"
   },
   {
    "duration": 389,
    "start_time": "2022-10-18T13:38:02.814Z"
   },
   {
    "duration": 163,
    "start_time": "2022-10-18T13:38:03.205Z"
   },
   {
    "duration": 255,
    "start_time": "2022-10-18T13:38:03.370Z"
   },
   {
    "duration": 130,
    "start_time": "2022-10-18T13:38:03.627Z"
   },
   {
    "duration": 172,
    "start_time": "2022-10-18T13:38:03.759Z"
   },
   {
    "duration": 175,
    "start_time": "2022-10-18T13:38:03.932Z"
   },
   {
    "duration": 195,
    "start_time": "2022-10-18T13:38:04.109Z"
   },
   {
    "duration": 356,
    "start_time": "2022-10-18T13:38:04.306Z"
   },
   {
    "duration": 160,
    "start_time": "2022-10-18T13:38:04.663Z"
   },
   {
    "duration": 177,
    "start_time": "2022-10-18T13:38:04.825Z"
   },
   {
    "duration": 182,
    "start_time": "2022-10-18T13:38:05.004Z"
   },
   {
    "duration": 156,
    "start_time": "2022-10-18T13:38:05.188Z"
   },
   {
    "duration": 210,
    "start_time": "2022-10-18T13:38:05.346Z"
   },
   {
    "duration": 143,
    "start_time": "2022-10-18T13:38:05.557Z"
   },
   {
    "duration": 126,
    "start_time": "2022-10-18T13:38:05.702Z"
   },
   {
    "duration": 145,
    "start_time": "2022-10-18T13:38:05.829Z"
   },
   {
    "duration": 137,
    "start_time": "2022-10-18T13:38:05.976Z"
   },
   {
    "duration": 196,
    "start_time": "2022-10-18T13:38:06.115Z"
   },
   {
    "duration": 26,
    "start_time": "2022-10-18T13:38:06.313Z"
   },
   {
    "duration": 7,
    "start_time": "2022-10-18T13:38:06.341Z"
   },
   {
    "duration": 8,
    "start_time": "2022-10-18T13:38:06.350Z"
   },
   {
    "duration": 166,
    "start_time": "2022-10-18T13:38:06.360Z"
   },
   {
    "duration": 485,
    "start_time": "2022-10-18T13:38:06.528Z"
   },
   {
    "duration": 3762,
    "start_time": "2022-10-18T13:38:07.015Z"
   },
   {
    "duration": 369,
    "start_time": "2022-10-18T13:38:10.779Z"
   },
   {
    "duration": 52,
    "start_time": "2022-10-18T19:17:31.804Z"
   },
   {
    "duration": 815,
    "start_time": "2022-10-18T19:17:38.635Z"
   },
   {
    "duration": 724,
    "start_time": "2022-10-18T19:17:39.452Z"
   },
   {
    "duration": 2011,
    "start_time": "2022-10-18T19:17:40.178Z"
   },
   {
    "duration": 5,
    "start_time": "2022-10-18T19:17:42.191Z"
   },
   {
    "duration": 231,
    "start_time": "2022-10-18T19:17:42.197Z"
   },
   {
    "duration": 46,
    "start_time": "2022-10-18T19:17:42.430Z"
   },
   {
    "duration": 24,
    "start_time": "2022-10-18T19:17:42.478Z"
   },
   {
    "duration": 54,
    "start_time": "2022-10-18T19:17:42.504Z"
   },
   {
    "duration": 9,
    "start_time": "2022-10-18T19:17:42.559Z"
   },
   {
    "duration": 37,
    "start_time": "2022-10-18T19:17:42.571Z"
   },
   {
    "duration": 53,
    "start_time": "2022-10-18T19:17:42.610Z"
   },
   {
    "duration": 32,
    "start_time": "2022-10-18T19:17:42.665Z"
   },
   {
    "duration": 18,
    "start_time": "2022-10-18T19:17:42.699Z"
   },
   {
    "duration": 7,
    "start_time": "2022-10-18T19:17:42.718Z"
   },
   {
    "duration": 359,
    "start_time": "2022-10-18T19:17:42.727Z"
   },
   {
    "duration": 322,
    "start_time": "2022-10-18T19:17:43.088Z"
   },
   {
    "duration": 18,
    "start_time": "2022-10-18T19:17:43.412Z"
   },
   {
    "duration": 14,
    "start_time": "2022-10-18T19:17:43.432Z"
   },
   {
    "duration": 360,
    "start_time": "2022-10-18T19:17:43.448Z"
   },
   {
    "duration": 207,
    "start_time": "2022-10-18T19:17:43.810Z"
   },
   {
    "duration": 221,
    "start_time": "2022-10-18T19:17:44.020Z"
   },
   {
    "duration": 220,
    "start_time": "2022-10-18T19:17:44.243Z"
   },
   {
    "duration": 15,
    "start_time": "2022-10-18T19:17:44.465Z"
   },
   {
    "duration": 30,
    "start_time": "2022-10-18T19:17:44.482Z"
   },
   {
    "duration": 18,
    "start_time": "2022-10-18T19:17:44.514Z"
   },
   {
    "duration": 252,
    "start_time": "2022-10-18T19:17:44.534Z"
   },
   {
    "duration": 217,
    "start_time": "2022-10-18T19:17:44.788Z"
   },
   {
    "duration": 15,
    "start_time": "2022-10-18T19:17:45.010Z"
   },
   {
    "duration": 6,
    "start_time": "2022-10-18T19:17:45.027Z"
   },
   {
    "duration": 8,
    "start_time": "2022-10-18T19:17:45.035Z"
   },
   {
    "duration": 7,
    "start_time": "2022-10-18T19:17:45.044Z"
   },
   {
    "duration": 47,
    "start_time": "2022-10-18T19:17:45.053Z"
   },
   {
    "duration": 386,
    "start_time": "2022-10-18T19:17:45.102Z"
   },
   {
    "duration": 12,
    "start_time": "2022-10-18T19:17:45.489Z"
   },
   {
    "duration": 26,
    "start_time": "2022-10-18T19:17:45.502Z"
   },
   {
    "duration": 275,
    "start_time": "2022-10-18T19:17:45.529Z"
   },
   {
    "duration": 264,
    "start_time": "2022-10-18T19:17:45.805Z"
   },
   {
    "duration": 176,
    "start_time": "2022-10-18T19:17:46.070Z"
   },
   {
    "duration": 181,
    "start_time": "2022-10-18T19:17:46.248Z"
   },
   {
    "duration": 191,
    "start_time": "2022-10-18T19:17:46.430Z"
   },
   {
    "duration": 184,
    "start_time": "2022-10-18T19:17:46.622Z"
   },
   {
    "duration": 174,
    "start_time": "2022-10-18T19:17:46.808Z"
   },
   {
    "duration": 539,
    "start_time": "2022-10-18T19:17:46.984Z"
   },
   {
    "duration": 173,
    "start_time": "2022-10-18T19:17:47.525Z"
   },
   {
    "duration": 181,
    "start_time": "2022-10-18T19:17:47.700Z"
   },
   {
    "duration": 140,
    "start_time": "2022-10-18T19:17:47.882Z"
   },
   {
    "duration": 238,
    "start_time": "2022-10-18T19:17:48.024Z"
   },
   {
    "duration": 227,
    "start_time": "2022-10-18T19:17:48.264Z"
   },
   {
    "duration": 211,
    "start_time": "2022-10-18T19:17:48.493Z"
   },
   {
    "duration": 307,
    "start_time": "2022-10-18T19:17:48.707Z"
   },
   {
    "duration": 203,
    "start_time": "2022-10-18T19:17:49.015Z"
   },
   {
    "duration": 190,
    "start_time": "2022-10-18T19:17:49.221Z"
   },
   {
    "duration": 277,
    "start_time": "2022-10-18T19:17:49.414Z"
   },
   {
    "duration": 182,
    "start_time": "2022-10-18T19:17:49.692Z"
   },
   {
    "duration": 177,
    "start_time": "2022-10-18T19:17:49.875Z"
   },
   {
    "duration": 187,
    "start_time": "2022-10-18T19:17:50.055Z"
   },
   {
    "duration": 149,
    "start_time": "2022-10-18T19:17:50.243Z"
   },
   {
    "duration": 169,
    "start_time": "2022-10-18T19:17:50.396Z"
   },
   {
    "duration": 159,
    "start_time": "2022-10-18T19:17:50.567Z"
   },
   {
    "duration": 214,
    "start_time": "2022-10-18T19:17:50.728Z"
   },
   {
    "duration": 26,
    "start_time": "2022-10-18T19:17:50.944Z"
   },
   {
    "duration": 17,
    "start_time": "2022-10-18T19:17:50.972Z"
   },
   {
    "duration": 18,
    "start_time": "2022-10-18T19:17:50.997Z"
   },
   {
    "duration": 187,
    "start_time": "2022-10-18T19:17:51.017Z"
   },
   {
    "duration": 533,
    "start_time": "2022-10-18T19:17:51.205Z"
   },
   {
    "duration": 4173,
    "start_time": "2022-10-18T19:17:51.740Z"
   },
   {
    "duration": 539,
    "start_time": "2022-10-18T19:17:55.915Z"
   },
   {
    "duration": 9,
    "start_time": "2022-10-18T19:19:43.235Z"
   },
   {
    "duration": 11,
    "start_time": "2022-10-18T19:19:49.225Z"
   },
   {
    "duration": 10,
    "start_time": "2022-10-18T19:20:17.127Z"
   },
   {
    "duration": 12,
    "start_time": "2022-10-18T19:20:20.371Z"
   },
   {
    "duration": 9,
    "start_time": "2022-10-18T19:21:21.003Z"
   },
   {
    "duration": 802,
    "start_time": "2022-10-18T19:21:41.113Z"
   },
   {
    "duration": 138,
    "start_time": "2022-10-18T19:21:41.917Z"
   },
   {
    "duration": 2076,
    "start_time": "2022-10-18T19:21:42.057Z"
   },
   {
    "duration": 5,
    "start_time": "2022-10-18T19:21:44.135Z"
   },
   {
    "duration": 246,
    "start_time": "2022-10-18T19:21:44.141Z"
   },
   {
    "duration": 54,
    "start_time": "2022-10-18T19:21:44.390Z"
   },
   {
    "duration": 16,
    "start_time": "2022-10-18T19:21:44.446Z"
   },
   {
    "duration": 96,
    "start_time": "2022-10-18T19:21:44.466Z"
   },
   {
    "duration": 10,
    "start_time": "2022-10-18T19:21:44.564Z"
   },
   {
    "duration": 30,
    "start_time": "2022-10-18T19:21:44.577Z"
   },
   {
    "duration": 61,
    "start_time": "2022-10-18T19:21:44.609Z"
   },
   {
    "duration": 38,
    "start_time": "2022-10-18T19:21:44.672Z"
   },
   {
    "duration": 25,
    "start_time": "2022-10-18T19:21:44.712Z"
   },
   {
    "duration": 9,
    "start_time": "2022-10-18T19:21:44.739Z"
   },
   {
    "duration": 343,
    "start_time": "2022-10-18T19:21:44.751Z"
   },
   {
    "duration": 313,
    "start_time": "2022-10-18T19:21:45.096Z"
   },
   {
    "duration": 19,
    "start_time": "2022-10-18T19:21:45.411Z"
   },
   {
    "duration": 14,
    "start_time": "2022-10-18T19:21:45.432Z"
   },
   {
    "duration": 346,
    "start_time": "2022-10-18T19:21:45.447Z"
   },
   {
    "duration": 231,
    "start_time": "2022-10-18T19:21:45.795Z"
   },
   {
    "duration": 229,
    "start_time": "2022-10-18T19:21:46.028Z"
   },
   {
    "duration": 15,
    "start_time": "2022-10-18T19:21:46.259Z"
   },
   {
    "duration": 38,
    "start_time": "2022-10-18T19:21:46.276Z"
   },
   {
    "duration": 18,
    "start_time": "2022-10-18T19:21:46.316Z"
   },
   {
    "duration": 246,
    "start_time": "2022-10-18T19:21:46.336Z"
   },
   {
    "duration": 241,
    "start_time": "2022-10-18T19:21:46.584Z"
   },
   {
    "duration": 15,
    "start_time": "2022-10-18T19:21:46.826Z"
   },
   {
    "duration": 7,
    "start_time": "2022-10-18T19:21:46.845Z"
   },
   {
    "duration": 18,
    "start_time": "2022-10-18T19:21:46.853Z"
   },
   {
    "duration": 25,
    "start_time": "2022-10-18T19:21:46.873Z"
   },
   {
    "duration": 6,
    "start_time": "2022-10-18T19:21:46.900Z"
   },
   {
    "duration": 313,
    "start_time": "2022-10-18T19:21:46.908Z"
   },
   {
    "duration": 8,
    "start_time": "2022-10-18T19:21:47.223Z"
   },
   {
    "duration": 30,
    "start_time": "2022-10-18T19:21:47.233Z"
   },
   {
    "duration": 397,
    "start_time": "2022-10-18T19:21:47.266Z"
   },
   {
    "duration": 273,
    "start_time": "2022-10-18T19:21:47.665Z"
   },
   {
    "duration": 217,
    "start_time": "2022-10-18T19:21:47.940Z"
   },
   {
    "duration": 252,
    "start_time": "2022-10-18T19:21:48.159Z"
   },
   {
    "duration": 193,
    "start_time": "2022-10-18T19:21:48.413Z"
   },
   {
    "duration": 215,
    "start_time": "2022-10-18T19:21:48.607Z"
   },
   {
    "duration": 185,
    "start_time": "2022-10-18T19:21:48.825Z"
   },
   {
    "duration": 416,
    "start_time": "2022-10-18T19:21:49.012Z"
   },
   {
    "duration": 178,
    "start_time": "2022-10-18T19:21:49.430Z"
   },
   {
    "duration": 277,
    "start_time": "2022-10-18T19:21:49.610Z"
   },
   {
    "duration": 160,
    "start_time": "2022-10-18T19:21:49.889Z"
   },
   {
    "duration": 228,
    "start_time": "2022-10-18T19:21:50.051Z"
   },
   {
    "duration": 216,
    "start_time": "2022-10-18T19:21:50.280Z"
   },
   {
    "duration": 211,
    "start_time": "2022-10-18T19:21:50.499Z"
   },
   {
    "duration": 303,
    "start_time": "2022-10-18T19:21:50.712Z"
   },
   {
    "duration": 195,
    "start_time": "2022-10-18T19:21:51.017Z"
   },
   {
    "duration": 187,
    "start_time": "2022-10-18T19:21:51.214Z"
   },
   {
    "duration": 214,
    "start_time": "2022-10-18T19:21:51.402Z"
   },
   {
    "duration": 195,
    "start_time": "2022-10-18T19:21:51.618Z"
   },
   {
    "duration": 238,
    "start_time": "2022-10-18T19:21:51.815Z"
   },
   {
    "duration": 191,
    "start_time": "2022-10-18T19:21:52.055Z"
   },
   {
    "duration": 152,
    "start_time": "2022-10-18T19:21:52.248Z"
   },
   {
    "duration": 178,
    "start_time": "2022-10-18T19:21:52.401Z"
   },
   {
    "duration": 195,
    "start_time": "2022-10-18T19:21:52.581Z"
   },
   {
    "duration": 231,
    "start_time": "2022-10-18T19:21:52.779Z"
   },
   {
    "duration": 30,
    "start_time": "2022-10-18T19:21:53.012Z"
   },
   {
    "duration": 8,
    "start_time": "2022-10-18T19:21:53.044Z"
   },
   {
    "duration": 12,
    "start_time": "2022-10-18T19:21:53.055Z"
   },
   {
    "duration": 213,
    "start_time": "2022-10-18T19:21:53.068Z"
   },
   {
    "duration": 643,
    "start_time": "2022-10-18T19:21:53.284Z"
   },
   {
    "duration": 4277,
    "start_time": "2022-10-18T19:21:53.928Z"
   },
   {
    "duration": 609,
    "start_time": "2022-10-18T19:21:58.207Z"
   },
   {
    "duration": 666,
    "start_time": "2022-10-18T20:14:36.447Z"
   },
   {
    "duration": 138,
    "start_time": "2022-10-18T20:14:37.115Z"
   },
   {
    "duration": 2073,
    "start_time": "2022-10-18T20:14:37.255Z"
   },
   {
    "duration": 5,
    "start_time": "2022-10-18T20:14:39.330Z"
   },
   {
    "duration": 218,
    "start_time": "2022-10-18T20:14:39.336Z"
   },
   {
    "duration": 52,
    "start_time": "2022-10-18T20:14:39.555Z"
   },
   {
    "duration": 15,
    "start_time": "2022-10-18T20:14:39.609Z"
   },
   {
    "duration": 46,
    "start_time": "2022-10-18T20:14:39.626Z"
   },
   {
    "duration": 29,
    "start_time": "2022-10-18T20:14:39.674Z"
   },
   {
    "duration": 14,
    "start_time": "2022-10-18T20:14:39.707Z"
   },
   {
    "duration": 75,
    "start_time": "2022-10-18T20:14:39.723Z"
   },
   {
    "duration": 12,
    "start_time": "2022-10-18T20:14:39.801Z"
   },
   {
    "duration": 19,
    "start_time": "2022-10-18T20:14:39.815Z"
   },
   {
    "duration": 8,
    "start_time": "2022-10-18T20:14:39.836Z"
   },
   {
    "duration": 343,
    "start_time": "2022-10-18T20:14:39.846Z"
   },
   {
    "duration": 307,
    "start_time": "2022-10-18T20:14:40.191Z"
   },
   {
    "duration": 19,
    "start_time": "2022-10-18T20:14:40.500Z"
   },
   {
    "duration": 15,
    "start_time": "2022-10-18T20:14:40.521Z"
   },
   {
    "duration": 342,
    "start_time": "2022-10-18T20:14:40.538Z"
   },
   {
    "duration": 187,
    "start_time": "2022-10-18T20:14:40.882Z"
   },
   {
    "duration": 216,
    "start_time": "2022-10-18T20:14:41.071Z"
   },
   {
    "duration": 197,
    "start_time": "2022-10-18T20:14:41.289Z"
   },
   {
    "duration": 15,
    "start_time": "2022-10-18T20:14:41.489Z"
   },
   {
    "duration": 18,
    "start_time": "2022-10-18T20:14:41.506Z"
   },
   {
    "duration": 15,
    "start_time": "2022-10-18T20:14:41.526Z"
   },
   {
    "duration": 226,
    "start_time": "2022-10-18T20:14:41.543Z"
   },
   {
    "duration": 206,
    "start_time": "2022-10-18T20:14:41.771Z"
   },
   {
    "duration": 24,
    "start_time": "2022-10-18T20:14:41.981Z"
   },
   {
    "duration": 7,
    "start_time": "2022-10-18T20:14:42.006Z"
   },
   {
    "duration": 7,
    "start_time": "2022-10-18T20:14:42.015Z"
   },
   {
    "duration": 7,
    "start_time": "2022-10-18T20:14:42.023Z"
   },
   {
    "duration": 6,
    "start_time": "2022-10-18T20:14:42.032Z"
   },
   {
    "duration": 377,
    "start_time": "2022-10-18T20:14:42.042Z"
   },
   {
    "duration": 7,
    "start_time": "2022-10-18T20:14:42.420Z"
   },
   {
    "duration": 25,
    "start_time": "2022-10-18T20:14:42.428Z"
   },
   {
    "duration": 282,
    "start_time": "2022-10-18T20:14:42.454Z"
   },
   {
    "duration": 259,
    "start_time": "2022-10-18T20:14:42.738Z"
   },
   {
    "duration": 175,
    "start_time": "2022-10-18T20:14:42.998Z"
   },
   {
    "duration": 167,
    "start_time": "2022-10-18T20:14:43.175Z"
   },
   {
    "duration": 174,
    "start_time": "2022-10-18T20:14:43.344Z"
   },
   {
    "duration": 169,
    "start_time": "2022-10-18T20:14:43.520Z"
   },
   {
    "duration": 167,
    "start_time": "2022-10-18T20:14:43.691Z"
   },
   {
    "duration": 458,
    "start_time": "2022-10-18T20:14:43.859Z"
   },
   {
    "duration": 185,
    "start_time": "2022-10-18T20:14:44.318Z"
   },
   {
    "duration": 198,
    "start_time": "2022-10-18T20:14:44.505Z"
   },
   {
    "duration": 138,
    "start_time": "2022-10-18T20:14:44.704Z"
   },
   {
    "duration": 180,
    "start_time": "2022-10-18T20:14:44.843Z"
   },
   {
    "duration": 174,
    "start_time": "2022-10-18T20:14:45.025Z"
   },
   {
    "duration": 183,
    "start_time": "2022-10-18T20:14:45.200Z"
   },
   {
    "duration": 287,
    "start_time": "2022-10-18T20:14:45.384Z"
   },
   {
    "duration": 187,
    "start_time": "2022-10-18T20:14:45.672Z"
   },
   {
    "duration": 190,
    "start_time": "2022-10-18T20:14:45.861Z"
   },
   {
    "duration": 285,
    "start_time": "2022-10-18T20:14:46.053Z"
   },
   {
    "duration": 185,
    "start_time": "2022-10-18T20:14:46.339Z"
   },
   {
    "duration": 180,
    "start_time": "2022-10-18T20:14:46.525Z"
   },
   {
    "duration": 191,
    "start_time": "2022-10-18T20:14:46.707Z"
   },
   {
    "duration": 146,
    "start_time": "2022-10-18T20:14:46.900Z"
   },
   {
    "duration": 159,
    "start_time": "2022-10-18T20:14:47.048Z"
   },
   {
    "duration": 152,
    "start_time": "2022-10-18T20:14:47.208Z"
   },
   {
    "duration": 208,
    "start_time": "2022-10-18T20:14:47.362Z"
   },
   {
    "duration": 42,
    "start_time": "2022-10-18T20:14:47.572Z"
   },
   {
    "duration": 10,
    "start_time": "2022-10-18T20:14:47.615Z"
   },
   {
    "duration": 19,
    "start_time": "2022-10-18T20:14:47.626Z"
   },
   {
    "duration": 173,
    "start_time": "2022-10-18T20:14:47.647Z"
   },
   {
    "duration": 571,
    "start_time": "2022-10-18T20:14:47.822Z"
   },
   {
    "duration": 4090,
    "start_time": "2022-10-18T20:14:48.395Z"
   },
   {
    "duration": 560,
    "start_time": "2022-10-18T20:14:52.487Z"
   },
   {
    "duration": 202,
    "start_time": "2022-10-18T20:16:38.736Z"
   },
   {
    "duration": 194,
    "start_time": "2022-10-18T20:23:04.817Z"
   },
   {
    "duration": 13,
    "start_time": "2022-10-18T20:23:38.208Z"
   },
   {
    "duration": 3,
    "start_time": "2022-10-18T20:24:32.388Z"
   },
   {
    "duration": 203,
    "start_time": "2022-10-18T20:25:27.720Z"
   },
   {
    "duration": 223,
    "start_time": "2022-10-18T20:25:40.608Z"
   },
   {
    "duration": 124,
    "start_time": "2022-10-18T20:33:44.245Z"
   },
   {
    "duration": 13,
    "start_time": "2022-10-18T20:34:43.299Z"
   },
   {
    "duration": 663,
    "start_time": "2022-10-18T20:34:52.547Z"
   },
   {
    "duration": 142,
    "start_time": "2022-10-18T20:34:53.212Z"
   },
   {
    "duration": 2109,
    "start_time": "2022-10-18T20:34:53.355Z"
   },
   {
    "duration": 5,
    "start_time": "2022-10-18T20:34:55.466Z"
   },
   {
    "duration": 256,
    "start_time": "2022-10-18T20:34:55.473Z"
   },
   {
    "duration": 45,
    "start_time": "2022-10-18T20:34:55.731Z"
   },
   {
    "duration": 28,
    "start_time": "2022-10-18T20:34:55.777Z"
   },
   {
    "duration": 44,
    "start_time": "2022-10-18T20:34:55.806Z"
   },
   {
    "duration": 8,
    "start_time": "2022-10-18T20:34:55.852Z"
   },
   {
    "duration": 15,
    "start_time": "2022-10-18T20:34:55.861Z"
   },
   {
    "duration": 53,
    "start_time": "2022-10-18T20:34:55.897Z"
   },
   {
    "duration": 12,
    "start_time": "2022-10-18T20:34:55.952Z"
   },
   {
    "duration": 35,
    "start_time": "2022-10-18T20:34:55.966Z"
   },
   {
    "duration": 8,
    "start_time": "2022-10-18T20:34:56.005Z"
   },
   {
    "duration": 318,
    "start_time": "2022-10-18T20:34:56.015Z"
   },
   {
    "duration": 342,
    "start_time": "2022-10-18T20:34:56.334Z"
   },
   {
    "duration": 30,
    "start_time": "2022-10-18T20:34:56.678Z"
   },
   {
    "duration": 15,
    "start_time": "2022-10-18T20:34:56.709Z"
   },
   {
    "duration": 334,
    "start_time": "2022-10-18T20:34:56.726Z"
   },
   {
    "duration": 200,
    "start_time": "2022-10-18T20:34:57.062Z"
   },
   {
    "duration": 203,
    "start_time": "2022-10-18T20:34:57.264Z"
   },
   {
    "duration": 11,
    "start_time": "2022-10-18T20:34:57.469Z"
   },
   {
    "duration": 28,
    "start_time": "2022-10-18T20:34:57.482Z"
   },
   {
    "duration": 13,
    "start_time": "2022-10-18T20:34:57.511Z"
   },
   {
    "duration": 219,
    "start_time": "2022-10-18T20:34:57.525Z"
   },
   {
    "duration": 214,
    "start_time": "2022-10-18T20:34:57.746Z"
   },
   {
    "duration": 236,
    "start_time": "2022-10-18T20:34:57.961Z"
   },
   {
    "duration": 14,
    "start_time": "2022-10-18T20:34:58.200Z"
   },
   {
    "duration": 43,
    "start_time": "2022-10-18T20:34:58.217Z"
   },
   {
    "duration": 36,
    "start_time": "2022-10-18T20:34:58.263Z"
   },
   {
    "duration": 27,
    "start_time": "2022-10-18T20:34:58.301Z"
   },
   {
    "duration": 30,
    "start_time": "2022-10-18T20:34:58.330Z"
   },
   {
    "duration": 25,
    "start_time": "2022-10-18T20:34:58.362Z"
   },
   {
    "duration": 1225,
    "start_time": "2022-10-18T20:34:58.388Z"
   },
   {
    "duration": 0,
    "start_time": "2022-10-18T20:34:59.615Z"
   },
   {
    "duration": 1,
    "start_time": "2022-10-18T20:34:59.616Z"
   },
   {
    "duration": 0,
    "start_time": "2022-10-18T20:34:59.618Z"
   },
   {
    "duration": 0,
    "start_time": "2022-10-18T20:34:59.619Z"
   },
   {
    "duration": 0,
    "start_time": "2022-10-18T20:34:59.620Z"
   },
   {
    "duration": 0,
    "start_time": "2022-10-18T20:34:59.621Z"
   },
   {
    "duration": 0,
    "start_time": "2022-10-18T20:34:59.622Z"
   },
   {
    "duration": 0,
    "start_time": "2022-10-18T20:34:59.623Z"
   },
   {
    "duration": 0,
    "start_time": "2022-10-18T20:34:59.624Z"
   },
   {
    "duration": 0,
    "start_time": "2022-10-18T20:34:59.626Z"
   },
   {
    "duration": 0,
    "start_time": "2022-10-18T20:34:59.627Z"
   },
   {
    "duration": 0,
    "start_time": "2022-10-18T20:34:59.628Z"
   },
   {
    "duration": 0,
    "start_time": "2022-10-18T20:34:59.629Z"
   },
   {
    "duration": 0,
    "start_time": "2022-10-18T20:34:59.630Z"
   },
   {
    "duration": 0,
    "start_time": "2022-10-18T20:34:59.631Z"
   },
   {
    "duration": 0,
    "start_time": "2022-10-18T20:34:59.632Z"
   },
   {
    "duration": 0,
    "start_time": "2022-10-18T20:34:59.632Z"
   },
   {
    "duration": 0,
    "start_time": "2022-10-18T20:34:59.633Z"
   },
   {
    "duration": 0,
    "start_time": "2022-10-18T20:34:59.634Z"
   },
   {
    "duration": 0,
    "start_time": "2022-10-18T20:34:59.635Z"
   },
   {
    "duration": 0,
    "start_time": "2022-10-18T20:34:59.636Z"
   },
   {
    "duration": 0,
    "start_time": "2022-10-18T20:34:59.637Z"
   },
   {
    "duration": 0,
    "start_time": "2022-10-18T20:34:59.638Z"
   },
   {
    "duration": 0,
    "start_time": "2022-10-18T20:34:59.639Z"
   },
   {
    "duration": 0,
    "start_time": "2022-10-18T20:34:59.640Z"
   },
   {
    "duration": 0,
    "start_time": "2022-10-18T20:34:59.641Z"
   },
   {
    "duration": 1,
    "start_time": "2022-10-18T20:34:59.641Z"
   },
   {
    "duration": 0,
    "start_time": "2022-10-18T20:34:59.642Z"
   },
   {
    "duration": 0,
    "start_time": "2022-10-18T20:34:59.644Z"
   },
   {
    "duration": 0,
    "start_time": "2022-10-18T20:34:59.645Z"
   },
   {
    "duration": 1,
    "start_time": "2022-10-18T20:34:59.645Z"
   },
   {
    "duration": 0,
    "start_time": "2022-10-18T20:34:59.646Z"
   },
   {
    "duration": 0,
    "start_time": "2022-10-18T20:34:59.647Z"
   },
   {
    "duration": 0,
    "start_time": "2022-10-18T20:34:59.648Z"
   },
   {
    "duration": 2996,
    "start_time": "2022-10-18T20:35:14.778Z"
   },
   {
    "duration": 11,
    "start_time": "2022-10-18T20:36:15.049Z"
   },
   {
    "duration": 1599,
    "start_time": "2022-10-18T20:36:21.059Z"
   },
   {
    "duration": 674,
    "start_time": "2022-10-18T20:36:59.085Z"
   },
   {
    "duration": 134,
    "start_time": "2022-10-18T20:36:59.760Z"
   },
   {
    "duration": 2061,
    "start_time": "2022-10-18T20:36:59.896Z"
   },
   {
    "duration": 5,
    "start_time": "2022-10-18T20:37:01.959Z"
   },
   {
    "duration": 267,
    "start_time": "2022-10-18T20:37:01.966Z"
   },
   {
    "duration": 48,
    "start_time": "2022-10-18T20:37:02.234Z"
   },
   {
    "duration": 26,
    "start_time": "2022-10-18T20:37:02.283Z"
   },
   {
    "duration": 43,
    "start_time": "2022-10-18T20:37:02.311Z"
   },
   {
    "duration": 9,
    "start_time": "2022-10-18T20:37:02.357Z"
   },
   {
    "duration": 40,
    "start_time": "2022-10-18T20:37:02.369Z"
   },
   {
    "duration": 53,
    "start_time": "2022-10-18T20:37:02.410Z"
   },
   {
    "duration": 32,
    "start_time": "2022-10-18T20:37:02.465Z"
   },
   {
    "duration": 17,
    "start_time": "2022-10-18T20:37:02.499Z"
   },
   {
    "duration": 9,
    "start_time": "2022-10-18T20:37:02.518Z"
   },
   {
    "duration": 360,
    "start_time": "2022-10-18T20:37:02.529Z"
   },
   {
    "duration": 335,
    "start_time": "2022-10-18T20:37:02.891Z"
   },
   {
    "duration": 18,
    "start_time": "2022-10-18T20:37:03.227Z"
   },
   {
    "duration": 13,
    "start_time": "2022-10-18T20:37:03.247Z"
   },
   {
    "duration": 364,
    "start_time": "2022-10-18T20:37:03.261Z"
   },
   {
    "duration": 208,
    "start_time": "2022-10-18T20:37:03.627Z"
   },
   {
    "duration": 212,
    "start_time": "2022-10-18T20:37:03.837Z"
   },
   {
    "duration": 19,
    "start_time": "2022-10-18T20:37:04.051Z"
   },
   {
    "duration": 27,
    "start_time": "2022-10-18T20:37:04.071Z"
   },
   {
    "duration": 243,
    "start_time": "2022-10-18T20:37:04.100Z"
   },
   {
    "duration": 246,
    "start_time": "2022-10-18T20:37:04.345Z"
   },
   {
    "duration": 218,
    "start_time": "2022-10-18T20:37:04.596Z"
   },
   {
    "duration": 14,
    "start_time": "2022-10-18T20:37:04.816Z"
   },
   {
    "duration": 14,
    "start_time": "2022-10-18T20:37:04.834Z"
   },
   {
    "duration": 8,
    "start_time": "2022-10-18T20:37:04.850Z"
   },
   {
    "duration": 8,
    "start_time": "2022-10-18T20:37:04.860Z"
   },
   {
    "duration": 8,
    "start_time": "2022-10-18T20:37:04.898Z"
   },
   {
    "duration": 7,
    "start_time": "2022-10-18T20:37:04.909Z"
   },
   {
    "duration": 325,
    "start_time": "2022-10-18T20:37:04.918Z"
   },
   {
    "duration": 7,
    "start_time": "2022-10-18T20:37:05.244Z"
   },
   {
    "duration": 33,
    "start_time": "2022-10-18T20:37:05.253Z"
   },
   {
    "duration": 280,
    "start_time": "2022-10-18T20:37:05.288Z"
   },
   {
    "duration": 338,
    "start_time": "2022-10-18T20:37:05.571Z"
   },
   {
    "duration": 181,
    "start_time": "2022-10-18T20:37:05.911Z"
   },
   {
    "duration": 182,
    "start_time": "2022-10-18T20:37:06.096Z"
   },
   {
    "duration": 177,
    "start_time": "2022-10-18T20:37:06.281Z"
   },
   {
    "duration": 180,
    "start_time": "2022-10-18T20:37:06.460Z"
   },
   {
    "duration": 175,
    "start_time": "2022-10-18T20:37:06.642Z"
   },
   {
    "duration": 435,
    "start_time": "2022-10-18T20:37:06.820Z"
   },
   {
    "duration": 182,
    "start_time": "2022-10-18T20:37:07.256Z"
   },
   {
    "duration": 184,
    "start_time": "2022-10-18T20:37:07.439Z"
   },
   {
    "duration": 226,
    "start_time": "2022-10-18T20:37:07.624Z"
   },
   {
    "duration": 195,
    "start_time": "2022-10-18T20:37:07.852Z"
   },
   {
    "duration": 240,
    "start_time": "2022-10-18T20:37:08.055Z"
   },
   {
    "duration": 218,
    "start_time": "2022-10-18T20:37:08.297Z"
   },
   {
    "duration": 304,
    "start_time": "2022-10-18T20:37:08.517Z"
   },
   {
    "duration": 194,
    "start_time": "2022-10-18T20:37:08.822Z"
   },
   {
    "duration": 179,
    "start_time": "2022-10-18T20:37:09.017Z"
   },
   {
    "duration": 201,
    "start_time": "2022-10-18T20:37:09.198Z"
   },
   {
    "duration": 168,
    "start_time": "2022-10-18T20:37:09.401Z"
   },
   {
    "duration": 153,
    "start_time": "2022-10-18T20:37:09.571Z"
   },
   {
    "duration": 238,
    "start_time": "2022-10-18T20:37:09.726Z"
   },
   {
    "duration": 147,
    "start_time": "2022-10-18T20:37:09.966Z"
   },
   {
    "duration": 161,
    "start_time": "2022-10-18T20:37:10.115Z"
   },
   {
    "duration": 164,
    "start_time": "2022-10-18T20:37:10.278Z"
   },
   {
    "duration": 210,
    "start_time": "2022-10-18T20:37:10.444Z"
   },
   {
    "duration": 28,
    "start_time": "2022-10-18T20:37:10.656Z"
   },
   {
    "duration": 18,
    "start_time": "2022-10-18T20:37:10.685Z"
   },
   {
    "duration": 9,
    "start_time": "2022-10-18T20:37:10.705Z"
   },
   {
    "duration": 171,
    "start_time": "2022-10-18T20:37:10.716Z"
   },
   {
    "duration": 548,
    "start_time": "2022-10-18T20:37:10.889Z"
   },
   {
    "duration": 4187,
    "start_time": "2022-10-18T20:37:11.438Z"
   },
   {
    "duration": 422,
    "start_time": "2022-10-18T20:37:15.627Z"
   },
   {
    "duration": 91,
    "start_time": "2022-10-18T20:44:31.243Z"
   },
   {
    "duration": 216,
    "start_time": "2022-10-18T20:44:39.772Z"
   },
   {
    "duration": 192,
    "start_time": "2022-10-18T20:45:45.890Z"
   },
   {
    "duration": 235,
    "start_time": "2022-10-18T20:46:28.170Z"
   },
   {
    "duration": 351,
    "start_time": "2022-10-18T20:46:32.609Z"
   },
   {
    "duration": 389,
    "start_time": "2022-10-18T20:46:54.290Z"
   },
   {
    "duration": 180,
    "start_time": "2022-10-18T20:47:06.670Z"
   },
   {
    "duration": 221,
    "start_time": "2022-10-18T20:47:14.459Z"
   },
   {
    "duration": 187,
    "start_time": "2022-10-18T20:47:44.228Z"
   },
   {
    "duration": 171,
    "start_time": "2022-10-18T20:48:20.180Z"
   },
   {
    "duration": 133,
    "start_time": "2022-10-18T20:48:50.480Z"
   },
   {
    "duration": 192,
    "start_time": "2022-10-18T20:49:20.785Z"
   },
   {
    "duration": 164,
    "start_time": "2022-10-18T20:50:25.429Z"
   },
   {
    "duration": 137,
    "start_time": "2022-10-18T20:50:55.234Z"
   },
   {
    "duration": 602,
    "start_time": "2022-10-18T22:43:05.546Z"
   },
   {
    "duration": 106,
    "start_time": "2022-10-18T22:43:06.152Z"
   },
   {
    "duration": 1703,
    "start_time": "2022-10-18T22:43:06.259Z"
   },
   {
    "duration": 4,
    "start_time": "2022-10-18T22:43:07.965Z"
   },
   {
    "duration": 200,
    "start_time": "2022-10-18T22:43:07.970Z"
   },
   {
    "duration": 45,
    "start_time": "2022-10-18T22:43:08.171Z"
   },
   {
    "duration": 12,
    "start_time": "2022-10-18T22:43:08.218Z"
   },
   {
    "duration": 36,
    "start_time": "2022-10-18T22:43:08.231Z"
   },
   {
    "duration": 7,
    "start_time": "2022-10-18T22:43:08.269Z"
   },
   {
    "duration": 32,
    "start_time": "2022-10-18T22:43:08.277Z"
   },
   {
    "duration": 45,
    "start_time": "2022-10-18T22:43:08.311Z"
   },
   {
    "duration": 10,
    "start_time": "2022-10-18T22:43:08.357Z"
   },
   {
    "duration": 33,
    "start_time": "2022-10-18T22:43:08.370Z"
   },
   {
    "duration": 6,
    "start_time": "2022-10-18T22:43:08.405Z"
   },
   {
    "duration": 271,
    "start_time": "2022-10-18T22:43:08.413Z"
   },
   {
    "duration": 273,
    "start_time": "2022-10-18T22:43:08.686Z"
   },
   {
    "duration": 17,
    "start_time": "2022-10-18T22:43:08.960Z"
   },
   {
    "duration": 22,
    "start_time": "2022-10-18T22:43:08.978Z"
   },
   {
    "duration": 286,
    "start_time": "2022-10-18T22:43:09.002Z"
   },
   {
    "duration": 180,
    "start_time": "2022-10-18T22:43:09.290Z"
   },
   {
    "duration": 169,
    "start_time": "2022-10-18T22:43:09.472Z"
   },
   {
    "duration": 14,
    "start_time": "2022-10-18T22:43:09.642Z"
   },
   {
    "duration": 9,
    "start_time": "2022-10-18T22:43:09.658Z"
   },
   {
    "duration": 166,
    "start_time": "2022-10-18T22:43:09.668Z"
   },
   {
    "duration": 164,
    "start_time": "2022-10-18T22:43:09.836Z"
   },
   {
    "duration": 327,
    "start_time": "2022-10-18T22:43:10.002Z"
   },
   {
    "duration": 13,
    "start_time": "2022-10-18T22:43:10.330Z"
   },
   {
    "duration": 67,
    "start_time": "2022-10-18T22:43:10.344Z"
   },
   {
    "duration": 5,
    "start_time": "2022-10-18T22:43:10.412Z"
   },
   {
    "duration": 9,
    "start_time": "2022-10-18T22:43:10.419Z"
   },
   {
    "duration": 6,
    "start_time": "2022-10-18T22:43:10.429Z"
   },
   {
    "duration": 5,
    "start_time": "2022-10-18T22:43:10.436Z"
   },
   {
    "duration": 493,
    "start_time": "2022-10-18T22:43:10.443Z"
   },
   {
    "duration": 6,
    "start_time": "2022-10-18T22:43:10.937Z"
   },
   {
    "duration": 76,
    "start_time": "2022-10-18T22:43:10.944Z"
   },
   {
    "duration": 484,
    "start_time": "2022-10-18T22:43:11.022Z"
   },
   {
    "duration": 467,
    "start_time": "2022-10-18T22:43:11.507Z"
   },
   {
    "duration": 151,
    "start_time": "2022-10-18T22:43:11.976Z"
   },
   {
    "duration": 141,
    "start_time": "2022-10-18T22:43:12.129Z"
   },
   {
    "duration": 141,
    "start_time": "2022-10-18T22:43:12.274Z"
   },
   {
    "duration": 146,
    "start_time": "2022-10-18T22:43:12.417Z"
   },
   {
    "duration": 132,
    "start_time": "2022-10-18T22:43:12.565Z"
   },
   {
    "duration": 340,
    "start_time": "2022-10-18T22:43:12.700Z"
   },
   {
    "duration": 149,
    "start_time": "2022-10-18T22:43:13.042Z"
   },
   {
    "duration": 155,
    "start_time": "2022-10-18T22:43:13.192Z"
   },
   {
    "duration": 208,
    "start_time": "2022-10-18T22:43:13.349Z"
   },
   {
    "duration": 152,
    "start_time": "2022-10-18T22:43:13.559Z"
   },
   {
    "duration": 160,
    "start_time": "2022-10-18T22:43:13.712Z"
   },
   {
    "duration": 159,
    "start_time": "2022-10-18T22:43:13.873Z"
   },
   {
    "duration": 288,
    "start_time": "2022-10-18T22:43:14.033Z"
   },
   {
    "duration": 191,
    "start_time": "2022-10-18T22:43:14.322Z"
   },
   {
    "duration": 145,
    "start_time": "2022-10-18T22:43:14.514Z"
   },
   {
    "duration": 161,
    "start_time": "2022-10-18T22:43:14.661Z"
   },
   {
    "duration": 135,
    "start_time": "2022-10-18T22:43:14.823Z"
   },
   {
    "duration": 120,
    "start_time": "2022-10-18T22:43:14.960Z"
   },
   {
    "duration": 193,
    "start_time": "2022-10-18T22:43:15.081Z"
   },
   {
    "duration": 125,
    "start_time": "2022-10-18T22:43:15.275Z"
   },
   {
    "duration": 139,
    "start_time": "2022-10-18T22:43:15.402Z"
   },
   {
    "duration": 138,
    "start_time": "2022-10-18T22:43:15.543Z"
   },
   {
    "duration": 167,
    "start_time": "2022-10-18T22:43:15.683Z"
   },
   {
    "duration": 150,
    "start_time": "2022-10-18T22:43:15.852Z"
   },
   {
    "duration": 161,
    "start_time": "2022-10-18T22:43:16.003Z"
   },
   {
    "duration": 129,
    "start_time": "2022-10-18T22:43:16.165Z"
   },
   {
    "duration": 119,
    "start_time": "2022-10-18T22:43:16.299Z"
   },
   {
    "duration": 126,
    "start_time": "2022-10-18T22:43:16.420Z"
   },
   {
    "duration": 132,
    "start_time": "2022-10-18T22:43:16.548Z"
   },
   {
    "duration": 194,
    "start_time": "2022-10-18T22:43:16.681Z"
   },
   {
    "duration": 179,
    "start_time": "2022-10-18T22:43:16.876Z"
   },
   {
    "duration": 21,
    "start_time": "2022-10-18T22:43:17.056Z"
   },
   {
    "duration": 6,
    "start_time": "2022-10-18T22:43:17.079Z"
   },
   {
    "duration": 19,
    "start_time": "2022-10-18T22:43:17.086Z"
   },
   {
    "duration": 142,
    "start_time": "2022-10-18T22:43:17.107Z"
   },
   {
    "duration": 455,
    "start_time": "2022-10-18T22:43:17.251Z"
   },
   {
    "duration": 3489,
    "start_time": "2022-10-18T22:43:17.708Z"
   },
   {
    "duration": 349,
    "start_time": "2022-10-18T22:43:21.200Z"
   },
   {
    "duration": 14,
    "start_time": "2022-10-18T23:12:19.935Z"
   },
   {
    "duration": 607,
    "start_time": "2022-10-18T23:16:15.683Z"
   },
   {
    "duration": 106,
    "start_time": "2022-10-18T23:16:16.291Z"
   },
   {
    "duration": 1741,
    "start_time": "2022-10-18T23:16:16.398Z"
   },
   {
    "duration": 4,
    "start_time": "2022-10-18T23:16:18.141Z"
   },
   {
    "duration": 207,
    "start_time": "2022-10-18T23:16:18.146Z"
   },
   {
    "duration": 46,
    "start_time": "2022-10-18T23:16:18.355Z"
   },
   {
    "duration": 12,
    "start_time": "2022-10-18T23:16:18.402Z"
   },
   {
    "duration": 53,
    "start_time": "2022-10-18T23:16:18.416Z"
   },
   {
    "duration": 7,
    "start_time": "2022-10-18T23:16:18.470Z"
   },
   {
    "duration": 11,
    "start_time": "2022-10-18T23:16:18.479Z"
   },
   {
    "duration": 50,
    "start_time": "2022-10-18T23:16:18.491Z"
   },
   {
    "duration": 10,
    "start_time": "2022-10-18T23:16:18.542Z"
   },
   {
    "duration": 17,
    "start_time": "2022-10-18T23:16:18.553Z"
   },
   {
    "duration": 5,
    "start_time": "2022-10-18T23:16:18.572Z"
   },
   {
    "duration": 265,
    "start_time": "2022-10-18T23:16:18.600Z"
   },
   {
    "duration": 268,
    "start_time": "2022-10-18T23:16:18.866Z"
   },
   {
    "duration": 15,
    "start_time": "2022-10-18T23:16:19.135Z"
   },
   {
    "duration": 25,
    "start_time": "2022-10-18T23:16:19.152Z"
   },
   {
    "duration": 270,
    "start_time": "2022-10-18T23:16:19.178Z"
   },
   {
    "duration": 165,
    "start_time": "2022-10-18T23:16:19.449Z"
   },
   {
    "duration": 167,
    "start_time": "2022-10-18T23:16:19.615Z"
   },
   {
    "duration": 20,
    "start_time": "2022-10-18T23:16:19.784Z"
   },
   {
    "duration": 10,
    "start_time": "2022-10-18T23:16:19.805Z"
   },
   {
    "duration": 165,
    "start_time": "2022-10-18T23:16:19.816Z"
   },
   {
    "duration": 179,
    "start_time": "2022-10-18T23:16:19.982Z"
   },
   {
    "duration": 179,
    "start_time": "2022-10-18T23:16:20.163Z"
   },
   {
    "duration": 13,
    "start_time": "2022-10-18T23:16:20.343Z"
   },
   {
    "duration": 164,
    "start_time": "2022-10-18T23:16:20.360Z"
   },
   {
    "duration": 13,
    "start_time": "2022-10-18T23:16:20.526Z"
   },
   {
    "duration": 13,
    "start_time": "2022-10-18T23:16:20.541Z"
   },
   {
    "duration": 16,
    "start_time": "2022-10-18T23:16:20.555Z"
   },
   {
    "duration": 31,
    "start_time": "2022-10-18T23:16:20.572Z"
   },
   {
    "duration": 6,
    "start_time": "2022-10-18T23:16:20.604Z"
   },
   {
    "duration": 6,
    "start_time": "2022-10-18T23:16:20.611Z"
   },
   {
    "duration": 7,
    "start_time": "2022-10-18T23:16:20.618Z"
   },
   {
    "duration": 259,
    "start_time": "2022-10-18T23:16:20.627Z"
   },
   {
    "duration": 17,
    "start_time": "2022-10-18T23:16:20.888Z"
   },
   {
    "duration": 20,
    "start_time": "2022-10-18T23:16:20.907Z"
   },
   {
    "duration": 320,
    "start_time": "2022-10-18T23:16:20.929Z"
   },
   {
    "duration": 234,
    "start_time": "2022-10-18T23:16:21.251Z"
   },
   {
    "duration": 158,
    "start_time": "2022-10-18T23:16:21.487Z"
   },
   {
    "duration": 149,
    "start_time": "2022-10-18T23:16:21.646Z"
   },
   {
    "duration": 139,
    "start_time": "2022-10-18T23:16:21.796Z"
   },
   {
    "duration": 155,
    "start_time": "2022-10-18T23:16:21.936Z"
   },
   {
    "duration": 151,
    "start_time": "2022-10-18T23:16:22.093Z"
   },
   {
    "duration": 359,
    "start_time": "2022-10-18T23:16:22.245Z"
   },
   {
    "duration": 154,
    "start_time": "2022-10-18T23:16:22.606Z"
   },
   {
    "duration": 224,
    "start_time": "2022-10-18T23:16:22.762Z"
   },
   {
    "duration": 124,
    "start_time": "2022-10-18T23:16:22.987Z"
   },
   {
    "duration": 154,
    "start_time": "2022-10-18T23:16:23.113Z"
   },
   {
    "duration": 148,
    "start_time": "2022-10-18T23:16:23.268Z"
   },
   {
    "duration": 155,
    "start_time": "2022-10-18T23:16:23.418Z"
   },
   {
    "duration": 244,
    "start_time": "2022-10-18T23:16:23.574Z"
   },
   {
    "duration": 166,
    "start_time": "2022-10-18T23:16:23.819Z"
   },
   {
    "duration": 158,
    "start_time": "2022-10-18T23:16:23.986Z"
   },
   {
    "duration": 179,
    "start_time": "2022-10-18T23:16:24.146Z"
   },
   {
    "duration": 185,
    "start_time": "2022-10-18T23:16:24.327Z"
   },
   {
    "duration": 201,
    "start_time": "2022-10-18T23:16:24.514Z"
   },
   {
    "duration": 121,
    "start_time": "2022-10-18T23:16:24.716Z"
   },
   {
    "duration": 127,
    "start_time": "2022-10-18T23:16:24.839Z"
   },
   {
    "duration": 139,
    "start_time": "2022-10-18T23:16:24.968Z"
   },
   {
    "duration": 137,
    "start_time": "2022-10-18T23:16:25.109Z"
   },
   {
    "duration": 169,
    "start_time": "2022-10-18T23:16:25.247Z"
   },
   {
    "duration": 162,
    "start_time": "2022-10-18T23:16:25.418Z"
   },
   {
    "duration": 163,
    "start_time": "2022-10-18T23:16:25.581Z"
   },
   {
    "duration": 136,
    "start_time": "2022-10-18T23:16:25.746Z"
   },
   {
    "duration": 123,
    "start_time": "2022-10-18T23:16:25.884Z"
   },
   {
    "duration": 129,
    "start_time": "2022-10-18T23:16:26.009Z"
   },
   {
    "duration": 191,
    "start_time": "2022-10-18T23:16:26.139Z"
   },
   {
    "duration": 122,
    "start_time": "2022-10-18T23:16:26.331Z"
   },
   {
    "duration": 180,
    "start_time": "2022-10-18T23:16:26.455Z"
   },
   {
    "duration": 24,
    "start_time": "2022-10-18T23:16:26.636Z"
   },
   {
    "duration": 30,
    "start_time": "2022-10-18T23:16:26.662Z"
   },
   {
    "duration": 15,
    "start_time": "2022-10-18T23:16:26.693Z"
   },
   {
    "duration": 133,
    "start_time": "2022-10-18T23:16:26.709Z"
   },
   {
    "duration": 482,
    "start_time": "2022-10-18T23:16:26.843Z"
   },
   {
    "duration": 3391,
    "start_time": "2022-10-18T23:16:27.327Z"
   },
   {
    "duration": 354,
    "start_time": "2022-10-18T23:16:30.719Z"
   },
   {
    "duration": 624,
    "start_time": "2022-10-18T23:28:04.207Z"
   },
   {
    "duration": 110,
    "start_time": "2022-10-18T23:28:04.833Z"
   },
   {
    "duration": 1750,
    "start_time": "2022-10-18T23:28:04.945Z"
   },
   {
    "duration": 4,
    "start_time": "2022-10-18T23:28:06.699Z"
   },
   {
    "duration": 304,
    "start_time": "2022-10-18T23:28:06.705Z"
   },
   {
    "duration": 92,
    "start_time": "2022-10-18T23:28:07.010Z"
   },
   {
    "duration": 13,
    "start_time": "2022-10-18T23:28:07.103Z"
   },
   {
    "duration": 95,
    "start_time": "2022-10-18T23:28:07.118Z"
   },
   {
    "duration": 7,
    "start_time": "2022-10-18T23:28:07.214Z"
   },
   {
    "duration": 84,
    "start_time": "2022-10-18T23:28:07.223Z"
   },
   {
    "duration": 99,
    "start_time": "2022-10-18T23:28:07.309Z"
   },
   {
    "duration": 11,
    "start_time": "2022-10-18T23:28:07.410Z"
   },
   {
    "duration": 16,
    "start_time": "2022-10-18T23:28:07.422Z"
   },
   {
    "duration": 62,
    "start_time": "2022-10-18T23:28:07.440Z"
   },
   {
    "duration": 531,
    "start_time": "2022-10-18T23:28:07.503Z"
   },
   {
    "duration": 581,
    "start_time": "2022-10-18T23:28:08.035Z"
   },
   {
    "duration": 16,
    "start_time": "2022-10-18T23:28:08.618Z"
   },
   {
    "duration": 11,
    "start_time": "2022-10-18T23:28:08.635Z"
   },
   {
    "duration": 301,
    "start_time": "2022-10-18T23:28:08.648Z"
   },
   {
    "duration": 177,
    "start_time": "2022-10-18T23:28:08.950Z"
   },
   {
    "duration": 191,
    "start_time": "2022-10-18T23:28:09.129Z"
   },
   {
    "duration": 16,
    "start_time": "2022-10-18T23:28:09.322Z"
   },
   {
    "duration": 11,
    "start_time": "2022-10-18T23:28:09.340Z"
   },
   {
    "duration": 179,
    "start_time": "2022-10-18T23:28:09.353Z"
   },
   {
    "duration": 166,
    "start_time": "2022-10-18T23:28:09.534Z"
   },
   {
    "duration": 162,
    "start_time": "2022-10-18T23:28:09.702Z"
   },
   {
    "duration": 12,
    "start_time": "2022-10-18T23:28:09.866Z"
   },
   {
    "duration": 14,
    "start_time": "2022-10-18T23:28:09.899Z"
   },
   {
    "duration": 150,
    "start_time": "2022-10-18T23:28:09.915Z"
   },
   {
    "duration": 159,
    "start_time": "2022-10-18T23:28:10.067Z"
   },
   {
    "duration": 147,
    "start_time": "2022-10-18T23:28:10.228Z"
   },
   {
    "duration": 38,
    "start_time": "2022-10-18T23:28:10.377Z"
   },
   {
    "duration": 16,
    "start_time": "2022-10-18T23:28:10.417Z"
   },
   {
    "duration": 5,
    "start_time": "2022-10-18T23:28:10.435Z"
   },
   {
    "duration": 58,
    "start_time": "2022-10-18T23:28:10.442Z"
   },
   {
    "duration": 6,
    "start_time": "2022-10-18T23:28:10.502Z"
   },
   {
    "duration": 7,
    "start_time": "2022-10-18T23:28:10.510Z"
   },
   {
    "duration": 392,
    "start_time": "2022-10-18T23:28:10.519Z"
   },
   {
    "duration": 6,
    "start_time": "2022-10-18T23:28:10.912Z"
   },
   {
    "duration": 22,
    "start_time": "2022-10-18T23:28:10.919Z"
   },
   {
    "duration": 231,
    "start_time": "2022-10-18T23:28:10.942Z"
   },
   {
    "duration": 216,
    "start_time": "2022-10-18T23:28:11.174Z"
   },
   {
    "duration": 142,
    "start_time": "2022-10-18T23:28:11.391Z"
   },
   {
    "duration": 162,
    "start_time": "2022-10-18T23:28:11.534Z"
   },
   {
    "duration": 146,
    "start_time": "2022-10-18T23:28:11.699Z"
   },
   {
    "duration": 147,
    "start_time": "2022-10-18T23:28:11.847Z"
   },
   {
    "duration": 141,
    "start_time": "2022-10-18T23:28:11.999Z"
   },
   {
    "duration": 420,
    "start_time": "2022-10-18T23:28:12.141Z"
   },
   {
    "duration": 143,
    "start_time": "2022-10-18T23:28:12.562Z"
   },
   {
    "duration": 155,
    "start_time": "2022-10-18T23:28:12.707Z"
   },
   {
    "duration": 117,
    "start_time": "2022-10-18T23:28:12.863Z"
   },
   {
    "duration": 161,
    "start_time": "2022-10-18T23:28:12.982Z"
   },
   {
    "duration": 161,
    "start_time": "2022-10-18T23:28:13.145Z"
   },
   {
    "duration": 167,
    "start_time": "2022-10-18T23:28:13.308Z"
   },
   {
    "duration": 249,
    "start_time": "2022-10-18T23:28:13.477Z"
   },
   {
    "duration": 179,
    "start_time": "2022-10-18T23:28:13.728Z"
   },
   {
    "duration": 152,
    "start_time": "2022-10-18T23:28:13.909Z"
   },
   {
    "duration": 263,
    "start_time": "2022-10-18T23:28:14.064Z"
   },
   {
    "duration": 159,
    "start_time": "2022-10-18T23:28:14.328Z"
   },
   {
    "duration": 132,
    "start_time": "2022-10-18T23:28:14.489Z"
   },
   {
    "duration": 128,
    "start_time": "2022-10-18T23:28:14.623Z"
   },
   {
    "duration": 121,
    "start_time": "2022-10-18T23:28:14.753Z"
   },
   {
    "duration": 135,
    "start_time": "2022-10-18T23:28:14.876Z"
   },
   {
    "duration": 140,
    "start_time": "2022-10-18T23:28:15.013Z"
   },
   {
    "duration": 194,
    "start_time": "2022-10-18T23:28:15.155Z"
   },
   {
    "duration": 175,
    "start_time": "2022-10-18T23:28:15.351Z"
   },
   {
    "duration": 161,
    "start_time": "2022-10-18T23:28:15.527Z"
   },
   {
    "duration": 140,
    "start_time": "2022-10-18T23:28:15.690Z"
   },
   {
    "duration": 177,
    "start_time": "2022-10-18T23:28:15.831Z"
   },
   {
    "duration": 136,
    "start_time": "2022-10-18T23:28:16.010Z"
   },
   {
    "duration": 132,
    "start_time": "2022-10-18T23:28:16.147Z"
   },
   {
    "duration": 130,
    "start_time": "2022-10-18T23:28:16.280Z"
   },
   {
    "duration": 176,
    "start_time": "2022-10-18T23:28:16.411Z"
   },
   {
    "duration": 28,
    "start_time": "2022-10-18T23:28:16.589Z"
   },
   {
    "duration": 11,
    "start_time": "2022-10-18T23:28:16.619Z"
   },
   {
    "duration": 15,
    "start_time": "2022-10-18T23:28:16.632Z"
   },
   {
    "duration": 141,
    "start_time": "2022-10-18T23:28:16.649Z"
   },
   {
    "duration": 510,
    "start_time": "2022-10-18T23:28:16.791Z"
   },
   {
    "duration": 4411,
    "start_time": "2022-10-18T23:28:17.302Z"
   },
   {
    "duration": 703,
    "start_time": "2022-10-18T23:28:21.715Z"
   },
   {
    "duration": 12,
    "start_time": "2022-10-18T23:34:14.151Z"
   },
   {
    "duration": 11,
    "start_time": "2022-10-18T23:34:32.056Z"
   },
   {
    "duration": 43,
    "start_time": "2022-10-18T23:34:39.600Z"
   },
   {
    "duration": 628,
    "start_time": "2022-10-18T23:35:03.613Z"
   },
   {
    "duration": 107,
    "start_time": "2022-10-18T23:35:04.242Z"
   },
   {
    "duration": 1751,
    "start_time": "2022-10-18T23:35:04.351Z"
   },
   {
    "duration": 4,
    "start_time": "2022-10-18T23:35:06.104Z"
   },
   {
    "duration": 207,
    "start_time": "2022-10-18T23:35:06.110Z"
   },
   {
    "duration": 38,
    "start_time": "2022-10-18T23:35:06.319Z"
   },
   {
    "duration": 23,
    "start_time": "2022-10-18T23:35:06.359Z"
   },
   {
    "duration": 77,
    "start_time": "2022-10-18T23:35:06.384Z"
   },
   {
    "duration": 7,
    "start_time": "2022-10-18T23:35:06.463Z"
   },
   {
    "duration": 12,
    "start_time": "2022-10-18T23:35:06.472Z"
   },
   {
    "duration": 44,
    "start_time": "2022-10-18T23:35:06.485Z"
   },
   {
    "duration": 10,
    "start_time": "2022-10-18T23:35:06.531Z"
   },
   {
    "duration": 16,
    "start_time": "2022-10-18T23:35:06.542Z"
   },
   {
    "duration": 6,
    "start_time": "2022-10-18T23:35:06.560Z"
   },
   {
    "duration": 308,
    "start_time": "2022-10-18T23:35:06.568Z"
   },
   {
    "duration": 279,
    "start_time": "2022-10-18T23:35:06.878Z"
   },
   {
    "duration": 17,
    "start_time": "2022-10-18T23:35:07.158Z"
   },
   {
    "duration": 27,
    "start_time": "2022-10-18T23:35:07.177Z"
   },
   {
    "duration": 317,
    "start_time": "2022-10-18T23:35:07.206Z"
   },
   {
    "duration": 181,
    "start_time": "2022-10-18T23:35:07.524Z"
   },
   {
    "duration": 189,
    "start_time": "2022-10-18T23:35:07.707Z"
   },
   {
    "duration": 15,
    "start_time": "2022-10-18T23:35:07.900Z"
   },
   {
    "duration": 24,
    "start_time": "2022-10-18T23:35:07.917Z"
   },
   {
    "duration": 166,
    "start_time": "2022-10-18T23:35:07.943Z"
   },
   {
    "duration": 171,
    "start_time": "2022-10-18T23:35:08.111Z"
   },
   {
    "duration": 168,
    "start_time": "2022-10-18T23:35:08.284Z"
   },
   {
    "duration": 11,
    "start_time": "2022-10-18T23:35:08.454Z"
   },
   {
    "duration": 14,
    "start_time": "2022-10-18T23:35:08.468Z"
   },
   {
    "duration": 167,
    "start_time": "2022-10-18T23:35:08.501Z"
   },
   {
    "duration": 148,
    "start_time": "2022-10-18T23:35:08.670Z"
   },
   {
    "duration": 168,
    "start_time": "2022-10-18T23:35:08.819Z"
   },
   {
    "duration": 22,
    "start_time": "2022-10-18T23:35:08.989Z"
   },
   {
    "duration": 16,
    "start_time": "2022-10-18T23:35:09.013Z"
   },
   {
    "duration": 6,
    "start_time": "2022-10-18T23:35:09.031Z"
   },
   {
    "duration": 7,
    "start_time": "2022-10-18T23:35:09.038Z"
   },
   {
    "duration": 8,
    "start_time": "2022-10-18T23:35:09.047Z"
   },
   {
    "duration": 44,
    "start_time": "2022-10-18T23:35:09.056Z"
   },
   {
    "duration": 324,
    "start_time": "2022-10-18T23:35:09.102Z"
   },
   {
    "duration": 7,
    "start_time": "2022-10-18T23:35:09.427Z"
   },
   {
    "duration": 28,
    "start_time": "2022-10-18T23:35:09.436Z"
   },
   {
    "duration": 252,
    "start_time": "2022-10-18T23:35:09.466Z"
   },
   {
    "duration": 219,
    "start_time": "2022-10-18T23:35:09.719Z"
   },
   {
    "duration": 152,
    "start_time": "2022-10-18T23:35:09.939Z"
   },
   {
    "duration": 153,
    "start_time": "2022-10-18T23:35:10.092Z"
   },
   {
    "duration": 146,
    "start_time": "2022-10-18T23:35:10.247Z"
   },
   {
    "duration": 153,
    "start_time": "2022-10-18T23:35:10.395Z"
   },
   {
    "duration": 160,
    "start_time": "2022-10-18T23:35:10.549Z"
   },
   {
    "duration": 462,
    "start_time": "2022-10-18T23:35:10.711Z"
   },
   {
    "duration": 145,
    "start_time": "2022-10-18T23:35:11.175Z"
   },
   {
    "duration": 161,
    "start_time": "2022-10-18T23:35:11.322Z"
   },
   {
    "duration": 143,
    "start_time": "2022-10-18T23:35:11.484Z"
   },
   {
    "duration": 165,
    "start_time": "2022-10-18T23:35:11.629Z"
   },
   {
    "duration": 157,
    "start_time": "2022-10-18T23:35:11.799Z"
   },
   {
    "duration": 164,
    "start_time": "2022-10-18T23:35:11.958Z"
   },
   {
    "duration": 252,
    "start_time": "2022-10-18T23:35:12.123Z"
   },
   {
    "duration": 165,
    "start_time": "2022-10-18T23:35:12.377Z"
   },
   {
    "duration": 153,
    "start_time": "2022-10-18T23:35:12.544Z"
   },
   {
    "duration": 243,
    "start_time": "2022-10-18T23:35:12.701Z"
   },
   {
    "duration": 154,
    "start_time": "2022-10-18T23:35:12.946Z"
   },
   {
    "duration": 137,
    "start_time": "2022-10-18T23:35:13.102Z"
   },
   {
    "duration": 148,
    "start_time": "2022-10-18T23:35:13.241Z"
   },
   {
    "duration": 131,
    "start_time": "2022-10-18T23:35:13.390Z"
   },
   {
    "duration": 153,
    "start_time": "2022-10-18T23:35:13.523Z"
   },
   {
    "duration": 142,
    "start_time": "2022-10-18T23:35:13.678Z"
   },
   {
    "duration": 179,
    "start_time": "2022-10-18T23:35:13.821Z"
   },
   {
    "duration": 171,
    "start_time": "2022-10-18T23:35:14.002Z"
   },
   {
    "duration": 175,
    "start_time": "2022-10-18T23:35:14.175Z"
   },
   {
    "duration": 161,
    "start_time": "2022-10-18T23:35:14.352Z"
   },
   {
    "duration": 185,
    "start_time": "2022-10-18T23:35:14.515Z"
   },
   {
    "duration": 131,
    "start_time": "2022-10-18T23:35:14.702Z"
   },
   {
    "duration": 136,
    "start_time": "2022-10-18T23:35:14.835Z"
   },
   {
    "duration": 133,
    "start_time": "2022-10-18T23:35:14.972Z"
   },
   {
    "duration": 187,
    "start_time": "2022-10-18T23:35:15.107Z"
   },
   {
    "duration": 25,
    "start_time": "2022-10-18T23:35:15.295Z"
   },
   {
    "duration": 6,
    "start_time": "2022-10-18T23:35:15.322Z"
   },
   {
    "duration": 12,
    "start_time": "2022-10-18T23:35:15.330Z"
   },
   {
    "duration": 163,
    "start_time": "2022-10-18T23:35:15.343Z"
   },
   {
    "duration": 481,
    "start_time": "2022-10-18T23:35:15.508Z"
   },
   {
    "duration": 3535,
    "start_time": "2022-10-18T23:35:15.991Z"
   },
   {
    "duration": 359,
    "start_time": "2022-10-18T23:35:19.528Z"
   },
   {
    "duration": 95,
    "start_time": "2022-10-18T23:36:56.812Z"
   },
   {
    "duration": 94,
    "start_time": "2022-10-18T23:37:07.157Z"
   },
   {
    "duration": 148,
    "start_time": "2022-10-18T23:39:00.605Z"
   },
   {
    "duration": 141,
    "start_time": "2022-10-18T23:39:27.156Z"
   },
   {
    "duration": 127,
    "start_time": "2022-10-18T23:39:47.541Z"
   },
   {
    "duration": 293,
    "start_time": "2022-10-18T23:39:52.972Z"
   },
   {
    "duration": 142,
    "start_time": "2022-10-18T23:40:01.365Z"
   }
  ],
  "celltoolbar": "Необработанный формат ячейки",
  "kernelspec": {
   "display_name": "Python 3 (ipykernel)",
   "language": "python",
   "name": "python3"
  },
  "language_info": {
   "codemirror_mode": {
    "name": "ipython",
    "version": 3
   },
   "file_extension": ".py",
   "mimetype": "text/x-python",
   "name": "python",
   "nbconvert_exporter": "python",
   "pygments_lexer": "ipython3",
   "version": "3.9.5"
  },
  "toc": {
   "base_numbering": 1,
   "nav_menu": {},
   "number_sections": true,
   "sideBar": true,
   "skip_h1_title": true,
   "title_cell": "Table of Contents",
   "title_sidebar": "Contents",
   "toc_cell": false,
   "toc_position": {
    "height": "441px",
    "left": "330px",
    "top": "111.125px",
    "width": "278px"
   },
   "toc_section_display": true,
   "toc_window_display": true
  }
 },
 "nbformat": 4,
 "nbformat_minor": 2
}
