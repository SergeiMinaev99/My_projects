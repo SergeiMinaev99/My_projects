{
 "cells": [
  {
   "cell_type": "markdown",
   "metadata": {},
   "source": [
    "# Выпускной проект Яндекс.Практикум"
   ]
  },
  {
   "cell_type": "markdown",
   "metadata": {},
   "source": [
    "Основной датасет содержит данные о событиях, совершенных в мобильной игре «Космические братья». В ней пользователи строят свою космическую программу и пытаются преуспеть в нелёгком деле колонизации галактики.\n",
    "\n",
    "Основная монетизация игры — только планируется. Но предполагается, что в приложении будет происходить показ рекламы на экране с выбором типа объекта для постройки.\n",
    "\n",
    "В датасете представлены данные по игре пользователей на первом уровне. Завершение первого уровня требует от игрока выполнения одного из двух условий:\n",
    "\n",
    "- Победа над первым врагом\n",
    "- Реализация проекта - разработка орбитальной сборки спутников\n",
    "\n",
    "В датасете содержатся данные первых пользователей приложения — когорты пользователей, которые начали пользоваться приложением в период с 4 по 10 мая включительно.\n",
    "\n",
    "Помимо основного датасета есть два датасета с информацией о рекламных активностях. "
   ]
  },
  {
   "cell_type": "markdown",
   "metadata": {},
   "source": [
    "# ШАГ 1: ПРЕДОБРАБОТКА ДАННЫХ"
   ]
  },
  {
   "cell_type": "markdown",
   "metadata": {},
   "source": [
    "На данном этапе выгрузим данные, проанализируем их на предмет пропусков, дубликатов (в том числе неявных), изучим распределение данных. При необходимости проведем предобработку."
   ]
  },
  {
   "cell_type": "code",
   "execution_count": 1,
   "metadata": {},
   "outputs": [],
   "source": [
    "import pandas as pd\n",
    "import plotly.express as px\n",
    "import numpy as np\n",
    "import seaborn as sns\n",
    "from matplotlib import pyplot as plt\n",
    "from scipy import stats as st\n",
    "import scipy.stats as stats"
   ]
  },
  {
   "cell_type": "code",
   "execution_count": 2,
   "metadata": {},
   "outputs": [],
   "source": [
    "game_actions = pd.read_csv('/datasets/game_actions.csv')\n",
    "ad_costs = pd.read_csv('/datasets/ad_costs.csv')\n",
    "user_source = pd.read_csv('/datasets/user_source.csv')"
   ]
  },
  {
   "cell_type": "code",
   "execution_count": 3,
   "metadata": {},
   "outputs": [
    {
     "data": {
      "text/html": [
       "<div>\n",
       "<style scoped>\n",
       "    .dataframe tbody tr th:only-of-type {\n",
       "        vertical-align: middle;\n",
       "    }\n",
       "\n",
       "    .dataframe tbody tr th {\n",
       "        vertical-align: top;\n",
       "    }\n",
       "\n",
       "    .dataframe thead th {\n",
       "        text-align: right;\n",
       "    }\n",
       "</style>\n",
       "<table border=\"1\" class=\"dataframe\">\n",
       "  <thead>\n",
       "    <tr style=\"text-align: right;\">\n",
       "      <th></th>\n",
       "      <th>event_datetime</th>\n",
       "      <th>event</th>\n",
       "      <th>building_type</th>\n",
       "      <th>user_id</th>\n",
       "      <th>project_type</th>\n",
       "    </tr>\n",
       "  </thead>\n",
       "  <tbody>\n",
       "    <tr>\n",
       "      <th>0</th>\n",
       "      <td>2020-05-04 00:00:01</td>\n",
       "      <td>building</td>\n",
       "      <td>assembly_shop</td>\n",
       "      <td>55e92310-cb8e-4754-b622-597e124b03de</td>\n",
       "      <td>NaN</td>\n",
       "    </tr>\n",
       "    <tr>\n",
       "      <th>1</th>\n",
       "      <td>2020-05-04 00:00:03</td>\n",
       "      <td>building</td>\n",
       "      <td>assembly_shop</td>\n",
       "      <td>c07b1c10-f477-44dc-81dc-ec82254b1347</td>\n",
       "      <td>NaN</td>\n",
       "    </tr>\n",
       "    <tr>\n",
       "      <th>2</th>\n",
       "      <td>2020-05-04 00:00:16</td>\n",
       "      <td>building</td>\n",
       "      <td>assembly_shop</td>\n",
       "      <td>6edd42cc-e753-4ff6-a947-2107cd560710</td>\n",
       "      <td>NaN</td>\n",
       "    </tr>\n",
       "    <tr>\n",
       "      <th>3</th>\n",
       "      <td>2020-05-04 00:00:16</td>\n",
       "      <td>building</td>\n",
       "      <td>assembly_shop</td>\n",
       "      <td>92c69003-d60a-444a-827f-8cc51bf6bf4c</td>\n",
       "      <td>NaN</td>\n",
       "    </tr>\n",
       "    <tr>\n",
       "      <th>4</th>\n",
       "      <td>2020-05-04 00:00:35</td>\n",
       "      <td>building</td>\n",
       "      <td>assembly_shop</td>\n",
       "      <td>cdc6bb92-0ccb-4490-9866-ef142f09139d</td>\n",
       "      <td>NaN</td>\n",
       "    </tr>\n",
       "  </tbody>\n",
       "</table>\n",
       "</div>"
      ],
      "text/plain": [
       "        event_datetime     event  building_type  \\\n",
       "0  2020-05-04 00:00:01  building  assembly_shop   \n",
       "1  2020-05-04 00:00:03  building  assembly_shop   \n",
       "2  2020-05-04 00:00:16  building  assembly_shop   \n",
       "3  2020-05-04 00:00:16  building  assembly_shop   \n",
       "4  2020-05-04 00:00:35  building  assembly_shop   \n",
       "\n",
       "                                user_id project_type  \n",
       "0  55e92310-cb8e-4754-b622-597e124b03de          NaN  \n",
       "1  c07b1c10-f477-44dc-81dc-ec82254b1347          NaN  \n",
       "2  6edd42cc-e753-4ff6-a947-2107cd560710          NaN  \n",
       "3  92c69003-d60a-444a-827f-8cc51bf6bf4c          NaN  \n",
       "4  cdc6bb92-0ccb-4490-9866-ef142f09139d          NaN  "
      ]
     },
     "metadata": {},
     "output_type": "display_data"
    },
    {
     "data": {
      "text/html": [
       "<div>\n",
       "<style scoped>\n",
       "    .dataframe tbody tr th:only-of-type {\n",
       "        vertical-align: middle;\n",
       "    }\n",
       "\n",
       "    .dataframe tbody tr th {\n",
       "        vertical-align: top;\n",
       "    }\n",
       "\n",
       "    .dataframe thead th {\n",
       "        text-align: right;\n",
       "    }\n",
       "</style>\n",
       "<table border=\"1\" class=\"dataframe\">\n",
       "  <thead>\n",
       "    <tr style=\"text-align: right;\">\n",
       "      <th></th>\n",
       "      <th>source</th>\n",
       "      <th>day</th>\n",
       "      <th>cost</th>\n",
       "    </tr>\n",
       "  </thead>\n",
       "  <tbody>\n",
       "    <tr>\n",
       "      <th>0</th>\n",
       "      <td>facebook_ads</td>\n",
       "      <td>2020-05-03</td>\n",
       "      <td>935.882786</td>\n",
       "    </tr>\n",
       "    <tr>\n",
       "      <th>1</th>\n",
       "      <td>facebook_ads</td>\n",
       "      <td>2020-05-04</td>\n",
       "      <td>548.354480</td>\n",
       "    </tr>\n",
       "    <tr>\n",
       "      <th>2</th>\n",
       "      <td>facebook_ads</td>\n",
       "      <td>2020-05-05</td>\n",
       "      <td>260.185754</td>\n",
       "    </tr>\n",
       "    <tr>\n",
       "      <th>3</th>\n",
       "      <td>facebook_ads</td>\n",
       "      <td>2020-05-06</td>\n",
       "      <td>177.982200</td>\n",
       "    </tr>\n",
       "    <tr>\n",
       "      <th>4</th>\n",
       "      <td>facebook_ads</td>\n",
       "      <td>2020-05-07</td>\n",
       "      <td>111.766796</td>\n",
       "    </tr>\n",
       "  </tbody>\n",
       "</table>\n",
       "</div>"
      ],
      "text/plain": [
       "         source         day        cost\n",
       "0  facebook_ads  2020-05-03  935.882786\n",
       "1  facebook_ads  2020-05-04  548.354480\n",
       "2  facebook_ads  2020-05-05  260.185754\n",
       "3  facebook_ads  2020-05-06  177.982200\n",
       "4  facebook_ads  2020-05-07  111.766796"
      ]
     },
     "metadata": {},
     "output_type": "display_data"
    },
    {
     "data": {
      "text/html": [
       "<div>\n",
       "<style scoped>\n",
       "    .dataframe tbody tr th:only-of-type {\n",
       "        vertical-align: middle;\n",
       "    }\n",
       "\n",
       "    .dataframe tbody tr th {\n",
       "        vertical-align: top;\n",
       "    }\n",
       "\n",
       "    .dataframe thead th {\n",
       "        text-align: right;\n",
       "    }\n",
       "</style>\n",
       "<table border=\"1\" class=\"dataframe\">\n",
       "  <thead>\n",
       "    <tr style=\"text-align: right;\">\n",
       "      <th></th>\n",
       "      <th>user_id</th>\n",
       "      <th>source</th>\n",
       "    </tr>\n",
       "  </thead>\n",
       "  <tbody>\n",
       "    <tr>\n",
       "      <th>0</th>\n",
       "      <td>0001f83c-c6ac-4621-b7f0-8a28b283ac30</td>\n",
       "      <td>facebook_ads</td>\n",
       "    </tr>\n",
       "    <tr>\n",
       "      <th>1</th>\n",
       "      <td>00151b4f-ba38-44a8-a650-d7cf130a0105</td>\n",
       "      <td>yandex_direct</td>\n",
       "    </tr>\n",
       "    <tr>\n",
       "      <th>2</th>\n",
       "      <td>001aaea6-3d14-43f1-8ca8-7f48820f17aa</td>\n",
       "      <td>youtube_channel_reklama</td>\n",
       "    </tr>\n",
       "    <tr>\n",
       "      <th>3</th>\n",
       "      <td>001d39dc-366c-4021-9604-6a3b9ff01e25</td>\n",
       "      <td>instagram_new_adverts</td>\n",
       "    </tr>\n",
       "    <tr>\n",
       "      <th>4</th>\n",
       "      <td>002f508f-67b6-479f-814b-b05f00d4e995</td>\n",
       "      <td>facebook_ads</td>\n",
       "    </tr>\n",
       "  </tbody>\n",
       "</table>\n",
       "</div>"
      ],
      "text/plain": [
       "                                user_id                   source\n",
       "0  0001f83c-c6ac-4621-b7f0-8a28b283ac30             facebook_ads\n",
       "1  00151b4f-ba38-44a8-a650-d7cf130a0105            yandex_direct\n",
       "2  001aaea6-3d14-43f1-8ca8-7f48820f17aa  youtube_channel_reklama\n",
       "3  001d39dc-366c-4021-9604-6a3b9ff01e25    instagram_new_adverts\n",
       "4  002f508f-67b6-479f-814b-b05f00d4e995             facebook_ads"
      ]
     },
     "metadata": {},
     "output_type": "display_data"
    }
   ],
   "source": [
    "display(game_actions.head(5))\n",
    "display(ad_costs.head(5))\n",
    "display(user_source.head(5))"
   ]
  },
  {
   "cell_type": "code",
   "execution_count": 4,
   "metadata": {},
   "outputs": [
    {
     "name": "stdout",
     "output_type": "stream",
     "text": [
      "<class 'pandas.core.frame.DataFrame'>\n",
      "RangeIndex: 135640 entries, 0 to 135639\n",
      "Data columns (total 5 columns):\n",
      " #   Column          Non-Null Count   Dtype \n",
      "---  ------          --------------   ----- \n",
      " 0   event_datetime  135640 non-null  object\n",
      " 1   event           135640 non-null  object\n",
      " 2   building_type   127957 non-null  object\n",
      " 3   user_id         135640 non-null  object\n",
      " 4   project_type    1866 non-null    object\n",
      "dtypes: object(5)\n",
      "memory usage: 5.2+ MB\n"
     ]
    },
    {
     "data": {
      "text/plain": [
       "None"
      ]
     },
     "metadata": {},
     "output_type": "display_data"
    },
    {
     "name": "stdout",
     "output_type": "stream",
     "text": [
      "<class 'pandas.core.frame.DataFrame'>\n",
      "RangeIndex: 28 entries, 0 to 27\n",
      "Data columns (total 3 columns):\n",
      " #   Column  Non-Null Count  Dtype  \n",
      "---  ------  --------------  -----  \n",
      " 0   source  28 non-null     object \n",
      " 1   day     28 non-null     object \n",
      " 2   cost    28 non-null     float64\n",
      "dtypes: float64(1), object(2)\n",
      "memory usage: 800.0+ bytes\n"
     ]
    },
    {
     "data": {
      "text/plain": [
       "None"
      ]
     },
     "metadata": {},
     "output_type": "display_data"
    },
    {
     "name": "stdout",
     "output_type": "stream",
     "text": [
      "<class 'pandas.core.frame.DataFrame'>\n",
      "RangeIndex: 13576 entries, 0 to 13575\n",
      "Data columns (total 2 columns):\n",
      " #   Column   Non-Null Count  Dtype \n",
      "---  ------   --------------  ----- \n",
      " 0   user_id  13576 non-null  object\n",
      " 1   source   13576 non-null  object\n",
      "dtypes: object(2)\n",
      "memory usage: 212.2+ KB\n"
     ]
    },
    {
     "data": {
      "text/plain": [
       "None"
      ]
     },
     "metadata": {},
     "output_type": "display_data"
    }
   ],
   "source": [
    "display(game_actions.info())\n",
    "display(ad_costs.info())\n",
    "display(user_source.info())"
   ]
  },
  {
   "cell_type": "code",
   "execution_count": 5,
   "metadata": {},
   "outputs": [
    {
     "data": {
      "text/plain": [
       "event_datetime         0\n",
       "event                  0\n",
       "building_type       7683\n",
       "user_id                0\n",
       "project_type      133774\n",
       "dtype: int64"
      ]
     },
     "metadata": {},
     "output_type": "display_data"
    },
    {
     "data": {
      "text/plain": [
       "source    0\n",
       "day       0\n",
       "cost      0\n",
       "dtype: int64"
      ]
     },
     "metadata": {},
     "output_type": "display_data"
    },
    {
     "data": {
      "text/plain": [
       "user_id    0\n",
       "source     0\n",
       "dtype: int64"
      ]
     },
     "metadata": {},
     "output_type": "display_data"
    }
   ],
   "source": [
    "display(game_actions.isna().sum())\n",
    "display(ad_costs.isna().sum())\n",
    "display(user_source.isna().sum())"
   ]
  },
  {
   "cell_type": "code",
   "execution_count": 6,
   "metadata": {},
   "outputs": [
    {
     "data": {
      "text/plain": [
       "1"
      ]
     },
     "metadata": {},
     "output_type": "display_data"
    },
    {
     "data": {
      "text/plain": [
       "0"
      ]
     },
     "metadata": {},
     "output_type": "display_data"
    },
    {
     "data": {
      "text/plain": [
       "0"
      ]
     },
     "metadata": {},
     "output_type": "display_data"
    }
   ],
   "source": [
    "display(game_actions.duplicated().sum())\n",
    "display(ad_costs.duplicated().sum())\n",
    "display(user_source.duplicated().sum())"
   ]
  },
  {
   "cell_type": "code",
   "execution_count": 7,
   "metadata": {},
   "outputs": [],
   "source": [
    "game_actions['event_datetime'] = pd.to_datetime(game_actions['event_datetime'])\n",
    "ad_costs['day'] = pd.to_datetime(ad_costs['day'])"
   ]
  },
  {
   "cell_type": "markdown",
   "metadata": {},
   "source": [
    "**Вывод:** На данном этапе мы изучили данные во всех датасетах, проверили данные на пропуски, дубликаты, форматы данных. При первичном анализе были выявлены дубликаты, пропуски, неверный формат даты в датасете game_actions, а аткже неверный формат даты в датасете ad_costs. Мы изменили неверные форматы даты в обоих датасетах, переходим к анализу пропусков и дубликатов."
   ]
  },
  {
   "cell_type": "markdown",
   "metadata": {},
   "source": [
    "**Важно:** Пропущенные значения в большом количестве содержатся в столбцах building_type (7683 штук) и project_type (133774 штук), изучим их."
   ]
  },
  {
   "cell_type": "code",
   "execution_count": 8,
   "metadata": {},
   "outputs": [
    {
     "data": {
      "text/plain": [
       "spaceport          59325\n",
       "assembly_shop      54494\n",
       "research_center    14138\n",
       "Name: building_type, dtype: int64"
      ]
     },
     "execution_count": 8,
     "metadata": {},
     "output_type": "execute_result"
    }
   ],
   "source": [
    "game_actions['building_type'].value_counts()"
   ]
  },
  {
   "cell_type": "code",
   "execution_count": 9,
   "metadata": {},
   "outputs": [
    {
     "data": {
      "text/plain": [
       "array(['assembly_shop', 'spaceport', nan, 'research_center'], dtype=object)"
      ]
     },
     "execution_count": 9,
     "metadata": {},
     "output_type": "execute_result"
    }
   ],
   "source": [
    "game_actions['building_type'].unique()"
   ]
  },
  {
   "cell_type": "code",
   "execution_count": 10,
   "metadata": {},
   "outputs": [
    {
     "data": {
      "text/html": [
       "<div>\n",
       "<style scoped>\n",
       "    .dataframe tbody tr th:only-of-type {\n",
       "        vertical-align: middle;\n",
       "    }\n",
       "\n",
       "    .dataframe tbody tr th {\n",
       "        vertical-align: top;\n",
       "    }\n",
       "\n",
       "    .dataframe thead th {\n",
       "        text-align: right;\n",
       "    }\n",
       "</style>\n",
       "<table border=\"1\" class=\"dataframe\">\n",
       "  <thead>\n",
       "    <tr style=\"text-align: right;\">\n",
       "      <th></th>\n",
       "      <th>event_datetime</th>\n",
       "      <th>event</th>\n",
       "      <th>building_type</th>\n",
       "      <th>user_id</th>\n",
       "      <th>project_type</th>\n",
       "    </tr>\n",
       "  </thead>\n",
       "  <tbody>\n",
       "    <tr>\n",
       "      <th>6659</th>\n",
       "      <td>2020-05-04 19:47:29</td>\n",
       "      <td>finished_stage_1</td>\n",
       "      <td>NaN</td>\n",
       "      <td>ced7b368-818f-48f6-9461-2346de0892c5</td>\n",
       "      <td>NaN</td>\n",
       "    </tr>\n",
       "    <tr>\n",
       "      <th>13134</th>\n",
       "      <td>2020-05-05 13:22:09</td>\n",
       "      <td>finished_stage_1</td>\n",
       "      <td>NaN</td>\n",
       "      <td>7ef7fc89-2779-46ea-b328-9e5035b83af5</td>\n",
       "      <td>NaN</td>\n",
       "    </tr>\n",
       "    <tr>\n",
       "      <th>15274</th>\n",
       "      <td>2020-05-05 18:54:37</td>\n",
       "      <td>finished_stage_1</td>\n",
       "      <td>NaN</td>\n",
       "      <td>70db22b3-c2f4-43bc-94ea-51c8d2904a29</td>\n",
       "      <td>NaN</td>\n",
       "    </tr>\n",
       "    <tr>\n",
       "      <th>16284</th>\n",
       "      <td>2020-05-05 21:27:29</td>\n",
       "      <td>finished_stage_1</td>\n",
       "      <td>NaN</td>\n",
       "      <td>903fc9ef-ba97-4b12-9d5c-ac8d602fbd8b</td>\n",
       "      <td>NaN</td>\n",
       "    </tr>\n",
       "    <tr>\n",
       "      <th>19650</th>\n",
       "      <td>2020-05-06 06:02:22</td>\n",
       "      <td>finished_stage_1</td>\n",
       "      <td>NaN</td>\n",
       "      <td>58e077ba-feb1-4556-a5a0-d96bd04efa39</td>\n",
       "      <td>NaN</td>\n",
       "    </tr>\n",
       "    <tr>\n",
       "      <th>...</th>\n",
       "      <td>...</td>\n",
       "      <td>...</td>\n",
       "      <td>...</td>\n",
       "      <td>...</td>\n",
       "      <td>...</td>\n",
       "    </tr>\n",
       "    <tr>\n",
       "      <th>135632</th>\n",
       "      <td>2020-06-04 15:50:38</td>\n",
       "      <td>finished_stage_1</td>\n",
       "      <td>NaN</td>\n",
       "      <td>22cce310-fe10-41a2-941b-9c3d63327fea</td>\n",
       "      <td>NaN</td>\n",
       "    </tr>\n",
       "    <tr>\n",
       "      <th>135633</th>\n",
       "      <td>2020-06-04 17:56:14</td>\n",
       "      <td>finished_stage_1</td>\n",
       "      <td>NaN</td>\n",
       "      <td>d477dde8-7c22-4f23-9c4f-4ec31a1aa4c8</td>\n",
       "      <td>NaN</td>\n",
       "    </tr>\n",
       "    <tr>\n",
       "      <th>135636</th>\n",
       "      <td>2020-06-05 02:25:12</td>\n",
       "      <td>finished_stage_1</td>\n",
       "      <td>NaN</td>\n",
       "      <td>515c1952-99aa-4bca-a7ea-d0449eb5385a</td>\n",
       "      <td>NaN</td>\n",
       "    </tr>\n",
       "    <tr>\n",
       "      <th>135638</th>\n",
       "      <td>2020-06-05 12:12:27</td>\n",
       "      <td>finished_stage_1</td>\n",
       "      <td>NaN</td>\n",
       "      <td>32572adb-900f-4b5d-a453-1eb1e6d88d8b</td>\n",
       "      <td>NaN</td>\n",
       "    </tr>\n",
       "    <tr>\n",
       "      <th>135639</th>\n",
       "      <td>2020-06-05 12:32:49</td>\n",
       "      <td>finished_stage_1</td>\n",
       "      <td>NaN</td>\n",
       "      <td>f21d179f-1c4b-437e-b9c6-ab1976907195</td>\n",
       "      <td>NaN</td>\n",
       "    </tr>\n",
       "  </tbody>\n",
       "</table>\n",
       "<p>7683 rows × 5 columns</p>\n",
       "</div>"
      ],
      "text/plain": [
       "            event_datetime             event building_type  \\\n",
       "6659   2020-05-04 19:47:29  finished_stage_1           NaN   \n",
       "13134  2020-05-05 13:22:09  finished_stage_1           NaN   \n",
       "15274  2020-05-05 18:54:37  finished_stage_1           NaN   \n",
       "16284  2020-05-05 21:27:29  finished_stage_1           NaN   \n",
       "19650  2020-05-06 06:02:22  finished_stage_1           NaN   \n",
       "...                    ...               ...           ...   \n",
       "135632 2020-06-04 15:50:38  finished_stage_1           NaN   \n",
       "135633 2020-06-04 17:56:14  finished_stage_1           NaN   \n",
       "135636 2020-06-05 02:25:12  finished_stage_1           NaN   \n",
       "135638 2020-06-05 12:12:27  finished_stage_1           NaN   \n",
       "135639 2020-06-05 12:32:49  finished_stage_1           NaN   \n",
       "\n",
       "                                     user_id project_type  \n",
       "6659    ced7b368-818f-48f6-9461-2346de0892c5          NaN  \n",
       "13134   7ef7fc89-2779-46ea-b328-9e5035b83af5          NaN  \n",
       "15274   70db22b3-c2f4-43bc-94ea-51c8d2904a29          NaN  \n",
       "16284   903fc9ef-ba97-4b12-9d5c-ac8d602fbd8b          NaN  \n",
       "19650   58e077ba-feb1-4556-a5a0-d96bd04efa39          NaN  \n",
       "...                                      ...          ...  \n",
       "135632  22cce310-fe10-41a2-941b-9c3d63327fea          NaN  \n",
       "135633  d477dde8-7c22-4f23-9c4f-4ec31a1aa4c8          NaN  \n",
       "135636  515c1952-99aa-4bca-a7ea-d0449eb5385a          NaN  \n",
       "135638  32572adb-900f-4b5d-a453-1eb1e6d88d8b          NaN  \n",
       "135639  f21d179f-1c4b-437e-b9c6-ab1976907195          NaN  \n",
       "\n",
       "[7683 rows x 5 columns]"
      ]
     },
     "execution_count": 10,
     "metadata": {},
     "output_type": "execute_result"
    }
   ],
   "source": [
    "game_actions[game_actions['building_type'].isna()]"
   ]
  },
  {
   "cell_type": "markdown",
   "metadata": {},
   "source": [
    "Предполагаем, что значения nan связаны, с тем, что игрок завершил игру, проверим это далее"
   ]
  },
  {
   "cell_type": "code",
   "execution_count": 11,
   "metadata": {},
   "outputs": [
    {
     "data": {
      "text/plain": [
       "array(['finished_stage_1', 'project'], dtype=object)"
      ]
     },
     "execution_count": 11,
     "metadata": {},
     "output_type": "execute_result"
    }
   ],
   "source": [
    "game_actions[game_actions['building_type'].isna()]['event'].unique()"
   ]
  },
  {
   "cell_type": "markdown",
   "metadata": {},
   "source": [
    "**Вывод:** Выдвинутая гипотеза подтвердилась, в таком случае nan можно заполнить фразой об отсутсвии постороенного здания. Данные пропуски обсусловлены механикой сбора данных и не являются ошибками."
   ]
  },
  {
   "cell_type": "code",
   "execution_count": 12,
   "metadata": {},
   "outputs": [],
   "source": [
    "game_actions['building_type'] = game_actions['building_type'].fillna('no_buildings')"
   ]
  },
  {
   "cell_type": "markdown",
   "metadata": {},
   "source": [
    "Переходим к анализу столбца project_type"
   ]
  },
  {
   "cell_type": "code",
   "execution_count": 13,
   "metadata": {},
   "outputs": [
    {
     "data": {
      "text/plain": [
       "satellite_orbital_assembly    1866\n",
       "Name: project_type, dtype: int64"
      ]
     },
     "execution_count": 13,
     "metadata": {},
     "output_type": "execute_result"
    }
   ],
   "source": [
    "game_actions['project_type'].value_counts()"
   ]
  },
  {
   "cell_type": "code",
   "execution_count": 14,
   "metadata": {},
   "outputs": [
    {
     "data": {
      "text/plain": [
       "array([nan, 'satellite_orbital_assembly'], dtype=object)"
      ]
     },
     "execution_count": 14,
     "metadata": {},
     "output_type": "execute_result"
    }
   ],
   "source": [
    "game_actions['project_type'].unique()"
   ]
  },
  {
   "cell_type": "code",
   "execution_count": 15,
   "metadata": {},
   "outputs": [
    {
     "data": {
      "text/html": [
       "<div>\n",
       "<style scoped>\n",
       "    .dataframe tbody tr th:only-of-type {\n",
       "        vertical-align: middle;\n",
       "    }\n",
       "\n",
       "    .dataframe tbody tr th {\n",
       "        vertical-align: top;\n",
       "    }\n",
       "\n",
       "    .dataframe thead th {\n",
       "        text-align: right;\n",
       "    }\n",
       "</style>\n",
       "<table border=\"1\" class=\"dataframe\">\n",
       "  <thead>\n",
       "    <tr style=\"text-align: right;\">\n",
       "      <th></th>\n",
       "      <th>event_datetime</th>\n",
       "      <th>event</th>\n",
       "      <th>building_type</th>\n",
       "      <th>user_id</th>\n",
       "      <th>project_type</th>\n",
       "    </tr>\n",
       "  </thead>\n",
       "  <tbody>\n",
       "    <tr>\n",
       "      <th>0</th>\n",
       "      <td>2020-05-04 00:00:01</td>\n",
       "      <td>building</td>\n",
       "      <td>assembly_shop</td>\n",
       "      <td>55e92310-cb8e-4754-b622-597e124b03de</td>\n",
       "      <td>NaN</td>\n",
       "    </tr>\n",
       "    <tr>\n",
       "      <th>1</th>\n",
       "      <td>2020-05-04 00:00:03</td>\n",
       "      <td>building</td>\n",
       "      <td>assembly_shop</td>\n",
       "      <td>c07b1c10-f477-44dc-81dc-ec82254b1347</td>\n",
       "      <td>NaN</td>\n",
       "    </tr>\n",
       "    <tr>\n",
       "      <th>2</th>\n",
       "      <td>2020-05-04 00:00:16</td>\n",
       "      <td>building</td>\n",
       "      <td>assembly_shop</td>\n",
       "      <td>6edd42cc-e753-4ff6-a947-2107cd560710</td>\n",
       "      <td>NaN</td>\n",
       "    </tr>\n",
       "    <tr>\n",
       "      <th>3</th>\n",
       "      <td>2020-05-04 00:00:16</td>\n",
       "      <td>building</td>\n",
       "      <td>assembly_shop</td>\n",
       "      <td>92c69003-d60a-444a-827f-8cc51bf6bf4c</td>\n",
       "      <td>NaN</td>\n",
       "    </tr>\n",
       "    <tr>\n",
       "      <th>4</th>\n",
       "      <td>2020-05-04 00:00:35</td>\n",
       "      <td>building</td>\n",
       "      <td>assembly_shop</td>\n",
       "      <td>cdc6bb92-0ccb-4490-9866-ef142f09139d</td>\n",
       "      <td>NaN</td>\n",
       "    </tr>\n",
       "    <tr>\n",
       "      <th>...</th>\n",
       "      <td>...</td>\n",
       "      <td>...</td>\n",
       "      <td>...</td>\n",
       "      <td>...</td>\n",
       "      <td>...</td>\n",
       "    </tr>\n",
       "    <tr>\n",
       "      <th>135635</th>\n",
       "      <td>2020-06-05 00:08:06</td>\n",
       "      <td>building</td>\n",
       "      <td>research_center</td>\n",
       "      <td>f21d179f-1c4b-437e-b9c6-ab1976907195</td>\n",
       "      <td>NaN</td>\n",
       "    </tr>\n",
       "    <tr>\n",
       "      <th>135636</th>\n",
       "      <td>2020-06-05 02:25:12</td>\n",
       "      <td>finished_stage_1</td>\n",
       "      <td>no_buildings</td>\n",
       "      <td>515c1952-99aa-4bca-a7ea-d0449eb5385a</td>\n",
       "      <td>NaN</td>\n",
       "    </tr>\n",
       "    <tr>\n",
       "      <th>135637</th>\n",
       "      <td>2020-06-05 08:57:52</td>\n",
       "      <td>building</td>\n",
       "      <td>research_center</td>\n",
       "      <td>ed3e7d02-8a96-4be7-9998-e9813ff9c316</td>\n",
       "      <td>NaN</td>\n",
       "    </tr>\n",
       "    <tr>\n",
       "      <th>135638</th>\n",
       "      <td>2020-06-05 12:12:27</td>\n",
       "      <td>finished_stage_1</td>\n",
       "      <td>no_buildings</td>\n",
       "      <td>32572adb-900f-4b5d-a453-1eb1e6d88d8b</td>\n",
       "      <td>NaN</td>\n",
       "    </tr>\n",
       "    <tr>\n",
       "      <th>135639</th>\n",
       "      <td>2020-06-05 12:32:49</td>\n",
       "      <td>finished_stage_1</td>\n",
       "      <td>no_buildings</td>\n",
       "      <td>f21d179f-1c4b-437e-b9c6-ab1976907195</td>\n",
       "      <td>NaN</td>\n",
       "    </tr>\n",
       "  </tbody>\n",
       "</table>\n",
       "<p>133774 rows × 5 columns</p>\n",
       "</div>"
      ],
      "text/plain": [
       "            event_datetime             event    building_type  \\\n",
       "0      2020-05-04 00:00:01          building    assembly_shop   \n",
       "1      2020-05-04 00:00:03          building    assembly_shop   \n",
       "2      2020-05-04 00:00:16          building    assembly_shop   \n",
       "3      2020-05-04 00:00:16          building    assembly_shop   \n",
       "4      2020-05-04 00:00:35          building    assembly_shop   \n",
       "...                    ...               ...              ...   \n",
       "135635 2020-06-05 00:08:06          building  research_center   \n",
       "135636 2020-06-05 02:25:12  finished_stage_1     no_buildings   \n",
       "135637 2020-06-05 08:57:52          building  research_center   \n",
       "135638 2020-06-05 12:12:27  finished_stage_1     no_buildings   \n",
       "135639 2020-06-05 12:32:49  finished_stage_1     no_buildings   \n",
       "\n",
       "                                     user_id project_type  \n",
       "0       55e92310-cb8e-4754-b622-597e124b03de          NaN  \n",
       "1       c07b1c10-f477-44dc-81dc-ec82254b1347          NaN  \n",
       "2       6edd42cc-e753-4ff6-a947-2107cd560710          NaN  \n",
       "3       92c69003-d60a-444a-827f-8cc51bf6bf4c          NaN  \n",
       "4       cdc6bb92-0ccb-4490-9866-ef142f09139d          NaN  \n",
       "...                                      ...          ...  \n",
       "135635  f21d179f-1c4b-437e-b9c6-ab1976907195          NaN  \n",
       "135636  515c1952-99aa-4bca-a7ea-d0449eb5385a          NaN  \n",
       "135637  ed3e7d02-8a96-4be7-9998-e9813ff9c316          NaN  \n",
       "135638  32572adb-900f-4b5d-a453-1eb1e6d88d8b          NaN  \n",
       "135639  f21d179f-1c4b-437e-b9c6-ab1976907195          NaN  \n",
       "\n",
       "[133774 rows x 5 columns]"
      ]
     },
     "execution_count": 15,
     "metadata": {},
     "output_type": "execute_result"
    }
   ],
   "source": [
    "game_actions[game_actions['project_type'].isna()]"
   ]
  },
  {
   "cell_type": "markdown",
   "metadata": {},
   "source": [
    "**Вывод:** В данных отсутсвует информация о завершении уровня путем победы над врагом, только о постройке орбитальной станции. В данном случае, это связано с механикой заполнения данных, не будет их заполнять какими-то значениями, оставим как есть"
   ]
  },
  {
   "cell_type": "code",
   "execution_count": 16,
   "metadata": {},
   "outputs": [
    {
     "data": {
      "text/plain": [
       "event_datetime         0\n",
       "event                  0\n",
       "building_type          0\n",
       "user_id                0\n",
       "project_type      133774\n",
       "dtype: int64"
      ]
     },
     "metadata": {},
     "output_type": "display_data"
    }
   ],
   "source": [
    "display(game_actions.isna().sum())"
   ]
  },
  {
   "cell_type": "code",
   "execution_count": 17,
   "metadata": {},
   "outputs": [
    {
     "data": {
      "text/html": [
       "<div>\n",
       "<style scoped>\n",
       "    .dataframe tbody tr th:only-of-type {\n",
       "        vertical-align: middle;\n",
       "    }\n",
       "\n",
       "    .dataframe tbody tr th {\n",
       "        vertical-align: top;\n",
       "    }\n",
       "\n",
       "    .dataframe thead th {\n",
       "        text-align: right;\n",
       "    }\n",
       "</style>\n",
       "<table border=\"1\" class=\"dataframe\">\n",
       "  <thead>\n",
       "    <tr style=\"text-align: right;\">\n",
       "      <th></th>\n",
       "      <th>event_datetime</th>\n",
       "      <th>event</th>\n",
       "      <th>building_type</th>\n",
       "      <th>user_id</th>\n",
       "      <th>project_type</th>\n",
       "    </tr>\n",
       "  </thead>\n",
       "  <tbody>\n",
       "    <tr>\n",
       "      <th>74891</th>\n",
       "      <td>2020-05-10 18:41:56</td>\n",
       "      <td>building</td>\n",
       "      <td>research_center</td>\n",
       "      <td>c9af55d2-b0ae-4bb4-b3d5-f32aa9ac03af</td>\n",
       "      <td>NaN</td>\n",
       "    </tr>\n",
       "  </tbody>\n",
       "</table>\n",
       "</div>"
      ],
      "text/plain": [
       "           event_datetime     event    building_type  \\\n",
       "74891 2020-05-10 18:41:56  building  research_center   \n",
       "\n",
       "                                    user_id project_type  \n",
       "74891  c9af55d2-b0ae-4bb4-b3d5-f32aa9ac03af          NaN  "
      ]
     },
     "execution_count": 17,
     "metadata": {},
     "output_type": "execute_result"
    }
   ],
   "source": [
    "game_actions[game_actions.duplicated()]"
   ]
  },
  {
   "cell_type": "markdown",
   "metadata": {},
   "source": [
    "Данный дубликат можно удалить, на качество данных он не повлияет"
   ]
  },
  {
   "cell_type": "code",
   "execution_count": 18,
   "metadata": {},
   "outputs": [],
   "source": [
    "game_actions = game_actions.drop_duplicates().reset_index(drop=True)"
   ]
  },
  {
   "cell_type": "markdown",
   "metadata": {},
   "source": [
    "**ИТОГОВЫЙ ВЫВОД:** выгрузив и изучив датасеты, нами была выполнена предобработка данных, включая изменение формата даты, заполнение пропущенных значений, удаление дубликата. Можно переходить к следующему этапу проекта, но для удобства выведем первые 5 строк каждого датасета"
   ]
  },
  {
   "cell_type": "code",
   "execution_count": 19,
   "metadata": {
    "scrolled": false
   },
   "outputs": [
    {
     "data": {
      "text/html": [
       "<div>\n",
       "<style scoped>\n",
       "    .dataframe tbody tr th:only-of-type {\n",
       "        vertical-align: middle;\n",
       "    }\n",
       "\n",
       "    .dataframe tbody tr th {\n",
       "        vertical-align: top;\n",
       "    }\n",
       "\n",
       "    .dataframe thead th {\n",
       "        text-align: right;\n",
       "    }\n",
       "</style>\n",
       "<table border=\"1\" class=\"dataframe\">\n",
       "  <thead>\n",
       "    <tr style=\"text-align: right;\">\n",
       "      <th></th>\n",
       "      <th>event_datetime</th>\n",
       "      <th>event</th>\n",
       "      <th>building_type</th>\n",
       "      <th>user_id</th>\n",
       "      <th>project_type</th>\n",
       "    </tr>\n",
       "  </thead>\n",
       "  <tbody>\n",
       "    <tr>\n",
       "      <th>0</th>\n",
       "      <td>2020-05-04 00:00:01</td>\n",
       "      <td>building</td>\n",
       "      <td>assembly_shop</td>\n",
       "      <td>55e92310-cb8e-4754-b622-597e124b03de</td>\n",
       "      <td>NaN</td>\n",
       "    </tr>\n",
       "    <tr>\n",
       "      <th>1</th>\n",
       "      <td>2020-05-04 00:00:03</td>\n",
       "      <td>building</td>\n",
       "      <td>assembly_shop</td>\n",
       "      <td>c07b1c10-f477-44dc-81dc-ec82254b1347</td>\n",
       "      <td>NaN</td>\n",
       "    </tr>\n",
       "    <tr>\n",
       "      <th>2</th>\n",
       "      <td>2020-05-04 00:00:16</td>\n",
       "      <td>building</td>\n",
       "      <td>assembly_shop</td>\n",
       "      <td>6edd42cc-e753-4ff6-a947-2107cd560710</td>\n",
       "      <td>NaN</td>\n",
       "    </tr>\n",
       "    <tr>\n",
       "      <th>3</th>\n",
       "      <td>2020-05-04 00:00:16</td>\n",
       "      <td>building</td>\n",
       "      <td>assembly_shop</td>\n",
       "      <td>92c69003-d60a-444a-827f-8cc51bf6bf4c</td>\n",
       "      <td>NaN</td>\n",
       "    </tr>\n",
       "    <tr>\n",
       "      <th>4</th>\n",
       "      <td>2020-05-04 00:00:35</td>\n",
       "      <td>building</td>\n",
       "      <td>assembly_shop</td>\n",
       "      <td>cdc6bb92-0ccb-4490-9866-ef142f09139d</td>\n",
       "      <td>NaN</td>\n",
       "    </tr>\n",
       "  </tbody>\n",
       "</table>\n",
       "</div>"
      ],
      "text/plain": [
       "       event_datetime     event  building_type  \\\n",
       "0 2020-05-04 00:00:01  building  assembly_shop   \n",
       "1 2020-05-04 00:00:03  building  assembly_shop   \n",
       "2 2020-05-04 00:00:16  building  assembly_shop   \n",
       "3 2020-05-04 00:00:16  building  assembly_shop   \n",
       "4 2020-05-04 00:00:35  building  assembly_shop   \n",
       "\n",
       "                                user_id project_type  \n",
       "0  55e92310-cb8e-4754-b622-597e124b03de          NaN  \n",
       "1  c07b1c10-f477-44dc-81dc-ec82254b1347          NaN  \n",
       "2  6edd42cc-e753-4ff6-a947-2107cd560710          NaN  \n",
       "3  92c69003-d60a-444a-827f-8cc51bf6bf4c          NaN  \n",
       "4  cdc6bb92-0ccb-4490-9866-ef142f09139d          NaN  "
      ]
     },
     "metadata": {},
     "output_type": "display_data"
    },
    {
     "data": {
      "text/html": [
       "<div>\n",
       "<style scoped>\n",
       "    .dataframe tbody tr th:only-of-type {\n",
       "        vertical-align: middle;\n",
       "    }\n",
       "\n",
       "    .dataframe tbody tr th {\n",
       "        vertical-align: top;\n",
       "    }\n",
       "\n",
       "    .dataframe thead th {\n",
       "        text-align: right;\n",
       "    }\n",
       "</style>\n",
       "<table border=\"1\" class=\"dataframe\">\n",
       "  <thead>\n",
       "    <tr style=\"text-align: right;\">\n",
       "      <th></th>\n",
       "      <th>source</th>\n",
       "      <th>day</th>\n",
       "      <th>cost</th>\n",
       "    </tr>\n",
       "  </thead>\n",
       "  <tbody>\n",
       "    <tr>\n",
       "      <th>0</th>\n",
       "      <td>facebook_ads</td>\n",
       "      <td>2020-05-03</td>\n",
       "      <td>935.882786</td>\n",
       "    </tr>\n",
       "    <tr>\n",
       "      <th>1</th>\n",
       "      <td>facebook_ads</td>\n",
       "      <td>2020-05-04</td>\n",
       "      <td>548.354480</td>\n",
       "    </tr>\n",
       "    <tr>\n",
       "      <th>2</th>\n",
       "      <td>facebook_ads</td>\n",
       "      <td>2020-05-05</td>\n",
       "      <td>260.185754</td>\n",
       "    </tr>\n",
       "    <tr>\n",
       "      <th>3</th>\n",
       "      <td>facebook_ads</td>\n",
       "      <td>2020-05-06</td>\n",
       "      <td>177.982200</td>\n",
       "    </tr>\n",
       "    <tr>\n",
       "      <th>4</th>\n",
       "      <td>facebook_ads</td>\n",
       "      <td>2020-05-07</td>\n",
       "      <td>111.766796</td>\n",
       "    </tr>\n",
       "  </tbody>\n",
       "</table>\n",
       "</div>"
      ],
      "text/plain": [
       "         source        day        cost\n",
       "0  facebook_ads 2020-05-03  935.882786\n",
       "1  facebook_ads 2020-05-04  548.354480\n",
       "2  facebook_ads 2020-05-05  260.185754\n",
       "3  facebook_ads 2020-05-06  177.982200\n",
       "4  facebook_ads 2020-05-07  111.766796"
      ]
     },
     "metadata": {},
     "output_type": "display_data"
    },
    {
     "data": {
      "text/html": [
       "<div>\n",
       "<style scoped>\n",
       "    .dataframe tbody tr th:only-of-type {\n",
       "        vertical-align: middle;\n",
       "    }\n",
       "\n",
       "    .dataframe tbody tr th {\n",
       "        vertical-align: top;\n",
       "    }\n",
       "\n",
       "    .dataframe thead th {\n",
       "        text-align: right;\n",
       "    }\n",
       "</style>\n",
       "<table border=\"1\" class=\"dataframe\">\n",
       "  <thead>\n",
       "    <tr style=\"text-align: right;\">\n",
       "      <th></th>\n",
       "      <th>user_id</th>\n",
       "      <th>source</th>\n",
       "    </tr>\n",
       "  </thead>\n",
       "  <tbody>\n",
       "    <tr>\n",
       "      <th>0</th>\n",
       "      <td>0001f83c-c6ac-4621-b7f0-8a28b283ac30</td>\n",
       "      <td>facebook_ads</td>\n",
       "    </tr>\n",
       "    <tr>\n",
       "      <th>1</th>\n",
       "      <td>00151b4f-ba38-44a8-a650-d7cf130a0105</td>\n",
       "      <td>yandex_direct</td>\n",
       "    </tr>\n",
       "    <tr>\n",
       "      <th>2</th>\n",
       "      <td>001aaea6-3d14-43f1-8ca8-7f48820f17aa</td>\n",
       "      <td>youtube_channel_reklama</td>\n",
       "    </tr>\n",
       "    <tr>\n",
       "      <th>3</th>\n",
       "      <td>001d39dc-366c-4021-9604-6a3b9ff01e25</td>\n",
       "      <td>instagram_new_adverts</td>\n",
       "    </tr>\n",
       "    <tr>\n",
       "      <th>4</th>\n",
       "      <td>002f508f-67b6-479f-814b-b05f00d4e995</td>\n",
       "      <td>facebook_ads</td>\n",
       "    </tr>\n",
       "  </tbody>\n",
       "</table>\n",
       "</div>"
      ],
      "text/plain": [
       "                                user_id                   source\n",
       "0  0001f83c-c6ac-4621-b7f0-8a28b283ac30             facebook_ads\n",
       "1  00151b4f-ba38-44a8-a650-d7cf130a0105            yandex_direct\n",
       "2  001aaea6-3d14-43f1-8ca8-7f48820f17aa  youtube_channel_reklama\n",
       "3  001d39dc-366c-4021-9604-6a3b9ff01e25    instagram_new_adverts\n",
       "4  002f508f-67b6-479f-814b-b05f00d4e995             facebook_ads"
      ]
     },
     "metadata": {},
     "output_type": "display_data"
    }
   ],
   "source": [
    "display(game_actions.head(5))\n",
    "display(ad_costs.head(5))\n",
    "display(user_source.head(5))"
   ]
  },
  {
   "cell_type": "code",
   "execution_count": 20,
   "metadata": {},
   "outputs": [
    {
     "data": {
      "text/html": [
       "<div>\n",
       "<style scoped>\n",
       "    .dataframe tbody tr th:only-of-type {\n",
       "        vertical-align: middle;\n",
       "    }\n",
       "\n",
       "    .dataframe tbody tr th {\n",
       "        vertical-align: top;\n",
       "    }\n",
       "\n",
       "    .dataframe thead th {\n",
       "        text-align: right;\n",
       "    }\n",
       "</style>\n",
       "<table border=\"1\" class=\"dataframe\">\n",
       "  <thead>\n",
       "    <tr style=\"text-align: right;\">\n",
       "      <th></th>\n",
       "      <th>event_datetime</th>\n",
       "      <th>event</th>\n",
       "      <th>building_type</th>\n",
       "      <th>user_id</th>\n",
       "      <th>project_type</th>\n",
       "      <th>source</th>\n",
       "    </tr>\n",
       "  </thead>\n",
       "  <tbody>\n",
       "    <tr>\n",
       "      <th>0</th>\n",
       "      <td>2020-05-04 00:00:01</td>\n",
       "      <td>building</td>\n",
       "      <td>assembly_shop</td>\n",
       "      <td>55e92310-cb8e-4754-b622-597e124b03de</td>\n",
       "      <td>NaN</td>\n",
       "      <td>youtube_channel_reklama</td>\n",
       "    </tr>\n",
       "    <tr>\n",
       "      <th>1</th>\n",
       "      <td>2020-05-04 00:00:03</td>\n",
       "      <td>building</td>\n",
       "      <td>assembly_shop</td>\n",
       "      <td>c07b1c10-f477-44dc-81dc-ec82254b1347</td>\n",
       "      <td>NaN</td>\n",
       "      <td>facebook_ads</td>\n",
       "    </tr>\n",
       "    <tr>\n",
       "      <th>2</th>\n",
       "      <td>2020-05-04 00:00:16</td>\n",
       "      <td>building</td>\n",
       "      <td>assembly_shop</td>\n",
       "      <td>6edd42cc-e753-4ff6-a947-2107cd560710</td>\n",
       "      <td>NaN</td>\n",
       "      <td>instagram_new_adverts</td>\n",
       "    </tr>\n",
       "    <tr>\n",
       "      <th>3</th>\n",
       "      <td>2020-05-04 00:00:16</td>\n",
       "      <td>building</td>\n",
       "      <td>assembly_shop</td>\n",
       "      <td>92c69003-d60a-444a-827f-8cc51bf6bf4c</td>\n",
       "      <td>NaN</td>\n",
       "      <td>facebook_ads</td>\n",
       "    </tr>\n",
       "    <tr>\n",
       "      <th>4</th>\n",
       "      <td>2020-05-04 00:00:35</td>\n",
       "      <td>building</td>\n",
       "      <td>assembly_shop</td>\n",
       "      <td>cdc6bb92-0ccb-4490-9866-ef142f09139d</td>\n",
       "      <td>NaN</td>\n",
       "      <td>yandex_direct</td>\n",
       "    </tr>\n",
       "    <tr>\n",
       "      <th>...</th>\n",
       "      <td>...</td>\n",
       "      <td>...</td>\n",
       "      <td>...</td>\n",
       "      <td>...</td>\n",
       "      <td>...</td>\n",
       "      <td>...</td>\n",
       "    </tr>\n",
       "    <tr>\n",
       "      <th>135634</th>\n",
       "      <td>2020-06-05 00:08:06</td>\n",
       "      <td>building</td>\n",
       "      <td>research_center</td>\n",
       "      <td>f21d179f-1c4b-437e-b9c6-ab1976907195</td>\n",
       "      <td>NaN</td>\n",
       "      <td>instagram_new_adverts</td>\n",
       "    </tr>\n",
       "    <tr>\n",
       "      <th>135635</th>\n",
       "      <td>2020-06-05 02:25:12</td>\n",
       "      <td>finished_stage_1</td>\n",
       "      <td>no_buildings</td>\n",
       "      <td>515c1952-99aa-4bca-a7ea-d0449eb5385a</td>\n",
       "      <td>NaN</td>\n",
       "      <td>yandex_direct</td>\n",
       "    </tr>\n",
       "    <tr>\n",
       "      <th>135636</th>\n",
       "      <td>2020-06-05 08:57:52</td>\n",
       "      <td>building</td>\n",
       "      <td>research_center</td>\n",
       "      <td>ed3e7d02-8a96-4be7-9998-e9813ff9c316</td>\n",
       "      <td>NaN</td>\n",
       "      <td>youtube_channel_reklama</td>\n",
       "    </tr>\n",
       "    <tr>\n",
       "      <th>135637</th>\n",
       "      <td>2020-06-05 12:12:27</td>\n",
       "      <td>finished_stage_1</td>\n",
       "      <td>no_buildings</td>\n",
       "      <td>32572adb-900f-4b5d-a453-1eb1e6d88d8b</td>\n",
       "      <td>NaN</td>\n",
       "      <td>facebook_ads</td>\n",
       "    </tr>\n",
       "    <tr>\n",
       "      <th>135638</th>\n",
       "      <td>2020-06-05 12:32:49</td>\n",
       "      <td>finished_stage_1</td>\n",
       "      <td>no_buildings</td>\n",
       "      <td>f21d179f-1c4b-437e-b9c6-ab1976907195</td>\n",
       "      <td>NaN</td>\n",
       "      <td>instagram_new_adverts</td>\n",
       "    </tr>\n",
       "  </tbody>\n",
       "</table>\n",
       "<p>135639 rows × 6 columns</p>\n",
       "</div>"
      ],
      "text/plain": [
       "            event_datetime             event    building_type  \\\n",
       "0      2020-05-04 00:00:01          building    assembly_shop   \n",
       "1      2020-05-04 00:00:03          building    assembly_shop   \n",
       "2      2020-05-04 00:00:16          building    assembly_shop   \n",
       "3      2020-05-04 00:00:16          building    assembly_shop   \n",
       "4      2020-05-04 00:00:35          building    assembly_shop   \n",
       "...                    ...               ...              ...   \n",
       "135634 2020-06-05 00:08:06          building  research_center   \n",
       "135635 2020-06-05 02:25:12  finished_stage_1     no_buildings   \n",
       "135636 2020-06-05 08:57:52          building  research_center   \n",
       "135637 2020-06-05 12:12:27  finished_stage_1     no_buildings   \n",
       "135638 2020-06-05 12:32:49  finished_stage_1     no_buildings   \n",
       "\n",
       "                                     user_id project_type  \\\n",
       "0       55e92310-cb8e-4754-b622-597e124b03de          NaN   \n",
       "1       c07b1c10-f477-44dc-81dc-ec82254b1347          NaN   \n",
       "2       6edd42cc-e753-4ff6-a947-2107cd560710          NaN   \n",
       "3       92c69003-d60a-444a-827f-8cc51bf6bf4c          NaN   \n",
       "4       cdc6bb92-0ccb-4490-9866-ef142f09139d          NaN   \n",
       "...                                      ...          ...   \n",
       "135634  f21d179f-1c4b-437e-b9c6-ab1976907195          NaN   \n",
       "135635  515c1952-99aa-4bca-a7ea-d0449eb5385a          NaN   \n",
       "135636  ed3e7d02-8a96-4be7-9998-e9813ff9c316          NaN   \n",
       "135637  32572adb-900f-4b5d-a453-1eb1e6d88d8b          NaN   \n",
       "135638  f21d179f-1c4b-437e-b9c6-ab1976907195          NaN   \n",
       "\n",
       "                         source  \n",
       "0       youtube_channel_reklama  \n",
       "1                  facebook_ads  \n",
       "2         instagram_new_adverts  \n",
       "3                  facebook_ads  \n",
       "4                 yandex_direct  \n",
       "...                         ...  \n",
       "135634    instagram_new_adverts  \n",
       "135635            yandex_direct  \n",
       "135636  youtube_channel_reklama  \n",
       "135637             facebook_ads  \n",
       "135638    instagram_new_adverts  \n",
       "\n",
       "[135639 rows x 6 columns]"
      ]
     },
     "execution_count": 20,
     "metadata": {},
     "output_type": "execute_result"
    }
   ],
   "source": [
    "game = game_actions.merge(user_source, how = 'left', on = 'user_id')\n",
    "game"
   ]
  },
  {
   "cell_type": "markdown",
   "metadata": {},
   "source": [
    "# ШАГ 2: ИССЛЕДОВАТЕЛЬСКИЙ АНАЛИЗ ДАННЫХ"
   ]
  },
  {
   "cell_type": "markdown",
   "metadata": {},
   "source": [
    "В данном разделе будут изучены:\n",
    "\n",
    "1 часть - общая информации о пользователях игры (как они проходили 1 уровень, сколько времени затратили на его прохождение, анализ каналов их привлечения\n",
    "\n",
    "2 часть - расчет показателя Retention для пользователей игры"
   ]
  },
  {
   "cell_type": "code",
   "execution_count": 21,
   "metadata": {},
   "outputs": [
    {
     "name": "stdout",
     "output_type": "stream",
     "text": [
      "13576\n",
      "3\n",
      "135639\n"
     ]
    }
   ],
   "source": [
    "print(game_actions['user_id'].nunique())\n",
    "print(game_actions['event'].nunique())\n",
    "print(game_actions['event'].count())"
   ]
  },
  {
   "cell_type": "code",
   "execution_count": 22,
   "metadata": {},
   "outputs": [
    {
     "data": {
      "text/plain": [
       "10.0"
      ]
     },
     "execution_count": 22,
     "metadata": {},
     "output_type": "execute_result"
    }
   ],
   "source": [
    "median_event = game_actions.groupby('user_id')['event'].count().median()\n",
    "median_event"
   ]
  },
  {
   "cell_type": "markdown",
   "metadata": {},
   "source": [
    "**Вывод:** В датасете представлена информация о 13576 пользователях игры, которые совершили 135639 событий (3 уникальных) в игре. На одного пользователя, медаинно приходится 10 событий. \n",
    "\n",
    "Далее посмотрим на количество пользователей, которые завершили/не завершили 1 уровень."
   ]
  },
  {
   "cell_type": "code",
   "execution_count": 23,
   "metadata": {},
   "outputs": [],
   "source": [
    "finished = game_actions[game_actions['event'] == 'finished_stage_1']\n",
    "finished = finished['user_id']\n",
    "finished_users = game_actions.query('user_id in @finished')\n",
    "not_finished_users = game_actions.query('user_id not in @finished')\n",
    "num_finished = len(finished_users['user_id'].unique())\n",
    "num_not_finished = len(not_finished_users['user_id'].unique())"
   ]
  },
  {
   "cell_type": "code",
   "execution_count": 24,
   "metadata": {
    "scrolled": true
   },
   "outputs": [
    {
     "data": {
      "image/png": "[encoded data removed]",
      "text/plain": [
       "<Figure size 432x288 with 1 Axes>"
      ]
     },
     "metadata": {},
     "output_type": "display_data"
    }
   ],
   "source": [
    "labels = ['Finished Stage 1', 'Not Finished']\n",
    "sizes = [num_finished, num_not_finished ]\n",
    "\n",
    "fig1, ax1 = plt.subplots()\n",
    "ax1.pie(sizes, labels=labels, autopct='%1.1f%%', startangle=90)\n",
    "\n",
    "ax1.axis('equal')\n",
    "plt.title('Процент игроков, завершивших 1 уровень')\n",
    "\n",
    "\n",
    "plt.show()\n"
   ]
  },
  {
   "cell_type": "markdown",
   "metadata": {},
   "source": [
    "По графику видно, что большинство юзеров не завершили 1 уровень (57.2%), против завершивших (42.8%)"
   ]
  },
  {
   "cell_type": "code",
   "execution_count": 25,
   "metadata": {},
   "outputs": [
    {
     "data": {
      "text/plain": [
       "building_type\n",
       "assembly_shop      54494\n",
       "research_center    14137\n",
       "spaceport          59325\n",
       "Name: user_id, dtype: int64"
      ]
     },
     "metadata": {},
     "output_type": "display_data"
    },
    {
     "data": {
      "image/png": "[encoded data removed]",
      "text/plain": [
       "<Figure size 432x504 with 1 Axes>"
      ]
     },
     "metadata": {},
     "output_type": "display_data"
    }
   ],
   "source": [
    "buildings = game_actions[game_actions['building_type'] != 'no_buildings']\n",
    "\n",
    "build = buildings.groupby('building_type')['user_id'].count()\n",
    "display(build)\n",
    "\n",
    "build.plot.pie(figsize = (6,7), autopct=\"%.1f%%\", subplots = True, title='Доля построек')\n",
    "plt.show()"
   ]
  },
  {
   "cell_type": "markdown",
   "metadata": {},
   "source": [
    "Основными типами построек являются spaceport (космодром) - 46.4%, assembly_shop (сборочный цех) - 42.6% и меньше всего research_center (исследовательский центр) - 11%.\n",
    "\n",
    "Посмотрим теперь каким путем пользователи завершали 1 уровень - через победу над игроком или через проект"
   ]
  },
  {
   "cell_type": "code",
   "execution_count": 26,
   "metadata": {},
   "outputs": [],
   "source": [
    "project = game_actions[game_actions['project_type'] == 'satellite_orbital_assembly']\n",
    "project = project['user_id'].nunique()\n",
    "not_project = finished_users['user_id'].nunique() - project"
   ]
  },
  {
   "cell_type": "code",
   "execution_count": 27,
   "metadata": {},
   "outputs": [
    {
     "data": {
      "image/png": "[encoded data removed]",
      "text/plain": [
       "<Figure size 432x288 with 1 Axes>"
      ]
     },
     "metadata": {},
     "output_type": "display_data"
    }
   ],
   "source": [
    "labels = ['Finished with project', 'Finished without project']\n",
    "sizes = [project, not_project]\n",
    "\n",
    "fig1, ax1 = plt.subplots()\n",
    "ax1.pie(sizes, labels=labels, autopct='%1.1f%%', startangle=90)\n",
    "\n",
    "ax1.axis('equal')\n",
    "plt.title('Способ завершения 1 уровня, % ')\n",
    "\n",
    "\n",
    "plt.show()"
   ]
  },
  {
   "cell_type": "markdown",
   "metadata": {},
   "source": [
    "По графику видно, что игроки проходят 1 уровень с бОльшей помощью pvp (победы над врагом) - 67.9%, нежели прибегая к постройке космической станции (реализации проекта)"
   ]
  },
  {
   "cell_type": "markdown",
   "metadata": {},
   "source": [
    "**Вывод:** На данном этапе анализа было выяснено, что в датасете имеется информация о 13576 уникальных пользователя, которые с 4-10 марта совершили 135639 событий (уникальных 3 события). В основном, игроки использовали для завершения 1 уровня победу над врагом, при этом большинство игроков еще не завершили 1 уровень. Те, игроки, которые выбрали стратегию \"pve\", в основном, строят космодромы.\n",
    "\n",
    "Далее изучим информацию о трафике, то есть поймем из каких каналов приходят юзеры игры"
   ]
  },
  {
   "cell_type": "code",
   "execution_count": 28,
   "metadata": {},
   "outputs": [
    {
     "data": {
      "text/html": [
       "<div>\n",
       "<style scoped>\n",
       "    .dataframe tbody tr th:only-of-type {\n",
       "        vertical-align: middle;\n",
       "    }\n",
       "\n",
       "    .dataframe tbody tr th {\n",
       "        vertical-align: top;\n",
       "    }\n",
       "\n",
       "    .dataframe thead th {\n",
       "        text-align: right;\n",
       "    }\n",
       "</style>\n",
       "<table border=\"1\" class=\"dataframe\">\n",
       "  <thead>\n",
       "    <tr style=\"text-align: right;\">\n",
       "      <th></th>\n",
       "      <th>user_id</th>\n",
       "      <th>source</th>\n",
       "    </tr>\n",
       "  </thead>\n",
       "  <tbody>\n",
       "    <tr>\n",
       "      <th>0</th>\n",
       "      <td>0001f83c-c6ac-4621-b7f0-8a28b283ac30</td>\n",
       "      <td>facebook_ads</td>\n",
       "    </tr>\n",
       "    <tr>\n",
       "      <th>1</th>\n",
       "      <td>00151b4f-ba38-44a8-a650-d7cf130a0105</td>\n",
       "      <td>yandex_direct</td>\n",
       "    </tr>\n",
       "    <tr>\n",
       "      <th>2</th>\n",
       "      <td>001aaea6-3d14-43f1-8ca8-7f48820f17aa</td>\n",
       "      <td>youtube_channel_reklama</td>\n",
       "    </tr>\n",
       "    <tr>\n",
       "      <th>3</th>\n",
       "      <td>001d39dc-366c-4021-9604-6a3b9ff01e25</td>\n",
       "      <td>instagram_new_adverts</td>\n",
       "    </tr>\n",
       "    <tr>\n",
       "      <th>4</th>\n",
       "      <td>002f508f-67b6-479f-814b-b05f00d4e995</td>\n",
       "      <td>facebook_ads</td>\n",
       "    </tr>\n",
       "    <tr>\n",
       "      <th>5</th>\n",
       "      <td>003b80c6-4164-4157-bb2a-03d0181d39c4</td>\n",
       "      <td>yandex_direct</td>\n",
       "    </tr>\n",
       "    <tr>\n",
       "      <th>6</th>\n",
       "      <td>003ee7e8-6356-4286-a715-62f22a18d2a1</td>\n",
       "      <td>instagram_new_adverts</td>\n",
       "    </tr>\n",
       "    <tr>\n",
       "      <th>7</th>\n",
       "      <td>004074f8-251a-4776-922c-8348dca1a2f6</td>\n",
       "      <td>facebook_ads</td>\n",
       "    </tr>\n",
       "    <tr>\n",
       "      <th>8</th>\n",
       "      <td>00440efd-aa50-4b4b-aae8-ffcd1782729d</td>\n",
       "      <td>facebook_ads</td>\n",
       "    </tr>\n",
       "    <tr>\n",
       "      <th>9</th>\n",
       "      <td>00464e5e-28ed-4be6-bf44-517ef7b3937b</td>\n",
       "      <td>yandex_direct</td>\n",
       "    </tr>\n",
       "  </tbody>\n",
       "</table>\n",
       "</div>"
      ],
      "text/plain": [
       "                                user_id                   source\n",
       "0  0001f83c-c6ac-4621-b7f0-8a28b283ac30             facebook_ads\n",
       "1  00151b4f-ba38-44a8-a650-d7cf130a0105            yandex_direct\n",
       "2  001aaea6-3d14-43f1-8ca8-7f48820f17aa  youtube_channel_reklama\n",
       "3  001d39dc-366c-4021-9604-6a3b9ff01e25    instagram_new_adverts\n",
       "4  002f508f-67b6-479f-814b-b05f00d4e995             facebook_ads\n",
       "5  003b80c6-4164-4157-bb2a-03d0181d39c4            yandex_direct\n",
       "6  003ee7e8-6356-4286-a715-62f22a18d2a1    instagram_new_adverts\n",
       "7  004074f8-251a-4776-922c-8348dca1a2f6             facebook_ads\n",
       "8  00440efd-aa50-4b4b-aae8-ffcd1782729d             facebook_ads\n",
       "9  00464e5e-28ed-4be6-bf44-517ef7b3937b            yandex_direct"
      ]
     },
     "execution_count": 28,
     "metadata": {},
     "output_type": "execute_result"
    }
   ],
   "source": [
    "user_source.head(10)"
   ]
  },
  {
   "cell_type": "code",
   "execution_count": 29,
   "metadata": {},
   "outputs": [
    {
     "data": {
      "text/html": [
       "<div>\n",
       "<style scoped>\n",
       "    .dataframe tbody tr th:only-of-type {\n",
       "        vertical-align: middle;\n",
       "    }\n",
       "\n",
       "    .dataframe tbody tr th {\n",
       "        vertical-align: top;\n",
       "    }\n",
       "\n",
       "    .dataframe thead th {\n",
       "        text-align: right;\n",
       "    }\n",
       "</style>\n",
       "<table border=\"1\" class=\"dataframe\">\n",
       "  <thead>\n",
       "    <tr style=\"text-align: right;\">\n",
       "      <th></th>\n",
       "      <th>user_id</th>\n",
       "    </tr>\n",
       "    <tr>\n",
       "      <th>source</th>\n",
       "      <th></th>\n",
       "    </tr>\n",
       "  </thead>\n",
       "  <tbody>\n",
       "    <tr>\n",
       "      <th>yandex_direct</th>\n",
       "      <td>4817</td>\n",
       "    </tr>\n",
       "    <tr>\n",
       "      <th>instagram_new_adverts</th>\n",
       "      <td>3347</td>\n",
       "    </tr>\n",
       "    <tr>\n",
       "      <th>facebook_ads</th>\n",
       "      <td>2726</td>\n",
       "    </tr>\n",
       "    <tr>\n",
       "      <th>youtube_channel_reklama</th>\n",
       "      <td>2686</td>\n",
       "    </tr>\n",
       "  </tbody>\n",
       "</table>\n",
       "</div>"
      ],
      "text/plain": [
       "                         user_id\n",
       "source                          \n",
       "yandex_direct               4817\n",
       "instagram_new_adverts       3347\n",
       "facebook_ads                2726\n",
       "youtube_channel_reklama     2686"
      ]
     },
     "metadata": {},
     "output_type": "display_data"
    },
    {
     "data": {
      "image/png": "[encoded data removed]",
      "text/plain": [
       "<Figure size 432x288 with 1 Axes>"
      ]
     },
     "metadata": {
      "needs_background": "light"
     },
     "output_type": "display_data"
    }
   ],
   "source": [
    "users_count = game.groupby('source').agg({'user_id': 'nunique'}).sort_values( by = 'user_id', ascending = False)\n",
    "display(users_count)\n",
    "users_count.plot.bar()\n",
    "plt.title(\"Источники трафика по количеству юзеров\")\n",
    "plt.show()"
   ]
  },
  {
   "cell_type": "markdown",
   "metadata": {},
   "source": [
    "**Вывод:** Большинство игроков пришли из Яндекс.Директа (4817 юзеров), наименьшее число пришло из канала youtube_channel_reklama (2686 юзеров)\n",
    "\n",
    "Изучим стоимость привлечения из каждого канала"
   ]
  },
  {
   "cell_type": "code",
   "execution_count": 30,
   "metadata": {
    "scrolled": false
   },
   "outputs": [
    {
     "data": {
      "text/html": [
       "<div>\n",
       "<style scoped>\n",
       "    .dataframe tbody tr th:only-of-type {\n",
       "        vertical-align: middle;\n",
       "    }\n",
       "\n",
       "    .dataframe tbody tr th {\n",
       "        vertical-align: top;\n",
       "    }\n",
       "\n",
       "    .dataframe thead th {\n",
       "        text-align: right;\n",
       "    }\n",
       "</style>\n",
       "<table border=\"1\" class=\"dataframe\">\n",
       "  <thead>\n",
       "    <tr style=\"text-align: right;\">\n",
       "      <th></th>\n",
       "      <th>cost</th>\n",
       "    </tr>\n",
       "    <tr>\n",
       "      <th>source</th>\n",
       "      <th></th>\n",
       "    </tr>\n",
       "  </thead>\n",
       "  <tbody>\n",
       "    <tr>\n",
       "      <th>yandex_direct</th>\n",
       "      <td>2233.11</td>\n",
       "    </tr>\n",
       "    <tr>\n",
       "      <th>instagram_new_adverts</th>\n",
       "      <td>2161.44</td>\n",
       "    </tr>\n",
       "    <tr>\n",
       "      <th>facebook_ads</th>\n",
       "      <td>2140.90</td>\n",
       "    </tr>\n",
       "    <tr>\n",
       "      <th>youtube_channel_reklama</th>\n",
       "      <td>1068.12</td>\n",
       "    </tr>\n",
       "  </tbody>\n",
       "</table>\n",
       "</div>"
      ],
      "text/plain": [
       "                            cost\n",
       "source                          \n",
       "yandex_direct            2233.11\n",
       "instagram_new_adverts    2161.44\n",
       "facebook_ads             2140.90\n",
       "youtube_channel_reklama  1068.12"
      ]
     },
     "metadata": {},
     "output_type": "display_data"
    },
    {
     "data": {
      "image/png": "[encoded data removed]",
      "text/plain": [
       "<Figure size 432x288 with 1 Axes>"
      ]
     },
     "metadata": {
      "needs_background": "light"
     },
     "output_type": "display_data"
    }
   ],
   "source": [
    "traffic_costs = ad_costs.groupby('source').agg({'cost':'sum'}).sort_values(by = 'cost', ascending = False).round(2)\n",
    "display(traffic_costs)\n",
    "traffic_costs.plot.bar()\n",
    "plt.title(\"Источники трафика по сумме затрат\")\n",
    "plt.show()"
   ]
  },
  {
   "cell_type": "code",
   "execution_count": 31,
   "metadata": {},
   "outputs": [
    {
     "data": {
      "text/plain": [
       "source\n",
       "yandex_direct              0.463589\n",
       "instagram_new_adverts      0.645784\n",
       "facebook_ads               0.785363\n",
       "youtube_channel_reklama    0.397662\n",
       "dtype: float64"
      ]
     },
     "metadata": {},
     "output_type": "display_data"
    },
    {
     "data": {
      "image/png": "[encoded data removed]",
      "text/plain": [
       "<Figure size 432x288 with 1 Axes>"
      ]
     },
     "metadata": {
      "needs_background": "light"
     },
     "output_type": "display_data"
    }
   ],
   "source": [
    "cac = traffic_costs['cost'] / users_count['user_id']\n",
    "display(cac)\n",
    "cac.plot.bar()\n",
    "plt.title(\"CAC по каналам привлечения\")\n",
    "plt.show()"
   ]
  },
  {
   "cell_type": "markdown",
   "metadata": {},
   "source": [
    "Наибольшая суммарная стоимость затрат на привлечение пользователей у канала - yandex_direct, минимальная у youtube_channel_reklama. Видно, что количество привлеченных юзеров кореллирует с суммарной стоимостью затрат на привлечение в каждом из каналов трафика. Более того, рассчитав cac, мы получили, что Яндекс.Директ при его высокой эффективности обладает одной из наименьших стоимостей привлечения юзеров"
   ]
  },
  {
   "cell_type": "markdown",
   "metadata": {},
   "source": [
    "**ИТОГОВЫЙ ВЫВОД:** первый этап анализа завершен, можно переходить к когортному анализу. В нем мы изучим временное распределние пользователей в игре, рассчитаем показатель Retention, DAU, TiG (time in game)"
   ]
  },
  {
   "cell_type": "code",
   "execution_count": 32,
   "metadata": {
    "scrolled": false
   },
   "outputs": [
    {
     "data": {
      "text/html": [
       "<div>\n",
       "<style scoped>\n",
       "    .dataframe tbody tr th:only-of-type {\n",
       "        vertical-align: middle;\n",
       "    }\n",
       "\n",
       "    .dataframe tbody tr th {\n",
       "        vertical-align: top;\n",
       "    }\n",
       "\n",
       "    .dataframe thead th {\n",
       "        text-align: right;\n",
       "    }\n",
       "</style>\n",
       "<table border=\"1\" class=\"dataframe\">\n",
       "  <thead>\n",
       "    <tr style=\"text-align: right;\">\n",
       "      <th></th>\n",
       "      <th>event_datetime</th>\n",
       "      <th>event</th>\n",
       "      <th>building_type</th>\n",
       "      <th>user_id</th>\n",
       "      <th>project_type</th>\n",
       "      <th>day_event</th>\n",
       "    </tr>\n",
       "  </thead>\n",
       "  <tbody>\n",
       "    <tr>\n",
       "      <th>0</th>\n",
       "      <td>2020-05-04 00:00:01</td>\n",
       "      <td>building</td>\n",
       "      <td>assembly_shop</td>\n",
       "      <td>55e92310-cb8e-4754-b622-597e124b03de</td>\n",
       "      <td>NaN</td>\n",
       "      <td>2020-05-04</td>\n",
       "    </tr>\n",
       "    <tr>\n",
       "      <th>1</th>\n",
       "      <td>2020-05-04 00:00:03</td>\n",
       "      <td>building</td>\n",
       "      <td>assembly_shop</td>\n",
       "      <td>c07b1c10-f477-44dc-81dc-ec82254b1347</td>\n",
       "      <td>NaN</td>\n",
       "      <td>2020-05-04</td>\n",
       "    </tr>\n",
       "    <tr>\n",
       "      <th>2</th>\n",
       "      <td>2020-05-04 00:00:16</td>\n",
       "      <td>building</td>\n",
       "      <td>assembly_shop</td>\n",
       "      <td>6edd42cc-e753-4ff6-a947-2107cd560710</td>\n",
       "      <td>NaN</td>\n",
       "      <td>2020-05-04</td>\n",
       "    </tr>\n",
       "    <tr>\n",
       "      <th>3</th>\n",
       "      <td>2020-05-04 00:00:16</td>\n",
       "      <td>building</td>\n",
       "      <td>assembly_shop</td>\n",
       "      <td>92c69003-d60a-444a-827f-8cc51bf6bf4c</td>\n",
       "      <td>NaN</td>\n",
       "      <td>2020-05-04</td>\n",
       "    </tr>\n",
       "    <tr>\n",
       "      <th>4</th>\n",
       "      <td>2020-05-04 00:00:35</td>\n",
       "      <td>building</td>\n",
       "      <td>assembly_shop</td>\n",
       "      <td>cdc6bb92-0ccb-4490-9866-ef142f09139d</td>\n",
       "      <td>NaN</td>\n",
       "      <td>2020-05-04</td>\n",
       "    </tr>\n",
       "    <tr>\n",
       "      <th>...</th>\n",
       "      <td>...</td>\n",
       "      <td>...</td>\n",
       "      <td>...</td>\n",
       "      <td>...</td>\n",
       "      <td>...</td>\n",
       "      <td>...</td>\n",
       "    </tr>\n",
       "    <tr>\n",
       "      <th>135634</th>\n",
       "      <td>2020-06-05 00:08:06</td>\n",
       "      <td>building</td>\n",
       "      <td>research_center</td>\n",
       "      <td>f21d179f-1c4b-437e-b9c6-ab1976907195</td>\n",
       "      <td>NaN</td>\n",
       "      <td>2020-06-05</td>\n",
       "    </tr>\n",
       "    <tr>\n",
       "      <th>135635</th>\n",
       "      <td>2020-06-05 02:25:12</td>\n",
       "      <td>finished_stage_1</td>\n",
       "      <td>no_buildings</td>\n",
       "      <td>515c1952-99aa-4bca-a7ea-d0449eb5385a</td>\n",
       "      <td>NaN</td>\n",
       "      <td>2020-06-05</td>\n",
       "    </tr>\n",
       "    <tr>\n",
       "      <th>135636</th>\n",
       "      <td>2020-06-05 08:57:52</td>\n",
       "      <td>building</td>\n",
       "      <td>research_center</td>\n",
       "      <td>ed3e7d02-8a96-4be7-9998-e9813ff9c316</td>\n",
       "      <td>NaN</td>\n",
       "      <td>2020-06-05</td>\n",
       "    </tr>\n",
       "    <tr>\n",
       "      <th>135637</th>\n",
       "      <td>2020-06-05 12:12:27</td>\n",
       "      <td>finished_stage_1</td>\n",
       "      <td>no_buildings</td>\n",
       "      <td>32572adb-900f-4b5d-a453-1eb1e6d88d8b</td>\n",
       "      <td>NaN</td>\n",
       "      <td>2020-06-05</td>\n",
       "    </tr>\n",
       "    <tr>\n",
       "      <th>135638</th>\n",
       "      <td>2020-06-05 12:32:49</td>\n",
       "      <td>finished_stage_1</td>\n",
       "      <td>no_buildings</td>\n",
       "      <td>f21d179f-1c4b-437e-b9c6-ab1976907195</td>\n",
       "      <td>NaN</td>\n",
       "      <td>2020-06-05</td>\n",
       "    </tr>\n",
       "  </tbody>\n",
       "</table>\n",
       "<p>135639 rows × 6 columns</p>\n",
       "</div>"
      ],
      "text/plain": [
       "            event_datetime             event    building_type  \\\n",
       "0      2020-05-04 00:00:01          building    assembly_shop   \n",
       "1      2020-05-04 00:00:03          building    assembly_shop   \n",
       "2      2020-05-04 00:00:16          building    assembly_shop   \n",
       "3      2020-05-04 00:00:16          building    assembly_shop   \n",
       "4      2020-05-04 00:00:35          building    assembly_shop   \n",
       "...                    ...               ...              ...   \n",
       "135634 2020-06-05 00:08:06          building  research_center   \n",
       "135635 2020-06-05 02:25:12  finished_stage_1     no_buildings   \n",
       "135636 2020-06-05 08:57:52          building  research_center   \n",
       "135637 2020-06-05 12:12:27  finished_stage_1     no_buildings   \n",
       "135638 2020-06-05 12:32:49  finished_stage_1     no_buildings   \n",
       "\n",
       "                                     user_id project_type   day_event  \n",
       "0       55e92310-cb8e-4754-b622-597e124b03de          NaN  2020-05-04  \n",
       "1       c07b1c10-f477-44dc-81dc-ec82254b1347          NaN  2020-05-04  \n",
       "2       6edd42cc-e753-4ff6-a947-2107cd560710          NaN  2020-05-04  \n",
       "3       92c69003-d60a-444a-827f-8cc51bf6bf4c          NaN  2020-05-04  \n",
       "4       cdc6bb92-0ccb-4490-9866-ef142f09139d          NaN  2020-05-04  \n",
       "...                                      ...          ...         ...  \n",
       "135634  f21d179f-1c4b-437e-b9c6-ab1976907195          NaN  2020-06-05  \n",
       "135635  515c1952-99aa-4bca-a7ea-d0449eb5385a          NaN  2020-06-05  \n",
       "135636  ed3e7d02-8a96-4be7-9998-e9813ff9c316          NaN  2020-06-05  \n",
       "135637  32572adb-900f-4b5d-a453-1eb1e6d88d8b          NaN  2020-06-05  \n",
       "135638  f21d179f-1c4b-437e-b9c6-ab1976907195          NaN  2020-06-05  \n",
       "\n",
       "[135639 rows x 6 columns]"
      ]
     },
     "execution_count": 32,
     "metadata": {},
     "output_type": "execute_result"
    }
   ],
   "source": [
    "game_actions['day_event'] = game_actions['event_datetime'].dt.date\n",
    "game_actions"
   ]
  },
  {
   "cell_type": "code",
   "execution_count": 33,
   "metadata": {},
   "outputs": [
    {
     "data": {
      "text/plain": [
       "2884.88"
      ]
     },
     "metadata": {},
     "output_type": "display_data"
    },
    {
     "data": {
      "image/png": "[encoded data removed]",
      "text/plain": [
       "<Figure size 1008x576 with 1 Axes>"
      ]
     },
     "metadata": {
      "needs_background": "light"
     },
     "output_type": "display_data"
    }
   ],
   "source": [
    "dau = game_actions.groupby('day_event')['user_id'].nunique()\n",
    "display(game_actions.groupby('day_event')['user_id'].nunique().mean().round(2))\n",
    "dau.plot(marker='o', figsize=(14, 8))\n",
    "plt.title('DAU', fontsize=17)\n",
    "plt.xlabel('Days', fontsize=15)\n",
    "plt.ylabel('Users', fontsize=15)\n",
    "plt.xticks(rotation=45)\n",
    "plt.show()\n"
   ]
  },
  {
   "cell_type": "markdown",
   "metadata": {},
   "source": [
    "**Вывод:** По графику мы можем наблюдать как изменялось ежедневное количество активных пользователей приложения по дням (пик приходится как раз на 4-10 мая, когда пользователи только начинают использовать приложение), ладее наблюдается существенное снижение активности. Более того, в среднем, ежедневно игрой пользуются 2884 уникальных пользователя"
   ]
  },
  {
   "cell_type": "markdown",
   "metadata": {},
   "source": [
    "Посмотрим на то, как ведут себя пользователи из разных каналов, чтобы понимать, какой из них приносит нам наиболее мотивированный трафик."
   ]
  },
  {
   "cell_type": "code",
   "execution_count": 34,
   "metadata": {},
   "outputs": [],
   "source": [
    "def buildings_by_channel(data):\n",
    "    user_build = data.groupby('user_id')['building_type'].count().reset_index()\n",
    "    user_build.hist()\n",
    "    print('Среднее количество построек', (user_build['building_type'].sum() / user_build['user_id'].count()).round(1))"
   ]
  },
  {
   "cell_type": "code",
   "execution_count": 35,
   "metadata": {},
   "outputs": [],
   "source": [
    "yandex = game.query('source == \"yandex_direct\"')\n",
    "instagram = game.query('source == \"instagram_new_adverts\"')\n",
    "facebook = game.query('source == \"facebook_ads\"')\n",
    "youtube =  game.query('source == \"youtube_channel_reklama\"')"
   ]
  },
  {
   "cell_type": "code",
   "execution_count": 36,
   "metadata": {
    "scrolled": false
   },
   "outputs": [
    {
     "name": "stdout",
     "output_type": "stream",
     "text": [
      "Среднее количество построек 9.9\n",
      "Среднее количество построек 10.1\n",
      "Среднее количество построек 10.2\n",
      "Среднее количество построек 9.9\n"
     ]
    },
    {
     "data": {
      "image/png": "[encoded data removed]",
      "text/plain": [
       "<Figure size 432x288 with 1 Axes>"
      ]
     },
     "metadata": {
      "needs_background": "light"
     },
     "output_type": "display_data"
    },
    {
     "data": {
      "image/png": "[encoded data removed]",
      "text/plain": [
       "<Figure size 432x288 with 1 Axes>"
      ]
     },
     "metadata": {
      "needs_background": "light"
     },
     "output_type": "display_data"
    },
    {
     "data": {
      "image/png": "[encoded data removed]",
      "text/plain": [
       "<Figure size 432x288 with 1 Axes>"
      ]
     },
     "metadata": {
      "needs_background": "light"
     },
     "output_type": "display_data"
    },
    {
     "data": {
      "image/png": "[encoded data removed]",
      "text/plain": [
       "<Figure size 432x288 with 1 Axes>"
      ]
     },
     "metadata": {
      "needs_background": "light"
     },
     "output_type": "display_data"
    }
   ],
   "source": [
    "buildings_by_channel(yandex)\n",
    "buildings_by_channel(instagram)\n",
    "buildings_by_channel(facebook)\n",
    "buildings_by_channel(youtube)"
   ]
  },
  {
   "cell_type": "markdown",
   "metadata": {},
   "source": [
    "**Вывод:** Можно сказать, что пользователи не отличаются между собой по среднему количеству построек, что говорит о том, что все же трафик у нас одинаковый в плане его качества, то есть стоит оптимизировать объему на закупку трафика в более эффективных каналах (таких как Яндекс.Директ) и уменьшить в наименее эффективных (таких как Facebook_ads)"
   ]
  },
  {
   "cell_type": "code",
   "execution_count": 37,
   "metadata": {
    "scrolled": false
   },
   "outputs": [
    {
     "data": {
      "text/html": [
       "<div>\n",
       "<style scoped>\n",
       "    .dataframe tbody tr th:only-of-type {\n",
       "        vertical-align: middle;\n",
       "    }\n",
       "\n",
       "    .dataframe tbody tr th {\n",
       "        vertical-align: top;\n",
       "    }\n",
       "\n",
       "    .dataframe thead th {\n",
       "        text-align: right;\n",
       "    }\n",
       "</style>\n",
       "<table border=\"1\" class=\"dataframe\">\n",
       "  <thead>\n",
       "    <tr style=\"text-align: right;\">\n",
       "      <th></th>\n",
       "      <th>event_datetime</th>\n",
       "      <th>event</th>\n",
       "      <th>building_type</th>\n",
       "      <th>user_id</th>\n",
       "      <th>project_type</th>\n",
       "      <th>source</th>\n",
       "    </tr>\n",
       "  </thead>\n",
       "  <tbody>\n",
       "    <tr>\n",
       "      <th>0</th>\n",
       "      <td>2020-05-04 00:00:01</td>\n",
       "      <td>building</td>\n",
       "      <td>assembly_shop</td>\n",
       "      <td>55e92310-cb8e-4754-b622-597e124b03de</td>\n",
       "      <td>NaN</td>\n",
       "      <td>youtube_channel_reklama</td>\n",
       "    </tr>\n",
       "    <tr>\n",
       "      <th>1</th>\n",
       "      <td>2020-05-04 00:00:03</td>\n",
       "      <td>building</td>\n",
       "      <td>assembly_shop</td>\n",
       "      <td>c07b1c10-f477-44dc-81dc-ec82254b1347</td>\n",
       "      <td>NaN</td>\n",
       "      <td>facebook_ads</td>\n",
       "    </tr>\n",
       "    <tr>\n",
       "      <th>2</th>\n",
       "      <td>2020-05-04 00:00:16</td>\n",
       "      <td>building</td>\n",
       "      <td>assembly_shop</td>\n",
       "      <td>6edd42cc-e753-4ff6-a947-2107cd560710</td>\n",
       "      <td>NaN</td>\n",
       "      <td>instagram_new_adverts</td>\n",
       "    </tr>\n",
       "    <tr>\n",
       "      <th>3</th>\n",
       "      <td>2020-05-04 00:00:16</td>\n",
       "      <td>building</td>\n",
       "      <td>assembly_shop</td>\n",
       "      <td>92c69003-d60a-444a-827f-8cc51bf6bf4c</td>\n",
       "      <td>NaN</td>\n",
       "      <td>facebook_ads</td>\n",
       "    </tr>\n",
       "    <tr>\n",
       "      <th>4</th>\n",
       "      <td>2020-05-04 00:00:35</td>\n",
       "      <td>building</td>\n",
       "      <td>assembly_shop</td>\n",
       "      <td>cdc6bb92-0ccb-4490-9866-ef142f09139d</td>\n",
       "      <td>NaN</td>\n",
       "      <td>yandex_direct</td>\n",
       "    </tr>\n",
       "    <tr>\n",
       "      <th>...</th>\n",
       "      <td>...</td>\n",
       "      <td>...</td>\n",
       "      <td>...</td>\n",
       "      <td>...</td>\n",
       "      <td>...</td>\n",
       "      <td>...</td>\n",
       "    </tr>\n",
       "    <tr>\n",
       "      <th>135634</th>\n",
       "      <td>2020-06-05 00:08:06</td>\n",
       "      <td>building</td>\n",
       "      <td>research_center</td>\n",
       "      <td>f21d179f-1c4b-437e-b9c6-ab1976907195</td>\n",
       "      <td>NaN</td>\n",
       "      <td>instagram_new_adverts</td>\n",
       "    </tr>\n",
       "    <tr>\n",
       "      <th>135635</th>\n",
       "      <td>2020-06-05 02:25:12</td>\n",
       "      <td>finished_stage_1</td>\n",
       "      <td>no_buildings</td>\n",
       "      <td>515c1952-99aa-4bca-a7ea-d0449eb5385a</td>\n",
       "      <td>NaN</td>\n",
       "      <td>yandex_direct</td>\n",
       "    </tr>\n",
       "    <tr>\n",
       "      <th>135636</th>\n",
       "      <td>2020-06-05 08:57:52</td>\n",
       "      <td>building</td>\n",
       "      <td>research_center</td>\n",
       "      <td>ed3e7d02-8a96-4be7-9998-e9813ff9c316</td>\n",
       "      <td>NaN</td>\n",
       "      <td>youtube_channel_reklama</td>\n",
       "    </tr>\n",
       "    <tr>\n",
       "      <th>135637</th>\n",
       "      <td>2020-06-05 12:12:27</td>\n",
       "      <td>finished_stage_1</td>\n",
       "      <td>no_buildings</td>\n",
       "      <td>32572adb-900f-4b5d-a453-1eb1e6d88d8b</td>\n",
       "      <td>NaN</td>\n",
       "      <td>facebook_ads</td>\n",
       "    </tr>\n",
       "    <tr>\n",
       "      <th>135638</th>\n",
       "      <td>2020-06-05 12:32:49</td>\n",
       "      <td>finished_stage_1</td>\n",
       "      <td>no_buildings</td>\n",
       "      <td>f21d179f-1c4b-437e-b9c6-ab1976907195</td>\n",
       "      <td>NaN</td>\n",
       "      <td>instagram_new_adverts</td>\n",
       "    </tr>\n",
       "  </tbody>\n",
       "</table>\n",
       "<p>135639 rows × 6 columns</p>\n",
       "</div>"
      ],
      "text/plain": [
       "            event_datetime             event    building_type  \\\n",
       "0      2020-05-04 00:00:01          building    assembly_shop   \n",
       "1      2020-05-04 00:00:03          building    assembly_shop   \n",
       "2      2020-05-04 00:00:16          building    assembly_shop   \n",
       "3      2020-05-04 00:00:16          building    assembly_shop   \n",
       "4      2020-05-04 00:00:35          building    assembly_shop   \n",
       "...                    ...               ...              ...   \n",
       "135634 2020-06-05 00:08:06          building  research_center   \n",
       "135635 2020-06-05 02:25:12  finished_stage_1     no_buildings   \n",
       "135636 2020-06-05 08:57:52          building  research_center   \n",
       "135637 2020-06-05 12:12:27  finished_stage_1     no_buildings   \n",
       "135638 2020-06-05 12:32:49  finished_stage_1     no_buildings   \n",
       "\n",
       "                                     user_id project_type  \\\n",
       "0       55e92310-cb8e-4754-b622-597e124b03de          NaN   \n",
       "1       c07b1c10-f477-44dc-81dc-ec82254b1347          NaN   \n",
       "2       6edd42cc-e753-4ff6-a947-2107cd560710          NaN   \n",
       "3       92c69003-d60a-444a-827f-8cc51bf6bf4c          NaN   \n",
       "4       cdc6bb92-0ccb-4490-9866-ef142f09139d          NaN   \n",
       "...                                      ...          ...   \n",
       "135634  f21d179f-1c4b-437e-b9c6-ab1976907195          NaN   \n",
       "135635  515c1952-99aa-4bca-a7ea-d0449eb5385a          NaN   \n",
       "135636  ed3e7d02-8a96-4be7-9998-e9813ff9c316          NaN   \n",
       "135637  32572adb-900f-4b5d-a453-1eb1e6d88d8b          NaN   \n",
       "135638  f21d179f-1c4b-437e-b9c6-ab1976907195          NaN   \n",
       "\n",
       "                         source  \n",
       "0       youtube_channel_reklama  \n",
       "1                  facebook_ads  \n",
       "2         instagram_new_adverts  \n",
       "3                  facebook_ads  \n",
       "4                 yandex_direct  \n",
       "...                         ...  \n",
       "135634    instagram_new_adverts  \n",
       "135635            yandex_direct  \n",
       "135636  youtube_channel_reklama  \n",
       "135637             facebook_ads  \n",
       "135638    instagram_new_adverts  \n",
       "\n",
       "[135639 rows x 6 columns]"
      ]
     },
     "execution_count": 37,
     "metadata": {},
     "output_type": "execute_result"
    }
   ],
   "source": [
    "game"
   ]
  },
  {
   "cell_type": "code",
   "execution_count": 38,
   "metadata": {},
   "outputs": [],
   "source": [
    "def percentage(data):\n",
    "    percentage = data[data['event'] == 'finished_stage_1']\n",
    "    percentage= percentage['user_id']\n",
    "    finished_users_perc = data.query('user_id in @percentage')\n",
    "    not_finished_users_perc = data.query('user_id not in @percentage')\n",
    "    num_finished_perc = len(finished_users_perc['user_id'].unique())\n",
    "    num_not_finished_perc = len(not_finished_users_perc['user_id'].unique())\n",
    "    labels = ['Finished Stage 1', 'Not Finished']\n",
    "    sizes = [num_finished_perc, num_not_finished_perc ]\n",
    "    fig1, ax1 = plt.subplots()\n",
    "    ax1.pie(sizes, labels=labels, autopct='%1.1f%%', startangle=90)\n",
    "    ax1.axis('equal')\n",
    "    plt.title('Процент игроков, завершивших 1 уровень')\n",
    "    plt.show()"
   ]
  },
  {
   "cell_type": "code",
   "execution_count": 39,
   "metadata": {},
   "outputs": [],
   "source": [
    "yandex = game.query('source == \"yandex_direct\"')\n",
    "instagram = game.query('source == \"instagram_new_adverts\"')\n",
    "facebook = game.query('source == \"facebook_ads\"')\n",
    "youtube =  game.query('source == \"youtube_channel_reklama\"')"
   ]
  },
  {
   "cell_type": "code",
   "execution_count": 40,
   "metadata": {},
   "outputs": [
    {
     "data": {
      "image/png": "[encoded data removed]",
      "text/plain": [
       "<Figure size 432x288 with 1 Axes>"
      ]
     },
     "metadata": {},
     "output_type": "display_data"
    },
    {
     "data": {
      "image/png": "[encoded data removed]",
      "text/plain": [
       "<Figure size 432x288 with 1 Axes>"
      ]
     },
     "metadata": {},
     "output_type": "display_data"
    },
    {
     "data": {
      "image/png": "[encoded data removed]",
      "text/plain": [
       "<Figure size 432x288 with 1 Axes>"
      ]
     },
     "metadata": {},
     "output_type": "display_data"
    },
    {
     "data": {
      "image/png": "[encoded data removed]",
      "text/plain": [
       "<Figure size 432x288 with 1 Axes>"
      ]
     },
     "metadata": {},
     "output_type": "display_data"
    }
   ],
   "source": [
    "percentage(yandex)\n",
    "percentage(instagram)\n",
    "percentage(facebook)\n",
    "percentage(youtube)"
   ]
  },
  {
   "cell_type": "markdown",
   "metadata": {},
   "source": [
    "**Вывод:** процент завершения уровня существенно не зависит от канала привлечения, мы видим, что проценты крайне близки, что опять же говорит о том, что трафик не отличается по качеству из разных каналов"
   ]
  },
  {
   "cell_type": "code",
   "execution_count": 41,
   "metadata": {},
   "outputs": [],
   "source": [
    "first_event = game_actions.groupby(['user_id']).agg(first_ts = ('event_datetime', 'first')).reset_index()\n",
    "game_actions = game_actions.merge(first_event, how='left', on='user_id')\n",
    "game_actions['first_ts'] = game_actions['first_ts'].dt.date\n",
    "last_event = game_actions.groupby(['user_id']).agg(last_ts = ('event_datetime', 'last')).reset_index()\n",
    "game_actions = game_actions.merge(last_event, how='left', on='user_id')\n",
    "game_actions['last_ts'] = game_actions['last_ts'].dt.date\n",
    "game_actions['cohort_lifetime'] = game_actions['day_event'] - game_actions['first_ts']\n",
    "game_actions['cohort_lifetime'] = game_actions['cohort_lifetime'] / np.timedelta64(1,'D')\n",
    "time_in_game = game_actions.groupby('user_id')['cohort_lifetime'].max().reset_index()\n",
    "time_in_game.columns = ['user_id', 'TiG']\n",
    "game_actions = game_actions.merge(time_in_game, on='user_id')"
   ]
  },
  {
   "cell_type": "code",
   "execution_count": 42,
   "metadata": {
    "scrolled": true
   },
   "outputs": [
    {
     "data": {
      "text/html": [
       "<div>\n",
       "<style scoped>\n",
       "    .dataframe tbody tr th:only-of-type {\n",
       "        vertical-align: middle;\n",
       "    }\n",
       "\n",
       "    .dataframe tbody tr th {\n",
       "        vertical-align: top;\n",
       "    }\n",
       "\n",
       "    .dataframe thead th {\n",
       "        text-align: right;\n",
       "    }\n",
       "</style>\n",
       "<table border=\"1\" class=\"dataframe\">\n",
       "  <thead>\n",
       "    <tr style=\"text-align: right;\">\n",
       "      <th></th>\n",
       "      <th>event_datetime</th>\n",
       "      <th>event</th>\n",
       "      <th>building_type</th>\n",
       "      <th>user_id</th>\n",
       "      <th>project_type</th>\n",
       "      <th>day_event</th>\n",
       "      <th>first_ts</th>\n",
       "      <th>last_ts</th>\n",
       "      <th>cohort_lifetime</th>\n",
       "      <th>TiG</th>\n",
       "    </tr>\n",
       "  </thead>\n",
       "  <tbody>\n",
       "    <tr>\n",
       "      <th>0</th>\n",
       "      <td>2020-05-04 00:00:01</td>\n",
       "      <td>building</td>\n",
       "      <td>assembly_shop</td>\n",
       "      <td>55e92310-cb8e-4754-b622-597e124b03de</td>\n",
       "      <td>NaN</td>\n",
       "      <td>2020-05-04</td>\n",
       "      <td>2020-05-04</td>\n",
       "      <td>2020-05-10</td>\n",
       "      <td>0.0</td>\n",
       "      <td>6.0</td>\n",
       "    </tr>\n",
       "    <tr>\n",
       "      <th>1</th>\n",
       "      <td>2020-05-05 05:20:15</td>\n",
       "      <td>building</td>\n",
       "      <td>assembly_shop</td>\n",
       "      <td>55e92310-cb8e-4754-b622-597e124b03de</td>\n",
       "      <td>NaN</td>\n",
       "      <td>2020-05-05</td>\n",
       "      <td>2020-05-04</td>\n",
       "      <td>2020-05-10</td>\n",
       "      <td>1.0</td>\n",
       "      <td>6.0</td>\n",
       "    </tr>\n",
       "    <tr>\n",
       "      <th>2</th>\n",
       "      <td>2020-05-05 19:24:02</td>\n",
       "      <td>building</td>\n",
       "      <td>assembly_shop</td>\n",
       "      <td>55e92310-cb8e-4754-b622-597e124b03de</td>\n",
       "      <td>NaN</td>\n",
       "      <td>2020-05-05</td>\n",
       "      <td>2020-05-04</td>\n",
       "      <td>2020-05-10</td>\n",
       "      <td>1.0</td>\n",
       "      <td>6.0</td>\n",
       "    </tr>\n",
       "    <tr>\n",
       "      <th>3</th>\n",
       "      <td>2020-05-05 20:59:19</td>\n",
       "      <td>building</td>\n",
       "      <td>assembly_shop</td>\n",
       "      <td>55e92310-cb8e-4754-b622-597e124b03de</td>\n",
       "      <td>NaN</td>\n",
       "      <td>2020-05-05</td>\n",
       "      <td>2020-05-04</td>\n",
       "      <td>2020-05-10</td>\n",
       "      <td>1.0</td>\n",
       "      <td>6.0</td>\n",
       "    </tr>\n",
       "    <tr>\n",
       "      <th>4</th>\n",
       "      <td>2020-05-06 00:52:56</td>\n",
       "      <td>building</td>\n",
       "      <td>assembly_shop</td>\n",
       "      <td>55e92310-cb8e-4754-b622-597e124b03de</td>\n",
       "      <td>NaN</td>\n",
       "      <td>2020-05-06</td>\n",
       "      <td>2020-05-04</td>\n",
       "      <td>2020-05-10</td>\n",
       "      <td>2.0</td>\n",
       "      <td>6.0</td>\n",
       "    </tr>\n",
       "  </tbody>\n",
       "</table>\n",
       "</div>"
      ],
      "text/plain": [
       "       event_datetime     event  building_type  \\\n",
       "0 2020-05-04 00:00:01  building  assembly_shop   \n",
       "1 2020-05-05 05:20:15  building  assembly_shop   \n",
       "2 2020-05-05 19:24:02  building  assembly_shop   \n",
       "3 2020-05-05 20:59:19  building  assembly_shop   \n",
       "4 2020-05-06 00:52:56  building  assembly_shop   \n",
       "\n",
       "                                user_id project_type   day_event    first_ts  \\\n",
       "0  55e92310-cb8e-4754-b622-597e124b03de          NaN  2020-05-04  2020-05-04   \n",
       "1  55e92310-cb8e-4754-b622-597e124b03de          NaN  2020-05-05  2020-05-04   \n",
       "2  55e92310-cb8e-4754-b622-597e124b03de          NaN  2020-05-05  2020-05-04   \n",
       "3  55e92310-cb8e-4754-b622-597e124b03de          NaN  2020-05-05  2020-05-04   \n",
       "4  55e92310-cb8e-4754-b622-597e124b03de          NaN  2020-05-06  2020-05-04   \n",
       "\n",
       "      last_ts  cohort_lifetime  TiG  \n",
       "0  2020-05-10              0.0  6.0  \n",
       "1  2020-05-10              1.0  6.0  \n",
       "2  2020-05-10              1.0  6.0  \n",
       "3  2020-05-10              1.0  6.0  \n",
       "4  2020-05-10              2.0  6.0  "
      ]
     },
     "execution_count": 42,
     "metadata": {},
     "output_type": "execute_result"
    }
   ],
   "source": [
    "game_actions.head()"
   ]
  },
  {
   "cell_type": "code",
   "execution_count": 43,
   "metadata": {},
   "outputs": [
    {
     "data": {
      "text/plain": [
       "12.0"
      ]
     },
     "execution_count": 43,
     "metadata": {},
     "output_type": "execute_result"
    }
   ],
   "source": [
    "level_finish = game_actions.query('event == \"finished_stage_1\"')\n",
    "level_finish['TiG'].median()"
   ]
  },
  {
   "cell_type": "code",
   "execution_count": 44,
   "metadata": {},
   "outputs": [
    {
     "data": {
      "text/plain": [
       "11.0"
      ]
     },
     "execution_count": 44,
     "metadata": {},
     "output_type": "execute_result"
    }
   ],
   "source": [
    "level_not_finish = game_actions.query('event != \"finished_stage_1\"')\n",
    "level_not_finish['TiG'].median()"
   ]
  },
  {
   "cell_type": "markdown",
   "metadata": {},
   "source": [
    "**Вывод:** Игроки, которые завершили первый уровень, проводили медианно 12 дней в игре, в то время как те, кто не завершил 1 уровень, проводили в игре медианно 11 дней, то есть на 1 день меньше. Скорее всего, игроки просто уставали проходить 1 уровень и не желали продолжать играть дальше"
   ]
  },
  {
   "cell_type": "code",
   "execution_count": 45,
   "metadata": {},
   "outputs": [],
   "source": [
    "cohorts = game_actions.groupby(['first_ts','cohort_lifetime']).agg({'user_id':'nunique'}).reset_index()\n",
    "cohorts_0 = cohorts[cohorts['cohort_lifetime'] == 0][['first_ts', 'user_id']]\n",
    "cohorts_0.columns = ['first_ts', 'uid']\n",
    "cohorts = cohorts.merge(cohorts_0,on='first_ts') \n",
    "cohorts['retention'] = cohorts['user_id'] / cohorts['uid'] \n",
    "retention_pivot = cohorts.pivot_table(index='first_ts',columns='cohort_lifetime',values='retention',aggfunc='sum')"
   ]
  },
  {
   "cell_type": "code",
   "execution_count": 46,
   "metadata": {
    "scrolled": false
   },
   "outputs": [
    {
     "data": {
      "image/png": "[encoded data removed]",
      "text/plain": [
       "<Figure size 2520x360 with 2 Axes>"
      ]
     },
     "metadata": {
      "needs_background": "light"
     },
     "output_type": "display_data"
    }
   ],
   "source": [
    "plt.figure(figsize=(35, 5))\n",
    "sns.heatmap(\n",
    "    retention_pivot,\n",
    "    annot=True, \n",
    "    fmt='.1%',  \n",
    ")\n",
    "plt.title('Тепловая карта удержания')\n",
    "plt.show()"
   ]
  },
  {
   "cell_type": "markdown",
   "metadata": {},
   "source": [
    "**Вывод:** если взять довольно стандартные дни удержания (3,7,14,30 дней), на которые чаще всего обращают внимание при анализе когорт, то можно выявить следующие факты:\n",
    "\n",
    " - когорты 4-7 мая умеют удержания 3 дня выше 60%, что является высоким показателем, игроки в данных когортах были серьезно заинтересованы в игре\n",
    " \n",
    " \n",
    " \n",
    " - когорта от 4 мая имеет наибольшие retention rate 7,14 дня, однако к 14 дню % удержанных во всех когортах невысокий (от 10 до 14%)\n",
    " \n",
    " \n",
    " \n",
    " - к 30 дню удержание стремится к 0, то есть через месяц пользователи перестают окончательно проходить 1 уровень игры (это связано с тем, что было выяснено ранее - медианное время прохождения игры 12 дней)\n",
    " \n",
    " \n",
    " \n",
    " - Стоит отметить, что retention расчитан для 1 уровня, данный показатель используется больше для подтверждения правильности собственных расчетов. Особо на него обращать внимание не стоит в рамках анализа поведения игроков внутри игры"
   ]
  },
  {
   "cell_type": "markdown",
   "metadata": {},
   "source": [
    "**ИТОГОВЫЙ ВЫВОД**\n",
    "\n",
    "В рамках исследовательского анализа данных были получены следующие результаты:\n",
    "\n",
    " - За период с 4 по 10 мая в игру поиграло 13576 юзеров, которые совершили 135639 события (3 уникальных). На одного игрока медианно приходится 10 событий;\n",
    " \n",
    " \n",
    " - Большинство игроков не завершили 1 уровень, только 42.8% игроков дошли до конца 1 уровня;\n",
    " \n",
    " \n",
    " - Игроки, которые выбрали стратегию завершения 1 уровня с помощью проекта, в основном, строят космодромы (46.4%);\n",
    " \n",
    " \n",
    " \n",
    " - Больше всего игроков пришли из Яндекс.Директ (4817), в который вложили больше всего маркетинговых ресурсов (2233 у.е.), при этом данных канал является 2 по эффективности после Facebook_ads по показателю стоимости привлечения 1 игрока;\n",
    " \n",
    " \n",
    " \n",
    " - Наименее эффективным маркетингвым каналом привлечения можно назвать facebook_ads;\n",
    " \n",
    " \n",
    " - В среднем ежедневно в игру заходтя 2885 игроков, наибольшая активность 10 мая, затем количество активных игроков снижалось ежедневно;\n",
    "  \n",
    "  \n",
    "  \n",
    " - Показатель Retention находится на довольно высоком уровне до 12 дня у всех когорт (медианное время прохождения 1 уровня), затем показатель снижается и к 30 дню стремится к 0\n",
    " \n",
    " \n",
    " - Однако показатель Retention расчитан исключительно для игроков 1 уровня с целью подтверждения правильности расчета о медианном времени прохождения 1 уровня игры - при принятии решений на него можно не полагаться\n",
    " \n",
    " \n",
    " - Среднее количество построек, а также % прохождения 1 уровня не отличается по каналам привлечения, можно сделать вывод о том, что трафик в каждом канале одинаково мотивирован\n",
    " \n",
    " \n",
    "Переходим к анализу гипотез"
   ]
  },
  {
   "cell_type": "markdown",
   "metadata": {},
   "source": [
    "# ШАГ 3: ПРОВЕРКА ГИПОТЕЗ"
   ]
  },
  {
   "cell_type": "markdown",
   "metadata": {},
   "source": [
    "В данном разделе будет проверено 2 гипотезы\n",
    "\n",
    "1 - существует различие в среднем времени прохождения 1 уровня по способу его прохождения : через проект или через победу над врагом\n",
    "    \n",
    "2 - существует различие в среднем времени прохождения 1 уровня в зависимости от источника привлечения"
   ]
  },
  {
   "cell_type": "markdown",
   "metadata": {},
   "source": [
    "1 гипотеза - так как нам необходимо проверить есть ли статистическое различие в среднем врмени прохождения 1 уровня, мы будем использовать t-тест (то есть проверять гипотезу о равенстве средних двух генеральных совокупностей)\n",
    "\n",
    "\n",
    "2 гипотеза - в данном случае, так как у нас 2 и более выборки, чтобы не делать несколько отдельных t-тестов, возспользуемся тестом ANOVA"
   ]
  },
  {
   "cell_type": "markdown",
   "metadata": {},
   "source": [
    "Переходим к проверке 1 гипотезы:\n",
    "    \n",
    "Н0: Среднее время прохождения 1 уровня не зависит от способа его прохождения\n",
    "\n",
    "\n",
    "\n",
    "Н1: Среднее время прохождения 1 уровня зависит от способа его прохождения"
   ]
  },
  {
   "cell_type": "code",
   "execution_count": 47,
   "metadata": {
    "scrolled": false
   },
   "outputs": [
    {
     "name": "stderr",
     "output_type": "stream",
     "text": [
      "/tmp/ipykernel_63/1651645556.py:2: SettingWithCopyWarning: \n",
      "A value is trying to be set on a copy of a slice from a DataFrame.\n",
      "Try using .loc[row_indexer,col_indexer] = value instead\n",
      "\n",
      "See the caveats in the documentation: https://pandas.pydata.org/pandas-docs/stable/user_guide/indexing.html#returning-a-view-versus-a-copy\n",
      "  pve['tig'] = pve['TiG']*24\n",
      "/tmp/ipykernel_63/1651645556.py:9: SettingWithCopyWarning: \n",
      "A value is trying to be set on a copy of a slice from a DataFrame.\n",
      "Try using .loc[row_indexer,col_indexer] = value instead\n",
      "\n",
      "See the caveats in the documentation: https://pandas.pydata.org/pandas-docs/stable/user_guide/indexing.html#returning-a-view-versus-a-copy\n",
      "  pvp['tig'] = pvp['TiG']*24\n"
     ]
    },
    {
     "data": {
      "text/plain": [
       "321.5176848874598"
      ]
     },
     "metadata": {},
     "output_type": "display_data"
    },
    {
     "data": {
      "text/plain": [
       "265.4031890660592"
      ]
     },
     "metadata": {},
     "output_type": "display_data"
    }
   ],
   "source": [
    "pve = game_actions.query('project_type == \"satellite_orbital_assembly\"')\n",
    "pve['tig'] = pve['TiG']*24\n",
    "pro = pve['user_id'].unique()\n",
    "pas = game_actions[game_actions['event'] == 'finished_stage_1']\n",
    "pas = pas['user_id'].unique()\n",
    "not_in_pro = np.setdiff1d(pas, pro)\n",
    "pvr= game_actions.query('user_id in @not_in_pro')\n",
    "pvp = pvr.query('event == \"finished_stage_1\"')\n",
    "pvp['tig'] = pvp['TiG']*24\n",
    "display(pve['tig'].mean())\n",
    "display(pvp['tig'].mean())"
   ]
  },
  {
   "cell_type": "code",
   "execution_count": 48,
   "metadata": {},
   "outputs": [
    {
     "data": {
      "image/png": "[encoded data removed]",
      "text/plain": [
       "<Figure size 360x360 with 1 Axes>"
      ]
     },
     "metadata": {
      "needs_background": "light"
     },
     "output_type": "display_data"
    }
   ],
   "source": [
    "sns.displot(pve['tig'], kind='kde');"
   ]
  },
  {
   "cell_type": "code",
   "execution_count": 49,
   "metadata": {},
   "outputs": [
    {
     "data": {
      "image/png": "[encoded data removed]",
      "text/plain": [
       "<Figure size 360x360 with 1 Axes>"
      ]
     },
     "metadata": {
      "needs_background": "light"
     },
     "output_type": "display_data"
    }
   ],
   "source": [
    "sns.displot(pvp['tig'], kind='kde');"
   ]
  },
  {
   "cell_type": "markdown",
   "metadata": {},
   "source": [
    "**Вывод:** Данные распределены нормально (близко к нормальному)"
   ]
  },
  {
   "cell_type": "code",
   "execution_count": 50,
   "metadata": {},
   "outputs": [
    {
     "name": "stdout",
     "output_type": "stream",
     "text": [
      "Всего в группах:  5817\n"
     ]
    }
   ],
   "source": [
    "#Код ревьюера\n",
    "print(\"Всего в группах: \", len(pve) + len(pvp))"
   ]
  },
  {
   "cell_type": "code",
   "execution_count": 51,
   "metadata": {},
   "outputs": [
    {
     "name": "stdout",
     "output_type": "stream",
     "text": [
      "p-значение: 4.363370007995489e-96\n",
      "Отвергаем нулевую гипотезу\n"
     ]
    }
   ],
   "source": [
    "alpha = 0.05\n",
    "\n",
    "results = st.ttest_ind(pve['tig'], pvp['tig'])\n",
    "\n",
    "print('p-значение:', results.pvalue)\n",
    "\n",
    "if results.pvalue < alpha:\n",
    "    print('Отвергаем нулевую гипотезу')\n",
    "else:\n",
    "    print('Не получилось отвергнуть нулевую гипотезу') "
   ]
  },
  {
   "cell_type": "markdown",
   "metadata": {},
   "source": [
    "**Вывод:** Значение Р-value больше установленного уровня значимости alpha, следовательно, мы отклоняем нулевую гипотезу, и приходим к выводу о том, что среднее время прохождения 1 уровеня зависит от способа его прохождения. Среднее время прохождения уровня через победу над врагом - 265.4 часа, а среднее время прохождения уровня 1 через реализацию проекта - 321.5 часов\n",
    "\n",
    "\n",
    "Переходим к проверке 2 гипотезы"
   ]
  },
  {
   "cell_type": "markdown",
   "metadata": {},
   "source": [
    "Н0: Среднее время прохождения 1 уровня не зависит от канала привлечения игроков\n",
    "\n",
    "\n",
    "\n",
    "Н1: Среднее время прохождения 1 уровня зависит от от канала привлечения игроков"
   ]
  },
  {
   "cell_type": "code",
   "execution_count": 52,
   "metadata": {},
   "outputs": [],
   "source": [
    "level_source = game_actions.merge(game, how = 'left', on = 'user_id')\n",
    "level_source = level_source[level_source['event_x'] == 'finished_stage_1']\n",
    "level_source = level_source[level_source['event_y'] == 'finished_stage_1']"
   ]
  },
  {
   "cell_type": "markdown",
   "metadata": {},
   "source": [
    "Как было сказано ранее, в данном случае, для упрощения анализа, будем использовать тест ANOVA"
   ]
  },
  {
   "cell_type": "code",
   "execution_count": 53,
   "metadata": {},
   "outputs": [],
   "source": [
    "yandex = level_source.query('source == \"yandex_direct\"')\n",
    "instagram = level_source.query('source == \"instagram_new_adverts\"')\n",
    "facebook = level_source.query('source == \"facebook_ads\"')\n",
    "youtube =  level_source.query('source == \"youtube_channel_reklama\"')\n",
    "yandex = yandex.groupby('user_id')['TiG'].mean()\n",
    "instagram = instagram.groupby('user_id')['TiG'].mean()\n",
    "facebook = facebook.groupby('user_id')['TiG'].mean()\n",
    "youtube = youtube.groupby('user_id')['TiG'].mean()"
   ]
  },
  {
   "cell_type": "code",
   "execution_count": 54,
   "metadata": {},
   "outputs": [],
   "source": [
    "\n",
    "alpha = 0.05\n",
    "def t_test(t, p):\n",
    "\n",
    "\n",
    "    results = stats.ttest_ind(t, p, equal_var =False)\n",
    "\n",
    "    print('p-значение: ', results.pvalue)\n",
    "\n",
    "    if results.pvalue < alpha:\n",
    "        print('Отвергаем нулевую гипотезу')\n",
    "    else:\n",
    "        print(\n",
    "            'Не получилось отвергнуть нулевую гипотезу'\n",
    "        )\n",
    "    \n",
    "    print('\\n')"
   ]
  },
  {
   "cell_type": "code",
   "execution_count": 55,
   "metadata": {},
   "outputs": [
    {
     "name": "stdout",
     "output_type": "stream",
     "text": [
      "p-значение:  0.8031910077867127\n",
      "Не получилось отвергнуть нулевую гипотезу\n",
      "\n",
      "\n",
      "p-значение:  0.5146454362409159\n",
      "Не получилось отвергнуть нулевую гипотезу\n",
      "\n",
      "\n",
      "p-значение:  0.4804264366633959\n",
      "Не получилось отвергнуть нулевую гипотезу\n",
      "\n",
      "\n",
      "p-значение:  0.7397682743804739\n",
      "Не получилось отвергнуть нулевую гипотезу\n",
      "\n",
      "\n",
      "p-значение:  0.9249928347636449\n",
      "Не получилось отвергнуть нулевую гипотезу\n",
      "\n",
      "\n",
      "p-значение:  0.6874421723178624\n",
      "Не получилось отвергнуть нулевую гипотезу\n",
      "\n",
      "\n"
     ]
    }
   ],
   "source": [
    "t_test (yandex,facebook)\n",
    "t_test (yandex,instagram)\n",
    "t_test (yandex,youtube)\n",
    "t_test (instagram,facebook)\n",
    "t_test (instagram,youtube)\n",
    "t_test (facebook,youtube)"
   ]
  },
  {
   "cell_type": "markdown",
   "metadata": {},
   "source": [
    "**Вывод:** Значение Р-value меньше установленного уровня значимости alpha, следовательно, мы не отклоняем нулевую гипотезу, и приходим к выводу о том, что среднее время прохождения 1 уровеня не зависит от канала привлечения пользователей. Это означает, что каналы дают одинаковый по качеству трафик."
   ]
  },
  {
   "cell_type": "markdown",
   "metadata": {},
   "source": [
    "**ИТОГОВЫЙ ВЫВОД:** нами дважды был проведен t-test для выявления различный в среднем времени прохождения 1 уровня разных игроков. 1 исследование было появящено выявлению зависимсоти в среднем времени прохождения 1 уровня игроками с разными стратегиями. Результат оказался следующим: среднее время прохождения 1 уровня зависит от выбранной игроком стратегии (pvp стратегия требует значительно меньшее время на прохождение 1 уровня).\n",
    "\n",
    "\n",
    "\n",
    "2 гипотеза была нацелена на выявления различий в среднем времени прохождения 1 уровня у игроков, пришедших с разных каналов. Было получено, что нет разницы в среднем времении прохождения 1 уровня в зависимости от канала привлечения. Таким образом, можно сказать, что качество трафика (игроков) не зависит от маркетингового канала (канала привлечения)"
   ]
  },
  {
   "cell_type": "markdown",
   "metadata": {},
   "source": [
    "# ВЫВОДЫ И РЕКОМЕНДАЦИИ"
   ]
  },
  {
   "cell_type": "markdown",
   "metadata": {},
   "source": [
    "Нами был проведен анализ пользователей и событий игры \"Космические братья\". Информация содержится о пользователях, которые скачали игру в период с 4 по 10 мая 2020 года. Помимо информации с логами игры у нас есть информация о каналах привлечения пользователей, а также о маркетинговых тратах.\n",
    "\n",
    "\n",
    "На первом этапе данные были загружены и изучены. После этого необходимо было данные обработать, так как в них присутсвовали ошибки, такие как пропуски данных, дубликаты, неверный формат данных. Пропуски были заполнены, исходя из логики данных пропусков, дубликат был удален, формат данных заменен на верный.\n",
    "\n",
    "\n",
    "На следующем этапе была проведен исследовательский анализ данных. Было выялвено следующее:\n",
    "\n",
    " - В датасете имеется информация о 13576 уникальных пользователя, которые с 4-10 марта совершили 135639 событий (уникальных 3 события). \n",
    " \n",
    " \n",
    " \n",
    " - В основном, игроки использовали для завершения 1 уровня победу над врагом, при этом большинство игроков еще не завершили 1 уровень.\n",
    " \n",
    " \n",
    " \n",
    " - Те, игроки, которые выбрали стратегию \"pve\", в основном, строят космодромы.\n",
    " \n",
    " \n",
    " \n",
    " - Большинство игроков пришли из Яндекс.Директа (4817 юзеров)\n",
    " \n",
    " \n",
    " \n",
    " - Наименьшее число пришло из канала youtube_channel_reklama (2686 юзеров)\n",
    " \n",
    " \n",
    " \n",
    " - Наибольшая суммарная стоимость затрат на привлечение пользователей у канала - yandex_direct, минимальная у youtube_channel_reklama. \n",
    " \n",
    " \n",
    " \n",
    " - Видно, что количество привлеченных юзеров кореллирует с суммарной стоимостью затрат на привлечение в каждом из каналов трафика. \n",
    " \n",
    " \n",
    " \n",
    " - Более того, рассчитав cac, мы получили, что Яндекс.Директ при его высокой эффективности обладает одной из наименьших стоимостей привлечения юзеров\n",
    " \n",
    " \n",
    " \n",
    " - Пик активных пользователей приложения по дням приходится как раз на 4-10 мая, когда пользователи только начинают использовать приложение), далее наблюдается существенное снижение активности.\n",
    " \n",
    " \n",
    " \n",
    " - Более того, в среднем, ежедневно игрой пользуются 2884 уникальных пользователя\n",
    " \n",
    " \n",
    " \n",
    " - Игроки, которые завершили первый уровень, проводили медианно 12 дней в игре, в то время как те, кто не завершил 1 уровень, проводили в игре медианно 11 дней, то есть на 1 день меньше. \n",
    " \n",
    " \n",
    " \n",
    " - Скорее всего, игроки просто уставали проходить 1 уровень и не желали продолжать играть дальше\n",
    " \n",
    " \n",
    " \n",
    " - Когорты 4-7 мая умеют удержания 3 дня выше 60%, что является высоким показателем, игроки в данных когортах были серьезно заинтересованы в прохождении 1 уровня)\n",
    " \n",
    "  \n",
    " \n",
    " -  Нами дважды был проведен t-test для выявления различный в среднем времени прохождения 1 уровня разных игроков.\n",
    " \n",
    " \n",
    " \n",
    " - Среднее время прохождения 1 уровня зависит от выбранной игроком стратегии (pvp стратегия требует значительно меньшее время на прохождение 1 уровня).\n",
    " \n",
    " \n",
    " \n",
    " - Нет разницы в среднем времении прохождения 1 уровня в зависимости от канала привлечения. Таким образом, можно сказать, что качество трафика (игроков) не зависит от маркетингового канала (канала привлечения)\n",
    " \n",
    " \n",
    " \n",
    " \n",
    "\n",
    "**Рекомендации**: необходимо отказаться от дорогого и неэффективного канала (Facebook_ads) в пользу либо увеличения трат на канал Яндекс.Директ или на канал Youtube (так как он недорогой с точки зрения cac, но по эффективности не уступает Facebook).\n",
    "\n",
    "Более того, стоит доработать механику прохождения 1 уровня через реализацию проекта, видно, что у игроков возникают определенные сложности и в конце пропадает продолжать игру дальше.\n",
    "\n",
    "\n",
    "\n"
   ]
  },
  {
   "cell_type": "markdown",
   "metadata": {},
   "source": [
    "Ссылка на дашборд: https://public.tableau.com/views/YandexProject_Minaev/Dashboard1?:language=en-US&publish=yes&:display_count=n&:origin=viz_share_link"
   ]
  },
  {
   "cell_type": "code",
   "execution_count": null,
   "metadata": {},
   "outputs": [],
   "source": []
  }
 ],
 "metadata": {
  "ExecuteTimeLog": [
   {
    "duration": 947,
    "start_time": "2023-02-23T12:53:55.679Z"
   },
   {
    "duration": 1058,
    "start_time": "2023-02-23T13:01:00.016Z"
   },
   {
    "duration": 447,
    "start_time": "2023-02-23T13:03:46.318Z"
   },
   {
    "duration": 408,
    "start_time": "2023-02-23T13:04:21.830Z"
   },
   {
    "duration": 4,
    "start_time": "2023-02-23T14:07:47.568Z"
   },
   {
    "duration": 10,
    "start_time": "2023-02-23T14:07:52.195Z"
   },
   {
    "duration": 17,
    "start_time": "2023-02-23T14:08:02.298Z"
   },
   {
    "duration": 10,
    "start_time": "2023-02-23T14:08:17.927Z"
   },
   {
    "duration": 18,
    "start_time": "2023-02-23T14:08:48.528Z"
   },
   {
    "duration": 36,
    "start_time": "2023-02-23T14:09:04.837Z"
   },
   {
    "duration": 50,
    "start_time": "2023-02-23T14:10:03.068Z"
   },
   {
    "duration": 195,
    "start_time": "2023-02-23T14:10:08.617Z"
   },
   {
    "duration": 20,
    "start_time": "2023-02-23T14:10:33.278Z"
   },
   {
    "duration": 34,
    "start_time": "2023-02-23T14:11:02.168Z"
   },
   {
    "duration": 8,
    "start_time": "2023-02-23T14:11:16.643Z"
   },
   {
    "duration": 10,
    "start_time": "2023-02-23T14:11:29.188Z"
   },
   {
    "duration": 69,
    "start_time": "2023-02-23T14:11:56.547Z"
   },
   {
    "duration": 9,
    "start_time": "2023-02-23T14:12:28.338Z"
   },
   {
    "duration": 10,
    "start_time": "2023-02-23T14:12:48.216Z"
   },
   {
    "duration": 39,
    "start_time": "2023-02-23T14:13:06.007Z"
   },
   {
    "duration": 108,
    "start_time": "2023-02-23T14:14:01.869Z"
   },
   {
    "duration": 23,
    "start_time": "2023-02-23T14:15:58.308Z"
   },
   {
    "duration": 12,
    "start_time": "2023-02-23T14:16:25.998Z"
   },
   {
    "duration": 31,
    "start_time": "2023-02-23T14:18:31.743Z"
   },
   {
    "duration": 641,
    "start_time": "2023-02-23T14:19:06.378Z"
   },
   {
    "duration": 235,
    "start_time": "2023-02-23T14:19:14.610Z"
   },
   {
    "duration": 301,
    "start_time": "2023-02-23T14:20:10.495Z"
   },
   {
    "duration": 15,
    "start_time": "2023-02-23T14:27:15.927Z"
   },
   {
    "duration": 9,
    "start_time": "2023-02-23T14:28:01.989Z"
   },
   {
    "duration": 21,
    "start_time": "2023-02-23T14:28:19.068Z"
   },
   {
    "duration": 16,
    "start_time": "2023-02-23T14:31:14.079Z"
   },
   {
    "duration": 13,
    "start_time": "2023-02-23T14:31:49.219Z"
   },
   {
    "duration": 11,
    "start_time": "2023-02-23T14:33:33.032Z"
   },
   {
    "duration": 13,
    "start_time": "2023-02-23T14:34:35.148Z"
   },
   {
    "duration": 12,
    "start_time": "2023-02-23T14:34:52.776Z"
   },
   {
    "duration": 24,
    "start_time": "2023-02-23T14:35:07.939Z"
   },
   {
    "duration": 74,
    "start_time": "2023-02-23T14:37:33.228Z"
   },
   {
    "duration": 20,
    "start_time": "2023-02-23T14:40:39.818Z"
   },
   {
    "duration": 12,
    "start_time": "2023-02-23T14:41:33.305Z"
   },
   {
    "duration": 29,
    "start_time": "2023-02-23T14:42:28.186Z"
   },
   {
    "duration": 72,
    "start_time": "2023-02-23T14:44:02.986Z"
   },
   {
    "duration": 84,
    "start_time": "2023-02-23T14:46:06.889Z"
   },
   {
    "duration": 71,
    "start_time": "2023-02-23T14:46:24.338Z"
   },
   {
    "duration": 20,
    "start_time": "2023-02-23T14:48:34.191Z"
   },
   {
    "duration": 3,
    "start_time": "2023-02-23T14:49:09.318Z"
   },
   {
    "duration": 68,
    "start_time": "2023-02-23T14:59:29.171Z"
   },
   {
    "duration": 51,
    "start_time": "2023-02-23T17:06:49.441Z"
   },
   {
    "duration": 1488,
    "start_time": "2023-02-23T17:07:00.611Z"
   },
   {
    "duration": 741,
    "start_time": "2023-02-23T17:07:02.102Z"
   },
   {
    "duration": 22,
    "start_time": "2023-02-23T17:07:02.844Z"
   },
   {
    "duration": 79,
    "start_time": "2023-02-23T17:07:02.867Z"
   },
   {
    "duration": 43,
    "start_time": "2023-02-23T17:07:02.948Z"
   },
   {
    "duration": 119,
    "start_time": "2023-02-23T17:07:02.993Z"
   },
   {
    "duration": 51,
    "start_time": "2023-02-23T17:07:03.114Z"
   },
   {
    "duration": 20,
    "start_time": "2023-02-23T17:07:03.167Z"
   },
   {
    "duration": 11,
    "start_time": "2023-02-23T17:07:03.189Z"
   },
   {
    "duration": 25,
    "start_time": "2023-02-23T17:07:03.201Z"
   },
   {
    "duration": 12,
    "start_time": "2023-02-23T17:07:03.246Z"
   },
   {
    "duration": 10,
    "start_time": "2023-02-23T17:07:03.260Z"
   },
   {
    "duration": 12,
    "start_time": "2023-02-23T17:07:03.272Z"
   },
   {
    "duration": 13,
    "start_time": "2023-02-23T17:07:03.286Z"
   },
   {
    "duration": 53,
    "start_time": "2023-02-23T17:07:03.301Z"
   },
   {
    "duration": 20,
    "start_time": "2023-02-23T17:07:03.356Z"
   },
   {
    "duration": 10,
    "start_time": "2023-02-23T17:07:03.378Z"
   },
   {
    "duration": 27,
    "start_time": "2023-02-23T17:07:03.390Z"
   },
   {
    "duration": 93,
    "start_time": "2023-02-23T17:07:03.419Z"
   },
   {
    "duration": 84,
    "start_time": "2023-02-23T17:07:03.513Z"
   },
   {
    "duration": 19,
    "start_time": "2023-02-23T17:07:03.599Z"
   },
   {
    "duration": 61,
    "start_time": "2023-02-23T17:07:03.620Z"
   },
   {
    "duration": 27,
    "start_time": "2023-02-23T17:07:13.816Z"
   },
   {
    "duration": 36,
    "start_time": "2023-02-23T17:07:20.441Z"
   },
   {
    "duration": 17,
    "start_time": "2023-02-23T17:08:02.704Z"
   },
   {
    "duration": 10,
    "start_time": "2023-02-23T17:08:17.433Z"
   },
   {
    "duration": 10,
    "start_time": "2023-02-23T17:10:08.063Z"
   },
   {
    "duration": 28,
    "start_time": "2023-02-23T17:10:22.561Z"
   },
   {
    "duration": 39,
    "start_time": "2023-02-23T17:13:48.913Z"
   },
   {
    "duration": 38,
    "start_time": "2023-02-23T17:13:56.881Z"
   },
   {
    "duration": 103,
    "start_time": "2023-02-23T17:16:58.784Z"
   },
   {
    "duration": 17,
    "start_time": "2023-02-23T17:17:12.546Z"
   },
   {
    "duration": 54,
    "start_time": "2023-02-23T17:17:29.673Z"
   },
   {
    "duration": 148,
    "start_time": "2023-02-23T17:17:49.725Z"
   },
   {
    "duration": 12,
    "start_time": "2023-02-23T17:19:19.403Z"
   },
   {
    "duration": 226,
    "start_time": "2023-02-23T17:19:37.700Z"
   },
   {
    "duration": 211,
    "start_time": "2023-02-23T17:19:47.703Z"
   },
   {
    "duration": 226,
    "start_time": "2023-02-23T17:19:59.004Z"
   },
   {
    "duration": 18,
    "start_time": "2023-02-23T17:26:27.445Z"
   },
   {
    "duration": 51,
    "start_time": "2023-02-23T17:26:39.013Z"
   },
   {
    "duration": 181,
    "start_time": "2023-02-23T17:26:57.621Z"
   },
   {
    "duration": 49,
    "start_time": "2023-02-23T17:28:53.931Z"
   },
   {
    "duration": 24,
    "start_time": "2023-02-23T17:29:11.715Z"
   },
   {
    "duration": 18,
    "start_time": "2023-02-23T17:32:09.661Z"
   },
   {
    "duration": 9,
    "start_time": "2023-02-23T17:38:43.912Z"
   },
   {
    "duration": 1195,
    "start_time": "2023-02-23T17:38:49.905Z"
   },
   {
    "duration": 281,
    "start_time": "2023-02-23T17:38:51.103Z"
   },
   {
    "duration": 20,
    "start_time": "2023-02-23T17:38:51.386Z"
   },
   {
    "duration": 62,
    "start_time": "2023-02-23T17:38:51.407Z"
   },
   {
    "duration": 38,
    "start_time": "2023-02-23T17:38:51.472Z"
   },
   {
    "duration": 107,
    "start_time": "2023-02-23T17:38:51.512Z"
   },
   {
    "duration": 50,
    "start_time": "2023-02-23T17:38:51.621Z"
   },
   {
    "duration": 15,
    "start_time": "2023-02-23T17:38:51.673Z"
   },
   {
    "duration": 11,
    "start_time": "2023-02-23T17:38:51.689Z"
   },
   {
    "duration": 31,
    "start_time": "2023-02-23T17:38:51.701Z"
   },
   {
    "duration": 21,
    "start_time": "2023-02-23T17:38:51.733Z"
   },
   {
    "duration": 12,
    "start_time": "2023-02-23T17:38:51.756Z"
   },
   {
    "duration": 11,
    "start_time": "2023-02-23T17:38:51.770Z"
   },
   {
    "duration": 20,
    "start_time": "2023-02-23T17:38:51.783Z"
   },
   {
    "duration": 41,
    "start_time": "2023-02-23T17:38:51.805Z"
   },
   {
    "duration": 22,
    "start_time": "2023-02-23T17:38:51.848Z"
   },
   {
    "duration": 13,
    "start_time": "2023-02-23T17:38:51.871Z"
   },
   {
    "duration": 31,
    "start_time": "2023-02-23T17:38:51.885Z"
   },
   {
    "duration": 99,
    "start_time": "2023-02-23T17:38:51.918Z"
   },
   {
    "duration": 87,
    "start_time": "2023-02-23T17:38:52.018Z"
   },
   {
    "duration": 18,
    "start_time": "2023-02-23T17:38:52.107Z"
   },
   {
    "duration": 43,
    "start_time": "2023-02-23T17:38:52.126Z"
   },
   {
    "duration": 17,
    "start_time": "2023-02-23T17:38:52.170Z"
   },
   {
    "duration": 10,
    "start_time": "2023-02-23T17:38:52.189Z"
   },
   {
    "duration": 57,
    "start_time": "2023-02-23T17:38:52.200Z"
   },
   {
    "duration": 20,
    "start_time": "2023-02-23T17:38:52.259Z"
   },
   {
    "duration": 180,
    "start_time": "2023-02-23T17:38:52.280Z"
   },
   {
    "duration": 11,
    "start_time": "2023-02-23T17:38:52.462Z"
   },
   {
    "duration": 171,
    "start_time": "2023-02-23T17:38:52.474Z"
   },
   {
    "duration": 8,
    "start_time": "2023-02-23T17:48:05.055Z"
   },
   {
    "duration": 11,
    "start_time": "2023-02-23T17:48:36.025Z"
   },
   {
    "duration": 1338,
    "start_time": "2023-02-23T17:48:47.840Z"
   },
   {
    "duration": 272,
    "start_time": "2023-02-23T17:48:49.180Z"
   },
   {
    "duration": 24,
    "start_time": "2023-02-23T17:48:49.455Z"
   },
   {
    "duration": 73,
    "start_time": "2023-02-23T17:48:49.481Z"
   },
   {
    "duration": 37,
    "start_time": "2023-02-23T17:48:49.556Z"
   },
   {
    "duration": 119,
    "start_time": "2023-02-23T17:48:49.595Z"
   },
   {
    "duration": 45,
    "start_time": "2023-02-23T17:48:49.715Z"
   },
   {
    "duration": 16,
    "start_time": "2023-02-23T17:48:49.762Z"
   },
   {
    "duration": 11,
    "start_time": "2023-02-23T17:48:49.780Z"
   },
   {
    "duration": 20,
    "start_time": "2023-02-23T17:48:49.793Z"
   },
   {
    "duration": 36,
    "start_time": "2023-02-23T17:48:49.814Z"
   },
   {
    "duration": 11,
    "start_time": "2023-02-23T17:48:49.851Z"
   },
   {
    "duration": 20,
    "start_time": "2023-02-23T17:48:49.863Z"
   },
   {
    "duration": 16,
    "start_time": "2023-02-23T17:48:49.886Z"
   },
   {
    "duration": 40,
    "start_time": "2023-02-23T17:48:49.904Z"
   },
   {
    "duration": 18,
    "start_time": "2023-02-23T17:48:49.946Z"
   },
   {
    "duration": 26,
    "start_time": "2023-02-23T17:48:49.966Z"
   },
   {
    "duration": 33,
    "start_time": "2023-02-23T17:48:49.993Z"
   },
   {
    "duration": 74,
    "start_time": "2023-02-23T17:48:50.028Z"
   },
   {
    "duration": 0,
    "start_time": "2023-02-23T17:48:50.104Z"
   },
   {
    "duration": 0,
    "start_time": "2023-02-23T17:48:50.105Z"
   },
   {
    "duration": 0,
    "start_time": "2023-02-23T17:48:50.106Z"
   },
   {
    "duration": 0,
    "start_time": "2023-02-23T17:48:50.107Z"
   },
   {
    "duration": 0,
    "start_time": "2023-02-23T17:48:50.108Z"
   },
   {
    "duration": 0,
    "start_time": "2023-02-23T17:48:50.109Z"
   },
   {
    "duration": 0,
    "start_time": "2023-02-23T17:48:50.110Z"
   },
   {
    "duration": 0,
    "start_time": "2023-02-23T17:48:50.111Z"
   },
   {
    "duration": 1248,
    "start_time": "2023-02-23T17:49:10.840Z"
   },
   {
    "duration": 271,
    "start_time": "2023-02-23T17:49:12.090Z"
   },
   {
    "duration": 24,
    "start_time": "2023-02-23T17:49:12.363Z"
   },
   {
    "duration": 68,
    "start_time": "2023-02-23T17:49:12.389Z"
   },
   {
    "duration": 37,
    "start_time": "2023-02-23T17:49:12.459Z"
   },
   {
    "duration": 127,
    "start_time": "2023-02-23T17:49:12.497Z"
   },
   {
    "duration": 54,
    "start_time": "2023-02-23T17:49:12.625Z"
   },
   {
    "duration": 16,
    "start_time": "2023-02-23T17:49:12.680Z"
   },
   {
    "duration": 14,
    "start_time": "2023-02-23T17:49:12.697Z"
   },
   {
    "duration": 39,
    "start_time": "2023-02-23T17:49:12.713Z"
   },
   {
    "duration": 12,
    "start_time": "2023-02-23T17:49:12.753Z"
   },
   {
    "duration": 11,
    "start_time": "2023-02-23T17:49:12.766Z"
   },
   {
    "duration": 12,
    "start_time": "2023-02-23T17:49:12.778Z"
   },
   {
    "duration": 11,
    "start_time": "2023-02-23T17:49:12.793Z"
   },
   {
    "duration": 55,
    "start_time": "2023-02-23T17:49:12.806Z"
   },
   {
    "duration": 19,
    "start_time": "2023-02-23T17:49:12.863Z"
   },
   {
    "duration": 10,
    "start_time": "2023-02-23T17:49:12.884Z"
   },
   {
    "duration": 28,
    "start_time": "2023-02-23T17:49:12.896Z"
   },
   {
    "duration": 67,
    "start_time": "2023-02-23T17:49:12.945Z"
   },
   {
    "duration": 92,
    "start_time": "2023-02-23T17:49:13.013Z"
   },
   {
    "duration": 23,
    "start_time": "2023-02-23T17:49:13.107Z"
   },
   {
    "duration": 52,
    "start_time": "2023-02-23T17:49:13.131Z"
   },
   {
    "duration": 17,
    "start_time": "2023-02-23T17:49:13.185Z"
   },
   {
    "duration": 9,
    "start_time": "2023-02-23T17:49:13.204Z"
   },
   {
    "duration": 55,
    "start_time": "2023-02-23T17:49:13.214Z"
   },
   {
    "duration": 47,
    "start_time": "2023-02-23T17:49:13.271Z"
   },
   {
    "duration": 193,
    "start_time": "2023-02-23T17:57:55.993Z"
   },
   {
    "duration": 231,
    "start_time": "2023-02-23T17:58:03.360Z"
   },
   {
    "duration": 169,
    "start_time": "2023-02-23T17:58:13.139Z"
   },
   {
    "duration": 67,
    "start_time": "2023-02-23T17:59:02.216Z"
   },
   {
    "duration": 86,
    "start_time": "2023-02-23T18:00:14.378Z"
   },
   {
    "duration": 74,
    "start_time": "2023-02-23T18:00:32.299Z"
   },
   {
    "duration": 235,
    "start_time": "2023-02-23T18:01:06.698Z"
   },
   {
    "duration": 69,
    "start_time": "2023-02-23T18:01:23.560Z"
   },
   {
    "duration": 62,
    "start_time": "2023-02-23T18:03:19.539Z"
   },
   {
    "duration": 554,
    "start_time": "2023-02-23T18:03:27.637Z"
   },
   {
    "duration": 1242,
    "start_time": "2023-02-23T18:03:50.461Z"
   },
   {
    "duration": 597,
    "start_time": "2023-02-23T18:04:11.719Z"
   },
   {
    "duration": 650,
    "start_time": "2023-02-23T18:04:17.729Z"
   },
   {
    "duration": 745,
    "start_time": "2023-02-23T18:04:46.238Z"
   },
   {
    "duration": 1276,
    "start_time": "2023-02-23T18:04:56.281Z"
   },
   {
    "duration": 84,
    "start_time": "2023-02-23T18:06:48.338Z"
   },
   {
    "duration": 1299,
    "start_time": "2023-02-23T18:07:01.800Z"
   },
   {
    "duration": 1305,
    "start_time": "2023-02-23T18:07:10.009Z"
   },
   {
    "duration": 48,
    "start_time": "2023-02-23T18:07:52.189Z"
   },
   {
    "duration": 51,
    "start_time": "2023-02-23T18:08:01.556Z"
   },
   {
    "duration": 98,
    "start_time": "2023-02-23T18:08:31.230Z"
   },
   {
    "duration": 55,
    "start_time": "2023-02-23T18:08:38.629Z"
   },
   {
    "duration": 14,
    "start_time": "2023-02-23T18:08:46.016Z"
   },
   {
    "duration": 1262,
    "start_time": "2023-02-23T18:09:59.019Z"
   },
   {
    "duration": 1273,
    "start_time": "2023-02-23T18:10:11.100Z"
   },
   {
    "duration": 8,
    "start_time": "2023-02-23T18:10:54.410Z"
   },
   {
    "duration": 12,
    "start_time": "2023-02-23T18:11:06.799Z"
   },
   {
    "duration": 80,
    "start_time": "2023-02-23T18:14:33.179Z"
   },
   {
    "duration": 94,
    "start_time": "2023-02-23T18:14:40.107Z"
   },
   {
    "duration": 1208,
    "start_time": "2023-02-23T18:15:12.361Z"
   },
   {
    "duration": 40,
    "start_time": "2023-02-23T18:15:24.729Z"
   },
   {
    "duration": 29,
    "start_time": "2023-02-23T18:15:37.608Z"
   },
   {
    "duration": 63,
    "start_time": "2023-02-23T18:16:00.099Z"
   },
   {
    "duration": 94,
    "start_time": "2023-02-23T18:17:44.279Z"
   },
   {
    "duration": 1282,
    "start_time": "2023-02-23T18:17:51.449Z"
   },
   {
    "duration": 47,
    "start_time": "2023-02-23T18:18:38.351Z"
   },
   {
    "duration": 92,
    "start_time": "2023-02-23T18:20:39.420Z"
   },
   {
    "duration": 83,
    "start_time": "2023-02-23T18:20:46.728Z"
   },
   {
    "duration": 94,
    "start_time": "2023-02-23T18:21:00.397Z"
   },
   {
    "duration": 70,
    "start_time": "2023-02-23T18:21:11.079Z"
   },
   {
    "duration": 73,
    "start_time": "2023-02-23T18:21:30.779Z"
   },
   {
    "duration": 15,
    "start_time": "2023-02-23T18:22:25.639Z"
   },
   {
    "duration": 15,
    "start_time": "2023-02-23T18:22:38.730Z"
   },
   {
    "duration": 18,
    "start_time": "2023-02-23T18:22:49.897Z"
   },
   {
    "duration": 38,
    "start_time": "2023-02-23T18:23:37.088Z"
   },
   {
    "duration": 78,
    "start_time": "2023-02-23T18:25:24.039Z"
   },
   {
    "duration": 38,
    "start_time": "2023-02-23T18:25:38.549Z"
   },
   {
    "duration": 84,
    "start_time": "2023-02-23T18:26:28.069Z"
   },
   {
    "duration": 1363,
    "start_time": "2023-02-23T18:28:36.267Z"
   },
   {
    "duration": 332,
    "start_time": "2023-02-23T18:28:37.632Z"
   },
   {
    "duration": 24,
    "start_time": "2023-02-23T18:28:37.967Z"
   },
   {
    "duration": 84,
    "start_time": "2023-02-23T18:28:37.994Z"
   },
   {
    "duration": 73,
    "start_time": "2023-02-23T18:28:38.080Z"
   },
   {
    "duration": 113,
    "start_time": "2023-02-23T18:28:38.156Z"
   },
   {
    "duration": 42,
    "start_time": "2023-02-23T18:28:38.271Z"
   },
   {
    "duration": 38,
    "start_time": "2023-02-23T18:28:38.314Z"
   },
   {
    "duration": 26,
    "start_time": "2023-02-23T18:28:38.354Z"
   },
   {
    "duration": 21,
    "start_time": "2023-02-23T18:28:38.383Z"
   },
   {
    "duration": 11,
    "start_time": "2023-02-23T18:28:38.405Z"
   },
   {
    "duration": 34,
    "start_time": "2023-02-23T18:28:38.418Z"
   },
   {
    "duration": 14,
    "start_time": "2023-02-23T18:28:38.455Z"
   },
   {
    "duration": 16,
    "start_time": "2023-02-23T18:28:38.471Z"
   },
   {
    "duration": 29,
    "start_time": "2023-02-23T18:28:38.489Z"
   },
   {
    "duration": 38,
    "start_time": "2023-02-23T18:28:38.520Z"
   },
   {
    "duration": 20,
    "start_time": "2023-02-23T18:28:38.561Z"
   },
   {
    "duration": 29,
    "start_time": "2023-02-23T18:28:38.583Z"
   },
   {
    "duration": 97,
    "start_time": "2023-02-23T18:28:38.614Z"
   },
   {
    "duration": 96,
    "start_time": "2023-02-23T18:28:38.712Z"
   },
   {
    "duration": 17,
    "start_time": "2023-02-23T18:28:38.810Z"
   },
   {
    "duration": 56,
    "start_time": "2023-02-23T18:28:38.828Z"
   },
   {
    "duration": 18,
    "start_time": "2023-02-23T18:28:38.885Z"
   },
   {
    "duration": 9,
    "start_time": "2023-02-23T18:28:38.904Z"
   },
   {
    "duration": 52,
    "start_time": "2023-02-23T18:28:38.914Z"
   },
   {
    "duration": 126,
    "start_time": "2023-02-23T18:28:38.969Z"
   },
   {
    "duration": 0,
    "start_time": "2023-02-23T18:28:39.096Z"
   },
   {
    "duration": 1374,
    "start_time": "2023-02-23T18:29:09.062Z"
   },
   {
    "duration": 313,
    "start_time": "2023-02-23T18:29:10.438Z"
   },
   {
    "duration": 28,
    "start_time": "2023-02-23T18:29:10.753Z"
   },
   {
    "duration": 77,
    "start_time": "2023-02-23T18:29:10.783Z"
   },
   {
    "duration": 38,
    "start_time": "2023-02-23T18:29:10.863Z"
   },
   {
    "duration": 117,
    "start_time": "2023-02-23T18:29:10.903Z"
   },
   {
    "duration": 50,
    "start_time": "2023-02-23T18:29:11.022Z"
   },
   {
    "duration": 15,
    "start_time": "2023-02-23T18:29:11.074Z"
   },
   {
    "duration": 14,
    "start_time": "2023-02-23T18:29:11.091Z"
   },
   {
    "duration": 22,
    "start_time": "2023-02-23T18:29:11.107Z"
   },
   {
    "duration": 24,
    "start_time": "2023-02-23T18:29:11.144Z"
   },
   {
    "duration": 17,
    "start_time": "2023-02-23T18:29:11.171Z"
   },
   {
    "duration": 11,
    "start_time": "2023-02-23T18:29:11.190Z"
   },
   {
    "duration": 13,
    "start_time": "2023-02-23T18:29:11.202Z"
   },
   {
    "duration": 58,
    "start_time": "2023-02-23T18:29:11.216Z"
   },
   {
    "duration": 18,
    "start_time": "2023-02-23T18:29:11.276Z"
   },
   {
    "duration": 11,
    "start_time": "2023-02-23T18:29:11.295Z"
   },
   {
    "duration": 68,
    "start_time": "2023-02-23T18:29:11.308Z"
   },
   {
    "duration": 69,
    "start_time": "2023-02-23T18:29:11.377Z"
   },
   {
    "duration": 82,
    "start_time": "2023-02-23T18:29:11.449Z"
   },
   {
    "duration": 30,
    "start_time": "2023-02-23T18:29:11.533Z"
   },
   {
    "duration": 35,
    "start_time": "2023-02-23T18:29:11.565Z"
   },
   {
    "duration": 46,
    "start_time": "2023-02-23T18:29:11.602Z"
   },
   {
    "duration": 12,
    "start_time": "2023-02-23T18:29:11.650Z"
   },
   {
    "duration": 43,
    "start_time": "2023-02-23T18:29:11.665Z"
   },
   {
    "duration": 137,
    "start_time": "2023-02-23T18:29:11.710Z"
   },
   {
    "duration": 0,
    "start_time": "2023-02-23T18:29:11.849Z"
   },
   {
    "duration": 1351,
    "start_time": "2023-02-23T18:29:30.869Z"
   },
   {
    "duration": 318,
    "start_time": "2023-02-23T18:29:32.222Z"
   },
   {
    "duration": 36,
    "start_time": "2023-02-23T18:29:32.542Z"
   },
   {
    "duration": 91,
    "start_time": "2023-02-23T18:29:32.580Z"
   },
   {
    "duration": 44,
    "start_time": "2023-02-23T18:29:32.674Z"
   },
   {
    "duration": 116,
    "start_time": "2023-02-23T18:29:32.744Z"
   },
   {
    "duration": 41,
    "start_time": "2023-02-23T18:29:32.863Z"
   },
   {
    "duration": 15,
    "start_time": "2023-02-23T18:29:32.906Z"
   },
   {
    "duration": 39,
    "start_time": "2023-02-23T18:29:32.922Z"
   },
   {
    "duration": 22,
    "start_time": "2023-02-23T18:29:32.964Z"
   },
   {
    "duration": 12,
    "start_time": "2023-02-23T18:29:32.988Z"
   },
   {
    "duration": 16,
    "start_time": "2023-02-23T18:29:33.002Z"
   },
   {
    "duration": 36,
    "start_time": "2023-02-23T18:29:33.020Z"
   },
   {
    "duration": 18,
    "start_time": "2023-02-23T18:29:33.061Z"
   },
   {
    "duration": 39,
    "start_time": "2023-02-23T18:29:33.081Z"
   },
   {
    "duration": 36,
    "start_time": "2023-02-23T18:29:33.122Z"
   },
   {
    "duration": 17,
    "start_time": "2023-02-23T18:29:33.161Z"
   },
   {
    "duration": 32,
    "start_time": "2023-02-23T18:29:33.180Z"
   },
   {
    "duration": 102,
    "start_time": "2023-02-23T18:29:33.214Z"
   },
   {
    "duration": 100,
    "start_time": "2023-02-23T18:29:33.318Z"
   },
   {
    "duration": 26,
    "start_time": "2023-02-23T18:29:33.420Z"
   },
   {
    "duration": 36,
    "start_time": "2023-02-23T18:29:33.449Z"
   },
   {
    "duration": 17,
    "start_time": "2023-02-23T18:29:33.487Z"
   },
   {
    "duration": 48,
    "start_time": "2023-02-23T18:29:33.505Z"
   },
   {
    "duration": 49,
    "start_time": "2023-02-23T18:29:33.555Z"
   },
   {
    "duration": 44,
    "start_time": "2023-02-23T18:29:33.606Z"
   },
   {
    "duration": 100,
    "start_time": "2023-02-23T18:29:33.652Z"
   },
   {
    "duration": 122,
    "start_time": "2023-02-23T18:32:16.265Z"
   },
   {
    "duration": 8,
    "start_time": "2023-02-23T18:32:20.722Z"
   },
   {
    "duration": 22,
    "start_time": "2023-02-23T18:32:27.964Z"
   },
   {
    "duration": 16,
    "start_time": "2023-02-23T18:33:15.430Z"
   },
   {
    "duration": 120,
    "start_time": "2023-02-23T18:33:47.392Z"
   },
   {
    "duration": 118,
    "start_time": "2023-02-23T18:33:59.953Z"
   },
   {
    "duration": 72,
    "start_time": "2023-02-23T18:35:39.351Z"
   },
   {
    "duration": 18,
    "start_time": "2023-02-23T18:35:47.169Z"
   },
   {
    "duration": 51,
    "start_time": "2023-02-23T18:36:29.712Z"
   },
   {
    "duration": 47,
    "start_time": "2023-02-23T18:37:29.453Z"
   },
   {
    "duration": 56,
    "start_time": "2023-02-23T18:37:36.640Z"
   },
   {
    "duration": 40,
    "start_time": "2023-02-23T18:37:49.983Z"
   },
   {
    "duration": 212,
    "start_time": "2023-02-23T18:38:09.552Z"
   },
   {
    "duration": 139,
    "start_time": "2023-02-23T18:38:24.091Z"
   },
   {
    "duration": 105,
    "start_time": "2023-02-23T18:39:13.533Z"
   },
   {
    "duration": 214,
    "start_time": "2023-02-23T18:39:29.554Z"
   },
   {
    "duration": 154,
    "start_time": "2023-02-23T18:39:38.683Z"
   },
   {
    "duration": 200,
    "start_time": "2023-02-23T18:40:12.091Z"
   },
   {
    "duration": 119,
    "start_time": "2023-02-23T18:40:24.372Z"
   },
   {
    "duration": 204,
    "start_time": "2023-02-23T18:40:33.552Z"
   },
   {
    "duration": 135,
    "start_time": "2023-02-23T18:41:35.832Z"
   },
   {
    "duration": 154,
    "start_time": "2023-02-23T18:41:43.922Z"
   },
   {
    "duration": 10,
    "start_time": "2023-02-23T18:45:06.012Z"
   },
   {
    "duration": 33,
    "start_time": "2023-02-23T18:50:24.232Z"
   },
   {
    "duration": 23,
    "start_time": "2023-02-23T18:50:32.912Z"
   },
   {
    "duration": 991,
    "start_time": "2023-02-23T18:53:57.692Z"
   },
   {
    "duration": 44,
    "start_time": "2023-02-23T18:55:03.212Z"
   },
   {
    "duration": 117,
    "start_time": "2023-02-23T18:55:11.472Z"
   },
   {
    "duration": 31,
    "start_time": "2023-02-23T18:56:50.337Z"
   },
   {
    "duration": 111,
    "start_time": "2023-02-23T18:56:53.217Z"
   },
   {
    "duration": 12,
    "start_time": "2023-02-23T18:59:26.068Z"
   },
   {
    "duration": 970,
    "start_time": "2023-02-23T19:00:23.129Z"
   },
   {
    "duration": 16,
    "start_time": "2023-02-23T19:01:57.473Z"
   },
   {
    "duration": 43,
    "start_time": "2023-02-23T19:02:21.490Z"
   },
   {
    "duration": 22,
    "start_time": "2023-02-23T19:05:53.088Z"
   },
   {
    "duration": 43,
    "start_time": "2023-02-23T19:06:24.240Z"
   },
   {
    "duration": 85,
    "start_time": "2023-02-23T19:07:01.172Z"
   },
   {
    "duration": 49,
    "start_time": "2023-02-23T19:08:54.612Z"
   },
   {
    "duration": 28,
    "start_time": "2023-02-23T19:09:13.232Z"
   },
   {
    "duration": 77,
    "start_time": "2023-02-23T19:09:21.630Z"
   },
   {
    "duration": 81,
    "start_time": "2023-02-23T19:10:55.072Z"
   },
   {
    "duration": 11,
    "start_time": "2023-02-23T19:27:36.663Z"
   },
   {
    "duration": 24,
    "start_time": "2023-02-23T19:30:15.854Z"
   },
   {
    "duration": 39,
    "start_time": "2023-02-23T19:30:59.402Z"
   },
   {
    "duration": 41,
    "start_time": "2023-02-23T19:31:05.673Z"
   },
   {
    "duration": 70,
    "start_time": "2023-02-23T19:39:38.127Z"
   },
   {
    "duration": 61,
    "start_time": "2023-02-23T19:40:11.064Z"
   },
   {
    "duration": 1425,
    "start_time": "2023-02-23T19:44:17.342Z"
   },
   {
    "duration": 9,
    "start_time": "2023-02-23T19:44:25.223Z"
   },
   {
    "duration": 12,
    "start_time": "2023-02-23T19:44:32.972Z"
   },
   {
    "duration": 115,
    "start_time": "2023-02-23T19:45:33.672Z"
   },
   {
    "duration": 22,
    "start_time": "2023-02-23T19:45:43.863Z"
   },
   {
    "duration": 125,
    "start_time": "2023-02-23T19:46:34.023Z"
   },
   {
    "duration": 15,
    "start_time": "2023-02-23T19:46:57.083Z"
   },
   {
    "duration": 23,
    "start_time": "2023-02-23T19:47:15.743Z"
   },
   {
    "duration": 296,
    "start_time": "2023-02-23T19:47:27.594Z"
   },
   {
    "duration": 368,
    "start_time": "2023-02-23T19:48:55.543Z"
   },
   {
    "duration": 555,
    "start_time": "2023-02-23T19:49:08.280Z"
   },
   {
    "duration": 357,
    "start_time": "2023-02-23T19:50:28.723Z"
   },
   {
    "duration": 471,
    "start_time": "2023-02-23T19:50:35.334Z"
   },
   {
    "duration": 175,
    "start_time": "2023-02-23T19:51:47.191Z"
   },
   {
    "duration": 1432,
    "start_time": "2023-02-24T12:30:23.053Z"
   },
   {
    "duration": 866,
    "start_time": "2023-02-24T12:30:24.487Z"
   },
   {
    "duration": 22,
    "start_time": "2023-02-24T12:30:25.355Z"
   },
   {
    "duration": 51,
    "start_time": "2023-02-24T12:30:25.379Z"
   },
   {
    "duration": 54,
    "start_time": "2023-02-24T12:30:25.432Z"
   },
   {
    "duration": 121,
    "start_time": "2023-02-24T12:30:25.487Z"
   },
   {
    "duration": 48,
    "start_time": "2023-02-24T12:30:25.613Z"
   },
   {
    "duration": 58,
    "start_time": "2023-02-24T12:30:25.667Z"
   },
   {
    "duration": 14,
    "start_time": "2023-02-24T12:30:25.728Z"
   },
   {
    "duration": 29,
    "start_time": "2023-02-24T12:30:25.746Z"
   },
   {
    "duration": 29,
    "start_time": "2023-02-24T12:30:25.777Z"
   },
   {
    "duration": 17,
    "start_time": "2023-02-24T12:30:25.808Z"
   },
   {
    "duration": 39,
    "start_time": "2023-02-24T12:30:25.827Z"
   },
   {
    "duration": 51,
    "start_time": "2023-02-24T12:30:25.872Z"
   },
   {
    "duration": 39,
    "start_time": "2023-02-24T12:30:25.925Z"
   },
   {
    "duration": 21,
    "start_time": "2023-02-24T12:30:25.966Z"
   },
   {
    "duration": 11,
    "start_time": "2023-02-24T12:30:25.989Z"
   },
   {
    "duration": 23,
    "start_time": "2023-02-24T12:30:26.002Z"
   },
   {
    "duration": 78,
    "start_time": "2023-02-24T12:30:26.026Z"
   },
   {
    "duration": 85,
    "start_time": "2023-02-24T12:30:26.106Z"
   },
   {
    "duration": 18,
    "start_time": "2023-02-24T12:30:26.192Z"
   },
   {
    "duration": 28,
    "start_time": "2023-02-24T12:30:26.212Z"
   },
   {
    "duration": 44,
    "start_time": "2023-02-24T12:30:26.242Z"
   },
   {
    "duration": 8,
    "start_time": "2023-02-24T12:30:26.288Z"
   },
   {
    "duration": 42,
    "start_time": "2023-02-24T12:30:26.298Z"
   },
   {
    "duration": 79,
    "start_time": "2023-02-24T12:30:26.342Z"
   },
   {
    "duration": 117,
    "start_time": "2023-02-24T12:30:26.423Z"
   },
   {
    "duration": 194,
    "start_time": "2023-02-24T12:30:26.544Z"
   },
   {
    "duration": 54,
    "start_time": "2023-02-24T12:30:26.740Z"
   },
   {
    "duration": 119,
    "start_time": "2023-02-24T12:30:26.796Z"
   },
   {
    "duration": 193,
    "start_time": "2023-02-24T12:38:01.678Z"
   },
   {
    "duration": 110,
    "start_time": "2023-02-24T12:38:52.027Z"
   },
   {
    "duration": 9,
    "start_time": "2023-02-24T12:39:04.628Z"
   },
   {
    "duration": 10,
    "start_time": "2023-02-24T12:39:45.876Z"
   },
   {
    "duration": 8,
    "start_time": "2023-02-24T12:39:50.649Z"
   },
   {
    "duration": 4,
    "start_time": "2023-02-24T12:39:56.777Z"
   },
   {
    "duration": 42,
    "start_time": "2023-02-24T12:46:48.662Z"
   },
   {
    "duration": 48,
    "start_time": "2023-02-24T12:47:39.911Z"
   },
   {
    "duration": 31,
    "start_time": "2023-02-24T12:48:05.464Z"
   },
   {
    "duration": 47,
    "start_time": "2023-02-24T12:48:18.662Z"
   },
   {
    "duration": 44,
    "start_time": "2023-02-24T12:51:10.661Z"
   },
   {
    "duration": 49,
    "start_time": "2023-02-24T12:54:20.245Z"
   },
   {
    "duration": 119,
    "start_time": "2023-02-24T12:54:34.445Z"
   },
   {
    "duration": 121,
    "start_time": "2023-02-24T12:54:52.212Z"
   },
   {
    "duration": 119,
    "start_time": "2023-02-24T12:55:00.895Z"
   },
   {
    "duration": 45,
    "start_time": "2023-02-24T12:55:32.545Z"
   },
   {
    "duration": 773,
    "start_time": "2023-02-24T12:56:04.554Z"
   },
   {
    "duration": 45,
    "start_time": "2023-02-24T12:56:27.696Z"
   },
   {
    "duration": 124,
    "start_time": "2023-02-24T12:56:36.093Z"
   },
   {
    "duration": 144,
    "start_time": "2023-02-24T12:57:43.527Z"
   },
   {
    "duration": 157,
    "start_time": "2023-02-24T12:57:50.112Z"
   },
   {
    "duration": 9,
    "start_time": "2023-02-24T13:02:39.079Z"
   },
   {
    "duration": 16,
    "start_time": "2023-02-24T13:04:04.393Z"
   },
   {
    "duration": 8,
    "start_time": "2023-02-24T13:05:39.378Z"
   },
   {
    "duration": 134,
    "start_time": "2023-02-24T13:06:23.245Z"
   },
   {
    "duration": 117,
    "start_time": "2023-02-24T13:06:38.865Z"
   },
   {
    "duration": 128,
    "start_time": "2023-02-24T13:07:36.361Z"
   },
   {
    "duration": 187,
    "start_time": "2023-02-24T13:08:36.644Z"
   },
   {
    "duration": 13,
    "start_time": "2023-02-24T13:09:34.146Z"
   },
   {
    "duration": 13,
    "start_time": "2023-02-24T13:12:48.107Z"
   },
   {
    "duration": 10,
    "start_time": "2023-02-24T13:13:52.163Z"
   },
   {
    "duration": 11,
    "start_time": "2023-02-24T13:14:07.028Z"
   },
   {
    "duration": 11,
    "start_time": "2023-02-24T13:14:12.783Z"
   },
   {
    "duration": 14,
    "start_time": "2023-02-24T13:14:18.363Z"
   },
   {
    "duration": 12,
    "start_time": "2023-02-24T13:14:31.542Z"
   },
   {
    "duration": 15,
    "start_time": "2023-02-24T13:16:40.685Z"
   },
   {
    "duration": 15,
    "start_time": "2023-02-24T13:16:48.826Z"
   },
   {
    "duration": 180,
    "start_time": "2023-02-24T13:19:33.544Z"
   },
   {
    "duration": 129,
    "start_time": "2023-02-24T13:20:12.627Z"
   },
   {
    "duration": 135,
    "start_time": "2023-02-24T13:20:42.532Z"
   },
   {
    "duration": 668,
    "start_time": "2023-02-24T13:26:18.540Z"
   },
   {
    "duration": 6,
    "start_time": "2023-02-24T13:26:54.209Z"
   },
   {
    "duration": 9,
    "start_time": "2023-02-24T13:27:03.242Z"
   },
   {
    "duration": 64,
    "start_time": "2023-02-24T14:20:14.181Z"
   },
   {
    "duration": 62,
    "start_time": "2023-02-24T14:21:47.373Z"
   },
   {
    "duration": 9,
    "start_time": "2023-02-24T14:23:02.346Z"
   },
   {
    "duration": 49,
    "start_time": "2023-02-24T14:23:10.063Z"
   },
   {
    "duration": 79,
    "start_time": "2023-02-24T14:24:15.829Z"
   },
   {
    "duration": 16,
    "start_time": "2023-02-24T14:25:19.440Z"
   },
   {
    "duration": 16,
    "start_time": "2023-02-24T14:25:35.015Z"
   },
   {
    "duration": 63,
    "start_time": "2023-02-24T14:27:49.930Z"
   },
   {
    "duration": 65,
    "start_time": "2023-02-24T14:28:03.678Z"
   },
   {
    "duration": 14,
    "start_time": "2023-02-24T14:29:33.364Z"
   },
   {
    "duration": 351,
    "start_time": "2023-02-24T14:29:40.951Z"
   },
   {
    "duration": 233,
    "start_time": "2023-02-24T14:30:11.616Z"
   },
   {
    "duration": 22,
    "start_time": "2023-02-24T14:31:03.115Z"
   },
   {
    "duration": 314,
    "start_time": "2023-02-24T14:31:13.044Z"
   },
   {
    "duration": 106,
    "start_time": "2023-02-24T14:31:57.769Z"
   },
   {
    "duration": 112,
    "start_time": "2023-02-24T14:32:07.244Z"
   },
   {
    "duration": 326,
    "start_time": "2023-02-24T14:32:32.762Z"
   },
   {
    "duration": 999,
    "start_time": "2023-02-24T14:33:30.720Z"
   },
   {
    "duration": 269,
    "start_time": "2023-02-24T14:34:03.279Z"
   },
   {
    "duration": 925,
    "start_time": "2023-02-24T14:36:22.486Z"
   },
   {
    "duration": 891,
    "start_time": "2023-02-24T14:36:40.541Z"
   },
   {
    "duration": 164,
    "start_time": "2023-02-24T14:38:16.836Z"
   },
   {
    "duration": 185,
    "start_time": "2023-02-24T14:39:18.564Z"
   },
   {
    "duration": 66,
    "start_time": "2023-02-24T14:39:37.589Z"
   },
   {
    "duration": 1245,
    "start_time": "2023-02-24T14:39:47.984Z"
   },
   {
    "duration": 247,
    "start_time": "2023-02-24T14:39:49.232Z"
   },
   {
    "duration": 32,
    "start_time": "2023-02-24T14:39:49.480Z"
   },
   {
    "duration": 59,
    "start_time": "2023-02-24T14:39:49.516Z"
   },
   {
    "duration": 49,
    "start_time": "2023-02-24T14:39:49.578Z"
   },
   {
    "duration": 107,
    "start_time": "2023-02-24T14:39:49.629Z"
   },
   {
    "duration": 53,
    "start_time": "2023-02-24T14:39:49.739Z"
   },
   {
    "duration": 18,
    "start_time": "2023-02-24T14:39:49.793Z"
   },
   {
    "duration": 13,
    "start_time": "2023-02-24T14:39:49.820Z"
   },
   {
    "duration": 31,
    "start_time": "2023-02-24T14:39:49.835Z"
   },
   {
    "duration": 13,
    "start_time": "2023-02-24T14:39:49.868Z"
   },
   {
    "duration": 47,
    "start_time": "2023-02-24T14:39:49.883Z"
   },
   {
    "duration": 11,
    "start_time": "2023-02-24T14:39:49.931Z"
   },
   {
    "duration": 29,
    "start_time": "2023-02-24T14:39:49.945Z"
   },
   {
    "duration": 36,
    "start_time": "2023-02-24T14:39:49.975Z"
   },
   {
    "duration": 32,
    "start_time": "2023-02-24T14:39:50.013Z"
   },
   {
    "duration": 12,
    "start_time": "2023-02-24T14:39:50.046Z"
   },
   {
    "duration": 27,
    "start_time": "2023-02-24T14:39:50.060Z"
   },
   {
    "duration": 96,
    "start_time": "2023-02-24T14:39:50.090Z"
   },
   {
    "duration": 76,
    "start_time": "2023-02-24T14:39:50.189Z"
   },
   {
    "duration": 32,
    "start_time": "2023-02-24T14:39:50.267Z"
   },
   {
    "duration": 38,
    "start_time": "2023-02-24T14:39:50.301Z"
   },
   {
    "duration": 14,
    "start_time": "2023-02-24T14:39:50.341Z"
   },
   {
    "duration": 12,
    "start_time": "2023-02-24T14:39:50.356Z"
   },
   {
    "duration": 88,
    "start_time": "2023-02-24T14:39:50.370Z"
   },
   {
    "duration": 36,
    "start_time": "2023-02-24T14:39:50.460Z"
   },
   {
    "duration": 92,
    "start_time": "2023-02-24T14:39:50.497Z"
   },
   {
    "duration": 150,
    "start_time": "2023-02-24T14:39:50.592Z"
   },
   {
    "duration": 32,
    "start_time": "2023-02-24T14:39:50.744Z"
   },
   {
    "duration": 88,
    "start_time": "2023-02-24T14:39:50.777Z"
   },
   {
    "duration": 20,
    "start_time": "2023-02-24T14:39:50.868Z"
   },
   {
    "duration": 166,
    "start_time": "2023-02-24T14:39:50.891Z"
   },
   {
    "duration": 163,
    "start_time": "2023-02-24T14:39:51.059Z"
   },
   {
    "duration": 7,
    "start_time": "2023-02-24T14:39:51.224Z"
   },
   {
    "duration": 59,
    "start_time": "2023-02-24T14:39:51.233Z"
   },
   {
    "duration": 191,
    "start_time": "2023-02-24T14:39:51.293Z"
   },
   {
    "duration": 70,
    "start_time": "2023-02-24T14:39:51.486Z"
   },
   {
    "duration": 57,
    "start_time": "2023-02-24T14:40:27.466Z"
   },
   {
    "duration": 377,
    "start_time": "2023-02-24T14:43:00.257Z"
   },
   {
    "duration": 301,
    "start_time": "2023-02-24T14:45:34.059Z"
   },
   {
    "duration": 344,
    "start_time": "2023-02-24T14:45:42.665Z"
   },
   {
    "duration": 13,
    "start_time": "2023-02-24T14:52:28.612Z"
   },
   {
    "duration": 4,
    "start_time": "2023-02-24T14:52:58.977Z"
   },
   {
    "duration": 16,
    "start_time": "2023-02-24T14:53:03.310Z"
   },
   {
    "duration": 1206,
    "start_time": "2023-02-24T14:54:32.606Z"
   },
   {
    "duration": 242,
    "start_time": "2023-02-24T14:54:33.814Z"
   },
   {
    "duration": 23,
    "start_time": "2023-02-24T14:54:34.057Z"
   },
   {
    "duration": 59,
    "start_time": "2023-02-24T14:54:34.083Z"
   },
   {
    "duration": 54,
    "start_time": "2023-02-24T14:54:34.144Z"
   },
   {
    "duration": 113,
    "start_time": "2023-02-24T14:54:34.200Z"
   },
   {
    "duration": 58,
    "start_time": "2023-02-24T14:54:34.315Z"
   },
   {
    "duration": 24,
    "start_time": "2023-02-24T14:54:34.375Z"
   },
   {
    "duration": 18,
    "start_time": "2023-02-24T14:54:34.403Z"
   },
   {
    "duration": 19,
    "start_time": "2023-02-24T14:54:34.424Z"
   },
   {
    "duration": 11,
    "start_time": "2023-02-24T14:54:34.445Z"
   },
   {
    "duration": 28,
    "start_time": "2023-02-24T14:54:34.458Z"
   },
   {
    "duration": 14,
    "start_time": "2023-02-24T14:54:34.488Z"
   },
   {
    "duration": 21,
    "start_time": "2023-02-24T14:54:34.504Z"
   },
   {
    "duration": 35,
    "start_time": "2023-02-24T14:54:34.527Z"
   },
   {
    "duration": 26,
    "start_time": "2023-02-24T14:54:34.565Z"
   },
   {
    "duration": 20,
    "start_time": "2023-02-24T14:54:34.593Z"
   },
   {
    "duration": 23,
    "start_time": "2023-02-24T14:54:34.615Z"
   },
   {
    "duration": 84,
    "start_time": "2023-02-24T14:54:34.640Z"
   },
   {
    "duration": 82,
    "start_time": "2023-02-24T14:54:34.725Z"
   },
   {
    "duration": 18,
    "start_time": "2023-02-24T14:54:34.809Z"
   },
   {
    "duration": 31,
    "start_time": "2023-02-24T14:54:34.829Z"
   },
   {
    "duration": 28,
    "start_time": "2023-02-24T14:54:34.862Z"
   },
   {
    "duration": 8,
    "start_time": "2023-02-24T14:54:34.893Z"
   },
   {
    "duration": 70,
    "start_time": "2023-02-24T14:54:34.902Z"
   },
   {
    "duration": 56,
    "start_time": "2023-02-24T14:54:34.974Z"
   },
   {
    "duration": 101,
    "start_time": "2023-02-24T14:54:35.032Z"
   },
   {
    "duration": 158,
    "start_time": "2023-02-24T14:54:35.136Z"
   },
   {
    "duration": 52,
    "start_time": "2023-02-24T14:54:35.296Z"
   },
   {
    "duration": 112,
    "start_time": "2023-02-24T14:54:35.350Z"
   },
   {
    "duration": 7,
    "start_time": "2023-02-24T14:54:35.464Z"
   },
   {
    "duration": 222,
    "start_time": "2023-02-24T14:54:35.473Z"
   },
   {
    "duration": 246,
    "start_time": "2023-02-24T14:54:35.697Z"
   },
   {
    "duration": 7,
    "start_time": "2023-02-24T14:54:35.945Z"
   },
   {
    "duration": 71,
    "start_time": "2023-02-24T14:54:35.954Z"
   },
   {
    "duration": 412,
    "start_time": "2023-02-24T14:54:36.027Z"
   },
   {
    "duration": 53,
    "start_time": "2023-02-24T14:56:51.022Z"
   },
   {
    "duration": 96,
    "start_time": "2023-02-24T14:57:03.955Z"
   },
   {
    "duration": 22,
    "start_time": "2023-02-24T15:00:31.812Z"
   },
   {
    "duration": 11,
    "start_time": "2023-02-24T15:00:36.920Z"
   },
   {
    "duration": 143,
    "start_time": "2023-02-24T15:01:25.812Z"
   },
   {
    "duration": 74,
    "start_time": "2023-02-24T15:02:19.569Z"
   },
   {
    "duration": 72,
    "start_time": "2023-02-24T15:02:26.815Z"
   },
   {
    "duration": 93,
    "start_time": "2023-02-24T15:02:47.853Z"
   },
   {
    "duration": 76,
    "start_time": "2023-02-24T15:03:24.209Z"
   },
   {
    "duration": 1422,
    "start_time": "2023-02-24T15:05:30.755Z"
   },
   {
    "duration": 376,
    "start_time": "2023-02-24T15:05:32.181Z"
   },
   {
    "duration": 42,
    "start_time": "2023-02-24T15:05:32.560Z"
   },
   {
    "duration": 89,
    "start_time": "2023-02-24T15:05:32.607Z"
   },
   {
    "duration": 44,
    "start_time": "2023-02-24T15:05:32.699Z"
   },
   {
    "duration": 124,
    "start_time": "2023-02-24T15:05:32.745Z"
   },
   {
    "duration": 73,
    "start_time": "2023-02-24T15:05:32.871Z"
   },
   {
    "duration": 33,
    "start_time": "2023-02-24T15:05:32.946Z"
   },
   {
    "duration": 65,
    "start_time": "2023-02-24T15:05:32.981Z"
   },
   {
    "duration": 36,
    "start_time": "2023-02-24T15:05:33.047Z"
   },
   {
    "duration": 24,
    "start_time": "2023-02-24T15:05:33.086Z"
   },
   {
    "duration": 44,
    "start_time": "2023-02-24T15:05:33.112Z"
   },
   {
    "duration": 25,
    "start_time": "2023-02-24T15:05:33.158Z"
   },
   {
    "duration": 81,
    "start_time": "2023-02-24T15:05:33.191Z"
   },
   {
    "duration": 79,
    "start_time": "2023-02-24T15:05:33.274Z"
   },
   {
    "duration": 22,
    "start_time": "2023-02-24T15:05:33.355Z"
   },
   {
    "duration": 48,
    "start_time": "2023-02-24T15:05:33.379Z"
   },
   {
    "duration": 35,
    "start_time": "2023-02-24T15:05:33.429Z"
   },
   {
    "duration": 82,
    "start_time": "2023-02-24T15:05:33.466Z"
   },
   {
    "duration": 93,
    "start_time": "2023-02-24T15:05:33.550Z"
   },
   {
    "duration": 23,
    "start_time": "2023-02-24T15:05:33.644Z"
   },
   {
    "duration": 50,
    "start_time": "2023-02-24T15:05:33.669Z"
   },
   {
    "duration": 34,
    "start_time": "2023-02-24T15:05:33.721Z"
   },
   {
    "duration": 65,
    "start_time": "2023-02-24T15:05:33.757Z"
   },
   {
    "duration": 56,
    "start_time": "2023-02-24T15:05:33.825Z"
   },
   {
    "duration": 67,
    "start_time": "2023-02-24T15:05:33.884Z"
   },
   {
    "duration": 103,
    "start_time": "2023-02-24T15:05:33.954Z"
   },
   {
    "duration": 162,
    "start_time": "2023-02-24T15:05:34.059Z"
   },
   {
    "duration": 38,
    "start_time": "2023-02-24T15:05:34.226Z"
   },
   {
    "duration": 93,
    "start_time": "2023-02-24T15:05:34.265Z"
   },
   {
    "duration": 8,
    "start_time": "2023-02-24T15:05:34.359Z"
   },
   {
    "duration": 167,
    "start_time": "2023-02-24T15:05:34.368Z"
   },
   {
    "duration": 185,
    "start_time": "2023-02-24T15:05:34.537Z"
   },
   {
    "duration": 7,
    "start_time": "2023-02-24T15:05:34.724Z"
   },
   {
    "duration": 74,
    "start_time": "2023-02-24T15:05:34.734Z"
   },
   {
    "duration": 449,
    "start_time": "2023-02-24T15:05:34.809Z"
   },
   {
    "duration": 136,
    "start_time": "2023-02-24T15:08:25.520Z"
   },
   {
    "duration": 161,
    "start_time": "2023-02-24T15:08:49.222Z"
   },
   {
    "duration": 16,
    "start_time": "2023-02-24T15:09:23.064Z"
   },
   {
    "duration": 267,
    "start_time": "2023-02-24T15:09:50.926Z"
   },
   {
    "duration": 195,
    "start_time": "2023-02-24T15:10:02.414Z"
   },
   {
    "duration": 919,
    "start_time": "2023-02-24T15:12:49.814Z"
   },
   {
    "duration": 29,
    "start_time": "2023-02-24T15:18:14.324Z"
   },
   {
    "duration": 61,
    "start_time": "2023-02-24T15:18:28.852Z"
   },
   {
    "duration": 36,
    "start_time": "2023-02-24T15:23:38.203Z"
   },
   {
    "duration": 52,
    "start_time": "2023-02-24T15:23:42.416Z"
   },
   {
    "duration": 1241,
    "start_time": "2023-02-24T15:23:57.271Z"
   },
   {
    "duration": 332,
    "start_time": "2023-02-24T15:23:58.515Z"
   },
   {
    "duration": 20,
    "start_time": "2023-02-24T15:23:58.848Z"
   },
   {
    "duration": 58,
    "start_time": "2023-02-24T15:23:58.870Z"
   },
   {
    "duration": 38,
    "start_time": "2023-02-24T15:23:58.930Z"
   },
   {
    "duration": 102,
    "start_time": "2023-02-24T15:23:58.970Z"
   },
   {
    "duration": 56,
    "start_time": "2023-02-24T15:23:59.074Z"
   },
   {
    "duration": 12,
    "start_time": "2023-02-24T15:23:59.132Z"
   },
   {
    "duration": 11,
    "start_time": "2023-02-24T15:23:59.145Z"
   },
   {
    "duration": 31,
    "start_time": "2023-02-24T15:23:59.159Z"
   },
   {
    "duration": 16,
    "start_time": "2023-02-24T15:23:59.192Z"
   },
   {
    "duration": 21,
    "start_time": "2023-02-24T15:23:59.212Z"
   },
   {
    "duration": 10,
    "start_time": "2023-02-24T15:23:59.234Z"
   },
   {
    "duration": 9,
    "start_time": "2023-02-24T15:23:59.246Z"
   },
   {
    "duration": 44,
    "start_time": "2023-02-24T15:23:59.257Z"
   },
   {
    "duration": 17,
    "start_time": "2023-02-24T15:23:59.310Z"
   },
   {
    "duration": 10,
    "start_time": "2023-02-24T15:23:59.329Z"
   },
   {
    "duration": 22,
    "start_time": "2023-02-24T15:23:59.340Z"
   },
   {
    "duration": 67,
    "start_time": "2023-02-24T15:23:59.364Z"
   },
   {
    "duration": 83,
    "start_time": "2023-02-24T15:23:59.433Z"
   },
   {
    "duration": 17,
    "start_time": "2023-02-24T15:23:59.517Z"
   },
   {
    "duration": 60,
    "start_time": "2023-02-24T15:23:59.536Z"
   },
   {
    "duration": 34,
    "start_time": "2023-02-24T15:23:59.597Z"
   },
   {
    "duration": 18,
    "start_time": "2023-02-24T15:23:59.633Z"
   },
   {
    "duration": 9,
    "start_time": "2023-02-24T15:23:59.652Z"
   },
   {
    "duration": 61,
    "start_time": "2023-02-24T15:23:59.663Z"
   },
   {
    "duration": 33,
    "start_time": "2023-02-24T15:23:59.726Z"
   },
   {
    "duration": 101,
    "start_time": "2023-02-24T15:23:59.762Z"
   },
   {
    "duration": 151,
    "start_time": "2023-02-24T15:23:59.865Z"
   },
   {
    "duration": 36,
    "start_time": "2023-02-24T15:24:00.018Z"
   },
   {
    "duration": 92,
    "start_time": "2023-02-24T15:24:00.055Z"
   },
   {
    "duration": 8,
    "start_time": "2023-02-24T15:24:00.148Z"
   },
   {
    "duration": 144,
    "start_time": "2023-02-24T15:24:00.157Z"
   },
   {
    "duration": 159,
    "start_time": "2023-02-24T15:24:00.303Z"
   },
   {
    "duration": 8,
    "start_time": "2023-02-24T15:24:00.464Z"
   },
   {
    "duration": 83,
    "start_time": "2023-02-24T15:24:00.473Z"
   },
   {
    "duration": 389,
    "start_time": "2023-02-24T15:24:00.557Z"
   },
   {
    "duration": 112,
    "start_time": "2023-02-24T15:28:29.835Z"
   },
   {
    "duration": 1257,
    "start_time": "2023-02-24T15:28:39.161Z"
   },
   {
    "duration": 257,
    "start_time": "2023-02-24T15:28:40.420Z"
   },
   {
    "duration": 30,
    "start_time": "2023-02-24T15:28:40.678Z"
   },
   {
    "duration": 48,
    "start_time": "2023-02-24T15:28:40.710Z"
   },
   {
    "duration": 60,
    "start_time": "2023-02-24T15:28:40.759Z"
   },
   {
    "duration": 106,
    "start_time": "2023-02-24T15:28:40.821Z"
   },
   {
    "duration": 36,
    "start_time": "2023-02-24T15:28:40.928Z"
   },
   {
    "duration": 25,
    "start_time": "2023-02-24T15:28:40.966Z"
   },
   {
    "duration": 15,
    "start_time": "2023-02-24T15:28:40.993Z"
   },
   {
    "duration": 18,
    "start_time": "2023-02-24T15:28:41.011Z"
   },
   {
    "duration": 10,
    "start_time": "2023-02-24T15:28:41.030Z"
   },
   {
    "duration": 12,
    "start_time": "2023-02-24T15:28:41.041Z"
   },
   {
    "duration": 21,
    "start_time": "2023-02-24T15:28:41.054Z"
   },
   {
    "duration": 31,
    "start_time": "2023-02-24T15:28:41.077Z"
   },
   {
    "duration": 53,
    "start_time": "2023-02-24T15:28:41.110Z"
   },
   {
    "duration": 31,
    "start_time": "2023-02-24T15:28:41.165Z"
   },
   {
    "duration": 22,
    "start_time": "2023-02-24T15:28:41.198Z"
   },
   {
    "duration": 23,
    "start_time": "2023-02-24T15:28:41.222Z"
   },
   {
    "duration": 77,
    "start_time": "2023-02-24T15:28:41.247Z"
   },
   {
    "duration": 82,
    "start_time": "2023-02-24T15:28:41.326Z"
   },
   {
    "duration": 17,
    "start_time": "2023-02-24T15:28:41.410Z"
   },
   {
    "duration": 67,
    "start_time": "2023-02-24T15:28:41.429Z"
   },
   {
    "duration": 28,
    "start_time": "2023-02-24T15:28:41.498Z"
   },
   {
    "duration": 15,
    "start_time": "2023-02-24T15:28:41.527Z"
   },
   {
    "duration": 7,
    "start_time": "2023-02-24T15:28:41.545Z"
   },
   {
    "duration": 60,
    "start_time": "2023-02-24T15:28:41.554Z"
   },
   {
    "duration": 33,
    "start_time": "2023-02-24T15:28:41.616Z"
   },
   {
    "duration": 94,
    "start_time": "2023-02-24T15:28:41.651Z"
   },
   {
    "duration": 153,
    "start_time": "2023-02-24T15:28:41.746Z"
   },
   {
    "duration": 38,
    "start_time": "2023-02-24T15:28:41.901Z"
   },
   {
    "duration": 105,
    "start_time": "2023-02-24T15:28:41.940Z"
   },
   {
    "duration": 7,
    "start_time": "2023-02-24T15:28:42.047Z"
   },
   {
    "duration": 107,
    "start_time": "2023-02-24T15:28:42.056Z"
   },
   {
    "duration": 0,
    "start_time": "2023-02-24T15:28:42.164Z"
   },
   {
    "duration": 0,
    "start_time": "2023-02-24T15:28:42.166Z"
   },
   {
    "duration": 0,
    "start_time": "2023-02-24T15:28:42.167Z"
   },
   {
    "duration": 0,
    "start_time": "2023-02-24T15:28:42.168Z"
   },
   {
    "duration": 0,
    "start_time": "2023-02-24T15:28:42.170Z"
   },
   {
    "duration": 0,
    "start_time": "2023-02-24T15:28:42.171Z"
   },
   {
    "duration": 208,
    "start_time": "2023-02-24T15:28:53.957Z"
   },
   {
    "duration": 57,
    "start_time": "2023-02-24T15:29:38.765Z"
   },
   {
    "duration": 167,
    "start_time": "2023-02-24T15:30:27.557Z"
   },
   {
    "duration": 136,
    "start_time": "2023-02-24T15:30:53.616Z"
   },
   {
    "duration": 45,
    "start_time": "2023-02-24T15:32:10.747Z"
   },
   {
    "duration": 704,
    "start_time": "2023-02-24T15:32:27.648Z"
   },
   {
    "duration": 44,
    "start_time": "2023-02-24T15:33:43.965Z"
   },
   {
    "duration": 12,
    "start_time": "2023-02-24T15:33:50.661Z"
   },
   {
    "duration": 11,
    "start_time": "2023-02-24T15:34:31.064Z"
   },
   {
    "duration": 128,
    "start_time": "2023-02-24T15:34:44.667Z"
   },
   {
    "duration": 128,
    "start_time": "2023-02-24T15:35:03.711Z"
   },
   {
    "duration": 194,
    "start_time": "2023-02-24T15:35:19.416Z"
   },
   {
    "duration": 54,
    "start_time": "2023-02-24T15:43:36.650Z"
   },
   {
    "duration": 190,
    "start_time": "2023-02-24T15:44:00.925Z"
   },
   {
    "duration": 4,
    "start_time": "2023-02-24T15:44:21.876Z"
   },
   {
    "duration": 6,
    "start_time": "2023-02-24T15:44:25.815Z"
   },
   {
    "duration": 139,
    "start_time": "2023-02-24T15:45:01.232Z"
   },
   {
    "duration": 129,
    "start_time": "2023-02-24T15:45:43.858Z"
   },
   {
    "duration": 172,
    "start_time": "2023-02-24T15:45:52.875Z"
   },
   {
    "duration": 125,
    "start_time": "2023-02-24T15:46:07.091Z"
   },
   {
    "duration": 1178,
    "start_time": "2023-02-24T15:50:40.529Z"
   },
   {
    "duration": 249,
    "start_time": "2023-02-24T15:50:41.709Z"
   },
   {
    "duration": 20,
    "start_time": "2023-02-24T15:50:41.959Z"
   },
   {
    "duration": 56,
    "start_time": "2023-02-24T15:50:41.981Z"
   },
   {
    "duration": 49,
    "start_time": "2023-02-24T15:50:42.039Z"
   },
   {
    "duration": 96,
    "start_time": "2023-02-24T15:50:42.090Z"
   },
   {
    "duration": 36,
    "start_time": "2023-02-24T15:50:42.188Z"
   },
   {
    "duration": 13,
    "start_time": "2023-02-24T15:50:42.225Z"
   },
   {
    "duration": 11,
    "start_time": "2023-02-24T15:50:42.240Z"
   },
   {
    "duration": 45,
    "start_time": "2023-02-24T15:50:42.253Z"
   },
   {
    "duration": 11,
    "start_time": "2023-02-24T15:50:42.300Z"
   },
   {
    "duration": 11,
    "start_time": "2023-02-24T15:50:42.313Z"
   },
   {
    "duration": 12,
    "start_time": "2023-02-24T15:50:42.325Z"
   },
   {
    "duration": 12,
    "start_time": "2023-02-24T15:50:42.338Z"
   },
   {
    "duration": 47,
    "start_time": "2023-02-24T15:50:42.351Z"
   },
   {
    "duration": 17,
    "start_time": "2023-02-24T15:50:42.399Z"
   },
   {
    "duration": 18,
    "start_time": "2023-02-24T15:50:42.418Z"
   },
   {
    "duration": 35,
    "start_time": "2023-02-24T15:50:42.438Z"
   },
   {
    "duration": 79,
    "start_time": "2023-02-24T15:50:42.474Z"
   },
   {
    "duration": 74,
    "start_time": "2023-02-24T15:50:42.554Z"
   },
   {
    "duration": 18,
    "start_time": "2023-02-24T15:50:42.629Z"
   },
   {
    "duration": 57,
    "start_time": "2023-02-24T15:50:42.648Z"
   },
   {
    "duration": 26,
    "start_time": "2023-02-24T15:50:42.707Z"
   },
   {
    "duration": 15,
    "start_time": "2023-02-24T15:50:42.735Z"
   },
   {
    "duration": 9,
    "start_time": "2023-02-24T15:50:42.751Z"
   },
   {
    "duration": 58,
    "start_time": "2023-02-24T15:50:42.761Z"
   },
   {
    "duration": 33,
    "start_time": "2023-02-24T15:50:42.821Z"
   },
   {
    "duration": 110,
    "start_time": "2023-02-24T15:50:42.857Z"
   },
   {
    "duration": 143,
    "start_time": "2023-02-24T15:50:42.971Z"
   },
   {
    "duration": 34,
    "start_time": "2023-02-24T15:50:43.116Z"
   },
   {
    "duration": 94,
    "start_time": "2023-02-24T15:50:43.152Z"
   },
   {
    "duration": 7,
    "start_time": "2023-02-24T15:50:43.248Z"
   },
   {
    "duration": 202,
    "start_time": "2023-02-24T15:50:43.257Z"
   },
   {
    "duration": 142,
    "start_time": "2023-02-24T15:50:43.460Z"
   },
   {
    "duration": 130,
    "start_time": "2023-02-24T15:50:43.604Z"
   },
   {
    "duration": 54,
    "start_time": "2023-02-24T15:50:43.736Z"
   },
   {
    "duration": 427,
    "start_time": "2023-02-24T15:50:43.791Z"
   },
   {
    "duration": 54,
    "start_time": "2023-02-24T15:53:54.780Z"
   },
   {
    "duration": 138,
    "start_time": "2023-02-24T15:56:27.270Z"
   },
   {
    "duration": 1147,
    "start_time": "2023-02-24T15:58:09.112Z"
   },
   {
    "duration": 14,
    "start_time": "2023-02-24T15:58:16.576Z"
   },
   {
    "duration": 68,
    "start_time": "2023-02-24T15:58:59.865Z"
   },
   {
    "duration": 8,
    "start_time": "2023-02-24T15:59:06.312Z"
   },
   {
    "duration": 57,
    "start_time": "2023-02-24T15:59:13.072Z"
   },
   {
    "duration": 8,
    "start_time": "2023-02-24T15:59:15.049Z"
   },
   {
    "duration": 63,
    "start_time": "2023-02-24T15:59:30.779Z"
   },
   {
    "duration": 294,
    "start_time": "2023-02-24T16:01:42.246Z"
   },
   {
    "duration": 1029,
    "start_time": "2023-02-24T16:01:48.317Z"
   },
   {
    "duration": 1288,
    "start_time": "2023-02-24T16:01:58.665Z"
   },
   {
    "duration": 1306,
    "start_time": "2023-02-24T16:02:07.376Z"
   },
   {
    "duration": 294,
    "start_time": "2023-02-24T16:02:08.683Z"
   },
   {
    "duration": 39,
    "start_time": "2023-02-24T16:02:08.979Z"
   },
   {
    "duration": 61,
    "start_time": "2023-02-24T16:02:09.020Z"
   },
   {
    "duration": 47,
    "start_time": "2023-02-24T16:02:09.083Z"
   },
   {
    "duration": 111,
    "start_time": "2023-02-24T16:02:09.131Z"
   },
   {
    "duration": 50,
    "start_time": "2023-02-24T16:02:09.244Z"
   },
   {
    "duration": 26,
    "start_time": "2023-02-24T16:02:09.296Z"
   },
   {
    "duration": 19,
    "start_time": "2023-02-24T16:02:09.324Z"
   },
   {
    "duration": 27,
    "start_time": "2023-02-24T16:02:09.346Z"
   },
   {
    "duration": 16,
    "start_time": "2023-02-24T16:02:09.374Z"
   },
   {
    "duration": 39,
    "start_time": "2023-02-24T16:02:09.392Z"
   },
   {
    "duration": 17,
    "start_time": "2023-02-24T16:02:09.433Z"
   },
   {
    "duration": 24,
    "start_time": "2023-02-24T16:02:09.453Z"
   },
   {
    "duration": 60,
    "start_time": "2023-02-24T16:02:09.479Z"
   },
   {
    "duration": 20,
    "start_time": "2023-02-24T16:02:09.541Z"
   },
   {
    "duration": 21,
    "start_time": "2023-02-24T16:02:09.563Z"
   },
   {
    "duration": 67,
    "start_time": "2023-02-24T16:02:09.590Z"
   },
   {
    "duration": 86,
    "start_time": "2023-02-24T16:02:09.659Z"
   },
   {
    "duration": 85,
    "start_time": "2023-02-24T16:02:09.746Z"
   },
   {
    "duration": 18,
    "start_time": "2023-02-24T16:02:09.833Z"
   },
   {
    "duration": 63,
    "start_time": "2023-02-24T16:02:09.853Z"
   },
   {
    "duration": 30,
    "start_time": "2023-02-24T16:02:09.918Z"
   },
   {
    "duration": 15,
    "start_time": "2023-02-24T16:02:09.949Z"
   },
   {
    "duration": 28,
    "start_time": "2023-02-24T16:02:09.966Z"
   },
   {
    "duration": 80,
    "start_time": "2023-02-24T16:02:09.996Z"
   },
   {
    "duration": 49,
    "start_time": "2023-02-24T16:02:10.078Z"
   },
   {
    "duration": 98,
    "start_time": "2023-02-24T16:02:10.129Z"
   },
   {
    "duration": 140,
    "start_time": "2023-02-24T16:02:10.229Z"
   },
   {
    "duration": 58,
    "start_time": "2023-02-24T16:02:10.371Z"
   },
   {
    "duration": 108,
    "start_time": "2023-02-24T16:02:10.430Z"
   },
   {
    "duration": 8,
    "start_time": "2023-02-24T16:02:10.541Z"
   },
   {
    "duration": 232,
    "start_time": "2023-02-24T16:02:10.551Z"
   },
   {
    "duration": 161,
    "start_time": "2023-02-24T16:02:10.785Z"
   },
   {
    "duration": 171,
    "start_time": "2023-02-24T16:02:10.947Z"
   },
   {
    "duration": 51,
    "start_time": "2023-02-24T16:02:11.120Z"
   },
   {
    "duration": 491,
    "start_time": "2023-02-24T16:02:11.173Z"
   },
   {
    "duration": 297,
    "start_time": "2023-02-24T16:02:11.665Z"
   },
   {
    "duration": 120,
    "start_time": "2023-02-24T16:02:11.964Z"
   },
   {
    "duration": 0,
    "start_time": "2023-02-24T16:02:12.089Z"
   },
   {
    "duration": 11,
    "start_time": "2023-02-24T16:02:54.830Z"
   },
   {
    "duration": 100,
    "start_time": "2023-02-24T16:05:15.707Z"
   },
   {
    "duration": 52,
    "start_time": "2023-02-24T16:05:44.329Z"
   },
   {
    "duration": 90,
    "start_time": "2023-02-24T16:06:07.597Z"
   },
   {
    "duration": 17,
    "start_time": "2023-02-24T16:06:57.864Z"
   },
   {
    "duration": 1327,
    "start_time": "2023-02-24T16:07:15.235Z"
   },
   {
    "duration": 277,
    "start_time": "2023-02-24T16:07:16.564Z"
   },
   {
    "duration": 22,
    "start_time": "2023-02-24T16:07:16.843Z"
   },
   {
    "duration": 66,
    "start_time": "2023-02-24T16:07:16.867Z"
   },
   {
    "duration": 34,
    "start_time": "2023-02-24T16:07:16.935Z"
   },
   {
    "duration": 121,
    "start_time": "2023-02-24T16:07:16.970Z"
   },
   {
    "duration": 52,
    "start_time": "2023-02-24T16:07:17.093Z"
   },
   {
    "duration": 15,
    "start_time": "2023-02-24T16:07:17.147Z"
   },
   {
    "duration": 33,
    "start_time": "2023-02-24T16:07:17.164Z"
   },
   {
    "duration": 51,
    "start_time": "2023-02-24T16:07:17.201Z"
   },
   {
    "duration": 11,
    "start_time": "2023-02-24T16:07:17.253Z"
   },
   {
    "duration": 18,
    "start_time": "2023-02-24T16:07:17.267Z"
   },
   {
    "duration": 40,
    "start_time": "2023-02-24T16:07:17.286Z"
   },
   {
    "duration": 23,
    "start_time": "2023-02-24T16:07:17.328Z"
   },
   {
    "duration": 48,
    "start_time": "2023-02-24T16:07:17.353Z"
   },
   {
    "duration": 24,
    "start_time": "2023-02-24T16:07:17.403Z"
   },
   {
    "duration": 11,
    "start_time": "2023-02-24T16:07:17.429Z"
   },
   {
    "duration": 45,
    "start_time": "2023-02-24T16:07:17.441Z"
   },
   {
    "duration": 95,
    "start_time": "2023-02-24T16:07:17.488Z"
   },
   {
    "duration": 81,
    "start_time": "2023-02-24T16:07:17.591Z"
   },
   {
    "duration": 35,
    "start_time": "2023-02-24T16:07:17.674Z"
   },
   {
    "duration": 53,
    "start_time": "2023-02-24T16:07:17.713Z"
   },
   {
    "duration": 33,
    "start_time": "2023-02-24T16:07:17.767Z"
   },
   {
    "duration": 36,
    "start_time": "2023-02-24T16:07:17.803Z"
   },
   {
    "duration": 9,
    "start_time": "2023-02-24T16:07:17.840Z"
   },
   {
    "duration": 68,
    "start_time": "2023-02-24T16:07:17.851Z"
   },
   {
    "duration": 44,
    "start_time": "2023-02-24T16:07:17.922Z"
   },
   {
    "duration": 96,
    "start_time": "2023-02-24T16:07:17.969Z"
   },
   {
    "duration": 157,
    "start_time": "2023-02-24T16:07:18.066Z"
   },
   {
    "duration": 39,
    "start_time": "2023-02-24T16:07:18.225Z"
   },
   {
    "duration": 103,
    "start_time": "2023-02-24T16:07:18.265Z"
   },
   {
    "duration": 8,
    "start_time": "2023-02-24T16:07:18.370Z"
   },
   {
    "duration": 220,
    "start_time": "2023-02-24T16:07:18.396Z"
   },
   {
    "duration": 146,
    "start_time": "2023-02-24T16:07:18.617Z"
   },
   {
    "duration": 159,
    "start_time": "2023-02-24T16:07:18.765Z"
   },
   {
    "duration": 46,
    "start_time": "2023-02-24T16:07:18.926Z"
   },
   {
    "duration": 490,
    "start_time": "2023-02-24T16:07:18.988Z"
   },
   {
    "duration": 320,
    "start_time": "2023-02-24T16:07:19.480Z"
   },
   {
    "duration": 21,
    "start_time": "2023-02-24T16:07:19.802Z"
   },
   {
    "duration": 120,
    "start_time": "2023-02-24T16:07:19.826Z"
   },
   {
    "duration": 1335,
    "start_time": "2023-02-24T16:08:22.530Z"
   },
   {
    "duration": 287,
    "start_time": "2023-02-24T16:08:23.867Z"
   },
   {
    "duration": 24,
    "start_time": "2023-02-24T16:08:24.156Z"
   },
   {
    "duration": 72,
    "start_time": "2023-02-24T16:08:24.183Z"
   },
   {
    "duration": 56,
    "start_time": "2023-02-24T16:08:24.256Z"
   },
   {
    "duration": 92,
    "start_time": "2023-02-24T16:08:24.314Z"
   },
   {
    "duration": 43,
    "start_time": "2023-02-24T16:08:24.408Z"
   },
   {
    "duration": 14,
    "start_time": "2023-02-24T16:08:24.452Z"
   },
   {
    "duration": 37,
    "start_time": "2023-02-24T16:08:24.468Z"
   },
   {
    "duration": 31,
    "start_time": "2023-02-24T16:08:24.508Z"
   },
   {
    "duration": 10,
    "start_time": "2023-02-24T16:08:24.541Z"
   },
   {
    "duration": 9,
    "start_time": "2023-02-24T16:08:24.553Z"
   },
   {
    "duration": 11,
    "start_time": "2023-02-24T16:08:24.563Z"
   },
   {
    "duration": 26,
    "start_time": "2023-02-24T16:08:24.576Z"
   },
   {
    "duration": 39,
    "start_time": "2023-02-24T16:08:24.604Z"
   },
   {
    "duration": 17,
    "start_time": "2023-02-24T16:08:24.645Z"
   },
   {
    "duration": 10,
    "start_time": "2023-02-24T16:08:24.664Z"
   },
   {
    "duration": 44,
    "start_time": "2023-02-24T16:08:24.676Z"
   },
   {
    "duration": 77,
    "start_time": "2023-02-24T16:08:24.722Z"
   },
   {
    "duration": 80,
    "start_time": "2023-02-24T16:08:24.800Z"
   },
   {
    "duration": 21,
    "start_time": "2023-02-24T16:08:24.882Z"
   },
   {
    "duration": 61,
    "start_time": "2023-02-24T16:08:24.909Z"
   },
   {
    "duration": 31,
    "start_time": "2023-02-24T16:08:24.971Z"
   },
   {
    "duration": 25,
    "start_time": "2023-02-24T16:08:25.007Z"
   },
   {
    "duration": 27,
    "start_time": "2023-02-24T16:08:25.033Z"
   },
   {
    "duration": 98,
    "start_time": "2023-02-24T16:08:25.062Z"
   },
   {
    "duration": 60,
    "start_time": "2023-02-24T16:08:25.162Z"
   },
   {
    "duration": 120,
    "start_time": "2023-02-24T16:08:25.228Z"
   },
   {
    "duration": 154,
    "start_time": "2023-02-24T16:08:25.349Z"
   },
   {
    "duration": 52,
    "start_time": "2023-02-24T16:08:25.505Z"
   },
   {
    "duration": 112,
    "start_time": "2023-02-24T16:08:25.559Z"
   },
   {
    "duration": 30,
    "start_time": "2023-02-24T16:08:25.674Z"
   },
   {
    "duration": 249,
    "start_time": "2023-02-24T16:08:25.709Z"
   },
   {
    "duration": 170,
    "start_time": "2023-02-24T16:08:25.960Z"
   },
   {
    "duration": 184,
    "start_time": "2023-02-24T16:08:26.131Z"
   },
   {
    "duration": 61,
    "start_time": "2023-02-24T16:08:26.321Z"
   },
   {
    "duration": 510,
    "start_time": "2023-02-24T16:08:26.385Z"
   },
   {
    "duration": 1047,
    "start_time": "2023-02-24T16:08:26.903Z"
   },
   {
    "duration": 0,
    "start_time": "2023-02-24T16:08:27.952Z"
   },
   {
    "duration": 0,
    "start_time": "2023-02-24T16:08:27.953Z"
   },
   {
    "duration": 301,
    "start_time": "2023-02-24T16:09:00.183Z"
   },
   {
    "duration": 1091,
    "start_time": "2023-02-24T16:09:48.537Z"
   },
   {
    "duration": 1304,
    "start_time": "2023-02-24T16:09:59.954Z"
   },
   {
    "duration": 286,
    "start_time": "2023-02-24T16:10:01.260Z"
   },
   {
    "duration": 23,
    "start_time": "2023-02-24T16:10:01.548Z"
   },
   {
    "duration": 64,
    "start_time": "2023-02-24T16:10:01.573Z"
   },
   {
    "duration": 56,
    "start_time": "2023-02-24T16:10:01.639Z"
   },
   {
    "duration": 123,
    "start_time": "2023-02-24T16:10:01.697Z"
   },
   {
    "duration": 40,
    "start_time": "2023-02-24T16:10:01.823Z"
   },
   {
    "duration": 33,
    "start_time": "2023-02-24T16:10:01.865Z"
   },
   {
    "duration": 41,
    "start_time": "2023-02-24T16:10:01.900Z"
   },
   {
    "duration": 63,
    "start_time": "2023-02-24T16:10:01.944Z"
   },
   {
    "duration": 31,
    "start_time": "2023-02-24T16:10:02.009Z"
   },
   {
    "duration": 21,
    "start_time": "2023-02-24T16:10:02.042Z"
   },
   {
    "duration": 71,
    "start_time": "2023-02-24T16:10:02.065Z"
   },
   {
    "duration": 116,
    "start_time": "2023-02-24T16:10:02.138Z"
   },
   {
    "duration": 83,
    "start_time": "2023-02-24T16:10:02.256Z"
   },
   {
    "duration": 59,
    "start_time": "2023-02-24T16:10:02.340Z"
   },
   {
    "duration": 48,
    "start_time": "2023-02-24T16:10:02.401Z"
   },
   {
    "duration": 71,
    "start_time": "2023-02-24T16:10:02.450Z"
   },
   {
    "duration": 77,
    "start_time": "2023-02-24T16:10:02.523Z"
   },
   {
    "duration": 78,
    "start_time": "2023-02-24T16:10:02.602Z"
   },
   {
    "duration": 24,
    "start_time": "2023-02-24T16:10:02.681Z"
   },
   {
    "duration": 65,
    "start_time": "2023-02-24T16:10:02.707Z"
   },
   {
    "duration": 38,
    "start_time": "2023-02-24T16:10:02.774Z"
   },
   {
    "duration": 25,
    "start_time": "2023-02-24T16:10:02.814Z"
   },
   {
    "duration": 10,
    "start_time": "2023-02-24T16:10:02.840Z"
   },
   {
    "duration": 54,
    "start_time": "2023-02-24T16:10:02.852Z"
   },
   {
    "duration": 72,
    "start_time": "2023-02-24T16:10:02.908Z"
   },
   {
    "duration": 142,
    "start_time": "2023-02-24T16:10:02.983Z"
   },
   {
    "duration": 166,
    "start_time": "2023-02-24T16:10:03.128Z"
   },
   {
    "duration": 47,
    "start_time": "2023-02-24T16:10:03.296Z"
   },
   {
    "duration": 101,
    "start_time": "2023-02-24T16:10:03.344Z"
   },
   {
    "duration": 7,
    "start_time": "2023-02-24T16:10:03.447Z"
   },
   {
    "duration": 209,
    "start_time": "2023-02-24T16:10:03.456Z"
   },
   {
    "duration": 162,
    "start_time": "2023-02-24T16:10:03.667Z"
   },
   {
    "duration": 150,
    "start_time": "2023-02-24T16:10:03.832Z"
   },
   {
    "duration": 61,
    "start_time": "2023-02-24T16:10:03.985Z"
   },
   {
    "duration": 489,
    "start_time": "2023-02-24T16:10:04.049Z"
   },
   {
    "duration": 384,
    "start_time": "2023-02-24T16:10:04.541Z"
   },
   {
    "duration": 0,
    "start_time": "2023-02-24T16:10:04.926Z"
   },
   {
    "duration": 0,
    "start_time": "2023-02-24T16:10:04.928Z"
   },
   {
    "duration": 1298,
    "start_time": "2023-02-24T16:10:59.265Z"
   },
   {
    "duration": 301,
    "start_time": "2023-02-24T16:11:00.565Z"
   },
   {
    "duration": 23,
    "start_time": "2023-02-24T16:11:00.868Z"
   },
   {
    "duration": 96,
    "start_time": "2023-02-24T16:11:00.894Z"
   },
   {
    "duration": 48,
    "start_time": "2023-02-24T16:11:00.995Z"
   },
   {
    "duration": 115,
    "start_time": "2023-02-24T16:11:01.045Z"
   },
   {
    "duration": 68,
    "start_time": "2023-02-24T16:11:01.162Z"
   },
   {
    "duration": 40,
    "start_time": "2023-02-24T16:11:01.232Z"
   },
   {
    "duration": 109,
    "start_time": "2023-02-24T16:11:01.274Z"
   },
   {
    "duration": 117,
    "start_time": "2023-02-24T16:11:01.386Z"
   },
   {
    "duration": 60,
    "start_time": "2023-02-24T16:11:01.505Z"
   },
   {
    "duration": 53,
    "start_time": "2023-02-24T16:11:01.566Z"
   },
   {
    "duration": 30,
    "start_time": "2023-02-24T16:11:01.623Z"
   },
   {
    "duration": 41,
    "start_time": "2023-02-24T16:11:01.655Z"
   },
   {
    "duration": 51,
    "start_time": "2023-02-24T16:11:01.702Z"
   },
   {
    "duration": 26,
    "start_time": "2023-02-24T16:11:01.754Z"
   },
   {
    "duration": 40,
    "start_time": "2023-02-24T16:11:01.782Z"
   },
   {
    "duration": 35,
    "start_time": "2023-02-24T16:11:01.823Z"
   },
   {
    "duration": 88,
    "start_time": "2023-02-24T16:11:01.859Z"
   },
   {
    "duration": 92,
    "start_time": "2023-02-24T16:11:01.949Z"
   },
   {
    "duration": 20,
    "start_time": "2023-02-24T16:11:02.042Z"
   },
   {
    "duration": 84,
    "start_time": "2023-02-24T16:11:02.064Z"
   },
   {
    "duration": 45,
    "start_time": "2023-02-24T16:11:02.150Z"
   },
   {
    "duration": 54,
    "start_time": "2023-02-24T16:11:02.200Z"
   },
   {
    "duration": 77,
    "start_time": "2023-02-24T16:11:02.256Z"
   },
   {
    "duration": 81,
    "start_time": "2023-02-24T16:11:02.335Z"
   },
   {
    "duration": 85,
    "start_time": "2023-02-24T16:11:02.421Z"
   },
   {
    "duration": 121,
    "start_time": "2023-02-24T16:11:02.511Z"
   },
   {
    "duration": 139,
    "start_time": "2023-02-24T16:11:02.633Z"
   },
   {
    "duration": 52,
    "start_time": "2023-02-24T16:11:02.774Z"
   },
   {
    "duration": 113,
    "start_time": "2023-02-24T16:11:02.828Z"
   },
   {
    "duration": 8,
    "start_time": "2023-02-24T16:11:02.943Z"
   },
   {
    "duration": 217,
    "start_time": "2023-02-24T16:11:02.952Z"
   },
   {
    "duration": 173,
    "start_time": "2023-02-24T16:11:03.171Z"
   },
   {
    "duration": 176,
    "start_time": "2023-02-24T16:11:03.346Z"
   },
   {
    "duration": 82,
    "start_time": "2023-02-24T16:11:03.524Z"
   },
   {
    "duration": 491,
    "start_time": "2023-02-24T16:11:03.612Z"
   },
   {
    "duration": 646,
    "start_time": "2023-02-24T16:11:04.104Z"
   },
   {
    "duration": 12,
    "start_time": "2023-02-24T16:11:04.752Z"
   },
   {
    "duration": 115,
    "start_time": "2023-02-24T16:11:04.766Z"
   },
   {
    "duration": 76,
    "start_time": "2023-02-24T16:14:55.786Z"
   },
   {
    "duration": 51,
    "start_time": "2023-02-24T16:22:35.032Z"
   },
   {
    "duration": 60,
    "start_time": "2023-02-24T16:22:45.155Z"
   },
   {
    "duration": 88,
    "start_time": "2023-02-24T16:22:53.942Z"
   },
   {
    "duration": 1347,
    "start_time": "2023-02-24T16:23:25.215Z"
   },
   {
    "duration": 279,
    "start_time": "2023-02-24T16:23:26.564Z"
   },
   {
    "duration": 23,
    "start_time": "2023-02-24T16:23:26.845Z"
   },
   {
    "duration": 106,
    "start_time": "2023-02-24T16:23:26.870Z"
   },
   {
    "duration": 49,
    "start_time": "2023-02-24T16:23:26.978Z"
   },
   {
    "duration": 97,
    "start_time": "2023-02-24T16:23:27.029Z"
   },
   {
    "duration": 41,
    "start_time": "2023-02-24T16:23:27.128Z"
   },
   {
    "duration": 32,
    "start_time": "2023-02-24T16:23:27.171Z"
   },
   {
    "duration": 29,
    "start_time": "2023-02-24T16:23:27.204Z"
   },
   {
    "duration": 29,
    "start_time": "2023-02-24T16:23:27.235Z"
   },
   {
    "duration": 13,
    "start_time": "2023-02-24T16:23:27.265Z"
   },
   {
    "duration": 38,
    "start_time": "2023-02-24T16:23:27.280Z"
   },
   {
    "duration": 18,
    "start_time": "2023-02-24T16:23:27.320Z"
   },
   {
    "duration": 22,
    "start_time": "2023-02-24T16:23:27.341Z"
   },
   {
    "duration": 43,
    "start_time": "2023-02-24T16:23:27.364Z"
   },
   {
    "duration": 17,
    "start_time": "2023-02-24T16:23:27.413Z"
   },
   {
    "duration": 25,
    "start_time": "2023-02-24T16:23:27.432Z"
   },
   {
    "duration": 38,
    "start_time": "2023-02-24T16:23:27.459Z"
   },
   {
    "duration": 113,
    "start_time": "2023-02-24T16:23:27.498Z"
   },
   {
    "duration": 107,
    "start_time": "2023-02-24T16:23:27.615Z"
   },
   {
    "duration": 18,
    "start_time": "2023-02-24T16:23:27.723Z"
   },
   {
    "duration": 77,
    "start_time": "2023-02-24T16:23:27.743Z"
   },
   {
    "duration": 32,
    "start_time": "2023-02-24T16:23:27.822Z"
   },
   {
    "duration": 20,
    "start_time": "2023-02-24T16:23:27.855Z"
   },
   {
    "duration": 20,
    "start_time": "2023-02-24T16:23:27.890Z"
   },
   {
    "duration": 63,
    "start_time": "2023-02-24T16:23:27.912Z"
   },
   {
    "duration": 54,
    "start_time": "2023-02-24T16:23:27.976Z"
   },
   {
    "duration": 114,
    "start_time": "2023-02-24T16:23:28.032Z"
   },
   {
    "duration": 149,
    "start_time": "2023-02-24T16:23:28.147Z"
   },
   {
    "duration": 58,
    "start_time": "2023-02-24T16:23:28.298Z"
   },
   {
    "duration": 115,
    "start_time": "2023-02-24T16:23:28.358Z"
   },
   {
    "duration": 11,
    "start_time": "2023-02-24T16:23:28.475Z"
   },
   {
    "duration": 236,
    "start_time": "2023-02-24T16:23:28.487Z"
   },
   {
    "duration": 170,
    "start_time": "2023-02-24T16:23:28.724Z"
   },
   {
    "duration": 167,
    "start_time": "2023-02-24T16:23:28.900Z"
   },
   {
    "duration": 71,
    "start_time": "2023-02-24T16:23:29.069Z"
   },
   {
    "duration": 505,
    "start_time": "2023-02-24T16:23:29.142Z"
   },
   {
    "duration": 628,
    "start_time": "2023-02-24T16:23:29.649Z"
   },
   {
    "duration": 21,
    "start_time": "2023-02-24T16:23:30.278Z"
   },
   {
    "duration": 238,
    "start_time": "2023-02-24T16:23:30.301Z"
   },
   {
    "duration": 1212,
    "start_time": "2023-02-24T16:24:03.912Z"
   },
   {
    "duration": 249,
    "start_time": "2023-02-24T16:24:05.126Z"
   },
   {
    "duration": 32,
    "start_time": "2023-02-24T16:24:05.376Z"
   },
   {
    "duration": 52,
    "start_time": "2023-02-24T16:24:05.410Z"
   },
   {
    "duration": 48,
    "start_time": "2023-02-24T16:24:05.464Z"
   },
   {
    "duration": 116,
    "start_time": "2023-02-24T16:24:05.514Z"
   },
   {
    "duration": 47,
    "start_time": "2023-02-24T16:24:05.632Z"
   },
   {
    "duration": 24,
    "start_time": "2023-02-24T16:24:05.687Z"
   },
   {
    "duration": 46,
    "start_time": "2023-02-24T16:24:05.714Z"
   },
   {
    "duration": 39,
    "start_time": "2023-02-24T16:24:05.763Z"
   },
   {
    "duration": 45,
    "start_time": "2023-02-24T16:24:05.804Z"
   },
   {
    "duration": 19,
    "start_time": "2023-02-24T16:24:05.852Z"
   },
   {
    "duration": 75,
    "start_time": "2023-02-24T16:24:05.873Z"
   },
   {
    "duration": 44,
    "start_time": "2023-02-24T16:24:05.951Z"
   },
   {
    "duration": 60,
    "start_time": "2023-02-24T16:24:05.997Z"
   },
   {
    "duration": 18,
    "start_time": "2023-02-24T16:24:06.058Z"
   },
   {
    "duration": 11,
    "start_time": "2023-02-24T16:24:06.077Z"
   },
   {
    "duration": 81,
    "start_time": "2023-02-24T16:24:06.092Z"
   },
   {
    "duration": 78,
    "start_time": "2023-02-24T16:24:06.175Z"
   },
   {
    "duration": 89,
    "start_time": "2023-02-24T16:24:06.254Z"
   },
   {
    "duration": 18,
    "start_time": "2023-02-24T16:24:06.345Z"
   },
   {
    "duration": 66,
    "start_time": "2023-02-24T16:24:06.364Z"
   },
   {
    "duration": 30,
    "start_time": "2023-02-24T16:24:06.431Z"
   },
   {
    "duration": 32,
    "start_time": "2023-02-24T16:24:06.462Z"
   },
   {
    "duration": 10,
    "start_time": "2023-02-24T16:24:06.496Z"
   },
   {
    "duration": 58,
    "start_time": "2023-02-24T16:24:06.507Z"
   },
   {
    "duration": 41,
    "start_time": "2023-02-24T16:24:06.567Z"
   },
   {
    "duration": 102,
    "start_time": "2023-02-24T16:24:06.609Z"
   },
   {
    "duration": 132,
    "start_time": "2023-02-24T16:24:06.714Z"
   },
   {
    "duration": 32,
    "start_time": "2023-02-24T16:24:06.848Z"
   },
   {
    "duration": 82,
    "start_time": "2023-02-24T16:24:06.896Z"
   },
   {
    "duration": 8,
    "start_time": "2023-02-24T16:24:06.980Z"
   },
   {
    "duration": 196,
    "start_time": "2023-02-24T16:24:06.989Z"
   },
   {
    "duration": 151,
    "start_time": "2023-02-24T16:24:07.186Z"
   },
   {
    "duration": 146,
    "start_time": "2023-02-24T16:24:07.339Z"
   },
   {
    "duration": 59,
    "start_time": "2023-02-24T16:24:07.488Z"
   },
   {
    "duration": 472,
    "start_time": "2023-02-24T16:24:07.548Z"
   },
   {
    "duration": 638,
    "start_time": "2023-02-24T16:24:08.022Z"
   },
   {
    "duration": 14,
    "start_time": "2023-02-24T16:24:08.662Z"
   },
   {
    "duration": 215,
    "start_time": "2023-02-24T16:24:08.687Z"
   },
   {
    "duration": 84,
    "start_time": "2023-02-24T16:24:34.263Z"
   },
   {
    "duration": 1635,
    "start_time": "2023-02-24T16:24:53.564Z"
   },
   {
    "duration": 76,
    "start_time": "2023-02-24T16:25:59.465Z"
   },
   {
    "duration": 1810,
    "start_time": "2023-02-24T16:26:23.409Z"
   },
   {
    "duration": 1774,
    "start_time": "2023-02-24T16:26:53.509Z"
   },
   {
    "duration": 1181,
    "start_time": "2023-02-24T16:29:00.547Z"
   },
   {
    "duration": 246,
    "start_time": "2023-02-24T16:29:01.730Z"
   },
   {
    "duration": 27,
    "start_time": "2023-02-24T16:29:01.977Z"
   },
   {
    "duration": 110,
    "start_time": "2023-02-24T16:29:02.006Z"
   },
   {
    "duration": 40,
    "start_time": "2023-02-24T16:29:02.119Z"
   },
   {
    "duration": 109,
    "start_time": "2023-02-24T16:29:02.160Z"
   },
   {
    "duration": 56,
    "start_time": "2023-02-24T16:29:02.271Z"
   },
   {
    "duration": 37,
    "start_time": "2023-02-24T16:29:02.328Z"
   },
   {
    "duration": 20,
    "start_time": "2023-02-24T16:29:02.367Z"
   },
   {
    "duration": 46,
    "start_time": "2023-02-24T16:29:02.390Z"
   },
   {
    "duration": 10,
    "start_time": "2023-02-24T16:29:02.437Z"
   },
   {
    "duration": 20,
    "start_time": "2023-02-24T16:29:02.448Z"
   },
   {
    "duration": 25,
    "start_time": "2023-02-24T16:29:02.470Z"
   },
   {
    "duration": 37,
    "start_time": "2023-02-24T16:29:02.496Z"
   },
   {
    "duration": 25,
    "start_time": "2023-02-24T16:29:02.535Z"
   },
   {
    "duration": 17,
    "start_time": "2023-02-24T16:29:02.561Z"
   },
   {
    "duration": 20,
    "start_time": "2023-02-24T16:29:02.580Z"
   },
   {
    "duration": 35,
    "start_time": "2023-02-24T16:29:02.605Z"
   },
   {
    "duration": 73,
    "start_time": "2023-02-24T16:29:02.642Z"
   },
   {
    "duration": 84,
    "start_time": "2023-02-24T16:29:02.717Z"
   },
   {
    "duration": 24,
    "start_time": "2023-02-24T16:29:02.802Z"
   },
   {
    "duration": 42,
    "start_time": "2023-02-24T16:29:02.827Z"
   },
   {
    "duration": 39,
    "start_time": "2023-02-24T16:29:02.885Z"
   },
   {
    "duration": 16,
    "start_time": "2023-02-24T16:29:02.926Z"
   },
   {
    "duration": 7,
    "start_time": "2023-02-24T16:29:02.943Z"
   },
   {
    "duration": 70,
    "start_time": "2023-02-24T16:29:02.952Z"
   },
   {
    "duration": 35,
    "start_time": "2023-02-24T16:29:03.024Z"
   },
   {
    "duration": 98,
    "start_time": "2023-02-24T16:29:03.062Z"
   },
   {
    "duration": 146,
    "start_time": "2023-02-24T16:29:03.161Z"
   },
   {
    "duration": 37,
    "start_time": "2023-02-24T16:29:03.309Z"
   },
   {
    "duration": 94,
    "start_time": "2023-02-24T16:29:03.348Z"
   },
   {
    "duration": 7,
    "start_time": "2023-02-24T16:29:03.443Z"
   },
   {
    "duration": 206,
    "start_time": "2023-02-24T16:29:03.452Z"
   },
   {
    "duration": 160,
    "start_time": "2023-02-24T16:29:03.659Z"
   },
   {
    "duration": 138,
    "start_time": "2023-02-24T16:29:03.820Z"
   },
   {
    "duration": 60,
    "start_time": "2023-02-24T16:29:03.960Z"
   },
   {
    "duration": 446,
    "start_time": "2023-02-24T16:29:04.022Z"
   },
   {
    "duration": 596,
    "start_time": "2023-02-24T16:29:04.470Z"
   },
   {
    "duration": 24,
    "start_time": "2023-02-24T16:29:05.068Z"
   },
   {
    "duration": 99,
    "start_time": "2023-02-24T16:29:05.093Z"
   },
   {
    "duration": 66,
    "start_time": "2023-02-24T16:29:05.193Z"
   },
   {
    "duration": 1439,
    "start_time": "2023-02-24T16:29:15.834Z"
   },
   {
    "duration": 1562,
    "start_time": "2023-02-24T16:29:26.413Z"
   },
   {
    "duration": 1579,
    "start_time": "2023-02-24T16:29:36.367Z"
   },
   {
    "duration": 1483,
    "start_time": "2023-02-24T16:29:42.032Z"
   },
   {
    "duration": 1800,
    "start_time": "2023-02-24T16:29:52.420Z"
   },
   {
    "duration": 1723,
    "start_time": "2023-02-24T16:30:05.440Z"
   },
   {
    "duration": 1611,
    "start_time": "2023-02-24T16:30:26.860Z"
   },
   {
    "duration": 1488,
    "start_time": "2023-02-24T16:30:36.320Z"
   },
   {
    "duration": 1431,
    "start_time": "2023-02-24T16:30:49.302Z"
   },
   {
    "duration": 1618,
    "start_time": "2023-02-24T16:31:37.009Z"
   },
   {
    "duration": 1438,
    "start_time": "2023-02-24T16:31:50.233Z"
   },
   {
    "duration": 1291,
    "start_time": "2023-02-24T16:36:01.770Z"
   },
   {
    "duration": 283,
    "start_time": "2023-02-24T16:36:03.063Z"
   },
   {
    "duration": 21,
    "start_time": "2023-02-24T16:36:03.347Z"
   },
   {
    "duration": 54,
    "start_time": "2023-02-24T16:36:03.370Z"
   },
   {
    "duration": 31,
    "start_time": "2023-02-24T16:36:03.427Z"
   },
   {
    "duration": 108,
    "start_time": "2023-02-24T16:36:03.459Z"
   },
   {
    "duration": 57,
    "start_time": "2023-02-24T16:36:03.569Z"
   },
   {
    "duration": 14,
    "start_time": "2023-02-24T16:36:03.627Z"
   },
   {
    "duration": 12,
    "start_time": "2023-02-24T16:36:03.643Z"
   },
   {
    "duration": 50,
    "start_time": "2023-02-24T16:36:03.656Z"
   },
   {
    "duration": 11,
    "start_time": "2023-02-24T16:36:03.710Z"
   },
   {
    "duration": 16,
    "start_time": "2023-02-24T16:36:03.723Z"
   },
   {
    "duration": 18,
    "start_time": "2023-02-24T16:36:03.740Z"
   },
   {
    "duration": 15,
    "start_time": "2023-02-24T16:36:03.760Z"
   },
   {
    "duration": 56,
    "start_time": "2023-02-24T16:36:03.776Z"
   },
   {
    "duration": 16,
    "start_time": "2023-02-24T16:36:03.834Z"
   },
   {
    "duration": 8,
    "start_time": "2023-02-24T16:36:03.851Z"
   },
   {
    "duration": 22,
    "start_time": "2023-02-24T16:36:03.860Z"
   },
   {
    "duration": 85,
    "start_time": "2023-02-24T16:36:03.883Z"
   },
   {
    "duration": 79,
    "start_time": "2023-02-24T16:36:03.969Z"
   },
   {
    "duration": 17,
    "start_time": "2023-02-24T16:36:04.049Z"
   },
   {
    "duration": 60,
    "start_time": "2023-02-24T16:36:04.067Z"
   },
   {
    "duration": 29,
    "start_time": "2023-02-24T16:36:04.129Z"
   },
   {
    "duration": 14,
    "start_time": "2023-02-24T16:36:04.160Z"
   },
   {
    "duration": 15,
    "start_time": "2023-02-24T16:36:04.190Z"
   },
   {
    "duration": 41,
    "start_time": "2023-02-24T16:36:04.206Z"
   },
   {
    "duration": 31,
    "start_time": "2023-02-24T16:36:04.248Z"
   },
   {
    "duration": 84,
    "start_time": "2023-02-24T16:36:04.281Z"
   },
   {
    "duration": 147,
    "start_time": "2023-02-24T16:36:04.367Z"
   },
   {
    "duration": 30,
    "start_time": "2023-02-24T16:36:04.516Z"
   },
   {
    "duration": 88,
    "start_time": "2023-02-24T16:36:04.547Z"
   },
   {
    "duration": 7,
    "start_time": "2023-02-24T16:36:04.637Z"
   },
   {
    "duration": 206,
    "start_time": "2023-02-24T16:36:04.646Z"
   },
   {
    "duration": 158,
    "start_time": "2023-02-24T16:36:04.854Z"
   },
   {
    "duration": 154,
    "start_time": "2023-02-24T16:36:05.014Z"
   },
   {
    "duration": 74,
    "start_time": "2023-02-24T16:36:05.169Z"
   },
   {
    "duration": 465,
    "start_time": "2023-02-24T16:36:05.245Z"
   },
   {
    "duration": 644,
    "start_time": "2023-02-24T16:36:05.717Z"
   },
   {
    "duration": 11,
    "start_time": "2023-02-24T16:36:06.362Z"
   },
   {
    "duration": 78,
    "start_time": "2023-02-24T16:36:06.375Z"
   },
   {
    "duration": 1505,
    "start_time": "2023-02-24T16:36:06.456Z"
   },
   {
    "duration": 1680,
    "start_time": "2023-02-26T11:46:21.213Z"
   },
   {
    "duration": 786,
    "start_time": "2023-02-26T11:46:22.895Z"
   },
   {
    "duration": 24,
    "start_time": "2023-02-26T11:46:23.683Z"
   },
   {
    "duration": 58,
    "start_time": "2023-02-26T11:46:23.709Z"
   },
   {
    "duration": 76,
    "start_time": "2023-02-26T11:46:23.770Z"
   },
   {
    "duration": 120,
    "start_time": "2023-02-26T11:46:23.848Z"
   },
   {
    "duration": 39,
    "start_time": "2023-02-26T11:46:23.969Z"
   },
   {
    "duration": 36,
    "start_time": "2023-02-26T11:46:24.010Z"
   },
   {
    "duration": 17,
    "start_time": "2023-02-26T11:46:24.048Z"
   },
   {
    "duration": 28,
    "start_time": "2023-02-26T11:46:24.067Z"
   },
   {
    "duration": 20,
    "start_time": "2023-02-26T11:46:24.097Z"
   },
   {
    "duration": 12,
    "start_time": "2023-02-26T11:46:24.137Z"
   },
   {
    "duration": 16,
    "start_time": "2023-02-26T11:46:24.152Z"
   },
   {
    "duration": 20,
    "start_time": "2023-02-26T11:46:24.172Z"
   },
   {
    "duration": 43,
    "start_time": "2023-02-26T11:46:24.194Z"
   },
   {
    "duration": 22,
    "start_time": "2023-02-26T11:46:24.239Z"
   },
   {
    "duration": 17,
    "start_time": "2023-02-26T11:46:24.263Z"
   },
   {
    "duration": 40,
    "start_time": "2023-02-26T11:46:24.282Z"
   },
   {
    "duration": 80,
    "start_time": "2023-02-26T11:46:24.324Z"
   },
   {
    "duration": 94,
    "start_time": "2023-02-26T11:46:24.406Z"
   },
   {
    "duration": 34,
    "start_time": "2023-02-26T11:46:24.503Z"
   },
   {
    "duration": 47,
    "start_time": "2023-02-26T11:46:24.539Z"
   },
   {
    "duration": 57,
    "start_time": "2023-02-26T11:46:24.588Z"
   },
   {
    "duration": 20,
    "start_time": "2023-02-26T11:46:24.647Z"
   },
   {
    "duration": 21,
    "start_time": "2023-02-26T11:46:24.669Z"
   },
   {
    "duration": 81,
    "start_time": "2023-02-26T11:46:24.692Z"
   },
   {
    "duration": 39,
    "start_time": "2023-02-26T11:46:24.775Z"
   },
   {
    "duration": 114,
    "start_time": "2023-02-26T11:46:24.816Z"
   },
   {
    "duration": 150,
    "start_time": "2023-02-26T11:46:24.937Z"
   },
   {
    "duration": 49,
    "start_time": "2023-02-26T11:46:25.089Z"
   },
   {
    "duration": 84,
    "start_time": "2023-02-26T11:46:25.139Z"
   },
   {
    "duration": 15,
    "start_time": "2023-02-26T11:46:25.224Z"
   },
   {
    "duration": 234,
    "start_time": "2023-02-26T11:46:25.241Z"
   },
   {
    "duration": 175,
    "start_time": "2023-02-26T11:46:25.476Z"
   },
   {
    "duration": 171,
    "start_time": "2023-02-26T11:46:25.652Z"
   },
   {
    "duration": 63,
    "start_time": "2023-02-26T11:46:25.825Z"
   },
   {
    "duration": 509,
    "start_time": "2023-02-26T11:46:25.891Z"
   },
   {
    "duration": 652,
    "start_time": "2023-02-26T11:46:26.402Z"
   },
   {
    "duration": 19,
    "start_time": "2023-02-26T11:46:27.056Z"
   },
   {
    "duration": 106,
    "start_time": "2023-02-26T11:46:27.078Z"
   },
   {
    "duration": 1717,
    "start_time": "2023-02-26T11:46:27.187Z"
   },
   {
    "duration": 76,
    "start_time": "2023-02-26T11:47:14.881Z"
   },
   {
    "duration": 1705,
    "start_time": "2023-02-26T11:47:18.449Z"
   },
   {
    "duration": 64,
    "start_time": "2023-02-26T11:47:41.454Z"
   },
   {
    "duration": 1651,
    "start_time": "2023-02-26T11:47:43.543Z"
   },
   {
    "duration": 1313,
    "start_time": "2023-02-26T11:48:24.731Z"
   },
   {
    "duration": 278,
    "start_time": "2023-02-26T11:48:26.046Z"
   },
   {
    "duration": 23,
    "start_time": "2023-02-26T11:48:26.325Z"
   },
   {
    "duration": 55,
    "start_time": "2023-02-26T11:48:26.350Z"
   },
   {
    "duration": 58,
    "start_time": "2023-02-26T11:48:26.407Z"
   },
   {
    "duration": 113,
    "start_time": "2023-02-26T11:48:26.466Z"
   },
   {
    "duration": 39,
    "start_time": "2023-02-26T11:48:26.581Z"
   },
   {
    "duration": 26,
    "start_time": "2023-02-26T11:48:26.622Z"
   },
   {
    "duration": 25,
    "start_time": "2023-02-26T11:48:26.650Z"
   },
   {
    "duration": 21,
    "start_time": "2023-02-26T11:48:26.678Z"
   },
   {
    "duration": 13,
    "start_time": "2023-02-26T11:48:26.702Z"
   },
   {
    "duration": 32,
    "start_time": "2023-02-26T11:48:26.716Z"
   },
   {
    "duration": 18,
    "start_time": "2023-02-26T11:48:26.750Z"
   },
   {
    "duration": 15,
    "start_time": "2023-02-26T11:48:26.770Z"
   },
   {
    "duration": 33,
    "start_time": "2023-02-26T11:48:26.787Z"
   },
   {
    "duration": 30,
    "start_time": "2023-02-26T11:48:26.822Z"
   },
   {
    "duration": 11,
    "start_time": "2023-02-26T11:48:26.854Z"
   },
   {
    "duration": 34,
    "start_time": "2023-02-26T11:48:26.866Z"
   },
   {
    "duration": 90,
    "start_time": "2023-02-26T11:48:26.901Z"
   },
   {
    "duration": 89,
    "start_time": "2023-02-26T11:48:26.992Z"
   },
   {
    "duration": 18,
    "start_time": "2023-02-26T11:48:27.083Z"
   },
   {
    "duration": 68,
    "start_time": "2023-02-26T11:48:27.103Z"
   },
   {
    "duration": 56,
    "start_time": "2023-02-26T11:48:27.172Z"
   },
   {
    "duration": 18,
    "start_time": "2023-02-26T11:48:27.230Z"
   },
   {
    "duration": 9,
    "start_time": "2023-02-26T11:48:27.250Z"
   },
   {
    "duration": 51,
    "start_time": "2023-02-26T11:48:27.261Z"
   },
   {
    "duration": 49,
    "start_time": "2023-02-26T11:48:27.314Z"
   },
   {
    "duration": 101,
    "start_time": "2023-02-26T11:48:27.367Z"
   },
   {
    "duration": 148,
    "start_time": "2023-02-26T11:48:27.470Z"
   },
   {
    "duration": 49,
    "start_time": "2023-02-26T11:48:27.619Z"
   },
   {
    "duration": 100,
    "start_time": "2023-02-26T11:48:27.670Z"
   },
   {
    "duration": 8,
    "start_time": "2023-02-26T11:48:27.771Z"
   },
   {
    "duration": 224,
    "start_time": "2023-02-26T11:48:27.780Z"
   },
   {
    "duration": 184,
    "start_time": "2023-02-26T11:48:28.006Z"
   },
   {
    "duration": 161,
    "start_time": "2023-02-26T11:48:28.192Z"
   },
   {
    "duration": 54,
    "start_time": "2023-02-26T11:48:28.355Z"
   },
   {
    "duration": 466,
    "start_time": "2023-02-26T11:48:28.411Z"
   },
   {
    "duration": 598,
    "start_time": "2023-02-26T11:48:28.879Z"
   },
   {
    "duration": 13,
    "start_time": "2023-02-26T11:48:29.479Z"
   },
   {
    "duration": 91,
    "start_time": "2023-02-26T11:48:29.493Z"
   },
   {
    "duration": 1658,
    "start_time": "2023-02-26T11:48:29.586Z"
   },
   {
    "duration": 1556,
    "start_time": "2023-02-26T11:49:13.273Z"
   },
   {
    "duration": 1660,
    "start_time": "2023-02-26T11:49:43.473Z"
   },
   {
    "duration": 89,
    "start_time": "2023-02-26T11:53:28.086Z"
   },
   {
    "duration": 6,
    "start_time": "2023-02-26T11:54:09.956Z"
   },
   {
    "duration": 5,
    "start_time": "2023-02-26T11:54:29.208Z"
   },
   {
    "duration": 106,
    "start_time": "2023-02-26T11:55:27.178Z"
   },
   {
    "duration": 3299,
    "start_time": "2023-02-26T11:55:40.048Z"
   },
   {
    "duration": 1802,
    "start_time": "2023-02-26T11:56:41.538Z"
   },
   {
    "duration": 9,
    "start_time": "2023-02-26T11:58:09.744Z"
   },
   {
    "duration": 3543,
    "start_time": "2023-02-26T11:58:13.328Z"
   },
   {
    "duration": 69,
    "start_time": "2023-02-26T11:59:51.376Z"
   },
   {
    "duration": 1523,
    "start_time": "2023-02-26T11:59:54.066Z"
   },
   {
    "duration": 875,
    "start_time": "2023-02-26T12:03:43.579Z"
   },
   {
    "duration": 1300,
    "start_time": "2023-02-26T12:05:04.768Z"
   },
   {
    "duration": 12,
    "start_time": "2023-02-26T12:05:27.587Z"
   },
   {
    "duration": 6,
    "start_time": "2023-02-26T12:05:34.891Z"
   },
   {
    "duration": 1559,
    "start_time": "2023-02-26T12:06:07.989Z"
   },
   {
    "duration": 12,
    "start_time": "2023-02-26T12:06:13.257Z"
   },
   {
    "duration": 11,
    "start_time": "2023-02-26T12:08:20.636Z"
   },
   {
    "duration": 49,
    "start_time": "2023-02-26T12:08:26.919Z"
   },
   {
    "duration": 13,
    "start_time": "2023-02-26T12:08:43.559Z"
   },
   {
    "duration": 30,
    "start_time": "2023-02-26T12:09:09.139Z"
   },
   {
    "duration": 10,
    "start_time": "2023-02-26T12:11:46.990Z"
   },
   {
    "duration": 29,
    "start_time": "2023-02-26T12:14:41.016Z"
   },
   {
    "duration": 10,
    "start_time": "2023-02-26T12:14:54.126Z"
   },
   {
    "duration": 46,
    "start_time": "2023-02-26T12:22:55.308Z"
   },
   {
    "duration": 35,
    "start_time": "2023-02-26T13:23:47.707Z"
   },
   {
    "duration": 39,
    "start_time": "2023-02-26T13:24:42.954Z"
   },
   {
    "duration": 17,
    "start_time": "2023-02-26T13:25:00.426Z"
   },
   {
    "duration": 1301,
    "start_time": "2023-02-26T13:25:08.210Z"
   },
   {
    "duration": 268,
    "start_time": "2023-02-26T13:25:09.513Z"
   },
   {
    "duration": 22,
    "start_time": "2023-02-26T13:25:09.783Z"
   },
   {
    "duration": 54,
    "start_time": "2023-02-26T13:25:09.807Z"
   },
   {
    "duration": 39,
    "start_time": "2023-02-26T13:25:09.863Z"
   },
   {
    "duration": 109,
    "start_time": "2023-02-26T13:25:09.904Z"
   },
   {
    "duration": 50,
    "start_time": "2023-02-26T13:25:10.015Z"
   },
   {
    "duration": 19,
    "start_time": "2023-02-26T13:25:10.067Z"
   },
   {
    "duration": 16,
    "start_time": "2023-02-26T13:25:10.087Z"
   },
   {
    "duration": 37,
    "start_time": "2023-02-26T13:25:10.105Z"
   },
   {
    "duration": 12,
    "start_time": "2023-02-26T13:25:10.143Z"
   },
   {
    "duration": 12,
    "start_time": "2023-02-26T13:25:10.156Z"
   },
   {
    "duration": 12,
    "start_time": "2023-02-26T13:25:10.169Z"
   },
   {
    "duration": 70,
    "start_time": "2023-02-26T13:25:10.183Z"
   },
   {
    "duration": 59,
    "start_time": "2023-02-26T13:25:10.255Z"
   },
   {
    "duration": 29,
    "start_time": "2023-02-26T13:25:10.316Z"
   },
   {
    "duration": 16,
    "start_time": "2023-02-26T13:25:10.347Z"
   },
   {
    "duration": 33,
    "start_time": "2023-02-26T13:25:10.365Z"
   },
   {
    "duration": 75,
    "start_time": "2023-02-26T13:25:10.400Z"
   },
   {
    "duration": 86,
    "start_time": "2023-02-26T13:25:10.477Z"
   },
   {
    "duration": 19,
    "start_time": "2023-02-26T13:25:10.565Z"
   },
   {
    "duration": 67,
    "start_time": "2023-02-26T13:25:10.585Z"
   },
   {
    "duration": 47,
    "start_time": "2023-02-26T13:25:10.653Z"
   },
   {
    "duration": 58,
    "start_time": "2023-02-26T13:25:10.702Z"
   },
   {
    "duration": 39,
    "start_time": "2023-02-26T13:25:10.762Z"
   },
   {
    "duration": 106,
    "start_time": "2023-02-26T13:25:10.803Z"
   },
   {
    "duration": 157,
    "start_time": "2023-02-26T13:25:10.911Z"
   },
   {
    "duration": 37,
    "start_time": "2023-02-26T13:25:11.071Z"
   },
   {
    "duration": 98,
    "start_time": "2023-02-26T13:25:11.110Z"
   },
   {
    "duration": 8,
    "start_time": "2023-02-26T13:25:11.209Z"
   },
   {
    "duration": 222,
    "start_time": "2023-02-26T13:25:11.218Z"
   },
   {
    "duration": 154,
    "start_time": "2023-02-26T13:25:11.442Z"
   },
   {
    "duration": 156,
    "start_time": "2023-02-26T13:25:11.598Z"
   },
   {
    "duration": 53,
    "start_time": "2023-02-26T13:25:11.756Z"
   },
   {
    "duration": 479,
    "start_time": "2023-02-26T13:25:11.811Z"
   },
   {
    "duration": 700,
    "start_time": "2023-02-26T13:25:12.292Z"
   },
   {
    "duration": 12,
    "start_time": "2023-02-26T13:25:12.994Z"
   },
   {
    "duration": 75,
    "start_time": "2023-02-26T13:25:13.007Z"
   },
   {
    "duration": 27,
    "start_time": "2023-02-26T13:25:13.084Z"
   },
   {
    "duration": 82,
    "start_time": "2023-02-26T13:25:13.112Z"
   },
   {
    "duration": 1684,
    "start_time": "2023-02-26T13:25:13.196Z"
   },
   {
    "duration": 17,
    "start_time": "2023-02-26T13:25:14.881Z"
   },
   {
    "duration": 34,
    "start_time": "2023-02-26T13:25:49.714Z"
   },
   {
    "duration": 20,
    "start_time": "2023-02-26T13:27:16.910Z"
   },
   {
    "duration": 16,
    "start_time": "2023-02-26T13:27:37.647Z"
   },
   {
    "duration": 110,
    "start_time": "2023-02-26T13:28:50.400Z"
   },
   {
    "duration": 7,
    "start_time": "2023-02-26T13:29:11.092Z"
   },
   {
    "duration": 8,
    "start_time": "2023-02-26T13:29:43.093Z"
   },
   {
    "duration": 13,
    "start_time": "2023-02-26T13:30:04.534Z"
   },
   {
    "duration": 8,
    "start_time": "2023-02-26T13:30:12.352Z"
   },
   {
    "duration": 5,
    "start_time": "2023-02-26T13:30:28.860Z"
   },
   {
    "duration": 369,
    "start_time": "2023-02-26T13:30:41.523Z"
   },
   {
    "duration": 6,
    "start_time": "2023-02-26T13:30:43.951Z"
   },
   {
    "duration": 456,
    "start_time": "2023-02-26T13:30:54.060Z"
   },
   {
    "duration": 9,
    "start_time": "2023-02-26T13:30:56.624Z"
   },
   {
    "duration": 13,
    "start_time": "2023-02-26T13:31:06.493Z"
   },
   {
    "duration": 6,
    "start_time": "2023-02-26T13:31:56.821Z"
   },
   {
    "duration": 7,
    "start_time": "2023-02-26T13:32:37.680Z"
   },
   {
    "duration": 577,
    "start_time": "2023-02-26T13:32:52.198Z"
   },
   {
    "duration": 24,
    "start_time": "2023-02-26T13:32:56.059Z"
   },
   {
    "duration": 21,
    "start_time": "2023-02-26T13:33:10.588Z"
   },
   {
    "duration": 22,
    "start_time": "2023-02-26T13:39:33.406Z"
   },
   {
    "duration": 12,
    "start_time": "2023-02-26T13:39:53.516Z"
   },
   {
    "duration": 11,
    "start_time": "2023-02-26T13:40:09.736Z"
   },
   {
    "duration": 36,
    "start_time": "2023-02-26T13:40:24.234Z"
   },
   {
    "duration": 23,
    "start_time": "2023-02-26T13:41:15.187Z"
   },
   {
    "duration": 15,
    "start_time": "2023-02-26T13:41:49.285Z"
   },
   {
    "duration": 28,
    "start_time": "2023-02-26T13:42:00.227Z"
   },
   {
    "duration": 31,
    "start_time": "2023-02-26T13:42:18.034Z"
   },
   {
    "duration": 1841,
    "start_time": "2023-02-26T13:42:58.367Z"
   },
   {
    "duration": 44,
    "start_time": "2023-02-26T13:43:14.438Z"
   },
   {
    "duration": 349,
    "start_time": "2023-02-26T13:45:31.634Z"
   },
   {
    "duration": 24,
    "start_time": "2023-02-26T13:46:15.315Z"
   },
   {
    "duration": 1507,
    "start_time": "2023-02-26T13:49:43.835Z"
   },
   {
    "duration": 1315,
    "start_time": "2023-02-26T13:50:08.437Z"
   },
   {
    "duration": 273,
    "start_time": "2023-02-26T13:50:09.755Z"
   },
   {
    "duration": 33,
    "start_time": "2023-02-26T13:50:10.031Z"
   },
   {
    "duration": 79,
    "start_time": "2023-02-26T13:50:10.066Z"
   },
   {
    "duration": 37,
    "start_time": "2023-02-26T13:50:10.147Z"
   },
   {
    "duration": 106,
    "start_time": "2023-02-26T13:50:10.186Z"
   },
   {
    "duration": 51,
    "start_time": "2023-02-26T13:50:10.293Z"
   },
   {
    "duration": 15,
    "start_time": "2023-02-26T13:50:10.345Z"
   },
   {
    "duration": 18,
    "start_time": "2023-02-26T13:50:10.362Z"
   },
   {
    "duration": 23,
    "start_time": "2023-02-26T13:50:10.382Z"
   },
   {
    "duration": 21,
    "start_time": "2023-02-26T13:50:10.406Z"
   },
   {
    "duration": 26,
    "start_time": "2023-02-26T13:50:10.429Z"
   },
   {
    "duration": 27,
    "start_time": "2023-02-26T13:50:10.457Z"
   },
   {
    "duration": 32,
    "start_time": "2023-02-26T13:50:10.488Z"
   },
   {
    "duration": 56,
    "start_time": "2023-02-26T13:50:10.521Z"
   },
   {
    "duration": 21,
    "start_time": "2023-02-26T13:50:10.579Z"
   },
   {
    "duration": 20,
    "start_time": "2023-02-26T13:50:10.602Z"
   },
   {
    "duration": 34,
    "start_time": "2023-02-26T13:50:10.624Z"
   },
   {
    "duration": 74,
    "start_time": "2023-02-26T13:50:10.660Z"
   },
   {
    "duration": 84,
    "start_time": "2023-02-26T13:50:10.737Z"
   },
   {
    "duration": 25,
    "start_time": "2023-02-26T13:50:10.823Z"
   },
   {
    "duration": 49,
    "start_time": "2023-02-26T13:50:10.850Z"
   },
   {
    "duration": 71,
    "start_time": "2023-02-26T13:50:10.901Z"
   },
   {
    "duration": 46,
    "start_time": "2023-02-26T13:50:10.974Z"
   },
   {
    "duration": 50,
    "start_time": "2023-02-26T13:50:11.022Z"
   },
   {
    "duration": 103,
    "start_time": "2023-02-26T13:50:11.073Z"
   },
   {
    "duration": 150,
    "start_time": "2023-02-26T13:50:11.179Z"
   },
   {
    "duration": 36,
    "start_time": "2023-02-26T13:50:11.338Z"
   },
   {
    "duration": 107,
    "start_time": "2023-02-26T13:50:11.376Z"
   },
   {
    "duration": 7,
    "start_time": "2023-02-26T13:50:11.486Z"
   },
   {
    "duration": 221,
    "start_time": "2023-02-26T13:50:11.495Z"
   },
   {
    "duration": 170,
    "start_time": "2023-02-26T13:50:11.718Z"
   },
   {
    "duration": 151,
    "start_time": "2023-02-26T13:50:11.890Z"
   },
   {
    "duration": 56,
    "start_time": "2023-02-26T13:50:12.043Z"
   },
   {
    "duration": 569,
    "start_time": "2023-02-26T13:50:12.101Z"
   },
   {
    "duration": 607,
    "start_time": "2023-02-26T13:50:12.672Z"
   },
   {
    "duration": 13,
    "start_time": "2023-02-26T13:50:13.281Z"
   },
   {
    "duration": 54,
    "start_time": "2023-02-26T13:50:13.295Z"
   },
   {
    "duration": 28,
    "start_time": "2023-02-26T13:50:13.351Z"
   },
   {
    "duration": 93,
    "start_time": "2023-02-26T13:50:13.380Z"
   },
   {
    "duration": 1615,
    "start_time": "2023-02-26T13:50:13.477Z"
   },
   {
    "duration": 21,
    "start_time": "2023-02-26T13:51:18.686Z"
   },
   {
    "duration": 19,
    "start_time": "2023-02-26T13:52:08.553Z"
   },
   {
    "duration": 465,
    "start_time": "2023-02-26T13:52:47.781Z"
   },
   {
    "duration": 16,
    "start_time": "2023-02-26T13:53:10.270Z"
   },
   {
    "duration": 3371,
    "start_time": "2023-02-26T13:55:00.664Z"
   },
   {
    "duration": 1442,
    "start_time": "2023-02-26T13:55:37.733Z"
   },
   {
    "duration": 306,
    "start_time": "2023-02-26T13:55:39.178Z"
   },
   {
    "duration": 24,
    "start_time": "2023-02-26T13:55:39.486Z"
   },
   {
    "duration": 59,
    "start_time": "2023-02-26T13:55:39.512Z"
   },
   {
    "duration": 37,
    "start_time": "2023-02-26T13:55:39.573Z"
   },
   {
    "duration": 117,
    "start_time": "2023-02-26T13:55:39.639Z"
   },
   {
    "duration": 53,
    "start_time": "2023-02-26T13:55:39.758Z"
   },
   {
    "duration": 43,
    "start_time": "2023-02-26T13:55:39.813Z"
   },
   {
    "duration": 12,
    "start_time": "2023-02-26T13:55:39.858Z"
   },
   {
    "duration": 34,
    "start_time": "2023-02-26T13:55:39.872Z"
   },
   {
    "duration": 32,
    "start_time": "2023-02-26T13:55:39.908Z"
   },
   {
    "duration": 35,
    "start_time": "2023-02-26T13:55:39.942Z"
   },
   {
    "duration": 29,
    "start_time": "2023-02-26T13:55:39.979Z"
   },
   {
    "duration": 71,
    "start_time": "2023-02-26T13:55:40.011Z"
   },
   {
    "duration": 32,
    "start_time": "2023-02-26T13:55:40.084Z"
   },
   {
    "duration": 32,
    "start_time": "2023-02-26T13:55:40.118Z"
   },
   {
    "duration": 36,
    "start_time": "2023-02-26T13:55:40.152Z"
   },
   {
    "duration": 48,
    "start_time": "2023-02-26T13:55:40.190Z"
   },
   {
    "duration": 93,
    "start_time": "2023-02-26T13:55:40.240Z"
   },
   {
    "duration": 103,
    "start_time": "2023-02-26T13:55:40.335Z"
   },
   {
    "duration": 25,
    "start_time": "2023-02-26T13:55:40.440Z"
   },
   {
    "duration": 48,
    "start_time": "2023-02-26T13:55:40.466Z"
   },
   {
    "duration": 77,
    "start_time": "2023-02-26T13:55:40.515Z"
   },
   {
    "duration": 73,
    "start_time": "2023-02-26T13:55:40.593Z"
   },
   {
    "duration": 37,
    "start_time": "2023-02-26T13:55:40.668Z"
   },
   {
    "duration": 107,
    "start_time": "2023-02-26T13:55:40.707Z"
   },
   {
    "duration": 162,
    "start_time": "2023-02-26T13:55:40.816Z"
   },
   {
    "duration": 39,
    "start_time": "2023-02-26T13:55:40.980Z"
   },
   {
    "duration": 108,
    "start_time": "2023-02-26T13:55:41.021Z"
   },
   {
    "duration": 15,
    "start_time": "2023-02-26T13:55:41.130Z"
   },
   {
    "duration": 235,
    "start_time": "2023-02-26T13:55:41.147Z"
   },
   {
    "duration": 194,
    "start_time": "2023-02-26T13:55:41.383Z"
   },
   {
    "duration": 174,
    "start_time": "2023-02-26T13:55:41.580Z"
   },
   {
    "duration": 54,
    "start_time": "2023-02-26T13:55:41.756Z"
   },
   {
    "duration": 541,
    "start_time": "2023-02-26T13:55:41.812Z"
   },
   {
    "duration": 456,
    "start_time": "2023-02-26T13:55:42.356Z"
   },
   {
    "duration": 0,
    "start_time": "2023-02-26T13:55:42.814Z"
   },
   {
    "duration": 0,
    "start_time": "2023-02-26T13:55:42.816Z"
   },
   {
    "duration": 0,
    "start_time": "2023-02-26T13:55:42.817Z"
   },
   {
    "duration": 0,
    "start_time": "2023-02-26T13:55:42.818Z"
   },
   {
    "duration": 0,
    "start_time": "2023-02-26T13:55:42.820Z"
   },
   {
    "duration": 0,
    "start_time": "2023-02-26T13:55:42.822Z"
   },
   {
    "duration": 1314,
    "start_time": "2023-02-26T13:56:21.693Z"
   },
   {
    "duration": 282,
    "start_time": "2023-02-26T13:56:23.009Z"
   },
   {
    "duration": 26,
    "start_time": "2023-02-26T13:56:23.293Z"
   },
   {
    "duration": 59,
    "start_time": "2023-02-26T13:56:23.321Z"
   },
   {
    "duration": 60,
    "start_time": "2023-02-26T13:56:23.383Z"
   },
   {
    "duration": 107,
    "start_time": "2023-02-26T13:56:23.445Z"
   },
   {
    "duration": 43,
    "start_time": "2023-02-26T13:56:23.554Z"
   },
   {
    "duration": 20,
    "start_time": "2023-02-26T13:56:23.600Z"
   },
   {
    "duration": 16,
    "start_time": "2023-02-26T13:56:23.640Z"
   },
   {
    "duration": 36,
    "start_time": "2023-02-26T13:56:23.657Z"
   },
   {
    "duration": 11,
    "start_time": "2023-02-26T13:56:23.695Z"
   },
   {
    "duration": 19,
    "start_time": "2023-02-26T13:56:23.708Z"
   },
   {
    "duration": 27,
    "start_time": "2023-02-26T13:56:23.729Z"
   },
   {
    "duration": 20,
    "start_time": "2023-02-26T13:56:23.763Z"
   },
   {
    "duration": 29,
    "start_time": "2023-02-26T13:56:23.785Z"
   },
   {
    "duration": 28,
    "start_time": "2023-02-26T13:56:23.817Z"
   },
   {
    "duration": 45,
    "start_time": "2023-02-26T13:56:23.847Z"
   },
   {
    "duration": 32,
    "start_time": "2023-02-26T13:56:23.894Z"
   },
   {
    "duration": 81,
    "start_time": "2023-02-26T13:56:23.927Z"
   },
   {
    "duration": 87,
    "start_time": "2023-02-26T13:56:24.010Z"
   },
   {
    "duration": 20,
    "start_time": "2023-02-26T13:56:24.099Z"
   },
   {
    "duration": 68,
    "start_time": "2023-02-26T13:56:24.120Z"
   },
   {
    "duration": 63,
    "start_time": "2023-02-26T13:56:24.190Z"
   },
   {
    "duration": 39,
    "start_time": "2023-02-26T13:56:24.254Z"
   },
   {
    "duration": 65,
    "start_time": "2023-02-26T13:56:24.294Z"
   },
   {
    "duration": 108,
    "start_time": "2023-02-26T13:56:24.362Z"
   },
   {
    "duration": 155,
    "start_time": "2023-02-26T13:56:24.472Z"
   },
   {
    "duration": 45,
    "start_time": "2023-02-26T13:56:24.629Z"
   },
   {
    "duration": 107,
    "start_time": "2023-02-26T13:56:24.676Z"
   },
   {
    "duration": 8,
    "start_time": "2023-02-26T13:56:24.784Z"
   },
   {
    "duration": 213,
    "start_time": "2023-02-26T13:56:24.794Z"
   },
   {
    "duration": 160,
    "start_time": "2023-02-26T13:56:25.009Z"
   },
   {
    "duration": 154,
    "start_time": "2023-02-26T13:56:25.172Z"
   },
   {
    "duration": 64,
    "start_time": "2023-02-26T13:56:25.329Z"
   },
   {
    "duration": 487,
    "start_time": "2023-02-26T13:56:25.395Z"
   },
   {
    "duration": 640,
    "start_time": "2023-02-26T13:56:25.883Z"
   },
   {
    "duration": 17,
    "start_time": "2023-02-26T13:56:26.525Z"
   },
   {
    "duration": 56,
    "start_time": "2023-02-26T13:56:26.543Z"
   },
   {
    "duration": 38,
    "start_time": "2023-02-26T13:56:26.601Z"
   },
   {
    "duration": 78,
    "start_time": "2023-02-26T13:56:26.642Z"
   },
   {
    "duration": 1700,
    "start_time": "2023-02-26T13:56:26.724Z"
   },
   {
    "duration": 1884,
    "start_time": "2023-02-26T13:56:28.425Z"
   },
   {
    "duration": 9,
    "start_time": "2023-02-26T13:58:05.436Z"
   },
   {
    "duration": 25,
    "start_time": "2023-02-26T14:00:32.620Z"
   },
   {
    "duration": 12,
    "start_time": "2023-02-26T14:00:46.684Z"
   },
   {
    "duration": 1356,
    "start_time": "2023-02-26T14:00:54.530Z"
   },
   {
    "duration": 280,
    "start_time": "2023-02-26T14:00:55.889Z"
   },
   {
    "duration": 23,
    "start_time": "2023-02-26T14:00:56.171Z"
   },
   {
    "duration": 76,
    "start_time": "2023-02-26T14:00:56.196Z"
   },
   {
    "duration": 57,
    "start_time": "2023-02-26T14:00:56.275Z"
   },
   {
    "duration": 106,
    "start_time": "2023-02-26T14:00:56.338Z"
   },
   {
    "duration": 43,
    "start_time": "2023-02-26T14:00:56.446Z"
   },
   {
    "duration": 33,
    "start_time": "2023-02-26T14:00:56.491Z"
   },
   {
    "duration": 22,
    "start_time": "2023-02-26T14:00:56.525Z"
   },
   {
    "duration": 56,
    "start_time": "2023-02-26T14:00:56.548Z"
   },
   {
    "duration": 15,
    "start_time": "2023-02-26T14:00:56.606Z"
   },
   {
    "duration": 20,
    "start_time": "2023-02-26T14:00:56.622Z"
   },
   {
    "duration": 42,
    "start_time": "2023-02-26T14:00:56.644Z"
   },
   {
    "duration": 31,
    "start_time": "2023-02-26T14:00:56.689Z"
   },
   {
    "duration": 41,
    "start_time": "2023-02-26T14:00:56.721Z"
   },
   {
    "duration": 26,
    "start_time": "2023-02-26T14:00:56.764Z"
   },
   {
    "duration": 21,
    "start_time": "2023-02-26T14:00:56.792Z"
   },
   {
    "duration": 51,
    "start_time": "2023-02-26T14:00:56.815Z"
   },
   {
    "duration": 85,
    "start_time": "2023-02-26T14:00:56.868Z"
   },
   {
    "duration": 98,
    "start_time": "2023-02-26T14:00:56.956Z"
   },
   {
    "duration": 19,
    "start_time": "2023-02-26T14:00:57.056Z"
   },
   {
    "duration": 62,
    "start_time": "2023-02-26T14:00:57.077Z"
   },
   {
    "duration": 55,
    "start_time": "2023-02-26T14:00:57.141Z"
   },
   {
    "duration": 70,
    "start_time": "2023-02-26T14:00:57.198Z"
   },
   {
    "duration": 38,
    "start_time": "2023-02-26T14:00:57.270Z"
   },
   {
    "duration": 115,
    "start_time": "2023-02-26T14:00:57.310Z"
   },
   {
    "duration": 172,
    "start_time": "2023-02-26T14:00:57.427Z"
   },
   {
    "duration": 55,
    "start_time": "2023-02-26T14:00:57.601Z"
   },
   {
    "duration": 96,
    "start_time": "2023-02-26T14:00:57.658Z"
   },
   {
    "duration": 13,
    "start_time": "2023-02-26T14:00:57.757Z"
   },
   {
    "duration": 253,
    "start_time": "2023-02-26T14:00:57.772Z"
   },
   {
    "duration": 198,
    "start_time": "2023-02-26T14:00:58.027Z"
   },
   {
    "duration": 169,
    "start_time": "2023-02-26T14:00:58.227Z"
   },
   {
    "duration": 61,
    "start_time": "2023-02-26T14:00:58.398Z"
   },
   {
    "duration": 486,
    "start_time": "2023-02-26T14:00:58.461Z"
   },
   {
    "duration": 684,
    "start_time": "2023-02-26T14:00:58.949Z"
   },
   {
    "duration": 21,
    "start_time": "2023-02-26T14:00:59.635Z"
   },
   {
    "duration": 51,
    "start_time": "2023-02-26T14:00:59.659Z"
   },
   {
    "duration": 55,
    "start_time": "2023-02-26T14:00:59.712Z"
   },
   {
    "duration": 84,
    "start_time": "2023-02-26T14:00:59.769Z"
   },
   {
    "duration": 1639,
    "start_time": "2023-02-26T14:00:59.857Z"
   },
   {
    "duration": 4,
    "start_time": "2023-02-26T14:01:01.498Z"
   },
   {
    "duration": 23,
    "start_time": "2023-02-26T14:01:19.996Z"
   },
   {
    "duration": 11,
    "start_time": "2023-02-26T14:02:18.496Z"
   },
   {
    "duration": 20,
    "start_time": "2023-02-26T14:02:23.429Z"
   },
   {
    "duration": 398,
    "start_time": "2023-02-26T14:02:34.079Z"
   },
   {
    "duration": 967,
    "start_time": "2023-02-26T14:03:31.450Z"
   },
   {
    "duration": 26,
    "start_time": "2023-02-26T14:04:45.950Z"
   },
   {
    "duration": 150,
    "start_time": "2023-02-26T14:05:23.550Z"
   },
   {
    "duration": 163,
    "start_time": "2023-02-26T14:06:08.052Z"
   },
   {
    "duration": 25,
    "start_time": "2023-02-26T14:06:36.509Z"
   },
   {
    "duration": 15,
    "start_time": "2023-02-26T14:06:48.900Z"
   },
   {
    "duration": 20,
    "start_time": "2023-02-26T14:06:52.718Z"
   },
   {
    "duration": 6,
    "start_time": "2023-02-26T14:06:57.590Z"
   },
   {
    "duration": 13,
    "start_time": "2023-02-26T14:07:37.538Z"
   },
   {
    "duration": 5,
    "start_time": "2023-02-26T14:07:45.730Z"
   },
   {
    "duration": 31,
    "start_time": "2023-02-26T14:08:11.382Z"
   },
   {
    "duration": 1391,
    "start_time": "2023-02-26T14:08:31.918Z"
   },
   {
    "duration": 293,
    "start_time": "2023-02-26T14:08:33.311Z"
   },
   {
    "duration": 22,
    "start_time": "2023-02-26T14:08:33.606Z"
   },
   {
    "duration": 63,
    "start_time": "2023-02-26T14:08:33.629Z"
   },
   {
    "duration": 65,
    "start_time": "2023-02-26T14:08:33.694Z"
   },
   {
    "duration": 108,
    "start_time": "2023-02-26T14:08:33.762Z"
   },
   {
    "duration": 37,
    "start_time": "2023-02-26T14:08:33.871Z"
   },
   {
    "duration": 34,
    "start_time": "2023-02-26T14:08:33.909Z"
   },
   {
    "duration": 27,
    "start_time": "2023-02-26T14:08:33.945Z"
   },
   {
    "duration": 20,
    "start_time": "2023-02-26T14:08:33.974Z"
   },
   {
    "duration": 11,
    "start_time": "2023-02-26T14:08:33.996Z"
   },
   {
    "duration": 14,
    "start_time": "2023-02-26T14:08:34.008Z"
   },
   {
    "duration": 19,
    "start_time": "2023-02-26T14:08:34.023Z"
   },
   {
    "duration": 18,
    "start_time": "2023-02-26T14:08:34.049Z"
   },
   {
    "duration": 28,
    "start_time": "2023-02-26T14:08:34.069Z"
   },
   {
    "duration": 29,
    "start_time": "2023-02-26T14:08:34.099Z"
   },
   {
    "duration": 15,
    "start_time": "2023-02-26T14:08:34.137Z"
   },
   {
    "duration": 41,
    "start_time": "2023-02-26T14:08:34.153Z"
   },
   {
    "duration": 81,
    "start_time": "2023-02-26T14:08:34.195Z"
   },
   {
    "duration": 80,
    "start_time": "2023-02-26T14:08:34.278Z"
   },
   {
    "duration": 26,
    "start_time": "2023-02-26T14:08:34.361Z"
   },
   {
    "duration": 59,
    "start_time": "2023-02-26T14:08:34.389Z"
   },
   {
    "duration": 51,
    "start_time": "2023-02-26T14:08:34.451Z"
   },
   {
    "duration": 72,
    "start_time": "2023-02-26T14:08:34.504Z"
   },
   {
    "duration": 38,
    "start_time": "2023-02-26T14:08:34.578Z"
   },
   {
    "duration": 106,
    "start_time": "2023-02-26T14:08:34.618Z"
   },
   {
    "duration": 156,
    "start_time": "2023-02-26T14:08:34.726Z"
   },
   {
    "duration": 37,
    "start_time": "2023-02-26T14:08:34.883Z"
   },
   {
    "duration": 104,
    "start_time": "2023-02-26T14:08:34.922Z"
   },
   {
    "duration": 15,
    "start_time": "2023-02-26T14:08:35.028Z"
   },
   {
    "duration": 231,
    "start_time": "2023-02-26T14:08:35.045Z"
   },
   {
    "duration": 204,
    "start_time": "2023-02-26T14:08:35.278Z"
   },
   {
    "duration": 183,
    "start_time": "2023-02-26T14:08:35.485Z"
   },
   {
    "duration": 70,
    "start_time": "2023-02-26T14:08:35.670Z"
   },
   {
    "duration": 548,
    "start_time": "2023-02-26T14:08:35.742Z"
   },
   {
    "duration": 718,
    "start_time": "2023-02-26T14:08:36.292Z"
   },
   {
    "duration": 14,
    "start_time": "2023-02-26T14:08:37.012Z"
   },
   {
    "duration": 50,
    "start_time": "2023-02-26T14:08:37.039Z"
   },
   {
    "duration": 50,
    "start_time": "2023-02-26T14:08:37.091Z"
   },
   {
    "duration": 94,
    "start_time": "2023-02-26T14:08:37.144Z"
   },
   {
    "duration": 1776,
    "start_time": "2023-02-26T14:08:37.243Z"
   },
   {
    "duration": 20,
    "start_time": "2023-02-26T14:08:39.021Z"
   },
   {
    "duration": 6,
    "start_time": "2023-02-26T14:08:39.044Z"
   },
   {
    "duration": 25,
    "start_time": "2023-02-26T14:09:58.649Z"
   },
   {
    "duration": 22,
    "start_time": "2023-02-26T14:10:25.825Z"
   },
   {
    "duration": 5,
    "start_time": "2023-02-26T14:10:40.109Z"
   },
   {
    "duration": 1058,
    "start_time": "2023-02-26T14:11:49.330Z"
   },
   {
    "duration": 1291,
    "start_time": "2023-02-26T14:49:03.725Z"
   },
   {
    "duration": 275,
    "start_time": "2023-02-26T14:49:05.019Z"
   },
   {
    "duration": 24,
    "start_time": "2023-02-26T14:49:05.296Z"
   },
   {
    "duration": 56,
    "start_time": "2023-02-26T14:49:05.323Z"
   },
   {
    "duration": 65,
    "start_time": "2023-02-26T14:49:05.381Z"
   },
   {
    "duration": 102,
    "start_time": "2023-02-26T14:49:05.447Z"
   },
   {
    "duration": 38,
    "start_time": "2023-02-26T14:49:05.551Z"
   },
   {
    "duration": 23,
    "start_time": "2023-02-26T14:49:05.590Z"
   },
   {
    "duration": 33,
    "start_time": "2023-02-26T14:49:05.614Z"
   },
   {
    "duration": 54,
    "start_time": "2023-02-26T14:49:05.650Z"
   },
   {
    "duration": 29,
    "start_time": "2023-02-26T14:49:05.706Z"
   },
   {
    "duration": 32,
    "start_time": "2023-02-26T14:49:05.737Z"
   },
   {
    "duration": 33,
    "start_time": "2023-02-26T14:49:05.770Z"
   },
   {
    "duration": 29,
    "start_time": "2023-02-26T14:49:05.804Z"
   },
   {
    "duration": 45,
    "start_time": "2023-02-26T14:49:05.835Z"
   },
   {
    "duration": 19,
    "start_time": "2023-02-26T14:49:05.882Z"
   },
   {
    "duration": 25,
    "start_time": "2023-02-26T14:49:05.903Z"
   },
   {
    "duration": 48,
    "start_time": "2023-02-26T14:49:05.930Z"
   },
   {
    "duration": 89,
    "start_time": "2023-02-26T14:49:05.979Z"
   },
   {
    "duration": 84,
    "start_time": "2023-02-26T14:49:06.070Z"
   },
   {
    "duration": 18,
    "start_time": "2023-02-26T14:49:06.156Z"
   },
   {
    "duration": 63,
    "start_time": "2023-02-26T14:49:06.176Z"
   },
   {
    "duration": 49,
    "start_time": "2023-02-26T14:49:06.241Z"
   },
   {
    "duration": 61,
    "start_time": "2023-02-26T14:49:06.292Z"
   },
   {
    "duration": 38,
    "start_time": "2023-02-26T14:49:06.354Z"
   },
   {
    "duration": 106,
    "start_time": "2023-02-26T14:49:06.394Z"
   },
   {
    "duration": 151,
    "start_time": "2023-02-26T14:49:06.502Z"
   },
   {
    "duration": 39,
    "start_time": "2023-02-26T14:49:06.656Z"
   },
   {
    "duration": 108,
    "start_time": "2023-02-26T14:49:06.696Z"
   },
   {
    "duration": 8,
    "start_time": "2023-02-26T14:49:06.807Z"
   },
   {
    "duration": 226,
    "start_time": "2023-02-26T14:49:06.817Z"
   },
   {
    "duration": 157,
    "start_time": "2023-02-26T14:49:07.045Z"
   },
   {
    "duration": 161,
    "start_time": "2023-02-26T14:49:07.204Z"
   },
   {
    "duration": 57,
    "start_time": "2023-02-26T14:49:07.367Z"
   },
   {
    "duration": 487,
    "start_time": "2023-02-26T14:49:07.426Z"
   },
   {
    "duration": 609,
    "start_time": "2023-02-26T14:49:07.916Z"
   },
   {
    "duration": 17,
    "start_time": "2023-02-26T14:49:08.527Z"
   },
   {
    "duration": 45,
    "start_time": "2023-02-26T14:49:08.545Z"
   },
   {
    "duration": 28,
    "start_time": "2023-02-26T14:49:08.591Z"
   },
   {
    "duration": 88,
    "start_time": "2023-02-26T14:49:08.621Z"
   },
   {
    "duration": 1673,
    "start_time": "2023-02-26T14:49:08.711Z"
   },
   {
    "duration": 28,
    "start_time": "2023-02-26T14:49:10.385Z"
   },
   {
    "duration": 7,
    "start_time": "2023-02-26T14:50:03.386Z"
   },
   {
    "duration": 32,
    "start_time": "2023-02-26T14:54:25.507Z"
   },
   {
    "duration": 35,
    "start_time": "2023-02-26T14:54:31.694Z"
   },
   {
    "duration": 37,
    "start_time": "2023-02-26T14:54:39.621Z"
   },
   {
    "duration": 47,
    "start_time": "2023-02-26T14:55:20.985Z"
   },
   {
    "duration": 42,
    "start_time": "2023-02-26T14:55:36.893Z"
   },
   {
    "duration": 441,
    "start_time": "2023-02-26T14:59:38.176Z"
   },
   {
    "duration": 51,
    "start_time": "2023-02-26T15:00:25.862Z"
   },
   {
    "duration": 1334,
    "start_time": "2023-02-26T15:00:34.106Z"
   },
   {
    "duration": 819,
    "start_time": "2023-02-26T15:00:35.442Z"
   },
   {
    "duration": 24,
    "start_time": "2023-02-26T15:00:36.263Z"
   },
   {
    "duration": 79,
    "start_time": "2023-02-26T15:00:36.290Z"
   },
   {
    "duration": 44,
    "start_time": "2023-02-26T15:00:36.371Z"
   },
   {
    "duration": 141,
    "start_time": "2023-02-26T15:00:36.416Z"
   },
   {
    "duration": 42,
    "start_time": "2023-02-26T15:00:36.558Z"
   },
   {
    "duration": 19,
    "start_time": "2023-02-26T15:00:36.601Z"
   },
   {
    "duration": 22,
    "start_time": "2023-02-26T15:00:36.621Z"
   },
   {
    "duration": 43,
    "start_time": "2023-02-26T15:00:36.645Z"
   },
   {
    "duration": 15,
    "start_time": "2023-02-26T15:00:36.689Z"
   },
   {
    "duration": 26,
    "start_time": "2023-02-26T15:00:36.706Z"
   },
   {
    "duration": 24,
    "start_time": "2023-02-26T15:00:36.735Z"
   },
   {
    "duration": 32,
    "start_time": "2023-02-26T15:00:36.760Z"
   },
   {
    "duration": 45,
    "start_time": "2023-02-26T15:00:36.794Z"
   },
   {
    "duration": 24,
    "start_time": "2023-02-26T15:00:36.841Z"
   },
   {
    "duration": 22,
    "start_time": "2023-02-26T15:00:36.866Z"
   },
   {
    "duration": 35,
    "start_time": "2023-02-26T15:00:36.890Z"
   },
   {
    "duration": 93,
    "start_time": "2023-02-26T15:00:36.926Z"
   },
   {
    "duration": 133,
    "start_time": "2023-02-26T15:00:37.021Z"
   },
   {
    "duration": 20,
    "start_time": "2023-02-26T15:00:37.156Z"
   },
   {
    "duration": 71,
    "start_time": "2023-02-26T15:00:37.178Z"
   },
   {
    "duration": 103,
    "start_time": "2023-02-26T15:00:37.251Z"
   },
   {
    "duration": 41,
    "start_time": "2023-02-26T15:00:37.356Z"
   },
   {
    "duration": 40,
    "start_time": "2023-02-26T15:00:37.438Z"
   },
   {
    "duration": 104,
    "start_time": "2023-02-26T15:00:37.480Z"
   },
   {
    "duration": 142,
    "start_time": "2023-02-26T15:00:37.586Z"
   },
   {
    "duration": 40,
    "start_time": "2023-02-26T15:00:37.732Z"
   },
   {
    "duration": 100,
    "start_time": "2023-02-26T15:00:37.774Z"
   },
   {
    "duration": 9,
    "start_time": "2023-02-26T15:00:37.875Z"
   },
   {
    "duration": 229,
    "start_time": "2023-02-26T15:00:37.885Z"
   },
   {
    "duration": 184,
    "start_time": "2023-02-26T15:00:38.117Z"
   },
   {
    "duration": 145,
    "start_time": "2023-02-26T15:00:38.303Z"
   },
   {
    "duration": 51,
    "start_time": "2023-02-26T15:00:38.449Z"
   },
   {
    "duration": 475,
    "start_time": "2023-02-26T15:00:38.502Z"
   },
   {
    "duration": 590,
    "start_time": "2023-02-26T15:00:38.979Z"
   },
   {
    "duration": 13,
    "start_time": "2023-02-26T15:00:39.571Z"
   },
   {
    "duration": 56,
    "start_time": "2023-02-26T15:00:39.586Z"
   },
   {
    "duration": 29,
    "start_time": "2023-02-26T15:00:39.644Z"
   },
   {
    "duration": 87,
    "start_time": "2023-02-26T15:00:39.675Z"
   },
   {
    "duration": 1580,
    "start_time": "2023-02-26T15:00:39.764Z"
   },
   {
    "duration": 31,
    "start_time": "2023-02-26T15:00:41.346Z"
   },
   {
    "duration": 8,
    "start_time": "2023-02-26T15:00:41.379Z"
   },
   {
    "duration": 401,
    "start_time": "2023-02-26T15:00:41.390Z"
   },
   {
    "duration": 1377,
    "start_time": "2023-02-26T15:02:46.180Z"
   },
   {
    "duration": 940,
    "start_time": "2023-02-26T15:02:47.560Z"
   },
   {
    "duration": 24,
    "start_time": "2023-02-26T15:02:48.501Z"
   },
   {
    "duration": 72,
    "start_time": "2023-02-26T15:02:48.527Z"
   },
   {
    "duration": 78,
    "start_time": "2023-02-26T15:02:48.602Z"
   },
   {
    "duration": 114,
    "start_time": "2023-02-26T15:02:48.682Z"
   },
   {
    "duration": 59,
    "start_time": "2023-02-26T15:02:48.798Z"
   },
   {
    "duration": 17,
    "start_time": "2023-02-26T15:02:48.859Z"
   },
   {
    "duration": 18,
    "start_time": "2023-02-26T15:02:48.879Z"
   },
   {
    "duration": 53,
    "start_time": "2023-02-26T15:02:48.900Z"
   },
   {
    "duration": 15,
    "start_time": "2023-02-26T15:02:48.956Z"
   },
   {
    "duration": 11,
    "start_time": "2023-02-26T15:02:48.973Z"
   },
   {
    "duration": 22,
    "start_time": "2023-02-26T15:02:48.986Z"
   },
   {
    "duration": 43,
    "start_time": "2023-02-26T15:02:49.011Z"
   },
   {
    "duration": 34,
    "start_time": "2023-02-26T15:02:49.056Z"
   },
   {
    "duration": 22,
    "start_time": "2023-02-26T15:02:49.092Z"
   },
   {
    "duration": 27,
    "start_time": "2023-02-26T15:02:49.116Z"
   },
   {
    "duration": 42,
    "start_time": "2023-02-26T15:02:49.148Z"
   },
   {
    "duration": 122,
    "start_time": "2023-02-26T15:02:49.192Z"
   },
   {
    "duration": 110,
    "start_time": "2023-02-26T15:02:49.322Z"
   },
   {
    "duration": 38,
    "start_time": "2023-02-26T15:02:49.435Z"
   },
   {
    "duration": 79,
    "start_time": "2023-02-26T15:02:49.476Z"
   },
   {
    "duration": 57,
    "start_time": "2023-02-26T15:02:49.557Z"
   },
   {
    "duration": 62,
    "start_time": "2023-02-26T15:02:49.615Z"
   },
   {
    "duration": 69,
    "start_time": "2023-02-26T15:02:49.679Z"
   },
   {
    "duration": 117,
    "start_time": "2023-02-26T15:02:49.752Z"
   },
   {
    "duration": 220,
    "start_time": "2023-02-26T15:02:49.872Z"
   },
   {
    "duration": 43,
    "start_time": "2023-02-26T15:02:50.094Z"
   },
   {
    "duration": 104,
    "start_time": "2023-02-26T15:02:50.139Z"
   },
   {
    "duration": 14,
    "start_time": "2023-02-26T15:02:50.245Z"
   },
   {
    "duration": 227,
    "start_time": "2023-02-26T15:02:50.261Z"
   },
   {
    "duration": 197,
    "start_time": "2023-02-26T15:02:50.490Z"
   },
   {
    "duration": 185,
    "start_time": "2023-02-26T15:02:50.689Z"
   },
   {
    "duration": 100,
    "start_time": "2023-02-26T15:02:50.876Z"
   },
   {
    "duration": 583,
    "start_time": "2023-02-26T15:02:50.978Z"
   },
   {
    "duration": 693,
    "start_time": "2023-02-26T15:02:51.563Z"
   },
   {
    "duration": 20,
    "start_time": "2023-02-26T15:02:52.258Z"
   },
   {
    "duration": 76,
    "start_time": "2023-02-26T15:02:52.284Z"
   },
   {
    "duration": 51,
    "start_time": "2023-02-26T15:02:52.361Z"
   },
   {
    "duration": 110,
    "start_time": "2023-02-26T15:02:52.415Z"
   },
   {
    "duration": 1770,
    "start_time": "2023-02-26T15:02:52.529Z"
   },
   {
    "duration": 29,
    "start_time": "2023-02-26T15:02:54.301Z"
   },
   {
    "duration": 5,
    "start_time": "2023-02-26T15:02:54.332Z"
   },
   {
    "duration": 383,
    "start_time": "2023-02-26T15:02:54.341Z"
   },
   {
    "duration": 403,
    "start_time": "2023-02-26T15:11:40.680Z"
   },
   {
    "duration": 337,
    "start_time": "2023-02-26T15:15:00.689Z"
   },
   {
    "duration": 195,
    "start_time": "2023-02-26T15:19:15.776Z"
   },
   {
    "duration": 108,
    "start_time": "2023-02-26T15:23:36.699Z"
   },
   {
    "duration": 261,
    "start_time": "2023-02-26T15:24:07.949Z"
   },
   {
    "duration": 176,
    "start_time": "2023-02-26T15:24:31.811Z"
   },
   {
    "duration": 400,
    "start_time": "2023-02-26T15:25:12.855Z"
   },
   {
    "duration": 305,
    "start_time": "2023-02-26T15:25:21.129Z"
   },
   {
    "duration": 336,
    "start_time": "2023-02-26T15:25:45.489Z"
   },
   {
    "duration": 1290,
    "start_time": "2023-02-26T15:39:14.380Z"
   },
   {
    "duration": 282,
    "start_time": "2023-02-26T15:39:15.672Z"
   },
   {
    "duration": 27,
    "start_time": "2023-02-26T15:39:15.957Z"
   },
   {
    "duration": 73,
    "start_time": "2023-02-26T15:39:15.987Z"
   },
   {
    "duration": 40,
    "start_time": "2023-02-26T15:39:16.063Z"
   },
   {
    "duration": 135,
    "start_time": "2023-02-26T15:39:16.105Z"
   },
   {
    "duration": 46,
    "start_time": "2023-02-26T15:39:16.241Z"
   },
   {
    "duration": 17,
    "start_time": "2023-02-26T15:39:16.289Z"
   },
   {
    "duration": 31,
    "start_time": "2023-02-26T15:39:16.308Z"
   },
   {
    "duration": 26,
    "start_time": "2023-02-26T15:39:16.341Z"
   },
   {
    "duration": 12,
    "start_time": "2023-02-26T15:39:16.369Z"
   },
   {
    "duration": 14,
    "start_time": "2023-02-26T15:39:16.383Z"
   },
   {
    "duration": 17,
    "start_time": "2023-02-26T15:39:16.398Z"
   },
   {
    "duration": 28,
    "start_time": "2023-02-26T15:39:16.418Z"
   },
   {
    "duration": 34,
    "start_time": "2023-02-26T15:39:16.448Z"
   },
   {
    "duration": 27,
    "start_time": "2023-02-26T15:39:16.484Z"
   },
   {
    "duration": 26,
    "start_time": "2023-02-26T15:39:16.513Z"
   },
   {
    "duration": 34,
    "start_time": "2023-02-26T15:39:16.541Z"
   },
   {
    "duration": 90,
    "start_time": "2023-02-26T15:39:16.577Z"
   },
   {
    "duration": 101,
    "start_time": "2023-02-26T15:39:16.669Z"
   },
   {
    "duration": 20,
    "start_time": "2023-02-26T15:39:16.771Z"
   },
   {
    "duration": 65,
    "start_time": "2023-02-26T15:39:16.793Z"
   },
   {
    "duration": 48,
    "start_time": "2023-02-26T15:39:16.860Z"
   },
   {
    "duration": 62,
    "start_time": "2023-02-26T15:39:16.911Z"
   },
   {
    "duration": 39,
    "start_time": "2023-02-26T15:39:16.975Z"
   },
   {
    "duration": 111,
    "start_time": "2023-02-26T15:39:17.016Z"
   },
   {
    "duration": 160,
    "start_time": "2023-02-26T15:39:17.137Z"
   },
   {
    "duration": 59,
    "start_time": "2023-02-26T15:39:17.299Z"
   },
   {
    "duration": 107,
    "start_time": "2023-02-26T15:39:17.360Z"
   },
   {
    "duration": 8,
    "start_time": "2023-02-26T15:39:17.469Z"
   },
   {
    "duration": 219,
    "start_time": "2023-02-26T15:39:17.479Z"
   },
   {
    "duration": 169,
    "start_time": "2023-02-26T15:39:17.700Z"
   },
   {
    "duration": 162,
    "start_time": "2023-02-26T15:39:17.870Z"
   },
   {
    "duration": 63,
    "start_time": "2023-02-26T15:39:18.037Z"
   },
   {
    "duration": 498,
    "start_time": "2023-02-26T15:39:18.102Z"
   },
   {
    "duration": 601,
    "start_time": "2023-02-26T15:39:18.601Z"
   },
   {
    "duration": 14,
    "start_time": "2023-02-26T15:39:19.204Z"
   },
   {
    "duration": 54,
    "start_time": "2023-02-26T15:39:19.219Z"
   },
   {
    "duration": 28,
    "start_time": "2023-02-26T15:39:19.275Z"
   },
   {
    "duration": 100,
    "start_time": "2023-02-26T15:39:19.305Z"
   },
   {
    "duration": 1671,
    "start_time": "2023-02-26T15:39:19.409Z"
   },
   {
    "duration": 33,
    "start_time": "2023-02-26T15:39:21.081Z"
   },
   {
    "duration": 326,
    "start_time": "2023-02-26T15:39:21.116Z"
   },
   {
    "duration": 296,
    "start_time": "2023-02-26T15:39:21.444Z"
   },
   {
    "duration": 6,
    "start_time": "2023-02-26T15:39:21.741Z"
   },
   {
    "duration": 374,
    "start_time": "2023-02-26T15:39:21.750Z"
   },
   {
    "duration": 1240,
    "start_time": "2023-02-26T16:33:35.314Z"
   },
   {
    "duration": 105,
    "start_time": "2023-02-26T16:35:29.648Z"
   },
   {
    "duration": 24,
    "start_time": "2023-02-26T16:35:57.950Z"
   },
   {
    "duration": 4,
    "start_time": "2023-02-26T16:39:18.293Z"
   },
   {
    "duration": 20,
    "start_time": "2023-02-26T16:39:52.052Z"
   },
   {
    "duration": 4,
    "start_time": "2023-02-26T16:40:05.321Z"
   },
   {
    "duration": 11,
    "start_time": "2023-02-26T16:40:09.502Z"
   },
   {
    "duration": 653,
    "start_time": "2023-02-26T16:41:18.946Z"
   },
   {
    "duration": 4,
    "start_time": "2023-02-26T16:42:17.402Z"
   },
   {
    "duration": 11,
    "start_time": "2023-02-26T16:43:52.706Z"
   },
   {
    "duration": 635,
    "start_time": "2023-02-26T16:44:35.651Z"
   },
   {
    "duration": 4,
    "start_time": "2023-02-26T16:44:44.481Z"
   },
   {
    "duration": 39,
    "start_time": "2023-02-26T16:44:48.553Z"
   },
   {
    "duration": 430,
    "start_time": "2023-02-26T16:46:30.177Z"
   },
   {
    "duration": 344,
    "start_time": "2023-02-26T16:46:53.779Z"
   },
   {
    "duration": 1058,
    "start_time": "2023-02-26T16:48:04.550Z"
   },
   {
    "duration": 48,
    "start_time": "2023-02-26T16:48:11.778Z"
   },
   {
    "duration": 4,
    "start_time": "2023-02-26T16:48:14.555Z"
   },
   {
    "duration": 13,
    "start_time": "2023-02-26T16:48:17.979Z"
   },
   {
    "duration": 45,
    "start_time": "2023-02-26T16:49:32.251Z"
   },
   {
    "duration": 3,
    "start_time": "2023-02-26T16:49:35.031Z"
   },
   {
    "duration": 8,
    "start_time": "2023-02-26T16:49:37.221Z"
   },
   {
    "duration": 53,
    "start_time": "2023-02-26T16:49:44.631Z"
   },
   {
    "duration": 51,
    "start_time": "2023-02-26T16:50:05.423Z"
   },
   {
    "duration": 48,
    "start_time": "2023-02-26T16:50:10.821Z"
   },
   {
    "duration": 47,
    "start_time": "2023-02-26T16:50:21.829Z"
   },
   {
    "duration": 45,
    "start_time": "2023-02-26T16:50:29.301Z"
   },
   {
    "duration": 45,
    "start_time": "2023-02-26T16:50:41.751Z"
   },
   {
    "duration": 61,
    "start_time": "2023-02-26T16:52:11.540Z"
   },
   {
    "duration": 47,
    "start_time": "2023-02-26T16:53:07.981Z"
   },
   {
    "duration": 65,
    "start_time": "2023-02-26T16:53:12.489Z"
   },
   {
    "duration": 53,
    "start_time": "2023-02-26T16:56:05.271Z"
   },
   {
    "duration": 11,
    "start_time": "2023-02-26T16:56:09.440Z"
   },
   {
    "duration": 1303,
    "start_time": "2023-02-26T16:58:09.669Z"
   },
   {
    "duration": 279,
    "start_time": "2023-02-26T16:58:10.974Z"
   },
   {
    "duration": 25,
    "start_time": "2023-02-26T16:58:11.255Z"
   },
   {
    "duration": 78,
    "start_time": "2023-02-26T16:58:11.282Z"
   },
   {
    "duration": 41,
    "start_time": "2023-02-26T16:58:11.363Z"
   },
   {
    "duration": 134,
    "start_time": "2023-02-26T16:58:11.405Z"
   },
   {
    "duration": 42,
    "start_time": "2023-02-26T16:58:11.541Z"
   },
   {
    "duration": 16,
    "start_time": "2023-02-26T16:58:11.585Z"
   },
   {
    "duration": 11,
    "start_time": "2023-02-26T16:58:11.603Z"
   },
   {
    "duration": 19,
    "start_time": "2023-02-26T16:58:11.638Z"
   },
   {
    "duration": 13,
    "start_time": "2023-02-26T16:58:11.659Z"
   },
   {
    "duration": 20,
    "start_time": "2023-02-26T16:58:11.673Z"
   },
   {
    "duration": 20,
    "start_time": "2023-02-26T16:58:11.695Z"
   },
   {
    "duration": 36,
    "start_time": "2023-02-26T16:58:11.718Z"
   },
   {
    "duration": 34,
    "start_time": "2023-02-26T16:58:11.756Z"
   },
   {
    "duration": 20,
    "start_time": "2023-02-26T16:58:11.792Z"
   },
   {
    "duration": 17,
    "start_time": "2023-02-26T16:58:11.814Z"
   },
   {
    "duration": 31,
    "start_time": "2023-02-26T16:58:11.833Z"
   },
   {
    "duration": 81,
    "start_time": "2023-02-26T16:58:11.866Z"
   },
   {
    "duration": 97,
    "start_time": "2023-02-26T16:58:11.950Z"
   },
   {
    "duration": 20,
    "start_time": "2023-02-26T16:58:12.049Z"
   },
   {
    "duration": 68,
    "start_time": "2023-02-26T16:58:12.071Z"
   },
   {
    "duration": 48,
    "start_time": "2023-02-26T16:58:12.142Z"
   },
   {
    "duration": 59,
    "start_time": "2023-02-26T16:58:12.192Z"
   },
   {
    "duration": 38,
    "start_time": "2023-02-26T16:58:12.253Z"
   },
   {
    "duration": 109,
    "start_time": "2023-02-26T16:58:12.293Z"
   },
   {
    "duration": 192,
    "start_time": "2023-02-26T16:58:12.404Z"
   },
   {
    "duration": 55,
    "start_time": "2023-02-26T16:58:12.599Z"
   },
   {
    "duration": 94,
    "start_time": "2023-02-26T16:58:12.656Z"
   },
   {
    "duration": 10,
    "start_time": "2023-02-26T16:58:12.752Z"
   },
   {
    "duration": 227,
    "start_time": "2023-02-26T16:58:12.763Z"
   },
   {
    "duration": 172,
    "start_time": "2023-02-26T16:58:12.992Z"
   },
   {
    "duration": 161,
    "start_time": "2023-02-26T16:58:13.166Z"
   },
   {
    "duration": 61,
    "start_time": "2023-02-26T16:58:13.330Z"
   },
   {
    "duration": 475,
    "start_time": "2023-02-26T16:58:13.392Z"
   },
   {
    "duration": 592,
    "start_time": "2023-02-26T16:58:13.869Z"
   },
   {
    "duration": 14,
    "start_time": "2023-02-26T16:58:14.463Z"
   },
   {
    "duration": 61,
    "start_time": "2023-02-26T16:58:14.479Z"
   },
   {
    "duration": 29,
    "start_time": "2023-02-26T16:58:14.542Z"
   },
   {
    "duration": 94,
    "start_time": "2023-02-26T16:58:14.573Z"
   },
   {
    "duration": 1536,
    "start_time": "2023-02-26T16:58:14.671Z"
   },
   {
    "duration": 31,
    "start_time": "2023-02-26T16:58:16.209Z"
   },
   {
    "duration": 277,
    "start_time": "2023-02-26T16:58:16.241Z"
   },
   {
    "duration": 305,
    "start_time": "2023-02-26T16:58:16.520Z"
   },
   {
    "duration": 13,
    "start_time": "2023-02-26T16:58:16.827Z"
   },
   {
    "duration": 1088,
    "start_time": "2023-02-26T16:58:16.842Z"
   },
   {
    "duration": 60,
    "start_time": "2023-02-26T16:58:17.932Z"
   },
   {
    "duration": 3,
    "start_time": "2023-02-26T16:58:17.994Z"
   },
   {
    "duration": 147,
    "start_time": "2023-02-26T16:58:18.000Z"
   },
   {
    "duration": 1259,
    "start_time": "2023-02-26T16:58:43.890Z"
   },
   {
    "duration": 281,
    "start_time": "2023-02-26T16:58:45.151Z"
   },
   {
    "duration": 25,
    "start_time": "2023-02-26T16:58:45.433Z"
   },
   {
    "duration": 52,
    "start_time": "2023-02-26T16:58:45.459Z"
   },
   {
    "duration": 41,
    "start_time": "2023-02-26T16:58:45.537Z"
   },
   {
    "duration": 109,
    "start_time": "2023-02-26T16:58:45.580Z"
   },
   {
    "duration": 61,
    "start_time": "2023-02-26T16:58:45.691Z"
   },
   {
    "duration": 17,
    "start_time": "2023-02-26T16:58:45.755Z"
   },
   {
    "duration": 21,
    "start_time": "2023-02-26T16:58:45.775Z"
   },
   {
    "duration": 124,
    "start_time": "2023-02-26T16:58:45.798Z"
   },
   {
    "duration": 104,
    "start_time": "2023-02-26T16:58:45.924Z"
   },
   {
    "duration": 21,
    "start_time": "2023-02-26T16:58:46.030Z"
   },
   {
    "duration": 16,
    "start_time": "2023-02-26T16:58:46.053Z"
   },
   {
    "duration": 21,
    "start_time": "2023-02-26T16:58:46.073Z"
   },
   {
    "duration": 35,
    "start_time": "2023-02-26T16:58:46.096Z"
   },
   {
    "duration": 23,
    "start_time": "2023-02-26T16:58:46.133Z"
   },
   {
    "duration": 15,
    "start_time": "2023-02-26T16:58:46.157Z"
   },
   {
    "duration": 27,
    "start_time": "2023-02-26T16:58:46.175Z"
   },
   {
    "duration": 87,
    "start_time": "2023-02-26T16:58:46.203Z"
   },
   {
    "duration": 89,
    "start_time": "2023-02-26T16:58:46.292Z"
   },
   {
    "duration": 19,
    "start_time": "2023-02-26T16:58:46.383Z"
   },
   {
    "duration": 118,
    "start_time": "2023-02-26T16:58:46.404Z"
   },
   {
    "duration": 68,
    "start_time": "2023-02-26T16:58:46.524Z"
   },
   {
    "duration": 54,
    "start_time": "2023-02-26T16:58:46.594Z"
   },
   {
    "duration": 41,
    "start_time": "2023-02-26T16:58:46.650Z"
   },
   {
    "duration": 115,
    "start_time": "2023-02-26T16:58:46.693Z"
   },
   {
    "duration": 171,
    "start_time": "2023-02-26T16:58:46.810Z"
   },
   {
    "duration": 38,
    "start_time": "2023-02-26T16:58:46.983Z"
   },
   {
    "duration": 98,
    "start_time": "2023-02-26T16:58:47.023Z"
   },
   {
    "duration": 17,
    "start_time": "2023-02-26T16:58:47.123Z"
   },
   {
    "duration": 223,
    "start_time": "2023-02-26T16:58:47.142Z"
   },
   {
    "duration": 167,
    "start_time": "2023-02-26T16:58:47.367Z"
   },
   {
    "duration": 150,
    "start_time": "2023-02-26T16:58:47.536Z"
   },
   {
    "duration": 65,
    "start_time": "2023-02-26T16:58:47.687Z"
   },
   {
    "duration": 503,
    "start_time": "2023-02-26T16:58:47.754Z"
   },
   {
    "duration": 614,
    "start_time": "2023-02-26T16:58:48.259Z"
   },
   {
    "duration": 13,
    "start_time": "2023-02-26T16:58:48.875Z"
   },
   {
    "duration": 62,
    "start_time": "2023-02-26T16:58:48.890Z"
   },
   {
    "duration": 30,
    "start_time": "2023-02-26T16:58:48.953Z"
   },
   {
    "duration": 105,
    "start_time": "2023-02-26T16:58:48.984Z"
   },
   {
    "duration": 1686,
    "start_time": "2023-02-26T16:58:49.094Z"
   },
   {
    "duration": 31,
    "start_time": "2023-02-26T16:58:50.782Z"
   },
   {
    "duration": 312,
    "start_time": "2023-02-26T16:58:50.815Z"
   },
   {
    "duration": 316,
    "start_time": "2023-02-26T16:58:51.129Z"
   },
   {
    "duration": 6,
    "start_time": "2023-02-26T16:58:51.448Z"
   },
   {
    "duration": 1138,
    "start_time": "2023-02-26T16:58:51.456Z"
   },
   {
    "duration": 66,
    "start_time": "2023-02-26T16:58:52.596Z"
   },
   {
    "duration": 3,
    "start_time": "2023-02-26T16:58:52.664Z"
   },
   {
    "duration": 20,
    "start_time": "2023-02-26T16:58:52.669Z"
   },
   {
    "duration": 1348,
    "start_time": "2023-02-26T18:01:11.970Z"
   },
   {
    "duration": 289,
    "start_time": "2023-02-26T18:01:13.320Z"
   },
   {
    "duration": 23,
    "start_time": "2023-02-26T18:01:13.610Z"
   },
   {
    "duration": 76,
    "start_time": "2023-02-26T18:01:13.635Z"
   },
   {
    "duration": 42,
    "start_time": "2023-02-26T18:01:13.714Z"
   },
   {
    "duration": 109,
    "start_time": "2023-02-26T18:01:13.757Z"
   },
   {
    "duration": 39,
    "start_time": "2023-02-26T18:01:13.868Z"
   },
   {
    "duration": 37,
    "start_time": "2023-02-26T18:01:13.909Z"
   },
   {
    "duration": 31,
    "start_time": "2023-02-26T18:01:13.948Z"
   },
   {
    "duration": 46,
    "start_time": "2023-02-26T18:01:13.980Z"
   },
   {
    "duration": 33,
    "start_time": "2023-02-26T18:01:14.028Z"
   },
   {
    "duration": 25,
    "start_time": "2023-02-26T18:01:14.064Z"
   },
   {
    "duration": 46,
    "start_time": "2023-02-26T18:01:14.091Z"
   },
   {
    "duration": 37,
    "start_time": "2023-02-26T18:01:14.140Z"
   },
   {
    "duration": 51,
    "start_time": "2023-02-26T18:01:14.179Z"
   },
   {
    "duration": 22,
    "start_time": "2023-02-26T18:01:14.232Z"
   },
   {
    "duration": 19,
    "start_time": "2023-02-26T18:01:14.256Z"
   },
   {
    "duration": 33,
    "start_time": "2023-02-26T18:01:14.277Z"
   },
   {
    "duration": 95,
    "start_time": "2023-02-26T18:01:14.312Z"
   },
   {
    "duration": 94,
    "start_time": "2023-02-26T18:01:14.409Z"
   },
   {
    "duration": 36,
    "start_time": "2023-02-26T18:01:14.505Z"
   },
   {
    "duration": 55,
    "start_time": "2023-02-26T18:01:14.543Z"
   },
   {
    "duration": 79,
    "start_time": "2023-02-26T18:01:14.600Z"
   },
   {
    "duration": 60,
    "start_time": "2023-02-26T18:01:14.681Z"
   },
   {
    "duration": 43,
    "start_time": "2023-02-26T18:01:14.743Z"
   },
   {
    "duration": 109,
    "start_time": "2023-02-26T18:01:14.788Z"
   },
   {
    "duration": 161,
    "start_time": "2023-02-26T18:01:14.899Z"
   },
   {
    "duration": 37,
    "start_time": "2023-02-26T18:01:15.062Z"
   },
   {
    "duration": 104,
    "start_time": "2023-02-26T18:01:15.101Z"
   },
   {
    "duration": 7,
    "start_time": "2023-02-26T18:01:15.207Z"
   },
   {
    "duration": 241,
    "start_time": "2023-02-26T18:01:15.216Z"
   },
   {
    "duration": 166,
    "start_time": "2023-02-26T18:01:15.459Z"
   },
   {
    "duration": 153,
    "start_time": "2023-02-26T18:01:15.626Z"
   },
   {
    "duration": 70,
    "start_time": "2023-02-26T18:01:15.780Z"
   },
   {
    "duration": 459,
    "start_time": "2023-02-26T18:01:15.851Z"
   },
   {
    "duration": 617,
    "start_time": "2023-02-26T18:01:16.311Z"
   },
   {
    "duration": 20,
    "start_time": "2023-02-26T18:01:16.929Z"
   },
   {
    "duration": 55,
    "start_time": "2023-02-26T18:01:16.951Z"
   },
   {
    "duration": 51,
    "start_time": "2023-02-26T18:01:17.007Z"
   },
   {
    "duration": 110,
    "start_time": "2023-02-26T18:01:17.060Z"
   },
   {
    "duration": 1807,
    "start_time": "2023-02-26T18:01:17.173Z"
   },
   {
    "duration": 33,
    "start_time": "2023-02-26T18:01:18.982Z"
   },
   {
    "duration": 311,
    "start_time": "2023-02-26T18:01:19.016Z"
   },
   {
    "duration": 310,
    "start_time": "2023-02-26T18:01:19.329Z"
   },
   {
    "duration": 5,
    "start_time": "2023-02-26T18:01:19.642Z"
   },
   {
    "duration": 1068,
    "start_time": "2023-02-26T18:01:19.649Z"
   },
   {
    "duration": 66,
    "start_time": "2023-02-26T18:01:20.719Z"
   },
   {
    "duration": 4,
    "start_time": "2023-02-26T18:01:20.787Z"
   },
   {
    "duration": 36,
    "start_time": "2023-02-26T18:01:20.793Z"
   },
   {
    "duration": 1279,
    "start_time": "2023-02-27T16:00:37.979Z"
   },
   {
    "duration": 271,
    "start_time": "2023-02-27T16:00:39.260Z"
   },
   {
    "duration": 1217,
    "start_time": "2023-02-27T16:00:48.455Z"
   },
   {
    "duration": 261,
    "start_time": "2023-02-27T16:00:49.674Z"
   },
   {
    "duration": 22,
    "start_time": "2023-02-27T16:00:49.937Z"
   },
   {
    "duration": 73,
    "start_time": "2023-02-27T16:00:49.961Z"
   },
   {
    "duration": 33,
    "start_time": "2023-02-27T16:00:50.035Z"
   },
   {
    "duration": 91,
    "start_time": "2023-02-27T16:00:50.069Z"
   },
   {
    "duration": 39,
    "start_time": "2023-02-27T16:00:50.162Z"
   },
   {
    "duration": 27,
    "start_time": "2023-02-27T16:00:50.202Z"
   },
   {
    "duration": 19,
    "start_time": "2023-02-27T16:00:50.230Z"
   },
   {
    "duration": 24,
    "start_time": "2023-02-27T16:00:50.251Z"
   },
   {
    "duration": 10,
    "start_time": "2023-02-27T16:00:50.276Z"
   },
   {
    "duration": 10,
    "start_time": "2023-02-27T16:00:50.287Z"
   },
   {
    "duration": 39,
    "start_time": "2023-02-27T16:00:50.309Z"
   },
   {
    "duration": 14,
    "start_time": "2023-02-27T16:00:50.349Z"
   },
   {
    "duration": 25,
    "start_time": "2023-02-27T16:00:50.365Z"
   },
   {
    "duration": 28,
    "start_time": "2023-02-27T16:00:50.391Z"
   },
   {
    "duration": 12,
    "start_time": "2023-02-27T16:00:50.432Z"
   },
   {
    "duration": 22,
    "start_time": "2023-02-27T16:00:50.445Z"
   },
   {
    "duration": 75,
    "start_time": "2023-02-27T16:00:50.469Z"
   },
   {
    "duration": 87,
    "start_time": "2023-02-27T16:00:50.545Z"
   },
   {
    "duration": 19,
    "start_time": "2023-02-27T16:00:50.636Z"
   },
   {
    "duration": 41,
    "start_time": "2023-02-27T16:00:50.657Z"
   },
   {
    "duration": 65,
    "start_time": "2023-02-27T16:00:50.699Z"
   },
   {
    "duration": 35,
    "start_time": "2023-02-27T16:00:50.765Z"
   },
   {
    "duration": 55,
    "start_time": "2023-02-27T16:00:50.802Z"
   },
   {
    "duration": 96,
    "start_time": "2023-02-27T16:00:50.858Z"
   },
   {
    "duration": 133,
    "start_time": "2023-02-27T16:00:50.956Z"
   },
   {
    "duration": 44,
    "start_time": "2023-02-27T16:00:51.092Z"
   },
   {
    "duration": 98,
    "start_time": "2023-02-27T16:00:51.138Z"
   },
   {
    "duration": 8,
    "start_time": "2023-02-27T16:00:51.237Z"
   },
   {
    "duration": 209,
    "start_time": "2023-02-27T16:00:51.246Z"
   },
   {
    "duration": 141,
    "start_time": "2023-02-27T16:00:51.456Z"
   },
   {
    "duration": 145,
    "start_time": "2023-02-27T16:00:51.599Z"
   },
   {
    "duration": 43,
    "start_time": "2023-02-27T16:00:51.745Z"
   },
   {
    "duration": 463,
    "start_time": "2023-02-27T16:00:51.790Z"
   },
   {
    "duration": 624,
    "start_time": "2023-02-27T16:00:52.254Z"
   },
   {
    "duration": 13,
    "start_time": "2023-02-27T16:00:52.880Z"
   },
   {
    "duration": 56,
    "start_time": "2023-02-27T16:00:52.895Z"
   },
   {
    "duration": 29,
    "start_time": "2023-02-27T16:00:52.956Z"
   },
   {
    "duration": 91,
    "start_time": "2023-02-27T16:00:52.986Z"
   },
   {
    "duration": 1501,
    "start_time": "2023-02-27T16:00:53.079Z"
   },
   {
    "duration": 24,
    "start_time": "2023-02-27T16:00:54.582Z"
   },
   {
    "duration": 268,
    "start_time": "2023-02-27T16:00:54.608Z"
   },
   {
    "duration": 299,
    "start_time": "2023-02-27T16:00:54.877Z"
   },
   {
    "duration": 6,
    "start_time": "2023-02-27T16:00:55.177Z"
   },
   {
    "duration": 1010,
    "start_time": "2023-02-27T16:00:55.185Z"
   },
   {
    "duration": 65,
    "start_time": "2023-02-27T16:00:56.197Z"
   },
   {
    "duration": 4,
    "start_time": "2023-02-27T16:00:56.264Z"
   },
   {
    "duration": 10,
    "start_time": "2023-02-27T16:00:56.270Z"
   },
   {
    "duration": 12,
    "start_time": "2023-02-27T16:32:50.692Z"
   },
   {
    "duration": 4,
    "start_time": "2023-02-27T16:44:22.123Z"
   },
   {
    "duration": 3,
    "start_time": "2023-02-27T16:44:27.347Z"
   },
   {
    "duration": 4,
    "start_time": "2023-02-27T16:44:55.451Z"
   },
   {
    "duration": 97,
    "start_time": "2023-02-27T16:44:56.115Z"
   },
   {
    "duration": 4,
    "start_time": "2023-02-27T16:45:07.803Z"
   },
   {
    "duration": 121,
    "start_time": "2023-02-27T16:45:29.307Z"
   },
   {
    "duration": 3,
    "start_time": "2023-02-27T16:45:32.716Z"
   },
   {
    "duration": 6,
    "start_time": "2023-02-27T16:46:05.371Z"
   },
   {
    "duration": 11,
    "start_time": "2023-02-27T16:46:41.388Z"
   },
   {
    "duration": 29,
    "start_time": "2023-02-27T16:46:49.795Z"
   },
   {
    "duration": 14,
    "start_time": "2023-02-27T16:47:20.624Z"
   },
   {
    "duration": 20,
    "start_time": "2023-02-27T16:48:31.532Z"
   },
   {
    "duration": 30,
    "start_time": "2023-02-27T16:48:42.412Z"
   },
   {
    "duration": 29,
    "start_time": "2023-02-27T16:48:57.572Z"
   },
   {
    "duration": 39,
    "start_time": "2023-02-27T16:49:01.595Z"
   },
   {
    "duration": 39,
    "start_time": "2023-02-27T16:49:08.452Z"
   },
   {
    "duration": 1406,
    "start_time": "2023-02-28T16:20:34.615Z"
   },
   {
    "duration": 915,
    "start_time": "2023-02-28T16:20:36.023Z"
   },
   {
    "duration": 26,
    "start_time": "2023-02-28T16:20:36.939Z"
   },
   {
    "duration": 54,
    "start_time": "2023-02-28T16:20:36.967Z"
   },
   {
    "duration": 31,
    "start_time": "2023-02-28T16:20:37.024Z"
   },
   {
    "duration": 95,
    "start_time": "2023-02-28T16:20:37.057Z"
   },
   {
    "duration": 60,
    "start_time": "2023-02-28T16:20:37.154Z"
   },
   {
    "duration": 15,
    "start_time": "2023-02-28T16:20:37.215Z"
   },
   {
    "duration": 10,
    "start_time": "2023-02-28T16:20:37.231Z"
   },
   {
    "duration": 18,
    "start_time": "2023-02-28T16:20:37.243Z"
   },
   {
    "duration": 40,
    "start_time": "2023-02-28T16:20:37.263Z"
   },
   {
    "duration": 13,
    "start_time": "2023-02-28T16:20:37.304Z"
   },
   {
    "duration": 13,
    "start_time": "2023-02-28T16:20:37.318Z"
   },
   {
    "duration": 12,
    "start_time": "2023-02-28T16:20:37.334Z"
   },
   {
    "duration": 43,
    "start_time": "2023-02-28T16:20:37.348Z"
   },
   {
    "duration": 24,
    "start_time": "2023-02-28T16:20:37.392Z"
   },
   {
    "duration": 11,
    "start_time": "2023-02-28T16:20:37.417Z"
   },
   {
    "duration": 27,
    "start_time": "2023-02-28T16:20:37.430Z"
   },
   {
    "duration": 80,
    "start_time": "2023-02-28T16:20:37.459Z"
   },
   {
    "duration": 85,
    "start_time": "2023-02-28T16:20:37.540Z"
   },
   {
    "duration": 17,
    "start_time": "2023-02-28T16:20:37.627Z"
   },
   {
    "duration": 87,
    "start_time": "2023-02-28T16:20:37.646Z"
   },
   {
    "duration": 47,
    "start_time": "2023-02-28T16:20:37.735Z"
   },
   {
    "duration": 37,
    "start_time": "2023-02-28T16:20:37.791Z"
   },
   {
    "duration": 34,
    "start_time": "2023-02-28T16:20:37.829Z"
   },
   {
    "duration": 103,
    "start_time": "2023-02-28T16:20:37.864Z"
   },
   {
    "duration": 142,
    "start_time": "2023-02-28T16:20:37.969Z"
   },
   {
    "duration": 34,
    "start_time": "2023-02-28T16:20:38.112Z"
   },
   {
    "duration": 96,
    "start_time": "2023-02-28T16:20:38.148Z"
   },
   {
    "duration": 7,
    "start_time": "2023-02-28T16:20:38.246Z"
   },
   {
    "duration": 209,
    "start_time": "2023-02-28T16:20:38.255Z"
   },
   {
    "duration": 150,
    "start_time": "2023-02-28T16:20:38.466Z"
   },
   {
    "duration": 146,
    "start_time": "2023-02-28T16:20:38.618Z"
   },
   {
    "duration": 59,
    "start_time": "2023-02-28T16:20:38.766Z"
   },
   {
    "duration": 447,
    "start_time": "2023-02-28T16:20:38.827Z"
   },
   {
    "duration": 648,
    "start_time": "2023-02-28T16:20:39.276Z"
   },
   {
    "duration": 13,
    "start_time": "2023-02-28T16:20:39.926Z"
   },
   {
    "duration": 61,
    "start_time": "2023-02-28T16:20:39.940Z"
   },
   {
    "duration": 35,
    "start_time": "2023-02-28T16:20:40.003Z"
   },
   {
    "duration": 82,
    "start_time": "2023-02-28T16:20:40.040Z"
   },
   {
    "duration": 1475,
    "start_time": "2023-02-28T16:20:40.125Z"
   },
   {
    "duration": 26,
    "start_time": "2023-02-28T16:20:41.602Z"
   },
   {
    "duration": 306,
    "start_time": "2023-02-28T16:20:41.631Z"
   },
   {
    "duration": 332,
    "start_time": "2023-02-28T16:20:41.939Z"
   },
   {
    "duration": 4,
    "start_time": "2023-02-28T16:20:42.273Z"
   },
   {
    "duration": 33,
    "start_time": "2023-02-28T16:20:42.279Z"
   },
   {
    "duration": 945,
    "start_time": "2023-02-28T16:20:42.314Z"
   },
   {
    "duration": 67,
    "start_time": "2023-02-28T16:20:43.261Z"
   },
   {
    "duration": 4,
    "start_time": "2023-02-28T16:20:43.329Z"
   },
   {
    "duration": 16,
    "start_time": "2023-02-28T16:20:43.335Z"
   },
   {
    "duration": 4,
    "start_time": "2023-02-28T16:21:05.643Z"
   },
   {
    "duration": 4,
    "start_time": "2023-02-28T16:24:17.061Z"
   },
   {
    "duration": 121,
    "start_time": "2023-02-28T16:25:06.327Z"
   },
   {
    "duration": 23,
    "start_time": "2023-02-28T16:26:13.103Z"
   },
   {
    "duration": 29,
    "start_time": "2023-02-28T16:26:26.703Z"
   },
   {
    "duration": 58,
    "start_time": "2023-02-28T16:27:31.651Z"
   },
   {
    "duration": 129,
    "start_time": "2023-02-28T16:27:37.641Z"
   },
   {
    "duration": 44,
    "start_time": "2023-02-28T16:28:01.414Z"
   },
   {
    "duration": 40,
    "start_time": "2023-02-28T16:28:20.971Z"
   },
   {
    "duration": 619,
    "start_time": "2023-02-28T16:28:23.000Z"
   },
   {
    "duration": 29,
    "start_time": "2023-02-28T16:36:52.851Z"
   },
   {
    "duration": 153,
    "start_time": "2023-02-28T16:36:55.762Z"
   },
   {
    "duration": 609,
    "start_time": "2023-02-28T16:42:34.307Z"
   },
   {
    "duration": 61,
    "start_time": "2023-02-28T16:42:47.081Z"
   },
   {
    "duration": 81,
    "start_time": "2023-02-28T16:43:39.750Z"
   },
   {
    "duration": 524,
    "start_time": "2023-02-28T16:43:44.722Z"
   },
   {
    "duration": 273,
    "start_time": "2023-02-28T16:44:00.732Z"
   },
   {
    "duration": 72,
    "start_time": "2023-02-28T16:47:41.041Z"
   },
   {
    "duration": 97,
    "start_time": "2023-02-28T16:47:43.969Z"
   },
   {
    "duration": 10,
    "start_time": "2023-02-28T16:48:15.104Z"
   },
   {
    "duration": 7,
    "start_time": "2023-02-28T16:48:36.305Z"
   },
   {
    "duration": 9,
    "start_time": "2023-02-28T16:56:12.430Z"
   },
   {
    "duration": 9,
    "start_time": "2023-02-28T17:00:12.641Z"
   },
   {
    "duration": 11,
    "start_time": "2023-02-28T17:01:10.445Z"
   },
   {
    "duration": 10,
    "start_time": "2023-02-28T17:01:25.207Z"
   },
   {
    "duration": 55,
    "start_time": "2023-02-28T17:02:13.209Z"
   },
   {
    "duration": 76,
    "start_time": "2023-02-28T17:02:15.359Z"
   },
   {
    "duration": 8,
    "start_time": "2023-02-28T17:02:28.619Z"
   },
   {
    "duration": 24,
    "start_time": "2023-02-28T17:04:33.802Z"
   },
   {
    "duration": 45,
    "start_time": "2023-02-28T17:04:38.444Z"
   },
   {
    "duration": 24,
    "start_time": "2023-02-28T17:04:55.096Z"
   },
   {
    "duration": 45,
    "start_time": "2023-02-28T17:05:04.608Z"
   },
   {
    "duration": 48,
    "start_time": "2023-02-28T17:05:16.551Z"
   },
   {
    "duration": 32,
    "start_time": "2023-02-28T17:05:30.104Z"
   },
   {
    "duration": 50,
    "start_time": "2023-02-28T17:06:17.417Z"
   },
   {
    "duration": 139,
    "start_time": "2023-02-28T17:06:37.103Z"
   },
   {
    "duration": 3,
    "start_time": "2023-02-28T17:12:28.959Z"
   },
   {
    "duration": 61,
    "start_time": "2023-02-28T17:12:53.850Z"
   },
   {
    "duration": 4,
    "start_time": "2023-02-28T17:13:00.819Z"
   },
   {
    "duration": 4,
    "start_time": "2023-02-28T17:15:34.547Z"
   },
   {
    "duration": 17,
    "start_time": "2023-02-28T17:15:44.469Z"
   },
   {
    "duration": 57,
    "start_time": "2023-02-28T17:17:28.785Z"
   },
   {
    "duration": 17,
    "start_time": "2023-02-28T17:17:31.868Z"
   },
   {
    "duration": 67,
    "start_time": "2023-02-28T17:17:58.695Z"
   },
   {
    "duration": 18,
    "start_time": "2023-02-28T17:18:07.051Z"
   },
   {
    "duration": 280,
    "start_time": "2023-02-28T17:18:36.203Z"
   },
   {
    "duration": 7,
    "start_time": "2023-02-28T17:18:39.426Z"
   },
   {
    "duration": 72,
    "start_time": "2023-02-28T17:18:58.660Z"
   },
   {
    "duration": 17,
    "start_time": "2023-02-28T17:19:01.186Z"
   },
   {
    "duration": 24,
    "start_time": "2023-02-28T17:19:48.451Z"
   },
   {
    "duration": 14,
    "start_time": "2023-02-28T17:20:30.455Z"
   },
   {
    "duration": 11,
    "start_time": "2023-02-28T17:20:49.769Z"
   },
   {
    "duration": 28,
    "start_time": "2023-02-28T17:20:54.801Z"
   },
   {
    "duration": 15,
    "start_time": "2023-02-28T17:21:02.450Z"
   },
   {
    "duration": 36,
    "start_time": "2023-02-28T17:22:09.050Z"
   },
   {
    "duration": 259,
    "start_time": "2023-02-28T17:22:34.233Z"
   },
   {
    "duration": 59,
    "start_time": "2023-02-28T17:23:48.352Z"
   },
   {
    "duration": 357,
    "start_time": "2023-02-28T17:24:01.392Z"
   },
   {
    "duration": 54,
    "start_time": "2023-02-28T17:25:06.350Z"
   },
   {
    "duration": 4,
    "start_time": "2023-02-28T17:25:15.099Z"
   },
   {
    "duration": 4,
    "start_time": "2023-02-28T17:25:23.156Z"
   },
   {
    "duration": 76,
    "start_time": "2023-02-28T17:25:40.978Z"
   },
   {
    "duration": 33,
    "start_time": "2023-02-28T17:27:31.819Z"
   },
   {
    "duration": 47,
    "start_time": "2023-02-28T17:27:40.234Z"
   },
   {
    "duration": 1263,
    "start_time": "2023-02-28T17:28:14.768Z"
   },
   {
    "duration": 267,
    "start_time": "2023-02-28T17:28:16.032Z"
   },
   {
    "duration": 23,
    "start_time": "2023-02-28T17:28:16.303Z"
   },
   {
    "duration": 75,
    "start_time": "2023-02-28T17:28:16.328Z"
   },
   {
    "duration": 39,
    "start_time": "2023-02-28T17:28:16.406Z"
   },
   {
    "duration": 110,
    "start_time": "2023-02-28T17:28:16.446Z"
   },
   {
    "duration": 53,
    "start_time": "2023-02-28T17:28:16.557Z"
   },
   {
    "duration": 18,
    "start_time": "2023-02-28T17:28:16.611Z"
   },
   {
    "duration": 16,
    "start_time": "2023-02-28T17:28:16.631Z"
   },
   {
    "duration": 26,
    "start_time": "2023-02-28T17:28:16.648Z"
   },
   {
    "duration": 28,
    "start_time": "2023-02-28T17:28:16.675Z"
   },
   {
    "duration": 22,
    "start_time": "2023-02-28T17:28:16.705Z"
   },
   {
    "duration": 19,
    "start_time": "2023-02-28T17:28:16.729Z"
   },
   {
    "duration": 17,
    "start_time": "2023-02-28T17:28:16.751Z"
   },
   {
    "duration": 30,
    "start_time": "2023-02-28T17:28:16.769Z"
   },
   {
    "duration": 29,
    "start_time": "2023-02-28T17:28:16.804Z"
   },
   {
    "duration": 25,
    "start_time": "2023-02-28T17:28:16.835Z"
   },
   {
    "duration": 62,
    "start_time": "2023-02-28T17:28:16.862Z"
   },
   {
    "duration": 87,
    "start_time": "2023-02-28T17:28:16.926Z"
   },
   {
    "duration": 95,
    "start_time": "2023-02-28T17:28:17.016Z"
   },
   {
    "duration": 22,
    "start_time": "2023-02-28T17:28:17.114Z"
   },
   {
    "duration": 70,
    "start_time": "2023-02-28T17:28:17.139Z"
   },
   {
    "duration": 77,
    "start_time": "2023-02-28T17:28:17.211Z"
   },
   {
    "duration": 58,
    "start_time": "2023-02-28T17:28:17.289Z"
   },
   {
    "duration": 93,
    "start_time": "2023-02-28T17:28:17.349Z"
   },
   {
    "duration": 109,
    "start_time": "2023-02-28T17:28:17.444Z"
   },
   {
    "duration": 160,
    "start_time": "2023-02-28T17:28:17.555Z"
   },
   {
    "duration": 1043,
    "start_time": "2023-02-28T17:28:17.717Z"
   },
   {
    "duration": 100,
    "start_time": "2023-02-28T17:28:18.761Z"
   },
   {
    "duration": 23,
    "start_time": "2023-02-28T17:28:18.863Z"
   },
   {
    "duration": 206,
    "start_time": "2023-02-28T17:28:18.887Z"
   },
   {
    "duration": 155,
    "start_time": "2023-02-28T17:28:19.096Z"
   },
   {
    "duration": 155,
    "start_time": "2023-02-28T17:28:19.252Z"
   },
   {
    "duration": 47,
    "start_time": "2023-02-28T17:28:19.408Z"
   },
   {
    "duration": 403,
    "start_time": "2023-02-28T17:28:19.457Z"
   },
   {
    "duration": 704,
    "start_time": "2023-02-28T17:28:19.862Z"
   },
   {
    "duration": 24,
    "start_time": "2023-02-28T17:28:20.568Z"
   },
   {
    "duration": 50,
    "start_time": "2023-02-28T17:28:20.594Z"
   },
   {
    "duration": 49,
    "start_time": "2023-02-28T17:28:20.645Z"
   },
   {
    "duration": 74,
    "start_time": "2023-02-28T17:28:20.695Z"
   },
   {
    "duration": 1398,
    "start_time": "2023-02-28T17:28:20.786Z"
   },
   {
    "duration": 24,
    "start_time": "2023-02-28T17:28:22.186Z"
   },
   {
    "duration": 262,
    "start_time": "2023-02-28T17:28:22.211Z"
   },
   {
    "duration": 265,
    "start_time": "2023-02-28T17:28:22.486Z"
   },
   {
    "duration": 4,
    "start_time": "2023-02-28T17:28:22.752Z"
   },
   {
    "duration": 6,
    "start_time": "2023-02-28T17:28:22.757Z"
   },
   {
    "duration": 946,
    "start_time": "2023-02-28T17:28:22.764Z"
   },
   {
    "duration": 57,
    "start_time": "2023-02-28T17:28:23.711Z"
   },
   {
    "duration": 16,
    "start_time": "2023-02-28T17:28:23.770Z"
   },
   {
    "duration": 11,
    "start_time": "2023-02-28T17:28:23.788Z"
   },
   {
    "duration": 18,
    "start_time": "2023-02-28T17:36:04.638Z"
   },
   {
    "duration": 15,
    "start_time": "2023-02-28T17:37:08.570Z"
   },
   {
    "duration": 14,
    "start_time": "2023-02-28T17:37:26.598Z"
   },
   {
    "duration": 57,
    "start_time": "2023-02-28T17:37:32.963Z"
   },
   {
    "duration": 17,
    "start_time": "2023-02-28T17:37:35.305Z"
   },
   {
    "duration": 3,
    "start_time": "2023-02-28T17:37:48.201Z"
   },
   {
    "duration": 17,
    "start_time": "2023-02-28T17:38:09.598Z"
   },
   {
    "duration": 14,
    "start_time": "2023-02-28T17:40:30.207Z"
   },
   {
    "duration": 15,
    "start_time": "2023-02-28T17:40:43.311Z"
   },
   {
    "duration": 12,
    "start_time": "2023-02-28T17:41:06.891Z"
   },
   {
    "duration": 24,
    "start_time": "2023-02-28T17:42:08.691Z"
   },
   {
    "duration": 36,
    "start_time": "2023-02-28T17:43:03.667Z"
   },
   {
    "duration": 59,
    "start_time": "2023-02-28T17:43:57.411Z"
   },
   {
    "duration": 57,
    "start_time": "2023-02-28T17:44:23.676Z"
   },
   {
    "duration": 48,
    "start_time": "2023-02-28T17:46:43.360Z"
   },
   {
    "duration": 27,
    "start_time": "2023-02-28T17:46:49.889Z"
   },
   {
    "duration": 22,
    "start_time": "2023-02-28T17:47:10.809Z"
   },
   {
    "duration": 45,
    "start_time": "2023-02-28T17:51:48.213Z"
   },
   {
    "duration": 38,
    "start_time": "2023-02-28T17:53:13.165Z"
   },
   {
    "duration": 43,
    "start_time": "2023-02-28T17:53:20.286Z"
   },
   {
    "duration": 129,
    "start_time": "2023-02-28T17:53:31.665Z"
   },
   {
    "duration": 24,
    "start_time": "2023-02-28T17:53:51.786Z"
   },
   {
    "duration": 19,
    "start_time": "2023-02-28T18:04:08.614Z"
   },
   {
    "duration": 15,
    "start_time": "2023-02-28T18:04:40.204Z"
   },
   {
    "duration": 24,
    "start_time": "2023-02-28T18:04:53.675Z"
   },
   {
    "duration": 13,
    "start_time": "2023-02-28T18:05:24.210Z"
   },
   {
    "duration": 49,
    "start_time": "2023-02-28T18:20:29.503Z"
   },
   {
    "duration": 1218,
    "start_time": "2023-02-28T18:20:44.683Z"
   },
   {
    "duration": 237,
    "start_time": "2023-02-28T18:20:45.903Z"
   },
   {
    "duration": 21,
    "start_time": "2023-02-28T18:20:46.141Z"
   },
   {
    "duration": 46,
    "start_time": "2023-02-28T18:20:46.163Z"
   },
   {
    "duration": 34,
    "start_time": "2023-02-28T18:20:46.211Z"
   },
   {
    "duration": 113,
    "start_time": "2023-02-28T18:20:46.246Z"
   },
   {
    "duration": 45,
    "start_time": "2023-02-28T18:20:46.360Z"
   },
   {
    "duration": 14,
    "start_time": "2023-02-28T18:20:46.407Z"
   },
   {
    "duration": 11,
    "start_time": "2023-02-28T18:20:46.422Z"
   },
   {
    "duration": 18,
    "start_time": "2023-02-28T18:20:46.434Z"
   },
   {
    "duration": 33,
    "start_time": "2023-02-28T18:20:46.453Z"
   },
   {
    "duration": 11,
    "start_time": "2023-02-28T18:20:46.487Z"
   },
   {
    "duration": 12,
    "start_time": "2023-02-28T18:20:46.499Z"
   },
   {
    "duration": 11,
    "start_time": "2023-02-28T18:20:46.513Z"
   },
   {
    "duration": 24,
    "start_time": "2023-02-28T18:20:46.525Z"
   },
   {
    "duration": 46,
    "start_time": "2023-02-28T18:20:46.550Z"
   },
   {
    "duration": 92,
    "start_time": "2023-02-28T18:20:46.597Z"
   },
   {
    "duration": 85,
    "start_time": "2023-02-28T18:20:46.691Z"
   },
   {
    "duration": 27,
    "start_time": "2023-02-28T18:20:46.778Z"
   },
   {
    "duration": 47,
    "start_time": "2023-02-28T18:20:46.807Z"
   },
   {
    "duration": 66,
    "start_time": "2023-02-28T18:20:46.856Z"
   },
   {
    "duration": 34,
    "start_time": "2023-02-28T18:20:46.923Z"
   },
   {
    "duration": 69,
    "start_time": "2023-02-28T18:20:46.958Z"
   },
   {
    "duration": 104,
    "start_time": "2023-02-28T18:20:47.029Z"
   },
   {
    "duration": 139,
    "start_time": "2023-02-28T18:20:47.135Z"
   },
   {
    "duration": 19,
    "start_time": "2023-02-28T18:20:47.276Z"
   },
   {
    "duration": 127,
    "start_time": "2023-02-28T18:20:47.297Z"
   },
   {
    "duration": 0,
    "start_time": "2023-02-28T18:20:47.425Z"
   },
   {
    "duration": 0,
    "start_time": "2023-02-28T18:20:47.427Z"
   },
   {
    "duration": 0,
    "start_time": "2023-02-28T18:20:47.428Z"
   },
   {
    "duration": 0,
    "start_time": "2023-02-28T18:20:47.429Z"
   },
   {
    "duration": 0,
    "start_time": "2023-02-28T18:20:47.430Z"
   },
   {
    "duration": 0,
    "start_time": "2023-02-28T18:20:47.430Z"
   },
   {
    "duration": 0,
    "start_time": "2023-02-28T18:20:47.432Z"
   },
   {
    "duration": 0,
    "start_time": "2023-02-28T18:20:47.433Z"
   },
   {
    "duration": 0,
    "start_time": "2023-02-28T18:20:47.434Z"
   },
   {
    "duration": 0,
    "start_time": "2023-02-28T18:20:47.434Z"
   },
   {
    "duration": 0,
    "start_time": "2023-02-28T18:20:47.435Z"
   },
   {
    "duration": 0,
    "start_time": "2023-02-28T18:20:47.436Z"
   },
   {
    "duration": 0,
    "start_time": "2023-02-28T18:20:47.437Z"
   },
   {
    "duration": 0,
    "start_time": "2023-02-28T18:20:47.439Z"
   },
   {
    "duration": 0,
    "start_time": "2023-02-28T18:20:47.440Z"
   },
   {
    "duration": 0,
    "start_time": "2023-02-28T18:20:47.441Z"
   },
   {
    "duration": 0,
    "start_time": "2023-02-28T18:20:47.443Z"
   },
   {
    "duration": 0,
    "start_time": "2023-02-28T18:20:47.444Z"
   },
   {
    "duration": 0,
    "start_time": "2023-02-28T18:20:47.444Z"
   },
   {
    "duration": 0,
    "start_time": "2023-02-28T18:20:47.445Z"
   },
   {
    "duration": 0,
    "start_time": "2023-02-28T18:20:47.446Z"
   },
   {
    "duration": 0,
    "start_time": "2023-02-28T18:20:47.486Z"
   },
   {
    "duration": 37,
    "start_time": "2023-02-28T18:24:38.773Z"
   },
   {
    "duration": 108,
    "start_time": "2023-02-28T18:24:41.284Z"
   },
   {
    "duration": 1282,
    "start_time": "2023-02-28T18:24:56.473Z"
   },
   {
    "duration": 241,
    "start_time": "2023-02-28T18:24:57.757Z"
   },
   {
    "duration": 20,
    "start_time": "2023-02-28T18:24:57.999Z"
   },
   {
    "duration": 77,
    "start_time": "2023-02-28T18:24:58.020Z"
   },
   {
    "duration": 34,
    "start_time": "2023-02-28T18:24:58.100Z"
   },
   {
    "duration": 102,
    "start_time": "2023-02-28T18:24:58.135Z"
   },
   {
    "duration": 58,
    "start_time": "2023-02-28T18:24:58.238Z"
   },
   {
    "duration": 18,
    "start_time": "2023-02-28T18:24:58.298Z"
   },
   {
    "duration": 10,
    "start_time": "2023-02-28T18:24:58.317Z"
   },
   {
    "duration": 23,
    "start_time": "2023-02-28T18:24:58.329Z"
   },
   {
    "duration": 37,
    "start_time": "2023-02-28T18:24:58.354Z"
   },
   {
    "duration": 10,
    "start_time": "2023-02-28T18:24:58.393Z"
   },
   {
    "duration": 18,
    "start_time": "2023-02-28T18:24:58.405Z"
   },
   {
    "duration": 11,
    "start_time": "2023-02-28T18:24:58.426Z"
   },
   {
    "duration": 49,
    "start_time": "2023-02-28T18:24:58.438Z"
   },
   {
    "duration": 32,
    "start_time": "2023-02-28T18:24:58.488Z"
   },
   {
    "duration": 84,
    "start_time": "2023-02-28T18:24:58.521Z"
   },
   {
    "duration": 88,
    "start_time": "2023-02-28T18:24:58.607Z"
   },
   {
    "duration": 22,
    "start_time": "2023-02-28T18:24:58.697Z"
   },
   {
    "duration": 67,
    "start_time": "2023-02-28T18:24:58.721Z"
   },
   {
    "duration": 54,
    "start_time": "2023-02-28T18:24:58.789Z"
   },
   {
    "duration": 47,
    "start_time": "2023-02-28T18:24:58.845Z"
   },
   {
    "duration": 37,
    "start_time": "2023-02-28T18:24:58.893Z"
   },
   {
    "duration": 112,
    "start_time": "2023-02-28T18:24:58.931Z"
   },
   {
    "duration": 133,
    "start_time": "2023-02-28T18:24:59.045Z"
   },
   {
    "duration": 16,
    "start_time": "2023-02-28T18:24:59.185Z"
   },
   {
    "duration": 116,
    "start_time": "2023-02-28T18:24:59.203Z"
   },
   {
    "duration": 0,
    "start_time": "2023-02-28T18:24:59.321Z"
   },
   {
    "duration": 0,
    "start_time": "2023-02-28T18:24:59.322Z"
   },
   {
    "duration": 0,
    "start_time": "2023-02-28T18:24:59.323Z"
   },
   {
    "duration": 0,
    "start_time": "2023-02-28T18:24:59.325Z"
   },
   {
    "duration": 0,
    "start_time": "2023-02-28T18:24:59.326Z"
   },
   {
    "duration": 0,
    "start_time": "2023-02-28T18:24:59.326Z"
   },
   {
    "duration": 0,
    "start_time": "2023-02-28T18:24:59.327Z"
   },
   {
    "duration": 0,
    "start_time": "2023-02-28T18:24:59.329Z"
   },
   {
    "duration": 0,
    "start_time": "2023-02-28T18:24:59.330Z"
   },
   {
    "duration": 0,
    "start_time": "2023-02-28T18:24:59.331Z"
   },
   {
    "duration": 0,
    "start_time": "2023-02-28T18:24:59.332Z"
   },
   {
    "duration": 0,
    "start_time": "2023-02-28T18:24:59.334Z"
   },
   {
    "duration": 0,
    "start_time": "2023-02-28T18:24:59.335Z"
   },
   {
    "duration": 0,
    "start_time": "2023-02-28T18:24:59.335Z"
   },
   {
    "duration": 0,
    "start_time": "2023-02-28T18:24:59.337Z"
   },
   {
    "duration": 0,
    "start_time": "2023-02-28T18:24:59.338Z"
   },
   {
    "duration": 0,
    "start_time": "2023-02-28T18:24:59.339Z"
   },
   {
    "duration": 0,
    "start_time": "2023-02-28T18:24:59.340Z"
   },
   {
    "duration": 0,
    "start_time": "2023-02-28T18:24:59.341Z"
   },
   {
    "duration": 0,
    "start_time": "2023-02-28T18:24:59.343Z"
   },
   {
    "duration": 0,
    "start_time": "2023-02-28T18:24:59.386Z"
   },
   {
    "duration": 0,
    "start_time": "2023-02-28T18:24:59.387Z"
   },
   {
    "duration": 60,
    "start_time": "2023-02-28T18:25:45.447Z"
   },
   {
    "duration": 74,
    "start_time": "2023-02-28T18:25:47.401Z"
   },
   {
    "duration": 13,
    "start_time": "2023-02-28T18:57:49.843Z"
   },
   {
    "duration": 1207,
    "start_time": "2023-02-28T18:57:57.391Z"
   },
   {
    "duration": 237,
    "start_time": "2023-02-28T18:57:58.600Z"
   },
   {
    "duration": 21,
    "start_time": "2023-02-28T18:57:58.839Z"
   },
   {
    "duration": 48,
    "start_time": "2023-02-28T18:57:58.862Z"
   },
   {
    "duration": 34,
    "start_time": "2023-02-28T18:57:58.913Z"
   },
   {
    "duration": 108,
    "start_time": "2023-02-28T18:57:58.948Z"
   },
   {
    "duration": 49,
    "start_time": "2023-02-28T18:57:59.058Z"
   },
   {
    "duration": 14,
    "start_time": "2023-02-28T18:57:59.109Z"
   },
   {
    "duration": 9,
    "start_time": "2023-02-28T18:57:59.125Z"
   },
   {
    "duration": 19,
    "start_time": "2023-02-28T18:57:59.136Z"
   },
   {
    "duration": 33,
    "start_time": "2023-02-28T18:57:59.158Z"
   },
   {
    "duration": 11,
    "start_time": "2023-02-28T18:57:59.193Z"
   },
   {
    "duration": 17,
    "start_time": "2023-02-28T18:57:59.205Z"
   },
   {
    "duration": 10,
    "start_time": "2023-02-28T18:57:59.226Z"
   },
   {
    "duration": 49,
    "start_time": "2023-02-28T18:57:59.237Z"
   },
   {
    "duration": 21,
    "start_time": "2023-02-28T18:57:59.288Z"
   },
   {
    "duration": 61,
    "start_time": "2023-02-28T18:57:59.311Z"
   },
   {
    "duration": 79,
    "start_time": "2023-02-28T18:57:59.373Z"
   },
   {
    "duration": 32,
    "start_time": "2023-02-28T18:57:59.454Z"
   },
   {
    "duration": 39,
    "start_time": "2023-02-28T18:57:59.487Z"
   },
   {
    "duration": 59,
    "start_time": "2023-02-28T18:57:59.528Z"
   },
   {
    "duration": 35,
    "start_time": "2023-02-28T18:57:59.589Z"
   },
   {
    "duration": 76,
    "start_time": "2023-02-28T18:57:59.625Z"
   },
   {
    "duration": 91,
    "start_time": "2023-02-28T18:57:59.702Z"
   },
   {
    "duration": 131,
    "start_time": "2023-02-28T18:57:59.794Z"
   },
   {
    "duration": 13,
    "start_time": "2023-02-28T18:57:59.926Z"
   },
   {
    "duration": 128,
    "start_time": "2023-02-28T18:57:59.941Z"
   },
   {
    "duration": 0,
    "start_time": "2023-02-28T18:58:00.072Z"
   },
   {
    "duration": 0,
    "start_time": "2023-02-28T18:58:00.073Z"
   },
   {
    "duration": 0,
    "start_time": "2023-02-28T18:58:00.074Z"
   },
   {
    "duration": 0,
    "start_time": "2023-02-28T18:58:00.085Z"
   },
   {
    "duration": 0,
    "start_time": "2023-02-28T18:58:00.086Z"
   },
   {
    "duration": 0,
    "start_time": "2023-02-28T18:58:00.088Z"
   },
   {
    "duration": 0,
    "start_time": "2023-02-28T18:58:00.088Z"
   },
   {
    "duration": 0,
    "start_time": "2023-02-28T18:58:00.089Z"
   },
   {
    "duration": 0,
    "start_time": "2023-02-28T18:58:00.091Z"
   },
   {
    "duration": 0,
    "start_time": "2023-02-28T18:58:00.092Z"
   },
   {
    "duration": 0,
    "start_time": "2023-02-28T18:58:00.093Z"
   },
   {
    "duration": 0,
    "start_time": "2023-02-28T18:58:00.094Z"
   },
   {
    "duration": 0,
    "start_time": "2023-02-28T18:58:00.095Z"
   },
   {
    "duration": 0,
    "start_time": "2023-02-28T18:58:00.096Z"
   },
   {
    "duration": 0,
    "start_time": "2023-02-28T18:58:00.097Z"
   },
   {
    "duration": 0,
    "start_time": "2023-02-28T18:58:00.098Z"
   },
   {
    "duration": 0,
    "start_time": "2023-02-28T18:58:00.099Z"
   },
   {
    "duration": 0,
    "start_time": "2023-02-28T18:58:00.100Z"
   },
   {
    "duration": 0,
    "start_time": "2023-02-28T18:58:00.101Z"
   },
   {
    "duration": 0,
    "start_time": "2023-02-28T18:58:00.102Z"
   },
   {
    "duration": 0,
    "start_time": "2023-02-28T18:58:00.103Z"
   },
   {
    "duration": 0,
    "start_time": "2023-02-28T18:58:00.104Z"
   },
   {
    "duration": 9,
    "start_time": "2023-02-28T19:01:08.093Z"
   },
   {
    "duration": 23,
    "start_time": "2023-02-28T19:02:13.703Z"
   },
   {
    "duration": 39,
    "start_time": "2023-02-28T19:02:27.983Z"
   },
   {
    "duration": 19,
    "start_time": "2023-02-28T19:02:38.081Z"
   },
   {
    "duration": 79,
    "start_time": "2023-02-28T19:03:04.104Z"
   },
   {
    "duration": 75,
    "start_time": "2023-02-28T19:03:50.582Z"
   },
   {
    "duration": 76,
    "start_time": "2023-02-28T19:04:11.688Z"
   },
   {
    "duration": 1214,
    "start_time": "2023-02-28T19:04:30.780Z"
   },
   {
    "duration": 243,
    "start_time": "2023-02-28T19:04:31.996Z"
   },
   {
    "duration": 22,
    "start_time": "2023-02-28T19:04:32.241Z"
   },
   {
    "duration": 50,
    "start_time": "2023-02-28T19:04:32.264Z"
   },
   {
    "duration": 32,
    "start_time": "2023-02-28T19:04:32.316Z"
   },
   {
    "duration": 103,
    "start_time": "2023-02-28T19:04:32.349Z"
   },
   {
    "duration": 43,
    "start_time": "2023-02-28T19:04:32.454Z"
   },
   {
    "duration": 13,
    "start_time": "2023-02-28T19:04:32.499Z"
   },
   {
    "duration": 9,
    "start_time": "2023-02-28T19:04:32.514Z"
   },
   {
    "duration": 17,
    "start_time": "2023-02-28T19:04:32.524Z"
   },
   {
    "duration": 9,
    "start_time": "2023-02-28T19:04:32.543Z"
   },
   {
    "duration": 32,
    "start_time": "2023-02-28T19:04:32.554Z"
   },
   {
    "duration": 11,
    "start_time": "2023-02-28T19:04:32.588Z"
   },
   {
    "duration": 10,
    "start_time": "2023-02-28T19:04:32.602Z"
   },
   {
    "duration": 24,
    "start_time": "2023-02-28T19:04:32.614Z"
   },
   {
    "duration": 47,
    "start_time": "2023-02-28T19:04:32.640Z"
   },
   {
    "duration": 60,
    "start_time": "2023-02-28T19:04:32.688Z"
   },
   {
    "duration": 83,
    "start_time": "2023-02-28T19:04:32.750Z"
   },
   {
    "duration": 18,
    "start_time": "2023-02-28T19:04:32.834Z"
   },
   {
    "duration": 55,
    "start_time": "2023-02-28T19:04:32.853Z"
   },
   {
    "duration": 42,
    "start_time": "2023-02-28T19:04:32.910Z"
   },
   {
    "duration": 52,
    "start_time": "2023-02-28T19:04:32.954Z"
   },
   {
    "duration": 59,
    "start_time": "2023-02-28T19:04:33.007Z"
   },
   {
    "duration": 99,
    "start_time": "2023-02-28T19:04:33.068Z"
   },
   {
    "duration": 137,
    "start_time": "2023-02-28T19:04:33.168Z"
   },
   {
    "duration": 20,
    "start_time": "2023-02-28T19:04:33.306Z"
   },
   {
    "duration": 85,
    "start_time": "2023-02-28T19:04:33.327Z"
   },
   {
    "duration": 8,
    "start_time": "2023-02-28T19:04:33.414Z"
   },
   {
    "duration": 204,
    "start_time": "2023-02-28T19:04:33.424Z"
   },
   {
    "duration": 137,
    "start_time": "2023-02-28T19:04:33.630Z"
   },
   {
    "duration": 137,
    "start_time": "2023-02-28T19:04:33.768Z"
   },
   {
    "duration": 51,
    "start_time": "2023-02-28T19:04:33.907Z"
   },
   {
    "duration": 463,
    "start_time": "2023-02-28T19:04:33.959Z"
   },
   {
    "duration": 563,
    "start_time": "2023-02-28T19:04:34.423Z"
   },
   {
    "duration": 14,
    "start_time": "2023-02-28T19:04:34.987Z"
   },
   {
    "duration": 47,
    "start_time": "2023-02-28T19:04:35.002Z"
   },
   {
    "duration": 36,
    "start_time": "2023-02-28T19:04:35.051Z"
   },
   {
    "duration": 61,
    "start_time": "2023-02-28T19:04:35.089Z"
   },
   {
    "duration": 1388,
    "start_time": "2023-02-28T19:04:35.151Z"
   },
   {
    "duration": 24,
    "start_time": "2023-02-28T19:04:36.541Z"
   },
   {
    "duration": 295,
    "start_time": "2023-02-28T19:04:36.569Z"
   },
   {
    "duration": 291,
    "start_time": "2023-02-28T19:04:36.865Z"
   },
   {
    "duration": 4,
    "start_time": "2023-02-28T19:04:37.158Z"
   },
   {
    "duration": 26,
    "start_time": "2023-02-28T19:04:37.163Z"
   },
   {
    "duration": 5,
    "start_time": "2023-02-28T19:04:37.191Z"
   },
   {
    "duration": 1117,
    "start_time": "2023-02-28T19:04:37.199Z"
   },
   {
    "duration": 606,
    "start_time": "2023-02-28T19:04:38.318Z"
   },
   {
    "duration": 3,
    "start_time": "2023-02-28T19:04:38.926Z"
   },
   {
    "duration": 9,
    "start_time": "2023-02-28T19:04:38.931Z"
   },
   {
    "duration": 21,
    "start_time": "2023-02-28T19:07:00.691Z"
   },
   {
    "duration": 19,
    "start_time": "2023-02-28T19:07:50.951Z"
   },
   {
    "duration": 17,
    "start_time": "2023-02-28T19:07:55.763Z"
   },
   {
    "duration": 10,
    "start_time": "2023-02-28T19:10:14.623Z"
   },
   {
    "duration": 265,
    "start_time": "2023-02-28T19:10:21.493Z"
   },
   {
    "duration": 10,
    "start_time": "2023-02-28T19:13:30.744Z"
   },
   {
    "duration": 20,
    "start_time": "2023-02-28T19:14:18.679Z"
   },
   {
    "duration": 148,
    "start_time": "2023-02-28T19:14:20.952Z"
   },
   {
    "duration": 19,
    "start_time": "2023-02-28T19:15:49.927Z"
   },
   {
    "duration": 77,
    "start_time": "2023-02-28T19:15:51.631Z"
   },
   {
    "duration": 32,
    "start_time": "2023-02-28T19:17:38.433Z"
   },
   {
    "duration": 36,
    "start_time": "2023-02-28T19:18:23.203Z"
   },
   {
    "duration": 24,
    "start_time": "2023-02-28T19:19:56.781Z"
   },
   {
    "duration": 268,
    "start_time": "2023-02-28T19:20:07.695Z"
   },
   {
    "duration": 275,
    "start_time": "2023-02-28T19:20:11.183Z"
   },
   {
    "duration": 4,
    "start_time": "2023-02-28T19:20:25.447Z"
   },
   {
    "duration": 18,
    "start_time": "2023-02-28T19:20:48.701Z"
   },
   {
    "duration": 5,
    "start_time": "2023-02-28T19:21:13.311Z"
   },
   {
    "duration": 16,
    "start_time": "2023-02-28T19:21:34.962Z"
   },
   {
    "duration": 22,
    "start_time": "2023-02-28T19:22:45.514Z"
   },
   {
    "duration": 5,
    "start_time": "2023-02-28T19:22:49.573Z"
   },
   {
    "duration": 3,
    "start_time": "2023-02-28T19:22:58.993Z"
   },
   {
    "duration": 23,
    "start_time": "2023-02-28T19:26:10.563Z"
   },
   {
    "duration": 1168,
    "start_time": "2023-02-28T19:26:20.031Z"
   },
   {
    "duration": 233,
    "start_time": "2023-02-28T19:26:21.201Z"
   },
   {
    "duration": 20,
    "start_time": "2023-02-28T19:26:21.436Z"
   },
   {
    "duration": 47,
    "start_time": "2023-02-28T19:26:21.457Z"
   },
   {
    "duration": 31,
    "start_time": "2023-02-28T19:26:21.506Z"
   },
   {
    "duration": 97,
    "start_time": "2023-02-28T19:26:21.538Z"
   },
   {
    "duration": 51,
    "start_time": "2023-02-28T19:26:21.637Z"
   },
   {
    "duration": 15,
    "start_time": "2023-02-28T19:26:21.689Z"
   },
   {
    "duration": 10,
    "start_time": "2023-02-28T19:26:21.705Z"
   },
   {
    "duration": 17,
    "start_time": "2023-02-28T19:26:21.717Z"
   },
   {
    "duration": 10,
    "start_time": "2023-02-28T19:26:21.736Z"
   },
   {
    "duration": 10,
    "start_time": "2023-02-28T19:26:21.748Z"
   },
   {
    "duration": 35,
    "start_time": "2023-02-28T19:26:21.760Z"
   },
   {
    "duration": 11,
    "start_time": "2023-02-28T19:26:21.798Z"
   },
   {
    "duration": 23,
    "start_time": "2023-02-28T19:26:21.811Z"
   },
   {
    "duration": 23,
    "start_time": "2023-02-28T19:26:21.836Z"
   },
   {
    "duration": 83,
    "start_time": "2023-02-28T19:26:21.860Z"
   },
   {
    "duration": 80,
    "start_time": "2023-02-28T19:26:21.945Z"
   },
   {
    "duration": 18,
    "start_time": "2023-02-28T19:26:22.027Z"
   },
   {
    "duration": 61,
    "start_time": "2023-02-28T19:26:22.046Z"
   },
   {
    "duration": 41,
    "start_time": "2023-02-28T19:26:22.109Z"
   },
   {
    "duration": 49,
    "start_time": "2023-02-28T19:26:22.152Z"
   },
   {
    "duration": 60,
    "start_time": "2023-02-28T19:26:22.203Z"
   },
   {
    "duration": 100,
    "start_time": "2023-02-28T19:26:22.264Z"
   },
   {
    "duration": 138,
    "start_time": "2023-02-28T19:26:22.365Z"
   },
   {
    "duration": 17,
    "start_time": "2023-02-28T19:26:22.504Z"
   },
   {
    "duration": 86,
    "start_time": "2023-02-28T19:26:22.523Z"
   },
   {
    "duration": 7,
    "start_time": "2023-02-28T19:26:22.610Z"
   },
   {
    "duration": 198,
    "start_time": "2023-02-28T19:26:22.619Z"
   },
   {
    "duration": 147,
    "start_time": "2023-02-28T19:26:22.818Z"
   },
   {
    "duration": 142,
    "start_time": "2023-02-28T19:26:22.967Z"
   },
   {
    "duration": 45,
    "start_time": "2023-02-28T19:26:23.110Z"
   },
   {
    "duration": 432,
    "start_time": "2023-02-28T19:26:23.156Z"
   },
   {
    "duration": 576,
    "start_time": "2023-02-28T19:26:23.590Z"
   },
   {
    "duration": 19,
    "start_time": "2023-02-28T19:26:24.168Z"
   },
   {
    "duration": 40,
    "start_time": "2023-02-28T19:26:24.189Z"
   },
   {
    "duration": 24,
    "start_time": "2023-02-28T19:26:24.231Z"
   },
   {
    "duration": 82,
    "start_time": "2023-02-28T19:26:24.257Z"
   },
   {
    "duration": 1419,
    "start_time": "2023-02-28T19:26:24.341Z"
   },
   {
    "duration": 24,
    "start_time": "2023-02-28T19:26:25.762Z"
   },
   {
    "duration": 4,
    "start_time": "2023-02-28T19:26:25.790Z"
   },
   {
    "duration": 266,
    "start_time": "2023-02-28T19:26:25.796Z"
   },
   {
    "duration": 292,
    "start_time": "2023-02-28T19:26:26.064Z"
   },
   {
    "duration": 3,
    "start_time": "2023-02-28T19:26:26.358Z"
   },
   {
    "duration": 35,
    "start_time": "2023-02-28T19:26:26.362Z"
   },
   {
    "duration": 117,
    "start_time": "2023-02-28T19:26:26.399Z"
   },
   {
    "duration": 0,
    "start_time": "2023-02-28T19:26:26.517Z"
   },
   {
    "duration": 0,
    "start_time": "2023-02-28T19:26:26.518Z"
   },
   {
    "duration": 0,
    "start_time": "2023-02-28T19:26:26.519Z"
   },
   {
    "duration": 0,
    "start_time": "2023-02-28T19:26:26.520Z"
   },
   {
    "duration": 9,
    "start_time": "2023-02-28T19:27:06.562Z"
   },
   {
    "duration": 11,
    "start_time": "2023-02-28T19:32:33.922Z"
   },
   {
    "duration": 30,
    "start_time": "2023-02-28T19:33:40.556Z"
   },
   {
    "duration": 28,
    "start_time": "2023-02-28T19:34:00.563Z"
   },
   {
    "duration": 44,
    "start_time": "2023-02-28T19:34:04.710Z"
   },
   {
    "duration": 46,
    "start_time": "2023-02-28T19:35:08.981Z"
   },
   {
    "duration": 13,
    "start_time": "2023-02-28T19:36:30.272Z"
   },
   {
    "duration": 7,
    "start_time": "2023-02-28T19:36:52.632Z"
   },
   {
    "duration": 7,
    "start_time": "2023-02-28T19:37:04.592Z"
   },
   {
    "duration": 9,
    "start_time": "2023-02-28T19:40:44.552Z"
   },
   {
    "duration": 24,
    "start_time": "2023-02-28T19:40:50.273Z"
   },
   {
    "duration": 4,
    "start_time": "2023-02-28T19:45:29.563Z"
   },
   {
    "duration": 1241,
    "start_time": "2023-02-28T19:53:33.970Z"
   },
   {
    "duration": 250,
    "start_time": "2023-02-28T19:53:35.213Z"
   },
   {
    "duration": 28,
    "start_time": "2023-02-28T19:53:35.465Z"
   },
   {
    "duration": 50,
    "start_time": "2023-02-28T19:53:35.495Z"
   },
   {
    "duration": 61,
    "start_time": "2023-02-28T19:53:35.548Z"
   },
   {
    "duration": 116,
    "start_time": "2023-02-28T19:53:35.612Z"
   },
   {
    "duration": 72,
    "start_time": "2023-02-28T19:53:35.729Z"
   },
   {
    "duration": 15,
    "start_time": "2023-02-28T19:53:35.803Z"
   },
   {
    "duration": 24,
    "start_time": "2023-02-28T19:53:35.820Z"
   },
   {
    "duration": 24,
    "start_time": "2023-02-28T19:53:35.846Z"
   },
   {
    "duration": 11,
    "start_time": "2023-02-28T19:53:35.885Z"
   },
   {
    "duration": 14,
    "start_time": "2023-02-28T19:53:35.897Z"
   },
   {
    "duration": 19,
    "start_time": "2023-02-28T19:53:35.913Z"
   },
   {
    "duration": 21,
    "start_time": "2023-02-28T19:53:35.934Z"
   },
   {
    "duration": 49,
    "start_time": "2023-02-28T19:53:35.957Z"
   },
   {
    "duration": 47,
    "start_time": "2023-02-28T19:53:36.007Z"
   },
   {
    "duration": 84,
    "start_time": "2023-02-28T19:53:36.055Z"
   },
   {
    "duration": 81,
    "start_time": "2023-02-28T19:53:36.140Z"
   },
   {
    "duration": 20,
    "start_time": "2023-02-28T19:53:36.223Z"
   },
   {
    "duration": 63,
    "start_time": "2023-02-28T19:53:36.245Z"
   },
   {
    "duration": 42,
    "start_time": "2023-02-28T19:53:36.310Z"
   },
   {
    "duration": 53,
    "start_time": "2023-02-28T19:53:36.354Z"
   },
   {
    "duration": 58,
    "start_time": "2023-02-28T19:53:36.409Z"
   },
   {
    "duration": 93,
    "start_time": "2023-02-28T19:53:36.469Z"
   },
   {
    "duration": 182,
    "start_time": "2023-02-28T19:53:36.563Z"
   },
   {
    "duration": 18,
    "start_time": "2023-02-28T19:53:36.747Z"
   },
   {
    "duration": 86,
    "start_time": "2023-02-28T19:53:36.767Z"
   },
   {
    "duration": 7,
    "start_time": "2023-02-28T19:53:36.855Z"
   },
   {
    "duration": 263,
    "start_time": "2023-02-28T19:53:36.864Z"
   },
   {
    "duration": 180,
    "start_time": "2023-02-28T19:53:37.129Z"
   },
   {
    "duration": 144,
    "start_time": "2023-02-28T19:53:37.311Z"
   },
   {
    "duration": 57,
    "start_time": "2023-02-28T19:53:37.457Z"
   },
   {
    "duration": 455,
    "start_time": "2023-02-28T19:53:37.516Z"
   },
   {
    "duration": 581,
    "start_time": "2023-02-28T19:53:37.973Z"
   },
   {
    "duration": 12,
    "start_time": "2023-02-28T19:53:38.555Z"
   },
   {
    "duration": 39,
    "start_time": "2023-02-28T19:53:38.568Z"
   },
   {
    "duration": 26,
    "start_time": "2023-02-28T19:53:38.608Z"
   },
   {
    "duration": 74,
    "start_time": "2023-02-28T19:53:38.636Z"
   },
   {
    "duration": 1401,
    "start_time": "2023-02-28T19:53:38.711Z"
   },
   {
    "duration": 12,
    "start_time": "2023-02-28T19:53:40.114Z"
   },
   {
    "duration": 8,
    "start_time": "2023-02-28T19:53:40.131Z"
   },
   {
    "duration": 119,
    "start_time": "2023-02-28T19:53:40.142Z"
   },
   {
    "duration": 0,
    "start_time": "2023-02-28T19:53:40.263Z"
   },
   {
    "duration": 0,
    "start_time": "2023-02-28T19:53:40.264Z"
   },
   {
    "duration": 0,
    "start_time": "2023-02-28T19:53:40.266Z"
   },
   {
    "duration": 0,
    "start_time": "2023-02-28T19:53:40.267Z"
   },
   {
    "duration": 0,
    "start_time": "2023-02-28T19:53:40.268Z"
   },
   {
    "duration": 0,
    "start_time": "2023-02-28T19:53:40.269Z"
   },
   {
    "duration": 0,
    "start_time": "2023-02-28T19:53:40.270Z"
   },
   {
    "duration": 0,
    "start_time": "2023-02-28T19:53:40.272Z"
   },
   {
    "duration": 268,
    "start_time": "2023-02-28T19:54:18.196Z"
   },
   {
    "duration": 69,
    "start_time": "2023-02-28T19:58:43.566Z"
   },
   {
    "duration": 70,
    "start_time": "2023-02-28T19:58:48.166Z"
   },
   {
    "duration": 205,
    "start_time": "2023-02-28T19:59:34.828Z"
   },
   {
    "duration": 13,
    "start_time": "2023-02-28T20:01:02.667Z"
   },
   {
    "duration": 61,
    "start_time": "2023-02-28T20:02:27.947Z"
   },
   {
    "duration": 58,
    "start_time": "2023-02-28T20:02:56.934Z"
   },
   {
    "duration": 76,
    "start_time": "2023-02-28T20:03:09.566Z"
   },
   {
    "duration": 124,
    "start_time": "2023-02-28T20:03:23.854Z"
   },
   {
    "duration": 118,
    "start_time": "2023-02-28T20:04:50.619Z"
   },
   {
    "duration": 86,
    "start_time": "2023-02-28T20:05:16.366Z"
   },
   {
    "duration": 4,
    "start_time": "2023-02-28T20:13:37.205Z"
   },
   {
    "duration": 7,
    "start_time": "2023-02-28T20:13:48.917Z"
   },
   {
    "duration": 15,
    "start_time": "2023-02-28T20:13:52.325Z"
   },
   {
    "duration": 20,
    "start_time": "2023-02-28T20:13:54.455Z"
   },
   {
    "duration": 5,
    "start_time": "2023-02-28T20:14:06.686Z"
   },
   {
    "duration": 3,
    "start_time": "2023-02-28T20:15:31.465Z"
   },
   {
    "duration": 13,
    "start_time": "2023-02-28T20:17:41.499Z"
   },
   {
    "duration": 212,
    "start_time": "2023-02-28T20:19:00.027Z"
   },
   {
    "duration": 247,
    "start_time": "2023-02-28T20:19:15.465Z"
   },
   {
    "duration": 254,
    "start_time": "2023-02-28T20:19:22.593Z"
   },
   {
    "duration": 14,
    "start_time": "2023-02-28T20:20:09.765Z"
   },
   {
    "duration": 29,
    "start_time": "2023-02-28T20:20:13.796Z"
   },
   {
    "duration": 30,
    "start_time": "2023-02-28T20:21:11.455Z"
   },
   {
    "duration": 27,
    "start_time": "2023-02-28T20:21:29.507Z"
   },
   {
    "duration": 219,
    "start_time": "2023-02-28T20:22:38.616Z"
   },
   {
    "duration": 229,
    "start_time": "2023-02-28T20:22:53.416Z"
   },
   {
    "duration": 248,
    "start_time": "2023-02-28T20:23:15.384Z"
   },
   {
    "duration": 219,
    "start_time": "2023-02-28T20:23:29.357Z"
   },
   {
    "duration": 1239,
    "start_time": "2023-02-28T20:23:36.065Z"
   },
   {
    "duration": 241,
    "start_time": "2023-02-28T20:23:37.306Z"
   },
   {
    "duration": 22,
    "start_time": "2023-02-28T20:23:37.549Z"
   },
   {
    "duration": 45,
    "start_time": "2023-02-28T20:23:37.573Z"
   },
   {
    "duration": 33,
    "start_time": "2023-02-28T20:23:37.621Z"
   },
   {
    "duration": 99,
    "start_time": "2023-02-28T20:23:37.656Z"
   },
   {
    "duration": 55,
    "start_time": "2023-02-28T20:23:37.757Z"
   },
   {
    "duration": 13,
    "start_time": "2023-02-28T20:23:37.813Z"
   },
   {
    "duration": 10,
    "start_time": "2023-02-28T20:23:37.828Z"
   },
   {
    "duration": 22,
    "start_time": "2023-02-28T20:23:37.840Z"
   },
   {
    "duration": 25,
    "start_time": "2023-02-28T20:23:37.865Z"
   },
   {
    "duration": 11,
    "start_time": "2023-02-28T20:23:37.892Z"
   },
   {
    "duration": 11,
    "start_time": "2023-02-28T20:23:37.905Z"
   },
   {
    "duration": 11,
    "start_time": "2023-02-28T20:23:37.920Z"
   },
   {
    "duration": 54,
    "start_time": "2023-02-28T20:23:37.932Z"
   },
   {
    "duration": 24,
    "start_time": "2023-02-28T20:23:37.987Z"
   },
   {
    "duration": 75,
    "start_time": "2023-02-28T20:23:38.012Z"
   },
   {
    "duration": 69,
    "start_time": "2023-02-28T20:23:38.089Z"
   },
   {
    "duration": 34,
    "start_time": "2023-02-28T20:23:38.160Z"
   },
   {
    "duration": 40,
    "start_time": "2023-02-28T20:23:38.196Z"
   },
   {
    "duration": 67,
    "start_time": "2023-02-28T20:23:38.237Z"
   },
   {
    "duration": 34,
    "start_time": "2023-02-28T20:23:38.306Z"
   },
   {
    "duration": 74,
    "start_time": "2023-02-28T20:23:38.342Z"
   },
   {
    "duration": 87,
    "start_time": "2023-02-28T20:23:38.418Z"
   },
   {
    "duration": 135,
    "start_time": "2023-02-28T20:23:38.506Z"
   },
   {
    "duration": 18,
    "start_time": "2023-02-28T20:23:38.643Z"
   },
   {
    "duration": 89,
    "start_time": "2023-02-28T20:23:38.662Z"
   },
   {
    "duration": 7,
    "start_time": "2023-02-28T20:23:38.752Z"
   },
   {
    "duration": 194,
    "start_time": "2023-02-28T20:23:38.761Z"
   },
   {
    "duration": 141,
    "start_time": "2023-02-28T20:23:38.957Z"
   },
   {
    "duration": 152,
    "start_time": "2023-02-28T20:23:39.101Z"
   },
   {
    "duration": 51,
    "start_time": "2023-02-28T20:23:39.255Z"
   },
   {
    "duration": 425,
    "start_time": "2023-02-28T20:23:39.307Z"
   },
   {
    "duration": 575,
    "start_time": "2023-02-28T20:23:39.734Z"
   },
   {
    "duration": 12,
    "start_time": "2023-02-28T20:23:40.310Z"
   },
   {
    "duration": 61,
    "start_time": "2023-02-28T20:23:40.324Z"
   },
   {
    "duration": 29,
    "start_time": "2023-02-28T20:23:40.387Z"
   },
   {
    "duration": 73,
    "start_time": "2023-02-28T20:23:40.418Z"
   },
   {
    "duration": 1351,
    "start_time": "2023-02-28T20:23:40.493Z"
   },
   {
    "duration": 222,
    "start_time": "2023-02-28T20:23:41.846Z"
   },
   {
    "duration": 300,
    "start_time": "2023-02-28T20:23:42.072Z"
   },
   {
    "duration": 263,
    "start_time": "2023-02-28T20:23:42.373Z"
   },
   {
    "duration": 4,
    "start_time": "2023-02-28T20:23:42.637Z"
   },
   {
    "duration": 130,
    "start_time": "2023-02-28T20:23:42.642Z"
   },
   {
    "duration": 0,
    "start_time": "2023-02-28T20:23:42.773Z"
   },
   {
    "duration": 0,
    "start_time": "2023-02-28T20:23:42.775Z"
   },
   {
    "duration": 0,
    "start_time": "2023-02-28T20:23:42.786Z"
   },
   {
    "duration": 0,
    "start_time": "2023-02-28T20:23:42.787Z"
   },
   {
    "duration": 230,
    "start_time": "2023-02-28T20:23:55.965Z"
   },
   {
    "duration": 213,
    "start_time": "2023-02-28T20:24:20.627Z"
   },
   {
    "duration": 250,
    "start_time": "2023-02-28T20:24:25.195Z"
   },
   {
    "duration": 1244,
    "start_time": "2023-02-28T20:24:35.707Z"
   },
   {
    "duration": 258,
    "start_time": "2023-02-28T20:24:36.954Z"
   },
   {
    "duration": 20,
    "start_time": "2023-02-28T20:24:37.214Z"
   },
   {
    "duration": 53,
    "start_time": "2023-02-28T20:24:37.236Z"
   },
   {
    "duration": 31,
    "start_time": "2023-02-28T20:24:37.291Z"
   },
   {
    "duration": 102,
    "start_time": "2023-02-28T20:24:37.323Z"
   },
   {
    "duration": 39,
    "start_time": "2023-02-28T20:24:37.426Z"
   },
   {
    "duration": 29,
    "start_time": "2023-02-28T20:24:37.467Z"
   },
   {
    "duration": 9,
    "start_time": "2023-02-28T20:24:37.498Z"
   },
   {
    "duration": 18,
    "start_time": "2023-02-28T20:24:37.510Z"
   },
   {
    "duration": 11,
    "start_time": "2023-02-28T20:24:37.530Z"
   },
   {
    "duration": 43,
    "start_time": "2023-02-28T20:24:37.543Z"
   },
   {
    "duration": 12,
    "start_time": "2023-02-28T20:24:37.587Z"
   },
   {
    "duration": 11,
    "start_time": "2023-02-28T20:24:37.600Z"
   },
   {
    "duration": 28,
    "start_time": "2023-02-28T20:24:37.612Z"
   },
   {
    "duration": 21,
    "start_time": "2023-02-28T20:24:37.641Z"
   },
   {
    "duration": 82,
    "start_time": "2023-02-28T20:24:37.664Z"
   },
   {
    "duration": 80,
    "start_time": "2023-02-28T20:24:37.748Z"
   },
   {
    "duration": 17,
    "start_time": "2023-02-28T20:24:37.830Z"
   },
   {
    "duration": 61,
    "start_time": "2023-02-28T20:24:37.848Z"
   },
   {
    "duration": 42,
    "start_time": "2023-02-28T20:24:37.910Z"
   },
   {
    "duration": 47,
    "start_time": "2023-02-28T20:24:37.953Z"
   },
   {
    "duration": 54,
    "start_time": "2023-02-28T20:24:38.002Z"
   },
   {
    "duration": 95,
    "start_time": "2023-02-28T20:24:38.058Z"
   },
   {
    "duration": 146,
    "start_time": "2023-02-28T20:24:38.154Z"
   },
   {
    "duration": 19,
    "start_time": "2023-02-28T20:24:38.302Z"
   },
   {
    "duration": 86,
    "start_time": "2023-02-28T20:24:38.323Z"
   },
   {
    "duration": 7,
    "start_time": "2023-02-28T20:24:38.413Z"
   },
   {
    "duration": 196,
    "start_time": "2023-02-28T20:24:38.422Z"
   },
   {
    "duration": 157,
    "start_time": "2023-02-28T20:24:38.620Z"
   },
   {
    "duration": 138,
    "start_time": "2023-02-28T20:24:38.778Z"
   },
   {
    "duration": 47,
    "start_time": "2023-02-28T20:24:38.917Z"
   },
   {
    "duration": 438,
    "start_time": "2023-02-28T20:24:38.965Z"
   },
   {
    "duration": 553,
    "start_time": "2023-02-28T20:24:39.405Z"
   },
   {
    "duration": 12,
    "start_time": "2023-02-28T20:24:39.960Z"
   },
   {
    "duration": 51,
    "start_time": "2023-02-28T20:24:39.973Z"
   },
   {
    "duration": 23,
    "start_time": "2023-02-28T20:24:40.026Z"
   },
   {
    "duration": 76,
    "start_time": "2023-02-28T20:24:40.050Z"
   },
   {
    "duration": 1341,
    "start_time": "2023-02-28T20:24:40.127Z"
   },
   {
    "duration": 212,
    "start_time": "2023-02-28T20:24:41.469Z"
   },
   {
    "duration": 267,
    "start_time": "2023-02-28T20:24:41.682Z"
   },
   {
    "duration": 281,
    "start_time": "2023-02-28T20:24:41.951Z"
   },
   {
    "duration": 4,
    "start_time": "2023-02-28T20:24:42.233Z"
   },
   {
    "duration": 131,
    "start_time": "2023-02-28T20:24:42.238Z"
   },
   {
    "duration": 0,
    "start_time": "2023-02-28T20:24:42.370Z"
   },
   {
    "duration": 0,
    "start_time": "2023-02-28T20:24:42.372Z"
   },
   {
    "duration": 0,
    "start_time": "2023-02-28T20:24:42.374Z"
   },
   {
    "duration": 0,
    "start_time": "2023-02-28T20:24:42.375Z"
   },
   {
    "duration": 49,
    "start_time": "2023-02-28T20:27:42.708Z"
   },
   {
    "duration": 240,
    "start_time": "2023-02-28T20:29:03.427Z"
   },
   {
    "duration": 6,
    "start_time": "2023-02-28T20:29:51.696Z"
   },
   {
    "duration": 253,
    "start_time": "2023-02-28T20:30:23.725Z"
   },
   {
    "duration": 1225,
    "start_time": "2023-02-28T20:30:41.069Z"
   },
   {
    "duration": 237,
    "start_time": "2023-02-28T20:30:42.296Z"
   },
   {
    "duration": 20,
    "start_time": "2023-02-28T20:30:42.535Z"
   },
   {
    "duration": 46,
    "start_time": "2023-02-28T20:30:42.557Z"
   },
   {
    "duration": 31,
    "start_time": "2023-02-28T20:30:42.605Z"
   },
   {
    "duration": 106,
    "start_time": "2023-02-28T20:30:42.638Z"
   },
   {
    "duration": 50,
    "start_time": "2023-02-28T20:30:42.746Z"
   },
   {
    "duration": 13,
    "start_time": "2023-02-28T20:30:42.797Z"
   },
   {
    "duration": 9,
    "start_time": "2023-02-28T20:30:42.812Z"
   },
   {
    "duration": 20,
    "start_time": "2023-02-28T20:30:42.823Z"
   },
   {
    "duration": 11,
    "start_time": "2023-02-28T20:30:42.845Z"
   },
   {
    "duration": 11,
    "start_time": "2023-02-28T20:30:42.886Z"
   },
   {
    "duration": 10,
    "start_time": "2023-02-28T20:30:42.898Z"
   },
   {
    "duration": 9,
    "start_time": "2023-02-28T20:30:42.911Z"
   },
   {
    "duration": 26,
    "start_time": "2023-02-28T20:30:42.922Z"
   },
   {
    "duration": 42,
    "start_time": "2023-02-28T20:30:42.949Z"
   },
   {
    "duration": 62,
    "start_time": "2023-02-28T20:30:42.992Z"
   },
   {
    "duration": 89,
    "start_time": "2023-02-28T20:30:43.055Z"
   },
   {
    "duration": 17,
    "start_time": "2023-02-28T20:30:43.146Z"
   },
   {
    "duration": 52,
    "start_time": "2023-02-28T20:30:43.164Z"
   },
   {
    "duration": 42,
    "start_time": "2023-02-28T20:30:43.217Z"
   },
   {
    "duration": 51,
    "start_time": "2023-02-28T20:30:43.261Z"
   },
   {
    "duration": 55,
    "start_time": "2023-02-28T20:30:43.314Z"
   },
   {
    "duration": 95,
    "start_time": "2023-02-28T20:30:43.370Z"
   },
   {
    "duration": 145,
    "start_time": "2023-02-28T20:30:43.467Z"
   },
   {
    "duration": 19,
    "start_time": "2023-02-28T20:30:43.614Z"
   },
   {
    "duration": 95,
    "start_time": "2023-02-28T20:30:43.635Z"
   },
   {
    "duration": 9,
    "start_time": "2023-02-28T20:30:43.731Z"
   },
   {
    "duration": 206,
    "start_time": "2023-02-28T20:30:43.742Z"
   },
   {
    "duration": 172,
    "start_time": "2023-02-28T20:30:43.950Z"
   },
   {
    "duration": 199,
    "start_time": "2023-02-28T20:30:44.124Z"
   },
   {
    "duration": 47,
    "start_time": "2023-02-28T20:30:44.324Z"
   },
   {
    "duration": 430,
    "start_time": "2023-02-28T20:30:44.373Z"
   },
   {
    "duration": 561,
    "start_time": "2023-02-28T20:30:44.805Z"
   },
   {
    "duration": 24,
    "start_time": "2023-02-28T20:30:45.368Z"
   },
   {
    "duration": 48,
    "start_time": "2023-02-28T20:30:45.394Z"
   },
   {
    "duration": 25,
    "start_time": "2023-02-28T20:30:45.443Z"
   },
   {
    "duration": 68,
    "start_time": "2023-02-28T20:30:45.486Z"
   },
   {
    "duration": 1452,
    "start_time": "2023-02-28T20:30:45.556Z"
   },
   {
    "duration": 220,
    "start_time": "2023-02-28T20:30:47.009Z"
   },
   {
    "duration": 288,
    "start_time": "2023-02-28T20:30:47.233Z"
   },
   {
    "duration": 230,
    "start_time": "2023-02-28T20:30:47.523Z"
   },
   {
    "duration": 4,
    "start_time": "2023-02-28T20:30:47.786Z"
   },
   {
    "duration": 8,
    "start_time": "2023-02-28T20:30:47.791Z"
   },
   {
    "duration": 1110,
    "start_time": "2023-02-28T20:30:47.801Z"
   },
   {
    "duration": 587,
    "start_time": "2023-02-28T20:30:48.912Z"
   },
   {
    "duration": 3,
    "start_time": "2023-02-28T20:30:49.501Z"
   },
   {
    "duration": 15,
    "start_time": "2023-02-28T20:30:49.505Z"
   },
   {
    "duration": 6,
    "start_time": "2023-02-28T20:31:34.798Z"
   },
   {
    "duration": 238,
    "start_time": "2023-02-28T20:34:12.207Z"
   },
   {
    "duration": 244,
    "start_time": "2023-02-28T20:37:43.990Z"
   },
   {
    "duration": 1168,
    "start_time": "2023-02-28T20:45:11.407Z"
   },
   {
    "duration": 319,
    "start_time": "2023-02-28T20:46:42.686Z"
   },
   {
    "duration": 40,
    "start_time": "2023-02-28T20:48:55.940Z"
   },
   {
    "duration": 419,
    "start_time": "2023-02-28T20:49:04.199Z"
   },
   {
    "duration": 321,
    "start_time": "2023-02-28T20:49:16.688Z"
   },
   {
    "duration": 936,
    "start_time": "2023-02-28T20:50:37.789Z"
   },
   {
    "duration": 920,
    "start_time": "2023-02-28T20:51:31.257Z"
   },
   {
    "duration": 893,
    "start_time": "2023-02-28T20:51:44.327Z"
   },
   {
    "duration": 928,
    "start_time": "2023-02-28T20:52:01.739Z"
   },
   {
    "duration": 911,
    "start_time": "2023-02-28T20:52:25.196Z"
   },
   {
    "duration": 41,
    "start_time": "2023-02-28T20:52:29.019Z"
   },
   {
    "duration": 3,
    "start_time": "2023-02-28T20:52:32.148Z"
   },
   {
    "duration": 10,
    "start_time": "2023-02-28T20:52:34.680Z"
   },
   {
    "duration": 1026,
    "start_time": "2023-02-28T21:08:03.969Z"
   },
   {
    "duration": 1197,
    "start_time": "2023-02-28T21:08:23.331Z"
   },
   {
    "duration": 250,
    "start_time": "2023-02-28T21:08:24.530Z"
   },
   {
    "duration": 21,
    "start_time": "2023-02-28T21:08:24.781Z"
   },
   {
    "duration": 50,
    "start_time": "2023-02-28T21:08:24.804Z"
   },
   {
    "duration": 56,
    "start_time": "2023-02-28T21:08:24.856Z"
   },
   {
    "duration": 100,
    "start_time": "2023-02-28T21:08:24.914Z"
   },
   {
    "duration": 40,
    "start_time": "2023-02-28T21:08:25.015Z"
   },
   {
    "duration": 33,
    "start_time": "2023-02-28T21:08:25.057Z"
   },
   {
    "duration": 12,
    "start_time": "2023-02-28T21:08:25.092Z"
   },
   {
    "duration": 20,
    "start_time": "2023-02-28T21:08:25.105Z"
   },
   {
    "duration": 11,
    "start_time": "2023-02-28T21:08:25.127Z"
   },
   {
    "duration": 10,
    "start_time": "2023-02-28T21:08:25.140Z"
   },
   {
    "duration": 39,
    "start_time": "2023-02-28T21:08:25.152Z"
   },
   {
    "duration": 14,
    "start_time": "2023-02-28T21:08:25.194Z"
   },
   {
    "duration": 25,
    "start_time": "2023-02-28T21:08:25.209Z"
   },
   {
    "duration": 22,
    "start_time": "2023-02-28T21:08:25.236Z"
   },
   {
    "duration": 86,
    "start_time": "2023-02-28T21:08:25.259Z"
   },
   {
    "duration": 79,
    "start_time": "2023-02-28T21:08:25.347Z"
   },
   {
    "duration": 17,
    "start_time": "2023-02-28T21:08:25.428Z"
   },
   {
    "duration": 61,
    "start_time": "2023-02-28T21:08:25.446Z"
   },
   {
    "duration": 40,
    "start_time": "2023-02-28T21:08:25.509Z"
   },
   {
    "duration": 55,
    "start_time": "2023-02-28T21:08:25.551Z"
   },
   {
    "duration": 53,
    "start_time": "2023-02-28T21:08:25.608Z"
   },
   {
    "duration": 95,
    "start_time": "2023-02-28T21:08:25.663Z"
   },
   {
    "duration": 138,
    "start_time": "2023-02-28T21:08:25.760Z"
   },
   {
    "duration": 18,
    "start_time": "2023-02-28T21:08:25.900Z"
   },
   {
    "duration": 87,
    "start_time": "2023-02-28T21:08:25.920Z"
   },
   {
    "duration": 7,
    "start_time": "2023-02-28T21:08:26.009Z"
   },
   {
    "duration": 199,
    "start_time": "2023-02-28T21:08:26.017Z"
   },
   {
    "duration": 158,
    "start_time": "2023-02-28T21:08:26.217Z"
   },
   {
    "duration": 140,
    "start_time": "2023-02-28T21:08:26.376Z"
   },
   {
    "duration": 46,
    "start_time": "2023-02-28T21:08:26.517Z"
   },
   {
    "duration": 508,
    "start_time": "2023-02-28T21:08:26.565Z"
   },
   {
    "duration": 564,
    "start_time": "2023-02-28T21:08:27.074Z"
   },
   {
    "duration": 12,
    "start_time": "2023-02-28T21:08:27.640Z"
   },
   {
    "duration": 56,
    "start_time": "2023-02-28T21:08:27.654Z"
   },
   {
    "duration": 25,
    "start_time": "2023-02-28T21:08:27.712Z"
   },
   {
    "duration": 80,
    "start_time": "2023-02-28T21:08:27.739Z"
   },
   {
    "duration": 1363,
    "start_time": "2023-02-28T21:08:27.821Z"
   },
   {
    "duration": 318,
    "start_time": "2023-02-28T21:08:29.186Z"
   },
   {
    "duration": 281,
    "start_time": "2023-02-28T21:08:29.509Z"
   },
   {
    "duration": 263,
    "start_time": "2023-02-28T21:08:29.792Z"
   },
   {
    "duration": 3,
    "start_time": "2023-02-28T21:08:30.056Z"
   },
   {
    "duration": 10,
    "start_time": "2023-02-28T21:08:30.061Z"
   },
   {
    "duration": 996,
    "start_time": "2023-02-28T21:08:30.086Z"
   },
   {
    "duration": 46,
    "start_time": "2023-02-28T21:08:31.084Z"
   },
   {
    "duration": 4,
    "start_time": "2023-02-28T21:08:31.132Z"
   },
   {
    "duration": 28,
    "start_time": "2023-02-28T21:08:31.138Z"
   },
   {
    "duration": 3,
    "start_time": "2023-02-28T21:10:58.123Z"
   },
   {
    "duration": 14,
    "start_time": "2023-02-28T21:11:40.630Z"
   },
   {
    "duration": 38,
    "start_time": "2023-02-28T21:12:43.633Z"
   },
   {
    "duration": 116,
    "start_time": "2023-02-28T21:13:29.792Z"
   },
   {
    "duration": 3,
    "start_time": "2023-02-28T21:14:51.380Z"
   },
   {
    "duration": 32,
    "start_time": "2023-02-28T21:14:54.863Z"
   },
   {
    "duration": 299,
    "start_time": "2023-02-28T21:14:57.622Z"
   },
   {
    "duration": 3,
    "start_time": "2023-02-28T21:16:10.552Z"
   },
   {
    "duration": 14,
    "start_time": "2023-02-28T21:16:13.730Z"
   },
   {
    "duration": 3,
    "start_time": "2023-02-28T21:16:27.024Z"
   },
   {
    "duration": 221,
    "start_time": "2023-02-28T21:16:31.411Z"
   },
   {
    "duration": 3,
    "start_time": "2023-02-28T21:17:43.489Z"
   },
   {
    "duration": 4,
    "start_time": "2023-02-28T21:17:50.652Z"
   },
   {
    "duration": 164,
    "start_time": "2023-02-28T21:18:01.752Z"
   },
   {
    "duration": 3,
    "start_time": "2023-02-28T21:19:25.843Z"
   },
   {
    "duration": 167,
    "start_time": "2023-02-28T21:19:31.479Z"
   },
   {
    "duration": 33,
    "start_time": "2023-02-28T21:19:39.933Z"
   },
   {
    "duration": 224,
    "start_time": "2023-02-28T21:19:42.524Z"
   },
   {
    "duration": 156,
    "start_time": "2023-02-28T21:19:57.763Z"
   },
   {
    "duration": 148,
    "start_time": "2023-02-28T21:20:28.082Z"
   },
   {
    "duration": 3,
    "start_time": "2023-02-28T21:21:29.573Z"
   },
   {
    "duration": 37,
    "start_time": "2023-02-28T21:21:33.663Z"
   },
   {
    "duration": 167,
    "start_time": "2023-02-28T21:21:36.003Z"
   },
   {
    "duration": 12,
    "start_time": "2023-02-28T21:21:49.639Z"
   },
   {
    "duration": 3,
    "start_time": "2023-02-28T21:22:19.303Z"
   },
   {
    "duration": 33,
    "start_time": "2023-02-28T21:22:23.125Z"
   },
   {
    "duration": 13,
    "start_time": "2023-02-28T21:22:25.163Z"
   },
   {
    "duration": 15,
    "start_time": "2023-02-28T21:22:34.104Z"
   },
   {
    "duration": 4,
    "start_time": "2023-02-28T21:23:10.673Z"
   },
   {
    "duration": 15,
    "start_time": "2023-02-28T21:23:14.232Z"
   },
   {
    "duration": 3,
    "start_time": "2023-02-28T21:23:26.525Z"
   },
   {
    "duration": 18,
    "start_time": "2023-02-28T21:23:29.723Z"
   },
   {
    "duration": 5,
    "start_time": "2023-02-28T21:24:59.253Z"
   },
   {
    "duration": 4,
    "start_time": "2023-02-28T21:25:34.094Z"
   },
   {
    "duration": 11,
    "start_time": "2023-02-28T21:25:37.153Z"
   },
   {
    "duration": 4,
    "start_time": "2023-02-28T21:25:45.743Z"
   },
   {
    "duration": 407,
    "start_time": "2023-02-28T21:25:48.545Z"
   },
   {
    "duration": 4,
    "start_time": "2023-02-28T21:27:38.283Z"
   },
   {
    "duration": 831,
    "start_time": "2023-02-28T21:27:41.493Z"
   },
   {
    "duration": 43,
    "start_time": "2023-02-28T21:27:54.361Z"
   },
   {
    "duration": 905,
    "start_time": "2023-02-28T21:27:57.302Z"
   },
   {
    "duration": 3,
    "start_time": "2023-02-28T21:28:13.964Z"
   },
   {
    "duration": 691,
    "start_time": "2023-02-28T21:28:16.631Z"
   },
   {
    "duration": 3,
    "start_time": "2023-02-28T21:30:05.833Z"
   },
   {
    "duration": 34,
    "start_time": "2023-02-28T21:30:07.653Z"
   },
   {
    "duration": 41,
    "start_time": "2023-02-28T21:30:10.193Z"
   },
   {
    "duration": 42,
    "start_time": "2023-02-28T21:34:45.516Z"
   },
   {
    "duration": 25,
    "start_time": "2023-02-28T21:35:19.483Z"
   },
   {
    "duration": 982,
    "start_time": "2023-02-28T21:35:36.926Z"
   },
   {
    "duration": 53,
    "start_time": "2023-02-28T21:36:47.931Z"
   },
   {
    "duration": 77,
    "start_time": "2023-02-28T21:37:51.531Z"
   },
   {
    "duration": 84,
    "start_time": "2023-02-28T21:38:21.053Z"
   },
   {
    "duration": 63,
    "start_time": "2023-02-28T21:38:30.323Z"
   },
   {
    "duration": 23,
    "start_time": "2023-02-28T21:38:33.263Z"
   },
   {
    "duration": 3,
    "start_time": "2023-02-28T21:38:35.445Z"
   },
   {
    "duration": 8,
    "start_time": "2023-02-28T21:38:37.729Z"
   },
   {
    "duration": 18,
    "start_time": "2023-02-28T21:39:50.402Z"
   },
   {
    "duration": 18,
    "start_time": "2023-02-28T21:40:00.189Z"
   },
   {
    "duration": 35,
    "start_time": "2023-02-28T21:40:06.941Z"
   },
   {
    "duration": 12,
    "start_time": "2023-02-28T21:40:33.171Z"
   },
   {
    "duration": 14,
    "start_time": "2023-02-28T21:41:25.663Z"
   },
   {
    "duration": 54,
    "start_time": "2023-02-28T21:43:48.550Z"
   },
   {
    "duration": 4,
    "start_time": "2023-02-28T21:46:36.223Z"
   },
   {
    "duration": 806,
    "start_time": "2023-02-28T21:46:49.623Z"
   },
   {
    "duration": 35,
    "start_time": "2023-02-28T21:47:22.321Z"
   },
   {
    "duration": 102,
    "start_time": "2023-02-28T21:47:25.083Z"
   },
   {
    "duration": 88,
    "start_time": "2023-02-28T21:47:47.712Z"
   },
   {
    "duration": 422,
    "start_time": "2023-02-28T21:48:23.342Z"
   },
   {
    "duration": 1243,
    "start_time": "2023-02-28T21:50:48.171Z"
   },
   {
    "duration": 241,
    "start_time": "2023-02-28T21:50:49.416Z"
   },
   {
    "duration": 21,
    "start_time": "2023-02-28T21:50:49.659Z"
   },
   {
    "duration": 45,
    "start_time": "2023-02-28T21:50:49.682Z"
   },
   {
    "duration": 32,
    "start_time": "2023-02-28T21:50:49.729Z"
   },
   {
    "duration": 83,
    "start_time": "2023-02-28T21:50:49.786Z"
   },
   {
    "duration": 51,
    "start_time": "2023-02-28T21:50:49.870Z"
   },
   {
    "duration": 13,
    "start_time": "2023-02-28T21:50:49.922Z"
   },
   {
    "duration": 9,
    "start_time": "2023-02-28T21:50:49.937Z"
   },
   {
    "duration": 43,
    "start_time": "2023-02-28T21:50:49.947Z"
   },
   {
    "duration": 10,
    "start_time": "2023-02-28T21:50:49.992Z"
   },
   {
    "duration": 14,
    "start_time": "2023-02-28T21:50:50.003Z"
   },
   {
    "duration": 15,
    "start_time": "2023-02-28T21:50:50.019Z"
   },
   {
    "duration": 10,
    "start_time": "2023-02-28T21:50:50.037Z"
   },
   {
    "duration": 41,
    "start_time": "2023-02-28T21:50:50.048Z"
   },
   {
    "duration": 22,
    "start_time": "2023-02-28T21:50:50.091Z"
   },
   {
    "duration": 77,
    "start_time": "2023-02-28T21:50:50.114Z"
   },
   {
    "duration": 72,
    "start_time": "2023-02-28T21:50:50.192Z"
   },
   {
    "duration": 29,
    "start_time": "2023-02-28T21:50:50.266Z"
   },
   {
    "duration": 40,
    "start_time": "2023-02-28T21:50:50.297Z"
   },
   {
    "duration": 61,
    "start_time": "2023-02-28T21:50:50.338Z"
   },
   {
    "duration": 35,
    "start_time": "2023-02-28T21:50:50.400Z"
   },
   {
    "duration": 73,
    "start_time": "2023-02-28T21:50:50.437Z"
   },
   {
    "duration": 89,
    "start_time": "2023-02-28T21:50:50.513Z"
   },
   {
    "duration": 131,
    "start_time": "2023-02-28T21:50:50.603Z"
   },
   {
    "duration": 18,
    "start_time": "2023-02-28T21:50:50.737Z"
   },
   {
    "duration": 88,
    "start_time": "2023-02-28T21:50:50.757Z"
   },
   {
    "duration": 8,
    "start_time": "2023-02-28T21:50:50.847Z"
   },
   {
    "duration": 217,
    "start_time": "2023-02-28T21:50:50.857Z"
   },
   {
    "duration": 146,
    "start_time": "2023-02-28T21:50:51.076Z"
   },
   {
    "duration": 147,
    "start_time": "2023-02-28T21:50:51.223Z"
   },
   {
    "duration": 66,
    "start_time": "2023-02-28T21:50:51.371Z"
   },
   {
    "duration": 435,
    "start_time": "2023-02-28T21:50:51.439Z"
   },
   {
    "duration": 3,
    "start_time": "2023-02-28T21:50:51.876Z"
   },
   {
    "duration": 58,
    "start_time": "2023-02-28T21:50:51.886Z"
   },
   {
    "duration": 51,
    "start_time": "2023-02-28T21:50:51.945Z"
   },
   {
    "duration": 14,
    "start_time": "2023-02-28T21:50:51.998Z"
   },
   {
    "duration": 9,
    "start_time": "2023-02-28T21:50:52.013Z"
   },
   {
    "duration": 44,
    "start_time": "2023-02-28T21:50:52.024Z"
   },
   {
    "duration": 348,
    "start_time": "2023-02-28T21:50:52.070Z"
   },
   {
    "duration": 561,
    "start_time": "2023-02-28T21:50:52.422Z"
   },
   {
    "duration": 13,
    "start_time": "2023-02-28T21:50:52.986Z"
   },
   {
    "duration": 46,
    "start_time": "2023-02-28T21:50:53.000Z"
   },
   {
    "duration": 42,
    "start_time": "2023-02-28T21:50:53.047Z"
   },
   {
    "duration": 64,
    "start_time": "2023-02-28T21:50:53.091Z"
   },
   {
    "duration": 1459,
    "start_time": "2023-02-28T21:50:53.157Z"
   },
   {
    "duration": 221,
    "start_time": "2023-02-28T21:50:54.618Z"
   },
   {
    "duration": 318,
    "start_time": "2023-02-28T21:50:54.841Z"
   },
   {
    "duration": 283,
    "start_time": "2023-02-28T21:50:55.160Z"
   },
   {
    "duration": 4,
    "start_time": "2023-02-28T21:50:55.444Z"
   },
   {
    "duration": 10,
    "start_time": "2023-02-28T21:50:55.449Z"
   },
   {
    "duration": 133,
    "start_time": "2023-02-28T21:50:55.460Z"
   },
   {
    "duration": 0,
    "start_time": "2023-02-28T21:50:55.595Z"
   },
   {
    "duration": 0,
    "start_time": "2023-02-28T21:50:55.596Z"
   },
   {
    "duration": 0,
    "start_time": "2023-02-28T21:50:55.597Z"
   },
   {
    "duration": 1003,
    "start_time": "2023-02-28T21:51:48.504Z"
   },
   {
    "duration": 1016,
    "start_time": "2023-02-28T21:52:00.185Z"
   },
   {
    "duration": 1112,
    "start_time": "2023-02-28T21:52:06.545Z"
   },
   {
    "duration": 1445,
    "start_time": "2023-02-28T21:52:11.997Z"
   },
   {
    "duration": 231,
    "start_time": "2023-02-28T21:52:13.444Z"
   },
   {
    "duration": 19,
    "start_time": "2023-02-28T21:52:13.676Z"
   },
   {
    "duration": 56,
    "start_time": "2023-02-28T21:52:13.697Z"
   },
   {
    "duration": 49,
    "start_time": "2023-02-28T21:52:13.755Z"
   },
   {
    "duration": 100,
    "start_time": "2023-02-28T21:52:13.805Z"
   },
   {
    "duration": 43,
    "start_time": "2023-02-28T21:52:13.907Z"
   },
   {
    "duration": 32,
    "start_time": "2023-02-28T21:52:13.951Z"
   },
   {
    "duration": 32,
    "start_time": "2023-02-28T21:52:13.986Z"
   },
   {
    "duration": 30,
    "start_time": "2023-02-28T21:52:14.019Z"
   },
   {
    "duration": 27,
    "start_time": "2023-02-28T21:52:14.051Z"
   },
   {
    "duration": 16,
    "start_time": "2023-02-28T21:52:14.080Z"
   },
   {
    "duration": 13,
    "start_time": "2023-02-28T21:52:14.098Z"
   },
   {
    "duration": 11,
    "start_time": "2023-02-28T21:52:14.116Z"
   },
   {
    "duration": 26,
    "start_time": "2023-02-28T21:52:14.128Z"
   },
   {
    "duration": 46,
    "start_time": "2023-02-28T21:52:14.156Z"
   },
   {
    "duration": 66,
    "start_time": "2023-02-28T21:52:14.203Z"
   },
   {
    "duration": 89,
    "start_time": "2023-02-28T21:52:14.271Z"
   },
   {
    "duration": 31,
    "start_time": "2023-02-28T21:52:14.361Z"
   },
   {
    "duration": 45,
    "start_time": "2023-02-28T21:52:14.393Z"
   },
   {
    "duration": 61,
    "start_time": "2023-02-28T21:52:14.440Z"
   },
   {
    "duration": 37,
    "start_time": "2023-02-28T21:52:14.502Z"
   },
   {
    "duration": 69,
    "start_time": "2023-02-28T21:52:14.541Z"
   },
   {
    "duration": 91,
    "start_time": "2023-02-28T21:52:14.612Z"
   },
   {
    "duration": 132,
    "start_time": "2023-02-28T21:52:14.705Z"
   },
   {
    "duration": 19,
    "start_time": "2023-02-28T21:52:14.839Z"
   },
   {
    "duration": 91,
    "start_time": "2023-02-28T21:52:14.859Z"
   },
   {
    "duration": 8,
    "start_time": "2023-02-28T21:52:14.951Z"
   },
   {
    "duration": 201,
    "start_time": "2023-02-28T21:52:14.961Z"
   },
   {
    "duration": 146,
    "start_time": "2023-02-28T21:52:15.163Z"
   },
   {
    "duration": 143,
    "start_time": "2023-02-28T21:52:15.310Z"
   },
   {
    "duration": 54,
    "start_time": "2023-02-28T21:52:15.455Z"
   },
   {
    "duration": 435,
    "start_time": "2023-02-28T21:52:15.512Z"
   },
   {
    "duration": 4,
    "start_time": "2023-02-28T21:52:15.949Z"
   },
   {
    "duration": 60,
    "start_time": "2023-02-28T21:52:15.955Z"
   },
   {
    "duration": 40,
    "start_time": "2023-02-28T21:52:16.016Z"
   },
   {
    "duration": 12,
    "start_time": "2023-02-28T21:52:16.057Z"
   },
   {
    "duration": 19,
    "start_time": "2023-02-28T21:52:16.070Z"
   },
   {
    "duration": 39,
    "start_time": "2023-02-28T21:52:16.091Z"
   },
   {
    "duration": 355,
    "start_time": "2023-02-28T21:52:16.131Z"
   },
   {
    "duration": 547,
    "start_time": "2023-02-28T21:52:16.489Z"
   },
   {
    "duration": 12,
    "start_time": "2023-02-28T21:52:17.038Z"
   },
   {
    "duration": 57,
    "start_time": "2023-02-28T21:52:17.052Z"
   },
   {
    "duration": 28,
    "start_time": "2023-02-28T21:52:17.110Z"
   },
   {
    "duration": 99,
    "start_time": "2023-02-28T21:52:17.139Z"
   },
   {
    "duration": 1469,
    "start_time": "2023-02-28T21:52:17.239Z"
   },
   {
    "duration": 246,
    "start_time": "2023-02-28T21:52:18.710Z"
   },
   {
    "duration": 289,
    "start_time": "2023-02-28T21:52:18.958Z"
   },
   {
    "duration": 288,
    "start_time": "2023-02-28T21:52:19.249Z"
   },
   {
    "duration": 3,
    "start_time": "2023-02-28T21:52:19.538Z"
   },
   {
    "duration": 14,
    "start_time": "2023-02-28T21:52:19.543Z"
   },
   {
    "duration": 1016,
    "start_time": "2023-02-28T21:52:19.559Z"
   },
   {
    "duration": 27,
    "start_time": "2023-02-28T21:52:20.577Z"
   },
   {
    "duration": 4,
    "start_time": "2023-02-28T21:52:20.605Z"
   },
   {
    "duration": 10,
    "start_time": "2023-02-28T21:52:20.610Z"
   },
   {
    "duration": 3,
    "start_time": "2023-02-28T21:53:17.751Z"
   },
   {
    "duration": 115,
    "start_time": "2023-02-28T21:53:21.189Z"
   },
   {
    "duration": 33,
    "start_time": "2023-02-28T21:53:24.223Z"
   },
   {
    "duration": 732,
    "start_time": "2023-02-28T21:53:26.261Z"
   },
   {
    "duration": 3,
    "start_time": "2023-02-28T21:53:49.669Z"
   },
   {
    "duration": 36,
    "start_time": "2023-02-28T21:53:51.341Z"
   },
   {
    "duration": 537,
    "start_time": "2023-02-28T21:53:53.911Z"
   },
   {
    "duration": 1234,
    "start_time": "2023-02-28T21:54:05.064Z"
   },
   {
    "duration": 246,
    "start_time": "2023-02-28T21:54:06.299Z"
   },
   {
    "duration": 26,
    "start_time": "2023-02-28T21:54:06.547Z"
   },
   {
    "duration": 77,
    "start_time": "2023-02-28T21:54:06.575Z"
   },
   {
    "duration": 56,
    "start_time": "2023-02-28T21:54:06.655Z"
   },
   {
    "duration": 127,
    "start_time": "2023-02-28T21:54:06.713Z"
   },
   {
    "duration": 49,
    "start_time": "2023-02-28T21:54:06.842Z"
   },
   {
    "duration": 12,
    "start_time": "2023-02-28T21:54:06.893Z"
   },
   {
    "duration": 9,
    "start_time": "2023-02-28T21:54:06.907Z"
   },
   {
    "duration": 17,
    "start_time": "2023-02-28T21:54:06.918Z"
   },
   {
    "duration": 9,
    "start_time": "2023-02-28T21:54:06.936Z"
   },
   {
    "duration": 39,
    "start_time": "2023-02-28T21:54:06.947Z"
   },
   {
    "duration": 10,
    "start_time": "2023-02-28T21:54:06.988Z"
   },
   {
    "duration": 11,
    "start_time": "2023-02-28T21:54:07.001Z"
   },
   {
    "duration": 23,
    "start_time": "2023-02-28T21:54:07.014Z"
   },
   {
    "duration": 49,
    "start_time": "2023-02-28T21:54:07.038Z"
   },
   {
    "duration": 62,
    "start_time": "2023-02-28T21:54:07.088Z"
   },
   {
    "duration": 90,
    "start_time": "2023-02-28T21:54:07.151Z"
   },
   {
    "duration": 17,
    "start_time": "2023-02-28T21:54:07.243Z"
   },
   {
    "duration": 55,
    "start_time": "2023-02-28T21:54:07.262Z"
   },
   {
    "duration": 42,
    "start_time": "2023-02-28T21:54:07.318Z"
   },
   {
    "duration": 46,
    "start_time": "2023-02-28T21:54:07.362Z"
   },
   {
    "duration": 56,
    "start_time": "2023-02-28T21:54:07.410Z"
   },
   {
    "duration": 97,
    "start_time": "2023-02-28T21:54:07.468Z"
   },
   {
    "duration": 164,
    "start_time": "2023-02-28T21:54:07.567Z"
   },
   {
    "duration": 20,
    "start_time": "2023-02-28T21:54:07.733Z"
   },
   {
    "duration": 95,
    "start_time": "2023-02-28T21:54:07.755Z"
   },
   {
    "duration": 8,
    "start_time": "2023-02-28T21:54:07.852Z"
   },
   {
    "duration": 231,
    "start_time": "2023-02-28T21:54:07.861Z"
   },
   {
    "duration": 169,
    "start_time": "2023-02-28T21:54:08.094Z"
   },
   {
    "duration": 169,
    "start_time": "2023-02-28T21:54:08.264Z"
   },
   {
    "duration": 51,
    "start_time": "2023-02-28T21:54:08.435Z"
   },
   {
    "duration": 449,
    "start_time": "2023-02-28T21:54:08.487Z"
   },
   {
    "duration": 3,
    "start_time": "2023-02-28T21:54:08.938Z"
   },
   {
    "duration": 57,
    "start_time": "2023-02-28T21:54:08.942Z"
   },
   {
    "duration": 525,
    "start_time": "2023-02-28T21:54:09.000Z"
   },
   {
    "duration": 12,
    "start_time": "2023-02-28T21:54:09.526Z"
   },
   {
    "duration": 12,
    "start_time": "2023-02-28T21:54:09.540Z"
   },
   {
    "duration": 44,
    "start_time": "2023-02-28T21:54:09.554Z"
   },
   {
    "duration": 358,
    "start_time": "2023-02-28T21:54:09.600Z"
   },
   {
    "duration": 690,
    "start_time": "2023-02-28T21:54:09.962Z"
   },
   {
    "duration": 12,
    "start_time": "2023-02-28T21:54:10.653Z"
   },
   {
    "duration": 60,
    "start_time": "2023-02-28T21:54:10.667Z"
   },
   {
    "duration": 26,
    "start_time": "2023-02-28T21:54:10.729Z"
   },
   {
    "duration": 71,
    "start_time": "2023-02-28T21:54:10.757Z"
   },
   {
    "duration": 1410,
    "start_time": "2023-02-28T21:54:10.830Z"
   },
   {
    "duration": 228,
    "start_time": "2023-02-28T21:54:12.242Z"
   },
   {
    "duration": 279,
    "start_time": "2023-02-28T21:54:12.471Z"
   },
   {
    "duration": 298,
    "start_time": "2023-02-28T21:54:12.752Z"
   },
   {
    "duration": 4,
    "start_time": "2023-02-28T21:54:13.051Z"
   },
   {
    "duration": 6,
    "start_time": "2023-02-28T21:54:13.056Z"
   },
   {
    "duration": 1065,
    "start_time": "2023-02-28T21:54:13.063Z"
   },
   {
    "duration": 25,
    "start_time": "2023-02-28T21:54:14.129Z"
   },
   {
    "duration": 4,
    "start_time": "2023-02-28T21:54:14.155Z"
   },
   {
    "duration": 27,
    "start_time": "2023-02-28T21:54:14.160Z"
   },
   {
    "duration": 1569,
    "start_time": "2023-03-02T11:26:42.894Z"
   },
   {
    "duration": 1176,
    "start_time": "2023-03-02T11:26:44.465Z"
   },
   {
    "duration": 25,
    "start_time": "2023-03-02T11:26:45.642Z"
   },
   {
    "duration": 74,
    "start_time": "2023-03-02T11:26:45.668Z"
   },
   {
    "duration": 39,
    "start_time": "2023-03-02T11:26:45.744Z"
   },
   {
    "duration": 123,
    "start_time": "2023-03-02T11:26:45.785Z"
   },
   {
    "duration": 51,
    "start_time": "2023-03-02T11:26:45.910Z"
   },
   {
    "duration": 16,
    "start_time": "2023-03-02T11:26:45.962Z"
   },
   {
    "duration": 14,
    "start_time": "2023-03-02T11:26:45.980Z"
   },
   {
    "duration": 48,
    "start_time": "2023-03-02T11:26:45.995Z"
   },
   {
    "duration": 13,
    "start_time": "2023-03-02T11:26:46.044Z"
   },
   {
    "duration": 24,
    "start_time": "2023-03-02T11:26:46.058Z"
   },
   {
    "duration": 15,
    "start_time": "2023-03-02T11:26:46.084Z"
   },
   {
    "duration": 25,
    "start_time": "2023-03-02T11:26:46.103Z"
   },
   {
    "duration": 31,
    "start_time": "2023-03-02T11:26:46.130Z"
   },
   {
    "duration": 27,
    "start_time": "2023-03-02T11:26:46.163Z"
   },
   {
    "duration": 110,
    "start_time": "2023-03-02T11:26:46.192Z"
   },
   {
    "duration": 100,
    "start_time": "2023-03-02T11:26:46.304Z"
   },
   {
    "duration": 24,
    "start_time": "2023-03-02T11:26:46.405Z"
   },
   {
    "duration": 46,
    "start_time": "2023-03-02T11:26:46.431Z"
   },
   {
    "duration": 73,
    "start_time": "2023-03-02T11:26:46.479Z"
   },
   {
    "duration": 44,
    "start_time": "2023-03-02T11:26:46.555Z"
   },
   {
    "duration": 73,
    "start_time": "2023-03-02T11:26:46.600Z"
   },
   {
    "duration": 104,
    "start_time": "2023-03-02T11:26:46.675Z"
   },
   {
    "duration": 148,
    "start_time": "2023-03-02T11:26:46.780Z"
   },
   {
    "duration": 22,
    "start_time": "2023-03-02T11:26:46.930Z"
   },
   {
    "duration": 102,
    "start_time": "2023-03-02T11:26:46.954Z"
   },
   {
    "duration": 8,
    "start_time": "2023-03-02T11:26:47.058Z"
   },
   {
    "duration": 234,
    "start_time": "2023-03-02T11:26:47.069Z"
   },
   {
    "duration": 163,
    "start_time": "2023-03-02T11:26:47.304Z"
   },
   {
    "duration": 159,
    "start_time": "2023-03-02T11:26:47.469Z"
   },
   {
    "duration": 54,
    "start_time": "2023-03-02T11:26:47.630Z"
   },
   {
    "duration": 483,
    "start_time": "2023-03-02T11:26:47.686Z"
   },
   {
    "duration": 4,
    "start_time": "2023-03-02T11:26:48.170Z"
   },
   {
    "duration": 66,
    "start_time": "2023-03-02T11:26:48.175Z"
   },
   {
    "duration": 589,
    "start_time": "2023-03-02T11:26:48.242Z"
   },
   {
    "duration": 13,
    "start_time": "2023-03-02T11:26:48.833Z"
   },
   {
    "duration": 9,
    "start_time": "2023-03-02T11:26:48.848Z"
   },
   {
    "duration": 42,
    "start_time": "2023-03-02T11:26:48.858Z"
   },
   {
    "duration": 436,
    "start_time": "2023-03-02T11:26:48.901Z"
   },
   {
    "duration": 689,
    "start_time": "2023-03-02T11:26:49.342Z"
   },
   {
    "duration": 15,
    "start_time": "2023-03-02T11:26:50.033Z"
   },
   {
    "duration": 63,
    "start_time": "2023-03-02T11:26:50.050Z"
   },
   {
    "duration": 30,
    "start_time": "2023-03-02T11:26:50.125Z"
   },
   {
    "duration": 93,
    "start_time": "2023-03-02T11:26:50.157Z"
   },
   {
    "duration": 1713,
    "start_time": "2023-03-02T11:26:50.252Z"
   },
   {
    "duration": 246,
    "start_time": "2023-03-02T11:26:51.967Z"
   },
   {
    "duration": 294,
    "start_time": "2023-03-02T11:26:52.223Z"
   },
   {
    "duration": 277,
    "start_time": "2023-03-02T11:26:52.524Z"
   },
   {
    "duration": 4,
    "start_time": "2023-03-02T11:26:52.803Z"
   },
   {
    "duration": 5,
    "start_time": "2023-03-02T11:26:52.825Z"
   },
   {
    "duration": 1330,
    "start_time": "2023-03-02T11:26:52.832Z"
   },
   {
    "duration": 27,
    "start_time": "2023-03-02T11:26:54.164Z"
   },
   {
    "duration": 4,
    "start_time": "2023-03-02T11:26:54.193Z"
   },
   {
    "duration": 29,
    "start_time": "2023-03-02T11:26:54.199Z"
   },
   {
    "duration": 138,
    "start_time": "2023-03-02T11:26:54.229Z"
   },
   {
    "duration": 2032,
    "start_time": "2023-03-02T11:33:22.757Z"
   }
  ],
  "kernelspec": {
   "display_name": "Python 3 (ipykernel)",
   "language": "python",
   "name": "python3"
  },
  "language_info": {
   "codemirror_mode": {
    "name": "ipython",
    "version": 3
   },
   "file_extension": ".py",
   "mimetype": "text/x-python",
   "name": "python",
   "nbconvert_exporter": "python",
   "pygments_lexer": "ipython3",
   "version": "3.9.12"
  },
  "toc": {
   "base_numbering": 1,
   "nav_menu": {},
   "number_sections": true,
   "sideBar": true,
   "skip_h1_title": true,
   "title_cell": "Table of Contents",
   "title_sidebar": "Contents",
   "toc_cell": false,
   "toc_position": {},
   "toc_section_display": true,
   "toc_window_display": false
  }
 },
 "nbformat": 4,
 "nbformat_minor": 2
}
