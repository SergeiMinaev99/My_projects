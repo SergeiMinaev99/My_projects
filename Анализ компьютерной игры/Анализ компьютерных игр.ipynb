{
 "cells": [
  {
   "cell_type": "markdown",
   "metadata": {},
   "source": [
    "# Сборный проект. Анализ компьютерных игр\n",
    "\n",
    "Вы работаете в интернет-магазине «Стримчик», который продаёт по всему миру компьютерные игры. Из открытых источников доступны исторические данные о продажах игр, оценки пользователей и экспертов, жанры и платформы (например, Xbox или PlayStation). Вам нужно выявить определяющие успешность игры закономерности. Это позволит сделать ставку на потенциально популярный продукт и спланировать рекламные кампании.\n",
    "Перед вами данные до 2016 года. Представим, что сейчас декабрь 2016 г., и вы планируете кампанию на 2017-й. Нужно отработать принцип работы с данными. Неважно, прогнозируете ли вы продажи на 2017 год по данным 2016-го или же 2027-й — по данным 2026 года.\n",
    "В наборе данных попадается аббревиатура ESRB (Entertainment Software Rating Board) — это ассоциация, определяющая возрастной рейтинг компьютерных игр. ESRB оценивает игровой контент и присваивает ему подходящую возрастную категорию, например, «Для взрослых», «Для детей младшего возраста» или «Для подростков».\n",
    "\n",
    "# Описание данных:\n",
    "\n",
    "- Name — название игры\n",
    "- Platform — платформа\n",
    "- Year_of_Release — год выпуска\n",
    "- Genre — жанр игры\n",
    "- NA_sales — продажи в Северной Америке (миллионы проданных копий)\n",
    "- EU_sales — продажи в Европе (миллионы проданных копий)\n",
    "- JP_sales — продажи в Японии (миллионы проданных копий)\n",
    "- Other_sales — продажи в других странах (миллионы проданных копий)\n",
    "- Critic_Score — оценка критиков (максимум 100)\n",
    "- User_Score — оценка пользователей (максимум 10)\n",
    "- Rating — рейтинг от организации ESRB (англ. Entertainment Software Rating Board). Эта ассоциация определяет рейтинг компьютерных игр и присваивает им подходящую возрастную категорию.\n"
   ]
  },
  {
   "cell_type": "markdown",
   "metadata": {},
   "source": [
    "## Подготовка данных:"
   ]
  },
  {
   "cell_type": "markdown",
   "metadata": {},
   "source": [
    "Импортируем библиотеки, изучаем таблицу"
   ]
  },
  {
   "cell_type": "code",
   "execution_count": 1,
   "metadata": {},
   "outputs": [],
   "source": [
    "# Импортируем библиотеки\n",
    "import pandas as pd\n",
    "import numpy as np\n",
    "from scipy import stats as st\n",
    "import matplotlib.pyplot as plt\n"
   ]
  },
  {
   "cell_type": "code",
   "execution_count": 2,
   "metadata": {},
   "outputs": [],
   "source": [
    "games = pd.read_csv ('/datasets/games.csv')"
   ]
  },
  {
   "cell_type": "code",
   "execution_count": 3,
   "metadata": {},
   "outputs": [
    {
     "name": "stdout",
     "output_type": "stream",
     "text": [
      "<class 'pandas.core.frame.DataFrame'>\n",
      "RangeIndex: 16715 entries, 0 to 16714\n",
      "Data columns (total 11 columns):\n",
      " #   Column           Non-Null Count  Dtype  \n",
      "---  ------           --------------  -----  \n",
      " 0   Name             16713 non-null  object \n",
      " 1   Platform         16715 non-null  object \n",
      " 2   Year_of_Release  16446 non-null  float64\n",
      " 3   Genre            16713 non-null  object \n",
      " 4   NA_sales         16715 non-null  float64\n",
      " 5   EU_sales         16715 non-null  float64\n",
      " 6   JP_sales         16715 non-null  float64\n",
      " 7   Other_sales      16715 non-null  float64\n",
      " 8   Critic_Score     8137 non-null   float64\n",
      " 9   User_Score       10014 non-null  object \n",
      " 10  Rating           9949 non-null   object \n",
      "dtypes: float64(6), object(5)\n",
      "memory usage: 1.4+ MB\n"
     ]
    }
   ],
   "source": [
    "games.info()"
   ]
  },
  {
   "cell_type": "code",
   "execution_count": 4,
   "metadata": {},
   "outputs": [
    {
     "data": {
      "text/html": [
       "<div>\n",
       "<style scoped>\n",
       "    .dataframe tbody tr th:only-of-type {\n",
       "        vertical-align: middle;\n",
       "    }\n",
       "\n",
       "    .dataframe tbody tr th {\n",
       "        vertical-align: top;\n",
       "    }\n",
       "\n",
       "    .dataframe thead th {\n",
       "        text-align: right;\n",
       "    }\n",
       "</style>\n",
       "<table border=\"1\" class=\"dataframe\">\n",
       "  <thead>\n",
       "    <tr style=\"text-align: right;\">\n",
       "      <th></th>\n",
       "      <th>Year_of_Release</th>\n",
       "      <th>NA_sales</th>\n",
       "      <th>EU_sales</th>\n",
       "      <th>JP_sales</th>\n",
       "      <th>Other_sales</th>\n",
       "      <th>Critic_Score</th>\n",
       "    </tr>\n",
       "  </thead>\n",
       "  <tbody>\n",
       "    <tr>\n",
       "      <th>count</th>\n",
       "      <td>16446.000000</td>\n",
       "      <td>16715.000000</td>\n",
       "      <td>16715.000000</td>\n",
       "      <td>16715.000000</td>\n",
       "      <td>16715.000000</td>\n",
       "      <td>8137.000000</td>\n",
       "    </tr>\n",
       "    <tr>\n",
       "      <th>mean</th>\n",
       "      <td>2006.484616</td>\n",
       "      <td>0.263377</td>\n",
       "      <td>0.145060</td>\n",
       "      <td>0.077617</td>\n",
       "      <td>0.047342</td>\n",
       "      <td>68.967679</td>\n",
       "    </tr>\n",
       "    <tr>\n",
       "      <th>std</th>\n",
       "      <td>5.877050</td>\n",
       "      <td>0.813604</td>\n",
       "      <td>0.503339</td>\n",
       "      <td>0.308853</td>\n",
       "      <td>0.186731</td>\n",
       "      <td>13.938165</td>\n",
       "    </tr>\n",
       "    <tr>\n",
       "      <th>min</th>\n",
       "      <td>1980.000000</td>\n",
       "      <td>0.000000</td>\n",
       "      <td>0.000000</td>\n",
       "      <td>0.000000</td>\n",
       "      <td>0.000000</td>\n",
       "      <td>13.000000</td>\n",
       "    </tr>\n",
       "    <tr>\n",
       "      <th>25%</th>\n",
       "      <td>2003.000000</td>\n",
       "      <td>0.000000</td>\n",
       "      <td>0.000000</td>\n",
       "      <td>0.000000</td>\n",
       "      <td>0.000000</td>\n",
       "      <td>60.000000</td>\n",
       "    </tr>\n",
       "    <tr>\n",
       "      <th>50%</th>\n",
       "      <td>2007.000000</td>\n",
       "      <td>0.080000</td>\n",
       "      <td>0.020000</td>\n",
       "      <td>0.000000</td>\n",
       "      <td>0.010000</td>\n",
       "      <td>71.000000</td>\n",
       "    </tr>\n",
       "    <tr>\n",
       "      <th>75%</th>\n",
       "      <td>2010.000000</td>\n",
       "      <td>0.240000</td>\n",
       "      <td>0.110000</td>\n",
       "      <td>0.040000</td>\n",
       "      <td>0.030000</td>\n",
       "      <td>79.000000</td>\n",
       "    </tr>\n",
       "    <tr>\n",
       "      <th>max</th>\n",
       "      <td>2016.000000</td>\n",
       "      <td>41.360000</td>\n",
       "      <td>28.960000</td>\n",
       "      <td>10.220000</td>\n",
       "      <td>10.570000</td>\n",
       "      <td>98.000000</td>\n",
       "    </tr>\n",
       "  </tbody>\n",
       "</table>\n",
       "</div>"
      ],
      "text/plain": [
       "       Year_of_Release      NA_sales      EU_sales      JP_sales  \\\n",
       "count     16446.000000  16715.000000  16715.000000  16715.000000   \n",
       "mean       2006.484616      0.263377      0.145060      0.077617   \n",
       "std           5.877050      0.813604      0.503339      0.308853   \n",
       "min        1980.000000      0.000000      0.000000      0.000000   \n",
       "25%        2003.000000      0.000000      0.000000      0.000000   \n",
       "50%        2007.000000      0.080000      0.020000      0.000000   \n",
       "75%        2010.000000      0.240000      0.110000      0.040000   \n",
       "max        2016.000000     41.360000     28.960000     10.220000   \n",
       "\n",
       "        Other_sales  Critic_Score  \n",
       "count  16715.000000   8137.000000  \n",
       "mean       0.047342     68.967679  \n",
       "std        0.186731     13.938165  \n",
       "min        0.000000     13.000000  \n",
       "25%        0.000000     60.000000  \n",
       "50%        0.010000     71.000000  \n",
       "75%        0.030000     79.000000  \n",
       "max       10.570000     98.000000  "
      ]
     },
     "execution_count": 4,
     "metadata": {},
     "output_type": "execute_result"
    }
   ],
   "source": [
    "games.head(5)\n",
    "games.describe()"
   ]
  },
  {
   "cell_type": "code",
   "execution_count": 5,
   "metadata": {},
   "outputs": [
    {
     "data": {
      "image/png": "[encoded data removed]",
      "text/plain": [
       "<Figure size 1080x1440 with 6 Axes>"
      ]
     },
     "metadata": {
      "needs_background": "light"
     },
     "output_type": "display_data"
    }
   ],
   "source": [
    "games.hist(figsize=(15, 20));"
   ]
  },
  {
   "cell_type": "code",
   "execution_count": 6,
   "metadata": {},
   "outputs": [],
   "source": [
    "def pass_value_barh(df):\n",
    "    try:\n",
    "        (\n",
    "            (df.isna().mean()*100)\n",
    "            .to_frame()\n",
    "            .rename(columns = {0:'space'})\n",
    "            .query('space > 0')\n",
    "            .sort_values(by = 'space', ascending = True)\n",
    "            .plot(kind= 'barh', figsize=(19,6), rot = 0, legend = False, fontsize = 16)\n",
    "            .set_title('Пропуски' + \"\\n\", fontsize = 22, color = 'SteelBlue')    \n",
    "        );    \n",
    "    except:\n",
    "        print('пропусков не осталось :) ')"
   ]
  },
  {
   "cell_type": "code",
   "execution_count": 7,
   "metadata": {
    "scrolled": true
   },
   "outputs": [
    {
     "data": {
      "image/png": "[encoded data removed]",
      "text/plain": [
       "<Figure size 1368x432 with 1 Axes>"
      ]
     },
     "metadata": {
      "needs_background": "light"
     },
     "output_type": "display_data"
    }
   ],
   "source": [
    "pass_value_barh(games)"
   ]
  },
  {
   "cell_type": "code",
   "execution_count": 8,
   "metadata": {},
   "outputs": [
    {
     "data": {
      "text/plain": [
       "Name                  2\n",
       "Platform              0\n",
       "Year_of_Release     269\n",
       "Genre                 2\n",
       "NA_sales              0\n",
       "EU_sales              0\n",
       "JP_sales              0\n",
       "Other_sales           0\n",
       "Critic_Score       8578\n",
       "User_Score         6701\n",
       "Rating             6766\n",
       "dtype: int64"
      ]
     },
     "execution_count": 8,
     "metadata": {},
     "output_type": "execute_result"
    }
   ],
   "source": [
    "games.isna().sum()"
   ]
  },
  {
   "cell_type": "code",
   "execution_count": 9,
   "metadata": {},
   "outputs": [
    {
     "data": {
      "text/html": [
       "<div>\n",
       "<style scoped>\n",
       "    .dataframe tbody tr th:only-of-type {\n",
       "        vertical-align: middle;\n",
       "    }\n",
       "\n",
       "    .dataframe tbody tr th {\n",
       "        vertical-align: top;\n",
       "    }\n",
       "\n",
       "    .dataframe thead th {\n",
       "        text-align: right;\n",
       "    }\n",
       "</style>\n",
       "<table border=\"1\" class=\"dataframe\">\n",
       "  <thead>\n",
       "    <tr style=\"text-align: right;\">\n",
       "      <th></th>\n",
       "      <th>Name</th>\n",
       "      <th>Platform</th>\n",
       "      <th>Year_of_Release</th>\n",
       "      <th>Genre</th>\n",
       "      <th>NA_sales</th>\n",
       "      <th>EU_sales</th>\n",
       "      <th>JP_sales</th>\n",
       "      <th>Other_sales</th>\n",
       "      <th>Critic_Score</th>\n",
       "      <th>User_Score</th>\n",
       "      <th>Rating</th>\n",
       "    </tr>\n",
       "  </thead>\n",
       "  <tbody>\n",
       "    <tr>\n",
       "      <th>659</th>\n",
       "      <td>NaN</td>\n",
       "      <td>GEN</td>\n",
       "      <td>1993.0</td>\n",
       "      <td>NaN</td>\n",
       "      <td>1.78</td>\n",
       "      <td>0.53</td>\n",
       "      <td>0.00</td>\n",
       "      <td>0.08</td>\n",
       "      <td>NaN</td>\n",
       "      <td>NaN</td>\n",
       "      <td>NaN</td>\n",
       "    </tr>\n",
       "    <tr>\n",
       "      <th>14244</th>\n",
       "      <td>NaN</td>\n",
       "      <td>GEN</td>\n",
       "      <td>1993.0</td>\n",
       "      <td>NaN</td>\n",
       "      <td>0.00</td>\n",
       "      <td>0.00</td>\n",
       "      <td>0.03</td>\n",
       "      <td>0.00</td>\n",
       "      <td>NaN</td>\n",
       "      <td>NaN</td>\n",
       "      <td>NaN</td>\n",
       "    </tr>\n",
       "  </tbody>\n",
       "</table>\n",
       "</div>"
      ],
      "text/plain": [
       "      Name Platform  Year_of_Release Genre  NA_sales  EU_sales  JP_sales  \\\n",
       "659    NaN      GEN           1993.0   NaN      1.78      0.53      0.00   \n",
       "14244  NaN      GEN           1993.0   NaN      0.00      0.00      0.03   \n",
       "\n",
       "       Other_sales  Critic_Score User_Score Rating  \n",
       "659           0.08           NaN        NaN    NaN  \n",
       "14244         0.00           NaN        NaN    NaN  "
      ]
     },
     "execution_count": 9,
     "metadata": {},
     "output_type": "execute_result"
    }
   ],
   "source": [
    "games[games['Name'].isna()]"
   ]
  },
  {
   "cell_type": "code",
   "execution_count": 10,
   "metadata": {},
   "outputs": [
    {
     "data": {
      "text/html": [
       "<div>\n",
       "<style scoped>\n",
       "    .dataframe tbody tr th:only-of-type {\n",
       "        vertical-align: middle;\n",
       "    }\n",
       "\n",
       "    .dataframe tbody tr th {\n",
       "        vertical-align: top;\n",
       "    }\n",
       "\n",
       "    .dataframe thead th {\n",
       "        text-align: right;\n",
       "    }\n",
       "</style>\n",
       "<table border=\"1\" class=\"dataframe\">\n",
       "  <thead>\n",
       "    <tr style=\"text-align: right;\">\n",
       "      <th></th>\n",
       "      <th>Name</th>\n",
       "      <th>Platform</th>\n",
       "      <th>Year_of_Release</th>\n",
       "      <th>Genre</th>\n",
       "      <th>NA_sales</th>\n",
       "      <th>EU_sales</th>\n",
       "      <th>JP_sales</th>\n",
       "      <th>Other_sales</th>\n",
       "      <th>Critic_Score</th>\n",
       "      <th>User_Score</th>\n",
       "      <th>Rating</th>\n",
       "    </tr>\n",
       "  </thead>\n",
       "  <tbody>\n",
       "    <tr>\n",
       "      <th>1</th>\n",
       "      <td>Super Mario Bros.</td>\n",
       "      <td>NES</td>\n",
       "      <td>1985.0</td>\n",
       "      <td>Platform</td>\n",
       "      <td>29.08</td>\n",
       "      <td>3.58</td>\n",
       "      <td>6.81</td>\n",
       "      <td>0.77</td>\n",
       "      <td>NaN</td>\n",
       "      <td>NaN</td>\n",
       "      <td>NaN</td>\n",
       "    </tr>\n",
       "    <tr>\n",
       "      <th>4</th>\n",
       "      <td>Pokemon Red/Pokemon Blue</td>\n",
       "      <td>GB</td>\n",
       "      <td>1996.0</td>\n",
       "      <td>Role-Playing</td>\n",
       "      <td>11.27</td>\n",
       "      <td>8.89</td>\n",
       "      <td>10.22</td>\n",
       "      <td>1.00</td>\n",
       "      <td>NaN</td>\n",
       "      <td>NaN</td>\n",
       "      <td>NaN</td>\n",
       "    </tr>\n",
       "    <tr>\n",
       "      <th>5</th>\n",
       "      <td>Tetris</td>\n",
       "      <td>GB</td>\n",
       "      <td>1989.0</td>\n",
       "      <td>Puzzle</td>\n",
       "      <td>23.20</td>\n",
       "      <td>2.26</td>\n",
       "      <td>4.22</td>\n",
       "      <td>0.58</td>\n",
       "      <td>NaN</td>\n",
       "      <td>NaN</td>\n",
       "      <td>NaN</td>\n",
       "    </tr>\n",
       "    <tr>\n",
       "      <th>9</th>\n",
       "      <td>Duck Hunt</td>\n",
       "      <td>NES</td>\n",
       "      <td>1984.0</td>\n",
       "      <td>Shooter</td>\n",
       "      <td>26.93</td>\n",
       "      <td>0.63</td>\n",
       "      <td>0.28</td>\n",
       "      <td>0.47</td>\n",
       "      <td>NaN</td>\n",
       "      <td>NaN</td>\n",
       "      <td>NaN</td>\n",
       "    </tr>\n",
       "    <tr>\n",
       "      <th>10</th>\n",
       "      <td>Nintendogs</td>\n",
       "      <td>DS</td>\n",
       "      <td>2005.0</td>\n",
       "      <td>Simulation</td>\n",
       "      <td>9.05</td>\n",
       "      <td>10.95</td>\n",
       "      <td>1.93</td>\n",
       "      <td>2.74</td>\n",
       "      <td>NaN</td>\n",
       "      <td>NaN</td>\n",
       "      <td>NaN</td>\n",
       "    </tr>\n",
       "    <tr>\n",
       "      <th>...</th>\n",
       "      <td>...</td>\n",
       "      <td>...</td>\n",
       "      <td>...</td>\n",
       "      <td>...</td>\n",
       "      <td>...</td>\n",
       "      <td>...</td>\n",
       "      <td>...</td>\n",
       "      <td>...</td>\n",
       "      <td>...</td>\n",
       "      <td>...</td>\n",
       "      <td>...</td>\n",
       "    </tr>\n",
       "    <tr>\n",
       "      <th>16710</th>\n",
       "      <td>Samurai Warriors: Sanada Maru</td>\n",
       "      <td>PS3</td>\n",
       "      <td>2016.0</td>\n",
       "      <td>Action</td>\n",
       "      <td>0.00</td>\n",
       "      <td>0.00</td>\n",
       "      <td>0.01</td>\n",
       "      <td>0.00</td>\n",
       "      <td>NaN</td>\n",
       "      <td>NaN</td>\n",
       "      <td>NaN</td>\n",
       "    </tr>\n",
       "    <tr>\n",
       "      <th>16711</th>\n",
       "      <td>LMA Manager 2007</td>\n",
       "      <td>X360</td>\n",
       "      <td>2006.0</td>\n",
       "      <td>Sports</td>\n",
       "      <td>0.00</td>\n",
       "      <td>0.01</td>\n",
       "      <td>0.00</td>\n",
       "      <td>0.00</td>\n",
       "      <td>NaN</td>\n",
       "      <td>NaN</td>\n",
       "      <td>NaN</td>\n",
       "    </tr>\n",
       "    <tr>\n",
       "      <th>16712</th>\n",
       "      <td>Haitaka no Psychedelica</td>\n",
       "      <td>PSV</td>\n",
       "      <td>2016.0</td>\n",
       "      <td>Adventure</td>\n",
       "      <td>0.00</td>\n",
       "      <td>0.00</td>\n",
       "      <td>0.01</td>\n",
       "      <td>0.00</td>\n",
       "      <td>NaN</td>\n",
       "      <td>NaN</td>\n",
       "      <td>NaN</td>\n",
       "    </tr>\n",
       "    <tr>\n",
       "      <th>16713</th>\n",
       "      <td>Spirits &amp; Spells</td>\n",
       "      <td>GBA</td>\n",
       "      <td>2003.0</td>\n",
       "      <td>Platform</td>\n",
       "      <td>0.01</td>\n",
       "      <td>0.00</td>\n",
       "      <td>0.00</td>\n",
       "      <td>0.00</td>\n",
       "      <td>NaN</td>\n",
       "      <td>NaN</td>\n",
       "      <td>NaN</td>\n",
       "    </tr>\n",
       "    <tr>\n",
       "      <th>16714</th>\n",
       "      <td>Winning Post 8 2016</td>\n",
       "      <td>PSV</td>\n",
       "      <td>2016.0</td>\n",
       "      <td>Simulation</td>\n",
       "      <td>0.00</td>\n",
       "      <td>0.00</td>\n",
       "      <td>0.01</td>\n",
       "      <td>0.00</td>\n",
       "      <td>NaN</td>\n",
       "      <td>NaN</td>\n",
       "      <td>NaN</td>\n",
       "    </tr>\n",
       "  </tbody>\n",
       "</table>\n",
       "<p>6766 rows × 11 columns</p>\n",
       "</div>"
      ],
      "text/plain": [
       "                                Name Platform  Year_of_Release         Genre  \\\n",
       "1                  Super Mario Bros.      NES           1985.0      Platform   \n",
       "4           Pokemon Red/Pokemon Blue       GB           1996.0  Role-Playing   \n",
       "5                             Tetris       GB           1989.0        Puzzle   \n",
       "9                          Duck Hunt      NES           1984.0       Shooter   \n",
       "10                        Nintendogs       DS           2005.0    Simulation   \n",
       "...                              ...      ...              ...           ...   \n",
       "16710  Samurai Warriors: Sanada Maru      PS3           2016.0        Action   \n",
       "16711               LMA Manager 2007     X360           2006.0        Sports   \n",
       "16712        Haitaka no Psychedelica      PSV           2016.0     Adventure   \n",
       "16713               Spirits & Spells      GBA           2003.0      Platform   \n",
       "16714            Winning Post 8 2016      PSV           2016.0    Simulation   \n",
       "\n",
       "       NA_sales  EU_sales  JP_sales  Other_sales  Critic_Score User_Score  \\\n",
       "1         29.08      3.58      6.81         0.77           NaN        NaN   \n",
       "4         11.27      8.89     10.22         1.00           NaN        NaN   \n",
       "5         23.20      2.26      4.22         0.58           NaN        NaN   \n",
       "9         26.93      0.63      0.28         0.47           NaN        NaN   \n",
       "10         9.05     10.95      1.93         2.74           NaN        NaN   \n",
       "...         ...       ...       ...          ...           ...        ...   \n",
       "16710      0.00      0.00      0.01         0.00           NaN        NaN   \n",
       "16711      0.00      0.01      0.00         0.00           NaN        NaN   \n",
       "16712      0.00      0.00      0.01         0.00           NaN        NaN   \n",
       "16713      0.01      0.00      0.00         0.00           NaN        NaN   \n",
       "16714      0.00      0.00      0.01         0.00           NaN        NaN   \n",
       "\n",
       "      Rating  \n",
       "1        NaN  \n",
       "4        NaN  \n",
       "5        NaN  \n",
       "9        NaN  \n",
       "10       NaN  \n",
       "...      ...  \n",
       "16710    NaN  \n",
       "16711    NaN  \n",
       "16712    NaN  \n",
       "16713    NaN  \n",
       "16714    NaN  \n",
       "\n",
       "[6766 rows x 11 columns]"
      ]
     },
     "execution_count": 10,
     "metadata": {},
     "output_type": "execute_result"
    }
   ],
   "source": [
    "games[games['Rating'].isna()]"
   ]
  },
  {
   "cell_type": "code",
   "execution_count": 11,
   "metadata": {},
   "outputs": [
    {
     "data": {
      "text/html": [
       "<div>\n",
       "<style scoped>\n",
       "    .dataframe tbody tr th:only-of-type {\n",
       "        vertical-align: middle;\n",
       "    }\n",
       "\n",
       "    .dataframe tbody tr th {\n",
       "        vertical-align: top;\n",
       "    }\n",
       "\n",
       "    .dataframe thead th {\n",
       "        text-align: right;\n",
       "    }\n",
       "</style>\n",
       "<table border=\"1\" class=\"dataframe\">\n",
       "  <thead>\n",
       "    <tr style=\"text-align: right;\">\n",
       "      <th></th>\n",
       "      <th>Name</th>\n",
       "      <th>Platform</th>\n",
       "      <th>Year_of_Release</th>\n",
       "      <th>Genre</th>\n",
       "      <th>NA_sales</th>\n",
       "      <th>EU_sales</th>\n",
       "      <th>JP_sales</th>\n",
       "      <th>Other_sales</th>\n",
       "      <th>Critic_Score</th>\n",
       "      <th>User_Score</th>\n",
       "      <th>Rating</th>\n",
       "    </tr>\n",
       "  </thead>\n",
       "  <tbody>\n",
       "    <tr>\n",
       "      <th>1</th>\n",
       "      <td>Super Mario Bros.</td>\n",
       "      <td>NES</td>\n",
       "      <td>1985.0</td>\n",
       "      <td>Platform</td>\n",
       "      <td>29.08</td>\n",
       "      <td>3.58</td>\n",
       "      <td>6.81</td>\n",
       "      <td>0.77</td>\n",
       "      <td>NaN</td>\n",
       "      <td>NaN</td>\n",
       "      <td>NaN</td>\n",
       "    </tr>\n",
       "    <tr>\n",
       "      <th>4</th>\n",
       "      <td>Pokemon Red/Pokemon Blue</td>\n",
       "      <td>GB</td>\n",
       "      <td>1996.0</td>\n",
       "      <td>Role-Playing</td>\n",
       "      <td>11.27</td>\n",
       "      <td>8.89</td>\n",
       "      <td>10.22</td>\n",
       "      <td>1.00</td>\n",
       "      <td>NaN</td>\n",
       "      <td>NaN</td>\n",
       "      <td>NaN</td>\n",
       "    </tr>\n",
       "    <tr>\n",
       "      <th>5</th>\n",
       "      <td>Tetris</td>\n",
       "      <td>GB</td>\n",
       "      <td>1989.0</td>\n",
       "      <td>Puzzle</td>\n",
       "      <td>23.20</td>\n",
       "      <td>2.26</td>\n",
       "      <td>4.22</td>\n",
       "      <td>0.58</td>\n",
       "      <td>NaN</td>\n",
       "      <td>NaN</td>\n",
       "      <td>NaN</td>\n",
       "    </tr>\n",
       "    <tr>\n",
       "      <th>9</th>\n",
       "      <td>Duck Hunt</td>\n",
       "      <td>NES</td>\n",
       "      <td>1984.0</td>\n",
       "      <td>Shooter</td>\n",
       "      <td>26.93</td>\n",
       "      <td>0.63</td>\n",
       "      <td>0.28</td>\n",
       "      <td>0.47</td>\n",
       "      <td>NaN</td>\n",
       "      <td>NaN</td>\n",
       "      <td>NaN</td>\n",
       "    </tr>\n",
       "    <tr>\n",
       "      <th>10</th>\n",
       "      <td>Nintendogs</td>\n",
       "      <td>DS</td>\n",
       "      <td>2005.0</td>\n",
       "      <td>Simulation</td>\n",
       "      <td>9.05</td>\n",
       "      <td>10.95</td>\n",
       "      <td>1.93</td>\n",
       "      <td>2.74</td>\n",
       "      <td>NaN</td>\n",
       "      <td>NaN</td>\n",
       "      <td>NaN</td>\n",
       "    </tr>\n",
       "    <tr>\n",
       "      <th>...</th>\n",
       "      <td>...</td>\n",
       "      <td>...</td>\n",
       "      <td>...</td>\n",
       "      <td>...</td>\n",
       "      <td>...</td>\n",
       "      <td>...</td>\n",
       "      <td>...</td>\n",
       "      <td>...</td>\n",
       "      <td>...</td>\n",
       "      <td>...</td>\n",
       "      <td>...</td>\n",
       "    </tr>\n",
       "    <tr>\n",
       "      <th>16710</th>\n",
       "      <td>Samurai Warriors: Sanada Maru</td>\n",
       "      <td>PS3</td>\n",
       "      <td>2016.0</td>\n",
       "      <td>Action</td>\n",
       "      <td>0.00</td>\n",
       "      <td>0.00</td>\n",
       "      <td>0.01</td>\n",
       "      <td>0.00</td>\n",
       "      <td>NaN</td>\n",
       "      <td>NaN</td>\n",
       "      <td>NaN</td>\n",
       "    </tr>\n",
       "    <tr>\n",
       "      <th>16711</th>\n",
       "      <td>LMA Manager 2007</td>\n",
       "      <td>X360</td>\n",
       "      <td>2006.0</td>\n",
       "      <td>Sports</td>\n",
       "      <td>0.00</td>\n",
       "      <td>0.01</td>\n",
       "      <td>0.00</td>\n",
       "      <td>0.00</td>\n",
       "      <td>NaN</td>\n",
       "      <td>NaN</td>\n",
       "      <td>NaN</td>\n",
       "    </tr>\n",
       "    <tr>\n",
       "      <th>16712</th>\n",
       "      <td>Haitaka no Psychedelica</td>\n",
       "      <td>PSV</td>\n",
       "      <td>2016.0</td>\n",
       "      <td>Adventure</td>\n",
       "      <td>0.00</td>\n",
       "      <td>0.00</td>\n",
       "      <td>0.01</td>\n",
       "      <td>0.00</td>\n",
       "      <td>NaN</td>\n",
       "      <td>NaN</td>\n",
       "      <td>NaN</td>\n",
       "    </tr>\n",
       "    <tr>\n",
       "      <th>16713</th>\n",
       "      <td>Spirits &amp; Spells</td>\n",
       "      <td>GBA</td>\n",
       "      <td>2003.0</td>\n",
       "      <td>Platform</td>\n",
       "      <td>0.01</td>\n",
       "      <td>0.00</td>\n",
       "      <td>0.00</td>\n",
       "      <td>0.00</td>\n",
       "      <td>NaN</td>\n",
       "      <td>NaN</td>\n",
       "      <td>NaN</td>\n",
       "    </tr>\n",
       "    <tr>\n",
       "      <th>16714</th>\n",
       "      <td>Winning Post 8 2016</td>\n",
       "      <td>PSV</td>\n",
       "      <td>2016.0</td>\n",
       "      <td>Simulation</td>\n",
       "      <td>0.00</td>\n",
       "      <td>0.00</td>\n",
       "      <td>0.01</td>\n",
       "      <td>0.00</td>\n",
       "      <td>NaN</td>\n",
       "      <td>NaN</td>\n",
       "      <td>NaN</td>\n",
       "    </tr>\n",
       "  </tbody>\n",
       "</table>\n",
       "<p>6701 rows × 11 columns</p>\n",
       "</div>"
      ],
      "text/plain": [
       "                                Name Platform  Year_of_Release         Genre  \\\n",
       "1                  Super Mario Bros.      NES           1985.0      Platform   \n",
       "4           Pokemon Red/Pokemon Blue       GB           1996.0  Role-Playing   \n",
       "5                             Tetris       GB           1989.0        Puzzle   \n",
       "9                          Duck Hunt      NES           1984.0       Shooter   \n",
       "10                        Nintendogs       DS           2005.0    Simulation   \n",
       "...                              ...      ...              ...           ...   \n",
       "16710  Samurai Warriors: Sanada Maru      PS3           2016.0        Action   \n",
       "16711               LMA Manager 2007     X360           2006.0        Sports   \n",
       "16712        Haitaka no Psychedelica      PSV           2016.0     Adventure   \n",
       "16713               Spirits & Spells      GBA           2003.0      Platform   \n",
       "16714            Winning Post 8 2016      PSV           2016.0    Simulation   \n",
       "\n",
       "       NA_sales  EU_sales  JP_sales  Other_sales  Critic_Score User_Score  \\\n",
       "1         29.08      3.58      6.81         0.77           NaN        NaN   \n",
       "4         11.27      8.89     10.22         1.00           NaN        NaN   \n",
       "5         23.20      2.26      4.22         0.58           NaN        NaN   \n",
       "9         26.93      0.63      0.28         0.47           NaN        NaN   \n",
       "10         9.05     10.95      1.93         2.74           NaN        NaN   \n",
       "...         ...       ...       ...          ...           ...        ...   \n",
       "16710      0.00      0.00      0.01         0.00           NaN        NaN   \n",
       "16711      0.00      0.01      0.00         0.00           NaN        NaN   \n",
       "16712      0.00      0.00      0.01         0.00           NaN        NaN   \n",
       "16713      0.01      0.00      0.00         0.00           NaN        NaN   \n",
       "16714      0.00      0.00      0.01         0.00           NaN        NaN   \n",
       "\n",
       "      Rating  \n",
       "1        NaN  \n",
       "4        NaN  \n",
       "5        NaN  \n",
       "9        NaN  \n",
       "10       NaN  \n",
       "...      ...  \n",
       "16710    NaN  \n",
       "16711    NaN  \n",
       "16712    NaN  \n",
       "16713    NaN  \n",
       "16714    NaN  \n",
       "\n",
       "[6701 rows x 11 columns]"
      ]
     },
     "execution_count": 11,
     "metadata": {},
     "output_type": "execute_result"
    }
   ],
   "source": [
    "games[games['User_Score'].isna()]"
   ]
  },
  {
   "cell_type": "code",
   "execution_count": 12,
   "metadata": {
    "scrolled": false
   },
   "outputs": [
    {
     "data": {
      "text/html": [
       "<div>\n",
       "<style scoped>\n",
       "    .dataframe tbody tr th:only-of-type {\n",
       "        vertical-align: middle;\n",
       "    }\n",
       "\n",
       "    .dataframe tbody tr th {\n",
       "        vertical-align: top;\n",
       "    }\n",
       "\n",
       "    .dataframe thead th {\n",
       "        text-align: right;\n",
       "    }\n",
       "</style>\n",
       "<table border=\"1\" class=\"dataframe\">\n",
       "  <thead>\n",
       "    <tr style=\"text-align: right;\">\n",
       "      <th></th>\n",
       "      <th>Name</th>\n",
       "      <th>Platform</th>\n",
       "      <th>Year_of_Release</th>\n",
       "      <th>Genre</th>\n",
       "      <th>NA_sales</th>\n",
       "      <th>EU_sales</th>\n",
       "      <th>JP_sales</th>\n",
       "      <th>Other_sales</th>\n",
       "      <th>Critic_Score</th>\n",
       "      <th>User_Score</th>\n",
       "      <th>Rating</th>\n",
       "    </tr>\n",
       "  </thead>\n",
       "  <tbody>\n",
       "    <tr>\n",
       "      <th>1</th>\n",
       "      <td>Super Mario Bros.</td>\n",
       "      <td>NES</td>\n",
       "      <td>1985.0</td>\n",
       "      <td>Platform</td>\n",
       "      <td>29.08</td>\n",
       "      <td>3.58</td>\n",
       "      <td>6.81</td>\n",
       "      <td>0.77</td>\n",
       "      <td>NaN</td>\n",
       "      <td>NaN</td>\n",
       "      <td>NaN</td>\n",
       "    </tr>\n",
       "    <tr>\n",
       "      <th>4</th>\n",
       "      <td>Pokemon Red/Pokemon Blue</td>\n",
       "      <td>GB</td>\n",
       "      <td>1996.0</td>\n",
       "      <td>Role-Playing</td>\n",
       "      <td>11.27</td>\n",
       "      <td>8.89</td>\n",
       "      <td>10.22</td>\n",
       "      <td>1.00</td>\n",
       "      <td>NaN</td>\n",
       "      <td>NaN</td>\n",
       "      <td>NaN</td>\n",
       "    </tr>\n",
       "    <tr>\n",
       "      <th>5</th>\n",
       "      <td>Tetris</td>\n",
       "      <td>GB</td>\n",
       "      <td>1989.0</td>\n",
       "      <td>Puzzle</td>\n",
       "      <td>23.20</td>\n",
       "      <td>2.26</td>\n",
       "      <td>4.22</td>\n",
       "      <td>0.58</td>\n",
       "      <td>NaN</td>\n",
       "      <td>NaN</td>\n",
       "      <td>NaN</td>\n",
       "    </tr>\n",
       "    <tr>\n",
       "      <th>9</th>\n",
       "      <td>Duck Hunt</td>\n",
       "      <td>NES</td>\n",
       "      <td>1984.0</td>\n",
       "      <td>Shooter</td>\n",
       "      <td>26.93</td>\n",
       "      <td>0.63</td>\n",
       "      <td>0.28</td>\n",
       "      <td>0.47</td>\n",
       "      <td>NaN</td>\n",
       "      <td>NaN</td>\n",
       "      <td>NaN</td>\n",
       "    </tr>\n",
       "    <tr>\n",
       "      <th>10</th>\n",
       "      <td>Nintendogs</td>\n",
       "      <td>DS</td>\n",
       "      <td>2005.0</td>\n",
       "      <td>Simulation</td>\n",
       "      <td>9.05</td>\n",
       "      <td>10.95</td>\n",
       "      <td>1.93</td>\n",
       "      <td>2.74</td>\n",
       "      <td>NaN</td>\n",
       "      <td>NaN</td>\n",
       "      <td>NaN</td>\n",
       "    </tr>\n",
       "    <tr>\n",
       "      <th>...</th>\n",
       "      <td>...</td>\n",
       "      <td>...</td>\n",
       "      <td>...</td>\n",
       "      <td>...</td>\n",
       "      <td>...</td>\n",
       "      <td>...</td>\n",
       "      <td>...</td>\n",
       "      <td>...</td>\n",
       "      <td>...</td>\n",
       "      <td>...</td>\n",
       "      <td>...</td>\n",
       "    </tr>\n",
       "    <tr>\n",
       "      <th>16710</th>\n",
       "      <td>Samurai Warriors: Sanada Maru</td>\n",
       "      <td>PS3</td>\n",
       "      <td>2016.0</td>\n",
       "      <td>Action</td>\n",
       "      <td>0.00</td>\n",
       "      <td>0.00</td>\n",
       "      <td>0.01</td>\n",
       "      <td>0.00</td>\n",
       "      <td>NaN</td>\n",
       "      <td>NaN</td>\n",
       "      <td>NaN</td>\n",
       "    </tr>\n",
       "    <tr>\n",
       "      <th>16711</th>\n",
       "      <td>LMA Manager 2007</td>\n",
       "      <td>X360</td>\n",
       "      <td>2006.0</td>\n",
       "      <td>Sports</td>\n",
       "      <td>0.00</td>\n",
       "      <td>0.01</td>\n",
       "      <td>0.00</td>\n",
       "      <td>0.00</td>\n",
       "      <td>NaN</td>\n",
       "      <td>NaN</td>\n",
       "      <td>NaN</td>\n",
       "    </tr>\n",
       "    <tr>\n",
       "      <th>16712</th>\n",
       "      <td>Haitaka no Psychedelica</td>\n",
       "      <td>PSV</td>\n",
       "      <td>2016.0</td>\n",
       "      <td>Adventure</td>\n",
       "      <td>0.00</td>\n",
       "      <td>0.00</td>\n",
       "      <td>0.01</td>\n",
       "      <td>0.00</td>\n",
       "      <td>NaN</td>\n",
       "      <td>NaN</td>\n",
       "      <td>NaN</td>\n",
       "    </tr>\n",
       "    <tr>\n",
       "      <th>16713</th>\n",
       "      <td>Spirits &amp; Spells</td>\n",
       "      <td>GBA</td>\n",
       "      <td>2003.0</td>\n",
       "      <td>Platform</td>\n",
       "      <td>0.01</td>\n",
       "      <td>0.00</td>\n",
       "      <td>0.00</td>\n",
       "      <td>0.00</td>\n",
       "      <td>NaN</td>\n",
       "      <td>NaN</td>\n",
       "      <td>NaN</td>\n",
       "    </tr>\n",
       "    <tr>\n",
       "      <th>16714</th>\n",
       "      <td>Winning Post 8 2016</td>\n",
       "      <td>PSV</td>\n",
       "      <td>2016.0</td>\n",
       "      <td>Simulation</td>\n",
       "      <td>0.00</td>\n",
       "      <td>0.00</td>\n",
       "      <td>0.01</td>\n",
       "      <td>0.00</td>\n",
       "      <td>NaN</td>\n",
       "      <td>NaN</td>\n",
       "      <td>NaN</td>\n",
       "    </tr>\n",
       "  </tbody>\n",
       "</table>\n",
       "<p>8578 rows × 11 columns</p>\n",
       "</div>"
      ],
      "text/plain": [
       "                                Name Platform  Year_of_Release         Genre  \\\n",
       "1                  Super Mario Bros.      NES           1985.0      Platform   \n",
       "4           Pokemon Red/Pokemon Blue       GB           1996.0  Role-Playing   \n",
       "5                             Tetris       GB           1989.0        Puzzle   \n",
       "9                          Duck Hunt      NES           1984.0       Shooter   \n",
       "10                        Nintendogs       DS           2005.0    Simulation   \n",
       "...                              ...      ...              ...           ...   \n",
       "16710  Samurai Warriors: Sanada Maru      PS3           2016.0        Action   \n",
       "16711               LMA Manager 2007     X360           2006.0        Sports   \n",
       "16712        Haitaka no Psychedelica      PSV           2016.0     Adventure   \n",
       "16713               Spirits & Spells      GBA           2003.0      Platform   \n",
       "16714            Winning Post 8 2016      PSV           2016.0    Simulation   \n",
       "\n",
       "       NA_sales  EU_sales  JP_sales  Other_sales  Critic_Score User_Score  \\\n",
       "1         29.08      3.58      6.81         0.77           NaN        NaN   \n",
       "4         11.27      8.89     10.22         1.00           NaN        NaN   \n",
       "5         23.20      2.26      4.22         0.58           NaN        NaN   \n",
       "9         26.93      0.63      0.28         0.47           NaN        NaN   \n",
       "10         9.05     10.95      1.93         2.74           NaN        NaN   \n",
       "...         ...       ...       ...          ...           ...        ...   \n",
       "16710      0.00      0.00      0.01         0.00           NaN        NaN   \n",
       "16711      0.00      0.01      0.00         0.00           NaN        NaN   \n",
       "16712      0.00      0.00      0.01         0.00           NaN        NaN   \n",
       "16713      0.01      0.00      0.00         0.00           NaN        NaN   \n",
       "16714      0.00      0.00      0.01         0.00           NaN        NaN   \n",
       "\n",
       "      Rating  \n",
       "1        NaN  \n",
       "4        NaN  \n",
       "5        NaN  \n",
       "9        NaN  \n",
       "10       NaN  \n",
       "...      ...  \n",
       "16710    NaN  \n",
       "16711    NaN  \n",
       "16712    NaN  \n",
       "16713    NaN  \n",
       "16714    NaN  \n",
       "\n",
       "[8578 rows x 11 columns]"
      ]
     },
     "execution_count": 12,
     "metadata": {},
     "output_type": "execute_result"
    }
   ],
   "source": [
    "games[games['Critic_Score'].isna()]"
   ]
  },
  {
   "cell_type": "code",
   "execution_count": 13,
   "metadata": {},
   "outputs": [
    {
     "data": {
      "text/html": [
       "<div>\n",
       "<style scoped>\n",
       "    .dataframe tbody tr th:only-of-type {\n",
       "        vertical-align: middle;\n",
       "    }\n",
       "\n",
       "    .dataframe tbody tr th {\n",
       "        vertical-align: top;\n",
       "    }\n",
       "\n",
       "    .dataframe thead th {\n",
       "        text-align: right;\n",
       "    }\n",
       "</style>\n",
       "<table border=\"1\" class=\"dataframe\">\n",
       "  <thead>\n",
       "    <tr style=\"text-align: right;\">\n",
       "      <th></th>\n",
       "      <th>Name</th>\n",
       "      <th>Platform</th>\n",
       "      <th>Year_of_Release</th>\n",
       "      <th>Genre</th>\n",
       "      <th>NA_sales</th>\n",
       "      <th>EU_sales</th>\n",
       "      <th>JP_sales</th>\n",
       "      <th>Other_sales</th>\n",
       "      <th>Critic_Score</th>\n",
       "      <th>User_Score</th>\n",
       "      <th>Rating</th>\n",
       "    </tr>\n",
       "  </thead>\n",
       "  <tbody>\n",
       "    <tr>\n",
       "      <th>183</th>\n",
       "      <td>Madden NFL 2004</td>\n",
       "      <td>PS2</td>\n",
       "      <td>NaN</td>\n",
       "      <td>Sports</td>\n",
       "      <td>4.26</td>\n",
       "      <td>0.26</td>\n",
       "      <td>0.01</td>\n",
       "      <td>0.71</td>\n",
       "      <td>94.0</td>\n",
       "      <td>8.5</td>\n",
       "      <td>E</td>\n",
       "    </tr>\n",
       "    <tr>\n",
       "      <th>377</th>\n",
       "      <td>FIFA Soccer 2004</td>\n",
       "      <td>PS2</td>\n",
       "      <td>NaN</td>\n",
       "      <td>Sports</td>\n",
       "      <td>0.59</td>\n",
       "      <td>2.36</td>\n",
       "      <td>0.04</td>\n",
       "      <td>0.51</td>\n",
       "      <td>84.0</td>\n",
       "      <td>6.4</td>\n",
       "      <td>E</td>\n",
       "    </tr>\n",
       "    <tr>\n",
       "      <th>456</th>\n",
       "      <td>LEGO Batman: The Videogame</td>\n",
       "      <td>Wii</td>\n",
       "      <td>NaN</td>\n",
       "      <td>Action</td>\n",
       "      <td>1.80</td>\n",
       "      <td>0.97</td>\n",
       "      <td>0.00</td>\n",
       "      <td>0.29</td>\n",
       "      <td>74.0</td>\n",
       "      <td>7.9</td>\n",
       "      <td>E10+</td>\n",
       "    </tr>\n",
       "    <tr>\n",
       "      <th>475</th>\n",
       "      <td>wwe Smackdown vs. Raw 2006</td>\n",
       "      <td>PS2</td>\n",
       "      <td>NaN</td>\n",
       "      <td>Fighting</td>\n",
       "      <td>1.57</td>\n",
       "      <td>1.02</td>\n",
       "      <td>0.00</td>\n",
       "      <td>0.41</td>\n",
       "      <td>NaN</td>\n",
       "      <td>NaN</td>\n",
       "      <td>NaN</td>\n",
       "    </tr>\n",
       "    <tr>\n",
       "      <th>609</th>\n",
       "      <td>Space Invaders</td>\n",
       "      <td>2600</td>\n",
       "      <td>NaN</td>\n",
       "      <td>Shooter</td>\n",
       "      <td>2.36</td>\n",
       "      <td>0.14</td>\n",
       "      <td>0.00</td>\n",
       "      <td>0.03</td>\n",
       "      <td>NaN</td>\n",
       "      <td>NaN</td>\n",
       "      <td>NaN</td>\n",
       "    </tr>\n",
       "    <tr>\n",
       "      <th>...</th>\n",
       "      <td>...</td>\n",
       "      <td>...</td>\n",
       "      <td>...</td>\n",
       "      <td>...</td>\n",
       "      <td>...</td>\n",
       "      <td>...</td>\n",
       "      <td>...</td>\n",
       "      <td>...</td>\n",
       "      <td>...</td>\n",
       "      <td>...</td>\n",
       "      <td>...</td>\n",
       "    </tr>\n",
       "    <tr>\n",
       "      <th>16373</th>\n",
       "      <td>PDC World Championship Darts 2008</td>\n",
       "      <td>PSP</td>\n",
       "      <td>NaN</td>\n",
       "      <td>Sports</td>\n",
       "      <td>0.01</td>\n",
       "      <td>0.00</td>\n",
       "      <td>0.00</td>\n",
       "      <td>0.00</td>\n",
       "      <td>43.0</td>\n",
       "      <td>tbd</td>\n",
       "      <td>E10+</td>\n",
       "    </tr>\n",
       "    <tr>\n",
       "      <th>16405</th>\n",
       "      <td>Freaky Flyers</td>\n",
       "      <td>GC</td>\n",
       "      <td>NaN</td>\n",
       "      <td>Racing</td>\n",
       "      <td>0.01</td>\n",
       "      <td>0.00</td>\n",
       "      <td>0.00</td>\n",
       "      <td>0.00</td>\n",
       "      <td>69.0</td>\n",
       "      <td>6.5</td>\n",
       "      <td>T</td>\n",
       "    </tr>\n",
       "    <tr>\n",
       "      <th>16448</th>\n",
       "      <td>Inversion</td>\n",
       "      <td>PC</td>\n",
       "      <td>NaN</td>\n",
       "      <td>Shooter</td>\n",
       "      <td>0.01</td>\n",
       "      <td>0.00</td>\n",
       "      <td>0.00</td>\n",
       "      <td>0.00</td>\n",
       "      <td>59.0</td>\n",
       "      <td>6.7</td>\n",
       "      <td>M</td>\n",
       "    </tr>\n",
       "    <tr>\n",
       "      <th>16458</th>\n",
       "      <td>Hakuouki: Shinsengumi Kitan</td>\n",
       "      <td>PS3</td>\n",
       "      <td>NaN</td>\n",
       "      <td>Adventure</td>\n",
       "      <td>0.01</td>\n",
       "      <td>0.00</td>\n",
       "      <td>0.00</td>\n",
       "      <td>0.00</td>\n",
       "      <td>NaN</td>\n",
       "      <td>NaN</td>\n",
       "      <td>NaN</td>\n",
       "    </tr>\n",
       "    <tr>\n",
       "      <th>16522</th>\n",
       "      <td>Virtua Quest</td>\n",
       "      <td>GC</td>\n",
       "      <td>NaN</td>\n",
       "      <td>Role-Playing</td>\n",
       "      <td>0.01</td>\n",
       "      <td>0.00</td>\n",
       "      <td>0.00</td>\n",
       "      <td>0.00</td>\n",
       "      <td>55.0</td>\n",
       "      <td>5.5</td>\n",
       "      <td>T</td>\n",
       "    </tr>\n",
       "  </tbody>\n",
       "</table>\n",
       "<p>269 rows × 11 columns</p>\n",
       "</div>"
      ],
      "text/plain": [
       "                                    Name Platform  Year_of_Release  \\\n",
       "183                      Madden NFL 2004      PS2              NaN   \n",
       "377                     FIFA Soccer 2004      PS2              NaN   \n",
       "456           LEGO Batman: The Videogame      Wii              NaN   \n",
       "475           wwe Smackdown vs. Raw 2006      PS2              NaN   \n",
       "609                       Space Invaders     2600              NaN   \n",
       "...                                  ...      ...              ...   \n",
       "16373  PDC World Championship Darts 2008      PSP              NaN   \n",
       "16405                      Freaky Flyers       GC              NaN   \n",
       "16448                          Inversion       PC              NaN   \n",
       "16458        Hakuouki: Shinsengumi Kitan      PS3              NaN   \n",
       "16522                       Virtua Quest       GC              NaN   \n",
       "\n",
       "              Genre  NA_sales  EU_sales  JP_sales  Other_sales  Critic_Score  \\\n",
       "183          Sports      4.26      0.26      0.01         0.71          94.0   \n",
       "377          Sports      0.59      2.36      0.04         0.51          84.0   \n",
       "456          Action      1.80      0.97      0.00         0.29          74.0   \n",
       "475        Fighting      1.57      1.02      0.00         0.41           NaN   \n",
       "609         Shooter      2.36      0.14      0.00         0.03           NaN   \n",
       "...             ...       ...       ...       ...          ...           ...   \n",
       "16373        Sports      0.01      0.00      0.00         0.00          43.0   \n",
       "16405        Racing      0.01      0.00      0.00         0.00          69.0   \n",
       "16448       Shooter      0.01      0.00      0.00         0.00          59.0   \n",
       "16458     Adventure      0.01      0.00      0.00         0.00           NaN   \n",
       "16522  Role-Playing      0.01      0.00      0.00         0.00          55.0   \n",
       "\n",
       "      User_Score Rating  \n",
       "183          8.5      E  \n",
       "377          6.4      E  \n",
       "456          7.9   E10+  \n",
       "475          NaN    NaN  \n",
       "609          NaN    NaN  \n",
       "...          ...    ...  \n",
       "16373        tbd   E10+  \n",
       "16405        6.5      T  \n",
       "16448        6.7      M  \n",
       "16458        NaN    NaN  \n",
       "16522        5.5      T  \n",
       "\n",
       "[269 rows x 11 columns]"
      ]
     },
     "execution_count": 13,
     "metadata": {},
     "output_type": "execute_result"
    }
   ],
   "source": [
    "games[games['Year_of_Release'].isna()]"
   ]
  },
  {
   "cell_type": "code",
   "execution_count": 14,
   "metadata": {},
   "outputs": [
    {
     "data": {
      "text/plain": [
       "0"
      ]
     },
     "execution_count": 14,
     "metadata": {},
     "output_type": "execute_result"
    }
   ],
   "source": [
    "games.duplicated().sum()"
   ]
  },
  {
   "cell_type": "markdown",
   "metadata": {},
   "source": [
    "Большое количество данных пропущено в столбцах Critic_Score, Rating, User_score, будем с этим разбираться далее"
   ]
  },
  {
   "cell_type": "code",
   "execution_count": 15,
   "metadata": {
    "scrolled": true
   },
   "outputs": [
    {
     "data": {
      "text/plain": [
       "Index(['name', 'platform', 'year_of_release', 'genre', 'na_sales', 'eu_sales',\n",
       "       'jp_sales', 'other_sales', 'critic_score', 'user_score', 'rating'],\n",
       "      dtype='object')"
      ]
     },
     "execution_count": 15,
     "metadata": {},
     "output_type": "execute_result"
    }
   ],
   "source": [
    "# Приведем все столбцы к нижнему регистру\n",
    "games.columns = games.columns.str.lower()\n",
    "games.columns"
   ]
  },
  {
   "cell_type": "code",
   "execution_count": 16,
   "metadata": {},
   "outputs": [],
   "source": [
    "# Проведем очистку необходимую данных\n",
    "games = games.dropna(subset=['name']).reset_index(drop=True)\n",
    "games = games.dropna(subset=['year_of_release']).reset_index(drop=True)\n",
    "games['critic_score'] = games['critic_score'].fillna('-10')\n",
    "# заменим значение \"tbd\" на NaN\n",
    "games['user_score'] = games['user_score'].replace(\"tbd\", np.NaN)\n",
    "games['user_score'] = games['user_score'].fillna('-10')"
   ]
  },
  {
   "cell_type": "code",
   "execution_count": 17,
   "metadata": {
    "scrolled": false
   },
   "outputs": [
    {
     "name": "stdout",
     "output_type": "stream",
     "text": [
      "<class 'pandas.core.frame.DataFrame'>\n",
      "RangeIndex: 16444 entries, 0 to 16443\n",
      "Data columns (total 11 columns):\n",
      " #   Column           Non-Null Count  Dtype  \n",
      "---  ------           --------------  -----  \n",
      " 0   name             16444 non-null  object \n",
      " 1   platform         16444 non-null  object \n",
      " 2   year_of_release  16444 non-null  int64  \n",
      " 3   genre            16444 non-null  object \n",
      " 4   na_sales         16444 non-null  float64\n",
      " 5   eu_sales         16444 non-null  float64\n",
      " 6   jp_sales         16444 non-null  float64\n",
      " 7   other_sales      16444 non-null  float64\n",
      " 8   critic_score     16444 non-null  int64  \n",
      " 9   user_score       16444 non-null  float64\n",
      " 10  rating           9768 non-null   object \n",
      "dtypes: float64(5), int64(2), object(4)\n",
      "memory usage: 1.4+ MB\n"
     ]
    }
   ],
   "source": [
    "# Приведем данные к соответсвующему типу\n",
    "games['year_of_release'] = games['year_of_release'].astype('int64')\n",
    "games['user_score'] = games['user_score'].astype('float')\n",
    "games['critic_score'] = games['critic_score'].astype('int64')\n",
    "games.info()"
   ]
  },
  {
   "cell_type": "code",
   "execution_count": 18,
   "metadata": {},
   "outputs": [],
   "source": [
    "games['rating'] = games['rating'].fillna('no rating')"
   ]
  },
  {
   "cell_type": "markdown",
   "metadata": {},
   "source": [
    "**Все необходимые преобразования были выполнены**"
   ]
  },
  {
   "cell_type": "code",
   "execution_count": 19,
   "metadata": {},
   "outputs": [
    {
     "data": {
      "text/html": [
       "<div>\n",
       "<style scoped>\n",
       "    .dataframe tbody tr th:only-of-type {\n",
       "        vertical-align: middle;\n",
       "    }\n",
       "\n",
       "    .dataframe tbody tr th {\n",
       "        vertical-align: top;\n",
       "    }\n",
       "\n",
       "    .dataframe thead th {\n",
       "        text-align: right;\n",
       "    }\n",
       "</style>\n",
       "<table border=\"1\" class=\"dataframe\">\n",
       "  <thead>\n",
       "    <tr style=\"text-align: right;\">\n",
       "      <th></th>\n",
       "      <th>name</th>\n",
       "      <th>platform</th>\n",
       "      <th>year_of_release</th>\n",
       "      <th>genre</th>\n",
       "      <th>na_sales</th>\n",
       "      <th>eu_sales</th>\n",
       "      <th>jp_sales</th>\n",
       "      <th>other_sales</th>\n",
       "      <th>critic_score</th>\n",
       "      <th>user_score</th>\n",
       "      <th>rating</th>\n",
       "      <th>total_sales</th>\n",
       "    </tr>\n",
       "  </thead>\n",
       "  <tbody>\n",
       "    <tr>\n",
       "      <th>0</th>\n",
       "      <td>Wii Sports</td>\n",
       "      <td>Wii</td>\n",
       "      <td>2006</td>\n",
       "      <td>Sports</td>\n",
       "      <td>41.36</td>\n",
       "      <td>28.96</td>\n",
       "      <td>3.77</td>\n",
       "      <td>8.45</td>\n",
       "      <td>76</td>\n",
       "      <td>8.0</td>\n",
       "      <td>E</td>\n",
       "      <td>82.54</td>\n",
       "    </tr>\n",
       "    <tr>\n",
       "      <th>1</th>\n",
       "      <td>Super Mario Bros.</td>\n",
       "      <td>NES</td>\n",
       "      <td>1985</td>\n",
       "      <td>Platform</td>\n",
       "      <td>29.08</td>\n",
       "      <td>3.58</td>\n",
       "      <td>6.81</td>\n",
       "      <td>0.77</td>\n",
       "      <td>-10</td>\n",
       "      <td>-10.0</td>\n",
       "      <td>no rating</td>\n",
       "      <td>40.24</td>\n",
       "    </tr>\n",
       "    <tr>\n",
       "      <th>2</th>\n",
       "      <td>Mario Kart Wii</td>\n",
       "      <td>Wii</td>\n",
       "      <td>2008</td>\n",
       "      <td>Racing</td>\n",
       "      <td>15.68</td>\n",
       "      <td>12.76</td>\n",
       "      <td>3.79</td>\n",
       "      <td>3.29</td>\n",
       "      <td>82</td>\n",
       "      <td>8.3</td>\n",
       "      <td>E</td>\n",
       "      <td>35.52</td>\n",
       "    </tr>\n",
       "    <tr>\n",
       "      <th>3</th>\n",
       "      <td>Wii Sports Resort</td>\n",
       "      <td>Wii</td>\n",
       "      <td>2009</td>\n",
       "      <td>Sports</td>\n",
       "      <td>15.61</td>\n",
       "      <td>10.93</td>\n",
       "      <td>3.28</td>\n",
       "      <td>2.95</td>\n",
       "      <td>80</td>\n",
       "      <td>8.0</td>\n",
       "      <td>E</td>\n",
       "      <td>32.77</td>\n",
       "    </tr>\n",
       "    <tr>\n",
       "      <th>4</th>\n",
       "      <td>Pokemon Red/Pokemon Blue</td>\n",
       "      <td>GB</td>\n",
       "      <td>1996</td>\n",
       "      <td>Role-Playing</td>\n",
       "      <td>11.27</td>\n",
       "      <td>8.89</td>\n",
       "      <td>10.22</td>\n",
       "      <td>1.00</td>\n",
       "      <td>-10</td>\n",
       "      <td>-10.0</td>\n",
       "      <td>no rating</td>\n",
       "      <td>31.38</td>\n",
       "    </tr>\n",
       "  </tbody>\n",
       "</table>\n",
       "</div>"
      ],
      "text/plain": [
       "                       name platform  year_of_release         genre  na_sales  \\\n",
       "0                Wii Sports      Wii             2006        Sports     41.36   \n",
       "1         Super Mario Bros.      NES             1985      Platform     29.08   \n",
       "2            Mario Kart Wii      Wii             2008        Racing     15.68   \n",
       "3         Wii Sports Resort      Wii             2009        Sports     15.61   \n",
       "4  Pokemon Red/Pokemon Blue       GB             1996  Role-Playing     11.27   \n",
       "\n",
       "   eu_sales  jp_sales  other_sales  critic_score  user_score     rating  \\\n",
       "0     28.96      3.77         8.45            76         8.0          E   \n",
       "1      3.58      6.81         0.77           -10       -10.0  no rating   \n",
       "2     12.76      3.79         3.29            82         8.3          E   \n",
       "3     10.93      3.28         2.95            80         8.0          E   \n",
       "4      8.89     10.22         1.00           -10       -10.0  no rating   \n",
       "\n",
       "   total_sales  \n",
       "0        82.54  \n",
       "1        40.24  \n",
       "2        35.52  \n",
       "3        32.77  \n",
       "4        31.38  "
      ]
     },
     "execution_count": 19,
     "metadata": {},
     "output_type": "execute_result"
    }
   ],
   "source": [
    "games['total_sales'] = games['na_sales'] + games['eu_sales'] + games['jp_sales'] + games['other_sales']\n",
    "games.head(5)"
   ]
  },
  {
   "cell_type": "markdown",
   "metadata": {},
   "source": [
    "**Вывод:** Привели названия столбцов к нижнему регистру, удалили пропущенные данные в year_of_release и name, так как их меньше 10%, они не повлияют на качество данных, а также для изменения типов данных добавили значения \"-10\" (маркер) для оценок критиков и юзеров. TBD был заменен на Nan, так как это схожий для анализа показатель."
   ]
  },
  {
   "cell_type": "markdown",
   "metadata": {},
   "source": [
    "## Исследовательский анализ данных:"
   ]
  },
  {
   "cell_type": "markdown",
   "metadata": {},
   "source": [
    "Посмотрим, сколько игр выпускались в каждый год"
   ]
  },
  {
   "cell_type": "code",
   "execution_count": 20,
   "metadata": {},
   "outputs": [
    {
     "data": {
      "image/png": "[encoded data removed]",
      "text/plain": [
       "<Figure size 432x288 with 1 Axes>"
      ]
     },
     "metadata": {
      "needs_background": "light"
     },
     "output_type": "display_data"
    }
   ],
   "source": [
    "year_of_release_pivot_table = pd.pivot_table(games, index='year_of_release', values='name', aggfunc='count')\n",
    "year_of_release_pivot_table.columns = ['games_sum']\n",
    "year_of_release_pivot_table.plot();"
   ]
  },
  {
   "cell_type": "markdown",
   "metadata": {},
   "source": [
    "Большинство продаж игр пришлось на период после 2000 года, когда начался бум компьютерной техники, максимум приходится на 2008-2009 года. Таким образом, все периоды не важны для анализа."
   ]
  },
  {
   "cell_type": "code",
   "execution_count": 21,
   "metadata": {},
   "outputs": [
    {
     "data": {
      "image/png": "[encoded data removed]",
      "text/plain": [
       "<Figure size 1080x360 with 1 Axes>"
      ]
     },
     "metadata": {
      "needs_background": "light"
     },
     "output_type": "display_data"
    }
   ],
   "source": [
    "#выберем ТОП-10 игровых платформ\n",
    "platform_sales_pivot_table = (games.pivot_table(index='platform', values='total_sales', aggfunc='sum').sort_values('total_sales', ascending=False))\n",
    "platform_sales_pivot_table_top = platform_sales_pivot_table.iloc[0:10]\n",
    "platform_sales_pivot_table_top.plot(kind='bar', figsize=(15,5));"
   ]
  },
  {
   "cell_type": "markdown",
   "metadata": {},
   "source": [
    "Наиболее популярной платформой является PS2, далее с небольшим отставанием идут XBOX360 и PS3"
   ]
  },
  {
   "cell_type": "code",
   "execution_count": 22,
   "metadata": {
    "scrolled": false
   },
   "outputs": [
    {
     "name": "stdout",
     "output_type": "stream",
     "text": [
      "PS2\n"
     ]
    },
    {
     "data": {
      "image/png": "[encoded data removed]",
      "text/plain": [
       "<Figure size 432x288 with 1 Axes>"
      ]
     },
     "metadata": {
      "needs_background": "light"
     },
     "output_type": "display_data"
    },
    {
     "name": "stdout",
     "output_type": "stream",
     "text": [
      "X360\n"
     ]
    },
    {
     "data": {
      "image/png": "[encoded data removed]",
      "text/plain": [
       "<Figure size 432x288 with 1 Axes>"
      ]
     },
     "metadata": {
      "needs_background": "light"
     },
     "output_type": "display_data"
    },
    {
     "name": "stdout",
     "output_type": "stream",
     "text": [
      "PS3\n"
     ]
    },
    {
     "data": {
      "image/png": "[encoded data removed]",
      "text/plain": [
       "<Figure size 432x288 with 1 Axes>"
      ]
     },
     "metadata": {
      "needs_background": "light"
     },
     "output_type": "display_data"
    },
    {
     "name": "stdout",
     "output_type": "stream",
     "text": [
      "Wii\n"
     ]
    },
    {
     "data": {
      "image/png": "[encoded data removed]",
      "text/plain": [
       "<Figure size 432x288 with 1 Axes>"
      ]
     },
     "metadata": {
      "needs_background": "light"
     },
     "output_type": "display_data"
    },
    {
     "name": "stdout",
     "output_type": "stream",
     "text": [
      "DS\n"
     ]
    },
    {
     "data": {
      "image/png": "[encoded data removed]",
      "text/plain": [
       "<Figure size 432x288 with 1 Axes>"
      ]
     },
     "metadata": {
      "needs_background": "light"
     },
     "output_type": "display_data"
    },
    {
     "name": "stdout",
     "output_type": "stream",
     "text": [
      "PS\n"
     ]
    },
    {
     "data": {
      "image/png": "[encoded data removed]",
      "text/plain": [
       "<Figure size 432x288 with 1 Axes>"
      ]
     },
     "metadata": {
      "needs_background": "light"
     },
     "output_type": "display_data"
    },
    {
     "name": "stdout",
     "output_type": "stream",
     "text": [
      "PS4\n"
     ]
    },
    {
     "data": {
      "image/png": "[encoded data removed]",
      "text/plain": [
       "<Figure size 432x288 with 1 Axes>"
      ]
     },
     "metadata": {
      "needs_background": "light"
     },
     "output_type": "display_data"
    },
    {
     "name": "stdout",
     "output_type": "stream",
     "text": [
      "GBA\n"
     ]
    },
    {
     "data": {
      "image/png": "[encoded data removed]",
      "text/plain": [
       "<Figure size 432x288 with 1 Axes>"
      ]
     },
     "metadata": {
      "needs_background": "light"
     },
     "output_type": "display_data"
    },
    {
     "name": "stdout",
     "output_type": "stream",
     "text": [
      "PSP\n"
     ]
    },
    {
     "data": {
      "image/png": "[encoded data removed]",
      "text/plain": [
       "<Figure size 432x288 with 1 Axes>"
      ]
     },
     "metadata": {
      "needs_background": "light"
     },
     "output_type": "display_data"
    },
    {
     "name": "stdout",
     "output_type": "stream",
     "text": [
      "3DS\n"
     ]
    },
    {
     "data": {
      "image/png": "[encoded data removed]",
      "text/plain": [
       "<Figure size 432x288 with 1 Axes>"
      ]
     },
     "metadata": {
      "needs_background": "light"
     },
     "output_type": "display_data"
    }
   ],
   "source": [
    "for platform in platform_sales_pivot_table_top.index[:10]:\n",
    "    print(platform)\n",
    "    (games.query('platform == @platform').pivot_table(index='year_of_release', values='total_sales', aggfunc='sum').plot(kind='bar'))\n",
    "    plt.show()"
   ]
  },
  {
   "cell_type": "markdown",
   "metadata": {},
   "source": [
    "**Вывод:** По графикам видно, что среднее время жизни многих платформ составляет 10 лет."
   ]
  },
  {
   "cell_type": "markdown",
   "metadata": {},
   "source": [
    "Для решения следующей задачи необходимо взять период с 2005 года как актуальный (для прогноза возьмем 10-летний период + неполные данные за 2016 год)"
   ]
  },
  {
   "cell_type": "code",
   "execution_count": 23,
   "metadata": {},
   "outputs": [
    {
     "data": {
      "text/html": [
       "<div>\n",
       "<style scoped>\n",
       "    .dataframe tbody tr th:only-of-type {\n",
       "        vertical-align: middle;\n",
       "    }\n",
       "\n",
       "    .dataframe tbody tr th {\n",
       "        vertical-align: top;\n",
       "    }\n",
       "\n",
       "    .dataframe thead th {\n",
       "        text-align: right;\n",
       "    }\n",
       "</style>\n",
       "<table border=\"1\" class=\"dataframe\">\n",
       "  <thead>\n",
       "    <tr style=\"text-align: right;\">\n",
       "      <th></th>\n",
       "      <th>name</th>\n",
       "      <th>platform</th>\n",
       "      <th>year_of_release</th>\n",
       "      <th>genre</th>\n",
       "      <th>na_sales</th>\n",
       "      <th>eu_sales</th>\n",
       "      <th>jp_sales</th>\n",
       "      <th>other_sales</th>\n",
       "      <th>critic_score</th>\n",
       "      <th>user_score</th>\n",
       "      <th>rating</th>\n",
       "      <th>total_sales</th>\n",
       "    </tr>\n",
       "  </thead>\n",
       "  <tbody>\n",
       "    <tr>\n",
       "      <th>16</th>\n",
       "      <td>Grand Theft Auto V</td>\n",
       "      <td>PS3</td>\n",
       "      <td>2013</td>\n",
       "      <td>Action</td>\n",
       "      <td>7.02</td>\n",
       "      <td>9.09</td>\n",
       "      <td>0.98</td>\n",
       "      <td>3.96</td>\n",
       "      <td>97</td>\n",
       "      <td>8.2</td>\n",
       "      <td>M</td>\n",
       "      <td>21.05</td>\n",
       "    </tr>\n",
       "    <tr>\n",
       "      <th>23</th>\n",
       "      <td>Grand Theft Auto V</td>\n",
       "      <td>X360</td>\n",
       "      <td>2013</td>\n",
       "      <td>Action</td>\n",
       "      <td>9.66</td>\n",
       "      <td>5.14</td>\n",
       "      <td>0.06</td>\n",
       "      <td>1.41</td>\n",
       "      <td>97</td>\n",
       "      <td>8.1</td>\n",
       "      <td>M</td>\n",
       "      <td>16.27</td>\n",
       "    </tr>\n",
       "    <tr>\n",
       "      <th>31</th>\n",
       "      <td>Call of Duty: Black Ops 3</td>\n",
       "      <td>PS4</td>\n",
       "      <td>2015</td>\n",
       "      <td>Shooter</td>\n",
       "      <td>6.03</td>\n",
       "      <td>5.86</td>\n",
       "      <td>0.36</td>\n",
       "      <td>2.38</td>\n",
       "      <td>-10</td>\n",
       "      <td>-10.0</td>\n",
       "      <td>no rating</td>\n",
       "      <td>14.63</td>\n",
       "    </tr>\n",
       "    <tr>\n",
       "      <th>33</th>\n",
       "      <td>Pokemon X/Pokemon Y</td>\n",
       "      <td>3DS</td>\n",
       "      <td>2013</td>\n",
       "      <td>Role-Playing</td>\n",
       "      <td>5.28</td>\n",
       "      <td>4.19</td>\n",
       "      <td>4.35</td>\n",
       "      <td>0.78</td>\n",
       "      <td>-10</td>\n",
       "      <td>-10.0</td>\n",
       "      <td>no rating</td>\n",
       "      <td>14.60</td>\n",
       "    </tr>\n",
       "    <tr>\n",
       "      <th>42</th>\n",
       "      <td>Grand Theft Auto V</td>\n",
       "      <td>PS4</td>\n",
       "      <td>2014</td>\n",
       "      <td>Action</td>\n",
       "      <td>3.96</td>\n",
       "      <td>6.31</td>\n",
       "      <td>0.38</td>\n",
       "      <td>1.97</td>\n",
       "      <td>97</td>\n",
       "      <td>8.3</td>\n",
       "      <td>M</td>\n",
       "      <td>12.62</td>\n",
       "    </tr>\n",
       "    <tr>\n",
       "      <th>...</th>\n",
       "      <td>...</td>\n",
       "      <td>...</td>\n",
       "      <td>...</td>\n",
       "      <td>...</td>\n",
       "      <td>...</td>\n",
       "      <td>...</td>\n",
       "      <td>...</td>\n",
       "      <td>...</td>\n",
       "      <td>...</td>\n",
       "      <td>...</td>\n",
       "      <td>...</td>\n",
       "      <td>...</td>\n",
       "    </tr>\n",
       "    <tr>\n",
       "      <th>16432</th>\n",
       "      <td>Strawberry Nauts</td>\n",
       "      <td>PSV</td>\n",
       "      <td>2016</td>\n",
       "      <td>Adventure</td>\n",
       "      <td>0.00</td>\n",
       "      <td>0.00</td>\n",
       "      <td>0.01</td>\n",
       "      <td>0.00</td>\n",
       "      <td>-10</td>\n",
       "      <td>-10.0</td>\n",
       "      <td>no rating</td>\n",
       "      <td>0.01</td>\n",
       "    </tr>\n",
       "    <tr>\n",
       "      <th>16436</th>\n",
       "      <td>Aiyoku no Eustia</td>\n",
       "      <td>PSV</td>\n",
       "      <td>2014</td>\n",
       "      <td>Misc</td>\n",
       "      <td>0.00</td>\n",
       "      <td>0.00</td>\n",
       "      <td>0.01</td>\n",
       "      <td>0.00</td>\n",
       "      <td>-10</td>\n",
       "      <td>-10.0</td>\n",
       "      <td>no rating</td>\n",
       "      <td>0.01</td>\n",
       "    </tr>\n",
       "    <tr>\n",
       "      <th>16439</th>\n",
       "      <td>Samurai Warriors: Sanada Maru</td>\n",
       "      <td>PS3</td>\n",
       "      <td>2016</td>\n",
       "      <td>Action</td>\n",
       "      <td>0.00</td>\n",
       "      <td>0.00</td>\n",
       "      <td>0.01</td>\n",
       "      <td>0.00</td>\n",
       "      <td>-10</td>\n",
       "      <td>-10.0</td>\n",
       "      <td>no rating</td>\n",
       "      <td>0.01</td>\n",
       "    </tr>\n",
       "    <tr>\n",
       "      <th>16441</th>\n",
       "      <td>Haitaka no Psychedelica</td>\n",
       "      <td>PSV</td>\n",
       "      <td>2016</td>\n",
       "      <td>Adventure</td>\n",
       "      <td>0.00</td>\n",
       "      <td>0.00</td>\n",
       "      <td>0.01</td>\n",
       "      <td>0.00</td>\n",
       "      <td>-10</td>\n",
       "      <td>-10.0</td>\n",
       "      <td>no rating</td>\n",
       "      <td>0.01</td>\n",
       "    </tr>\n",
       "    <tr>\n",
       "      <th>16443</th>\n",
       "      <td>Winning Post 8 2016</td>\n",
       "      <td>PSV</td>\n",
       "      <td>2016</td>\n",
       "      <td>Simulation</td>\n",
       "      <td>0.00</td>\n",
       "      <td>0.00</td>\n",
       "      <td>0.01</td>\n",
       "      <td>0.00</td>\n",
       "      <td>-10</td>\n",
       "      <td>-10.0</td>\n",
       "      <td>no rating</td>\n",
       "      <td>0.01</td>\n",
       "    </tr>\n",
       "  </tbody>\n",
       "</table>\n",
       "<p>2233 rows × 12 columns</p>\n",
       "</div>"
      ],
      "text/plain": [
       "                                name platform  year_of_release         genre  \\\n",
       "16                Grand Theft Auto V      PS3             2013        Action   \n",
       "23                Grand Theft Auto V     X360             2013        Action   \n",
       "31         Call of Duty: Black Ops 3      PS4             2015       Shooter   \n",
       "33               Pokemon X/Pokemon Y      3DS             2013  Role-Playing   \n",
       "42                Grand Theft Auto V      PS4             2014        Action   \n",
       "...                              ...      ...              ...           ...   \n",
       "16432               Strawberry Nauts      PSV             2016     Adventure   \n",
       "16436               Aiyoku no Eustia      PSV             2014          Misc   \n",
       "16439  Samurai Warriors: Sanada Maru      PS3             2016        Action   \n",
       "16441        Haitaka no Psychedelica      PSV             2016     Adventure   \n",
       "16443            Winning Post 8 2016      PSV             2016    Simulation   \n",
       "\n",
       "       na_sales  eu_sales  jp_sales  other_sales  critic_score  user_score  \\\n",
       "16         7.02      9.09      0.98         3.96            97         8.2   \n",
       "23         9.66      5.14      0.06         1.41            97         8.1   \n",
       "31         6.03      5.86      0.36         2.38           -10       -10.0   \n",
       "33         5.28      4.19      4.35         0.78           -10       -10.0   \n",
       "42         3.96      6.31      0.38         1.97            97         8.3   \n",
       "...         ...       ...       ...          ...           ...         ...   \n",
       "16432      0.00      0.00      0.01         0.00           -10       -10.0   \n",
       "16436      0.00      0.00      0.01         0.00           -10       -10.0   \n",
       "16439      0.00      0.00      0.01         0.00           -10       -10.0   \n",
       "16441      0.00      0.00      0.01         0.00           -10       -10.0   \n",
       "16443      0.00      0.00      0.01         0.00           -10       -10.0   \n",
       "\n",
       "          rating  total_sales  \n",
       "16             M        21.05  \n",
       "23             M        16.27  \n",
       "31     no rating        14.63  \n",
       "33     no rating        14.60  \n",
       "42             M        12.62  \n",
       "...          ...          ...  \n",
       "16432  no rating         0.01  \n",
       "16436  no rating         0.01  \n",
       "16439  no rating         0.01  \n",
       "16441  no rating         0.01  \n",
       "16443  no rating         0.01  \n",
       "\n",
       "[2233 rows x 12 columns]"
      ]
     },
     "execution_count": 23,
     "metadata": {},
     "output_type": "execute_result"
    }
   ],
   "source": [
    "analized_data = games.query('year_of_release >= 2013')\n",
    "analized_data"
   ]
  },
  {
   "cell_type": "code",
   "execution_count": 24,
   "metadata": {
    "scrolled": false
   },
   "outputs": [
    {
     "data": {
      "image/png": "[encoded data removed]",
      "text/plain": [
       "<Figure size 1080x360 with 1 Axes>"
      ]
     },
     "metadata": {
      "needs_background": "light"
     },
     "output_type": "display_data"
    }
   ],
   "source": [
    "# ТОП-10 в выбранный период\n",
    "platform_sales_new_pivot_table = (analized_data.pivot_table(index='platform', values='total_sales', aggfunc='sum').sort_values('total_sales', ascending=False))\n",
    "platform_sales_new_pivot_table_top = platform_sales_new_pivot_table.iloc[0:10]\n",
    "platform_sales_new_pivot_table_top.plot(kind='bar', figsize=(15,5));"
   ]
  },
  {
   "cell_type": "code",
   "execution_count": 25,
   "metadata": {
    "scrolled": false
   },
   "outputs": [
    {
     "name": "stdout",
     "output_type": "stream",
     "text": [
      "PS4\n"
     ]
    },
    {
     "data": {
      "image/png": "[encoded data removed]",
      "text/plain": [
       "<Figure size 432x288 with 1 Axes>"
      ]
     },
     "metadata": {
      "needs_background": "light"
     },
     "output_type": "display_data"
    },
    {
     "name": "stdout",
     "output_type": "stream",
     "text": [
      "PS3\n"
     ]
    },
    {
     "data": {
      "image/png": "[encoded data removed]",
      "text/plain": [
       "<Figure size 432x288 with 1 Axes>"
      ]
     },
     "metadata": {
      "needs_background": "light"
     },
     "output_type": "display_data"
    },
    {
     "name": "stdout",
     "output_type": "stream",
     "text": [
      "XOne\n"
     ]
    },
    {
     "data": {
      "image/png": "[encoded data removed]",
      "text/plain": [
       "<Figure size 432x288 with 1 Axes>"
      ]
     },
     "metadata": {
      "needs_background": "light"
     },
     "output_type": "display_data"
    },
    {
     "name": "stdout",
     "output_type": "stream",
     "text": [
      "3DS\n"
     ]
    },
    {
     "data": {
      "image/png": "[encoded data removed]",
      "text/plain": [
       "<Figure size 432x288 with 1 Axes>"
      ]
     },
     "metadata": {
      "needs_background": "light"
     },
     "output_type": "display_data"
    },
    {
     "name": "stdout",
     "output_type": "stream",
     "text": [
      "X360\n"
     ]
    },
    {
     "data": {
      "image/png": "[encoded data removed]",
      "text/plain": [
       "<Figure size 432x288 with 1 Axes>"
      ]
     },
     "metadata": {
      "needs_background": "light"
     },
     "output_type": "display_data"
    },
    {
     "name": "stdout",
     "output_type": "stream",
     "text": [
      "WiiU\n"
     ]
    },
    {
     "data": {
      "image/png": "[encoded data removed]",
      "text/plain": [
       "<Figure size 432x288 with 1 Axes>"
      ]
     },
     "metadata": {
      "needs_background": "light"
     },
     "output_type": "display_data"
    },
    {
     "name": "stdout",
     "output_type": "stream",
     "text": [
      "PC\n"
     ]
    },
    {
     "data": {
      "image/png": "[encoded data removed]",
      "text/plain": [
       "<Figure size 432x288 with 1 Axes>"
      ]
     },
     "metadata": {
      "needs_background": "light"
     },
     "output_type": "display_data"
    },
    {
     "name": "stdout",
     "output_type": "stream",
     "text": [
      "PSV\n"
     ]
    },
    {
     "data": {
      "image/png": "[encoded data removed]",
      "text/plain": [
       "<Figure size 432x288 with 1 Axes>"
      ]
     },
     "metadata": {
      "needs_background": "light"
     },
     "output_type": "display_data"
    },
    {
     "name": "stdout",
     "output_type": "stream",
     "text": [
      "Wii\n"
     ]
    },
    {
     "data": {
      "image/png": "[encoded data removed]",
      "text/plain": [
       "<Figure size 432x288 with 1 Axes>"
      ]
     },
     "metadata": {
      "needs_background": "light"
     },
     "output_type": "display_data"
    },
    {
     "name": "stdout",
     "output_type": "stream",
     "text": [
      "PSP\n"
     ]
    },
    {
     "data": {
      "image/png": "[encoded data removed]",
      "text/plain": [
       "<Figure size 432x288 with 1 Axes>"
      ]
     },
     "metadata": {
      "needs_background": "light"
     },
     "output_type": "display_data"
    }
   ],
   "source": [
    "for platform in platform_sales_new_pivot_table_top.index[:10]:\n",
    "    print(platform)\n",
    "    (analized_data.query('platform == @platform').pivot_table(index='year_of_release', values='total_sales', aggfunc='sum').plot(kind='bar'))\n",
    "    plt.show()"
   ]
  },
  {
   "cell_type": "markdown",
   "metadata": {},
   "source": [
    "Выделив период анализа, мы наблюдаем, что в лидеры по продажам вырываются более новые модели, которые являлись актуальными в разные периоды отмеченного временного интервала. Мы видим, что продажи  игр для Xbox и PS3 и Wii выросли, в то время как продажи игр для PS2 сущетсственно упали, так как она перестала быть лидером, что закономерно (появилась более новая модель Playstation). По графикам можно сделать выавод, что потенциально прибыльными можно назвать игры для  PS4 (новая модель), а также игры для РС как наиболее стабильный вариант, а также, если настроить маркетинг , то игры для Xone смогут выстрелить в 2017 году"
   ]
  },
  {
   "cell_type": "markdown",
   "metadata": {},
   "source": [
    "\n",
    "В выбранный период наиболее популярными платформами являются PS4, PS3 и Xone. Продажи таких платформ как PS2, X360 существенно упали, так как период их актуальности либо закончился, либо подходит к концу. Новые модели, очевидно, выбиваются в лидеры по продажам в выбранный для анализа период. Перспективой на 2017 год можно назвать Xone, PC и PS4</b> \n"
   ]
  },
  {
   "cell_type": "code",
   "execution_count": 26,
   "metadata": {
    "scrolled": false
   },
   "outputs": [
    {
     "data": {
      "text/html": [
       "<div>\n",
       "<style scoped>\n",
       "    .dataframe tbody tr th:only-of-type {\n",
       "        vertical-align: middle;\n",
       "    }\n",
       "\n",
       "    .dataframe tbody tr th {\n",
       "        vertical-align: top;\n",
       "    }\n",
       "\n",
       "    .dataframe thead th {\n",
       "        text-align: right;\n",
       "    }\n",
       "</style>\n",
       "<table border=\"1\" class=\"dataframe\">\n",
       "  <thead>\n",
       "    <tr style=\"text-align: right;\">\n",
       "      <th></th>\n",
       "      <th>year_of_release</th>\n",
       "      <th>na_sales</th>\n",
       "      <th>eu_sales</th>\n",
       "      <th>jp_sales</th>\n",
       "      <th>other_sales</th>\n",
       "      <th>critic_score</th>\n",
       "      <th>user_score</th>\n",
       "      <th>total_sales</th>\n",
       "    </tr>\n",
       "  </thead>\n",
       "  <tbody>\n",
       "    <tr>\n",
       "      <th>count</th>\n",
       "      <td>2233.000000</td>\n",
       "      <td>2233.000000</td>\n",
       "      <td>2233.000000</td>\n",
       "      <td>2233.000000</td>\n",
       "      <td>2233.000000</td>\n",
       "      <td>2233.000000</td>\n",
       "      <td>2233.000000</td>\n",
       "      <td>2233.000000</td>\n",
       "    </tr>\n",
       "    <tr>\n",
       "      <th>mean</th>\n",
       "      <td>2014.477385</td>\n",
       "      <td>0.196019</td>\n",
       "      <td>0.175652</td>\n",
       "      <td>0.063045</td>\n",
       "      <td>0.053726</td>\n",
       "      <td>26.401702</td>\n",
       "      <td>-1.146977</td>\n",
       "      <td>0.488442</td>\n",
       "    </tr>\n",
       "    <tr>\n",
       "      <th>std</th>\n",
       "      <td>1.089439</td>\n",
       "      <td>0.547730</td>\n",
       "      <td>0.512451</td>\n",
       "      <td>0.233997</td>\n",
       "      <td>0.165693</td>\n",
       "      <td>41.648354</td>\n",
       "      <td>8.358351</td>\n",
       "      <td>1.235226</td>\n",
       "    </tr>\n",
       "    <tr>\n",
       "      <th>min</th>\n",
       "      <td>2013.000000</td>\n",
       "      <td>0.000000</td>\n",
       "      <td>0.000000</td>\n",
       "      <td>0.000000</td>\n",
       "      <td>0.000000</td>\n",
       "      <td>-10.000000</td>\n",
       "      <td>-10.000000</td>\n",
       "      <td>0.010000</td>\n",
       "    </tr>\n",
       "    <tr>\n",
       "      <th>25%</th>\n",
       "      <td>2014.000000</td>\n",
       "      <td>0.000000</td>\n",
       "      <td>0.000000</td>\n",
       "      <td>0.000000</td>\n",
       "      <td>0.000000</td>\n",
       "      <td>-10.000000</td>\n",
       "      <td>-10.000000</td>\n",
       "      <td>0.030000</td>\n",
       "    </tr>\n",
       "    <tr>\n",
       "      <th>50%</th>\n",
       "      <td>2014.000000</td>\n",
       "      <td>0.020000</td>\n",
       "      <td>0.030000</td>\n",
       "      <td>0.010000</td>\n",
       "      <td>0.010000</td>\n",
       "      <td>-10.000000</td>\n",
       "      <td>3.500000</td>\n",
       "      <td>0.110000</td>\n",
       "    </tr>\n",
       "    <tr>\n",
       "      <th>75%</th>\n",
       "      <td>2015.000000</td>\n",
       "      <td>0.150000</td>\n",
       "      <td>0.130000</td>\n",
       "      <td>0.050000</td>\n",
       "      <td>0.040000</td>\n",
       "      <td>72.000000</td>\n",
       "      <td>7.100000</td>\n",
       "      <td>0.400000</td>\n",
       "    </tr>\n",
       "    <tr>\n",
       "      <th>max</th>\n",
       "      <td>2016.000000</td>\n",
       "      <td>9.660000</td>\n",
       "      <td>9.090000</td>\n",
       "      <td>4.350000</td>\n",
       "      <td>3.960000</td>\n",
       "      <td>97.000000</td>\n",
       "      <td>9.300000</td>\n",
       "      <td>21.050000</td>\n",
       "    </tr>\n",
       "  </tbody>\n",
       "</table>\n",
       "</div>"
      ],
      "text/plain": [
       "       year_of_release     na_sales     eu_sales     jp_sales  other_sales  \\\n",
       "count      2233.000000  2233.000000  2233.000000  2233.000000  2233.000000   \n",
       "mean       2014.477385     0.196019     0.175652     0.063045     0.053726   \n",
       "std           1.089439     0.547730     0.512451     0.233997     0.165693   \n",
       "min        2013.000000     0.000000     0.000000     0.000000     0.000000   \n",
       "25%        2014.000000     0.000000     0.000000     0.000000     0.000000   \n",
       "50%        2014.000000     0.020000     0.030000     0.010000     0.010000   \n",
       "75%        2015.000000     0.150000     0.130000     0.050000     0.040000   \n",
       "max        2016.000000     9.660000     9.090000     4.350000     3.960000   \n",
       "\n",
       "       critic_score   user_score  total_sales  \n",
       "count   2233.000000  2233.000000  2233.000000  \n",
       "mean      26.401702    -1.146977     0.488442  \n",
       "std       41.648354     8.358351     1.235226  \n",
       "min      -10.000000   -10.000000     0.010000  \n",
       "25%      -10.000000   -10.000000     0.030000  \n",
       "50%      -10.000000     3.500000     0.110000  \n",
       "75%       72.000000     7.100000     0.400000  \n",
       "max       97.000000     9.300000    21.050000  "
      ]
     },
     "execution_count": 26,
     "metadata": {},
     "output_type": "execute_result"
    },
    {
     "data": {
      "image/png": "[encoded data removed]",
      "text/plain": [
       "<Figure size 432x288 with 1 Axes>"
      ]
     },
     "metadata": {
      "needs_background": "light"
     },
     "output_type": "display_data"
    }
   ],
   "source": [
    "analized_data.pivot_table(index = 'name', columns = 'platform', values = 'total_sales', aggfunc = 'sum').plot(kind='box', ylim=(0,2))\n",
    "analized_data.describe()"
   ]
  },
  {
   "cell_type": "markdown",
   "metadata": {},
   "source": [
    "По графику \"Ящик с усами\" видно, что у многих платформ есть игры, которые выстрелили (мы их видим на выбросах), медианные продажи также отличаются, но у многих платформ находятся на приблизительно одинаковом уровне."
   ]
  },
  {
   "cell_type": "markdown",
   "metadata": {},
   "source": [
    "В качестве популярной платформы возьмем PS4 и проанализируем ее с точки зрения влияния отзывов пользователей и критиков на продажи"
   ]
  },
  {
   "cell_type": "code",
   "execution_count": 27,
   "metadata": {},
   "outputs": [
    {
     "data": {
      "text/plain": [
       "0.12490454600214035"
      ]
     },
     "execution_count": 27,
     "metadata": {},
     "output_type": "execute_result"
    },
    {
     "data": {
      "image/png": "[encoded data removed]",
      "text/plain": [
       "<Figure size 864x648 with 1 Axes>"
      ]
     },
     "metadata": {
      "needs_background": "light"
     },
     "output_type": "display_data"
    }
   ],
   "source": [
    "ps4 = analized_data.query('platform == \"PS4\"')\n",
    "ps4.plot(x = 'user_score', y = 'total_sales', kind='scatter', figsize = (12,9))\n",
    "ps4['user_score'].corr(ps4['total_sales'])"
   ]
  },
  {
   "cell_type": "code",
   "execution_count": 28,
   "metadata": {},
   "outputs": [
    {
     "data": {
      "text/plain": [
       "0.21825561124907264"
      ]
     },
     "execution_count": 28,
     "metadata": {},
     "output_type": "execute_result"
    },
    {
     "data": {
      "image/png": "[encoded data removed]",
      "text/plain": [
       "<Figure size 864x648 with 1 Axes>"
      ]
     },
     "metadata": {
      "needs_background": "light"
     },
     "output_type": "display_data"
    }
   ],
   "source": [
    "ps4 = analized_data.query('platform == \"PS4\"')\n",
    "ps4.plot(x = 'critic_score', y = 'total_sales', kind='scatter', figsize = (12,9))\n",
    "ps4['critic_score'].corr(ps4['total_sales'])"
   ]
  },
  {
   "cell_type": "markdown",
   "metadata": {},
   "source": [
    "Возможно, PS4 не самый лучший пример влияния оценок критиков и игроков на продажи, но все же она есть и равна 12-21%, что не так много, далее сравним с другими платформами (возьмем 3-4 платформы разные)"
   ]
  },
  {
   "cell_type": "code",
   "execution_count": 29,
   "metadata": {},
   "outputs": [],
   "source": [
    "pc = analized_data.query('platform == \"PC\"')\n",
    "ps3 = analized_data.query('platform == \"PS3\"')\n",
    "ds3 = analized_data.query('platform == \"3DS\"')"
   ]
  },
  {
   "cell_type": "code",
   "execution_count": 30,
   "metadata": {},
   "outputs": [
    {
     "data": {
      "text/plain": [
       "0.08188487938845665"
      ]
     },
     "execution_count": 30,
     "metadata": {},
     "output_type": "execute_result"
    },
    {
     "data": {
      "image/png": "[encoded data removed]",
      "text/plain": [
       "<Figure size 864x648 with 1 Axes>"
      ]
     },
     "metadata": {
      "needs_background": "light"
     },
     "output_type": "display_data"
    }
   ],
   "source": [
    "pc.plot(x = 'user_score', y = 'total_sales', kind='scatter', figsize = (12,9))\n",
    "pc['user_score'].corr(pc['total_sales'])\n"
   ]
  },
  {
   "cell_type": "code",
   "execution_count": 31,
   "metadata": {},
   "outputs": [
    {
     "data": {
      "text/plain": [
       "0.1811531171741326"
      ]
     },
     "execution_count": 31,
     "metadata": {},
     "output_type": "execute_result"
    },
    {
     "data": {
      "image/png": "[encoded data removed]",
      "text/plain": [
       "<Figure size 864x648 with 1 Axes>"
      ]
     },
     "metadata": {
      "needs_background": "light"
     },
     "output_type": "display_data"
    }
   ],
   "source": [
    "pc.plot(x = 'critic_score', y = 'total_sales', kind='scatter', figsize = (12,9))\n",
    "pc['critic_score'].corr(pc['total_sales'])"
   ]
  },
  {
   "cell_type": "code",
   "execution_count": 32,
   "metadata": {},
   "outputs": [
    {
     "data": {
      "text/plain": [
       "0.21550103005886811"
      ]
     },
     "execution_count": 32,
     "metadata": {},
     "output_type": "execute_result"
    },
    {
     "data": {
      "image/png": "[encoded data removed]",
      "text/plain": [
       "<Figure size 864x648 with 1 Axes>"
      ]
     },
     "metadata": {
      "needs_background": "light"
     },
     "output_type": "display_data"
    }
   ],
   "source": [
    "ps3.plot(x = 'user_score', y = 'total_sales', kind='scatter', figsize = (12,9))\n",
    "ps3['user_score'].corr(ps3['total_sales'])"
   ]
  },
  {
   "cell_type": "code",
   "execution_count": 33,
   "metadata": {},
   "outputs": [
    {
     "data": {
      "text/plain": [
       "0.27190849844468085"
      ]
     },
     "execution_count": 33,
     "metadata": {},
     "output_type": "execute_result"
    },
    {
     "data": {
      "image/png": "[encoded data removed]",
      "text/plain": [
       "<Figure size 864x648 with 1 Axes>"
      ]
     },
     "metadata": {
      "needs_background": "light"
     },
     "output_type": "display_data"
    }
   ],
   "source": [
    "ps3.plot(x = 'critic_score', y = 'total_sales', kind='scatter', figsize = (12,9))\n",
    "ps3['critic_score'].corr(ps3['total_sales'])"
   ]
  },
  {
   "cell_type": "code",
   "execution_count": 34,
   "metadata": {},
   "outputs": [
    {
     "data": {
      "text/plain": [
       "0.03729989511669204"
      ]
     },
     "execution_count": 34,
     "metadata": {},
     "output_type": "execute_result"
    },
    {
     "data": {
      "image/png": "[encoded data removed]",
      "text/plain": [
       "<Figure size 864x648 with 1 Axes>"
      ]
     },
     "metadata": {
      "needs_background": "light"
     },
     "output_type": "display_data"
    }
   ],
   "source": [
    "ds3.plot(x = 'user_score', y = 'total_sales', kind='scatter', figsize = (12,9))\n",
    "ds3['user_score'].corr(ds3['total_sales'])"
   ]
  },
  {
   "cell_type": "code",
   "execution_count": 35,
   "metadata": {},
   "outputs": [
    {
     "data": {
      "text/plain": [
       "0.058387276051007166"
      ]
     },
     "execution_count": 35,
     "metadata": {},
     "output_type": "execute_result"
    },
    {
     "data": {
      "image/png": "[encoded data removed]",
      "text/plain": [
       "<Figure size 864x648 with 1 Axes>"
      ]
     },
     "metadata": {
      "needs_background": "light"
     },
     "output_type": "display_data"
    }
   ],
   "source": [
    "ds3.plot(x = 'critic_score', y = 'total_sales', kind='scatter', figsize = (12,9))\n",
    "ds3['critic_score'].corr(ds3['total_sales'])"
   ]
  },
  {
   "cell_type": "markdown",
   "metadata": {},
   "source": [
    "На других платформах наблюдается похожая картина, что и у PS4, следовательно, оценки пользователей и критиков не так сильно влияют на продажи игр."
   ]
  },
  {
   "cell_type": "code",
   "execution_count": 36,
   "metadata": {},
   "outputs": [
    {
     "data": {
      "text/html": [
       "<div>\n",
       "<style scoped>\n",
       "    .dataframe tbody tr th:only-of-type {\n",
       "        vertical-align: middle;\n",
       "    }\n",
       "\n",
       "    .dataframe tbody tr th {\n",
       "        vertical-align: top;\n",
       "    }\n",
       "\n",
       "    .dataframe thead th {\n",
       "        text-align: right;\n",
       "    }\n",
       "</style>\n",
       "<table border=\"1\" class=\"dataframe\">\n",
       "  <thead>\n",
       "    <tr style=\"text-align: right;\">\n",
       "      <th></th>\n",
       "      <th>total_sales</th>\n",
       "    </tr>\n",
       "    <tr>\n",
       "      <th>genre</th>\n",
       "      <th></th>\n",
       "    </tr>\n",
       "  </thead>\n",
       "  <tbody>\n",
       "    <tr>\n",
       "      <th>Action</th>\n",
       "      <td>321.87</td>\n",
       "    </tr>\n",
       "    <tr>\n",
       "      <th>Shooter</th>\n",
       "      <td>232.98</td>\n",
       "    </tr>\n",
       "    <tr>\n",
       "      <th>Sports</th>\n",
       "      <td>150.65</td>\n",
       "    </tr>\n",
       "    <tr>\n",
       "      <th>Role-Playing</th>\n",
       "      <td>145.89</td>\n",
       "    </tr>\n",
       "    <tr>\n",
       "      <th>Misc</th>\n",
       "      <td>62.82</td>\n",
       "    </tr>\n",
       "    <tr>\n",
       "      <th>Platform</th>\n",
       "      <td>42.63</td>\n",
       "    </tr>\n",
       "    <tr>\n",
       "      <th>Racing</th>\n",
       "      <td>39.89</td>\n",
       "    </tr>\n",
       "    <tr>\n",
       "      <th>Fighting</th>\n",
       "      <td>35.31</td>\n",
       "    </tr>\n",
       "    <tr>\n",
       "      <th>Adventure</th>\n",
       "      <td>23.64</td>\n",
       "    </tr>\n",
       "    <tr>\n",
       "      <th>Simulation</th>\n",
       "      <td>21.76</td>\n",
       "    </tr>\n",
       "    <tr>\n",
       "      <th>Strategy</th>\n",
       "      <td>10.08</td>\n",
       "    </tr>\n",
       "    <tr>\n",
       "      <th>Puzzle</th>\n",
       "      <td>3.17</td>\n",
       "    </tr>\n",
       "  </tbody>\n",
       "</table>\n",
       "</div>"
      ],
      "text/plain": [
       "              total_sales\n",
       "genre                    \n",
       "Action             321.87\n",
       "Shooter            232.98\n",
       "Sports             150.65\n",
       "Role-Playing       145.89\n",
       "Misc                62.82\n",
       "Platform            42.63\n",
       "Racing              39.89\n",
       "Fighting            35.31\n",
       "Adventure           23.64\n",
       "Simulation          21.76\n",
       "Strategy            10.08\n",
       "Puzzle               3.17"
      ]
     },
     "execution_count": 36,
     "metadata": {},
     "output_type": "execute_result"
    }
   ],
   "source": [
    "genre_pivot_table = pd.pivot_table(analized_data, index='genre', values='total_sales', aggfunc='sum')\n",
    "genre_pivot_table.sort_values('total_sales', ascending=False)"
   ]
  },
  {
   "cell_type": "markdown",
   "metadata": {},
   "source": [
    "Самыми прибыльными жанрами являются экш, шутеры и спорт, как наиболее увлекательные для пользователя. Данные игры способны подарить игроку много эмоций, они увлекательны, в них можно потратить много часов своей жизни. Наименее популярными являются игры \"на подумать\" - стратегии и паззлы, так как они быстро надоедают и в них необходимо еще и думать, а не отдыхать во время игры. "
   ]
  },
  {
   "cell_type": "markdown",
   "metadata": {},
   "source": [
    "**Вывод:** были проанализированы выпуск игр в разные года, а также их популярность игровых платформ, был выбран актуальный период анализа, а также в рамках актуального анализа проанализировали продажи игр на разных платформах, а также корреляцию отзывово пользователей и критиков с продажами игр на разных платформах."
   ]
  },
  {
   "cell_type": "markdown",
   "metadata": {},
   "source": [
    "## Портрет пользователя:"
   ]
  },
  {
   "cell_type": "code",
   "execution_count": 37,
   "metadata": {},
   "outputs": [],
   "source": [
    "na_sales_new = analized_data.query('na_sales > 0')\n",
    "eu_sales_new = analized_data.query('eu_sales > 0')\n",
    "jp_sales_new = analized_data.query('jp_sales > 0')"
   ]
  },
  {
   "cell_type": "code",
   "execution_count": 38,
   "metadata": {},
   "outputs": [
    {
     "data": {
      "text/html": [
       "<div>\n",
       "<style scoped>\n",
       "    .dataframe tbody tr th:only-of-type {\n",
       "        vertical-align: middle;\n",
       "    }\n",
       "\n",
       "    .dataframe tbody tr th {\n",
       "        vertical-align: top;\n",
       "    }\n",
       "\n",
       "    .dataframe thead th {\n",
       "        text-align: right;\n",
       "    }\n",
       "</style>\n",
       "<table border=\"1\" class=\"dataframe\">\n",
       "  <thead>\n",
       "    <tr style=\"text-align: right;\">\n",
       "      <th></th>\n",
       "      <th>na_sales</th>\n",
       "    </tr>\n",
       "    <tr>\n",
       "      <th>platform</th>\n",
       "      <th></th>\n",
       "    </tr>\n",
       "  </thead>\n",
       "  <tbody>\n",
       "    <tr>\n",
       "      <th>PS4</th>\n",
       "      <td>108.74</td>\n",
       "    </tr>\n",
       "    <tr>\n",
       "      <th>XOne</th>\n",
       "      <td>93.12</td>\n",
       "    </tr>\n",
       "    <tr>\n",
       "      <th>X360</th>\n",
       "      <td>81.66</td>\n",
       "    </tr>\n",
       "    <tr>\n",
       "      <th>PS3</th>\n",
       "      <td>63.50</td>\n",
       "    </tr>\n",
       "    <tr>\n",
       "      <th>3DS</th>\n",
       "      <td>38.20</td>\n",
       "    </tr>\n",
       "    <tr>\n",
       "      <th>WiiU</th>\n",
       "      <td>29.21</td>\n",
       "    </tr>\n",
       "    <tr>\n",
       "      <th>PC</th>\n",
       "      <td>11.11</td>\n",
       "    </tr>\n",
       "    <tr>\n",
       "      <th>Wii</th>\n",
       "      <td>6.56</td>\n",
       "    </tr>\n",
       "    <tr>\n",
       "      <th>PSV</th>\n",
       "      <td>5.04</td>\n",
       "    </tr>\n",
       "    <tr>\n",
       "      <th>DS</th>\n",
       "      <td>0.57</td>\n",
       "    </tr>\n",
       "  </tbody>\n",
       "</table>\n",
       "</div>"
      ],
      "text/plain": [
       "          na_sales\n",
       "platform          \n",
       "PS4         108.74\n",
       "XOne         93.12\n",
       "X360         81.66\n",
       "PS3          63.50\n",
       "3DS          38.20\n",
       "WiiU         29.21\n",
       "PC           11.11\n",
       "Wii           6.56\n",
       "PSV           5.04\n",
       "DS            0.57"
      ]
     },
     "execution_count": 38,
     "metadata": {},
     "output_type": "execute_result"
    }
   ],
   "source": [
    "sales_pivot_table = pd.pivot_table(na_sales_new , index='platform', values='na_sales', aggfunc='sum')\n",
    "sales_pivot_table.sort_values('na_sales', ascending=False)"
   ]
  },
  {
   "cell_type": "code",
   "execution_count": 39,
   "metadata": {},
   "outputs": [
    {
     "data": {
      "text/html": [
       "<div>\n",
       "<style scoped>\n",
       "    .dataframe tbody tr th:only-of-type {\n",
       "        vertical-align: middle;\n",
       "    }\n",
       "\n",
       "    .dataframe tbody tr th {\n",
       "        vertical-align: top;\n",
       "    }\n",
       "\n",
       "    .dataframe thead th {\n",
       "        text-align: right;\n",
       "    }\n",
       "</style>\n",
       "<table border=\"1\" class=\"dataframe\">\n",
       "  <thead>\n",
       "    <tr style=\"text-align: right;\">\n",
       "      <th></th>\n",
       "      <th>eu_sales</th>\n",
       "    </tr>\n",
       "    <tr>\n",
       "      <th>platform</th>\n",
       "      <th></th>\n",
       "    </tr>\n",
       "  </thead>\n",
       "  <tbody>\n",
       "    <tr>\n",
       "      <th>PS4</th>\n",
       "      <td>141.09</td>\n",
       "    </tr>\n",
       "    <tr>\n",
       "      <th>PS3</th>\n",
       "      <td>67.81</td>\n",
       "    </tr>\n",
       "    <tr>\n",
       "      <th>XOne</th>\n",
       "      <td>51.59</td>\n",
       "    </tr>\n",
       "    <tr>\n",
       "      <th>X360</th>\n",
       "      <td>42.52</td>\n",
       "    </tr>\n",
       "    <tr>\n",
       "      <th>3DS</th>\n",
       "      <td>30.96</td>\n",
       "    </tr>\n",
       "    <tr>\n",
       "      <th>PC</th>\n",
       "      <td>25.36</td>\n",
       "    </tr>\n",
       "    <tr>\n",
       "      <th>WiiU</th>\n",
       "      <td>19.85</td>\n",
       "    </tr>\n",
       "    <tr>\n",
       "      <th>PSV</th>\n",
       "      <td>6.10</td>\n",
       "    </tr>\n",
       "    <tr>\n",
       "      <th>Wii</th>\n",
       "      <td>5.93</td>\n",
       "    </tr>\n",
       "    <tr>\n",
       "      <th>DS</th>\n",
       "      <td>0.85</td>\n",
       "    </tr>\n",
       "    <tr>\n",
       "      <th>PSP</th>\n",
       "      <td>0.17</td>\n",
       "    </tr>\n",
       "  </tbody>\n",
       "</table>\n",
       "</div>"
      ],
      "text/plain": [
       "          eu_sales\n",
       "platform          \n",
       "PS4         141.09\n",
       "PS3          67.81\n",
       "XOne         51.59\n",
       "X360         42.52\n",
       "3DS          30.96\n",
       "PC           25.36\n",
       "WiiU         19.85\n",
       "PSV           6.10\n",
       "Wii           5.93\n",
       "DS            0.85\n",
       "PSP           0.17"
      ]
     },
     "execution_count": 39,
     "metadata": {},
     "output_type": "execute_result"
    }
   ],
   "source": [
    "sales_pivot_table = pd.pivot_table(eu_sales_new , index='platform', values='eu_sales', aggfunc='sum')\n",
    "sales_pivot_table.sort_values('eu_sales', ascending=False)"
   ]
  },
  {
   "cell_type": "code",
   "execution_count": 40,
   "metadata": {},
   "outputs": [
    {
     "data": {
      "text/html": [
       "<div>\n",
       "<style scoped>\n",
       "    .dataframe tbody tr th:only-of-type {\n",
       "        vertical-align: middle;\n",
       "    }\n",
       "\n",
       "    .dataframe tbody tr th {\n",
       "        vertical-align: top;\n",
       "    }\n",
       "\n",
       "    .dataframe thead th {\n",
       "        text-align: right;\n",
       "    }\n",
       "</style>\n",
       "<table border=\"1\" class=\"dataframe\">\n",
       "  <thead>\n",
       "    <tr style=\"text-align: right;\">\n",
       "      <th></th>\n",
       "      <th>jp_sales</th>\n",
       "    </tr>\n",
       "    <tr>\n",
       "      <th>platform</th>\n",
       "      <th></th>\n",
       "    </tr>\n",
       "  </thead>\n",
       "  <tbody>\n",
       "    <tr>\n",
       "      <th>3DS</th>\n",
       "      <td>36.08</td>\n",
       "    </tr>\n",
       "    <tr>\n",
       "      <th>PS3</th>\n",
       "      <td>13.84</td>\n",
       "    </tr>\n",
       "    <tr>\n",
       "      <th>PS4</th>\n",
       "      <td>11.90</td>\n",
       "    </tr>\n",
       "    <tr>\n",
       "      <th>WiiU</th>\n",
       "      <td>9.79</td>\n",
       "    </tr>\n",
       "    <tr>\n",
       "      <th>PSV</th>\n",
       "      <td>6.52</td>\n",
       "    </tr>\n",
       "    <tr>\n",
       "      <th>X360</th>\n",
       "      <td>0.47</td>\n",
       "    </tr>\n",
       "    <tr>\n",
       "      <th>XOne</th>\n",
       "      <td>0.33</td>\n",
       "    </tr>\n",
       "    <tr>\n",
       "      <th>PSP</th>\n",
       "      <td>0.14</td>\n",
       "    </tr>\n",
       "    <tr>\n",
       "      <th>DS</th>\n",
       "      <td>0.00</td>\n",
       "    </tr>\n",
       "    <tr>\n",
       "      <th>PC</th>\n",
       "      <td>0.00</td>\n",
       "    </tr>\n",
       "    <tr>\n",
       "      <th>Wii</th>\n",
       "      <td>0.00</td>\n",
       "    </tr>\n",
       "  </tbody>\n",
       "</table>\n",
       "</div>"
      ],
      "text/plain": [
       "          jp_sales\n",
       "platform          \n",
       "3DS          36.08\n",
       "PS3          13.84\n",
       "PS4          11.90\n",
       "WiiU          9.79\n",
       "PSV           6.52\n",
       "X360          0.47\n",
       "XOne          0.33\n",
       "PSP           0.14\n",
       "DS            0.00\n",
       "PC            0.00\n",
       "Wii           0.00"
      ]
     },
     "execution_count": 40,
     "metadata": {},
     "output_type": "execute_result"
    }
   ],
   "source": [
    "sales_pivot_table = pd.pivot_table(eu_sales_new , index='platform', values='jp_sales', aggfunc='sum')\n",
    "sales_pivot_table.sort_values('jp_sales', ascending=False)"
   ]
  },
  {
   "cell_type": "markdown",
   "metadata": {},
   "source": [
    "Северная Америка и Европа близки по ТОПу использования платформ, но все же отличия мы можем наблоюдать. Так в Европе и США лидирует PS4, однако на 2 месте в США - Xone (в Европе- PS3), на 3 месте в США - Х360 (в Европе - Xone). В Японии лидерами являются 3DS, PS3 и PS4."
   ]
  },
  {
   "cell_type": "code",
   "execution_count": 41,
   "metadata": {},
   "outputs": [
    {
     "data": {
      "text/html": [
       "<div>\n",
       "<style scoped>\n",
       "    .dataframe tbody tr th:only-of-type {\n",
       "        vertical-align: middle;\n",
       "    }\n",
       "\n",
       "    .dataframe tbody tr th {\n",
       "        vertical-align: top;\n",
       "    }\n",
       "\n",
       "    .dataframe thead th {\n",
       "        text-align: right;\n",
       "    }\n",
       "</style>\n",
       "<table border=\"1\" class=\"dataframe\">\n",
       "  <thead>\n",
       "    <tr style=\"text-align: right;\">\n",
       "      <th></th>\n",
       "      <th>na_sales</th>\n",
       "    </tr>\n",
       "    <tr>\n",
       "      <th>genre</th>\n",
       "      <th></th>\n",
       "    </tr>\n",
       "  </thead>\n",
       "  <tbody>\n",
       "    <tr>\n",
       "      <th>Action</th>\n",
       "      <td>126.05</td>\n",
       "    </tr>\n",
       "    <tr>\n",
       "      <th>Shooter</th>\n",
       "      <td>109.74</td>\n",
       "    </tr>\n",
       "    <tr>\n",
       "      <th>Sports</th>\n",
       "      <td>65.27</td>\n",
       "    </tr>\n",
       "    <tr>\n",
       "      <th>Role-Playing</th>\n",
       "      <td>46.40</td>\n",
       "    </tr>\n",
       "    <tr>\n",
       "      <th>Misc</th>\n",
       "      <td>27.49</td>\n",
       "    </tr>\n",
       "    <tr>\n",
       "      <th>Platform</th>\n",
       "      <td>18.14</td>\n",
       "    </tr>\n",
       "    <tr>\n",
       "      <th>Fighting</th>\n",
       "      <td>15.55</td>\n",
       "    </tr>\n",
       "    <tr>\n",
       "      <th>Racing</th>\n",
       "      <td>12.96</td>\n",
       "    </tr>\n",
       "    <tr>\n",
       "      <th>Adventure</th>\n",
       "      <td>7.14</td>\n",
       "    </tr>\n",
       "    <tr>\n",
       "      <th>Simulation</th>\n",
       "      <td>4.86</td>\n",
       "    </tr>\n",
       "    <tr>\n",
       "      <th>Strategy</th>\n",
       "      <td>3.28</td>\n",
       "    </tr>\n",
       "    <tr>\n",
       "      <th>Puzzle</th>\n",
       "      <td>0.83</td>\n",
       "    </tr>\n",
       "  </tbody>\n",
       "</table>\n",
       "</div>"
      ],
      "text/plain": [
       "              na_sales\n",
       "genre                 \n",
       "Action          126.05\n",
       "Shooter         109.74\n",
       "Sports           65.27\n",
       "Role-Playing     46.40\n",
       "Misc             27.49\n",
       "Platform         18.14\n",
       "Fighting         15.55\n",
       "Racing           12.96\n",
       "Adventure         7.14\n",
       "Simulation        4.86\n",
       "Strategy          3.28\n",
       "Puzzle            0.83"
      ]
     },
     "execution_count": 41,
     "metadata": {},
     "output_type": "execute_result"
    }
   ],
   "source": [
    "genres_pivot_table = pd.pivot_table(na_sales_new , index='genre', values='na_sales', aggfunc='sum')\n",
    "genres_pivot_table.sort_values('na_sales', ascending=False)"
   ]
  },
  {
   "cell_type": "code",
   "execution_count": 42,
   "metadata": {},
   "outputs": [
    {
     "data": {
      "text/html": [
       "<div>\n",
       "<style scoped>\n",
       "    .dataframe tbody tr th:only-of-type {\n",
       "        vertical-align: middle;\n",
       "    }\n",
       "\n",
       "    .dataframe tbody tr th {\n",
       "        vertical-align: top;\n",
       "    }\n",
       "\n",
       "    .dataframe thead th {\n",
       "        text-align: right;\n",
       "    }\n",
       "</style>\n",
       "<table border=\"1\" class=\"dataframe\">\n",
       "  <thead>\n",
       "    <tr style=\"text-align: right;\">\n",
       "      <th></th>\n",
       "      <th>eu_sales</th>\n",
       "    </tr>\n",
       "    <tr>\n",
       "      <th>genre</th>\n",
       "      <th></th>\n",
       "    </tr>\n",
       "  </thead>\n",
       "  <tbody>\n",
       "    <tr>\n",
       "      <th>Action</th>\n",
       "      <td>118.13</td>\n",
       "    </tr>\n",
       "    <tr>\n",
       "      <th>Shooter</th>\n",
       "      <td>87.86</td>\n",
       "    </tr>\n",
       "    <tr>\n",
       "      <th>Sports</th>\n",
       "      <td>60.52</td>\n",
       "    </tr>\n",
       "    <tr>\n",
       "      <th>Role-Playing</th>\n",
       "      <td>36.97</td>\n",
       "    </tr>\n",
       "    <tr>\n",
       "      <th>Racing</th>\n",
       "      <td>20.19</td>\n",
       "    </tr>\n",
       "    <tr>\n",
       "      <th>Misc</th>\n",
       "      <td>20.04</td>\n",
       "    </tr>\n",
       "    <tr>\n",
       "      <th>Platform</th>\n",
       "      <td>15.58</td>\n",
       "    </tr>\n",
       "    <tr>\n",
       "      <th>Simulation</th>\n",
       "      <td>10.92</td>\n",
       "    </tr>\n",
       "    <tr>\n",
       "      <th>Fighting</th>\n",
       "      <td>8.55</td>\n",
       "    </tr>\n",
       "    <tr>\n",
       "      <th>Adventure</th>\n",
       "      <td>8.25</td>\n",
       "    </tr>\n",
       "    <tr>\n",
       "      <th>Strategy</th>\n",
       "      <td>4.22</td>\n",
       "    </tr>\n",
       "    <tr>\n",
       "      <th>Puzzle</th>\n",
       "      <td>1.00</td>\n",
       "    </tr>\n",
       "  </tbody>\n",
       "</table>\n",
       "</div>"
      ],
      "text/plain": [
       "              eu_sales\n",
       "genre                 \n",
       "Action          118.13\n",
       "Shooter          87.86\n",
       "Sports           60.52\n",
       "Role-Playing     36.97\n",
       "Racing           20.19\n",
       "Misc             20.04\n",
       "Platform         15.58\n",
       "Simulation       10.92\n",
       "Fighting          8.55\n",
       "Adventure         8.25\n",
       "Strategy          4.22\n",
       "Puzzle            1.00"
      ]
     },
     "execution_count": 42,
     "metadata": {},
     "output_type": "execute_result"
    }
   ],
   "source": [
    "genres_pivot_table = pd.pivot_table(eu_sales_new , index='genre', values='eu_sales', aggfunc='sum')\n",
    "genres_pivot_table.sort_values('eu_sales', ascending=False)"
   ]
  },
  {
   "cell_type": "code",
   "execution_count": 43,
   "metadata": {},
   "outputs": [
    {
     "data": {
      "text/html": [
       "<div>\n",
       "<style scoped>\n",
       "    .dataframe tbody tr th:only-of-type {\n",
       "        vertical-align: middle;\n",
       "    }\n",
       "\n",
       "    .dataframe tbody tr th {\n",
       "        vertical-align: top;\n",
       "    }\n",
       "\n",
       "    .dataframe thead th {\n",
       "        text-align: right;\n",
       "    }\n",
       "</style>\n",
       "<table border=\"1\" class=\"dataframe\">\n",
       "  <thead>\n",
       "    <tr style=\"text-align: right;\">\n",
       "      <th></th>\n",
       "      <th>jp_sales</th>\n",
       "    </tr>\n",
       "    <tr>\n",
       "      <th>genre</th>\n",
       "      <th></th>\n",
       "    </tr>\n",
       "  </thead>\n",
       "  <tbody>\n",
       "    <tr>\n",
       "      <th>Role-Playing</th>\n",
       "      <td>51.04</td>\n",
       "    </tr>\n",
       "    <tr>\n",
       "      <th>Action</th>\n",
       "      <td>40.49</td>\n",
       "    </tr>\n",
       "    <tr>\n",
       "      <th>Misc</th>\n",
       "      <td>9.20</td>\n",
       "    </tr>\n",
       "    <tr>\n",
       "      <th>Fighting</th>\n",
       "      <td>7.65</td>\n",
       "    </tr>\n",
       "    <tr>\n",
       "      <th>Shooter</th>\n",
       "      <td>6.61</td>\n",
       "    </tr>\n",
       "    <tr>\n",
       "      <th>Adventure</th>\n",
       "      <td>5.82</td>\n",
       "    </tr>\n",
       "    <tr>\n",
       "      <th>Sports</th>\n",
       "      <td>5.41</td>\n",
       "    </tr>\n",
       "    <tr>\n",
       "      <th>Platform</th>\n",
       "      <td>4.79</td>\n",
       "    </tr>\n",
       "    <tr>\n",
       "      <th>Simulation</th>\n",
       "      <td>4.52</td>\n",
       "    </tr>\n",
       "    <tr>\n",
       "      <th>Racing</th>\n",
       "      <td>2.30</td>\n",
       "    </tr>\n",
       "    <tr>\n",
       "      <th>Strategy</th>\n",
       "      <td>1.77</td>\n",
       "    </tr>\n",
       "    <tr>\n",
       "      <th>Puzzle</th>\n",
       "      <td>1.18</td>\n",
       "    </tr>\n",
       "  </tbody>\n",
       "</table>\n",
       "</div>"
      ],
      "text/plain": [
       "              jp_sales\n",
       "genre                 \n",
       "Role-Playing     51.04\n",
       "Action           40.49\n",
       "Misc              9.20\n",
       "Fighting          7.65\n",
       "Shooter           6.61\n",
       "Adventure         5.82\n",
       "Sports            5.41\n",
       "Platform          4.79\n",
       "Simulation        4.52\n",
       "Racing            2.30\n",
       "Strategy          1.77\n",
       "Puzzle            1.18"
      ]
     },
     "execution_count": 43,
     "metadata": {},
     "output_type": "execute_result"
    }
   ],
   "source": [
    "genres_pivot_table = pd.pivot_table(jp_sales_new , index='genre', values='jp_sales', aggfunc='sum')\n",
    "genres_pivot_table.sort_values('jp_sales', ascending=False)"
   ]
  },
  {
   "cell_type": "markdown",
   "metadata": {},
   "source": [
    "По жанрам-лидерам Северная Америка и Европа абсолютно схожи, в них лидируют Action, Shooter  и Sports. В Японии иные жанры - Role-Plsying, Action и Misc."
   ]
  },
  {
   "cell_type": "code",
   "execution_count": 44,
   "metadata": {},
   "outputs": [
    {
     "data": {
      "text/html": [
       "<div>\n",
       "<style scoped>\n",
       "    .dataframe tbody tr th:only-of-type {\n",
       "        vertical-align: middle;\n",
       "    }\n",
       "\n",
       "    .dataframe tbody tr th {\n",
       "        vertical-align: top;\n",
       "    }\n",
       "\n",
       "    .dataframe thead th {\n",
       "        text-align: right;\n",
       "    }\n",
       "</style>\n",
       "<table border=\"1\" class=\"dataframe\">\n",
       "  <thead>\n",
       "    <tr style=\"text-align: right;\">\n",
       "      <th></th>\n",
       "      <th>eu_sales</th>\n",
       "      <th>jp_sales</th>\n",
       "      <th>na_sales</th>\n",
       "    </tr>\n",
       "    <tr>\n",
       "      <th>rating</th>\n",
       "      <th></th>\n",
       "      <th></th>\n",
       "      <th></th>\n",
       "    </tr>\n",
       "  </thead>\n",
       "  <tbody>\n",
       "    <tr>\n",
       "      <th>E</th>\n",
       "      <td>83.36</td>\n",
       "      <td>15.14</td>\n",
       "      <td>79.05</td>\n",
       "    </tr>\n",
       "    <tr>\n",
       "      <th>E10+</th>\n",
       "      <td>42.69</td>\n",
       "      <td>5.89</td>\n",
       "      <td>54.24</td>\n",
       "    </tr>\n",
       "    <tr>\n",
       "      <th>M</th>\n",
       "      <td>145.32</td>\n",
       "      <td>14.11</td>\n",
       "      <td>165.21</td>\n",
       "    </tr>\n",
       "    <tr>\n",
       "      <th>T</th>\n",
       "      <td>41.95</td>\n",
       "      <td>20.59</td>\n",
       "      <td>49.79</td>\n",
       "    </tr>\n",
       "    <tr>\n",
       "      <th>no rating</th>\n",
       "      <td>78.91</td>\n",
       "      <td>85.05</td>\n",
       "      <td>89.42</td>\n",
       "    </tr>\n",
       "  </tbody>\n",
       "</table>\n",
       "</div>"
      ],
      "text/plain": [
       "           eu_sales  jp_sales  na_sales\n",
       "rating                                 \n",
       "E             83.36     15.14     79.05\n",
       "E10+          42.69      5.89     54.24\n",
       "M            145.32     14.11    165.21\n",
       "T             41.95     20.59     49.79\n",
       "no rating     78.91     85.05     89.42"
      ]
     },
     "execution_count": 44,
     "metadata": {},
     "output_type": "execute_result"
    }
   ],
   "source": [
    "esrb = analized_data.pivot_table(index = 'rating', values = ['na_sales','eu_sales','jp_sales'], aggfunc = 'sum')\n",
    "esrb"
   ]
  },
  {
   "cell_type": "markdown",
   "metadata": {},
   "source": [
    "В поле рейтинг была добавлена \"заглушка\", мы видим, что у нас в данных очень много пропусков, что не позволяет объективно оценить влияние рейтинга ESRB на продажи в регионах. No rating может означать отсутсвие рейтинга, либо некорректность заполнения данных, при этом ее роль довольно велика. По тем данным, что у нас есть, можно сказать, в Европе и США в основном влияет рейтиг М, остальные рейтинги не сильно влияют на продажи, в Японии на рейтинг вообще не обращают внимание"
   ]
  },
  {
   "cell_type": "markdown",
   "metadata": {},
   "source": [
    "**Выводы:** В данной разделе нами были проанализированы потребители видеоигр в 3 регионах мира. Так, потребители в Северной Америке и Европы довольно схожи по ТОПу использования игровых платформ, а также жанров и рейтингов. В Японии клиенты игр отличаются от европейцев и американцев как по игровым платформам, так и по жанрам, так и по использованию рейтинга ESRB при покупке игр."
   ]
  },
  {
   "cell_type": "markdown",
   "metadata": {},
   "source": [
    "## Проверка гипотез"
   ]
  },
  {
   "cell_type": "markdown",
   "metadata": {},
   "source": [
    " - Н0: средние пользовательские рейтинги платформ Xbox One и PC одинаковые\n",
    " - Н1: средние пользовательские рейтинги платформ Xbox One и PC не одинаковые"
   ]
  },
  {
   "cell_type": "code",
   "execution_count": 45,
   "metadata": {},
   "outputs": [],
   "source": [
    "analized_data = analized_data[analized_data['user_score'] != -10]\n",
    "analized_data = analized_data[analized_data['critic_score'] != -10]"
   ]
  },
  {
   "cell_type": "code",
   "execution_count": 46,
   "metadata": {},
   "outputs": [
    {
     "name": "stdout",
     "output_type": "stream",
     "text": [
      "6.538181818181818\n",
      "6.3020270270270276\n",
      "p-значение: 0.17882648263401307\n",
      "Не получилось отвергнуть нулевую гипотезу\n"
     ]
    }
   ],
   "source": [
    "print(analized_data.query('platform == \"XOne\"')['user_score'].mean())\n",
    "print(analized_data.query('platform == \"PC\"')['user_score'].mean())\n",
    "results = st.ttest_ind(\n",
    "    analized_data.query('platform == \"XOne\"')['user_score'], \n",
    "    analized_data.query('platform == \"PC\"')['user_score'], \n",
    "    equal_var=False)\n",
    "alpha = 0.05\n",
    "print('p-значение:', results.pvalue)\n",
    "\n",
    "if results.pvalue < alpha:\n",
    "    print(\"Отвергаем нулевую гипотезу\")\n",
    "else:\n",
    "    print(\"Не получилось отвергнуть нулевую гипотезу\")"
   ]
  },
  {
   "cell_type": "markdown",
   "metadata": {},
   "source": [
    " - Н0: Средние пользовательские рейтинги жанров Action (англ. «действие», экшен-игры) и Sports (англ. «спортивные соревнования») одинаковые\n",
    " - Н1: Средние пользовательские рейтинги жанров Action (англ. «действие», экшен-игры) и Sports (англ. «спортивные соревнования») разные"
   ]
  },
  {
   "cell_type": "code",
   "execution_count": 47,
   "metadata": {},
   "outputs": [
    {
     "name": "stdout",
     "output_type": "stream",
     "text": [
      "6.9362459546925574\n",
      "5.665454545454545\n",
      "p-значение: 1.0496920005008588e-13\n",
      "Отвергаем нулевую гипотезу\n"
     ]
    }
   ],
   "source": [
    "print(analized_data.query('genre == \"Action\"')['user_score'].mean())\n",
    "print(analized_data.query('genre == \"Sports\"')['user_score'].mean())\n",
    "\n",
    "results = st.ttest_ind(\n",
    "    analized_data.query('genre == \"Action\"')['user_score'], \n",
    "    analized_data.query('genre == \"Sports\"')['user_score'], \n",
    "    equal_var=False)\n",
    "\n",
    "alpha = 0.05\n",
    "print('p-значение:', results.pvalue)\n",
    "\n",
    "if results.pvalue < alpha:\n",
    "    print(\"Отвергаем нулевую гипотезу\")\n",
    "else:\n",
    "    print(\"Не получилось отвергнуть нулевую гипотезу\")"
   ]
  },
  {
   "cell_type": "markdown",
   "metadata": {},
   "source": [
    "**Вывод:** по результатам двух тестов (Т-критерий Стьюдента в обоих случаях - так как сравнивали среднее в 2-ух выборках) при значимости в 95% в период с 2013 года делаем вывод, что средние пользовательские рейтинги платформ Xbox One и PC равны, а вот средние пользовательские рейтинги жанров Action (англ. «действие», экшен-игры) и Sports (англ. «спортивные соревнования») разные. "
   ]
  },
  {
   "cell_type": "markdown",
   "metadata": {},
   "source": [
    "## Выводы"
   ]
  },
  {
   "cell_type": "markdown",
   "metadata": {},
   "source": [
    "Проект включал в себя следующие шаги и их результаты:\n",
    "\n",
    "1. Просмотрена таблица, выявлены аномалии и пропущенные значения.\n",
    "2. Проведена предобработка таблицы: замена столбцов, заполнение пропусков, удаление дубликатов и т.д.\n",
    "3. Проведен исследовательский анализ данных\n",
    "4. Составлены портреты пользователей для купных регионов продаж.\n",
    "5. Выполнены проверки гипотез."
   ]
  },
  {
   "cell_type": "markdown",
   "metadata": {},
   "source": [
    " - Резкий рост выпуска игр приходится на 2000 год, а пик на 2008-2009.\n",
    " - Срок жизни большиснтва платформ - 10 лет, однако для прогнозирования необходимо брать период в 2-3 года, что мы и сделали -  взяли период с 2013 года, включая неполные данные за 2016.\n",
    " - Потенциально прибыльные платформы - PS4, XOne, РС\n",
    " - Почти у всех платформ есть игры, которые были в топе у юзеров (хайпанули).\n",
    " - Оценки критиков и игроков очень слабо влияют на общие продажи\n",
    " - Больше всего игр жанра Action, Sports и Shooter\n",
    " - Северная Америка и Европа близки по вкусам к платформам и жанрам, Япония существенно отличается\n"
   ]
  },
  {
   "cell_type": "markdown",
   "metadata": {},
   "source": [
    " - Американец: чаще всего играет в PS4 и игры жанра Action\n",
    " - Европеец: чаще всего играет PS4  и игры в жанре Action\n",
    " - Японец: чаще всего играет 3DS  и игры в жанре Role-playing"
   ]
  },
  {
   "cell_type": "markdown",
   "metadata": {},
   "source": [
    " - Средние пользовательские оценки Xone и PC одинаковые\n",
    " - Средние пользовательские оценки Action и Sports разные"
   ]
  }
 ],
 "metadata": {
  "ExecuteTimeLog": [
   {
    "duration": 852,
    "start_time": "2022-10-19T15:20:21.071Z"
   },
   {
    "duration": 70,
    "start_time": "2022-10-19T15:20:21.925Z"
   },
   {
    "duration": 16,
    "start_time": "2022-10-19T15:20:31.026Z"
   },
   {
    "duration": 21,
    "start_time": "2022-10-19T15:21:51.654Z"
   },
   {
    "duration": 1771,
    "start_time": "2022-10-19T15:24:54.215Z"
   },
   {
    "duration": 4,
    "start_time": "2022-10-19T15:25:48.528Z"
   },
   {
    "duration": 169,
    "start_time": "2022-10-19T15:26:04.296Z"
   },
   {
    "duration": 5,
    "start_time": "2022-10-19T15:26:24.168Z"
   },
   {
    "duration": 146,
    "start_time": "2022-10-19T15:26:27.566Z"
   },
   {
    "duration": 51,
    "start_time": "2022-10-19T15:35:45.940Z"
   },
   {
    "duration": 2,
    "start_time": "2022-10-19T15:36:47.016Z"
   },
   {
    "duration": 816,
    "start_time": "2022-10-19T16:32:24.015Z"
   },
   {
    "duration": 38,
    "start_time": "2022-10-19T16:32:24.833Z"
   },
   {
    "duration": 15,
    "start_time": "2022-10-19T16:32:24.873Z"
   },
   {
    "duration": 27,
    "start_time": "2022-10-19T16:32:24.890Z"
   },
   {
    "duration": 930,
    "start_time": "2022-10-19T16:32:24.920Z"
   },
   {
    "duration": 4,
    "start_time": "2022-10-19T16:32:25.851Z"
   },
   {
    "duration": 178,
    "start_time": "2022-10-19T16:32:25.857Z"
   },
   {
    "duration": 87,
    "start_time": "2022-10-19T16:32:26.036Z"
   },
   {
    "duration": 15,
    "start_time": "2022-10-19T16:32:38.646Z"
   },
   {
    "duration": 4,
    "start_time": "2022-10-19T16:35:44.560Z"
   },
   {
    "duration": 10,
    "start_time": "2022-10-19T16:39:54.607Z"
   },
   {
    "duration": 15,
    "start_time": "2022-10-19T16:42:25.493Z"
   },
   {
    "duration": 4,
    "start_time": "2022-10-19T16:43:03.941Z"
   },
   {
    "duration": 13,
    "start_time": "2022-10-19T16:43:07.237Z"
   },
   {
    "duration": 988,
    "start_time": "2022-10-19T16:44:46.388Z"
   },
   {
    "duration": 818,
    "start_time": "2022-10-19T16:45:05.591Z"
   },
   {
    "duration": 37,
    "start_time": "2022-10-19T16:45:06.411Z"
   },
   {
    "duration": 13,
    "start_time": "2022-10-19T16:45:06.449Z"
   },
   {
    "duration": 17,
    "start_time": "2022-10-19T16:45:06.463Z"
   },
   {
    "duration": 880,
    "start_time": "2022-10-19T16:45:06.482Z"
   },
   {
    "duration": 4,
    "start_time": "2022-10-19T16:45:07.364Z"
   },
   {
    "duration": 156,
    "start_time": "2022-10-19T16:45:07.369Z"
   },
   {
    "duration": 9,
    "start_time": "2022-10-19T16:45:07.526Z"
   },
   {
    "duration": 15,
    "start_time": "2022-10-19T16:45:07.536Z"
   },
   {
    "duration": 19,
    "start_time": "2022-10-19T16:45:07.553Z"
   },
   {
    "duration": 7,
    "start_time": "2022-10-19T16:45:07.573Z"
   },
   {
    "duration": 90,
    "start_time": "2022-10-19T16:45:07.582Z"
   },
   {
    "duration": 1757,
    "start_time": "2022-10-19T16:45:42.715Z"
   },
   {
    "duration": 809,
    "start_time": "2022-10-19T16:45:50.613Z"
   },
   {
    "duration": 43,
    "start_time": "2022-10-19T16:45:51.424Z"
   },
   {
    "duration": 13,
    "start_time": "2022-10-19T16:45:51.469Z"
   },
   {
    "duration": 21,
    "start_time": "2022-10-19T16:45:51.484Z"
   },
   {
    "duration": 917,
    "start_time": "2022-10-19T16:45:51.507Z"
   },
   {
    "duration": 4,
    "start_time": "2022-10-19T16:45:52.425Z"
   },
   {
    "duration": 155,
    "start_time": "2022-10-19T16:45:52.431Z"
   },
   {
    "duration": 15,
    "start_time": "2022-10-19T16:45:52.587Z"
   },
   {
    "duration": 17,
    "start_time": "2022-10-19T16:45:52.603Z"
   },
   {
    "duration": 25,
    "start_time": "2022-10-19T16:45:52.622Z"
   },
   {
    "duration": 2,
    "start_time": "2022-10-19T16:45:52.648Z"
   },
   {
    "duration": 857,
    "start_time": "2022-10-19T16:45:52.652Z"
   },
   {
    "duration": 0,
    "start_time": "2022-10-19T16:45:53.511Z"
   },
   {
    "duration": 23,
    "start_time": "2022-10-19T16:46:37.917Z"
   },
   {
    "duration": 25,
    "start_time": "2022-10-19T16:47:24.392Z"
   },
   {
    "duration": 19,
    "start_time": "2022-10-19T16:48:29.328Z"
   },
   {
    "duration": 19,
    "start_time": "2022-10-19T16:48:43.255Z"
   },
   {
    "duration": 876,
    "start_time": "2022-10-19T16:48:53.377Z"
   },
   {
    "duration": 40,
    "start_time": "2022-10-19T16:48:54.255Z"
   },
   {
    "duration": 13,
    "start_time": "2022-10-19T16:48:54.297Z"
   },
   {
    "duration": 19,
    "start_time": "2022-10-19T16:48:54.312Z"
   },
   {
    "duration": 967,
    "start_time": "2022-10-19T16:48:54.333Z"
   },
   {
    "duration": 4,
    "start_time": "2022-10-19T16:48:55.301Z"
   },
   {
    "duration": 161,
    "start_time": "2022-10-19T16:48:55.306Z"
   },
   {
    "duration": 8,
    "start_time": "2022-10-19T16:48:55.468Z"
   },
   {
    "duration": 23,
    "start_time": "2022-10-19T16:48:55.477Z"
   },
   {
    "duration": 20,
    "start_time": "2022-10-19T16:48:55.502Z"
   },
   {
    "duration": 18,
    "start_time": "2022-10-19T16:48:55.523Z"
   },
   {
    "duration": 16,
    "start_time": "2022-10-19T16:48:55.543Z"
   },
   {
    "duration": 40,
    "start_time": "2022-10-19T16:48:55.561Z"
   },
   {
    "duration": 2,
    "start_time": "2022-10-19T16:48:55.602Z"
   },
   {
    "duration": 919,
    "start_time": "2022-10-19T16:48:55.606Z"
   },
   {
    "duration": 0,
    "start_time": "2022-10-19T16:48:56.527Z"
   },
   {
    "duration": 1004,
    "start_time": "2022-10-19T16:49:20.694Z"
   },
   {
    "duration": 19,
    "start_time": "2022-10-19T16:49:37.789Z"
   },
   {
    "duration": 19,
    "start_time": "2022-10-19T16:49:44.109Z"
   },
   {
    "duration": 4,
    "start_time": "2022-10-19T16:51:01.011Z"
   },
   {
    "duration": 5,
    "start_time": "2022-10-19T16:51:03.477Z"
   },
   {
    "duration": 15,
    "start_time": "2022-10-19T16:51:09.599Z"
   },
   {
    "duration": 2,
    "start_time": "2022-10-19T16:51:18.743Z"
   },
   {
    "duration": 4,
    "start_time": "2022-10-19T16:52:17.184Z"
   },
   {
    "duration": 4,
    "start_time": "2022-10-19T16:53:25.897Z"
   },
   {
    "duration": 4,
    "start_time": "2022-10-19T16:54:03.786Z"
   },
   {
    "duration": 8,
    "start_time": "2022-10-19T16:54:14.700Z"
   },
   {
    "duration": 4,
    "start_time": "2022-10-19T16:54:23.555Z"
   },
   {
    "duration": 14,
    "start_time": "2022-10-19T16:55:22.459Z"
   },
   {
    "duration": 15,
    "start_time": "2022-10-19T16:55:55.051Z"
   },
   {
    "duration": 13,
    "start_time": "2022-10-19T16:56:04.683Z"
   },
   {
    "duration": 5,
    "start_time": "2022-10-19T16:59:12.322Z"
   },
   {
    "duration": 860,
    "start_time": "2022-10-19T17:07:40.206Z"
   },
   {
    "duration": 899,
    "start_time": "2022-10-19T17:07:51.898Z"
   },
   {
    "duration": 6,
    "start_time": "2022-10-19T17:08:23.357Z"
   },
   {
    "duration": 13,
    "start_time": "2022-10-19T17:09:08.434Z"
   },
   {
    "duration": 5,
    "start_time": "2022-10-19T17:09:28.187Z"
   },
   {
    "duration": 14,
    "start_time": "2022-10-19T17:09:39.073Z"
   },
   {
    "duration": 3,
    "start_time": "2022-10-19T17:09:49.615Z"
   },
   {
    "duration": 32,
    "start_time": "2022-10-19T17:11:08.354Z"
   },
   {
    "duration": 13,
    "start_time": "2022-10-19T17:12:54.734Z"
   },
   {
    "duration": 14,
    "start_time": "2022-10-19T17:13:07.891Z"
   },
   {
    "duration": 13,
    "start_time": "2022-10-19T17:14:03.601Z"
   },
   {
    "duration": 3,
    "start_time": "2022-10-19T17:16:15.797Z"
   },
   {
    "duration": 13,
    "start_time": "2022-10-19T17:16:31.524Z"
   },
   {
    "duration": 13,
    "start_time": "2022-10-19T17:16:43.252Z"
   },
   {
    "duration": 13,
    "start_time": "2022-10-19T17:17:15.509Z"
   },
   {
    "duration": 9,
    "start_time": "2022-10-19T17:18:00.124Z"
   },
   {
    "duration": 787,
    "start_time": "2022-10-19T17:18:50.059Z"
   },
   {
    "duration": 8,
    "start_time": "2022-10-19T17:20:36.883Z"
   },
   {
    "duration": 16,
    "start_time": "2022-10-19T17:26:56.506Z"
   },
   {
    "duration": 14,
    "start_time": "2022-10-19T17:29:38.571Z"
   },
   {
    "duration": 9,
    "start_time": "2022-10-19T17:30:09.492Z"
   },
   {
    "duration": 12,
    "start_time": "2022-10-19T17:30:13.303Z"
   },
   {
    "duration": 13,
    "start_time": "2022-10-19T17:32:05.631Z"
   },
   {
    "duration": 16,
    "start_time": "2022-10-19T17:32:07.852Z"
   },
   {
    "duration": 826,
    "start_time": "2022-10-19T17:32:50.014Z"
   },
   {
    "duration": 38,
    "start_time": "2022-10-19T17:32:50.842Z"
   },
   {
    "duration": 13,
    "start_time": "2022-10-19T17:32:50.881Z"
   },
   {
    "duration": 41,
    "start_time": "2022-10-19T17:32:50.896Z"
   },
   {
    "duration": 925,
    "start_time": "2022-10-19T17:32:50.939Z"
   },
   {
    "duration": 3,
    "start_time": "2022-10-19T17:32:51.866Z"
   },
   {
    "duration": 156,
    "start_time": "2022-10-19T17:32:51.871Z"
   },
   {
    "duration": 8,
    "start_time": "2022-10-19T17:32:52.029Z"
   },
   {
    "duration": 14,
    "start_time": "2022-10-19T17:32:52.039Z"
   },
   {
    "duration": 20,
    "start_time": "2022-10-19T17:32:52.056Z"
   },
   {
    "duration": 37,
    "start_time": "2022-10-19T17:32:52.078Z"
   },
   {
    "duration": 22,
    "start_time": "2022-10-19T17:32:52.117Z"
   },
   {
    "duration": 20,
    "start_time": "2022-10-19T17:32:52.140Z"
   },
   {
    "duration": 8,
    "start_time": "2022-10-19T17:32:52.161Z"
   },
   {
    "duration": 40,
    "start_time": "2022-10-19T17:32:52.170Z"
   },
   {
    "duration": 106,
    "start_time": "2022-10-19T17:32:52.212Z"
   },
   {
    "duration": 0,
    "start_time": "2022-10-19T17:32:52.319Z"
   },
   {
    "duration": 0,
    "start_time": "2022-10-19T17:32:52.320Z"
   },
   {
    "duration": 17,
    "start_time": "2022-10-19T17:33:08.234Z"
   },
   {
    "duration": 13,
    "start_time": "2022-10-19T17:33:10.584Z"
   },
   {
    "duration": 16,
    "start_time": "2022-10-19T17:33:47.032Z"
   },
   {
    "duration": 17,
    "start_time": "2022-10-19T17:33:49.178Z"
   },
   {
    "duration": 785,
    "start_time": "2022-10-19T17:34:04.152Z"
   },
   {
    "duration": 41,
    "start_time": "2022-10-19T17:34:04.940Z"
   },
   {
    "duration": 14,
    "start_time": "2022-10-19T17:34:04.982Z"
   },
   {
    "duration": 45,
    "start_time": "2022-10-19T17:34:04.997Z"
   },
   {
    "duration": 918,
    "start_time": "2022-10-19T17:34:05.044Z"
   },
   {
    "duration": 5,
    "start_time": "2022-10-19T17:34:05.963Z"
   },
   {
    "duration": 202,
    "start_time": "2022-10-19T17:34:05.969Z"
   },
   {
    "duration": 8,
    "start_time": "2022-10-19T17:34:06.173Z"
   },
   {
    "duration": 35,
    "start_time": "2022-10-19T17:34:06.183Z"
   },
   {
    "duration": 61,
    "start_time": "2022-10-19T17:34:06.220Z"
   },
   {
    "duration": 26,
    "start_time": "2022-10-19T17:34:06.283Z"
   },
   {
    "duration": 24,
    "start_time": "2022-10-19T17:34:06.311Z"
   },
   {
    "duration": 25,
    "start_time": "2022-10-19T17:34:06.336Z"
   },
   {
    "duration": 22,
    "start_time": "2022-10-19T17:34:06.363Z"
   },
   {
    "duration": 48,
    "start_time": "2022-10-19T17:34:06.386Z"
   },
   {
    "duration": 41,
    "start_time": "2022-10-19T17:34:06.436Z"
   },
   {
    "duration": 22,
    "start_time": "2022-10-19T17:34:06.479Z"
   },
   {
    "duration": 83,
    "start_time": "2022-10-19T17:40:32.864Z"
   },
   {
    "duration": 14,
    "start_time": "2022-10-19T17:40:52.473Z"
   },
   {
    "duration": 15,
    "start_time": "2022-10-19T17:41:11.178Z"
   },
   {
    "duration": 137,
    "start_time": "2022-10-19T17:41:39.179Z"
   },
   {
    "duration": 138,
    "start_time": "2022-10-19T17:44:31.289Z"
   },
   {
    "duration": 10,
    "start_time": "2022-10-19T17:47:07.849Z"
   },
   {
    "duration": 21,
    "start_time": "2022-10-19T17:47:31.703Z"
   },
   {
    "duration": 23,
    "start_time": "2022-10-19T17:48:25.929Z"
   },
   {
    "duration": 13,
    "start_time": "2022-10-19T17:48:37.726Z"
   },
   {
    "duration": 15,
    "start_time": "2022-10-19T17:49:36.507Z"
   },
   {
    "duration": 15,
    "start_time": "2022-10-19T17:49:43.259Z"
   },
   {
    "duration": 8,
    "start_time": "2022-10-19T17:50:07.840Z"
   },
   {
    "duration": 13,
    "start_time": "2022-10-19T17:50:17.296Z"
   },
   {
    "duration": 14,
    "start_time": "2022-10-19T17:51:42.527Z"
   },
   {
    "duration": 18,
    "start_time": "2022-10-19T17:54:53.983Z"
   },
   {
    "duration": 10,
    "start_time": "2022-10-19T17:55:03.393Z"
   },
   {
    "duration": 15,
    "start_time": "2022-10-19T17:55:53.951Z"
   },
   {
    "duration": 5,
    "start_time": "2022-10-19T17:56:20.312Z"
   },
   {
    "duration": 7,
    "start_time": "2022-10-19T17:56:42.471Z"
   },
   {
    "duration": 1162,
    "start_time": "2022-10-19T18:00:12.963Z"
   },
   {
    "duration": 790,
    "start_time": "2022-10-19T18:00:53.244Z"
   },
   {
    "duration": 39,
    "start_time": "2022-10-19T18:00:54.036Z"
   },
   {
    "duration": 15,
    "start_time": "2022-10-19T18:00:54.077Z"
   },
   {
    "duration": 43,
    "start_time": "2022-10-19T18:00:54.095Z"
   },
   {
    "duration": 997,
    "start_time": "2022-10-19T18:00:54.141Z"
   },
   {
    "duration": 4,
    "start_time": "2022-10-19T18:00:55.140Z"
   },
   {
    "duration": 173,
    "start_time": "2022-10-19T18:00:55.145Z"
   },
   {
    "duration": 12,
    "start_time": "2022-10-19T18:00:55.320Z"
   },
   {
    "duration": 17,
    "start_time": "2022-10-19T18:00:55.334Z"
   },
   {
    "duration": 23,
    "start_time": "2022-10-19T18:00:55.352Z"
   },
   {
    "duration": 38,
    "start_time": "2022-10-19T18:00:55.376Z"
   },
   {
    "duration": 21,
    "start_time": "2022-10-19T18:00:55.416Z"
   },
   {
    "duration": 22,
    "start_time": "2022-10-19T18:00:55.439Z"
   },
   {
    "duration": 15,
    "start_time": "2022-10-19T18:00:55.464Z"
   },
   {
    "duration": 48,
    "start_time": "2022-10-19T18:00:55.480Z"
   },
   {
    "duration": 16,
    "start_time": "2022-10-19T18:00:55.530Z"
   },
   {
    "duration": 14,
    "start_time": "2022-10-19T18:00:55.548Z"
   },
   {
    "duration": 145,
    "start_time": "2022-10-19T18:00:55.564Z"
   },
   {
    "duration": 15,
    "start_time": "2022-10-19T18:00:55.711Z"
   },
   {
    "duration": 8,
    "start_time": "2022-10-19T18:00:55.728Z"
   },
   {
    "duration": 871,
    "start_time": "2022-10-19T18:00:55.737Z"
   },
   {
    "duration": 908,
    "start_time": "2022-10-19T18:01:26.800Z"
   },
   {
    "duration": 2,
    "start_time": "2022-10-19T18:02:24.325Z"
   },
   {
    "duration": 7,
    "start_time": "2022-10-19T18:02:35.524Z"
   },
   {
    "duration": 16,
    "start_time": "2022-10-19T18:04:00.310Z"
   },
   {
    "duration": 22,
    "start_time": "2022-10-19T18:04:37.892Z"
   },
   {
    "duration": 827,
    "start_time": "2022-10-19T18:04:52.401Z"
   },
   {
    "duration": 40,
    "start_time": "2022-10-19T18:04:53.230Z"
   },
   {
    "duration": 13,
    "start_time": "2022-10-19T18:04:53.272Z"
   },
   {
    "duration": 41,
    "start_time": "2022-10-19T18:04:53.287Z"
   },
   {
    "duration": 913,
    "start_time": "2022-10-19T18:04:53.330Z"
   },
   {
    "duration": 4,
    "start_time": "2022-10-19T18:04:54.244Z"
   },
   {
    "duration": 161,
    "start_time": "2022-10-19T18:04:54.250Z"
   },
   {
    "duration": 10,
    "start_time": "2022-10-19T18:04:54.413Z"
   },
   {
    "duration": 39,
    "start_time": "2022-10-19T18:04:54.424Z"
   },
   {
    "duration": 34,
    "start_time": "2022-10-19T18:04:54.467Z"
   },
   {
    "duration": 24,
    "start_time": "2022-10-19T18:04:54.503Z"
   },
   {
    "duration": 22,
    "start_time": "2022-10-19T18:04:54.529Z"
   },
   {
    "duration": 30,
    "start_time": "2022-10-19T18:04:54.553Z"
   },
   {
    "duration": 17,
    "start_time": "2022-10-19T18:04:54.585Z"
   },
   {
    "duration": 18,
    "start_time": "2022-10-19T18:04:54.604Z"
   },
   {
    "duration": 20,
    "start_time": "2022-10-19T18:04:54.623Z"
   },
   {
    "duration": 15,
    "start_time": "2022-10-19T18:04:54.645Z"
   },
   {
    "duration": 146,
    "start_time": "2022-10-19T18:04:54.662Z"
   },
   {
    "duration": 13,
    "start_time": "2022-10-19T18:04:54.810Z"
   },
   {
    "duration": 24,
    "start_time": "2022-10-19T18:04:54.824Z"
   },
   {
    "duration": 100,
    "start_time": "2022-10-19T18:04:54.849Z"
   },
   {
    "duration": 9,
    "start_time": "2022-10-19T18:05:07.091Z"
   },
   {
    "duration": 769,
    "start_time": "2022-10-19T18:05:39.137Z"
   },
   {
    "duration": 39,
    "start_time": "2022-10-19T18:05:39.908Z"
   },
   {
    "duration": 13,
    "start_time": "2022-10-19T18:05:39.949Z"
   },
   {
    "duration": 40,
    "start_time": "2022-10-19T18:05:39.964Z"
   },
   {
    "duration": 908,
    "start_time": "2022-10-19T18:05:40.006Z"
   },
   {
    "duration": 4,
    "start_time": "2022-10-19T18:05:40.915Z"
   },
   {
    "duration": 168,
    "start_time": "2022-10-19T18:05:40.921Z"
   },
   {
    "duration": 13,
    "start_time": "2022-10-19T18:05:41.090Z"
   },
   {
    "duration": 12,
    "start_time": "2022-10-19T18:05:41.105Z"
   },
   {
    "duration": 44,
    "start_time": "2022-10-19T18:05:41.119Z"
   },
   {
    "duration": 21,
    "start_time": "2022-10-19T18:05:41.165Z"
   },
   {
    "duration": 23,
    "start_time": "2022-10-19T18:05:41.188Z"
   },
   {
    "duration": 18,
    "start_time": "2022-10-19T18:05:41.213Z"
   },
   {
    "duration": 11,
    "start_time": "2022-10-19T18:05:41.233Z"
   },
   {
    "duration": 18,
    "start_time": "2022-10-19T18:05:41.245Z"
   },
   {
    "duration": 16,
    "start_time": "2022-10-19T18:05:41.264Z"
   },
   {
    "duration": 38,
    "start_time": "2022-10-19T18:05:41.281Z"
   },
   {
    "duration": 186,
    "start_time": "2022-10-19T18:05:41.321Z"
   },
   {
    "duration": 17,
    "start_time": "2022-10-19T18:05:41.509Z"
   },
   {
    "duration": 8,
    "start_time": "2022-10-19T18:05:41.528Z"
   },
   {
    "duration": 114,
    "start_time": "2022-10-19T18:05:41.538Z"
   },
   {
    "duration": 20,
    "start_time": "2022-10-19T18:06:07.753Z"
   },
   {
    "duration": 1231,
    "start_time": "2022-10-19T18:09:11.044Z"
   },
   {
    "duration": 834,
    "start_time": "2022-10-19T18:09:55.536Z"
   },
   {
    "duration": 831,
    "start_time": "2022-10-19T18:10:34.399Z"
   },
   {
    "duration": 37,
    "start_time": "2022-10-19T18:10:35.232Z"
   },
   {
    "duration": 13,
    "start_time": "2022-10-19T18:10:35.271Z"
   },
   {
    "duration": 39,
    "start_time": "2022-10-19T18:10:35.285Z"
   },
   {
    "duration": 890,
    "start_time": "2022-10-19T18:10:35.326Z"
   },
   {
    "duration": 5,
    "start_time": "2022-10-19T18:10:36.217Z"
   },
   {
    "duration": 169,
    "start_time": "2022-10-19T18:10:36.223Z"
   },
   {
    "duration": 9,
    "start_time": "2022-10-19T18:10:36.394Z"
   },
   {
    "duration": 23,
    "start_time": "2022-10-19T18:10:36.404Z"
   },
   {
    "duration": 25,
    "start_time": "2022-10-19T18:10:36.428Z"
   },
   {
    "duration": 19,
    "start_time": "2022-10-19T18:10:36.455Z"
   },
   {
    "duration": 26,
    "start_time": "2022-10-19T18:10:36.475Z"
   },
   {
    "duration": 18,
    "start_time": "2022-10-19T18:10:36.503Z"
   },
   {
    "duration": 4,
    "start_time": "2022-10-19T18:10:36.523Z"
   },
   {
    "duration": 29,
    "start_time": "2022-10-19T18:10:36.528Z"
   },
   {
    "duration": 16,
    "start_time": "2022-10-19T18:10:36.558Z"
   },
   {
    "duration": 28,
    "start_time": "2022-10-19T18:10:36.575Z"
   },
   {
    "duration": 145,
    "start_time": "2022-10-19T18:10:36.604Z"
   },
   {
    "duration": 15,
    "start_time": "2022-10-19T18:10:36.750Z"
   },
   {
    "duration": 6,
    "start_time": "2022-10-19T18:10:36.766Z"
   },
   {
    "duration": 812,
    "start_time": "2022-10-19T18:10:36.773Z"
   },
   {
    "duration": 13,
    "start_time": "2022-10-19T18:12:42.611Z"
   },
   {
    "duration": 8,
    "start_time": "2022-10-19T18:14:01.614Z"
   },
   {
    "duration": 12,
    "start_time": "2022-10-19T18:14:05.129Z"
   },
   {
    "duration": 832,
    "start_time": "2022-10-19T18:14:33.374Z"
   },
   {
    "duration": 15,
    "start_time": "2022-10-19T18:15:26.982Z"
   },
   {
    "duration": 16,
    "start_time": "2022-10-19T18:16:07.452Z"
   },
   {
    "duration": 167,
    "start_time": "2022-10-19T18:16:35.163Z"
   },
   {
    "duration": 16,
    "start_time": "2022-10-19T18:16:48.315Z"
   },
   {
    "duration": 185,
    "start_time": "2022-10-19T18:17:00.451Z"
   },
   {
    "duration": 2,
    "start_time": "2022-10-19T18:17:32.046Z"
   },
   {
    "duration": 1014,
    "start_time": "2022-10-19T18:17:37.586Z"
   },
   {
    "duration": 91,
    "start_time": "2022-10-19T18:17:38.602Z"
   },
   {
    "duration": 15,
    "start_time": "2022-10-19T18:17:38.694Z"
   },
   {
    "duration": 32,
    "start_time": "2022-10-19T18:17:38.710Z"
   },
   {
    "duration": 737,
    "start_time": "2022-10-19T18:17:38.744Z"
   },
   {
    "duration": 4,
    "start_time": "2022-10-19T18:17:39.483Z"
   },
   {
    "duration": 162,
    "start_time": "2022-10-19T18:17:39.488Z"
   },
   {
    "duration": 8,
    "start_time": "2022-10-19T18:17:39.652Z"
   },
   {
    "duration": 13,
    "start_time": "2022-10-19T18:17:39.662Z"
   },
   {
    "duration": 30,
    "start_time": "2022-10-19T18:17:39.677Z"
   },
   {
    "duration": 19,
    "start_time": "2022-10-19T18:17:39.709Z"
   },
   {
    "duration": 19,
    "start_time": "2022-10-19T18:17:39.729Z"
   },
   {
    "duration": 19,
    "start_time": "2022-10-19T18:17:39.749Z"
   },
   {
    "duration": 31,
    "start_time": "2022-10-19T18:17:39.770Z"
   },
   {
    "duration": 33,
    "start_time": "2022-10-19T18:17:39.803Z"
   },
   {
    "duration": 16,
    "start_time": "2022-10-19T18:17:39.838Z"
   },
   {
    "duration": 14,
    "start_time": "2022-10-19T18:17:39.856Z"
   },
   {
    "duration": 160,
    "start_time": "2022-10-19T18:17:39.872Z"
   },
   {
    "duration": 17,
    "start_time": "2022-10-19T18:17:40.033Z"
   },
   {
    "duration": 173,
    "start_time": "2022-10-19T18:17:40.051Z"
   },
   {
    "duration": 1727,
    "start_time": "2022-10-19T18:17:40.226Z"
   },
   {
    "duration": 1638,
    "start_time": "2022-10-19T18:17:51.357Z"
   },
   {
    "duration": 14,
    "start_time": "2022-10-19T18:19:26.947Z"
   },
   {
    "duration": 13,
    "start_time": "2022-10-19T18:19:37.435Z"
   },
   {
    "duration": 14,
    "start_time": "2022-10-19T18:19:48.687Z"
   },
   {
    "duration": 739,
    "start_time": "2022-10-19T18:19:55.419Z"
   },
   {
    "duration": 865,
    "start_time": "2022-10-19T18:21:00.854Z"
   },
   {
    "duration": 9,
    "start_time": "2022-10-19T18:21:16.735Z"
   },
   {
    "duration": 11,
    "start_time": "2022-10-19T18:21:26.211Z"
   },
   {
    "duration": 18,
    "start_time": "2022-10-19T18:23:15.021Z"
   },
   {
    "duration": 130,
    "start_time": "2022-10-19T18:23:28.206Z"
   },
   {
    "duration": 286,
    "start_time": "2022-10-19T18:24:56.182Z"
   },
   {
    "duration": 1694,
    "start_time": "2022-10-19T18:27:24.231Z"
   },
   {
    "duration": 24,
    "start_time": "2022-10-19T18:27:44.083Z"
   },
   {
    "duration": 276,
    "start_time": "2022-10-19T18:28:34.973Z"
   },
   {
    "duration": 346,
    "start_time": "2022-10-19T18:28:51.422Z"
   },
   {
    "duration": 164,
    "start_time": "2022-10-19T18:30:00.769Z"
   },
   {
    "duration": 16,
    "start_time": "2022-10-19T18:32:55.572Z"
   },
   {
    "duration": 18,
    "start_time": "2022-10-19T18:33:09.602Z"
   },
   {
    "duration": 1014,
    "start_time": "2022-10-19T18:44:05.065Z"
   },
   {
    "duration": 83,
    "start_time": "2022-10-19T18:44:06.081Z"
   },
   {
    "duration": 14,
    "start_time": "2022-10-19T18:44:06.166Z"
   },
   {
    "duration": 41,
    "start_time": "2022-10-19T18:44:06.182Z"
   },
   {
    "duration": 725,
    "start_time": "2022-10-19T18:44:06.225Z"
   },
   {
    "duration": 4,
    "start_time": "2022-10-19T18:44:06.952Z"
   },
   {
    "duration": 163,
    "start_time": "2022-10-19T18:44:06.958Z"
   },
   {
    "duration": 11,
    "start_time": "2022-10-19T18:44:07.122Z"
   },
   {
    "duration": 20,
    "start_time": "2022-10-19T18:44:07.135Z"
   },
   {
    "duration": 31,
    "start_time": "2022-10-19T18:44:07.157Z"
   },
   {
    "duration": 22,
    "start_time": "2022-10-19T18:44:07.200Z"
   },
   {
    "duration": 18,
    "start_time": "2022-10-19T18:44:07.224Z"
   },
   {
    "duration": 18,
    "start_time": "2022-10-19T18:44:07.244Z"
   },
   {
    "duration": 14,
    "start_time": "2022-10-19T18:44:07.264Z"
   },
   {
    "duration": 20,
    "start_time": "2022-10-19T18:44:07.301Z"
   },
   {
    "duration": 19,
    "start_time": "2022-10-19T18:44:07.323Z"
   },
   {
    "duration": 16,
    "start_time": "2022-10-19T18:44:07.344Z"
   },
   {
    "duration": 188,
    "start_time": "2022-10-19T18:44:07.361Z"
   },
   {
    "duration": 164,
    "start_time": "2022-10-19T18:44:07.551Z"
   },
   {
    "duration": 91,
    "start_time": "2022-10-19T18:44:07.716Z"
   },
   {
    "duration": 17,
    "start_time": "2022-10-19T18:44:27.824Z"
   },
   {
    "duration": 1099,
    "start_time": "2022-10-19T18:44:38.669Z"
   },
   {
    "duration": 1483,
    "start_time": "2022-10-19T18:45:16.446Z"
   },
   {
    "duration": 1427,
    "start_time": "2022-10-19T18:45:36.156Z"
   },
   {
    "duration": 923,
    "start_time": "2022-10-19T18:46:10.165Z"
   },
   {
    "duration": 90,
    "start_time": "2022-10-19T18:46:11.090Z"
   },
   {
    "duration": 14,
    "start_time": "2022-10-19T18:46:11.182Z"
   },
   {
    "duration": 29,
    "start_time": "2022-10-19T18:46:11.199Z"
   },
   {
    "duration": 711,
    "start_time": "2022-10-19T18:46:11.230Z"
   },
   {
    "duration": 4,
    "start_time": "2022-10-19T18:46:11.942Z"
   },
   {
    "duration": 156,
    "start_time": "2022-10-19T18:46:11.947Z"
   },
   {
    "duration": 8,
    "start_time": "2022-10-19T18:46:12.105Z"
   },
   {
    "duration": 13,
    "start_time": "2022-10-19T18:46:12.115Z"
   },
   {
    "duration": 22,
    "start_time": "2022-10-19T18:46:12.130Z"
   },
   {
    "duration": 18,
    "start_time": "2022-10-19T18:46:12.153Z"
   },
   {
    "duration": 40,
    "start_time": "2022-10-19T18:46:12.173Z"
   },
   {
    "duration": 19,
    "start_time": "2022-10-19T18:46:12.214Z"
   },
   {
    "duration": 8,
    "start_time": "2022-10-19T18:46:12.236Z"
   },
   {
    "duration": 21,
    "start_time": "2022-10-19T18:46:12.245Z"
   },
   {
    "duration": 16,
    "start_time": "2022-10-19T18:46:12.268Z"
   },
   {
    "duration": 14,
    "start_time": "2022-10-19T18:46:12.301Z"
   },
   {
    "duration": 146,
    "start_time": "2022-10-19T18:46:12.316Z"
   },
   {
    "duration": 167,
    "start_time": "2022-10-19T18:46:12.463Z"
   },
   {
    "duration": 1542,
    "start_time": "2022-10-19T18:46:12.631Z"
   },
   {
    "duration": 107,
    "start_time": "2022-10-19T18:51:06.099Z"
   },
   {
    "duration": 6,
    "start_time": "2022-10-19T18:51:17.574Z"
   },
   {
    "duration": 22,
    "start_time": "2022-10-19T18:51:46.936Z"
   },
   {
    "duration": 15,
    "start_time": "2022-10-19T18:54:41.117Z"
   },
   {
    "duration": 24,
    "start_time": "2022-10-19T18:56:22.954Z"
   },
   {
    "duration": 160,
    "start_time": "2022-10-19T18:58:08.560Z"
   },
   {
    "duration": 850,
    "start_time": "2022-10-19T18:59:03.533Z"
   },
   {
    "duration": 744,
    "start_time": "2022-10-19T18:59:48.949Z"
   },
   {
    "duration": 802,
    "start_time": "2022-10-19T19:02:40.164Z"
   },
   {
    "duration": 818,
    "start_time": "2022-10-19T19:02:57.786Z"
   },
   {
    "duration": 23,
    "start_time": "2022-10-19T19:03:19.035Z"
   },
   {
    "duration": 149,
    "start_time": "2022-10-19T19:03:25.675Z"
   },
   {
    "duration": 809,
    "start_time": "2022-10-19T19:03:34.236Z"
   },
   {
    "duration": 24,
    "start_time": "2022-10-19T19:04:14.716Z"
   },
   {
    "duration": 238,
    "start_time": "2022-10-19T19:04:18.196Z"
   },
   {
    "duration": 191,
    "start_time": "2022-10-19T19:04:44.011Z"
   },
   {
    "duration": 1380,
    "start_time": "2022-10-19T19:04:51.929Z"
   },
   {
    "duration": 21,
    "start_time": "2022-10-19T19:05:03.277Z"
   },
   {
    "duration": 153,
    "start_time": "2022-10-19T19:05:09.417Z"
   },
   {
    "duration": 1677,
    "start_time": "2022-10-19T19:05:13.349Z"
   },
   {
    "duration": 1262,
    "start_time": "2022-10-20T13:40:33.769Z"
   },
   {
    "duration": 277,
    "start_time": "2022-10-20T13:40:35.034Z"
   },
   {
    "duration": 15,
    "start_time": "2022-10-20T13:40:35.313Z"
   },
   {
    "duration": 33,
    "start_time": "2022-10-20T13:40:35.330Z"
   },
   {
    "duration": 795,
    "start_time": "2022-10-20T13:40:35.365Z"
   },
   {
    "duration": 5,
    "start_time": "2022-10-20T13:40:36.161Z"
   },
   {
    "duration": 204,
    "start_time": "2022-10-20T13:40:36.167Z"
   },
   {
    "duration": 10,
    "start_time": "2022-10-20T13:40:36.373Z"
   },
   {
    "duration": 15,
    "start_time": "2022-10-20T13:40:36.384Z"
   },
   {
    "duration": 43,
    "start_time": "2022-10-20T13:40:36.401Z"
   },
   {
    "duration": 22,
    "start_time": "2022-10-20T13:40:36.446Z"
   },
   {
    "duration": 22,
    "start_time": "2022-10-20T13:40:36.469Z"
   },
   {
    "duration": 45,
    "start_time": "2022-10-20T13:40:36.493Z"
   },
   {
    "duration": 6,
    "start_time": "2022-10-20T13:40:36.540Z"
   },
   {
    "duration": 20,
    "start_time": "2022-10-20T13:40:36.548Z"
   },
   {
    "duration": 19,
    "start_time": "2022-10-20T13:40:36.569Z"
   },
   {
    "duration": 43,
    "start_time": "2022-10-20T13:40:36.589Z"
   },
   {
    "duration": 179,
    "start_time": "2022-10-20T13:40:36.634Z"
   },
   {
    "duration": 190,
    "start_time": "2022-10-20T13:40:36.814Z"
   },
   {
    "duration": 1857,
    "start_time": "2022-10-20T13:40:37.005Z"
   },
   {
    "duration": 27,
    "start_time": "2022-10-20T13:40:38.864Z"
   },
   {
    "duration": 194,
    "start_time": "2022-10-20T13:40:38.893Z"
   },
   {
    "duration": 1725,
    "start_time": "2022-10-20T13:40:39.089Z"
   },
   {
    "duration": 288,
    "start_time": "2022-10-20T13:49:28.750Z"
   },
   {
    "duration": 391,
    "start_time": "2022-10-20T13:50:08.058Z"
   },
   {
    "duration": 386,
    "start_time": "2022-10-20T13:50:14.940Z"
   },
   {
    "duration": 322,
    "start_time": "2022-10-20T13:54:43.744Z"
   },
   {
    "duration": 630,
    "start_time": "2022-10-20T13:54:53.855Z"
   },
   {
    "duration": 357,
    "start_time": "2022-10-20T13:55:05.973Z"
   },
   {
    "duration": 528,
    "start_time": "2022-10-20T13:55:12.953Z"
   },
   {
    "duration": 1371,
    "start_time": "2022-10-20T13:55:21.410Z"
   },
   {
    "duration": 705,
    "start_time": "2022-10-20T13:55:33.333Z"
   },
   {
    "duration": 306,
    "start_time": "2022-10-20T13:55:47.793Z"
   },
   {
    "duration": 443,
    "start_time": "2022-10-20T13:55:59.202Z"
   },
   {
    "duration": 291,
    "start_time": "2022-10-20T13:57:00.065Z"
   },
   {
    "duration": 295,
    "start_time": "2022-10-20T13:57:09.913Z"
   },
   {
    "duration": 508,
    "start_time": "2022-10-20T13:57:20.683Z"
   },
   {
    "duration": 511,
    "start_time": "2022-10-20T13:58:45.994Z"
   },
   {
    "duration": 448,
    "start_time": "2022-10-20T13:59:01.795Z"
   },
   {
    "duration": 125,
    "start_time": "2022-10-20T14:00:11.241Z"
   },
   {
    "duration": 164,
    "start_time": "2022-10-20T14:05:35.168Z"
   },
   {
    "duration": 150,
    "start_time": "2022-10-20T14:08:53.362Z"
   },
   {
    "duration": 164,
    "start_time": "2022-10-20T14:09:16.154Z"
   },
   {
    "duration": 185,
    "start_time": "2022-10-20T14:09:55.478Z"
   },
   {
    "duration": 190,
    "start_time": "2022-10-20T14:10:11.006Z"
   },
   {
    "duration": 1132,
    "start_time": "2022-10-20T14:15:41.591Z"
   },
   {
    "duration": 112,
    "start_time": "2022-10-20T14:15:42.725Z"
   },
   {
    "duration": 20,
    "start_time": "2022-10-20T14:15:42.839Z"
   },
   {
    "duration": 34,
    "start_time": "2022-10-20T14:15:42.861Z"
   },
   {
    "duration": 826,
    "start_time": "2022-10-20T14:15:42.897Z"
   },
   {
    "duration": 5,
    "start_time": "2022-10-20T14:15:43.729Z"
   },
   {
    "duration": 193,
    "start_time": "2022-10-20T14:15:43.736Z"
   },
   {
    "duration": 10,
    "start_time": "2022-10-20T14:15:43.931Z"
   },
   {
    "duration": 19,
    "start_time": "2022-10-20T14:15:43.943Z"
   },
   {
    "duration": 23,
    "start_time": "2022-10-20T14:15:43.964Z"
   },
   {
    "duration": 49,
    "start_time": "2022-10-20T14:15:43.989Z"
   },
   {
    "duration": 23,
    "start_time": "2022-10-20T14:15:44.040Z"
   },
   {
    "duration": 23,
    "start_time": "2022-10-20T14:15:44.065Z"
   },
   {
    "duration": 5,
    "start_time": "2022-10-20T14:15:44.091Z"
   },
   {
    "duration": 47,
    "start_time": "2022-10-20T14:15:44.098Z"
   },
   {
    "duration": 20,
    "start_time": "2022-10-20T14:15:44.147Z"
   },
   {
    "duration": 16,
    "start_time": "2022-10-20T14:15:44.169Z"
   },
   {
    "duration": 188,
    "start_time": "2022-10-20T14:15:44.187Z"
   },
   {
    "duration": 197,
    "start_time": "2022-10-20T14:15:44.377Z"
   },
   {
    "duration": 1845,
    "start_time": "2022-10-20T14:15:44.576Z"
   },
   {
    "duration": 30,
    "start_time": "2022-10-20T14:15:46.428Z"
   },
   {
    "duration": 220,
    "start_time": "2022-10-20T14:15:46.461Z"
   },
   {
    "duration": 1792,
    "start_time": "2022-10-20T14:15:46.683Z"
   },
   {
    "duration": 386,
    "start_time": "2022-10-20T14:15:48.477Z"
   },
   {
    "duration": 190,
    "start_time": "2022-10-20T14:15:48.864Z"
   },
   {
    "duration": 177,
    "start_time": "2022-10-20T14:15:49.056Z"
   },
   {
    "duration": 9,
    "start_time": "2022-10-20T14:15:49.235Z"
   },
   {
    "duration": 194,
    "start_time": "2022-10-20T14:16:51.413Z"
   },
   {
    "duration": 281,
    "start_time": "2022-10-20T14:17:12.263Z"
   },
   {
    "duration": 192,
    "start_time": "2022-10-20T14:17:35.462Z"
   },
   {
    "duration": 167,
    "start_time": "2022-10-20T14:17:57.505Z"
   },
   {
    "duration": 192,
    "start_time": "2022-10-20T14:18:17.905Z"
   },
   {
    "duration": 170,
    "start_time": "2022-10-20T14:18:36.257Z"
   },
   {
    "duration": 19,
    "start_time": "2022-10-20T14:22:08.626Z"
   },
   {
    "duration": 12,
    "start_time": "2022-10-20T14:30:08.042Z"
   },
   {
    "duration": 97,
    "start_time": "2022-10-20T14:31:33.149Z"
   },
   {
    "duration": 11,
    "start_time": "2022-10-20T14:31:37.169Z"
   },
   {
    "duration": 14,
    "start_time": "2022-10-20T14:31:39.455Z"
   },
   {
    "duration": 28,
    "start_time": "2022-10-20T14:32:14.295Z"
   },
   {
    "duration": 15,
    "start_time": "2022-10-20T14:32:45.054Z"
   },
   {
    "duration": 13,
    "start_time": "2022-10-20T14:34:09.171Z"
   },
   {
    "duration": 17,
    "start_time": "2022-10-20T14:34:21.696Z"
   },
   {
    "duration": 16,
    "start_time": "2022-10-20T14:34:31.284Z"
   },
   {
    "duration": 43,
    "start_time": "2022-10-20T17:33:09.778Z"
   },
   {
    "duration": 1207,
    "start_time": "2022-10-20T17:33:16.518Z"
   },
   {
    "duration": 131,
    "start_time": "2022-10-20T17:33:17.727Z"
   },
   {
    "duration": 16,
    "start_time": "2022-10-20T17:33:17.859Z"
   },
   {
    "duration": 29,
    "start_time": "2022-10-20T17:33:17.876Z"
   },
   {
    "duration": 731,
    "start_time": "2022-10-20T17:33:17.907Z"
   },
   {
    "duration": 3,
    "start_time": "2022-10-20T17:33:18.640Z"
   },
   {
    "duration": 167,
    "start_time": "2022-10-20T17:33:18.645Z"
   },
   {
    "duration": 12,
    "start_time": "2022-10-20T17:33:18.813Z"
   },
   {
    "duration": 14,
    "start_time": "2022-10-20T17:33:18.827Z"
   },
   {
    "duration": 26,
    "start_time": "2022-10-20T17:33:18.843Z"
   },
   {
    "duration": 17,
    "start_time": "2022-10-20T17:33:18.870Z"
   },
   {
    "duration": 44,
    "start_time": "2022-10-20T17:33:18.889Z"
   },
   {
    "duration": 24,
    "start_time": "2022-10-20T17:33:18.935Z"
   },
   {
    "duration": 11,
    "start_time": "2022-10-20T17:33:18.963Z"
   },
   {
    "duration": 27,
    "start_time": "2022-10-20T17:33:18.975Z"
   },
   {
    "duration": 35,
    "start_time": "2022-10-20T17:33:19.004Z"
   },
   {
    "duration": 27,
    "start_time": "2022-10-20T17:33:19.042Z"
   },
   {
    "duration": 165,
    "start_time": "2022-10-20T17:33:19.070Z"
   },
   {
    "duration": 180,
    "start_time": "2022-10-20T17:33:19.237Z"
   },
   {
    "duration": 1604,
    "start_time": "2022-10-20T17:33:19.421Z"
   },
   {
    "duration": 23,
    "start_time": "2022-10-20T17:33:21.026Z"
   },
   {
    "duration": 173,
    "start_time": "2022-10-20T17:33:21.051Z"
   },
   {
    "duration": 1521,
    "start_time": "2022-10-20T17:33:21.225Z"
   },
   {
    "duration": 375,
    "start_time": "2022-10-20T17:33:22.748Z"
   },
   {
    "duration": 177,
    "start_time": "2022-10-20T17:33:23.125Z"
   },
   {
    "duration": 167,
    "start_time": "2022-10-20T17:33:23.304Z"
   },
   {
    "duration": 10,
    "start_time": "2022-10-20T17:33:23.473Z"
   },
   {
    "duration": 180,
    "start_time": "2022-10-20T17:33:23.485Z"
   },
   {
    "duration": 254,
    "start_time": "2022-10-20T17:33:23.668Z"
   },
   {
    "duration": 170,
    "start_time": "2022-10-20T17:33:23.923Z"
   },
   {
    "duration": 163,
    "start_time": "2022-10-20T17:33:24.095Z"
   },
   {
    "duration": 172,
    "start_time": "2022-10-20T17:33:24.259Z"
   },
   {
    "duration": 149,
    "start_time": "2022-10-20T17:33:24.433Z"
   },
   {
    "duration": 13,
    "start_time": "2022-10-20T17:33:24.584Z"
   },
   {
    "duration": 28,
    "start_time": "2022-10-20T17:33:24.598Z"
   },
   {
    "duration": 13,
    "start_time": "2022-10-20T17:33:24.627Z"
   },
   {
    "duration": 108,
    "start_time": "2022-10-20T17:33:24.641Z"
   },
   {
    "duration": 15,
    "start_time": "2022-10-20T17:33:47.111Z"
   },
   {
    "duration": 17,
    "start_time": "2022-10-20T17:34:03.091Z"
   },
   {
    "duration": 16,
    "start_time": "2022-10-20T17:34:25.490Z"
   },
   {
    "duration": 14,
    "start_time": "2022-10-20T17:36:36.962Z"
   },
   {
    "duration": 14,
    "start_time": "2022-10-20T17:37:00.224Z"
   },
   {
    "duration": 13,
    "start_time": "2022-10-20T17:37:24.192Z"
   },
   {
    "duration": 20,
    "start_time": "2022-10-20T17:51:12.441Z"
   },
   {
    "duration": 9,
    "start_time": "2022-10-20T17:52:22.239Z"
   },
   {
    "duration": 1060,
    "start_time": "2022-10-20T17:52:30.192Z"
   },
   {
    "duration": 94,
    "start_time": "2022-10-20T17:52:31.254Z"
   },
   {
    "duration": 13,
    "start_time": "2022-10-20T17:52:31.350Z"
   },
   {
    "duration": 34,
    "start_time": "2022-10-20T17:52:31.364Z"
   },
   {
    "duration": 708,
    "start_time": "2022-10-20T17:52:31.400Z"
   },
   {
    "duration": 4,
    "start_time": "2022-10-20T17:52:32.110Z"
   },
   {
    "duration": 159,
    "start_time": "2022-10-20T17:52:32.122Z"
   },
   {
    "duration": 9,
    "start_time": "2022-10-20T17:52:32.282Z"
   },
   {
    "duration": 19,
    "start_time": "2022-10-20T17:52:32.293Z"
   },
   {
    "duration": 30,
    "start_time": "2022-10-20T17:52:32.313Z"
   },
   {
    "duration": 20,
    "start_time": "2022-10-20T17:52:32.344Z"
   },
   {
    "duration": 19,
    "start_time": "2022-10-20T17:52:32.365Z"
   },
   {
    "duration": 38,
    "start_time": "2022-10-20T17:52:32.386Z"
   },
   {
    "duration": 5,
    "start_time": "2022-10-20T17:52:32.427Z"
   },
   {
    "duration": 19,
    "start_time": "2022-10-20T17:52:32.434Z"
   },
   {
    "duration": 16,
    "start_time": "2022-10-20T17:52:32.455Z"
   },
   {
    "duration": 14,
    "start_time": "2022-10-20T17:52:32.473Z"
   },
   {
    "duration": 144,
    "start_time": "2022-10-20T17:52:32.521Z"
   },
   {
    "duration": 183,
    "start_time": "2022-10-20T17:52:32.667Z"
   },
   {
    "duration": 1554,
    "start_time": "2022-10-20T17:52:32.852Z"
   },
   {
    "duration": 28,
    "start_time": "2022-10-20T17:52:34.408Z"
   },
   {
    "duration": 168,
    "start_time": "2022-10-20T17:52:34.438Z"
   },
   {
    "duration": 1494,
    "start_time": "2022-10-20T17:52:34.608Z"
   },
   {
    "duration": 356,
    "start_time": "2022-10-20T17:52:36.104Z"
   },
   {
    "duration": 173,
    "start_time": "2022-10-20T17:52:36.462Z"
   },
   {
    "duration": 160,
    "start_time": "2022-10-20T17:52:36.637Z"
   },
   {
    "duration": 9,
    "start_time": "2022-10-20T17:52:36.798Z"
   },
   {
    "duration": 174,
    "start_time": "2022-10-20T17:52:36.809Z"
   },
   {
    "duration": 244,
    "start_time": "2022-10-20T17:52:36.985Z"
   },
   {
    "duration": 170,
    "start_time": "2022-10-20T17:52:37.230Z"
   },
   {
    "duration": 174,
    "start_time": "2022-10-20T17:52:37.401Z"
   },
   {
    "duration": 160,
    "start_time": "2022-10-20T17:52:37.577Z"
   },
   {
    "duration": 141,
    "start_time": "2022-10-20T17:52:37.739Z"
   },
   {
    "duration": 13,
    "start_time": "2022-10-20T17:52:37.882Z"
   },
   {
    "duration": 8,
    "start_time": "2022-10-20T17:52:37.897Z"
   },
   {
    "duration": 27,
    "start_time": "2022-10-20T17:52:37.906Z"
   },
   {
    "duration": 14,
    "start_time": "2022-10-20T17:52:37.935Z"
   },
   {
    "duration": 14,
    "start_time": "2022-10-20T17:52:37.951Z"
   },
   {
    "duration": 12,
    "start_time": "2022-10-20T17:52:37.967Z"
   },
   {
    "duration": 43,
    "start_time": "2022-10-20T17:52:37.980Z"
   },
   {
    "duration": 13,
    "start_time": "2022-10-20T17:52:38.026Z"
   },
   {
    "duration": 102,
    "start_time": "2022-10-20T17:52:38.041Z"
   },
   {
    "duration": 10,
    "start_time": "2022-10-20T17:52:53.641Z"
   },
   {
    "duration": 25,
    "start_time": "2022-10-20T17:54:07.141Z"
   },
   {
    "duration": 15,
    "start_time": "2022-10-20T17:54:17.262Z"
   },
   {
    "duration": 15,
    "start_time": "2022-10-20T17:55:38.311Z"
   },
   {
    "duration": 15,
    "start_time": "2022-10-20T17:58:17.158Z"
   },
   {
    "duration": 9,
    "start_time": "2022-10-20T18:09:16.229Z"
   },
   {
    "duration": 10,
    "start_time": "2022-10-20T18:09:40.849Z"
   },
   {
    "duration": 6,
    "start_time": "2022-10-20T18:10:16.848Z"
   },
   {
    "duration": 11,
    "start_time": "2022-10-20T18:11:32.371Z"
   },
   {
    "duration": 6,
    "start_time": "2022-10-20T18:13:24.961Z"
   },
   {
    "duration": 4,
    "start_time": "2022-10-20T18:14:04.027Z"
   },
   {
    "duration": 5,
    "start_time": "2022-10-20T18:14:30.091Z"
   },
   {
    "duration": 5,
    "start_time": "2022-10-20T18:16:14.480Z"
   },
   {
    "duration": 6,
    "start_time": "2022-10-20T18:16:56.021Z"
   },
   {
    "duration": 5,
    "start_time": "2022-10-20T18:16:58.597Z"
   },
   {
    "duration": 8,
    "start_time": "2022-10-20T18:17:32.001Z"
   },
   {
    "duration": 5,
    "start_time": "2022-10-20T18:17:34.817Z"
   },
   {
    "duration": 7,
    "start_time": "2022-10-20T18:17:58.938Z"
   },
   {
    "duration": 4,
    "start_time": "2022-10-20T18:18:03.187Z"
   },
   {
    "duration": 6,
    "start_time": "2022-10-20T18:18:51.781Z"
   },
   {
    "duration": 7,
    "start_time": "2022-10-20T18:19:54.921Z"
   },
   {
    "duration": 5,
    "start_time": "2022-10-20T18:19:57.021Z"
   },
   {
    "duration": 13,
    "start_time": "2022-10-20T18:23:04.089Z"
   },
   {
    "duration": 1019,
    "start_time": "2022-10-20T18:36:59.722Z"
   },
   {
    "duration": 86,
    "start_time": "2022-10-20T18:37:00.743Z"
   },
   {
    "duration": 14,
    "start_time": "2022-10-20T18:37:00.831Z"
   },
   {
    "duration": 40,
    "start_time": "2022-10-20T18:37:00.847Z"
   },
   {
    "duration": 700,
    "start_time": "2022-10-20T18:37:00.889Z"
   },
   {
    "duration": 4,
    "start_time": "2022-10-20T18:37:01.591Z"
   },
   {
    "duration": 178,
    "start_time": "2022-10-20T18:37:01.596Z"
   },
   {
    "duration": 9,
    "start_time": "2022-10-20T18:37:01.776Z"
   },
   {
    "duration": 26,
    "start_time": "2022-10-20T18:37:01.787Z"
   },
   {
    "duration": 39,
    "start_time": "2022-10-20T18:37:01.815Z"
   },
   {
    "duration": 22,
    "start_time": "2022-10-20T18:37:01.857Z"
   },
   {
    "duration": 42,
    "start_time": "2022-10-20T18:37:01.880Z"
   },
   {
    "duration": 27,
    "start_time": "2022-10-20T18:37:01.924Z"
   },
   {
    "duration": 23,
    "start_time": "2022-10-20T18:37:01.956Z"
   },
   {
    "duration": 37,
    "start_time": "2022-10-20T18:37:01.982Z"
   },
   {
    "duration": 18,
    "start_time": "2022-10-20T18:37:02.022Z"
   },
   {
    "duration": 25,
    "start_time": "2022-10-20T18:37:02.042Z"
   },
   {
    "duration": 149,
    "start_time": "2022-10-20T18:37:02.069Z"
   },
   {
    "duration": 166,
    "start_time": "2022-10-20T18:37:02.222Z"
   },
   {
    "duration": 1599,
    "start_time": "2022-10-20T18:37:02.390Z"
   },
   {
    "duration": 32,
    "start_time": "2022-10-20T18:37:03.991Z"
   },
   {
    "duration": 164,
    "start_time": "2022-10-20T18:37:04.025Z"
   },
   {
    "duration": 1543,
    "start_time": "2022-10-20T18:37:04.191Z"
   },
   {
    "duration": 371,
    "start_time": "2022-10-20T18:37:05.736Z"
   },
   {
    "duration": 178,
    "start_time": "2022-10-20T18:37:06.109Z"
   },
   {
    "duration": 160,
    "start_time": "2022-10-20T18:37:06.289Z"
   },
   {
    "duration": 10,
    "start_time": "2022-10-20T18:37:06.450Z"
   },
   {
    "duration": 174,
    "start_time": "2022-10-20T18:37:06.462Z"
   },
   {
    "duration": 244,
    "start_time": "2022-10-20T18:37:06.638Z"
   },
   {
    "duration": 172,
    "start_time": "2022-10-20T18:37:06.884Z"
   },
   {
    "duration": 157,
    "start_time": "2022-10-20T18:37:07.057Z"
   },
   {
    "duration": 156,
    "start_time": "2022-10-20T18:37:07.221Z"
   },
   {
    "duration": 165,
    "start_time": "2022-10-20T18:37:07.379Z"
   },
   {
    "duration": 15,
    "start_time": "2022-10-20T18:37:07.545Z"
   },
   {
    "duration": 18,
    "start_time": "2022-10-20T18:37:07.561Z"
   },
   {
    "duration": 16,
    "start_time": "2022-10-20T18:37:07.581Z"
   },
   {
    "duration": 24,
    "start_time": "2022-10-20T18:37:07.598Z"
   },
   {
    "duration": 24,
    "start_time": "2022-10-20T18:37:07.623Z"
   },
   {
    "duration": 12,
    "start_time": "2022-10-20T18:37:07.648Z"
   },
   {
    "duration": 12,
    "start_time": "2022-10-20T18:37:07.661Z"
   },
   {
    "duration": 27,
    "start_time": "2022-10-20T18:37:07.676Z"
   },
   {
    "duration": 17,
    "start_time": "2022-10-20T18:37:07.705Z"
   },
   {
    "duration": 21,
    "start_time": "2022-10-20T18:37:07.724Z"
   },
   {
    "duration": 5,
    "start_time": "2022-10-20T18:40:49.477Z"
   },
   {
    "duration": 1001,
    "start_time": "2022-10-20T18:41:21.608Z"
   },
   {
    "duration": 87,
    "start_time": "2022-10-20T18:41:22.610Z"
   },
   {
    "duration": 13,
    "start_time": "2022-10-20T18:41:22.698Z"
   },
   {
    "duration": 30,
    "start_time": "2022-10-20T18:41:22.721Z"
   },
   {
    "duration": 708,
    "start_time": "2022-10-20T18:41:22.753Z"
   },
   {
    "duration": 5,
    "start_time": "2022-10-20T18:41:23.463Z"
   },
   {
    "duration": 167,
    "start_time": "2022-10-20T18:41:23.469Z"
   },
   {
    "duration": 9,
    "start_time": "2022-10-20T18:41:23.637Z"
   },
   {
    "duration": 12,
    "start_time": "2022-10-20T18:41:23.647Z"
   },
   {
    "duration": 22,
    "start_time": "2022-10-20T18:41:23.660Z"
   },
   {
    "duration": 40,
    "start_time": "2022-10-20T18:41:23.683Z"
   },
   {
    "duration": 18,
    "start_time": "2022-10-20T18:41:23.724Z"
   },
   {
    "duration": 17,
    "start_time": "2022-10-20T18:41:23.744Z"
   },
   {
    "duration": 4,
    "start_time": "2022-10-20T18:41:23.764Z"
   },
   {
    "duration": 17,
    "start_time": "2022-10-20T18:41:23.770Z"
   },
   {
    "duration": 46,
    "start_time": "2022-10-20T18:41:23.788Z"
   },
   {
    "duration": 4,
    "start_time": "2022-10-20T18:41:23.835Z"
   },
   {
    "duration": 19,
    "start_time": "2022-10-20T18:41:23.840Z"
   },
   {
    "duration": 164,
    "start_time": "2022-10-20T18:41:23.860Z"
   },
   {
    "duration": 176,
    "start_time": "2022-10-20T18:41:24.025Z"
   },
   {
    "duration": 1558,
    "start_time": "2022-10-20T18:41:24.202Z"
   },
   {
    "duration": 21,
    "start_time": "2022-10-20T18:41:25.762Z"
   },
   {
    "duration": 169,
    "start_time": "2022-10-20T18:41:25.784Z"
   },
   {
    "duration": 1501,
    "start_time": "2022-10-20T18:41:25.955Z"
   },
   {
    "duration": 355,
    "start_time": "2022-10-20T18:41:27.458Z"
   },
   {
    "duration": 1383,
    "start_time": "2022-10-20T18:41:27.814Z"
   },
   {
    "duration": 0,
    "start_time": "2022-10-20T18:41:29.198Z"
   },
   {
    "duration": 0,
    "start_time": "2022-10-20T18:41:29.200Z"
   },
   {
    "duration": 0,
    "start_time": "2022-10-20T18:41:29.201Z"
   },
   {
    "duration": 0,
    "start_time": "2022-10-20T18:41:29.202Z"
   },
   {
    "duration": 0,
    "start_time": "2022-10-20T18:41:29.203Z"
   },
   {
    "duration": 0,
    "start_time": "2022-10-20T18:41:29.222Z"
   },
   {
    "duration": 0,
    "start_time": "2022-10-20T18:41:29.223Z"
   },
   {
    "duration": 0,
    "start_time": "2022-10-20T18:41:29.224Z"
   },
   {
    "duration": 0,
    "start_time": "2022-10-20T18:41:29.226Z"
   },
   {
    "duration": 0,
    "start_time": "2022-10-20T18:41:29.227Z"
   },
   {
    "duration": 0,
    "start_time": "2022-10-20T18:41:29.228Z"
   },
   {
    "duration": 0,
    "start_time": "2022-10-20T18:41:29.229Z"
   },
   {
    "duration": 0,
    "start_time": "2022-10-20T18:41:29.230Z"
   },
   {
    "duration": 0,
    "start_time": "2022-10-20T18:41:29.232Z"
   },
   {
    "duration": 0,
    "start_time": "2022-10-20T18:41:29.232Z"
   },
   {
    "duration": 0,
    "start_time": "2022-10-20T18:41:29.233Z"
   },
   {
    "duration": 0,
    "start_time": "2022-10-20T18:41:29.234Z"
   },
   {
    "duration": 5,
    "start_time": "2022-10-20T18:43:26.674Z"
   },
   {
    "duration": 1069,
    "start_time": "2022-10-20T18:43:32.303Z"
   },
   {
    "duration": 89,
    "start_time": "2022-10-20T18:43:33.374Z"
   },
   {
    "duration": 15,
    "start_time": "2022-10-20T18:43:33.465Z"
   },
   {
    "duration": 45,
    "start_time": "2022-10-20T18:43:33.482Z"
   },
   {
    "duration": 747,
    "start_time": "2022-10-20T18:43:33.530Z"
   },
   {
    "duration": 4,
    "start_time": "2022-10-20T18:43:34.279Z"
   },
   {
    "duration": 161,
    "start_time": "2022-10-20T18:43:34.284Z"
   },
   {
    "duration": 8,
    "start_time": "2022-10-20T18:43:34.447Z"
   },
   {
    "duration": 15,
    "start_time": "2022-10-20T18:43:34.457Z"
   },
   {
    "duration": 25,
    "start_time": "2022-10-20T18:43:34.473Z"
   },
   {
    "duration": 38,
    "start_time": "2022-10-20T18:43:34.500Z"
   },
   {
    "duration": 19,
    "start_time": "2022-10-20T18:43:34.539Z"
   },
   {
    "duration": 19,
    "start_time": "2022-10-20T18:43:34.559Z"
   },
   {
    "duration": 9,
    "start_time": "2022-10-20T18:43:34.580Z"
   },
   {
    "duration": 41,
    "start_time": "2022-10-20T18:43:34.591Z"
   },
   {
    "duration": 19,
    "start_time": "2022-10-20T18:43:34.634Z"
   },
   {
    "duration": 3,
    "start_time": "2022-10-20T18:43:34.654Z"
   },
   {
    "duration": 18,
    "start_time": "2022-10-20T18:43:34.659Z"
   },
   {
    "duration": 162,
    "start_time": "2022-10-20T18:43:34.679Z"
   },
   {
    "duration": 180,
    "start_time": "2022-10-20T18:43:34.842Z"
   },
   {
    "duration": 1667,
    "start_time": "2022-10-20T18:43:35.024Z"
   },
   {
    "duration": 31,
    "start_time": "2022-10-20T18:43:36.692Z"
   },
   {
    "duration": 175,
    "start_time": "2022-10-20T18:43:36.724Z"
   },
   {
    "duration": 1601,
    "start_time": "2022-10-20T18:43:36.901Z"
   },
   {
    "duration": 389,
    "start_time": "2022-10-20T18:43:38.503Z"
   },
   {
    "duration": 218,
    "start_time": "2022-10-20T18:43:38.894Z"
   },
   {
    "duration": 165,
    "start_time": "2022-10-20T18:43:39.114Z"
   },
   {
    "duration": 10,
    "start_time": "2022-10-20T18:43:39.281Z"
   },
   {
    "duration": 201,
    "start_time": "2022-10-20T18:43:39.293Z"
   },
   {
    "duration": 245,
    "start_time": "2022-10-20T18:43:39.496Z"
   },
   {
    "duration": 180,
    "start_time": "2022-10-20T18:43:39.744Z"
   },
   {
    "duration": 170,
    "start_time": "2022-10-20T18:43:39.925Z"
   },
   {
    "duration": 160,
    "start_time": "2022-10-20T18:43:40.097Z"
   },
   {
    "duration": 155,
    "start_time": "2022-10-20T18:43:40.259Z"
   },
   {
    "duration": 17,
    "start_time": "2022-10-20T18:43:40.415Z"
   },
   {
    "duration": 10,
    "start_time": "2022-10-20T18:43:40.433Z"
   },
   {
    "duration": 13,
    "start_time": "2022-10-20T18:43:40.444Z"
   },
   {
    "duration": 12,
    "start_time": "2022-10-20T18:43:40.459Z"
   },
   {
    "duration": 12,
    "start_time": "2022-10-20T18:43:40.473Z"
   },
   {
    "duration": 47,
    "start_time": "2022-10-20T18:43:40.487Z"
   },
   {
    "duration": 12,
    "start_time": "2022-10-20T18:43:40.537Z"
   },
   {
    "duration": 11,
    "start_time": "2022-10-20T18:43:40.551Z"
   },
   {
    "duration": 13,
    "start_time": "2022-10-20T18:43:40.564Z"
   },
   {
    "duration": 15,
    "start_time": "2022-10-20T18:48:24.890Z"
   },
   {
    "duration": 10,
    "start_time": "2022-10-20T18:48:39.394Z"
   },
   {
    "duration": 1070,
    "start_time": "2022-10-20T18:49:58.601Z"
   },
   {
    "duration": 78,
    "start_time": "2022-10-20T18:49:59.673Z"
   },
   {
    "duration": 14,
    "start_time": "2022-10-20T18:49:59.753Z"
   },
   {
    "duration": 30,
    "start_time": "2022-10-20T18:49:59.768Z"
   },
   {
    "duration": 711,
    "start_time": "2022-10-20T18:49:59.800Z"
   },
   {
    "duration": 10,
    "start_time": "2022-10-20T18:50:00.513Z"
   },
   {
    "duration": 184,
    "start_time": "2022-10-20T18:50:00.524Z"
   },
   {
    "duration": 13,
    "start_time": "2022-10-20T18:50:00.709Z"
   },
   {
    "duration": 18,
    "start_time": "2022-10-20T18:50:00.723Z"
   },
   {
    "duration": 36,
    "start_time": "2022-10-20T18:50:00.743Z"
   },
   {
    "duration": 18,
    "start_time": "2022-10-20T18:50:00.781Z"
   },
   {
    "duration": 17,
    "start_time": "2022-10-20T18:50:00.801Z"
   },
   {
    "duration": 19,
    "start_time": "2022-10-20T18:50:00.822Z"
   },
   {
    "duration": 21,
    "start_time": "2022-10-20T18:50:00.844Z"
   },
   {
    "duration": 24,
    "start_time": "2022-10-20T18:50:00.867Z"
   },
   {
    "duration": 27,
    "start_time": "2022-10-20T18:50:00.892Z"
   },
   {
    "duration": 3,
    "start_time": "2022-10-20T18:50:00.920Z"
   },
   {
    "duration": 22,
    "start_time": "2022-10-20T18:50:00.925Z"
   },
   {
    "duration": 136,
    "start_time": "2022-10-20T18:50:00.949Z"
   },
   {
    "duration": 171,
    "start_time": "2022-10-20T18:50:01.087Z"
   },
   {
    "duration": 1625,
    "start_time": "2022-10-20T18:50:01.260Z"
   },
   {
    "duration": 24,
    "start_time": "2022-10-20T18:50:02.886Z"
   },
   {
    "duration": 177,
    "start_time": "2022-10-20T18:50:02.911Z"
   },
   {
    "duration": 1549,
    "start_time": "2022-10-20T18:50:03.091Z"
   },
   {
    "duration": 360,
    "start_time": "2022-10-20T18:50:04.642Z"
   },
   {
    "duration": 173,
    "start_time": "2022-10-20T18:50:05.004Z"
   },
   {
    "duration": 163,
    "start_time": "2022-10-20T18:50:05.178Z"
   },
   {
    "duration": 9,
    "start_time": "2022-10-20T18:50:05.343Z"
   },
   {
    "duration": 176,
    "start_time": "2022-10-20T18:50:05.353Z"
   },
   {
    "duration": 251,
    "start_time": "2022-10-20T18:50:05.532Z"
   },
   {
    "duration": 169,
    "start_time": "2022-10-20T18:50:05.784Z"
   },
   {
    "duration": 156,
    "start_time": "2022-10-20T18:50:05.955Z"
   },
   {
    "duration": 158,
    "start_time": "2022-10-20T18:50:06.113Z"
   },
   {
    "duration": 141,
    "start_time": "2022-10-20T18:50:06.272Z"
   },
   {
    "duration": 18,
    "start_time": "2022-10-20T18:50:06.414Z"
   },
   {
    "duration": 8,
    "start_time": "2022-10-20T18:50:06.433Z"
   },
   {
    "duration": 12,
    "start_time": "2022-10-20T18:50:06.443Z"
   },
   {
    "duration": 12,
    "start_time": "2022-10-20T18:50:06.457Z"
   },
   {
    "duration": 13,
    "start_time": "2022-10-20T18:50:06.470Z"
   },
   {
    "duration": 47,
    "start_time": "2022-10-20T18:50:06.484Z"
   },
   {
    "duration": 15,
    "start_time": "2022-10-20T18:50:06.546Z"
   },
   {
    "duration": 13,
    "start_time": "2022-10-20T18:50:06.563Z"
   },
   {
    "duration": 13,
    "start_time": "2022-10-20T18:50:06.578Z"
   },
   {
    "duration": 9,
    "start_time": "2022-10-20T18:50:06.593Z"
   },
   {
    "duration": 6,
    "start_time": "2022-10-20T18:52:47.672Z"
   },
   {
    "duration": 1040,
    "start_time": "2022-10-20T18:52:53.515Z"
   },
   {
    "duration": 89,
    "start_time": "2022-10-20T18:52:54.557Z"
   },
   {
    "duration": 13,
    "start_time": "2022-10-20T18:52:54.648Z"
   },
   {
    "duration": 28,
    "start_time": "2022-10-20T18:52:54.664Z"
   },
   {
    "duration": 718,
    "start_time": "2022-10-20T18:52:54.695Z"
   },
   {
    "duration": 7,
    "start_time": "2022-10-20T18:52:55.415Z"
   },
   {
    "duration": 167,
    "start_time": "2022-10-20T18:52:55.423Z"
   },
   {
    "duration": 10,
    "start_time": "2022-10-20T18:52:55.592Z"
   },
   {
    "duration": 28,
    "start_time": "2022-10-20T18:52:55.603Z"
   },
   {
    "duration": 29,
    "start_time": "2022-10-20T18:52:55.632Z"
   },
   {
    "duration": 31,
    "start_time": "2022-10-20T18:52:55.663Z"
   },
   {
    "duration": 22,
    "start_time": "2022-10-20T18:52:55.696Z"
   },
   {
    "duration": 24,
    "start_time": "2022-10-20T18:52:55.722Z"
   },
   {
    "duration": 14,
    "start_time": "2022-10-20T18:52:55.749Z"
   },
   {
    "duration": 40,
    "start_time": "2022-10-20T18:52:55.765Z"
   },
   {
    "duration": 18,
    "start_time": "2022-10-20T18:52:55.807Z"
   },
   {
    "duration": 7,
    "start_time": "2022-10-20T18:52:55.827Z"
   },
   {
    "duration": 27,
    "start_time": "2022-10-20T18:52:55.835Z"
   },
   {
    "duration": 147,
    "start_time": "2022-10-20T18:52:55.863Z"
   },
   {
    "duration": 172,
    "start_time": "2022-10-20T18:52:56.011Z"
   },
   {
    "duration": 1586,
    "start_time": "2022-10-20T18:52:56.185Z"
   },
   {
    "duration": 22,
    "start_time": "2022-10-20T18:52:57.773Z"
   },
   {
    "duration": 175,
    "start_time": "2022-10-20T18:52:57.797Z"
   },
   {
    "duration": 1631,
    "start_time": "2022-10-20T18:52:57.973Z"
   },
   {
    "duration": 364,
    "start_time": "2022-10-20T18:52:59.606Z"
   },
   {
    "duration": 169,
    "start_time": "2022-10-20T18:52:59.971Z"
   },
   {
    "duration": 159,
    "start_time": "2022-10-20T18:53:00.142Z"
   },
   {
    "duration": 19,
    "start_time": "2022-10-20T18:53:00.303Z"
   },
   {
    "duration": 172,
    "start_time": "2022-10-20T18:53:00.323Z"
   },
   {
    "duration": 246,
    "start_time": "2022-10-20T18:53:00.496Z"
   },
   {
    "duration": 175,
    "start_time": "2022-10-20T18:53:00.744Z"
   },
   {
    "duration": 169,
    "start_time": "2022-10-20T18:53:00.922Z"
   },
   {
    "duration": 169,
    "start_time": "2022-10-20T18:53:01.093Z"
   },
   {
    "duration": 153,
    "start_time": "2022-10-20T18:53:01.264Z"
   },
   {
    "duration": 14,
    "start_time": "2022-10-20T18:53:01.422Z"
   },
   {
    "duration": 83,
    "start_time": "2022-10-20T18:53:01.438Z"
   },
   {
    "duration": 47,
    "start_time": "2022-10-20T18:53:01.523Z"
   },
   {
    "duration": 23,
    "start_time": "2022-10-20T18:53:01.572Z"
   },
   {
    "duration": 39,
    "start_time": "2022-10-20T18:53:01.597Z"
   },
   {
    "duration": 19,
    "start_time": "2022-10-20T18:53:01.638Z"
   },
   {
    "duration": 30,
    "start_time": "2022-10-20T18:53:01.661Z"
   },
   {
    "duration": 46,
    "start_time": "2022-10-20T18:53:01.693Z"
   },
   {
    "duration": 40,
    "start_time": "2022-10-20T18:53:01.741Z"
   },
   {
    "duration": 14,
    "start_time": "2022-10-20T18:53:01.782Z"
   },
   {
    "duration": 12,
    "start_time": "2022-10-20T18:55:10.796Z"
   },
   {
    "duration": 290,
    "start_time": "2022-10-20T18:55:43.364Z"
   },
   {
    "duration": 25,
    "start_time": "2022-10-20T18:56:03.094Z"
   },
   {
    "duration": 970,
    "start_time": "2022-10-20T18:56:10.458Z"
   },
   {
    "duration": 84,
    "start_time": "2022-10-20T18:56:11.430Z"
   },
   {
    "duration": 13,
    "start_time": "2022-10-20T18:56:11.521Z"
   },
   {
    "duration": 28,
    "start_time": "2022-10-20T18:56:11.536Z"
   },
   {
    "duration": 736,
    "start_time": "2022-10-20T18:56:11.566Z"
   },
   {
    "duration": 5,
    "start_time": "2022-10-20T18:56:12.304Z"
   },
   {
    "duration": 163,
    "start_time": "2022-10-20T18:56:12.311Z"
   },
   {
    "duration": 10,
    "start_time": "2022-10-20T18:56:12.476Z"
   },
   {
    "duration": 34,
    "start_time": "2022-10-20T18:56:12.488Z"
   },
   {
    "duration": 22,
    "start_time": "2022-10-20T18:56:12.525Z"
   },
   {
    "duration": 25,
    "start_time": "2022-10-20T18:56:12.549Z"
   },
   {
    "duration": 19,
    "start_time": "2022-10-20T18:56:12.575Z"
   },
   {
    "duration": 42,
    "start_time": "2022-10-20T18:56:12.595Z"
   },
   {
    "duration": 14,
    "start_time": "2022-10-20T18:56:12.640Z"
   },
   {
    "duration": 24,
    "start_time": "2022-10-20T18:56:12.656Z"
   },
   {
    "duration": 18,
    "start_time": "2022-10-20T18:56:12.681Z"
   },
   {
    "duration": 41,
    "start_time": "2022-10-20T18:56:12.701Z"
   },
   {
    "duration": 18,
    "start_time": "2022-10-20T18:56:12.745Z"
   },
   {
    "duration": 172,
    "start_time": "2022-10-20T18:56:12.765Z"
   },
   {
    "duration": 186,
    "start_time": "2022-10-20T18:56:12.939Z"
   },
   {
    "duration": 1607,
    "start_time": "2022-10-20T18:56:13.127Z"
   },
   {
    "duration": 21,
    "start_time": "2022-10-20T18:56:14.735Z"
   },
   {
    "duration": 168,
    "start_time": "2022-10-20T18:56:14.758Z"
   },
   {
    "duration": 1506,
    "start_time": "2022-10-20T18:56:14.927Z"
   },
   {
    "duration": 356,
    "start_time": "2022-10-20T18:56:16.435Z"
   },
   {
    "duration": 240,
    "start_time": "2022-10-20T18:56:16.793Z"
   },
   {
    "duration": 0,
    "start_time": "2022-10-20T18:56:17.035Z"
   },
   {
    "duration": 0,
    "start_time": "2022-10-20T18:56:17.036Z"
   },
   {
    "duration": 0,
    "start_time": "2022-10-20T18:56:17.038Z"
   },
   {
    "duration": 0,
    "start_time": "2022-10-20T18:56:17.039Z"
   },
   {
    "duration": 0,
    "start_time": "2022-10-20T18:56:17.040Z"
   },
   {
    "duration": 0,
    "start_time": "2022-10-20T18:56:17.042Z"
   },
   {
    "duration": 0,
    "start_time": "2022-10-20T18:56:17.043Z"
   },
   {
    "duration": 0,
    "start_time": "2022-10-20T18:56:17.044Z"
   },
   {
    "duration": 0,
    "start_time": "2022-10-20T18:56:17.046Z"
   },
   {
    "duration": 0,
    "start_time": "2022-10-20T18:56:17.047Z"
   },
   {
    "duration": 0,
    "start_time": "2022-10-20T18:56:17.048Z"
   },
   {
    "duration": 0,
    "start_time": "2022-10-20T18:56:17.049Z"
   },
   {
    "duration": 0,
    "start_time": "2022-10-20T18:56:17.050Z"
   },
   {
    "duration": 0,
    "start_time": "2022-10-20T18:56:17.052Z"
   },
   {
    "duration": 0,
    "start_time": "2022-10-20T18:56:17.053Z"
   },
   {
    "duration": 0,
    "start_time": "2022-10-20T18:56:17.054Z"
   },
   {
    "duration": 0,
    "start_time": "2022-10-20T18:56:17.056Z"
   },
   {
    "duration": 0,
    "start_time": "2022-10-20T18:56:17.057Z"
   },
   {
    "duration": 1016,
    "start_time": "2022-10-20T18:57:10.091Z"
   },
   {
    "duration": 77,
    "start_time": "2022-10-20T18:57:11.109Z"
   },
   {
    "duration": 13,
    "start_time": "2022-10-20T18:57:11.187Z"
   },
   {
    "duration": 39,
    "start_time": "2022-10-20T18:57:11.202Z"
   },
   {
    "duration": 710,
    "start_time": "2022-10-20T18:57:11.243Z"
   },
   {
    "duration": 4,
    "start_time": "2022-10-20T18:57:11.954Z"
   },
   {
    "duration": 165,
    "start_time": "2022-10-20T18:57:11.960Z"
   },
   {
    "duration": 11,
    "start_time": "2022-10-20T18:57:12.126Z"
   },
   {
    "duration": 13,
    "start_time": "2022-10-20T18:57:12.139Z"
   },
   {
    "duration": 20,
    "start_time": "2022-10-20T18:57:12.154Z"
   },
   {
    "duration": 19,
    "start_time": "2022-10-20T18:57:12.176Z"
   },
   {
    "duration": 20,
    "start_time": "2022-10-20T18:57:12.221Z"
   },
   {
    "duration": 17,
    "start_time": "2022-10-20T18:57:12.242Z"
   },
   {
    "duration": 5,
    "start_time": "2022-10-20T18:57:12.262Z"
   },
   {
    "duration": 18,
    "start_time": "2022-10-20T18:57:12.268Z"
   },
   {
    "duration": 49,
    "start_time": "2022-10-20T18:57:12.288Z"
   },
   {
    "duration": 14,
    "start_time": "2022-10-20T18:57:12.338Z"
   },
   {
    "duration": 146,
    "start_time": "2022-10-20T18:57:12.354Z"
   },
   {
    "duration": 179,
    "start_time": "2022-10-20T18:57:12.501Z"
   },
   {
    "duration": 1618,
    "start_time": "2022-10-20T18:57:12.682Z"
   },
   {
    "duration": 28,
    "start_time": "2022-10-20T18:57:14.301Z"
   },
   {
    "duration": 163,
    "start_time": "2022-10-20T18:57:14.330Z"
   },
   {
    "duration": 1512,
    "start_time": "2022-10-20T18:57:14.494Z"
   },
   {
    "duration": 361,
    "start_time": "2022-10-20T18:57:16.007Z"
   },
   {
    "duration": 171,
    "start_time": "2022-10-20T18:57:16.369Z"
   },
   {
    "duration": 157,
    "start_time": "2022-10-20T18:57:16.542Z"
   },
   {
    "duration": 9,
    "start_time": "2022-10-20T18:57:16.701Z"
   },
   {
    "duration": 176,
    "start_time": "2022-10-20T18:57:16.711Z"
   },
   {
    "duration": 243,
    "start_time": "2022-10-20T18:57:16.889Z"
   },
   {
    "duration": 168,
    "start_time": "2022-10-20T18:57:17.134Z"
   },
   {
    "duration": 158,
    "start_time": "2022-10-20T18:57:17.303Z"
   },
   {
    "duration": 180,
    "start_time": "2022-10-20T18:57:17.463Z"
   },
   {
    "duration": 143,
    "start_time": "2022-10-20T18:57:17.645Z"
   },
   {
    "duration": 13,
    "start_time": "2022-10-20T18:57:17.789Z"
   },
   {
    "duration": 20,
    "start_time": "2022-10-20T18:57:17.804Z"
   },
   {
    "duration": 15,
    "start_time": "2022-10-20T18:57:17.826Z"
   },
   {
    "duration": 16,
    "start_time": "2022-10-20T18:57:17.842Z"
   },
   {
    "duration": 14,
    "start_time": "2022-10-20T18:57:17.860Z"
   },
   {
    "duration": 15,
    "start_time": "2022-10-20T18:57:17.876Z"
   },
   {
    "duration": 30,
    "start_time": "2022-10-20T18:57:17.893Z"
   },
   {
    "duration": 13,
    "start_time": "2022-10-20T18:57:17.926Z"
   },
   {
    "duration": 15,
    "start_time": "2022-10-20T18:57:17.941Z"
   },
   {
    "duration": 9,
    "start_time": "2022-10-20T18:57:17.957Z"
   },
   {
    "duration": 22,
    "start_time": "2022-10-20T18:58:21.488Z"
   },
   {
    "duration": 283,
    "start_time": "2022-10-20T18:58:54.717Z"
   },
   {
    "duration": 11,
    "start_time": "2022-10-20T18:59:14.687Z"
   },
   {
    "duration": 5,
    "start_time": "2022-10-20T18:59:49.705Z"
   },
   {
    "duration": 7,
    "start_time": "2022-10-20T19:00:19.635Z"
   },
   {
    "duration": 21,
    "start_time": "2022-10-20T19:00:52.995Z"
   },
   {
    "duration": 24,
    "start_time": "2022-10-20T19:01:12.097Z"
   },
   {
    "duration": 14,
    "start_time": "2022-10-20T19:02:00.167Z"
   },
   {
    "duration": 5,
    "start_time": "2022-10-20T19:02:38.296Z"
   },
   {
    "duration": 1035,
    "start_time": "2022-10-20T19:02:50.938Z"
   },
   {
    "duration": 91,
    "start_time": "2022-10-20T19:02:51.975Z"
   },
   {
    "duration": 14,
    "start_time": "2022-10-20T19:02:52.067Z"
   },
   {
    "duration": 48,
    "start_time": "2022-10-20T19:02:52.083Z"
   },
   {
    "duration": 708,
    "start_time": "2022-10-20T19:02:52.133Z"
   },
   {
    "duration": 5,
    "start_time": "2022-10-20T19:02:52.843Z"
   },
   {
    "duration": 167,
    "start_time": "2022-10-20T19:02:52.850Z"
   },
   {
    "duration": 16,
    "start_time": "2022-10-20T19:02:53.021Z"
   },
   {
    "duration": 28,
    "start_time": "2022-10-20T19:02:53.038Z"
   },
   {
    "duration": 35,
    "start_time": "2022-10-20T19:02:53.070Z"
   },
   {
    "duration": 41,
    "start_time": "2022-10-20T19:02:53.107Z"
   },
   {
    "duration": 36,
    "start_time": "2022-10-20T19:02:53.150Z"
   },
   {
    "duration": 19,
    "start_time": "2022-10-20T19:02:53.188Z"
   },
   {
    "duration": 18,
    "start_time": "2022-10-20T19:02:53.209Z"
   },
   {
    "duration": 20,
    "start_time": "2022-10-20T19:02:53.228Z"
   },
   {
    "duration": 31,
    "start_time": "2022-10-20T19:02:53.250Z"
   },
   {
    "duration": 20,
    "start_time": "2022-10-20T19:02:53.283Z"
   },
   {
    "duration": 147,
    "start_time": "2022-10-20T19:02:53.305Z"
   },
   {
    "duration": 223,
    "start_time": "2022-10-20T19:02:53.455Z"
   },
   {
    "duration": 1674,
    "start_time": "2022-10-20T19:02:53.680Z"
   },
   {
    "duration": 22,
    "start_time": "2022-10-20T19:02:55.355Z"
   },
   {
    "duration": 182,
    "start_time": "2022-10-20T19:02:55.379Z"
   },
   {
    "duration": 1589,
    "start_time": "2022-10-20T19:02:55.562Z"
   },
   {
    "duration": 378,
    "start_time": "2022-10-20T19:02:57.153Z"
   },
   {
    "duration": 209,
    "start_time": "2022-10-20T19:02:57.535Z"
   },
   {
    "duration": 170,
    "start_time": "2022-10-20T19:02:57.746Z"
   },
   {
    "duration": 11,
    "start_time": "2022-10-20T19:02:57.917Z"
   },
   {
    "duration": 182,
    "start_time": "2022-10-20T19:02:57.932Z"
   },
   {
    "duration": 259,
    "start_time": "2022-10-20T19:02:58.115Z"
   },
   {
    "duration": 173,
    "start_time": "2022-10-20T19:02:58.375Z"
   },
   {
    "duration": 157,
    "start_time": "2022-10-20T19:02:58.549Z"
   },
   {
    "duration": 168,
    "start_time": "2022-10-20T19:02:58.707Z"
   },
   {
    "duration": 197,
    "start_time": "2022-10-20T19:02:58.877Z"
   },
   {
    "duration": 16,
    "start_time": "2022-10-20T19:02:59.076Z"
   },
   {
    "duration": 26,
    "start_time": "2022-10-20T19:02:59.096Z"
   },
   {
    "duration": 35,
    "start_time": "2022-10-20T19:02:59.126Z"
   },
   {
    "duration": 13,
    "start_time": "2022-10-20T19:02:59.163Z"
   },
   {
    "duration": 12,
    "start_time": "2022-10-20T19:02:59.177Z"
   },
   {
    "duration": 12,
    "start_time": "2022-10-20T19:02:59.191Z"
   },
   {
    "duration": 30,
    "start_time": "2022-10-20T19:02:59.205Z"
   },
   {
    "duration": 13,
    "start_time": "2022-10-20T19:02:59.238Z"
   },
   {
    "duration": 16,
    "start_time": "2022-10-20T19:02:59.252Z"
   },
   {
    "duration": 13,
    "start_time": "2022-10-20T19:04:08.344Z"
   },
   {
    "duration": 6,
    "start_time": "2022-10-20T19:06:25.174Z"
   },
   {
    "duration": 21,
    "start_time": "2022-10-20T19:06:34.845Z"
   },
   {
    "duration": 54,
    "start_time": "2022-10-20T19:07:07.144Z"
   },
   {
    "duration": 13,
    "start_time": "2022-10-20T19:07:15.213Z"
   },
   {
    "duration": 7,
    "start_time": "2022-10-20T19:07:24.011Z"
   },
   {
    "duration": 22,
    "start_time": "2022-10-20T19:07:26.665Z"
   },
   {
    "duration": 1001,
    "start_time": "2022-10-20T19:07:35.657Z"
   },
   {
    "duration": 85,
    "start_time": "2022-10-20T19:07:36.660Z"
   },
   {
    "duration": 19,
    "start_time": "2022-10-20T19:07:36.746Z"
   },
   {
    "duration": 61,
    "start_time": "2022-10-20T19:07:36.768Z"
   },
   {
    "duration": 744,
    "start_time": "2022-10-20T19:07:36.831Z"
   },
   {
    "duration": 4,
    "start_time": "2022-10-20T19:07:37.577Z"
   },
   {
    "duration": 167,
    "start_time": "2022-10-20T19:07:37.583Z"
   },
   {
    "duration": 9,
    "start_time": "2022-10-20T19:07:37.751Z"
   },
   {
    "duration": 16,
    "start_time": "2022-10-20T19:07:37.761Z"
   },
   {
    "duration": 30,
    "start_time": "2022-10-20T19:07:37.778Z"
   },
   {
    "duration": 44,
    "start_time": "2022-10-20T19:07:37.810Z"
   },
   {
    "duration": 20,
    "start_time": "2022-10-20T19:07:37.855Z"
   },
   {
    "duration": 18,
    "start_time": "2022-10-20T19:07:37.876Z"
   },
   {
    "duration": 14,
    "start_time": "2022-10-20T19:07:37.896Z"
   },
   {
    "duration": 23,
    "start_time": "2022-10-20T19:07:37.912Z"
   },
   {
    "duration": 16,
    "start_time": "2022-10-20T19:07:37.936Z"
   },
   {
    "duration": 13,
    "start_time": "2022-10-20T19:07:37.954Z"
   },
   {
    "duration": 157,
    "start_time": "2022-10-20T19:07:37.969Z"
   },
   {
    "duration": 170,
    "start_time": "2022-10-20T19:07:38.128Z"
   },
   {
    "duration": 1653,
    "start_time": "2022-10-20T19:07:38.299Z"
   },
   {
    "duration": 25,
    "start_time": "2022-10-20T19:07:39.954Z"
   },
   {
    "duration": 194,
    "start_time": "2022-10-20T19:07:39.981Z"
   },
   {
    "duration": 1599,
    "start_time": "2022-10-20T19:07:40.177Z"
   },
   {
    "duration": 352,
    "start_time": "2022-10-20T19:07:41.778Z"
   },
   {
    "duration": 178,
    "start_time": "2022-10-20T19:07:42.131Z"
   },
   {
    "duration": 163,
    "start_time": "2022-10-20T19:07:42.310Z"
   },
   {
    "duration": 9,
    "start_time": "2022-10-20T19:07:42.474Z"
   },
   {
    "duration": 179,
    "start_time": "2022-10-20T19:07:42.485Z"
   },
   {
    "duration": 244,
    "start_time": "2022-10-20T19:07:42.666Z"
   },
   {
    "duration": 184,
    "start_time": "2022-10-20T19:07:42.911Z"
   },
   {
    "duration": 162,
    "start_time": "2022-10-20T19:07:43.097Z"
   },
   {
    "duration": 164,
    "start_time": "2022-10-20T19:07:43.261Z"
   },
   {
    "duration": 151,
    "start_time": "2022-10-20T19:07:43.426Z"
   },
   {
    "duration": 14,
    "start_time": "2022-10-20T19:07:43.578Z"
   },
   {
    "duration": 8,
    "start_time": "2022-10-20T19:07:43.594Z"
   },
   {
    "duration": 29,
    "start_time": "2022-10-20T19:07:43.604Z"
   },
   {
    "duration": 13,
    "start_time": "2022-10-20T19:07:43.634Z"
   },
   {
    "duration": 14,
    "start_time": "2022-10-20T19:07:43.648Z"
   },
   {
    "duration": 14,
    "start_time": "2022-10-20T19:07:43.664Z"
   },
   {
    "duration": 43,
    "start_time": "2022-10-20T19:07:43.680Z"
   },
   {
    "duration": 15,
    "start_time": "2022-10-20T19:07:43.727Z"
   },
   {
    "duration": 20,
    "start_time": "2022-10-20T19:07:43.743Z"
   },
   {
    "duration": 16,
    "start_time": "2022-10-20T19:07:43.765Z"
   },
   {
    "duration": 6,
    "start_time": "2022-10-20T19:07:43.783Z"
   },
   {
    "duration": 48,
    "start_time": "2022-10-20T19:07:43.790Z"
   },
   {
    "duration": 5,
    "start_time": "2022-10-20T19:08:11.158Z"
   },
   {
    "duration": 32,
    "start_time": "2022-10-20T19:08:19.120Z"
   },
   {
    "duration": 8,
    "start_time": "2022-10-20T19:09:15.429Z"
   },
   {
    "duration": 7,
    "start_time": "2022-10-20T19:09:24.130Z"
   },
   {
    "duration": 7,
    "start_time": "2022-10-20T19:09:36.638Z"
   },
   {
    "duration": 11,
    "start_time": "2022-10-20T19:10:28.950Z"
   },
   {
    "duration": 98,
    "start_time": "2022-10-20T19:13:01.574Z"
   },
   {
    "duration": 14,
    "start_time": "2022-10-20T19:13:26.974Z"
   },
   {
    "duration": 5,
    "start_time": "2022-10-20T19:14:21.760Z"
   },
   {
    "duration": 6,
    "start_time": "2022-10-20T19:14:36.317Z"
   },
   {
    "duration": 7,
    "start_time": "2022-10-20T19:14:53.585Z"
   },
   {
    "duration": 6,
    "start_time": "2022-10-20T19:15:05.033Z"
   },
   {
    "duration": 5,
    "start_time": "2022-10-20T19:16:06.161Z"
   },
   {
    "duration": 8,
    "start_time": "2022-10-20T19:22:35.873Z"
   },
   {
    "duration": 21,
    "start_time": "2022-10-20T19:22:50.481Z"
   },
   {
    "duration": 1035,
    "start_time": "2022-10-20T19:23:12.347Z"
   },
   {
    "duration": 93,
    "start_time": "2022-10-20T19:23:13.385Z"
   },
   {
    "duration": 18,
    "start_time": "2022-10-20T19:23:13.479Z"
   },
   {
    "duration": 50,
    "start_time": "2022-10-20T19:23:13.499Z"
   },
   {
    "duration": 749,
    "start_time": "2022-10-20T19:23:13.551Z"
   },
   {
    "duration": 5,
    "start_time": "2022-10-20T19:23:14.301Z"
   },
   {
    "duration": 178,
    "start_time": "2022-10-20T19:23:14.308Z"
   },
   {
    "duration": 12,
    "start_time": "2022-10-20T19:23:14.487Z"
   },
   {
    "duration": 33,
    "start_time": "2022-10-20T19:23:14.501Z"
   },
   {
    "duration": 38,
    "start_time": "2022-10-20T19:23:14.537Z"
   },
   {
    "duration": 27,
    "start_time": "2022-10-20T19:23:14.576Z"
   },
   {
    "duration": 18,
    "start_time": "2022-10-20T19:23:14.604Z"
   },
   {
    "duration": 33,
    "start_time": "2022-10-20T19:23:14.623Z"
   },
   {
    "duration": 4,
    "start_time": "2022-10-20T19:23:14.660Z"
   },
   {
    "duration": 40,
    "start_time": "2022-10-20T19:23:14.666Z"
   },
   {
    "duration": 47,
    "start_time": "2022-10-20T19:23:14.708Z"
   },
   {
    "duration": 35,
    "start_time": "2022-10-20T19:23:14.757Z"
   },
   {
    "duration": 19,
    "start_time": "2022-10-20T19:23:14.795Z"
   },
   {
    "duration": 199,
    "start_time": "2022-10-20T19:23:14.816Z"
   },
   {
    "duration": 212,
    "start_time": "2022-10-20T19:23:15.017Z"
   },
   {
    "duration": 1937,
    "start_time": "2022-10-20T19:23:15.230Z"
   },
   {
    "duration": 24,
    "start_time": "2022-10-20T19:23:17.169Z"
   },
   {
    "duration": 216,
    "start_time": "2022-10-20T19:23:17.194Z"
   },
   {
    "duration": 1686,
    "start_time": "2022-10-20T19:23:17.413Z"
   },
   {
    "duration": 432,
    "start_time": "2022-10-20T19:23:19.101Z"
   },
   {
    "duration": 180,
    "start_time": "2022-10-20T19:23:19.535Z"
   },
   {
    "duration": 167,
    "start_time": "2022-10-20T19:23:19.717Z"
   },
   {
    "duration": 10,
    "start_time": "2022-10-20T19:23:19.886Z"
   },
   {
    "duration": 192,
    "start_time": "2022-10-20T19:23:19.897Z"
   },
   {
    "duration": 242,
    "start_time": "2022-10-20T19:23:20.090Z"
   },
   {
    "duration": 202,
    "start_time": "2022-10-20T19:23:20.334Z"
   },
   {
    "duration": 168,
    "start_time": "2022-10-20T19:23:20.538Z"
   },
   {
    "duration": 177,
    "start_time": "2022-10-20T19:23:20.708Z"
   },
   {
    "duration": 149,
    "start_time": "2022-10-20T19:23:20.887Z"
   },
   {
    "duration": 17,
    "start_time": "2022-10-20T19:23:21.037Z"
   },
   {
    "duration": 14,
    "start_time": "2022-10-20T19:23:21.056Z"
   },
   {
    "duration": 45,
    "start_time": "2022-10-20T19:23:21.072Z"
   },
   {
    "duration": 24,
    "start_time": "2022-10-20T19:23:21.119Z"
   },
   {
    "duration": 17,
    "start_time": "2022-10-20T19:23:21.145Z"
   },
   {
    "duration": 13,
    "start_time": "2022-10-20T19:23:21.163Z"
   },
   {
    "duration": 13,
    "start_time": "2022-10-20T19:23:21.180Z"
   },
   {
    "duration": 43,
    "start_time": "2022-10-20T19:23:21.195Z"
   },
   {
    "duration": 20,
    "start_time": "2022-10-20T19:23:21.240Z"
   },
   {
    "duration": 4,
    "start_time": "2022-10-20T19:23:21.262Z"
   },
   {
    "duration": 7,
    "start_time": "2022-10-20T19:23:21.267Z"
   },
   {
    "duration": 7,
    "start_time": "2022-10-20T19:23:21.276Z"
   },
   {
    "duration": 38,
    "start_time": "2022-10-20T19:23:21.285Z"
   },
   {
    "duration": 9,
    "start_time": "2022-10-20T19:23:21.325Z"
   },
   {
    "duration": 16,
    "start_time": "2022-10-20T19:23:21.336Z"
   },
   {
    "duration": 4,
    "start_time": "2022-10-20T19:23:21.353Z"
   },
   {
    "duration": 1014,
    "start_time": "2022-10-20T19:24:40.110Z"
   },
   {
    "duration": 92,
    "start_time": "2022-10-20T19:24:41.126Z"
   },
   {
    "duration": 14,
    "start_time": "2022-10-20T19:24:41.220Z"
   },
   {
    "duration": 33,
    "start_time": "2022-10-20T19:24:41.236Z"
   },
   {
    "duration": 800,
    "start_time": "2022-10-20T19:24:41.271Z"
   },
   {
    "duration": 4,
    "start_time": "2022-10-20T19:24:42.073Z"
   },
   {
    "duration": 167,
    "start_time": "2022-10-20T19:24:42.078Z"
   },
   {
    "duration": 9,
    "start_time": "2022-10-20T19:24:42.247Z"
   },
   {
    "duration": 15,
    "start_time": "2022-10-20T19:24:42.258Z"
   },
   {
    "duration": 20,
    "start_time": "2022-10-20T19:24:42.276Z"
   },
   {
    "duration": 39,
    "start_time": "2022-10-20T19:24:42.298Z"
   },
   {
    "duration": 21,
    "start_time": "2022-10-20T19:24:42.339Z"
   },
   {
    "duration": 20,
    "start_time": "2022-10-20T19:24:42.362Z"
   },
   {
    "duration": 9,
    "start_time": "2022-10-20T19:24:42.384Z"
   },
   {
    "duration": 40,
    "start_time": "2022-10-20T19:24:42.395Z"
   },
   {
    "duration": 18,
    "start_time": "2022-10-20T19:24:42.437Z"
   },
   {
    "duration": 20,
    "start_time": "2022-10-20T19:24:42.457Z"
   },
   {
    "duration": 16,
    "start_time": "2022-10-20T19:24:42.479Z"
   },
   {
    "duration": 160,
    "start_time": "2022-10-20T19:24:42.522Z"
   },
   {
    "duration": 176,
    "start_time": "2022-10-20T19:24:42.684Z"
   },
   {
    "duration": 1598,
    "start_time": "2022-10-20T19:24:42.862Z"
   },
   {
    "duration": 31,
    "start_time": "2022-10-20T19:24:44.462Z"
   },
   {
    "duration": 174,
    "start_time": "2022-10-20T19:24:44.496Z"
   },
   {
    "duration": 1594,
    "start_time": "2022-10-20T19:24:44.672Z"
   },
   {
    "duration": 362,
    "start_time": "2022-10-20T19:24:46.268Z"
   },
   {
    "duration": 165,
    "start_time": "2022-10-20T19:24:46.632Z"
   },
   {
    "duration": 158,
    "start_time": "2022-10-20T19:24:46.799Z"
   },
   {
    "duration": 9,
    "start_time": "2022-10-20T19:24:46.960Z"
   },
   {
    "duration": 171,
    "start_time": "2022-10-20T19:24:46.971Z"
   },
   {
    "duration": 244,
    "start_time": "2022-10-20T19:24:47.144Z"
   },
   {
    "duration": 180,
    "start_time": "2022-10-20T19:24:47.389Z"
   },
   {
    "duration": 156,
    "start_time": "2022-10-20T19:24:47.570Z"
   },
   {
    "duration": 147,
    "start_time": "2022-10-20T19:24:47.728Z"
   },
   {
    "duration": 150,
    "start_time": "2022-10-20T19:24:47.877Z"
   },
   {
    "duration": 19,
    "start_time": "2022-10-20T19:24:48.029Z"
   },
   {
    "duration": 11,
    "start_time": "2022-10-20T19:24:48.050Z"
   },
   {
    "duration": 23,
    "start_time": "2022-10-20T19:24:48.063Z"
   },
   {
    "duration": 14,
    "start_time": "2022-10-20T19:24:48.088Z"
   },
   {
    "duration": 30,
    "start_time": "2022-10-20T19:24:48.103Z"
   },
   {
    "duration": 13,
    "start_time": "2022-10-20T19:24:48.135Z"
   },
   {
    "duration": 13,
    "start_time": "2022-10-20T19:24:48.150Z"
   },
   {
    "duration": 17,
    "start_time": "2022-10-20T19:24:48.164Z"
   },
   {
    "duration": 50,
    "start_time": "2022-10-20T19:24:48.182Z"
   },
   {
    "duration": 5,
    "start_time": "2022-10-20T19:24:48.234Z"
   },
   {
    "duration": 8,
    "start_time": "2022-10-20T19:24:48.241Z"
   },
   {
    "duration": 8,
    "start_time": "2022-10-20T19:24:48.250Z"
   },
   {
    "duration": 9,
    "start_time": "2022-10-20T19:24:48.259Z"
   },
   {
    "duration": 10,
    "start_time": "2022-10-20T19:24:48.270Z"
   },
   {
    "duration": 40,
    "start_time": "2022-10-20T19:24:48.282Z"
   },
   {
    "duration": 5,
    "start_time": "2022-10-20T19:24:48.324Z"
   },
   {
    "duration": 16,
    "start_time": "2022-10-20T19:25:21.482Z"
   },
   {
    "duration": 1029,
    "start_time": "2022-10-20T19:25:27.637Z"
   },
   {
    "duration": 96,
    "start_time": "2022-10-20T19:25:28.668Z"
   },
   {
    "duration": 19,
    "start_time": "2022-10-20T19:25:28.766Z"
   },
   {
    "duration": 72,
    "start_time": "2022-10-20T19:25:28.787Z"
   },
   {
    "duration": 854,
    "start_time": "2022-10-20T19:25:28.863Z"
   },
   {
    "duration": 4,
    "start_time": "2022-10-20T19:25:29.721Z"
   },
   {
    "duration": 167,
    "start_time": "2022-10-20T19:25:29.727Z"
   },
   {
    "duration": 9,
    "start_time": "2022-10-20T19:25:29.896Z"
   },
   {
    "duration": 29,
    "start_time": "2022-10-20T19:25:29.906Z"
   },
   {
    "duration": 26,
    "start_time": "2022-10-20T19:25:29.936Z"
   },
   {
    "duration": 20,
    "start_time": "2022-10-20T19:25:29.964Z"
   },
   {
    "duration": 45,
    "start_time": "2022-10-20T19:25:29.986Z"
   },
   {
    "duration": 24,
    "start_time": "2022-10-20T19:25:30.032Z"
   },
   {
    "duration": 9,
    "start_time": "2022-10-20T19:25:30.059Z"
   },
   {
    "duration": 20,
    "start_time": "2022-10-20T19:25:30.070Z"
   },
   {
    "duration": 37,
    "start_time": "2022-10-20T19:25:30.092Z"
   },
   {
    "duration": 8,
    "start_time": "2022-10-20T19:25:30.131Z"
   },
   {
    "duration": 24,
    "start_time": "2022-10-20T19:25:30.141Z"
   },
   {
    "duration": 157,
    "start_time": "2022-10-20T19:25:30.167Z"
   },
   {
    "duration": 170,
    "start_time": "2022-10-20T19:25:30.326Z"
   },
   {
    "duration": 1644,
    "start_time": "2022-10-20T19:25:30.498Z"
   },
   {
    "duration": 22,
    "start_time": "2022-10-20T19:25:32.144Z"
   },
   {
    "duration": 169,
    "start_time": "2022-10-20T19:25:32.167Z"
   },
   {
    "duration": 1553,
    "start_time": "2022-10-20T19:25:32.338Z"
   },
   {
    "duration": 366,
    "start_time": "2022-10-20T19:25:33.893Z"
   },
   {
    "duration": 181,
    "start_time": "2022-10-20T19:25:34.260Z"
   },
   {
    "duration": 161,
    "start_time": "2022-10-20T19:25:34.443Z"
   },
   {
    "duration": 19,
    "start_time": "2022-10-20T19:25:34.606Z"
   },
   {
    "duration": 176,
    "start_time": "2022-10-20T19:25:34.627Z"
   },
   {
    "duration": 244,
    "start_time": "2022-10-20T19:25:34.805Z"
   },
   {
    "duration": 217,
    "start_time": "2022-10-20T19:25:35.052Z"
   },
   {
    "duration": 158,
    "start_time": "2022-10-20T19:25:35.271Z"
   },
   {
    "duration": 165,
    "start_time": "2022-10-20T19:25:35.432Z"
   },
   {
    "duration": 176,
    "start_time": "2022-10-20T19:25:35.599Z"
   },
   {
    "duration": 13,
    "start_time": "2022-10-20T19:25:35.777Z"
   },
   {
    "duration": 9,
    "start_time": "2022-10-20T19:25:35.791Z"
   },
   {
    "duration": 29,
    "start_time": "2022-10-20T19:25:35.801Z"
   },
   {
    "duration": 14,
    "start_time": "2022-10-20T19:25:35.832Z"
   },
   {
    "duration": 13,
    "start_time": "2022-10-20T19:25:35.847Z"
   },
   {
    "duration": 17,
    "start_time": "2022-10-20T19:25:35.862Z"
   },
   {
    "duration": 13,
    "start_time": "2022-10-20T19:25:35.882Z"
   },
   {
    "duration": 14,
    "start_time": "2022-10-20T19:25:35.922Z"
   },
   {
    "duration": 14,
    "start_time": "2022-10-20T19:25:35.938Z"
   },
   {
    "duration": 9,
    "start_time": "2022-10-20T19:25:35.953Z"
   },
   {
    "duration": 7,
    "start_time": "2022-10-20T19:25:35.963Z"
   },
   {
    "duration": 11,
    "start_time": "2022-10-20T19:25:35.972Z"
   },
   {
    "duration": 8,
    "start_time": "2022-10-20T19:25:35.985Z"
   },
   {
    "duration": 39,
    "start_time": "2022-10-20T19:25:35.995Z"
   },
   {
    "duration": 17,
    "start_time": "2022-10-20T19:25:36.037Z"
   },
   {
    "duration": 5,
    "start_time": "2022-10-20T19:25:36.056Z"
   },
   {
    "duration": 4,
    "start_time": "2022-10-20T19:28:24.330Z"
   },
   {
    "duration": 7,
    "start_time": "2022-10-20T19:28:42.170Z"
   },
   {
    "duration": 997,
    "start_time": "2022-10-20T19:29:00.554Z"
   },
   {
    "duration": 101,
    "start_time": "2022-10-20T19:29:01.553Z"
   },
   {
    "duration": 16,
    "start_time": "2022-10-20T19:29:01.655Z"
   },
   {
    "duration": 55,
    "start_time": "2022-10-20T19:29:01.674Z"
   },
   {
    "duration": 748,
    "start_time": "2022-10-20T19:29:01.731Z"
   },
   {
    "duration": 5,
    "start_time": "2022-10-20T19:29:02.481Z"
   },
   {
    "duration": 173,
    "start_time": "2022-10-20T19:29:02.488Z"
   },
   {
    "duration": 10,
    "start_time": "2022-10-20T19:29:02.663Z"
   },
   {
    "duration": 18,
    "start_time": "2022-10-20T19:29:02.675Z"
   },
   {
    "duration": 41,
    "start_time": "2022-10-20T19:29:02.696Z"
   },
   {
    "duration": 20,
    "start_time": "2022-10-20T19:29:02.739Z"
   },
   {
    "duration": 20,
    "start_time": "2022-10-20T19:29:02.761Z"
   },
   {
    "duration": 44,
    "start_time": "2022-10-20T19:29:02.782Z"
   },
   {
    "duration": 7,
    "start_time": "2022-10-20T19:29:02.828Z"
   },
   {
    "duration": 22,
    "start_time": "2022-10-20T19:29:02.837Z"
   },
   {
    "duration": 18,
    "start_time": "2022-10-20T19:29:02.861Z"
   },
   {
    "duration": 6,
    "start_time": "2022-10-20T19:29:02.881Z"
   },
   {
    "duration": 44,
    "start_time": "2022-10-20T19:29:02.888Z"
   },
   {
    "duration": 143,
    "start_time": "2022-10-20T19:29:02.934Z"
   },
   {
    "duration": 168,
    "start_time": "2022-10-20T19:29:03.079Z"
   },
   {
    "duration": 1664,
    "start_time": "2022-10-20T19:29:03.248Z"
   },
   {
    "duration": 23,
    "start_time": "2022-10-20T19:29:04.921Z"
   },
   {
    "duration": 197,
    "start_time": "2022-10-20T19:29:04.945Z"
   },
   {
    "duration": 1518,
    "start_time": "2022-10-20T19:29:05.144Z"
   },
   {
    "duration": 361,
    "start_time": "2022-10-20T19:29:06.664Z"
   },
   {
    "duration": 161,
    "start_time": "2022-10-20T19:29:07.026Z"
   },
   {
    "duration": 168,
    "start_time": "2022-10-20T19:29:07.189Z"
   },
   {
    "duration": 9,
    "start_time": "2022-10-20T19:29:07.360Z"
   },
   {
    "duration": 179,
    "start_time": "2022-10-20T19:29:07.370Z"
   },
   {
    "duration": 250,
    "start_time": "2022-10-20T19:29:07.551Z"
   },
   {
    "duration": 173,
    "start_time": "2022-10-20T19:29:07.802Z"
   },
   {
    "duration": 176,
    "start_time": "2022-10-20T19:29:07.977Z"
   },
   {
    "duration": 150,
    "start_time": "2022-10-20T19:29:08.155Z"
   },
   {
    "duration": 163,
    "start_time": "2022-10-20T19:29:08.307Z"
   },
   {
    "duration": 14,
    "start_time": "2022-10-20T19:29:08.472Z"
   },
   {
    "duration": 9,
    "start_time": "2022-10-20T19:29:08.487Z"
   },
   {
    "duration": 33,
    "start_time": "2022-10-20T19:29:08.498Z"
   },
   {
    "duration": 16,
    "start_time": "2022-10-20T19:29:08.532Z"
   },
   {
    "duration": 12,
    "start_time": "2022-10-20T19:29:08.550Z"
   },
   {
    "duration": 13,
    "start_time": "2022-10-20T19:29:08.563Z"
   },
   {
    "duration": 46,
    "start_time": "2022-10-20T19:29:08.577Z"
   },
   {
    "duration": 13,
    "start_time": "2022-10-20T19:29:08.624Z"
   },
   {
    "duration": 15,
    "start_time": "2022-10-20T19:29:08.639Z"
   },
   {
    "duration": 9,
    "start_time": "2022-10-20T19:29:08.656Z"
   },
   {
    "duration": 6,
    "start_time": "2022-10-20T19:29:08.667Z"
   },
   {
    "duration": 9,
    "start_time": "2022-10-20T19:29:08.674Z"
   },
   {
    "duration": 54,
    "start_time": "2022-10-20T19:29:08.685Z"
   },
   {
    "duration": 987,
    "start_time": "2022-10-20T19:30:36.637Z"
   },
   {
    "duration": 90,
    "start_time": "2022-10-20T19:30:37.626Z"
   },
   {
    "duration": 20,
    "start_time": "2022-10-20T19:30:37.717Z"
   },
   {
    "duration": 32,
    "start_time": "2022-10-20T19:30:37.739Z"
   },
   {
    "duration": 716,
    "start_time": "2022-10-20T19:30:37.773Z"
   },
   {
    "duration": 4,
    "start_time": "2022-10-20T19:30:38.491Z"
   },
   {
    "duration": 174,
    "start_time": "2022-10-20T19:30:38.497Z"
   },
   {
    "duration": 9,
    "start_time": "2022-10-20T19:30:38.672Z"
   },
   {
    "duration": 14,
    "start_time": "2022-10-20T19:30:38.683Z"
   },
   {
    "duration": 39,
    "start_time": "2022-10-20T19:30:38.699Z"
   },
   {
    "duration": 21,
    "start_time": "2022-10-20T19:30:38.740Z"
   },
   {
    "duration": 18,
    "start_time": "2022-10-20T19:30:38.762Z"
   },
   {
    "duration": 19,
    "start_time": "2022-10-20T19:30:38.782Z"
   },
   {
    "duration": 8,
    "start_time": "2022-10-20T19:30:38.828Z"
   },
   {
    "duration": 22,
    "start_time": "2022-10-20T19:30:38.838Z"
   },
   {
    "duration": 23,
    "start_time": "2022-10-20T19:30:38.862Z"
   },
   {
    "duration": 18,
    "start_time": "2022-10-20T19:30:38.887Z"
   },
   {
    "duration": 184,
    "start_time": "2022-10-20T19:30:38.926Z"
   },
   {
    "duration": 174,
    "start_time": "2022-10-20T19:30:39.112Z"
   },
   {
    "duration": 1650,
    "start_time": "2022-10-20T19:30:39.288Z"
   },
   {
    "duration": 23,
    "start_time": "2022-10-20T19:30:40.940Z"
   },
   {
    "duration": 203,
    "start_time": "2022-10-20T19:30:40.965Z"
   },
   {
    "duration": 1694,
    "start_time": "2022-10-20T19:30:41.171Z"
   },
   {
    "duration": 373,
    "start_time": "2022-10-20T19:30:42.866Z"
   },
   {
    "duration": 173,
    "start_time": "2022-10-20T19:30:43.241Z"
   },
   {
    "duration": 172,
    "start_time": "2022-10-20T19:30:43.416Z"
   },
   {
    "duration": 9,
    "start_time": "2022-10-20T19:30:43.589Z"
   },
   {
    "duration": 177,
    "start_time": "2022-10-20T19:30:43.601Z"
   },
   {
    "duration": 254,
    "start_time": "2022-10-20T19:30:43.780Z"
   },
   {
    "duration": 177,
    "start_time": "2022-10-20T19:30:44.035Z"
   },
   {
    "duration": 170,
    "start_time": "2022-10-20T19:30:44.213Z"
   },
   {
    "duration": 173,
    "start_time": "2022-10-20T19:30:44.384Z"
   },
   {
    "duration": 149,
    "start_time": "2022-10-20T19:30:44.559Z"
   },
   {
    "duration": 26,
    "start_time": "2022-10-20T19:30:44.709Z"
   },
   {
    "duration": 12,
    "start_time": "2022-10-20T19:30:44.737Z"
   },
   {
    "duration": 17,
    "start_time": "2022-10-20T19:30:44.751Z"
   },
   {
    "duration": 14,
    "start_time": "2022-10-20T19:30:44.770Z"
   },
   {
    "duration": 23,
    "start_time": "2022-10-20T19:30:44.785Z"
   },
   {
    "duration": 30,
    "start_time": "2022-10-20T19:30:44.810Z"
   },
   {
    "duration": 19,
    "start_time": "2022-10-20T19:30:44.842Z"
   },
   {
    "duration": 12,
    "start_time": "2022-10-20T19:30:44.864Z"
   },
   {
    "duration": 15,
    "start_time": "2022-10-20T19:30:44.877Z"
   },
   {
    "duration": 6,
    "start_time": "2022-10-20T19:30:44.895Z"
   },
   {
    "duration": 21,
    "start_time": "2022-10-20T19:30:44.902Z"
   },
   {
    "duration": 13,
    "start_time": "2022-10-20T19:30:44.924Z"
   },
   {
    "duration": 30,
    "start_time": "2022-10-20T19:30:44.939Z"
   },
   {
    "duration": 7,
    "start_time": "2022-10-20T19:31:37.537Z"
   },
   {
    "duration": 1091,
    "start_time": "2022-10-20T19:32:08.620Z"
   },
   {
    "duration": 83,
    "start_time": "2022-10-20T19:32:09.713Z"
   },
   {
    "duration": 14,
    "start_time": "2022-10-20T19:32:09.798Z"
   },
   {
    "duration": 45,
    "start_time": "2022-10-20T19:32:09.813Z"
   },
   {
    "duration": 715,
    "start_time": "2022-10-20T19:32:09.861Z"
   },
   {
    "duration": 4,
    "start_time": "2022-10-20T19:32:10.577Z"
   },
   {
    "duration": 176,
    "start_time": "2022-10-20T19:32:10.583Z"
   },
   {
    "duration": 10,
    "start_time": "2022-10-20T19:32:10.761Z"
   },
   {
    "duration": 16,
    "start_time": "2022-10-20T19:32:10.773Z"
   },
   {
    "duration": 45,
    "start_time": "2022-10-20T19:32:10.790Z"
   },
   {
    "duration": 21,
    "start_time": "2022-10-20T19:32:10.837Z"
   },
   {
    "duration": 19,
    "start_time": "2022-10-20T19:32:10.860Z"
   },
   {
    "duration": 53,
    "start_time": "2022-10-20T19:32:10.880Z"
   },
   {
    "duration": 6,
    "start_time": "2022-10-20T19:32:10.936Z"
   },
   {
    "duration": 18,
    "start_time": "2022-10-20T19:32:10.944Z"
   },
   {
    "duration": 17,
    "start_time": "2022-10-20T19:32:10.963Z"
   },
   {
    "duration": 14,
    "start_time": "2022-10-20T19:32:10.981Z"
   },
   {
    "duration": 160,
    "start_time": "2022-10-20T19:32:10.996Z"
   },
   {
    "duration": 170,
    "start_time": "2022-10-20T19:32:11.158Z"
   },
   {
    "duration": 1644,
    "start_time": "2022-10-20T19:32:11.332Z"
   },
   {
    "duration": 21,
    "start_time": "2022-10-20T19:32:12.978Z"
   },
   {
    "duration": 180,
    "start_time": "2022-10-20T19:32:13.000Z"
   },
   {
    "duration": 1598,
    "start_time": "2022-10-20T19:32:13.181Z"
   },
   {
    "duration": 392,
    "start_time": "2022-10-20T19:32:14.781Z"
   },
   {
    "duration": 180,
    "start_time": "2022-10-20T19:32:15.174Z"
   },
   {
    "duration": 182,
    "start_time": "2022-10-20T19:32:15.356Z"
   },
   {
    "duration": 10,
    "start_time": "2022-10-20T19:32:15.539Z"
   },
   {
    "duration": 166,
    "start_time": "2022-10-20T19:32:15.550Z"
   },
   {
    "duration": 263,
    "start_time": "2022-10-20T19:32:15.717Z"
   },
   {
    "duration": 177,
    "start_time": "2022-10-20T19:32:15.982Z"
   },
   {
    "duration": 163,
    "start_time": "2022-10-20T19:32:16.160Z"
   },
   {
    "duration": 166,
    "start_time": "2022-10-20T19:32:16.324Z"
   },
   {
    "duration": 158,
    "start_time": "2022-10-20T19:32:16.492Z"
   },
   {
    "duration": 14,
    "start_time": "2022-10-20T19:32:16.651Z"
   },
   {
    "duration": 8,
    "start_time": "2022-10-20T19:32:16.667Z"
   },
   {
    "duration": 12,
    "start_time": "2022-10-20T19:32:16.676Z"
   },
   {
    "duration": 36,
    "start_time": "2022-10-20T19:32:16.690Z"
   },
   {
    "duration": 14,
    "start_time": "2022-10-20T19:32:16.727Z"
   },
   {
    "duration": 15,
    "start_time": "2022-10-20T19:32:16.743Z"
   },
   {
    "duration": 12,
    "start_time": "2022-10-20T19:32:16.760Z"
   },
   {
    "duration": 13,
    "start_time": "2022-10-20T19:32:16.775Z"
   },
   {
    "duration": 48,
    "start_time": "2022-10-20T19:32:16.789Z"
   },
   {
    "duration": 6,
    "start_time": "2022-10-20T19:32:16.839Z"
   },
   {
    "duration": 15,
    "start_time": "2022-10-20T19:32:16.846Z"
   },
   {
    "duration": 10,
    "start_time": "2022-10-20T19:32:16.862Z"
   },
   {
    "duration": 11,
    "start_time": "2022-10-20T19:32:16.874Z"
   },
   {
    "duration": 14,
    "start_time": "2022-10-20T19:32:16.887Z"
   },
   {
    "duration": 13,
    "start_time": "2022-10-20T19:34:16.268Z"
   },
   {
    "duration": 15,
    "start_time": "2022-10-20T19:36:17.693Z"
   },
   {
    "duration": 995,
    "start_time": "2022-10-20T19:37:03.841Z"
   },
   {
    "duration": 94,
    "start_time": "2022-10-20T19:37:04.838Z"
   },
   {
    "duration": 16,
    "start_time": "2022-10-20T19:37:04.934Z"
   },
   {
    "duration": 37,
    "start_time": "2022-10-20T19:37:04.952Z"
   },
   {
    "duration": 903,
    "start_time": "2022-10-20T19:37:04.990Z"
   },
   {
    "duration": 4,
    "start_time": "2022-10-20T19:37:05.895Z"
   },
   {
    "duration": 178,
    "start_time": "2022-10-20T19:37:05.900Z"
   },
   {
    "duration": 10,
    "start_time": "2022-10-20T19:37:06.080Z"
   },
   {
    "duration": 18,
    "start_time": "2022-10-20T19:37:06.091Z"
   },
   {
    "duration": 28,
    "start_time": "2022-10-20T19:37:06.121Z"
   },
   {
    "duration": 19,
    "start_time": "2022-10-20T19:37:06.151Z"
   },
   {
    "duration": 19,
    "start_time": "2022-10-20T19:37:06.172Z"
   },
   {
    "duration": 49,
    "start_time": "2022-10-20T19:37:06.192Z"
   },
   {
    "duration": 5,
    "start_time": "2022-10-20T19:37:06.243Z"
   },
   {
    "duration": 22,
    "start_time": "2022-10-20T19:37:06.249Z"
   },
   {
    "duration": 16,
    "start_time": "2022-10-20T19:37:06.273Z"
   },
   {
    "duration": 43,
    "start_time": "2022-10-20T19:37:06.291Z"
   },
   {
    "duration": 153,
    "start_time": "2022-10-20T19:37:06.335Z"
   },
   {
    "duration": 172,
    "start_time": "2022-10-20T19:37:06.490Z"
   },
   {
    "duration": 1638,
    "start_time": "2022-10-20T19:37:06.663Z"
   },
   {
    "duration": 33,
    "start_time": "2022-10-20T19:37:08.303Z"
   },
   {
    "duration": 170,
    "start_time": "2022-10-20T19:37:08.338Z"
   },
   {
    "duration": 1602,
    "start_time": "2022-10-20T19:37:08.510Z"
   },
   {
    "duration": 380,
    "start_time": "2022-10-20T19:37:10.113Z"
   },
   {
    "duration": 186,
    "start_time": "2022-10-20T19:37:10.494Z"
   },
   {
    "duration": 188,
    "start_time": "2022-10-20T19:37:10.682Z"
   },
   {
    "duration": 11,
    "start_time": "2022-10-20T19:37:10.872Z"
   },
   {
    "duration": 201,
    "start_time": "2022-10-20T19:37:10.887Z"
   },
   {
    "duration": 251,
    "start_time": "2022-10-20T19:37:11.090Z"
   },
   {
    "duration": 175,
    "start_time": "2022-10-20T19:37:11.343Z"
   },
   {
    "duration": 173,
    "start_time": "2022-10-20T19:37:11.522Z"
   },
   {
    "duration": 170,
    "start_time": "2022-10-20T19:37:11.697Z"
   },
   {
    "duration": 166,
    "start_time": "2022-10-20T19:37:11.869Z"
   },
   {
    "duration": 14,
    "start_time": "2022-10-20T19:37:12.037Z"
   },
   {
    "duration": 9,
    "start_time": "2022-10-20T19:37:12.053Z"
   },
   {
    "duration": 15,
    "start_time": "2022-10-20T19:37:12.063Z"
   },
   {
    "duration": 12,
    "start_time": "2022-10-20T19:37:12.080Z"
   },
   {
    "duration": 40,
    "start_time": "2022-10-20T19:37:12.093Z"
   },
   {
    "duration": 15,
    "start_time": "2022-10-20T19:37:12.135Z"
   },
   {
    "duration": 12,
    "start_time": "2022-10-20T19:37:12.151Z"
   },
   {
    "duration": 15,
    "start_time": "2022-10-20T19:37:12.165Z"
   },
   {
    "duration": 14,
    "start_time": "2022-10-20T19:37:12.181Z"
   },
   {
    "duration": 36,
    "start_time": "2022-10-20T19:37:12.197Z"
   },
   {
    "duration": 15,
    "start_time": "2022-10-20T19:37:12.235Z"
   },
   {
    "duration": 13,
    "start_time": "2022-10-20T19:37:12.251Z"
   },
   {
    "duration": 1331,
    "start_time": "2022-10-20T19:46:37.064Z"
   },
   {
    "duration": 83,
    "start_time": "2022-10-20T19:46:38.397Z"
   },
   {
    "duration": 13,
    "start_time": "2022-10-20T19:46:38.482Z"
   },
   {
    "duration": 39,
    "start_time": "2022-10-20T19:46:38.497Z"
   },
   {
    "duration": 768,
    "start_time": "2022-10-20T19:46:38.538Z"
   },
   {
    "duration": 4,
    "start_time": "2022-10-20T19:46:39.308Z"
   },
   {
    "duration": 184,
    "start_time": "2022-10-20T19:46:39.314Z"
   },
   {
    "duration": 10,
    "start_time": "2022-10-20T19:46:39.499Z"
   },
   {
    "duration": 26,
    "start_time": "2022-10-20T19:46:39.511Z"
   },
   {
    "duration": 23,
    "start_time": "2022-10-20T19:46:39.539Z"
   },
   {
    "duration": 21,
    "start_time": "2022-10-20T19:46:39.563Z"
   },
   {
    "duration": 51,
    "start_time": "2022-10-20T19:46:39.586Z"
   },
   {
    "duration": 20,
    "start_time": "2022-10-20T19:46:39.638Z"
   },
   {
    "duration": 8,
    "start_time": "2022-10-20T19:46:39.661Z"
   },
   {
    "duration": 21,
    "start_time": "2022-10-20T19:46:39.671Z"
   },
   {
    "duration": 36,
    "start_time": "2022-10-20T19:46:39.694Z"
   },
   {
    "duration": 14,
    "start_time": "2022-10-20T19:46:39.732Z"
   },
   {
    "duration": 157,
    "start_time": "2022-10-20T19:46:39.748Z"
   },
   {
    "duration": 184,
    "start_time": "2022-10-20T19:46:39.906Z"
   },
   {
    "duration": 1651,
    "start_time": "2022-10-20T19:46:40.091Z"
   },
   {
    "duration": 22,
    "start_time": "2022-10-20T19:46:41.743Z"
   },
   {
    "duration": 180,
    "start_time": "2022-10-20T19:46:41.766Z"
   },
   {
    "duration": 1555,
    "start_time": "2022-10-20T19:46:41.947Z"
   },
   {
    "duration": 361,
    "start_time": "2022-10-20T19:46:43.504Z"
   },
   {
    "duration": 177,
    "start_time": "2022-10-20T19:46:43.866Z"
   },
   {
    "duration": 177,
    "start_time": "2022-10-20T19:46:44.045Z"
   },
   {
    "duration": 9,
    "start_time": "2022-10-20T19:46:44.224Z"
   },
   {
    "duration": 176,
    "start_time": "2022-10-20T19:46:44.234Z"
   },
   {
    "duration": 242,
    "start_time": "2022-10-20T19:46:44.412Z"
   },
   {
    "duration": 195,
    "start_time": "2022-10-20T19:46:44.656Z"
   },
   {
    "duration": 161,
    "start_time": "2022-10-20T19:46:44.852Z"
   },
   {
    "duration": 177,
    "start_time": "2022-10-20T19:46:45.015Z"
   },
   {
    "duration": 151,
    "start_time": "2022-10-20T19:46:45.194Z"
   },
   {
    "duration": 15,
    "start_time": "2022-10-20T19:46:45.346Z"
   },
   {
    "duration": 18,
    "start_time": "2022-10-20T19:46:45.363Z"
   },
   {
    "duration": 23,
    "start_time": "2022-10-20T19:46:45.382Z"
   },
   {
    "duration": 21,
    "start_time": "2022-10-20T19:46:45.406Z"
   },
   {
    "duration": 20,
    "start_time": "2022-10-20T19:46:45.429Z"
   },
   {
    "duration": 21,
    "start_time": "2022-10-20T19:46:45.450Z"
   },
   {
    "duration": 32,
    "start_time": "2022-10-20T19:46:45.473Z"
   },
   {
    "duration": 26,
    "start_time": "2022-10-20T19:46:45.509Z"
   },
   {
    "duration": 23,
    "start_time": "2022-10-20T19:46:45.537Z"
   },
   {
    "duration": 13,
    "start_time": "2022-10-20T19:46:45.562Z"
   },
   {
    "duration": 27,
    "start_time": "2022-10-20T19:46:45.576Z"
   },
   {
    "duration": 33,
    "start_time": "2022-10-20T19:46:45.604Z"
   },
   {
    "duration": 3,
    "start_time": "2022-10-20T19:47:15.356Z"
   },
   {
    "duration": 79,
    "start_time": "2022-10-22T08:51:03.175Z"
   },
   {
    "duration": 1285,
    "start_time": "2022-10-22T08:51:08.941Z"
   },
   {
    "duration": 132,
    "start_time": "2022-10-22T08:51:10.229Z"
   },
   {
    "duration": 16,
    "start_time": "2022-10-22T08:51:10.363Z"
   },
   {
    "duration": 55,
    "start_time": "2022-10-22T08:51:10.381Z"
   },
   {
    "duration": 910,
    "start_time": "2022-10-22T08:51:10.438Z"
   },
   {
    "duration": 6,
    "start_time": "2022-10-22T08:51:11.350Z"
   },
   {
    "duration": 247,
    "start_time": "2022-10-22T08:51:11.357Z"
   },
   {
    "duration": 16,
    "start_time": "2022-10-22T08:51:11.606Z"
   },
   {
    "duration": 79,
    "start_time": "2022-10-22T08:51:11.625Z"
   },
   {
    "duration": 41,
    "start_time": "2022-10-22T08:51:11.706Z"
   },
   {
    "duration": 37,
    "start_time": "2022-10-22T08:51:11.748Z"
   },
   {
    "duration": 45,
    "start_time": "2022-10-22T08:51:11.788Z"
   },
   {
    "duration": 58,
    "start_time": "2022-10-22T08:51:11.835Z"
   },
   {
    "duration": 165,
    "start_time": "2022-10-22T08:51:11.897Z"
   },
   {
    "duration": 0,
    "start_time": "2022-10-22T08:51:12.065Z"
   },
   {
    "duration": 0,
    "start_time": "2022-10-22T08:51:12.066Z"
   },
   {
    "duration": 0,
    "start_time": "2022-10-22T08:51:12.068Z"
   },
   {
    "duration": 0,
    "start_time": "2022-10-22T08:51:12.070Z"
   },
   {
    "duration": 0,
    "start_time": "2022-10-22T08:51:12.071Z"
   },
   {
    "duration": 0,
    "start_time": "2022-10-22T08:51:12.073Z"
   },
   {
    "duration": 0,
    "start_time": "2022-10-22T08:51:12.075Z"
   },
   {
    "duration": 0,
    "start_time": "2022-10-22T08:51:12.077Z"
   },
   {
    "duration": 0,
    "start_time": "2022-10-22T08:51:12.078Z"
   },
   {
    "duration": 0,
    "start_time": "2022-10-22T08:51:12.080Z"
   },
   {
    "duration": 0,
    "start_time": "2022-10-22T08:51:12.081Z"
   },
   {
    "duration": 0,
    "start_time": "2022-10-22T08:51:12.083Z"
   },
   {
    "duration": 0,
    "start_time": "2022-10-22T08:51:12.084Z"
   },
   {
    "duration": 0,
    "start_time": "2022-10-22T08:51:12.085Z"
   },
   {
    "duration": 0,
    "start_time": "2022-10-22T08:51:12.086Z"
   },
   {
    "duration": 0,
    "start_time": "2022-10-22T08:51:12.087Z"
   },
   {
    "duration": 0,
    "start_time": "2022-10-22T08:51:12.089Z"
   },
   {
    "duration": 0,
    "start_time": "2022-10-22T08:51:12.090Z"
   },
   {
    "duration": 0,
    "start_time": "2022-10-22T08:51:12.091Z"
   },
   {
    "duration": 0,
    "start_time": "2022-10-22T08:51:12.092Z"
   },
   {
    "duration": 0,
    "start_time": "2022-10-22T08:51:12.094Z"
   },
   {
    "duration": 0,
    "start_time": "2022-10-22T08:51:12.096Z"
   },
   {
    "duration": 0,
    "start_time": "2022-10-22T08:51:12.097Z"
   },
   {
    "duration": 0,
    "start_time": "2022-10-22T08:51:12.098Z"
   },
   {
    "duration": 0,
    "start_time": "2022-10-22T08:51:12.100Z"
   },
   {
    "duration": 0,
    "start_time": "2022-10-22T08:51:12.101Z"
   },
   {
    "duration": 0,
    "start_time": "2022-10-22T08:51:12.103Z"
   },
   {
    "duration": 0,
    "start_time": "2022-10-22T08:51:12.156Z"
   },
   {
    "duration": 0,
    "start_time": "2022-10-22T08:51:12.158Z"
   },
   {
    "duration": 0,
    "start_time": "2022-10-22T08:51:12.160Z"
   },
   {
    "duration": 0,
    "start_time": "2022-10-22T08:51:12.161Z"
   },
   {
    "duration": 0,
    "start_time": "2022-10-22T08:51:12.163Z"
   },
   {
    "duration": 9,
    "start_time": "2022-10-22T08:51:22.867Z"
   },
   {
    "duration": 32,
    "start_time": "2022-10-22T08:52:32.245Z"
   },
   {
    "duration": 14,
    "start_time": "2022-10-22T08:52:45.306Z"
   },
   {
    "duration": 26,
    "start_time": "2022-10-22T08:52:52.250Z"
   },
   {
    "duration": 44,
    "start_time": "2022-10-22T08:53:32.419Z"
   },
   {
    "duration": 798,
    "start_time": "2022-10-22T08:55:39.758Z"
   },
   {
    "duration": 1304,
    "start_time": "2022-10-22T08:56:06.239Z"
   },
   {
    "duration": 100,
    "start_time": "2022-10-22T08:56:07.545Z"
   },
   {
    "duration": 29,
    "start_time": "2022-10-22T08:56:07.647Z"
   },
   {
    "duration": 33,
    "start_time": "2022-10-22T08:56:07.678Z"
   },
   {
    "duration": 889,
    "start_time": "2022-10-22T08:56:07.714Z"
   },
   {
    "duration": 5,
    "start_time": "2022-10-22T08:56:08.604Z"
   },
   {
    "duration": 193,
    "start_time": "2022-10-22T08:56:08.611Z"
   },
   {
    "duration": 9,
    "start_time": "2022-10-22T08:56:08.805Z"
   },
   {
    "duration": 26,
    "start_time": "2022-10-22T08:56:08.816Z"
   },
   {
    "duration": 35,
    "start_time": "2022-10-22T08:56:08.843Z"
   },
   {
    "duration": 22,
    "start_time": "2022-10-22T08:56:08.880Z"
   },
   {
    "duration": 30,
    "start_time": "2022-10-22T08:56:08.904Z"
   },
   {
    "duration": 31,
    "start_time": "2022-10-22T08:56:08.936Z"
   },
   {
    "duration": 18,
    "start_time": "2022-10-22T08:56:08.972Z"
   },
   {
    "duration": 5,
    "start_time": "2022-10-22T08:56:08.993Z"
   },
   {
    "duration": 25,
    "start_time": "2022-10-22T08:56:08.999Z"
   },
   {
    "duration": 41,
    "start_time": "2022-10-22T08:56:09.025Z"
   },
   {
    "duration": 5,
    "start_time": "2022-10-22T08:56:09.069Z"
   },
   {
    "duration": 33,
    "start_time": "2022-10-22T08:56:09.077Z"
   },
   {
    "duration": 170,
    "start_time": "2022-10-22T08:56:09.112Z"
   },
   {
    "duration": 198,
    "start_time": "2022-10-22T08:56:09.284Z"
   },
   {
    "duration": 1889,
    "start_time": "2022-10-22T08:56:09.484Z"
   },
   {
    "duration": 29,
    "start_time": "2022-10-22T08:56:11.376Z"
   },
   {
    "duration": 278,
    "start_time": "2022-10-22T08:56:11.407Z"
   },
   {
    "duration": 1893,
    "start_time": "2022-10-22T08:56:11.687Z"
   },
   {
    "duration": 414,
    "start_time": "2022-10-22T08:56:13.582Z"
   },
   {
    "duration": 201,
    "start_time": "2022-10-22T08:56:13.998Z"
   },
   {
    "duration": 185,
    "start_time": "2022-10-22T08:56:14.202Z"
   },
   {
    "duration": 12,
    "start_time": "2022-10-22T08:56:14.389Z"
   },
   {
    "duration": 217,
    "start_time": "2022-10-22T08:56:14.403Z"
   },
   {
    "duration": 284,
    "start_time": "2022-10-22T08:56:14.622Z"
   },
   {
    "duration": 196,
    "start_time": "2022-10-22T08:56:14.908Z"
   },
   {
    "duration": 188,
    "start_time": "2022-10-22T08:56:15.107Z"
   },
   {
    "duration": 179,
    "start_time": "2022-10-22T08:56:15.298Z"
   },
   {
    "duration": 183,
    "start_time": "2022-10-22T08:56:15.478Z"
   },
   {
    "duration": 19,
    "start_time": "2022-10-22T08:56:15.665Z"
   },
   {
    "duration": 10,
    "start_time": "2022-10-22T08:56:15.685Z"
   },
   {
    "duration": 18,
    "start_time": "2022-10-22T08:56:15.696Z"
   },
   {
    "duration": 42,
    "start_time": "2022-10-22T08:56:15.717Z"
   },
   {
    "duration": 19,
    "start_time": "2022-10-22T08:56:15.761Z"
   },
   {
    "duration": 19,
    "start_time": "2022-10-22T08:56:15.787Z"
   },
   {
    "duration": 14,
    "start_time": "2022-10-22T08:56:15.808Z"
   },
   {
    "duration": 52,
    "start_time": "2022-10-22T08:56:15.824Z"
   },
   {
    "duration": 23,
    "start_time": "2022-10-22T08:56:15.878Z"
   },
   {
    "duration": 13,
    "start_time": "2022-10-22T08:56:15.902Z"
   },
   {
    "duration": 18,
    "start_time": "2022-10-22T08:56:15.916Z"
   },
   {
    "duration": 37,
    "start_time": "2022-10-22T08:56:15.936Z"
   },
   {
    "duration": 4,
    "start_time": "2022-10-22T09:03:10.434Z"
   },
   {
    "duration": 1176,
    "start_time": "2022-10-22T09:03:16.048Z"
   },
   {
    "duration": 114,
    "start_time": "2022-10-22T09:03:17.226Z"
   },
   {
    "duration": 19,
    "start_time": "2022-10-22T09:03:17.342Z"
   },
   {
    "duration": 68,
    "start_time": "2022-10-22T09:03:17.363Z"
   },
   {
    "duration": 896,
    "start_time": "2022-10-22T09:03:17.434Z"
   },
   {
    "duration": 4,
    "start_time": "2022-10-22T09:03:18.332Z"
   },
   {
    "duration": 232,
    "start_time": "2022-10-22T09:03:18.338Z"
   },
   {
    "duration": 12,
    "start_time": "2022-10-22T09:03:18.573Z"
   },
   {
    "duration": 21,
    "start_time": "2022-10-22T09:03:18.587Z"
   },
   {
    "duration": 47,
    "start_time": "2022-10-22T09:03:18.609Z"
   },
   {
    "duration": 31,
    "start_time": "2022-10-22T09:03:18.658Z"
   },
   {
    "duration": 22,
    "start_time": "2022-10-22T09:03:18.695Z"
   },
   {
    "duration": 53,
    "start_time": "2022-10-22T09:03:18.719Z"
   },
   {
    "duration": 25,
    "start_time": "2022-10-22T09:03:18.779Z"
   },
   {
    "duration": 16,
    "start_time": "2022-10-22T09:03:18.806Z"
   },
   {
    "duration": 43,
    "start_time": "2022-10-22T09:03:18.823Z"
   },
   {
    "duration": 44,
    "start_time": "2022-10-22T09:03:18.870Z"
   },
   {
    "duration": 9,
    "start_time": "2022-10-22T09:03:18.916Z"
   },
   {
    "duration": 22,
    "start_time": "2022-10-22T09:03:18.927Z"
   },
   {
    "duration": 229,
    "start_time": "2022-10-22T09:03:18.956Z"
   },
   {
    "duration": 223,
    "start_time": "2022-10-22T09:03:19.186Z"
   },
   {
    "duration": 2000,
    "start_time": "2022-10-22T09:03:19.411Z"
   },
   {
    "duration": 41,
    "start_time": "2022-10-22T09:03:21.413Z"
   },
   {
    "duration": 258,
    "start_time": "2022-10-22T09:03:21.457Z"
   },
   {
    "duration": 1905,
    "start_time": "2022-10-22T09:03:21.717Z"
   },
   {
    "duration": 425,
    "start_time": "2022-10-22T09:03:23.623Z"
   },
   {
    "duration": 250,
    "start_time": "2022-10-22T09:03:24.050Z"
   },
   {
    "duration": 197,
    "start_time": "2022-10-22T09:03:24.302Z"
   },
   {
    "duration": 9,
    "start_time": "2022-10-22T09:03:24.501Z"
   },
   {
    "duration": 221,
    "start_time": "2022-10-22T09:03:24.512Z"
   },
   {
    "duration": 280,
    "start_time": "2022-10-22T09:03:24.735Z"
   },
   {
    "duration": 194,
    "start_time": "2022-10-22T09:03:25.017Z"
   },
   {
    "duration": 200,
    "start_time": "2022-10-22T09:03:25.213Z"
   },
   {
    "duration": 227,
    "start_time": "2022-10-22T09:03:25.415Z"
   },
   {
    "duration": 192,
    "start_time": "2022-10-22T09:03:25.644Z"
   },
   {
    "duration": 30,
    "start_time": "2022-10-22T09:03:25.838Z"
   },
   {
    "duration": 16,
    "start_time": "2022-10-22T09:03:25.869Z"
   },
   {
    "duration": 21,
    "start_time": "2022-10-22T09:03:25.888Z"
   },
   {
    "duration": 15,
    "start_time": "2022-10-22T09:03:25.911Z"
   },
   {
    "duration": 51,
    "start_time": "2022-10-22T09:03:25.928Z"
   },
   {
    "duration": 15,
    "start_time": "2022-10-22T09:03:25.983Z"
   },
   {
    "duration": 15,
    "start_time": "2022-10-22T09:03:25.999Z"
   },
   {
    "duration": 46,
    "start_time": "2022-10-22T09:03:26.016Z"
   },
   {
    "duration": 25,
    "start_time": "2022-10-22T09:03:26.064Z"
   },
   {
    "duration": 7,
    "start_time": "2022-10-22T09:03:26.090Z"
   },
   {
    "duration": 26,
    "start_time": "2022-10-22T09:03:26.098Z"
   },
   {
    "duration": 47,
    "start_time": "2022-10-22T09:03:26.126Z"
   },
   {
    "duration": 54,
    "start_time": "2022-10-22T09:07:31.849Z"
   },
   {
    "duration": 24,
    "start_time": "2022-10-22T09:07:43.897Z"
   },
   {
    "duration": 1052,
    "start_time": "2022-10-22T09:07:51.553Z"
   },
   {
    "duration": 112,
    "start_time": "2022-10-22T09:07:52.607Z"
   },
   {
    "duration": 14,
    "start_time": "2022-10-22T09:07:52.721Z"
   },
   {
    "duration": 45,
    "start_time": "2022-10-22T09:07:52.736Z"
   },
   {
    "duration": 873,
    "start_time": "2022-10-22T09:07:52.784Z"
   },
   {
    "duration": 6,
    "start_time": "2022-10-22T09:07:53.660Z"
   },
   {
    "duration": 206,
    "start_time": "2022-10-22T09:07:53.669Z"
   },
   {
    "duration": 11,
    "start_time": "2022-10-22T09:07:53.878Z"
   },
   {
    "duration": 30,
    "start_time": "2022-10-22T09:07:53.890Z"
   },
   {
    "duration": 32,
    "start_time": "2022-10-22T09:07:53.922Z"
   },
   {
    "duration": 25,
    "start_time": "2022-10-22T09:07:53.956Z"
   },
   {
    "duration": 21,
    "start_time": "2022-10-22T09:07:53.983Z"
   },
   {
    "duration": 20,
    "start_time": "2022-10-22T09:07:54.006Z"
   },
   {
    "duration": 16,
    "start_time": "2022-10-22T09:07:54.058Z"
   },
   {
    "duration": 18,
    "start_time": "2022-10-22T09:07:54.075Z"
   },
   {
    "duration": 28,
    "start_time": "2022-10-22T09:07:54.094Z"
   },
   {
    "duration": 18,
    "start_time": "2022-10-22T09:07:54.124Z"
   },
   {
    "duration": 12,
    "start_time": "2022-10-22T09:07:54.144Z"
   },
   {
    "duration": 28,
    "start_time": "2022-10-22T09:07:54.157Z"
   },
   {
    "duration": 191,
    "start_time": "2022-10-22T09:07:54.187Z"
   },
   {
    "duration": 218,
    "start_time": "2022-10-22T09:07:54.381Z"
   },
   {
    "duration": 1984,
    "start_time": "2022-10-22T09:07:54.601Z"
   },
   {
    "duration": 26,
    "start_time": "2022-10-22T09:07:56.587Z"
   },
   {
    "duration": 225,
    "start_time": "2022-10-22T09:07:56.615Z"
   },
   {
    "duration": 1504,
    "start_time": "2022-10-22T09:07:56.842Z"
   },
   {
    "duration": 343,
    "start_time": "2022-10-22T09:07:58.353Z"
   },
   {
    "duration": 199,
    "start_time": "2022-10-22T09:07:58.697Z"
   },
   {
    "duration": 170,
    "start_time": "2022-10-22T09:07:58.899Z"
   },
   {
    "duration": 10,
    "start_time": "2022-10-22T09:07:59.072Z"
   },
   {
    "duration": 218,
    "start_time": "2022-10-22T09:07:59.084Z"
   },
   {
    "duration": 317,
    "start_time": "2022-10-22T09:07:59.304Z"
   },
   {
    "duration": 248,
    "start_time": "2022-10-22T09:07:59.623Z"
   },
   {
    "duration": 208,
    "start_time": "2022-10-22T09:07:59.874Z"
   },
   {
    "duration": 200,
    "start_time": "2022-10-22T09:08:00.084Z"
   },
   {
    "duration": 180,
    "start_time": "2022-10-22T09:08:00.286Z"
   },
   {
    "duration": 18,
    "start_time": "2022-10-22T09:08:00.468Z"
   },
   {
    "duration": 23,
    "start_time": "2022-10-22T09:08:00.488Z"
   },
   {
    "duration": 47,
    "start_time": "2022-10-22T09:08:00.513Z"
   },
   {
    "duration": 56,
    "start_time": "2022-10-22T09:08:00.563Z"
   },
   {
    "duration": 51,
    "start_time": "2022-10-22T09:08:00.621Z"
   },
   {
    "duration": 46,
    "start_time": "2022-10-22T09:08:00.678Z"
   },
   {
    "duration": 59,
    "start_time": "2022-10-22T09:08:00.726Z"
   },
   {
    "duration": 23,
    "start_time": "2022-10-22T09:08:00.787Z"
   },
   {
    "duration": 33,
    "start_time": "2022-10-22T09:08:00.811Z"
   },
   {
    "duration": 52,
    "start_time": "2022-10-22T09:08:00.846Z"
   },
   {
    "duration": 71,
    "start_time": "2022-10-22T09:08:00.900Z"
   },
   {
    "duration": 41,
    "start_time": "2022-10-22T09:08:00.972Z"
   },
   {
    "duration": 311,
    "start_time": "2022-10-22T09:14:58.910Z"
   },
   {
    "duration": 155,
    "start_time": "2022-10-22T09:15:12.429Z"
   },
   {
    "duration": 110,
    "start_time": "2022-10-22T09:16:24.488Z"
   },
   {
    "duration": 364,
    "start_time": "2022-10-22T09:20:30.741Z"
   },
   {
    "duration": 231,
    "start_time": "2022-10-22T09:21:37.475Z"
   },
   {
    "duration": 337,
    "start_time": "2022-10-22T09:22:02.584Z"
   },
   {
    "duration": 215,
    "start_time": "2022-10-22T09:22:15.494Z"
   },
   {
    "duration": 319,
    "start_time": "2022-10-22T09:22:32.884Z"
   },
   {
    "duration": 169,
    "start_time": "2022-10-22T09:24:06.892Z"
   },
   {
    "duration": 187,
    "start_time": "2022-10-22T09:24:17.673Z"
   },
   {
    "duration": 191,
    "start_time": "2022-10-22T09:24:28.803Z"
   },
   {
    "duration": 175,
    "start_time": "2022-10-22T09:25:10.403Z"
   },
   {
    "duration": 206,
    "start_time": "2022-10-22T09:25:32.264Z"
   },
   {
    "duration": 1203,
    "start_time": "2022-10-22T09:27:12.702Z"
   },
   {
    "duration": 104,
    "start_time": "2022-10-22T09:27:13.907Z"
   },
   {
    "duration": 15,
    "start_time": "2022-10-22T09:27:14.013Z"
   },
   {
    "duration": 52,
    "start_time": "2022-10-22T09:27:14.030Z"
   },
   {
    "duration": 897,
    "start_time": "2022-10-22T09:27:14.085Z"
   },
   {
    "duration": 5,
    "start_time": "2022-10-22T09:27:14.985Z"
   },
   {
    "duration": 233,
    "start_time": "2022-10-22T09:27:14.991Z"
   },
   {
    "duration": 10,
    "start_time": "2022-10-22T09:27:15.225Z"
   },
   {
    "duration": 24,
    "start_time": "2022-10-22T09:27:15.236Z"
   },
   {
    "duration": 58,
    "start_time": "2022-10-22T09:27:15.262Z"
   },
   {
    "duration": 23,
    "start_time": "2022-10-22T09:27:15.323Z"
   },
   {
    "duration": 36,
    "start_time": "2022-10-22T09:27:15.347Z"
   },
   {
    "duration": 28,
    "start_time": "2022-10-22T09:27:15.385Z"
   },
   {
    "duration": 26,
    "start_time": "2022-10-22T09:27:15.417Z"
   },
   {
    "duration": 6,
    "start_time": "2022-10-22T09:27:15.459Z"
   },
   {
    "duration": 58,
    "start_time": "2022-10-22T09:27:15.467Z"
   },
   {
    "duration": 45,
    "start_time": "2022-10-22T09:27:15.528Z"
   },
   {
    "duration": 31,
    "start_time": "2022-10-22T09:27:15.575Z"
   },
   {
    "duration": 27,
    "start_time": "2022-10-22T09:27:15.608Z"
   },
   {
    "duration": 188,
    "start_time": "2022-10-22T09:27:15.637Z"
   },
   {
    "duration": 208,
    "start_time": "2022-10-22T09:27:15.827Z"
   },
   {
    "duration": 2200,
    "start_time": "2022-10-22T09:27:16.037Z"
   },
   {
    "duration": 51,
    "start_time": "2022-10-22T09:27:18.239Z"
   },
   {
    "duration": 231,
    "start_time": "2022-10-22T09:27:18.292Z"
   },
   {
    "duration": 1715,
    "start_time": "2022-10-22T09:27:18.525Z"
   },
   {
    "duration": 407,
    "start_time": "2022-10-22T09:27:20.242Z"
   },
   {
    "duration": 241,
    "start_time": "2022-10-22T09:27:20.651Z"
   },
   {
    "duration": 219,
    "start_time": "2022-10-22T09:27:20.894Z"
   },
   {
    "duration": 11,
    "start_time": "2022-10-22T09:27:21.115Z"
   },
   {
    "duration": 261,
    "start_time": "2022-10-22T09:27:21.128Z"
   },
   {
    "duration": 397,
    "start_time": "2022-10-22T09:27:21.392Z"
   },
   {
    "duration": 253,
    "start_time": "2022-10-22T09:27:21.793Z"
   },
   {
    "duration": 238,
    "start_time": "2022-10-22T09:27:22.048Z"
   },
   {
    "duration": 131,
    "start_time": "2022-10-22T09:27:22.288Z"
   },
   {
    "duration": 0,
    "start_time": "2022-10-22T09:27:22.421Z"
   },
   {
    "duration": 0,
    "start_time": "2022-10-22T09:27:22.422Z"
   },
   {
    "duration": 0,
    "start_time": "2022-10-22T09:27:22.424Z"
   },
   {
    "duration": 0,
    "start_time": "2022-10-22T09:27:22.425Z"
   },
   {
    "duration": 0,
    "start_time": "2022-10-22T09:27:22.426Z"
   },
   {
    "duration": 0,
    "start_time": "2022-10-22T09:27:22.427Z"
   },
   {
    "duration": 0,
    "start_time": "2022-10-22T09:27:22.429Z"
   },
   {
    "duration": 0,
    "start_time": "2022-10-22T09:27:22.430Z"
   },
   {
    "duration": 0,
    "start_time": "2022-10-22T09:27:22.431Z"
   },
   {
    "duration": 0,
    "start_time": "2022-10-22T09:27:22.433Z"
   },
   {
    "duration": 0,
    "start_time": "2022-10-22T09:27:22.434Z"
   },
   {
    "duration": 0,
    "start_time": "2022-10-22T09:27:22.436Z"
   },
   {
    "duration": 0,
    "start_time": "2022-10-22T09:27:22.437Z"
   },
   {
    "duration": 297,
    "start_time": "2022-10-22T09:28:27.011Z"
   },
   {
    "duration": 290,
    "start_time": "2022-10-22T09:28:36.181Z"
   },
   {
    "duration": 299,
    "start_time": "2022-10-22T09:28:47.550Z"
   },
   {
    "duration": 127,
    "start_time": "2022-10-22T09:32:03.410Z"
   },
   {
    "duration": 149,
    "start_time": "2022-10-22T09:33:36.439Z"
   },
   {
    "duration": 20,
    "start_time": "2022-10-22T09:34:00.682Z"
   },
   {
    "duration": 30,
    "start_time": "2022-10-22T09:34:50.523Z"
   },
   {
    "duration": 303,
    "start_time": "2022-10-22T09:36:01.479Z"
   },
   {
    "duration": 128,
    "start_time": "2022-10-22T09:36:11.168Z"
   },
   {
    "duration": 157,
    "start_time": "2022-10-22T09:36:33.960Z"
   },
   {
    "duration": 168,
    "start_time": "2022-10-22T09:36:41.497Z"
   },
   {
    "duration": 153,
    "start_time": "2022-10-22T09:37:09.029Z"
   },
   {
    "duration": 299,
    "start_time": "2022-10-22T09:37:49.752Z"
   },
   {
    "duration": 135,
    "start_time": "2022-10-22T09:39:37.280Z"
   },
   {
    "duration": 248,
    "start_time": "2022-10-22T09:40:13.991Z"
   },
   {
    "duration": 42,
    "start_time": "2022-10-22T09:40:22.750Z"
   },
   {
    "duration": 388,
    "start_time": "2022-10-22T09:42:29.091Z"
   },
   {
    "duration": 354,
    "start_time": "2022-10-22T09:43:27.909Z"
   },
   {
    "duration": 296,
    "start_time": "2022-10-22T09:43:37.532Z"
   },
   {
    "duration": 338,
    "start_time": "2022-10-22T09:43:45.850Z"
   },
   {
    "duration": 219,
    "start_time": "2022-10-22T09:46:08.171Z"
   },
   {
    "duration": 177,
    "start_time": "2022-10-22T09:46:20.575Z"
   },
   {
    "duration": 169,
    "start_time": "2022-10-22T09:46:39.514Z"
   },
   {
    "duration": 11,
    "start_time": "2022-10-22T09:47:18.861Z"
   },
   {
    "duration": 204,
    "start_time": "2022-10-22T09:47:35.115Z"
   },
   {
    "duration": 323,
    "start_time": "2022-10-22T09:47:50.778Z"
   },
   {
    "duration": 1225,
    "start_time": "2022-10-22T09:48:01.641Z"
   },
   {
    "duration": 125,
    "start_time": "2022-10-22T09:48:02.869Z"
   },
   {
    "duration": 26,
    "start_time": "2022-10-22T09:48:02.997Z"
   },
   {
    "duration": 70,
    "start_time": "2022-10-22T09:48:03.025Z"
   },
   {
    "duration": 899,
    "start_time": "2022-10-22T09:48:03.097Z"
   },
   {
    "duration": 4,
    "start_time": "2022-10-22T09:48:04.000Z"
   },
   {
    "duration": 207,
    "start_time": "2022-10-22T09:48:04.006Z"
   },
   {
    "duration": 10,
    "start_time": "2022-10-22T09:48:04.215Z"
   },
   {
    "duration": 29,
    "start_time": "2022-10-22T09:48:04.227Z"
   },
   {
    "duration": 35,
    "start_time": "2022-10-22T09:48:04.259Z"
   },
   {
    "duration": 22,
    "start_time": "2022-10-22T09:48:04.296Z"
   },
   {
    "duration": 44,
    "start_time": "2022-10-22T09:48:04.320Z"
   },
   {
    "duration": 28,
    "start_time": "2022-10-22T09:48:04.365Z"
   },
   {
    "duration": 24,
    "start_time": "2022-10-22T09:48:04.396Z"
   },
   {
    "duration": 6,
    "start_time": "2022-10-22T09:48:04.422Z"
   },
   {
    "duration": 53,
    "start_time": "2022-10-22T09:48:04.430Z"
   },
   {
    "duration": 21,
    "start_time": "2022-10-22T09:48:04.485Z"
   },
   {
    "duration": 4,
    "start_time": "2022-10-22T09:48:04.508Z"
   },
   {
    "duration": 29,
    "start_time": "2022-10-22T09:48:04.514Z"
   },
   {
    "duration": 190,
    "start_time": "2022-10-22T09:48:04.544Z"
   },
   {
    "duration": 223,
    "start_time": "2022-10-22T09:48:04.736Z"
   },
   {
    "duration": 2105,
    "start_time": "2022-10-22T09:48:04.962Z"
   },
   {
    "duration": 28,
    "start_time": "2022-10-22T09:48:07.069Z"
   },
   {
    "duration": 223,
    "start_time": "2022-10-22T09:48:07.099Z"
   },
   {
    "duration": 1590,
    "start_time": "2022-10-22T09:48:07.324Z"
   },
   {
    "duration": 354,
    "start_time": "2022-10-22T09:48:08.916Z"
   },
   {
    "duration": 223,
    "start_time": "2022-10-22T09:48:09.273Z"
   },
   {
    "duration": 218,
    "start_time": "2022-10-22T09:48:09.497Z"
   },
   {
    "duration": 10,
    "start_time": "2022-10-22T09:48:09.717Z"
   },
   {
    "duration": 246,
    "start_time": "2022-10-22T09:48:09.729Z"
   },
   {
    "duration": 327,
    "start_time": "2022-10-22T09:48:09.980Z"
   },
   {
    "duration": 227,
    "start_time": "2022-10-22T09:48:10.309Z"
   },
   {
    "duration": 201,
    "start_time": "2022-10-22T09:48:10.538Z"
   },
   {
    "duration": 236,
    "start_time": "2022-10-22T09:48:10.741Z"
   },
   {
    "duration": 195,
    "start_time": "2022-10-22T09:48:10.980Z"
   },
   {
    "duration": 15,
    "start_time": "2022-10-22T09:48:11.179Z"
   },
   {
    "duration": 29,
    "start_time": "2022-10-22T09:48:11.196Z"
   },
   {
    "duration": 28,
    "start_time": "2022-10-22T09:48:11.227Z"
   },
   {
    "duration": 47,
    "start_time": "2022-10-22T09:48:11.258Z"
   },
   {
    "duration": 34,
    "start_time": "2022-10-22T09:48:11.308Z"
   },
   {
    "duration": 32,
    "start_time": "2022-10-22T09:48:11.346Z"
   },
   {
    "duration": 17,
    "start_time": "2022-10-22T09:48:11.381Z"
   },
   {
    "duration": 41,
    "start_time": "2022-10-22T09:48:11.399Z"
   },
   {
    "duration": 39,
    "start_time": "2022-10-22T09:48:11.443Z"
   },
   {
    "duration": 24,
    "start_time": "2022-10-22T09:48:11.485Z"
   },
   {
    "duration": 40,
    "start_time": "2022-10-22T09:48:11.511Z"
   },
   {
    "duration": 74,
    "start_time": "2022-10-22T09:48:11.553Z"
   },
   {
    "duration": 45,
    "start_time": "2022-10-22T09:50:54.904Z"
   },
   {
    "duration": 68,
    "start_time": "2022-10-22T09:53:39.730Z"
   },
   {
    "duration": 46,
    "start_time": "2022-10-22T09:54:48.247Z"
   },
   {
    "duration": 44,
    "start_time": "2022-10-22T09:55:21.490Z"
   },
   {
    "duration": 1216,
    "start_time": "2022-10-22T10:07:58.367Z"
   },
   {
    "duration": 115,
    "start_time": "2022-10-22T10:07:59.585Z"
   },
   {
    "duration": 16,
    "start_time": "2022-10-22T10:07:59.702Z"
   },
   {
    "duration": 63,
    "start_time": "2022-10-22T10:07:59.721Z"
   },
   {
    "duration": 923,
    "start_time": "2022-10-22T10:07:59.786Z"
   },
   {
    "duration": 4,
    "start_time": "2022-10-22T10:08:00.711Z"
   },
   {
    "duration": 221,
    "start_time": "2022-10-22T10:08:00.717Z"
   },
   {
    "duration": 16,
    "start_time": "2022-10-22T10:08:00.940Z"
   },
   {
    "duration": 37,
    "start_time": "2022-10-22T10:08:00.958Z"
   },
   {
    "duration": 43,
    "start_time": "2022-10-22T10:08:00.998Z"
   },
   {
    "duration": 38,
    "start_time": "2022-10-22T10:08:01.042Z"
   },
   {
    "duration": 23,
    "start_time": "2022-10-22T10:08:01.082Z"
   },
   {
    "duration": 22,
    "start_time": "2022-10-22T10:08:01.106Z"
   },
   {
    "duration": 41,
    "start_time": "2022-10-22T10:08:01.130Z"
   },
   {
    "duration": 7,
    "start_time": "2022-10-22T10:08:01.174Z"
   },
   {
    "duration": 28,
    "start_time": "2022-10-22T10:08:01.183Z"
   },
   {
    "duration": 48,
    "start_time": "2022-10-22T10:08:01.214Z"
   },
   {
    "duration": 24,
    "start_time": "2022-10-22T10:08:01.265Z"
   },
   {
    "duration": 41,
    "start_time": "2022-10-22T10:08:01.291Z"
   },
   {
    "duration": 240,
    "start_time": "2022-10-22T10:08:01.334Z"
   },
   {
    "duration": 262,
    "start_time": "2022-10-22T10:08:01.576Z"
   },
   {
    "duration": 2047,
    "start_time": "2022-10-22T10:08:01.840Z"
   },
   {
    "duration": 26,
    "start_time": "2022-10-22T10:08:03.888Z"
   },
   {
    "duration": 205,
    "start_time": "2022-10-22T10:08:03.916Z"
   },
   {
    "duration": 1592,
    "start_time": "2022-10-22T10:08:04.122Z"
   },
   {
    "duration": 289,
    "start_time": "2022-10-22T10:08:05.716Z"
   },
   {
    "duration": 206,
    "start_time": "2022-10-22T10:08:06.007Z"
   },
   {
    "duration": 203,
    "start_time": "2022-10-22T10:08:06.217Z"
   },
   {
    "duration": 10,
    "start_time": "2022-10-22T10:08:06.422Z"
   },
   {
    "duration": 229,
    "start_time": "2022-10-22T10:08:06.434Z"
   },
   {
    "duration": 293,
    "start_time": "2022-10-22T10:08:06.665Z"
   },
   {
    "duration": 226,
    "start_time": "2022-10-22T10:08:06.962Z"
   },
   {
    "duration": 188,
    "start_time": "2022-10-22T10:08:07.190Z"
   },
   {
    "duration": 200,
    "start_time": "2022-10-22T10:08:07.380Z"
   },
   {
    "duration": 202,
    "start_time": "2022-10-22T10:08:07.583Z"
   },
   {
    "duration": 21,
    "start_time": "2022-10-22T10:08:07.787Z"
   },
   {
    "duration": 21,
    "start_time": "2022-10-22T10:08:07.810Z"
   },
   {
    "duration": 28,
    "start_time": "2022-10-22T10:08:07.832Z"
   },
   {
    "duration": 18,
    "start_time": "2022-10-22T10:08:07.863Z"
   },
   {
    "duration": 36,
    "start_time": "2022-10-22T10:08:07.882Z"
   },
   {
    "duration": 28,
    "start_time": "2022-10-22T10:08:07.920Z"
   },
   {
    "duration": 42,
    "start_time": "2022-10-22T10:08:07.949Z"
   },
   {
    "duration": 31,
    "start_time": "2022-10-22T10:08:07.992Z"
   },
   {
    "duration": 59,
    "start_time": "2022-10-22T10:08:08.025Z"
   },
   {
    "duration": 19,
    "start_time": "2022-10-22T10:08:08.085Z"
   },
   {
    "duration": 30,
    "start_time": "2022-10-22T10:08:08.105Z"
   },
   {
    "duration": 38,
    "start_time": "2022-10-22T10:08:08.137Z"
   }
  ],
  "kernelspec": {
   "display_name": "Python 3 (ipykernel)",
   "language": "python",
   "name": "python3"
  },
  "language_info": {
   "codemirror_mode": {
    "name": "ipython",
    "version": 3
   },
   "file_extension": ".py",
   "mimetype": "text/x-python",
   "name": "python",
   "nbconvert_exporter": "python",
   "pygments_lexer": "ipython3",
   "version": "3.9.5"
  },
  "toc": {
   "base_numbering": 1,
   "nav_menu": {},
   "number_sections": true,
   "sideBar": true,
   "skip_h1_title": true,
   "title_cell": "Table of Contents",
   "title_sidebar": "Contents",
   "toc_cell": false,
   "toc_position": {},
   "toc_section_display": true,
   "toc_window_display": false
  }
 },
 "nbformat": 4,
 "nbformat_minor": 2
}
