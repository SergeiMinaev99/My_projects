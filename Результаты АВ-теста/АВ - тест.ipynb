{
 "cells": [
  {
   "cell_type": "markdown",
   "metadata": {},
   "source": [
    "# Проект по AB-тестированию"
   ]
  },
  {
   "cell_type": "markdown",
   "metadata": {},
   "source": [
    "Вы — аналитик крупного интернет-магазина. Вместе с отделом маркетинга вы подготовили список гипотез для увеличения выручки.\n",
    "Приоритизируйте гипотезы, запустите A/B-тест и проанализируйте результаты. \n",
    "\n",
    "**Данные для первой части:**\n",
    "1. Файл /datasets/hypothesis.csv.\n",
    " - Hypothesis — краткое описание гипотезы;\n",
    " - Reach — охват пользователей по 10-балльной шкале;\n",
    " - Impact — влияние на пользователей по 10-балльной шкале;\n",
    " - Confidence — уверенность в гипотезе по 10-балльной шкале;\n",
    " - Efforts — затраты ресурсов на проверку гипотезы по 10-балльной шкале. Чем больше значение Efforts, тем дороже проверка гипотезы.\n",
    " \n",
    " \n",
    "**Данные для второй части:**\n",
    "\n",
    "2. Файл /datasets/orders.csv. \n",
    " - transactionId — идентификатор заказа;\n",
    " - visitorId — идентификатор пользователя, совершившего заказ;\n",
    " - date — дата, когда был совершён заказ;\n",
    " - revenue — выручка заказа;\n",
    " - group — группа A/B-теста, в которую попал заказ.\n",
    " \n",
    " \n",
    "3. Файл /datasets/visitors.csv.\n",
    " - date — дата;\n",
    " - group — группа A/B-теста;\n",
    " - visitors — количество пользователей в указанную дату в указанной группе A/B-теста"
   ]
  },
  {
   "cell_type": "markdown",
   "metadata": {},
   "source": [
    "Для эффективного выполнения проекта неоходимо решить следующие задачи:\n",
    "    \n",
    "**Задача №1:** \n",
    "\n",
    " - Примените фреймворк ICE для приоритизации гипотез. Отсортируйте их по убыванию приоритета.\n",
    " - Примените фреймворк RICE для приоритизации гипотез. Отсортируйте их по убыванию приоритета.\n",
    " - Укажите, как изменилась приоритизация гипотез при применении RICE вместо ICE. Объясните, почему так произошло.\n",
    " \n",
    "**Задача №2 Проанализируйте A/B-тест:**\n",
    "\n",
    " - Постройте график кумулятивной выручки по группам. Сделайте выводы и предположения.\n",
    " - Постройте график кумулятивного среднего чека по группам. Сделайте выводы и предположения.\n",
    " - Постройте график относительного изменения кумулятивного среднего чека группы B к группе A. Сделайте выводы и предположения.\n",
    " - Постройте график кумулятивного среднего количества заказов на посетителя по группам. Сделайте выводы и предположения.\n",
    " - Постройте график относительного изменения кумулятивного среднего количества заказов на посетителя группы B к группе A. Сделайте выводы и предположения.\n",
    " - Постройте точечный график количества заказов по пользователям. Сделайте выводы и предположения.\n",
    " - Посчитайте 95-й и 99-й перцентили количества заказов на пользователя. Выберите границу для определения аномальных пользователей.\n",
    " - Постройте точечный график стоимостей заказов. Сделайте выводы и предположения.\n",
    " - Посчитайте 95-й и 99-й перцентили стоимости заказов. Выберите границу для определения аномальных заказов.\n",
    " - Посчитайте статистическую значимость различий в среднем количестве заказов на посетителя между группами по «сырым» данным. Сделайте выводы и предположения.\n",
    " - Посчитайте статистическую значимость различий в среднем чеке заказа между группами по «сырым» данным. Сделайте выводы и предположения.\n",
    " - Посчитайте статистическую значимость различий в среднем количестве заказов на посетителя между группами по «очищенным» данным. Сделайте выводы и предположения.\n",
    " - Посчитайте статистическую значимость различий в среднем чеке заказа между группами по «очищенным» данным. Сделайте выводы и предположения.\n",
    " \n",
    " \n",
    "**Задача №3 Примите решение по результатам теста и объясните его. Варианты решений:**\n",
    "\n",
    "1. Остановить тест, зафиксировать победу одной из групп.\n",
    "2. Остановить тест, зафиксировать отсутствие различий между группами.\n",
    "3. Продолжить тест."
   ]
  },
  {
   "cell_type": "markdown",
   "metadata": {},
   "source": [
    "**На первом этапе, выгрузим данные, посмотрим на них, при необходимости проведем предобработку**"
   ]
  },
  {
   "cell_type": "code",
   "execution_count": 1,
   "metadata": {},
   "outputs": [],
   "source": [
    "import pandas as pd\n",
    "import numpy as np\n",
    "import matplotlib.pyplot as plt\n",
    "from scipy import stats\n",
    "import datetime as dt"
   ]
  },
  {
   "cell_type": "code",
   "execution_count": 2,
   "metadata": {},
   "outputs": [
    {
     "data": {
      "text/html": [
       "<div>\n",
       "<style scoped>\n",
       "    .dataframe tbody tr th:only-of-type {\n",
       "        vertical-align: middle;\n",
       "    }\n",
       "\n",
       "    .dataframe tbody tr th {\n",
       "        vertical-align: top;\n",
       "    }\n",
       "\n",
       "    .dataframe thead th {\n",
       "        text-align: right;\n",
       "    }\n",
       "</style>\n",
       "<table border=\"1\" class=\"dataframe\">\n",
       "  <thead>\n",
       "    <tr style=\"text-align: right;\">\n",
       "      <th></th>\n",
       "      <th>transactionId</th>\n",
       "      <th>visitorId</th>\n",
       "      <th>date</th>\n",
       "      <th>revenue</th>\n",
       "      <th>group</th>\n",
       "    </tr>\n",
       "  </thead>\n",
       "  <tbody>\n",
       "    <tr>\n",
       "      <th>0</th>\n",
       "      <td>3667963787</td>\n",
       "      <td>3312258926</td>\n",
       "      <td>2019-08-15</td>\n",
       "      <td>1650</td>\n",
       "      <td>B</td>\n",
       "    </tr>\n",
       "    <tr>\n",
       "      <th>1</th>\n",
       "      <td>2804400009</td>\n",
       "      <td>3642806036</td>\n",
       "      <td>2019-08-15</td>\n",
       "      <td>730</td>\n",
       "      <td>B</td>\n",
       "    </tr>\n",
       "    <tr>\n",
       "      <th>2</th>\n",
       "      <td>2961555356</td>\n",
       "      <td>4069496402</td>\n",
       "      <td>2019-08-15</td>\n",
       "      <td>400</td>\n",
       "      <td>A</td>\n",
       "    </tr>\n",
       "    <tr>\n",
       "      <th>3</th>\n",
       "      <td>3797467345</td>\n",
       "      <td>1196621759</td>\n",
       "      <td>2019-08-15</td>\n",
       "      <td>9759</td>\n",
       "      <td>B</td>\n",
       "    </tr>\n",
       "    <tr>\n",
       "      <th>4</th>\n",
       "      <td>2282983706</td>\n",
       "      <td>2322279887</td>\n",
       "      <td>2019-08-15</td>\n",
       "      <td>2308</td>\n",
       "      <td>B</td>\n",
       "    </tr>\n",
       "  </tbody>\n",
       "</table>\n",
       "</div>"
      ],
      "text/plain": [
       "   transactionId   visitorId        date  revenue group\n",
       "0     3667963787  3312258926  2019-08-15     1650     B\n",
       "1     2804400009  3642806036  2019-08-15      730     B\n",
       "2     2961555356  4069496402  2019-08-15      400     A\n",
       "3     3797467345  1196621759  2019-08-15     9759     B\n",
       "4     2282983706  2322279887  2019-08-15     2308     B"
      ]
     },
     "execution_count": 2,
     "metadata": {},
     "output_type": "execute_result"
    }
   ],
   "source": [
    "orders = pd.read_csv('/datasets/orders.csv')\n",
    "orders.head(5)"
   ]
  },
  {
   "cell_type": "code",
   "execution_count": 3,
   "metadata": {},
   "outputs": [
    {
     "data": {
      "text/html": [
       "<div>\n",
       "<style scoped>\n",
       "    .dataframe tbody tr th:only-of-type {\n",
       "        vertical-align: middle;\n",
       "    }\n",
       "\n",
       "    .dataframe tbody tr th {\n",
       "        vertical-align: top;\n",
       "    }\n",
       "\n",
       "    .dataframe thead th {\n",
       "        text-align: right;\n",
       "    }\n",
       "</style>\n",
       "<table border=\"1\" class=\"dataframe\">\n",
       "  <thead>\n",
       "    <tr style=\"text-align: right;\">\n",
       "      <th></th>\n",
       "      <th>date</th>\n",
       "      <th>group</th>\n",
       "      <th>visitors</th>\n",
       "    </tr>\n",
       "  </thead>\n",
       "  <tbody>\n",
       "    <tr>\n",
       "      <th>0</th>\n",
       "      <td>2019-08-01</td>\n",
       "      <td>A</td>\n",
       "      <td>719</td>\n",
       "    </tr>\n",
       "    <tr>\n",
       "      <th>1</th>\n",
       "      <td>2019-08-02</td>\n",
       "      <td>A</td>\n",
       "      <td>619</td>\n",
       "    </tr>\n",
       "    <tr>\n",
       "      <th>2</th>\n",
       "      <td>2019-08-03</td>\n",
       "      <td>A</td>\n",
       "      <td>507</td>\n",
       "    </tr>\n",
       "    <tr>\n",
       "      <th>3</th>\n",
       "      <td>2019-08-04</td>\n",
       "      <td>A</td>\n",
       "      <td>717</td>\n",
       "    </tr>\n",
       "    <tr>\n",
       "      <th>4</th>\n",
       "      <td>2019-08-05</td>\n",
       "      <td>A</td>\n",
       "      <td>756</td>\n",
       "    </tr>\n",
       "  </tbody>\n",
       "</table>\n",
       "</div>"
      ],
      "text/plain": [
       "         date group  visitors\n",
       "0  2019-08-01     A       719\n",
       "1  2019-08-02     A       619\n",
       "2  2019-08-03     A       507\n",
       "3  2019-08-04     A       717\n",
       "4  2019-08-05     A       756"
      ]
     },
     "execution_count": 3,
     "metadata": {},
     "output_type": "execute_result"
    }
   ],
   "source": [
    "visitors= pd.read_csv('/datasets/visitors.csv')\n",
    "visitors.head(5)"
   ]
  },
  {
   "cell_type": "code",
   "execution_count": 4,
   "metadata": {},
   "outputs": [
    {
     "name": "stdout",
     "output_type": "stream",
     "text": [
      "<class 'pandas.core.frame.DataFrame'>\n",
      "RangeIndex: 1197 entries, 0 to 1196\n",
      "Data columns (total 5 columns):\n",
      " #   Column         Non-Null Count  Dtype \n",
      "---  ------         --------------  ----- \n",
      " 0   transactionId  1197 non-null   int64 \n",
      " 1   visitorId      1197 non-null   int64 \n",
      " 2   date           1197 non-null   object\n",
      " 3   revenue        1197 non-null   int64 \n",
      " 4   group          1197 non-null   object\n",
      "dtypes: int64(3), object(2)\n",
      "memory usage: 46.9+ KB\n"
     ]
    }
   ],
   "source": [
    "orders.info()"
   ]
  },
  {
   "cell_type": "code",
   "execution_count": 5,
   "metadata": {},
   "outputs": [
    {
     "name": "stdout",
     "output_type": "stream",
     "text": [
      "<class 'pandas.core.frame.DataFrame'>\n",
      "RangeIndex: 62 entries, 0 to 61\n",
      "Data columns (total 3 columns):\n",
      " #   Column    Non-Null Count  Dtype \n",
      "---  ------    --------------  ----- \n",
      " 0   date      62 non-null     object\n",
      " 1   group     62 non-null     object\n",
      " 2   visitors  62 non-null     int64 \n",
      "dtypes: int64(1), object(2)\n",
      "memory usage: 1.6+ KB\n"
     ]
    }
   ],
   "source": [
    "visitors.info()"
   ]
  },
  {
   "cell_type": "code",
   "execution_count": 6,
   "metadata": {},
   "outputs": [],
   "source": [
    "# приведем столбцы к нужному виду\n",
    "orders.columns = ['transaction_id','visitor_id', 'date', 'revenue', 'group']"
   ]
  },
  {
   "cell_type": "code",
   "execution_count": 7,
   "metadata": {},
   "outputs": [
    {
     "data": {
      "text/html": [
       "<div>\n",
       "<style scoped>\n",
       "    .dataframe tbody tr th:only-of-type {\n",
       "        vertical-align: middle;\n",
       "    }\n",
       "\n",
       "    .dataframe tbody tr th {\n",
       "        vertical-align: top;\n",
       "    }\n",
       "\n",
       "    .dataframe thead th {\n",
       "        text-align: right;\n",
       "    }\n",
       "</style>\n",
       "<table border=\"1\" class=\"dataframe\">\n",
       "  <thead>\n",
       "    <tr style=\"text-align: right;\">\n",
       "      <th></th>\n",
       "      <th>Hypothesis</th>\n",
       "      <th>Reach</th>\n",
       "      <th>Impact</th>\n",
       "      <th>Confidence</th>\n",
       "      <th>Efforts</th>\n",
       "    </tr>\n",
       "  </thead>\n",
       "  <tbody>\n",
       "    <tr>\n",
       "      <th>0</th>\n",
       "      <td>Добавить два новых канала привлечения трафика,...</td>\n",
       "      <td>3</td>\n",
       "      <td>10</td>\n",
       "      <td>8</td>\n",
       "      <td>6</td>\n",
       "    </tr>\n",
       "    <tr>\n",
       "      <th>1</th>\n",
       "      <td>Запустить собственную службу доставки, что сок...</td>\n",
       "      <td>2</td>\n",
       "      <td>5</td>\n",
       "      <td>4</td>\n",
       "      <td>10</td>\n",
       "    </tr>\n",
       "    <tr>\n",
       "      <th>2</th>\n",
       "      <td>Добавить блоки рекомендаций товаров на сайт ин...</td>\n",
       "      <td>8</td>\n",
       "      <td>3</td>\n",
       "      <td>7</td>\n",
       "      <td>3</td>\n",
       "    </tr>\n",
       "    <tr>\n",
       "      <th>3</th>\n",
       "      <td>Изменить структура категорий, что увеличит кон...</td>\n",
       "      <td>8</td>\n",
       "      <td>3</td>\n",
       "      <td>3</td>\n",
       "      <td>8</td>\n",
       "    </tr>\n",
       "    <tr>\n",
       "      <th>4</th>\n",
       "      <td>Изменить цвет фона главной страницы, чтобы уве...</td>\n",
       "      <td>3</td>\n",
       "      <td>1</td>\n",
       "      <td>1</td>\n",
       "      <td>1</td>\n",
       "    </tr>\n",
       "  </tbody>\n",
       "</table>\n",
       "</div>"
      ],
      "text/plain": [
       "                                          Hypothesis  Reach  Impact  \\\n",
       "0  Добавить два новых канала привлечения трафика,...      3      10   \n",
       "1  Запустить собственную службу доставки, что сок...      2       5   \n",
       "2  Добавить блоки рекомендаций товаров на сайт ин...      8       3   \n",
       "3  Изменить структура категорий, что увеличит кон...      8       3   \n",
       "4  Изменить цвет фона главной страницы, чтобы уве...      3       1   \n",
       "\n",
       "   Confidence  Efforts  \n",
       "0           8        6  \n",
       "1           4       10  \n",
       "2           7        3  \n",
       "3           3        8  \n",
       "4           1        1  "
      ]
     },
     "execution_count": 7,
     "metadata": {},
     "output_type": "execute_result"
    }
   ],
   "source": [
    "hypothesis = pd.read_csv('/datasets/hypothesis.csv')\n",
    "hypothesis.head()"
   ]
  },
  {
   "cell_type": "code",
   "execution_count": 8,
   "metadata": {},
   "outputs": [
    {
     "name": "stdout",
     "output_type": "stream",
     "text": [
      "<class 'pandas.core.frame.DataFrame'>\n",
      "RangeIndex: 9 entries, 0 to 8\n",
      "Data columns (total 5 columns):\n",
      " #   Column      Non-Null Count  Dtype \n",
      "---  ------      --------------  ----- \n",
      " 0   Hypothesis  9 non-null      object\n",
      " 1   Reach       9 non-null      int64 \n",
      " 2   Impact      9 non-null      int64 \n",
      " 3   Confidence  9 non-null      int64 \n",
      " 4   Efforts     9 non-null      int64 \n",
      "dtypes: int64(4), object(1)\n",
      "memory usage: 488.0+ bytes\n"
     ]
    }
   ],
   "source": [
    "hypothesis.info()"
   ]
  },
  {
   "cell_type": "code",
   "execution_count": 9,
   "metadata": {},
   "outputs": [],
   "source": [
    "hypothesis.columns = hypothesis.columns.str.lower()"
   ]
  },
  {
   "cell_type": "code",
   "execution_count": 10,
   "metadata": {},
   "outputs": [],
   "source": [
    "orders['date'] = pd.to_datetime(orders['date'])\n",
    "visitors['date'] = pd.to_datetime(visitors['date'])"
   ]
  },
  {
   "cell_type": "code",
   "execution_count": 11,
   "metadata": {},
   "outputs": [
    {
     "name": "stdout",
     "output_type": "stream",
     "text": [
      "0\n",
      "0\n",
      "0\n"
     ]
    }
   ],
   "source": [
    "print(orders.duplicated().sum())\n",
    "print(visitors.duplicated().sum())\n",
    "print(hypothesis.duplicated().sum())"
   ]
  },
  {
   "cell_type": "code",
   "execution_count": 12,
   "metadata": {},
   "outputs": [
    {
     "name": "stdout",
     "output_type": "stream",
     "text": [
      "transaction_id    0\n",
      "visitor_id        0\n",
      "date              0\n",
      "revenue           0\n",
      "group             0\n",
      "dtype: int64\n",
      "date        0\n",
      "group       0\n",
      "visitors    0\n",
      "dtype: int64\n",
      "hypothesis    0\n",
      "reach         0\n",
      "impact        0\n",
      "confidence    0\n",
      "efforts       0\n",
      "dtype: int64\n"
     ]
    }
   ],
   "source": [
    "print(orders.isna().sum())\n",
    "print(visitors.isna().sum())\n",
    "print(hypothesis.isna().sum())"
   ]
  },
  {
   "cell_type": "code",
   "execution_count": 13,
   "metadata": {},
   "outputs": [
    {
     "name": "stdout",
     "output_type": "stream",
     "text": [
      "       transaction_id    visitor_id       revenue\n",
      "count    1.197000e+03  1.197000e+03  1.197000e+03\n",
      "mean     2.155621e+09  2.165960e+09  8.348006e+03\n",
      "std      1.229085e+09  1.236014e+09  3.919113e+04\n",
      "min      1.062393e+06  5.114589e+06  5.000000e+01\n",
      "25%      1.166776e+09  1.111826e+09  1.220000e+03\n",
      "50%      2.145194e+09  2.217985e+09  2.978000e+03\n",
      "75%      3.237740e+09  3.177606e+09  8.290000e+03\n",
      "max      4.293856e+09  4.283872e+09  1.294500e+06\n",
      "         visitors\n",
      "count   62.000000\n",
      "mean   607.290323\n",
      "std    114.400560\n",
      "min    361.000000\n",
      "25%    534.000000\n",
      "50%    624.500000\n",
      "75%    710.500000\n",
      "max    770.000000\n",
      "           reach     impact  confidence    efforts\n",
      "count   9.000000   9.000000    9.000000   9.000000\n",
      "mean    4.777778   4.777778    5.555556   4.888889\n",
      "std     3.153481   3.192874    3.045944   2.803767\n",
      "min     1.000000   1.000000    1.000000   1.000000\n",
      "25%     3.000000   3.000000    3.000000   3.000000\n",
      "50%     3.000000   3.000000    7.000000   5.000000\n",
      "75%     8.000000   7.000000    8.000000   6.000000\n",
      "max    10.000000  10.000000    9.000000  10.000000\n"
     ]
    }
   ],
   "source": [
    "print(orders.describe())\n",
    "print(visitors.describe())\n",
    "print(hypothesis.describe())"
   ]
  },
  {
   "cell_type": "markdown",
   "metadata": {},
   "source": [
    "Предобработка завершена, изменили тип данных, привели заголовки столбцов к правильному виду, дубликатов и пропусков в данных нет"
   ]
  },
  {
   "cell_type": "markdown",
   "metadata": {},
   "source": [
    "**На первом шаге применим фреймворки для приоритезации гипотез**"
   ]
  },
  {
   "cell_type": "code",
   "execution_count": 14,
   "metadata": {},
   "outputs": [
    {
     "data": {
      "text/html": [
       "<div>\n",
       "<style scoped>\n",
       "    .dataframe tbody tr th:only-of-type {\n",
       "        vertical-align: middle;\n",
       "    }\n",
       "\n",
       "    .dataframe tbody tr th {\n",
       "        vertical-align: top;\n",
       "    }\n",
       "\n",
       "    .dataframe thead th {\n",
       "        text-align: right;\n",
       "    }\n",
       "</style>\n",
       "<table border=\"1\" class=\"dataframe\">\n",
       "  <thead>\n",
       "    <tr style=\"text-align: right;\">\n",
       "      <th></th>\n",
       "      <th>hypothesis</th>\n",
       "      <th>reach</th>\n",
       "      <th>impact</th>\n",
       "      <th>confidence</th>\n",
       "      <th>efforts</th>\n",
       "      <th>ICE</th>\n",
       "    </tr>\n",
       "  </thead>\n",
       "  <tbody>\n",
       "    <tr>\n",
       "      <th>8</th>\n",
       "      <td>Запустить акцию, дающую скидку на товар в день...</td>\n",
       "      <td>1</td>\n",
       "      <td>9</td>\n",
       "      <td>9</td>\n",
       "      <td>5</td>\n",
       "      <td>16.200000</td>\n",
       "    </tr>\n",
       "    <tr>\n",
       "      <th>0</th>\n",
       "      <td>Добавить два новых канала привлечения трафика,...</td>\n",
       "      <td>3</td>\n",
       "      <td>10</td>\n",
       "      <td>8</td>\n",
       "      <td>6</td>\n",
       "      <td>13.333333</td>\n",
       "    </tr>\n",
       "    <tr>\n",
       "      <th>7</th>\n",
       "      <td>Добавить форму подписки на все основные страни...</td>\n",
       "      <td>10</td>\n",
       "      <td>7</td>\n",
       "      <td>8</td>\n",
       "      <td>5</td>\n",
       "      <td>11.200000</td>\n",
       "    </tr>\n",
       "    <tr>\n",
       "      <th>6</th>\n",
       "      <td>Показать на главной странице баннеры с актуаль...</td>\n",
       "      <td>5</td>\n",
       "      <td>3</td>\n",
       "      <td>8</td>\n",
       "      <td>3</td>\n",
       "      <td>8.000000</td>\n",
       "    </tr>\n",
       "    <tr>\n",
       "      <th>2</th>\n",
       "      <td>Добавить блоки рекомендаций товаров на сайт ин...</td>\n",
       "      <td>8</td>\n",
       "      <td>3</td>\n",
       "      <td>7</td>\n",
       "      <td>3</td>\n",
       "      <td>7.000000</td>\n",
       "    </tr>\n",
       "    <tr>\n",
       "      <th>1</th>\n",
       "      <td>Запустить собственную службу доставки, что сок...</td>\n",
       "      <td>2</td>\n",
       "      <td>5</td>\n",
       "      <td>4</td>\n",
       "      <td>10</td>\n",
       "      <td>2.000000</td>\n",
       "    </tr>\n",
       "    <tr>\n",
       "      <th>5</th>\n",
       "      <td>Добавить страницу отзывов клиентов о магазине,...</td>\n",
       "      <td>3</td>\n",
       "      <td>2</td>\n",
       "      <td>2</td>\n",
       "      <td>3</td>\n",
       "      <td>1.333333</td>\n",
       "    </tr>\n",
       "    <tr>\n",
       "      <th>3</th>\n",
       "      <td>Изменить структура категорий, что увеличит кон...</td>\n",
       "      <td>8</td>\n",
       "      <td>3</td>\n",
       "      <td>3</td>\n",
       "      <td>8</td>\n",
       "      <td>1.125000</td>\n",
       "    </tr>\n",
       "    <tr>\n",
       "      <th>4</th>\n",
       "      <td>Изменить цвет фона главной страницы, чтобы уве...</td>\n",
       "      <td>3</td>\n",
       "      <td>1</td>\n",
       "      <td>1</td>\n",
       "      <td>1</td>\n",
       "      <td>1.000000</td>\n",
       "    </tr>\n",
       "  </tbody>\n",
       "</table>\n",
       "</div>"
      ],
      "text/plain": [
       "                                          hypothesis  reach  impact  \\\n",
       "8  Запустить акцию, дающую скидку на товар в день...      1       9   \n",
       "0  Добавить два новых канала привлечения трафика,...      3      10   \n",
       "7  Добавить форму подписки на все основные страни...     10       7   \n",
       "6  Показать на главной странице баннеры с актуаль...      5       3   \n",
       "2  Добавить блоки рекомендаций товаров на сайт ин...      8       3   \n",
       "1  Запустить собственную службу доставки, что сок...      2       5   \n",
       "5  Добавить страницу отзывов клиентов о магазине,...      3       2   \n",
       "3  Изменить структура категорий, что увеличит кон...      8       3   \n",
       "4  Изменить цвет фона главной страницы, чтобы уве...      3       1   \n",
       "\n",
       "   confidence  efforts        ICE  \n",
       "8           9        5  16.200000  \n",
       "0           8        6  13.333333  \n",
       "7           8        5  11.200000  \n",
       "6           8        3   8.000000  \n",
       "2           7        3   7.000000  \n",
       "1           4       10   2.000000  \n",
       "5           2        3   1.333333  \n",
       "3           3        8   1.125000  \n",
       "4           1        1   1.000000  "
      ]
     },
     "execution_count": 14,
     "metadata": {},
     "output_type": "execute_result"
    }
   ],
   "source": [
    "hypothesis['ICE'] = hypothesis['impact'] * hypothesis['confidence'] / hypothesis['efforts']\n",
    "hypothesis.sort_values('ICE', ascending=False)"
   ]
  },
  {
   "cell_type": "code",
   "execution_count": 15,
   "metadata": {},
   "outputs": [
    {
     "data": {
      "text/html": [
       "<div>\n",
       "<style scoped>\n",
       "    .dataframe tbody tr th:only-of-type {\n",
       "        vertical-align: middle;\n",
       "    }\n",
       "\n",
       "    .dataframe tbody tr th {\n",
       "        vertical-align: top;\n",
       "    }\n",
       "\n",
       "    .dataframe thead th {\n",
       "        text-align: right;\n",
       "    }\n",
       "</style>\n",
       "<table border=\"1\" class=\"dataframe\">\n",
       "  <thead>\n",
       "    <tr style=\"text-align: right;\">\n",
       "      <th></th>\n",
       "      <th>hypothesis</th>\n",
       "      <th>reach</th>\n",
       "      <th>impact</th>\n",
       "      <th>confidence</th>\n",
       "      <th>efforts</th>\n",
       "      <th>ICE</th>\n",
       "      <th>RICE</th>\n",
       "    </tr>\n",
       "  </thead>\n",
       "  <tbody>\n",
       "    <tr>\n",
       "      <th>7</th>\n",
       "      <td>Добавить форму подписки на все основные страни...</td>\n",
       "      <td>10</td>\n",
       "      <td>7</td>\n",
       "      <td>8</td>\n",
       "      <td>5</td>\n",
       "      <td>11.200000</td>\n",
       "      <td>112.0</td>\n",
       "    </tr>\n",
       "    <tr>\n",
       "      <th>2</th>\n",
       "      <td>Добавить блоки рекомендаций товаров на сайт ин...</td>\n",
       "      <td>8</td>\n",
       "      <td>3</td>\n",
       "      <td>7</td>\n",
       "      <td>3</td>\n",
       "      <td>7.000000</td>\n",
       "      <td>56.0</td>\n",
       "    </tr>\n",
       "    <tr>\n",
       "      <th>0</th>\n",
       "      <td>Добавить два новых канала привлечения трафика,...</td>\n",
       "      <td>3</td>\n",
       "      <td>10</td>\n",
       "      <td>8</td>\n",
       "      <td>6</td>\n",
       "      <td>13.333333</td>\n",
       "      <td>40.0</td>\n",
       "    </tr>\n",
       "    <tr>\n",
       "      <th>6</th>\n",
       "      <td>Показать на главной странице баннеры с актуаль...</td>\n",
       "      <td>5</td>\n",
       "      <td>3</td>\n",
       "      <td>8</td>\n",
       "      <td>3</td>\n",
       "      <td>8.000000</td>\n",
       "      <td>40.0</td>\n",
       "    </tr>\n",
       "    <tr>\n",
       "      <th>8</th>\n",
       "      <td>Запустить акцию, дающую скидку на товар в день...</td>\n",
       "      <td>1</td>\n",
       "      <td>9</td>\n",
       "      <td>9</td>\n",
       "      <td>5</td>\n",
       "      <td>16.200000</td>\n",
       "      <td>16.2</td>\n",
       "    </tr>\n",
       "    <tr>\n",
       "      <th>3</th>\n",
       "      <td>Изменить структура категорий, что увеличит кон...</td>\n",
       "      <td>8</td>\n",
       "      <td>3</td>\n",
       "      <td>3</td>\n",
       "      <td>8</td>\n",
       "      <td>1.125000</td>\n",
       "      <td>9.0</td>\n",
       "    </tr>\n",
       "    <tr>\n",
       "      <th>1</th>\n",
       "      <td>Запустить собственную службу доставки, что сок...</td>\n",
       "      <td>2</td>\n",
       "      <td>5</td>\n",
       "      <td>4</td>\n",
       "      <td>10</td>\n",
       "      <td>2.000000</td>\n",
       "      <td>4.0</td>\n",
       "    </tr>\n",
       "    <tr>\n",
       "      <th>5</th>\n",
       "      <td>Добавить страницу отзывов клиентов о магазине,...</td>\n",
       "      <td>3</td>\n",
       "      <td>2</td>\n",
       "      <td>2</td>\n",
       "      <td>3</td>\n",
       "      <td>1.333333</td>\n",
       "      <td>4.0</td>\n",
       "    </tr>\n",
       "    <tr>\n",
       "      <th>4</th>\n",
       "      <td>Изменить цвет фона главной страницы, чтобы уве...</td>\n",
       "      <td>3</td>\n",
       "      <td>1</td>\n",
       "      <td>1</td>\n",
       "      <td>1</td>\n",
       "      <td>1.000000</td>\n",
       "      <td>3.0</td>\n",
       "    </tr>\n",
       "  </tbody>\n",
       "</table>\n",
       "</div>"
      ],
      "text/plain": [
       "                                          hypothesis  reach  impact  \\\n",
       "7  Добавить форму подписки на все основные страни...     10       7   \n",
       "2  Добавить блоки рекомендаций товаров на сайт ин...      8       3   \n",
       "0  Добавить два новых канала привлечения трафика,...      3      10   \n",
       "6  Показать на главной странице баннеры с актуаль...      5       3   \n",
       "8  Запустить акцию, дающую скидку на товар в день...      1       9   \n",
       "3  Изменить структура категорий, что увеличит кон...      8       3   \n",
       "1  Запустить собственную службу доставки, что сок...      2       5   \n",
       "5  Добавить страницу отзывов клиентов о магазине,...      3       2   \n",
       "4  Изменить цвет фона главной страницы, чтобы уве...      3       1   \n",
       "\n",
       "   confidence  efforts        ICE   RICE  \n",
       "7           8        5  11.200000  112.0  \n",
       "2           7        3   7.000000   56.0  \n",
       "0           8        6  13.333333   40.0  \n",
       "6           8        3   8.000000   40.0  \n",
       "8           9        5  16.200000   16.2  \n",
       "3           3        8   1.125000    9.0  \n",
       "1           4       10   2.000000    4.0  \n",
       "5           2        3   1.333333    4.0  \n",
       "4           1        1   1.000000    3.0  "
      ]
     },
     "execution_count": 15,
     "metadata": {},
     "output_type": "execute_result"
    }
   ],
   "source": [
    "hypothesis['RICE'] = hypothesis['reach'] * hypothesis['impact'] * hypothesis['confidence'] / hypothesis['efforts']\n",
    "hypothesis.sort_values('RICE', ascending=False)"
   ]
  },
  {
   "cell_type": "markdown",
   "metadata": {},
   "source": [
    "Мы видим, что в случае в ICE наиболее приоритетными оказались гипотезы 8, 0 и 7. В случае в RICE - 7, 2, 0 соовтественно. 2/3 из наиболее приоретизированных гипотез оказались в обеих моделях, но в разном порядке. Такое различие достигается из-за формул расчета, в модели RICE учитывается параметр \"охват\", а в модели ICE данный параметр не учитывается."
   ]
  },
  {
   "cell_type": "markdown",
   "metadata": {},
   "source": [
    "Далее необходимо оценить результаты А/В теста. Тут стоит уточнить, что в данном проекте нам не нужно проводить оценку результатов А/А теста, а также оценивать ошибки I и II рода, проводить размеры выборки и длительности теста. Единственное, что мы можем сделать, это статистически оценить различия в группах, но мы видим, что оно незначима, следовательно, данные можно оставить как есть"
   ]
  },
  {
   "cell_type": "markdown",
   "metadata": {},
   "source": [
    " - Н0: Разница в количестве посетителей в группах A и B статистически не значима\n",
    " - Н1: Разница в количестве посетителей в группах A и B статистически значима   "
   ]
  },
  {
   "cell_type": "markdown",
   "metadata": {},
   "source": [
    "**Проанализируем результаты А/В теста**"
   ]
  },
  {
   "cell_type": "code",
   "execution_count": 17,
   "metadata": {
    "scrolled": true
   },
   "outputs": [
    {
     "name": "stdout",
     "output_type": "stream",
     "text": [
      "P-value:0.7301376549390499\n",
      "Разница в количестве посетителей в группах A и B статистически не значима\n"
     ]
    }
   ],
   "source": [
    "results = stats.mannwhitneyu(visitors[visitors['group']=='A']['visitors'], visitors[visitors['group']=='B']['visitors'])\n",
    "alpha = 0.05\n",
    "print('P-value:{}'.format(results.pvalue))\n",
    "if results.pvalue < alpha:\n",
    "    print('Разница в количестве посетителей в группах A и B статистически значима')\n",
    "else:\n",
    "    print('Разница в количестве посетителей в группах A и B статистически не значима')"
   ]
  },
  {
   "cell_type": "markdown",
   "metadata": {},
   "source": [
    "1) Построим график кумулятивной выручки по группам"
   ]
  },
  {
   "cell_type": "code",
   "execution_count": 18,
   "metadata": {},
   "outputs": [
    {
     "data": {
      "image/png": "[encoded data removed]",
      "text/plain": [
       "<Figure size 1080x648 with 1 Axes>"
      ]
     },
     "metadata": {
      "needs_background": "light"
     },
     "output_type": "display_data"
    }
   ],
   "source": [
    "datesGroups = orders[['date', 'group']].drop_duplicates()\n",
    "\n",
    "ordersAggregated = datesGroups.apply(\n",
    "    lambda x: orders[\n",
    "        np.logical_and(\n",
    "            orders['date'] <= x['date'], orders['group'] == x['group']\n",
    "        )\n",
    "    ].agg(\n",
    "        {\n",
    "            'date': 'max',\n",
    "            'group': 'max',\n",
    "            'transaction_id': 'nunique',\n",
    "            'visitor_id': 'nunique',\n",
    "            'revenue': 'sum',\n",
    "        }\n",
    "    ),\n",
    "    axis=1,\n",
    ").sort_values(by=['date', 'group'])\n",
    "\n",
    "visitorsAggregated = datesGroups.apply(\n",
    "    lambda x: visitors[\n",
    "        np.logical_and(\n",
    "            visitors['date'] <= x['date'], visitors['group'] == x['group']\n",
    "        )\n",
    "    ].agg({'date': 'max', 'group': 'max', 'visitors': 'sum'}),\n",
    "    axis=1,\n",
    ").sort_values(by=['date', 'group'])\n",
    "\n",
    "cumulativeData = ordersAggregated.merge(\n",
    "    visitorsAggregated, left_on=['date', 'group'], right_on=['date', 'group']\n",
    ")\n",
    "cumulativeData.columns = [\n",
    "    'date',\n",
    "    'group',\n",
    "    'orders',\n",
    "    'buyers',\n",
    "    'revenue',\n",
    "    'visitors',\n",
    "]\n",
    "\n",
    "cumulativeDataA = cumulativeData[cumulativeData['group']=='A'][['date','revenue', 'orders']]\n",
    "cumulativeDataB = cumulativeData[cumulativeData['group']=='B'][['date','revenue', 'orders']]\n",
    "plt.figure(figsize=(15,9))\n",
    "plt.plot(cumulativeDataA['date'], cumulativeDataA['revenue'], label='A')\n",
    "plt.plot(cumulativeDataB['date'], cumulativeDataB['revenue'], label='B')\n",
    "plt.ylabel('Выручка')\n",
    "plt.xlabel('Дата')\n",
    "plt.title('График кумулятивной выручки по группам A/B')\n",
    "plt.legend()\n",
    "plt.show()"
   ]
  },
  {
   "cell_type": "markdown",
   "metadata": {},
   "source": [
    "Вывод: группа В на протяжении всего времени демонстрирует бОльшую выручку, чем группа А, а также наблюдается резкий скачок в данных посде 17.08, вероятно, в данных присутствуют выбросы, они же аномалии. Скорее всего, они связаны с дорогостоящими заказами, которые появились у интернет-магазина в эти дни. Дальше будем с ними разбироваться."
   ]
  },
  {
   "cell_type": "markdown",
   "metadata": {},
   "source": [
    "2) Построим график кумулятивного среднего чека по группам"
   ]
  },
  {
   "cell_type": "code",
   "execution_count": 19,
   "metadata": {},
   "outputs": [
    {
     "data": {
      "image/png": "[encoded data removed]",
      "text/plain": [
       "<Figure size 1080x648 with 1 Axes>"
      ]
     },
     "metadata": {
      "needs_background": "light"
     },
     "output_type": "display_data"
    }
   ],
   "source": [
    "plt.figure(figsize=(15,9))\n",
    "plt.plot(cumulativeDataA['date'], cumulativeDataA['revenue']/cumulativeDataA['orders'], label='A')\n",
    "plt.plot(cumulativeDataB['date'], cumulativeDataB['revenue']/cumulativeDataB['orders'], label='B')\n",
    "plt.title('Графики кумулятивного среднего чека по группам A/B')\n",
    "plt.ylabel('Средний чек')\n",
    "plt.xlabel('Дата')\n",
    "plt.legend()\n",
    "plt.show() "
   ]
  },
  {
   "cell_type": "markdown",
   "metadata": {},
   "source": [
    "По графику видно, как после 17.08 в группе В существенно увеличился кумулятивный средний чек, что точно говрит о выбросах в данных."
   ]
  },
  {
   "cell_type": "markdown",
   "metadata": {},
   "source": [
    "3) Посмтроим график относительного изменения кумулятивного среднего чека группы B к группе A"
   ]
  },
  {
   "cell_type": "code",
   "execution_count": 20,
   "metadata": {},
   "outputs": [
    {
     "data": {
      "image/png": "[encoded data removed]",
      "text/plain": [
       "<Figure size 1080x648 with 1 Axes>"
      ]
     },
     "metadata": {
      "needs_background": "light"
     },
     "output_type": "display_data"
    }
   ],
   "source": [
    "plt.figure(figsize=(15,9))\n",
    "mergedCumulativeRevenue = cumulativeDataA.merge(cumulativeDataB, left_on='date', right_on='date', how='left', suffixes=['A', 'B'])\n",
    "\n",
    "plt.plot(mergedCumulativeRevenue['date'], (mergedCumulativeRevenue['revenueB']/mergedCumulativeRevenue['ordersB'])/(mergedCumulativeRevenue['revenueA']/mergedCumulativeRevenue['ordersA'])-1)\n",
    "plt.title('График относительного изменения кумулятивного среднего чека группы B к группе A')\n",
    "plt.xlabel('Дата')\n",
    "plt.axhline(y=0, color='black', linestyle='--') \n",
    "plt.show()"
   ]
  },
  {
   "cell_type": "markdown",
   "metadata": {},
   "source": [
    "По графику видно, как существенно отличаются покупки в разные дни теста, это и будут, скорее всего, наши аномалии."
   ]
  },
  {
   "cell_type": "markdown",
   "metadata": {},
   "source": [
    "4) Построим график кумулятивного среднего количества заказов на посетителя по группам."
   ]
  },
  {
   "cell_type": "code",
   "execution_count": 21,
   "metadata": {},
   "outputs": [
    {
     "data": {
      "image/png": "[encoded data removed]",
      "text/plain": [
       "<Figure size 1080x648 with 1 Axes>"
      ]
     },
     "metadata": {
      "needs_background": "light"
     },
     "output_type": "display_data"
    }
   ],
   "source": [
    "cumulativeData['conversion'] = cumulativeData['orders']/cumulativeData['visitors']\n",
    "\n",
    "cumulativeDataA = cumulativeData[cumulativeData['group']=='A']\n",
    "\n",
    "cumulativeDataB = cumulativeData[cumulativeData['group']=='B']\n",
    "plt.figure(figsize=(15,9))\n",
    "plt.plot(cumulativeDataA['date'], cumulativeDataA['conversion'], label='A')\n",
    "plt.plot(cumulativeDataB['date'], cumulativeDataB['conversion'], label='B')\n",
    "plt.title('График кумулятивного среднего количества заказов на посетителя по группам')\n",
    "plt.xlabel('Дата')\n",
    "plt.ylabel('Конверсия')\n",
    "plt.legend()\n",
    "plt.show()"
   ]
  },
  {
   "cell_type": "markdown",
   "metadata": {},
   "source": [
    "На графике наблюдается пик значений у групп в самом начале теста, затем показатели у группы А начали резко снижать, наблюдается некая симметричность графиков различных групп, к тому же показатели группы В стабильно выше, что имеет положительный результат для нас. Сейчас еще рано делать какие-либо выводы относительно результатов теста."
   ]
  },
  {
   "cell_type": "markdown",
   "metadata": {},
   "source": [
    "5) Построим график относительного изменения кумулятивного среднего количества заказов на посетителя группы B к группе A"
   ]
  },
  {
   "cell_type": "code",
   "execution_count": 22,
   "metadata": {},
   "outputs": [
    {
     "data": {
      "image/png": "[encoded data removed]",
      "text/plain": [
       "<Figure size 1080x648 with 1 Axes>"
      ]
     },
     "metadata": {
      "needs_background": "light"
     },
     "output_type": "display_data"
    }
   ],
   "source": [
    "mergedCumulativeConversions = cumulativeDataA[['date','conversion']].merge(cumulativeDataB[['date','conversion']], left_on='date', right_on='date', how='left', suffixes=['A', 'B'])\n",
    "plt.figure(figsize=(15,9))\n",
    "plt.plot(mergedCumulativeConversions['date'], mergedCumulativeConversions['conversionB']/mergedCumulativeConversions['conversionA']-1, label=\"Относительный прирост конверсии группы B относительно группы A\")\n",
    "plt.title('График относительного изменения кумулятивной конверсии группы B к группе A')\n",
    "plt.xlabel('Дата')\n",
    "plt.ylabel('Динамика изменения')\n",
    "plt.axhline(y=0, color='black', linestyle='--')\n",
    "plt.axhline(y=-0.1, color='grey', linestyle='--')\n",
    "plt.show()"
   ]
  },
  {
   "cell_type": "markdown",
   "metadata": {},
   "source": [
    "Относительное изменение кумулятивной конверсии группы В показывает себя гораздо лучше, чем в группе А, пиковые значения находятся на уровне 20%. Кажется, что тест проходит в положительном для нас ключе."
   ]
  },
  {
   "cell_type": "markdown",
   "metadata": {},
   "source": [
    "Далее мы переходим к этапу анализа выбросов в данных, которые предположительно были нами обнаружены."
   ]
  },
  {
   "cell_type": "markdown",
   "metadata": {},
   "source": [
    "Для этого нам необходимо построить точечный график количества заказов по пользователям"
   ]
  },
  {
   "cell_type": "code",
   "execution_count": 23,
   "metadata": {},
   "outputs": [
    {
     "data": {
      "text/html": [
       "<div>\n",
       "<style scoped>\n",
       "    .dataframe tbody tr th:only-of-type {\n",
       "        vertical-align: middle;\n",
       "    }\n",
       "\n",
       "    .dataframe tbody tr th {\n",
       "        vertical-align: top;\n",
       "    }\n",
       "\n",
       "    .dataframe thead th {\n",
       "        text-align: right;\n",
       "    }\n",
       "</style>\n",
       "<table border=\"1\" class=\"dataframe\">\n",
       "  <thead>\n",
       "    <tr style=\"text-align: right;\">\n",
       "      <th></th>\n",
       "      <th>visitor_id</th>\n",
       "      <th>orders</th>\n",
       "    </tr>\n",
       "  </thead>\n",
       "  <tbody>\n",
       "    <tr>\n",
       "      <th>1023</th>\n",
       "      <td>4256040402</td>\n",
       "      <td>11</td>\n",
       "    </tr>\n",
       "    <tr>\n",
       "      <th>591</th>\n",
       "      <td>2458001652</td>\n",
       "      <td>11</td>\n",
       "    </tr>\n",
       "    <tr>\n",
       "      <th>569</th>\n",
       "      <td>2378935119</td>\n",
       "      <td>9</td>\n",
       "    </tr>\n",
       "    <tr>\n",
       "      <th>487</th>\n",
       "      <td>2038680547</td>\n",
       "      <td>8</td>\n",
       "    </tr>\n",
       "    <tr>\n",
       "      <th>44</th>\n",
       "      <td>199603092</td>\n",
       "      <td>5</td>\n",
       "    </tr>\n",
       "  </tbody>\n",
       "</table>\n",
       "</div>"
      ],
      "text/plain": [
       "      visitor_id  orders\n",
       "1023  4256040402      11\n",
       "591   2458001652      11\n",
       "569   2378935119       9\n",
       "487   2038680547       8\n",
       "44     199603092       5"
      ]
     },
     "execution_count": 23,
     "metadata": {},
     "output_type": "execute_result"
    }
   ],
   "source": [
    "ordersByUsers = orders.groupby('visitor_id', as_index = False).agg({'transaction_id':'nunique'}).sort_values(by='transaction_id', ascending = False)\n",
    "ordersByUsers.columns = ['visitor_id', 'orders']\n",
    "ordersByUsers.head(5)"
   ]
  },
  {
   "cell_type": "code",
   "execution_count": 24,
   "metadata": {},
   "outputs": [
    {
     "data": {
      "image/png": "[encoded data removed]",
      "text/plain": [
       "<Figure size 720x288 with 1 Axes>"
      ]
     },
     "metadata": {
      "needs_background": "light"
     },
     "output_type": "display_data"
    }
   ],
   "source": [
    "plt.figure(figsize=(10,4))\n",
    "plt.hist(ordersByUsers['orders'], bins = 10)\n",
    "plt.title('Гистрограмма распределения количества заказов на одного пользователя')\n",
    "plt.show()"
   ]
  },
  {
   "cell_type": "markdown",
   "metadata": {},
   "source": [
    "По гистограмме видно, что в основном пользователи совершают до 2-ух заказов, при этом есть аномалии в виде 10 заказов. Построим диаграмму рассеяния."
   ]
  },
  {
   "cell_type": "code",
   "execution_count": 25,
   "metadata": {},
   "outputs": [
    {
     "data": {
      "image/png": "[encoded data removed]",
      "text/plain": [
       "<Figure size 720x288 with 1 Axes>"
      ]
     },
     "metadata": {
      "needs_background": "light"
     },
     "output_type": "display_data"
    }
   ],
   "source": [
    "x_values = pd.Series(range(0, len(ordersByUsers)))\n",
    "plt.figure(figsize=(10,4))\n",
    "plt.scatter(x_values, ordersByUsers['orders'])\n",
    "plt.title('Точечная диаграмма числа заказов на одного пользователя')\n",
    "plt.show()"
   ]
  },
  {
   "cell_type": "markdown",
   "metadata": {},
   "source": [
    "По графику видно, что пользователи не совершают ,в основном, не совершают более 2-ух заказов, определенно есть выбросы, далее их и проанализируем"
   ]
  },
  {
   "cell_type": "code",
   "execution_count": 26,
   "metadata": {
    "scrolled": true
   },
   "outputs": [
    {
     "data": {
      "image/png": "[encoded data removed]",
      "text/plain": [
       "<Figure size 720x288 with 1 Axes>"
      ]
     },
     "metadata": {
      "needs_background": "light"
     },
     "output_type": "display_data"
    }
   ],
   "source": [
    "plt.figure(figsize=(10,4))\n",
    "plt.hist(orders['revenue'], range=(0,100000), bins = 100)\n",
    "plt.title('Гистрограмма распределения сумм заказов на одного пользователя')\n",
    "plt.show()"
   ]
  },
  {
   "cell_type": "code",
   "execution_count": 27,
   "metadata": {
    "scrolled": true
   },
   "outputs": [
    {
     "data": {
      "image/png": "[encoded data removed]",
      "text/plain": [
       "<Figure size 720x288 with 1 Axes>"
      ]
     },
     "metadata": {
      "needs_background": "light"
     },
     "output_type": "display_data"
    }
   ],
   "source": [
    "x_values = pd.Series(range(0, len(orders)))\n",
    "plt.figure(figsize=(10,4))\n",
    "plt.scatter(x_values, orders['revenue'])\n",
    "plt.title('Точечная диаграмма сумм заказов на одного пользователя')\n",
    "plt.axis([0, 1200, 0, 200000])\n",
    "plt.show()"
   ]
  },
  {
   "cell_type": "markdown",
   "metadata": {},
   "source": [
    "Один пользователь чаще всего тратит до 20.000 на заказ, при этом наблюдаются выбросы, скорее всего были крупные закупки какой-либо организацией."
   ]
  },
  {
   "cell_type": "markdown",
   "metadata": {},
   "source": [
    "Необходимо определить границу аномалий количества заказов на 1 пользователя и стоиомости заказа с помощью перцентилей."
   ]
  },
  {
   "cell_type": "code",
   "execution_count": 28,
   "metadata": {},
   "outputs": [
    {
     "name": "stdout",
     "output_type": "stream",
     "text": [
      "[2. 4.]\n"
     ]
    }
   ],
   "source": [
    "percentiles = np.percentile(ordersByUsers['orders'], [95, 99])\n",
    "print(percentiles)"
   ]
  },
  {
   "cell_type": "markdown",
   "metadata": {},
   "source": [
    "Не более 5% процентов пользователей совершают более 2 заказов"
   ]
  },
  {
   "cell_type": "code",
   "execution_count": 29,
   "metadata": {},
   "outputs": [
    {
     "name": "stdout",
     "output_type": "stream",
     "text": [
      "[28000.  58233.2]\n"
     ]
    }
   ],
   "source": [
    "percentiles = np.percentile(orders['revenue'], [95, 99])\n",
    "print(percentiles)"
   ]
  },
  {
   "cell_type": "markdown",
   "metadata": {},
   "source": [
    "Не более 5% клиентов совершают покупки более чем на 28000."
   ]
  },
  {
   "cell_type": "markdown",
   "metadata": {},
   "source": [
    "Таким образом, граница аномалий определяетмся как 2 заказа, сумма - 28000."
   ]
  },
  {
   "cell_type": "markdown",
   "metadata": {},
   "source": [
    "Далее посчитаем статистическую значимость различий в среднем количестве заказов на посетителя между группами по «сырым» данным."
   ]
  },
  {
   "cell_type": "markdown",
   "metadata": {},
   "source": [
    "Изначально необходимо обозначить гипотезы\n",
    " - Н0: Различии в среднем количестве заказов на посетителя нет\n",
    " - Н1: Различия в среднем количестве заказов на посетителя есть\n",
    " \n",
    " Затем данные гипотезы будут проверены с помощью критерия Манна-Уитни"
   ]
  },
  {
   "cell_type": "code",
   "execution_count": 30,
   "metadata": {},
   "outputs": [
    {
     "name": "stdout",
     "output_type": "stream",
     "text": [
      "P-value:0.017\n",
      "0.138\n"
     ]
    }
   ],
   "source": [
    "visitorsADaily = visitors[visitors['group'] == 'A'][['date', 'visitors']]\n",
    "visitorsADaily.columns = ['date', 'visitorsPerDateA']\n",
    "\n",
    "visitorsACummulative = visitorsADaily.apply(\n",
    "    lambda x: visitorsADaily[visitorsADaily['date'] <= x['date']].agg(\n",
    "        {'date': 'max', 'visitorsPerDateA': 'sum'}\n",
    "    ),\n",
    "    axis=1,\n",
    ")\n",
    "visitorsACummulative.columns = ['date', 'visitorsCummulativeA']\n",
    "\n",
    "visitorsBDaily = visitors[visitors['group'] == 'B'][['date', 'visitors']]\n",
    "visitorsBDaily.columns = ['date', 'visitorsPerDateB']\n",
    "\n",
    "visitorsBCummulative = visitorsBDaily.apply(\n",
    "    lambda x: visitorsBDaily[visitorsBDaily['date'] <= x['date']].agg(\n",
    "        {'date': 'max', 'visitorsPerDateB': 'sum'}\n",
    "    ),\n",
    "    axis=1,\n",
    ")\n",
    "visitorsBCummulative.columns = ['date', 'visitorsCummulativeB']\n",
    "\n",
    "ordersADaily = (\n",
    "    orders[orders['group'] == 'A'][['date', 'transaction_id', 'visitor_id', 'revenue']]\n",
    "    .groupby('date', as_index=False)\n",
    "    .agg({'transaction_id': pd.Series.nunique, 'revenue': 'sum'})\n",
    ")\n",
    "ordersADaily.columns = ['date', 'ordersPerDateA', 'revenuePerDateA']\n",
    "\n",
    "ordersACummulative = ordersADaily.apply(\n",
    "    lambda x: ordersADaily[ordersADaily['date'] <= x['date']].agg(\n",
    "        {'date': 'max', 'ordersPerDateA': 'sum', 'revenuePerDateA': 'sum'}\n",
    "    ),\n",
    "    axis=1,\n",
    ").sort_values(by=['date'])\n",
    "ordersACummulative.columns = [\n",
    "    'date',\n",
    "    'ordersCummulativeA',\n",
    "    'revenueCummulativeA',\n",
    "]\n",
    "\n",
    "ordersBDaily = (\n",
    "    orders[orders['group'] == 'B'][['date', 'transaction_id', 'visitor_id', 'revenue']]\n",
    "    .groupby('date', as_index=False)\n",
    "    .agg({'transaction_id': pd.Series.nunique, 'revenue': 'sum'})\n",
    ")\n",
    "ordersBDaily.columns = ['date', 'ordersPerDateB', 'revenuePerDateB']\n",
    "\n",
    "ordersBCummulative = ordersBDaily.apply(\n",
    "    lambda x: ordersBDaily[ordersBDaily['date'] <= x['date']].agg(\n",
    "        {'date': 'max', 'ordersPerDateB': 'sum', 'revenuePerDateB': 'sum'}\n",
    "    ),\n",
    "    axis=1,\n",
    ").sort_values(by=['date'])\n",
    "ordersBCummulative.columns = [\n",
    "    'date',\n",
    "    'ordersCummulativeB',\n",
    "    'revenueCummulativeB',\n",
    "]\n",
    "\n",
    "cummulative = (\n",
    "    ordersADaily.merge(\n",
    "        ordersBDaily, left_on='date', right_on='date', how='left'\n",
    "    )\n",
    "    .merge(ordersACummulative, left_on='date', right_on='date', how='left')\n",
    "    .merge(ordersBCummulative, left_on='date', right_on='date', how='left')\n",
    "    .merge(visitorsADaily, left_on='date', right_on='date', how='left')\n",
    "    .merge(visitorsBDaily, left_on='date', right_on='date', how='left')\n",
    "    .merge(visitorsACummulative, left_on='date', right_on='date', how='left')\n",
    "    .merge(visitorsBCummulative, left_on='date', right_on='date', how='left')\n",
    ")\n",
    "ordersByUsersA = (\n",
    "    orders[orders['group'] == 'A']\n",
    "    .groupby('visitor_id', as_index=False)\n",
    "    .agg({'transaction_id': pd.Series.nunique})\n",
    ")\n",
    "ordersByUsersA.columns = ['userId', 'orders']\n",
    "\n",
    "ordersByUsersB = (\n",
    "    orders[orders['group'] == 'B']\n",
    "    .groupby('visitor_id', as_index=False)\n",
    "    .agg({'transaction_id': pd.Series.nunique})\n",
    ")\n",
    "ordersByUsersB.columns = ['userId', 'orders']\n",
    "\n",
    "sampleA = pd.concat(\n",
    "    [\n",
    "        ordersByUsersA['orders'],\n",
    "        pd.Series(\n",
    "            0,\n",
    "            index=np.arange(\n",
    "                cummulative['visitorsPerDateA'].sum() - len(ordersByUsersA['orders'])\n",
    "            ),\n",
    "            name='orders',\n",
    "        ),\n",
    "    ],\n",
    "    axis=0,\n",
    ")\n",
    "\n",
    "sampleB = pd.concat(\n",
    "    [\n",
    "        ordersByUsersB['orders'],\n",
    "        pd.Series(\n",
    "            0,\n",
    "            index=np.arange(\n",
    "                cummulative['visitorsPerDateB'].sum() - len(ordersByUsersB['orders'])\n",
    "            ),\n",
    "            name='orders',\n",
    "        ),\n",
    "    ],\n",
    "    axis=0,\n",
    ")\n",
    "print('P-value:{0:.3f}'.format(stats.mannwhitneyu(sampleA, sampleB)[1]))\n",
    "\n",
    "print('{0:.3f}'.format(sampleB.mean() / sampleA.mean() - 1))"
   ]
  },
  {
   "cell_type": "markdown",
   "metadata": {},
   "source": [
    "p-value < 0.05, следовательно мы отвергаем 0 гипотезу, о том, что стастистических различий между группами на \"сырых данных\" нет, различия есть"
   ]
  },
  {
   "cell_type": "markdown",
   "metadata": {},
   "source": [
    "Теперь очистим данные и посмотрим измениятся ли результаты"
   ]
  },
  {
   "cell_type": "markdown",
   "metadata": {},
   "source": [
    "Снова необходимо обозначить гипотезы\n",
    " - Н0: Различии в среднем количестве заказов на посетителя нет\n",
    " - Н1: Различия в среднем количестве заказов на посетителя есть\n",
    " \n",
    " Затем данные гипотезы будут проверены с помощью критерия Манна-Уитни"
   ]
  },
  {
   "cell_type": "code",
   "execution_count": 31,
   "metadata": {},
   "outputs": [
    {
     "name": "stdout",
     "output_type": "stream",
     "text": [
      "P-value:0.013\n",
      "0.173\n"
     ]
    }
   ],
   "source": [
    "usersWithManyOrders = pd.concat(\n",
    "    [\n",
    "        ordersByUsersA[ordersByUsersA['orders'] > 2]['userId'],\n",
    "        ordersByUsersB[ordersByUsersB['orders'] > 2]['userId'],\n",
    "    ],\n",
    "    axis=0,\n",
    ")\n",
    "\n",
    "\n",
    "usersWithExpensiveOrders = orders[orders['revenue'] > 28000]['visitor_id']\n",
    "abnormalUsers = (\n",
    "    pd.concat([usersWithManyOrders, usersWithExpensiveOrders], axis=0)\n",
    "    .drop_duplicates()\n",
    "    .sort_values()\n",
    ")\n",
    "sampleAFiltered = pd.concat(\n",
    "    [\n",
    "        ordersByUsersA[\n",
    "            np.logical_not(ordersByUsersA['userId'].isin(abnormalUsers))\n",
    "        ]['orders'],\n",
    "        pd.Series(\n",
    "            0,\n",
    "            index=np.arange(\n",
    "                cummulative['visitorsPerDateA'].sum() - len(ordersByUsersA['orders'])\n",
    "            ),\n",
    "            name='orders',\n",
    "        ),\n",
    "    ],\n",
    "    axis=0,\n",
    ")\n",
    "\n",
    "sampleBFiltered = pd.concat(\n",
    "    [\n",
    "        ordersByUsersB[\n",
    "            np.logical_not(ordersByUsersB['userId'].isin(abnormalUsers))\n",
    "        ]['orders'],\n",
    "        pd.Series(\n",
    "            0,\n",
    "            index=np.arange(\n",
    "                cummulative['visitorsPerDateB'].sum() - len(ordersByUsersB['orders'])\n",
    "            ),\n",
    "            name='orders',\n",
    "        ),\n",
    "    ],\n",
    "    axis=0,\n",
    ") \n",
    "print('P-value:{0:.3f}'.format(stats.mannwhitneyu(sampleAFiltered, sampleBFiltered)[1]))\n",
    "print('{0:.3f}'.format(sampleBFiltered.mean()/sampleAFiltered.mean()-1)) "
   ]
  },
  {
   "cell_type": "markdown",
   "metadata": {},
   "source": [
    "P-value < 0,05, следовательно, мы отвергаем нулевую гипотезу и приходим к выводу о том, что при очищенных данных существует статистическая разница в группах А и В по показателю среднего количества заказов на посетителя"
   ]
  },
  {
   "cell_type": "markdown",
   "metadata": {},
   "source": [
    "Далее проведем схожий тест, но для оценки различий в среднем чеке заказа между группами"
   ]
  },
  {
   "cell_type": "markdown",
   "metadata": {},
   "source": [
    "Изначально проанализируем сырые данные\n",
    " - Н0: средний чек одного заказа между группами не отличается\n",
    " - Н1: средний чек одного заказа между группами отличается"
   ]
  },
  {
   "cell_type": "code",
   "execution_count": 32,
   "metadata": {},
   "outputs": [
    {
     "name": "stdout",
     "output_type": "stream",
     "text": [
      "P-value:0.729\n",
      "0.259\n"
     ]
    }
   ],
   "source": [
    "print('P-value:{0:.3f}'.format(stats.mannwhitneyu(orders[orders['group']=='A']['revenue'], orders[orders['group']=='B']['revenue'])[1]))\n",
    "print('{0:.3f}'.format(orders[orders['group']=='B']['revenue'].mean()/orders[orders['group']=='A']['revenue'].mean()-1)) "
   ]
  },
  {
   "cell_type": "markdown",
   "metadata": {},
   "source": [
    "p-value > 0.05, следовательно, различий в среднем чеке одного заказа для \"сырых данных\" нет"
   ]
  },
  {
   "cell_type": "markdown",
   "metadata": {},
   "source": [
    "Теперь проанализируем очищенные данные\n",
    " - Н0: средний чек одного заказа между группами не отличается\n",
    " - Н1: средний чек одного заказа между группами отличается"
   ]
  },
  {
   "cell_type": "code",
   "execution_count": 33,
   "metadata": {},
   "outputs": [
    {
     "name": "stdout",
     "output_type": "stream",
     "text": [
      "P-value:0.738\n",
      "-0.020\n"
     ]
    }
   ],
   "source": [
    "results = stats.mannwhitneyu(orders[np.logical_and(orders['group']=='A', np.logical_not(orders['visitor_id'].isin(abnormalUsers)))]['revenue'],\n",
    "orders[np.logical_and(orders['group']=='B', np.logical_not(orders['visitor_id'].isin(abnormalUsers)))]['revenue'])\n",
    "print('P-value:{0:.3f}'.format(results.pvalue))\n",
    "print(\n",
    "    \"{0:.3f}\".format(\n",
    "        orders[\n",
    "            np.logical_and(\n",
    "                orders['group'] == 'B',\n",
    "                np.logical_not(orders['visitor_id'].isin(abnormalUsers)),\n",
    "            )\n",
    "        ]['revenue'].mean()\n",
    "        / orders[\n",
    "            np.logical_and(\n",
    "                orders['group'] == 'A',\n",
    "                np.logical_not(orders['visitor_id'].isin(abnormalUsers)),\n",
    "            )\n",
    "        ]['revenue'].mean()\n",
    "        - 1\n",
    "    ))"
   ]
  },
  {
   "cell_type": "markdown",
   "metadata": {},
   "source": [
    "P- value больше 0,05, следовательно при очищенный данных также нет различий в среднем чеке одного заказа."
   ]
  },
  {
   "cell_type": "markdown",
   "metadata": {},
   "source": [
    "Мы закончили технически анализировать результаты А/В теста, сейчас перед нами стоит последняя задача - принять решение о дальнейших действиях по его результату"
   ]
  },
  {
   "cell_type": "markdown",
   "metadata": {},
   "source": [
    "# Финальное решение"
   ]
  },
  {
   "cell_type": "markdown",
   "metadata": {},
   "source": [
    "Перед нами 3 варианта:\n",
    "1. Остановить тест, зафиксировать победу одной из групп.\n",
    "2. Остановить тест, зафиксировать отсутствие различий между группами.\n",
    "3. Продолжить тест."
   ]
  },
  {
   "cell_type": "markdown",
   "metadata": {},
   "source": [
    "**По результатам теста, можно сделать вывод, о том, что он прошел успешно, его можно остановить и зафиксировать победу группы В.**\n",
    "\n",
    "Группа В значительно превосходит группу А по конверсии, кумулятивного среднего чека.\n",
    "\n",
    "В данных присутствовали аномалии, которые влияли на кумулятивные значения, после очистки все стабилизировалось\n",
    "\n",
    "При этом, стоит отметить, что средний чек между двумя группами не отличается.\n",
    "\n",
    "Однако стоит отметить, что наблюдалась проблема подглядывания, однако мы ее статистически отбросили.\n",
    "\n",
    "Также мы приоретизировали гипотезы с помощью методики ICE и RICE. Используя эти методики, у нас получилась различная их приоретизация, так как в методе ICE не учитывается параметр \"охват\". Если мы обратимся к методике RICE, то наиболее приоретизированной является гипотеза о добавлении формы подписки на все основные страницы сайта\n"
   ]
  }
 ],
 "metadata": {
  "ExecuteTimeLog": [
   {
    "duration": 1232,
    "start_time": "2022-12-24T12:08:39.933Z"
   },
   {
    "duration": 117,
    "start_time": "2022-12-24T12:13:25.711Z"
   },
   {
    "duration": 68,
    "start_time": "2022-12-24T12:14:05.101Z"
   },
   {
    "duration": 16,
    "start_time": "2022-12-24T12:14:26.712Z"
   },
   {
    "duration": 15,
    "start_time": "2022-12-24T12:14:38.766Z"
   },
   {
    "duration": 399,
    "start_time": "2022-12-24T12:16:19.302Z"
   },
   {
    "duration": 284,
    "start_time": "2022-12-24T12:16:46.359Z"
   },
   {
    "duration": 4,
    "start_time": "2022-12-24T12:20:03.322Z"
   },
   {
    "duration": 278,
    "start_time": "2022-12-24T12:20:24.142Z"
   },
   {
    "duration": 285,
    "start_time": "2022-12-24T12:23:15.902Z"
   },
   {
    "duration": 268,
    "start_time": "2022-12-24T12:23:42.303Z"
   },
   {
    "duration": 10,
    "start_time": "2022-12-24T12:24:11.742Z"
   },
   {
    "duration": 10,
    "start_time": "2022-12-24T12:24:29.881Z"
   },
   {
    "duration": 9,
    "start_time": "2022-12-24T12:26:01.790Z"
   },
   {
    "duration": 8,
    "start_time": "2022-12-24T12:26:10.540Z"
   },
   {
    "duration": 9,
    "start_time": "2022-12-24T12:27:46.798Z"
   },
   {
    "duration": 9,
    "start_time": "2022-12-24T12:27:50.681Z"
   },
   {
    "duration": 1067,
    "start_time": "2022-12-24T12:28:04.790Z"
   },
   {
    "duration": 54,
    "start_time": "2022-12-24T12:28:05.858Z"
   },
   {
    "duration": 18,
    "start_time": "2022-12-24T12:28:05.914Z"
   },
   {
    "duration": 11,
    "start_time": "2022-12-24T12:28:05.934Z"
   },
   {
    "duration": 16,
    "start_time": "2022-12-24T12:28:05.947Z"
   },
   {
    "duration": 100,
    "start_time": "2022-12-24T12:28:05.964Z"
   },
   {
    "duration": 3,
    "start_time": "2022-12-24T12:30:31.680Z"
   },
   {
    "duration": 77,
    "start_time": "2022-12-24T12:31:18.675Z"
   },
   {
    "duration": 11,
    "start_time": "2022-12-24T12:31:52.176Z"
   },
   {
    "duration": 3,
    "start_time": "2022-12-24T12:32:30.177Z"
   },
   {
    "duration": 5,
    "start_time": "2022-12-24T12:33:06.313Z"
   },
   {
    "duration": 6,
    "start_time": "2022-12-24T12:33:28.226Z"
   },
   {
    "duration": 11,
    "start_time": "2022-12-24T12:35:03.326Z"
   },
   {
    "duration": 8,
    "start_time": "2022-12-24T12:35:39.131Z"
   },
   {
    "duration": 29,
    "start_time": "2022-12-24T12:36:12.166Z"
   },
   {
    "duration": 8,
    "start_time": "2022-12-24T12:36:23.574Z"
   },
   {
    "duration": 305,
    "start_time": "2022-12-24T12:36:51.760Z"
   },
   {
    "duration": 309,
    "start_time": "2022-12-24T12:37:05.267Z"
   },
   {
    "duration": 10,
    "start_time": "2022-12-24T12:37:17.186Z"
   },
   {
    "duration": 10,
    "start_time": "2022-12-24T12:37:25.258Z"
   },
   {
    "duration": 11,
    "start_time": "2022-12-24T12:38:53.477Z"
   },
   {
    "duration": 4,
    "start_time": "2022-12-24T12:42:29.745Z"
   },
   {
    "duration": 11,
    "start_time": "2022-12-24T12:44:03.189Z"
   },
   {
    "duration": 18,
    "start_time": "2022-12-24T12:44:48.185Z"
   },
   {
    "duration": 10,
    "start_time": "2022-12-24T13:00:29.377Z"
   },
   {
    "duration": 40,
    "start_time": "2022-12-24T13:12:57.747Z"
   },
   {
    "duration": 27,
    "start_time": "2022-12-24T13:13:18.139Z"
   },
   {
    "duration": 270,
    "start_time": "2022-12-24T13:14:54.073Z"
   },
   {
    "duration": 282,
    "start_time": "2022-12-24T13:16:18.735Z"
   },
   {
    "duration": 258,
    "start_time": "2022-12-24T13:18:36.979Z"
   },
   {
    "duration": 276,
    "start_time": "2022-12-24T13:19:07.077Z"
   },
   {
    "duration": 265,
    "start_time": "2022-12-24T13:19:29.966Z"
   },
   {
    "duration": 261,
    "start_time": "2022-12-24T13:19:42.441Z"
   },
   {
    "duration": 425,
    "start_time": "2022-12-24T13:20:47.445Z"
   },
   {
    "duration": 547,
    "start_time": "2022-12-24T13:21:49.309Z"
   },
   {
    "duration": 419,
    "start_time": "2022-12-24T13:23:02.688Z"
   },
   {
    "duration": 448,
    "start_time": "2022-12-24T13:23:14.809Z"
   },
   {
    "duration": 469,
    "start_time": "2022-12-24T13:23:31.138Z"
   },
   {
    "duration": 581,
    "start_time": "2022-12-24T13:24:06.131Z"
   },
   {
    "duration": 167,
    "start_time": "2022-12-24T13:29:30.627Z"
   },
   {
    "duration": 207,
    "start_time": "2022-12-24T13:30:06.138Z"
   },
   {
    "duration": 207,
    "start_time": "2022-12-24T13:30:19.220Z"
   },
   {
    "duration": 341,
    "start_time": "2022-12-24T13:34:25.223Z"
   },
   {
    "duration": 319,
    "start_time": "2022-12-24T13:34:40.480Z"
   },
   {
    "duration": 333,
    "start_time": "2022-12-24T13:35:12.492Z"
   },
   {
    "duration": 199,
    "start_time": "2022-12-24T14:10:23.150Z"
   },
   {
    "duration": 264,
    "start_time": "2022-12-24T14:12:02.417Z"
   },
   {
    "duration": 215,
    "start_time": "2022-12-24T14:18:20.288Z"
   },
   {
    "duration": 245,
    "start_time": "2022-12-24T14:18:47.749Z"
   },
   {
    "duration": 419,
    "start_time": "2022-12-24T14:20:19.967Z"
   },
   {
    "duration": 14,
    "start_time": "2022-12-24T14:25:12.437Z"
   },
   {
    "duration": 17,
    "start_time": "2022-12-24T14:25:33.373Z"
   },
   {
    "duration": 11,
    "start_time": "2022-12-24T14:25:43.613Z"
   },
   {
    "duration": 116,
    "start_time": "2022-12-24T14:26:08.467Z"
   },
   {
    "duration": 110,
    "start_time": "2022-12-24T14:29:13.219Z"
   },
   {
    "duration": 4,
    "start_time": "2022-12-24T14:33:05.118Z"
   },
   {
    "duration": 233,
    "start_time": "2022-12-24T14:34:14.422Z"
   },
   {
    "duration": 133,
    "start_time": "2022-12-24T14:34:32.180Z"
   },
   {
    "duration": 127,
    "start_time": "2022-12-24T14:35:08.523Z"
   },
   {
    "duration": 148,
    "start_time": "2022-12-24T14:35:36.847Z"
   },
   {
    "duration": 3,
    "start_time": "2022-12-24T14:38:48.505Z"
   },
   {
    "duration": 322,
    "start_time": "2022-12-24T14:45:43.124Z"
   },
   {
    "duration": 72,
    "start_time": "2022-12-24T14:48:01.040Z"
   },
   {
    "duration": 14,
    "start_time": "2022-12-24T14:57:02.286Z"
   },
   {
    "duration": 30,
    "start_time": "2022-12-24T14:57:40.735Z"
   },
   {
    "duration": 28,
    "start_time": "2022-12-24T14:58:41.119Z"
   },
   {
    "duration": 4,
    "start_time": "2022-12-24T15:02:13.733Z"
   },
   {
    "duration": 3,
    "start_time": "2022-12-24T15:02:23.579Z"
   },
   {
    "duration": 11,
    "start_time": "2022-12-24T15:02:42.422Z"
   },
   {
    "duration": 14,
    "start_time": "2022-12-24T15:06:35.623Z"
   },
   {
    "duration": 72,
    "start_time": "2022-12-24T15:08:17.419Z"
   },
   {
    "duration": 1170,
    "start_time": "2022-12-24T15:08:45.263Z"
   },
   {
    "duration": 1073,
    "start_time": "2022-12-24T15:09:31.166Z"
   },
   {
    "duration": 10,
    "start_time": "2022-12-24T15:09:39.930Z"
   },
   {
    "duration": 65,
    "start_time": "2022-12-24T15:10:35.431Z"
   },
   {
    "duration": 10,
    "start_time": "2022-12-24T15:10:55.247Z"
   },
   {
    "duration": 12,
    "start_time": "2022-12-24T15:11:10.217Z"
   },
   {
    "duration": 10,
    "start_time": "2022-12-24T15:11:17.282Z"
   },
   {
    "duration": 28,
    "start_time": "2022-12-24T15:11:39.757Z"
   },
   {
    "duration": 345,
    "start_time": "2022-12-24T15:12:08.729Z"
   },
   {
    "duration": 348,
    "start_time": "2022-12-24T15:12:26.646Z"
   },
   {
    "duration": 1116,
    "start_time": "2022-12-24T15:12:39.641Z"
   },
   {
    "duration": 54,
    "start_time": "2022-12-24T15:12:40.759Z"
   },
   {
    "duration": 19,
    "start_time": "2022-12-24T15:12:40.814Z"
   },
   {
    "duration": 28,
    "start_time": "2022-12-24T15:12:40.835Z"
   },
   {
    "duration": 35,
    "start_time": "2022-12-24T15:12:40.864Z"
   },
   {
    "duration": 47,
    "start_time": "2022-12-24T15:12:40.902Z"
   },
   {
    "duration": 38,
    "start_time": "2022-12-24T15:12:40.951Z"
   },
   {
    "duration": 32,
    "start_time": "2022-12-24T15:12:40.991Z"
   },
   {
    "duration": 10,
    "start_time": "2022-12-24T15:12:41.025Z"
   },
   {
    "duration": 13,
    "start_time": "2022-12-24T15:12:41.038Z"
   },
   {
    "duration": 17,
    "start_time": "2022-12-24T15:12:41.052Z"
   },
   {
    "duration": 20,
    "start_time": "2022-12-24T15:12:41.070Z"
   },
   {
    "duration": 28,
    "start_time": "2022-12-24T15:12:41.092Z"
   },
   {
    "duration": 11,
    "start_time": "2022-12-24T15:12:41.122Z"
   },
   {
    "duration": 12,
    "start_time": "2022-12-24T15:12:41.134Z"
   },
   {
    "duration": 7,
    "start_time": "2022-12-24T15:12:41.147Z"
   },
   {
    "duration": 569,
    "start_time": "2022-12-24T15:12:41.156Z"
   },
   {
    "duration": 93,
    "start_time": "2022-12-24T15:12:41.726Z"
   },
   {
    "duration": 0,
    "start_time": "2022-12-24T15:12:41.820Z"
   },
   {
    "duration": 0,
    "start_time": "2022-12-24T15:12:41.821Z"
   },
   {
    "duration": 0,
    "start_time": "2022-12-24T15:12:41.823Z"
   },
   {
    "duration": 0,
    "start_time": "2022-12-24T15:12:41.824Z"
   },
   {
    "duration": 0,
    "start_time": "2022-12-24T15:12:41.825Z"
   },
   {
    "duration": 0,
    "start_time": "2022-12-24T15:12:41.827Z"
   },
   {
    "duration": 0,
    "start_time": "2022-12-24T15:12:41.828Z"
   },
   {
    "duration": 0,
    "start_time": "2022-12-24T15:12:41.830Z"
   },
   {
    "duration": 0,
    "start_time": "2022-12-24T15:12:41.831Z"
   },
   {
    "duration": 0,
    "start_time": "2022-12-24T15:12:41.832Z"
   },
   {
    "duration": 0,
    "start_time": "2022-12-24T15:12:41.833Z"
   },
   {
    "duration": 0,
    "start_time": "2022-12-24T15:12:41.835Z"
   },
   {
    "duration": 0,
    "start_time": "2022-12-24T15:12:41.836Z"
   },
   {
    "duration": 0,
    "start_time": "2022-12-24T15:12:41.837Z"
   },
   {
    "duration": 221,
    "start_time": "2022-12-24T15:13:52.104Z"
   },
   {
    "duration": 1110,
    "start_time": "2022-12-24T15:14:00.151Z"
   },
   {
    "duration": 54,
    "start_time": "2022-12-24T15:14:01.263Z"
   },
   {
    "duration": 18,
    "start_time": "2022-12-24T15:14:01.318Z"
   },
   {
    "duration": 31,
    "start_time": "2022-12-24T15:14:01.338Z"
   },
   {
    "duration": 38,
    "start_time": "2022-12-24T15:14:01.371Z"
   },
   {
    "duration": 38,
    "start_time": "2022-12-24T15:14:01.411Z"
   },
   {
    "duration": 53,
    "start_time": "2022-12-24T15:14:01.451Z"
   },
   {
    "duration": 28,
    "start_time": "2022-12-24T15:14:01.506Z"
   },
   {
    "duration": 42,
    "start_time": "2022-12-24T15:14:01.535Z"
   },
   {
    "duration": 71,
    "start_time": "2022-12-24T15:14:01.578Z"
   },
   {
    "duration": 55,
    "start_time": "2022-12-24T15:14:01.650Z"
   },
   {
    "duration": 38,
    "start_time": "2022-12-24T15:14:01.706Z"
   },
   {
    "duration": 53,
    "start_time": "2022-12-24T15:14:01.746Z"
   },
   {
    "duration": 15,
    "start_time": "2022-12-24T15:14:01.802Z"
   },
   {
    "duration": 36,
    "start_time": "2022-12-24T15:14:01.819Z"
   },
   {
    "duration": 20,
    "start_time": "2022-12-24T15:14:01.857Z"
   },
   {
    "duration": 554,
    "start_time": "2022-12-24T15:14:01.879Z"
   },
   {
    "duration": 212,
    "start_time": "2022-12-24T15:14:02.435Z"
   },
   {
    "duration": 302,
    "start_time": "2022-12-24T15:14:02.649Z"
   },
   {
    "duration": 256,
    "start_time": "2022-12-24T15:14:02.953Z"
   },
   {
    "duration": 324,
    "start_time": "2022-12-24T15:14:03.211Z"
   },
   {
    "duration": 11,
    "start_time": "2022-12-24T15:14:03.537Z"
   },
   {
    "duration": 145,
    "start_time": "2022-12-24T15:14:03.549Z"
   },
   {
    "duration": 135,
    "start_time": "2022-12-24T15:14:03.695Z"
   },
   {
    "duration": 312,
    "start_time": "2022-12-24T15:14:03.831Z"
   },
   {
    "duration": 136,
    "start_time": "2022-12-24T15:14:04.144Z"
   },
   {
    "duration": 4,
    "start_time": "2022-12-24T15:14:04.282Z"
   },
   {
    "duration": 12,
    "start_time": "2022-12-24T15:14:04.287Z"
   },
   {
    "duration": 426,
    "start_time": "2022-12-24T15:14:04.300Z"
   },
   {
    "duration": 29,
    "start_time": "2022-12-24T15:14:04.728Z"
   },
   {
    "duration": 40,
    "start_time": "2022-12-24T15:14:04.759Z"
   },
   {
    "duration": 61,
    "start_time": "2022-12-24T15:14:04.800Z"
   },
   {
    "duration": 8,
    "start_time": "2022-12-24T15:14:51.266Z"
   },
   {
    "duration": 75,
    "start_time": "2022-12-24T15:17:35.115Z"
   },
   {
    "duration": 14,
    "start_time": "2022-12-24T15:17:42.167Z"
   },
   {
    "duration": 1013,
    "start_time": "2022-12-24T15:17:57.244Z"
   },
   {
    "duration": 54,
    "start_time": "2022-12-24T15:17:58.259Z"
   },
   {
    "duration": 31,
    "start_time": "2022-12-24T15:17:58.314Z"
   },
   {
    "duration": 10,
    "start_time": "2022-12-24T15:17:58.347Z"
   },
   {
    "duration": 13,
    "start_time": "2022-12-24T15:17:58.359Z"
   },
   {
    "duration": 7,
    "start_time": "2022-12-24T15:17:58.373Z"
   },
   {
    "duration": 28,
    "start_time": "2022-12-24T15:17:58.382Z"
   },
   {
    "duration": 14,
    "start_time": "2022-12-24T15:17:58.412Z"
   },
   {
    "duration": 14,
    "start_time": "2022-12-24T15:17:58.428Z"
   },
   {
    "duration": 37,
    "start_time": "2022-12-24T15:17:58.444Z"
   },
   {
    "duration": 11,
    "start_time": "2022-12-24T15:17:58.482Z"
   },
   {
    "duration": 12,
    "start_time": "2022-12-24T15:17:58.495Z"
   },
   {
    "duration": 33,
    "start_time": "2022-12-24T15:17:58.508Z"
   },
   {
    "duration": 12,
    "start_time": "2022-12-24T15:17:58.545Z"
   },
   {
    "duration": 12,
    "start_time": "2022-12-24T15:17:58.558Z"
   },
   {
    "duration": 13,
    "start_time": "2022-12-24T15:17:58.571Z"
   },
   {
    "duration": 583,
    "start_time": "2022-12-24T15:17:58.586Z"
   },
   {
    "duration": 220,
    "start_time": "2022-12-24T15:17:59.170Z"
   },
   {
    "duration": 343,
    "start_time": "2022-12-24T15:17:59.392Z"
   },
   {
    "duration": 272,
    "start_time": "2022-12-24T15:17:59.737Z"
   },
   {
    "duration": 359,
    "start_time": "2022-12-24T15:18:00.011Z"
   },
   {
    "duration": 16,
    "start_time": "2022-12-24T15:18:00.372Z"
   },
   {
    "duration": 215,
    "start_time": "2022-12-24T15:18:00.392Z"
   },
   {
    "duration": 137,
    "start_time": "2022-12-24T15:18:00.609Z"
   },
   {
    "duration": 315,
    "start_time": "2022-12-24T15:18:00.748Z"
   },
   {
    "duration": 151,
    "start_time": "2022-12-24T15:18:01.065Z"
   },
   {
    "duration": 6,
    "start_time": "2022-12-24T15:18:01.218Z"
   },
   {
    "duration": 59,
    "start_time": "2022-12-24T15:18:01.226Z"
   },
   {
    "duration": 400,
    "start_time": "2022-12-24T15:18:01.287Z"
   },
   {
    "duration": 47,
    "start_time": "2022-12-24T15:18:01.689Z"
   },
   {
    "duration": 52,
    "start_time": "2022-12-24T15:18:01.737Z"
   },
   {
    "duration": 47,
    "start_time": "2022-12-24T15:18:01.791Z"
   },
   {
    "duration": 89,
    "start_time": "2022-12-24T15:27:51.904Z"
   },
   {
    "duration": 1200,
    "start_time": "2022-12-24T17:07:50.841Z"
   },
   {
    "duration": 90,
    "start_time": "2022-12-24T17:07:52.043Z"
   },
   {
    "duration": 58,
    "start_time": "2022-12-24T17:07:52.135Z"
   },
   {
    "duration": 12,
    "start_time": "2022-12-24T17:07:52.195Z"
   },
   {
    "duration": 26,
    "start_time": "2022-12-24T17:07:52.208Z"
   },
   {
    "duration": 14,
    "start_time": "2022-12-24T17:07:52.236Z"
   },
   {
    "duration": 64,
    "start_time": "2022-12-24T17:07:52.252Z"
   },
   {
    "duration": 12,
    "start_time": "2022-12-24T17:07:52.317Z"
   },
   {
    "duration": 7,
    "start_time": "2022-12-24T17:07:52.331Z"
   },
   {
    "duration": 11,
    "start_time": "2022-12-24T17:07:52.341Z"
   },
   {
    "duration": 10,
    "start_time": "2022-12-24T17:07:52.353Z"
   },
   {
    "duration": 9,
    "start_time": "2022-12-24T17:07:52.364Z"
   },
   {
    "duration": 54,
    "start_time": "2022-12-24T17:07:52.374Z"
   },
   {
    "duration": 13,
    "start_time": "2022-12-24T17:07:52.430Z"
   },
   {
    "duration": 12,
    "start_time": "2022-12-24T17:07:52.445Z"
   },
   {
    "duration": 11,
    "start_time": "2022-12-24T17:07:52.458Z"
   },
   {
    "duration": 595,
    "start_time": "2022-12-24T17:07:52.470Z"
   },
   {
    "duration": 245,
    "start_time": "2022-12-24T17:07:53.067Z"
   },
   {
    "duration": 314,
    "start_time": "2022-12-24T17:07:53.313Z"
   },
   {
    "duration": 261,
    "start_time": "2022-12-24T17:07:53.628Z"
   },
   {
    "duration": 376,
    "start_time": "2022-12-24T17:07:53.891Z"
   },
   {
    "duration": 12,
    "start_time": "2022-12-24T17:07:54.268Z"
   },
   {
    "duration": 134,
    "start_time": "2022-12-24T17:07:54.281Z"
   },
   {
    "duration": 121,
    "start_time": "2022-12-24T17:07:54.417Z"
   },
   {
    "duration": 313,
    "start_time": "2022-12-24T17:07:54.540Z"
   },
   {
    "duration": 167,
    "start_time": "2022-12-24T17:07:54.854Z"
   },
   {
    "duration": 4,
    "start_time": "2022-12-24T17:07:55.023Z"
   },
   {
    "duration": 7,
    "start_time": "2022-12-24T17:07:55.030Z"
   },
   {
    "duration": 357,
    "start_time": "2022-12-24T17:07:55.039Z"
   },
   {
    "duration": 28,
    "start_time": "2022-12-24T17:07:55.398Z"
   },
   {
    "duration": 10,
    "start_time": "2022-12-24T17:07:55.428Z"
   },
   {
    "duration": 13,
    "start_time": "2022-12-24T17:07:55.440Z"
   },
   {
    "duration": 1080,
    "start_time": "2022-12-24T17:24:00.421Z"
   },
   {
    "duration": 53,
    "start_time": "2022-12-24T17:24:01.503Z"
   },
   {
    "duration": 36,
    "start_time": "2022-12-24T17:24:01.557Z"
   },
   {
    "duration": 11,
    "start_time": "2022-12-24T17:24:01.595Z"
   },
   {
    "duration": 25,
    "start_time": "2022-12-24T17:24:01.607Z"
   },
   {
    "duration": 18,
    "start_time": "2022-12-24T17:24:01.633Z"
   },
   {
    "duration": 53,
    "start_time": "2022-12-24T17:24:01.653Z"
   },
   {
    "duration": 10,
    "start_time": "2022-12-24T17:24:01.708Z"
   },
   {
    "duration": 32,
    "start_time": "2022-12-24T17:24:01.719Z"
   },
   {
    "duration": 26,
    "start_time": "2022-12-24T17:24:01.754Z"
   },
   {
    "duration": 44,
    "start_time": "2022-12-24T17:24:01.782Z"
   },
   {
    "duration": 26,
    "start_time": "2022-12-24T17:24:01.828Z"
   },
   {
    "duration": 56,
    "start_time": "2022-12-24T17:24:01.856Z"
   },
   {
    "duration": 12,
    "start_time": "2022-12-24T17:24:01.914Z"
   },
   {
    "duration": 44,
    "start_time": "2022-12-24T17:24:01.927Z"
   },
   {
    "duration": 33,
    "start_time": "2022-12-24T17:24:01.972Z"
   },
   {
    "duration": 600,
    "start_time": "2022-12-24T17:24:02.006Z"
   },
   {
    "duration": 226,
    "start_time": "2022-12-24T17:24:02.608Z"
   },
   {
    "duration": 307,
    "start_time": "2022-12-24T17:24:02.836Z"
   },
   {
    "duration": 266,
    "start_time": "2022-12-24T17:24:03.145Z"
   },
   {
    "duration": 322,
    "start_time": "2022-12-24T17:24:03.413Z"
   },
   {
    "duration": 11,
    "start_time": "2022-12-24T17:24:03.736Z"
   },
   {
    "duration": 160,
    "start_time": "2022-12-24T17:24:03.748Z"
   },
   {
    "duration": 150,
    "start_time": "2022-12-24T17:24:03.910Z"
   },
   {
    "duration": 381,
    "start_time": "2022-12-24T17:24:04.062Z"
   },
   {
    "duration": 144,
    "start_time": "2022-12-24T17:24:04.445Z"
   },
   {
    "duration": 4,
    "start_time": "2022-12-24T17:24:04.591Z"
   },
   {
    "duration": 20,
    "start_time": "2022-12-24T17:24:04.598Z"
   },
   {
    "duration": 375,
    "start_time": "2022-12-24T17:24:04.620Z"
   },
   {
    "duration": 28,
    "start_time": "2022-12-24T17:24:04.996Z"
   },
   {
    "duration": 26,
    "start_time": "2022-12-24T17:24:05.026Z"
   },
   {
    "duration": 68,
    "start_time": "2022-12-24T17:24:05.054Z"
   },
   {
    "duration": 45,
    "start_time": "2022-12-24T19:25:13.274Z"
   },
   {
    "duration": 1243,
    "start_time": "2022-12-24T19:25:19.540Z"
   },
   {
    "duration": 92,
    "start_time": "2022-12-24T19:25:20.785Z"
   },
   {
    "duration": 52,
    "start_time": "2022-12-24T19:25:20.879Z"
   },
   {
    "duration": 11,
    "start_time": "2022-12-24T19:25:20.933Z"
   },
   {
    "duration": 12,
    "start_time": "2022-12-24T19:25:20.946Z"
   },
   {
    "duration": 6,
    "start_time": "2022-12-24T19:25:20.959Z"
   },
   {
    "duration": 51,
    "start_time": "2022-12-24T19:25:20.967Z"
   },
   {
    "duration": 11,
    "start_time": "2022-12-24T19:25:21.019Z"
   },
   {
    "duration": 6,
    "start_time": "2022-12-24T19:25:21.031Z"
   },
   {
    "duration": 7,
    "start_time": "2022-12-24T19:25:21.039Z"
   },
   {
    "duration": 9,
    "start_time": "2022-12-24T19:25:21.048Z"
   },
   {
    "duration": 9,
    "start_time": "2022-12-24T19:25:21.058Z"
   },
   {
    "duration": 47,
    "start_time": "2022-12-24T19:25:21.068Z"
   },
   {
    "duration": 10,
    "start_time": "2022-12-24T19:25:21.117Z"
   },
   {
    "duration": 10,
    "start_time": "2022-12-24T19:25:21.129Z"
   },
   {
    "duration": 10,
    "start_time": "2022-12-24T19:25:21.141Z"
   },
   {
    "duration": 8,
    "start_time": "2022-12-24T19:25:21.152Z"
   },
   {
    "duration": 571,
    "start_time": "2022-12-24T19:25:21.161Z"
   },
   {
    "duration": 223,
    "start_time": "2022-12-24T19:25:21.733Z"
   },
   {
    "duration": 346,
    "start_time": "2022-12-24T19:25:21.958Z"
   },
   {
    "duration": 290,
    "start_time": "2022-12-24T19:25:22.306Z"
   },
   {
    "duration": 350,
    "start_time": "2022-12-24T19:25:22.598Z"
   },
   {
    "duration": 11,
    "start_time": "2022-12-24T19:25:22.949Z"
   },
   {
    "duration": 122,
    "start_time": "2022-12-24T19:25:22.961Z"
   },
   {
    "duration": 121,
    "start_time": "2022-12-24T19:25:23.085Z"
   },
   {
    "duration": 296,
    "start_time": "2022-12-24T19:25:23.208Z"
   },
   {
    "duration": 150,
    "start_time": "2022-12-24T19:25:23.506Z"
   },
   {
    "duration": 4,
    "start_time": "2022-12-24T19:25:23.659Z"
   },
   {
    "duration": 5,
    "start_time": "2022-12-24T19:25:23.665Z"
   },
   {
    "duration": 382,
    "start_time": "2022-12-24T19:25:23.672Z"
   },
   {
    "duration": 36,
    "start_time": "2022-12-24T19:25:24.056Z"
   },
   {
    "duration": 26,
    "start_time": "2022-12-24T19:25:24.094Z"
   },
   {
    "duration": 12,
    "start_time": "2022-12-24T19:25:24.121Z"
   },
   {
    "duration": 10,
    "start_time": "2022-12-24T19:25:35.519Z"
   },
   {
    "duration": 5,
    "start_time": "2022-12-24T19:27:04.640Z"
   }
  ],
  "kernelspec": {
   "display_name": "Python 3 (ipykernel)",
   "language": "python",
   "name": "python3"
  },
  "language_info": {
   "codemirror_mode": {
    "name": "ipython",
    "version": 3
   },
   "file_extension": ".py",
   "mimetype": "text/x-python",
   "name": "python",
   "nbconvert_exporter": "python",
   "pygments_lexer": "ipython3",
   "version": "3.9.12"
  },
  "toc": {
   "base_numbering": 1,
   "nav_menu": {},
   "number_sections": true,
   "sideBar": true,
   "skip_h1_title": true,
   "title_cell": "Table of Contents",
   "title_sidebar": "Contents",
   "toc_cell": false,
   "toc_position": {},
   "toc_section_display": true,
   "toc_window_display": false
  }
 },
 "nbformat": 4,
 "nbformat_minor": 2
}
