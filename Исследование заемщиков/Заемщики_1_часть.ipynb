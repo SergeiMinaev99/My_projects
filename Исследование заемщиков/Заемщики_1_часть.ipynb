{
  "cells": [
    {
      "cell_type": "markdown",
      "id": "26e0f003",
      "metadata": {
        "deletable": false,
        "editable": false,
        "id": "26e0f003"
      },
      "source": [
        "# Исследование надежности заемщиков"
      ]
    },
    {
      "cell_type": "markdown",
      "id": "2156e312",
      "metadata": {
        "deletable": false,
        "editable": false,
        "id": "2156e312"
      },
      "source": [
        "## Откройте таблицу и изучите общую информацию о данных"
      ]
    },
    {
      "cell_type": "markdown",
      "id": "59054ca6",
      "metadata": {
        "deletable": false,
        "editable": false,
        "id": "59054ca6",
        "tags": [
          "start_task"
        ]
      },
      "source": [
        "**Задание 1. Импортируйте библиотеку pandas. Считайте данные из csv-файла в датафрейм и сохраните в переменную `data`. Путь к файлу:**\n",
        "\n",
        "`/datasets/data.csv`"
      ]
    },
    {
      "cell_type": "code",
      "execution_count": null,
      "id": "6daea8b2",
      "metadata": {
        "id": "6daea8b2"
      },
      "outputs": [],
      "source": [
        "\n",
        "import pandas as pd"
      ]
    },
    {
      "cell_type": "code",
      "execution_count": null,
      "id": "ac3a4bf9",
      "metadata": {
        "id": "ac3a4bf9"
      },
      "outputs": [],
      "source": [
        "\n",
        "data = pd.read_csv('/datasets/data.csv')"
      ]
    },
    {
      "cell_type": "markdown",
      "id": "917c8824",
      "metadata": {
        "deletable": false,
        "editable": false,
        "id": "917c8824",
        "tags": [
          "start_task"
        ]
      },
      "source": [
        "**Задание 2. Выведите первые 20 строчек датафрейма `data` на экран.**"
      ]
    },
    {
      "cell_type": "code",
      "execution_count": null,
      "id": "cda589ba",
      "metadata": {
        "id": "cda589ba",
        "outputId": "8c840d7a-c342-4050-edda-233edfbb7db4"
      },
      "outputs": [
        {
          "data": {
            "text/html": [
              "<div>\n",
              "<style scoped>\n",
              "    .dataframe tbody tr th:only-of-type {\n",
              "        vertical-align: middle;\n",
              "    }\n",
              "\n",
              "    .dataframe tbody tr th {\n",
              "        vertical-align: top;\n",
              "    }\n",
              "\n",
              "    .dataframe thead th {\n",
              "        text-align: right;\n",
              "    }\n",
              "</style>\n",
              "<table border=\"1\" class=\"dataframe\">\n",
              "  <thead>\n",
              "    <tr style=\"text-align: right;\">\n",
              "      <th></th>\n",
              "      <th>children</th>\n",
              "      <th>days_employed</th>\n",
              "      <th>dob_years</th>\n",
              "      <th>education</th>\n",
              "      <th>education_id</th>\n",
              "      <th>family_status</th>\n",
              "      <th>family_status_id</th>\n",
              "      <th>gender</th>\n",
              "      <th>income_type</th>\n",
              "      <th>debt</th>\n",
              "      <th>total_income</th>\n",
              "      <th>purpose</th>\n",
              "    </tr>\n",
              "  </thead>\n",
              "  <tbody>\n",
              "    <tr>\n",
              "      <th>0</th>\n",
              "      <td>1</td>\n",
              "      <td>-8437.673028</td>\n",
              "      <td>42</td>\n",
              "      <td>высшее</td>\n",
              "      <td>0</td>\n",
              "      <td>женат / замужем</td>\n",
              "      <td>0</td>\n",
              "      <td>F</td>\n",
              "      <td>сотрудник</td>\n",
              "      <td>0</td>\n",
              "      <td>253875.639453</td>\n",
              "      <td>покупка жилья</td>\n",
              "    </tr>\n",
              "    <tr>\n",
              "      <th>1</th>\n",
              "      <td>1</td>\n",
              "      <td>-4024.803754</td>\n",
              "      <td>36</td>\n",
              "      <td>среднее</td>\n",
              "      <td>1</td>\n",
              "      <td>женат / замужем</td>\n",
              "      <td>0</td>\n",
              "      <td>F</td>\n",
              "      <td>сотрудник</td>\n",
              "      <td>0</td>\n",
              "      <td>112080.014102</td>\n",
              "      <td>приобретение автомобиля</td>\n",
              "    </tr>\n",
              "    <tr>\n",
              "      <th>2</th>\n",
              "      <td>0</td>\n",
              "      <td>-5623.422610</td>\n",
              "      <td>33</td>\n",
              "      <td>Среднее</td>\n",
              "      <td>1</td>\n",
              "      <td>женат / замужем</td>\n",
              "      <td>0</td>\n",
              "      <td>M</td>\n",
              "      <td>сотрудник</td>\n",
              "      <td>0</td>\n",
              "      <td>145885.952297</td>\n",
              "      <td>покупка жилья</td>\n",
              "    </tr>\n",
              "    <tr>\n",
              "      <th>3</th>\n",
              "      <td>3</td>\n",
              "      <td>-4124.747207</td>\n",
              "      <td>32</td>\n",
              "      <td>среднее</td>\n",
              "      <td>1</td>\n",
              "      <td>женат / замужем</td>\n",
              "      <td>0</td>\n",
              "      <td>M</td>\n",
              "      <td>сотрудник</td>\n",
              "      <td>0</td>\n",
              "      <td>267628.550329</td>\n",
              "      <td>дополнительное образование</td>\n",
              "    </tr>\n",
              "    <tr>\n",
              "      <th>4</th>\n",
              "      <td>0</td>\n",
              "      <td>340266.072047</td>\n",
              "      <td>53</td>\n",
              "      <td>среднее</td>\n",
              "      <td>1</td>\n",
              "      <td>гражданский брак</td>\n",
              "      <td>1</td>\n",
              "      <td>F</td>\n",
              "      <td>пенсионер</td>\n",
              "      <td>0</td>\n",
              "      <td>158616.077870</td>\n",
              "      <td>сыграть свадьбу</td>\n",
              "    </tr>\n",
              "    <tr>\n",
              "      <th>5</th>\n",
              "      <td>0</td>\n",
              "      <td>-926.185831</td>\n",
              "      <td>27</td>\n",
              "      <td>высшее</td>\n",
              "      <td>0</td>\n",
              "      <td>гражданский брак</td>\n",
              "      <td>1</td>\n",
              "      <td>M</td>\n",
              "      <td>компаньон</td>\n",
              "      <td>0</td>\n",
              "      <td>255763.565419</td>\n",
              "      <td>покупка жилья</td>\n",
              "    </tr>\n",
              "    <tr>\n",
              "      <th>6</th>\n",
              "      <td>0</td>\n",
              "      <td>-2879.202052</td>\n",
              "      <td>43</td>\n",
              "      <td>высшее</td>\n",
              "      <td>0</td>\n",
              "      <td>женат / замужем</td>\n",
              "      <td>0</td>\n",
              "      <td>F</td>\n",
              "      <td>компаньон</td>\n",
              "      <td>0</td>\n",
              "      <td>240525.971920</td>\n",
              "      <td>операции с жильем</td>\n",
              "    </tr>\n",
              "    <tr>\n",
              "      <th>7</th>\n",
              "      <td>0</td>\n",
              "      <td>-152.779569</td>\n",
              "      <td>50</td>\n",
              "      <td>СРЕДНЕЕ</td>\n",
              "      <td>1</td>\n",
              "      <td>женат / замужем</td>\n",
              "      <td>0</td>\n",
              "      <td>M</td>\n",
              "      <td>сотрудник</td>\n",
              "      <td>0</td>\n",
              "      <td>135823.934197</td>\n",
              "      <td>образование</td>\n",
              "    </tr>\n",
              "    <tr>\n",
              "      <th>8</th>\n",
              "      <td>2</td>\n",
              "      <td>-6929.865299</td>\n",
              "      <td>35</td>\n",
              "      <td>ВЫСШЕЕ</td>\n",
              "      <td>0</td>\n",
              "      <td>гражданский брак</td>\n",
              "      <td>1</td>\n",
              "      <td>F</td>\n",
              "      <td>сотрудник</td>\n",
              "      <td>0</td>\n",
              "      <td>95856.832424</td>\n",
              "      <td>на проведение свадьбы</td>\n",
              "    </tr>\n",
              "    <tr>\n",
              "      <th>9</th>\n",
              "      <td>0</td>\n",
              "      <td>-2188.756445</td>\n",
              "      <td>41</td>\n",
              "      <td>среднее</td>\n",
              "      <td>1</td>\n",
              "      <td>женат / замужем</td>\n",
              "      <td>0</td>\n",
              "      <td>M</td>\n",
              "      <td>сотрудник</td>\n",
              "      <td>0</td>\n",
              "      <td>144425.938277</td>\n",
              "      <td>покупка жилья для семьи</td>\n",
              "    </tr>\n",
              "    <tr>\n",
              "      <th>10</th>\n",
              "      <td>2</td>\n",
              "      <td>-4171.483647</td>\n",
              "      <td>36</td>\n",
              "      <td>высшее</td>\n",
              "      <td>0</td>\n",
              "      <td>женат / замужем</td>\n",
              "      <td>0</td>\n",
              "      <td>M</td>\n",
              "      <td>компаньон</td>\n",
              "      <td>0</td>\n",
              "      <td>113943.491460</td>\n",
              "      <td>покупка недвижимости</td>\n",
              "    </tr>\n",
              "    <tr>\n",
              "      <th>11</th>\n",
              "      <td>0</td>\n",
              "      <td>-792.701887</td>\n",
              "      <td>40</td>\n",
              "      <td>среднее</td>\n",
              "      <td>1</td>\n",
              "      <td>женат / замужем</td>\n",
              "      <td>0</td>\n",
              "      <td>F</td>\n",
              "      <td>сотрудник</td>\n",
              "      <td>0</td>\n",
              "      <td>77069.234271</td>\n",
              "      <td>покупка коммерческой недвижимости</td>\n",
              "    </tr>\n",
              "    <tr>\n",
              "      <th>12</th>\n",
              "      <td>0</td>\n",
              "      <td>NaN</td>\n",
              "      <td>65</td>\n",
              "      <td>среднее</td>\n",
              "      <td>1</td>\n",
              "      <td>гражданский брак</td>\n",
              "      <td>1</td>\n",
              "      <td>M</td>\n",
              "      <td>пенсионер</td>\n",
              "      <td>0</td>\n",
              "      <td>NaN</td>\n",
              "      <td>сыграть свадьбу</td>\n",
              "    </tr>\n",
              "    <tr>\n",
              "      <th>13</th>\n",
              "      <td>0</td>\n",
              "      <td>-1846.641941</td>\n",
              "      <td>54</td>\n",
              "      <td>неоконченное высшее</td>\n",
              "      <td>2</td>\n",
              "      <td>женат / замужем</td>\n",
              "      <td>0</td>\n",
              "      <td>F</td>\n",
              "      <td>сотрудник</td>\n",
              "      <td>0</td>\n",
              "      <td>130458.228857</td>\n",
              "      <td>приобретение автомобиля</td>\n",
              "    </tr>\n",
              "    <tr>\n",
              "      <th>14</th>\n",
              "      <td>0</td>\n",
              "      <td>-1844.956182</td>\n",
              "      <td>56</td>\n",
              "      <td>высшее</td>\n",
              "      <td>0</td>\n",
              "      <td>гражданский брак</td>\n",
              "      <td>1</td>\n",
              "      <td>F</td>\n",
              "      <td>компаньон</td>\n",
              "      <td>1</td>\n",
              "      <td>165127.911772</td>\n",
              "      <td>покупка жилой недвижимости</td>\n",
              "    </tr>\n",
              "    <tr>\n",
              "      <th>15</th>\n",
              "      <td>1</td>\n",
              "      <td>-972.364419</td>\n",
              "      <td>26</td>\n",
              "      <td>среднее</td>\n",
              "      <td>1</td>\n",
              "      <td>женат / замужем</td>\n",
              "      <td>0</td>\n",
              "      <td>F</td>\n",
              "      <td>сотрудник</td>\n",
              "      <td>0</td>\n",
              "      <td>116820.904450</td>\n",
              "      <td>строительство собственной недвижимости</td>\n",
              "    </tr>\n",
              "    <tr>\n",
              "      <th>16</th>\n",
              "      <td>0</td>\n",
              "      <td>-1719.934226</td>\n",
              "      <td>35</td>\n",
              "      <td>среднее</td>\n",
              "      <td>1</td>\n",
              "      <td>женат / замужем</td>\n",
              "      <td>0</td>\n",
              "      <td>F</td>\n",
              "      <td>сотрудник</td>\n",
              "      <td>0</td>\n",
              "      <td>289202.704229</td>\n",
              "      <td>недвижимость</td>\n",
              "    </tr>\n",
              "    <tr>\n",
              "      <th>17</th>\n",
              "      <td>0</td>\n",
              "      <td>-2369.999720</td>\n",
              "      <td>33</td>\n",
              "      <td>высшее</td>\n",
              "      <td>0</td>\n",
              "      <td>гражданский брак</td>\n",
              "      <td>1</td>\n",
              "      <td>M</td>\n",
              "      <td>сотрудник</td>\n",
              "      <td>0</td>\n",
              "      <td>90410.586745</td>\n",
              "      <td>строительство недвижимости</td>\n",
              "    </tr>\n",
              "    <tr>\n",
              "      <th>18</th>\n",
              "      <td>0</td>\n",
              "      <td>400281.136913</td>\n",
              "      <td>53</td>\n",
              "      <td>среднее</td>\n",
              "      <td>1</td>\n",
              "      <td>вдовец / вдова</td>\n",
              "      <td>2</td>\n",
              "      <td>F</td>\n",
              "      <td>пенсионер</td>\n",
              "      <td>0</td>\n",
              "      <td>56823.777243</td>\n",
              "      <td>на покупку подержанного автомобиля</td>\n",
              "    </tr>\n",
              "    <tr>\n",
              "      <th>19</th>\n",
              "      <td>0</td>\n",
              "      <td>-10038.818549</td>\n",
              "      <td>48</td>\n",
              "      <td>СРЕДНЕЕ</td>\n",
              "      <td>1</td>\n",
              "      <td>в разводе</td>\n",
              "      <td>3</td>\n",
              "      <td>F</td>\n",
              "      <td>сотрудник</td>\n",
              "      <td>0</td>\n",
              "      <td>242831.107982</td>\n",
              "      <td>на покупку своего автомобиля</td>\n",
              "    </tr>\n",
              "  </tbody>\n",
              "</table>\n",
              "</div>"
            ],
            "text/plain": [
              "    children  days_employed  dob_years            education  education_id  \\\n",
              "0          1   -8437.673028         42               высшее             0   \n",
              "1          1   -4024.803754         36              среднее             1   \n",
              "2          0   -5623.422610         33              Среднее             1   \n",
              "3          3   -4124.747207         32              среднее             1   \n",
              "4          0  340266.072047         53              среднее             1   \n",
              "5          0    -926.185831         27               высшее             0   \n",
              "6          0   -2879.202052         43               высшее             0   \n",
              "7          0    -152.779569         50              СРЕДНЕЕ             1   \n",
              "8          2   -6929.865299         35               ВЫСШЕЕ             0   \n",
              "9          0   -2188.756445         41              среднее             1   \n",
              "10         2   -4171.483647         36               высшее             0   \n",
              "11         0    -792.701887         40              среднее             1   \n",
              "12         0            NaN         65              среднее             1   \n",
              "13         0   -1846.641941         54  неоконченное высшее             2   \n",
              "14         0   -1844.956182         56               высшее             0   \n",
              "15         1    -972.364419         26              среднее             1   \n",
              "16         0   -1719.934226         35              среднее             1   \n",
              "17         0   -2369.999720         33               высшее             0   \n",
              "18         0  400281.136913         53              среднее             1   \n",
              "19         0  -10038.818549         48              СРЕДНЕЕ             1   \n",
              "\n",
              "       family_status  family_status_id gender income_type  debt  \\\n",
              "0    женат / замужем                 0      F   сотрудник     0   \n",
              "1    женат / замужем                 0      F   сотрудник     0   \n",
              "2    женат / замужем                 0      M   сотрудник     0   \n",
              "3    женат / замужем                 0      M   сотрудник     0   \n",
              "4   гражданский брак                 1      F   пенсионер     0   \n",
              "5   гражданский брак                 1      M   компаньон     0   \n",
              "6    женат / замужем                 0      F   компаньон     0   \n",
              "7    женат / замужем                 0      M   сотрудник     0   \n",
              "8   гражданский брак                 1      F   сотрудник     0   \n",
              "9    женат / замужем                 0      M   сотрудник     0   \n",
              "10   женат / замужем                 0      M   компаньон     0   \n",
              "11   женат / замужем                 0      F   сотрудник     0   \n",
              "12  гражданский брак                 1      M   пенсионер     0   \n",
              "13   женат / замужем                 0      F   сотрудник     0   \n",
              "14  гражданский брак                 1      F   компаньон     1   \n",
              "15   женат / замужем                 0      F   сотрудник     0   \n",
              "16   женат / замужем                 0      F   сотрудник     0   \n",
              "17  гражданский брак                 1      M   сотрудник     0   \n",
              "18    вдовец / вдова                 2      F   пенсионер     0   \n",
              "19         в разводе                 3      F   сотрудник     0   \n",
              "\n",
              "     total_income                                 purpose  \n",
              "0   253875.639453                           покупка жилья  \n",
              "1   112080.014102                 приобретение автомобиля  \n",
              "2   145885.952297                           покупка жилья  \n",
              "3   267628.550329              дополнительное образование  \n",
              "4   158616.077870                         сыграть свадьбу  \n",
              "5   255763.565419                           покупка жилья  \n",
              "6   240525.971920                       операции с жильем  \n",
              "7   135823.934197                             образование  \n",
              "8    95856.832424                   на проведение свадьбы  \n",
              "9   144425.938277                 покупка жилья для семьи  \n",
              "10  113943.491460                    покупка недвижимости  \n",
              "11   77069.234271       покупка коммерческой недвижимости  \n",
              "12            NaN                         сыграть свадьбу  \n",
              "13  130458.228857                 приобретение автомобиля  \n",
              "14  165127.911772              покупка жилой недвижимости  \n",
              "15  116820.904450  строительство собственной недвижимости  \n",
              "16  289202.704229                            недвижимость  \n",
              "17   90410.586745              строительство недвижимости  \n",
              "18   56823.777243      на покупку подержанного автомобиля  \n",
              "19  242831.107982            на покупку своего автомобиля  "
            ]
          },
          "execution_count": 3,
          "metadata": {},
          "output_type": "execute_result"
        }
      ],
      "source": [
        "\n",
        "data.head(20)"
      ]
    },
    {
      "cell_type": "markdown",
      "id": "918d9f38",
      "metadata": {
        "deletable": false,
        "editable": false,
        "id": "918d9f38",
        "tags": [
          "start_task"
        ]
      },
      "source": [
        "**Задание 3. Выведите основную информацию о датафрейме с помощью метода `info()`.**"
      ]
    },
    {
      "cell_type": "code",
      "execution_count": null,
      "id": "509fa58b",
      "metadata": {
        "id": "509fa58b",
        "outputId": "81040fb3-b1ec-448c-8c3e-6b9ce213eecf"
      },
      "outputs": [
        {
          "name": "stdout",
          "output_type": "stream",
          "text": [
            "<class 'pandas.core.frame.DataFrame'>\n",
            "RangeIndex: 21525 entries, 0 to 21524\n",
            "Data columns (total 12 columns):\n",
            " #   Column            Non-Null Count  Dtype  \n",
            "---  ------            --------------  -----  \n",
            " 0   children          21525 non-null  int64  \n",
            " 1   days_employed     19351 non-null  float64\n",
            " 2   dob_years         21525 non-null  int64  \n",
            " 3   education         21525 non-null  object \n",
            " 4   education_id      21525 non-null  int64  \n",
            " 5   family_status     21525 non-null  object \n",
            " 6   family_status_id  21525 non-null  int64  \n",
            " 7   gender            21525 non-null  object \n",
            " 8   income_type       21525 non-null  object \n",
            " 9   debt              21525 non-null  int64  \n",
            " 10  total_income      19351 non-null  float64\n",
            " 11  purpose           21525 non-null  object \n",
            "dtypes: float64(2), int64(5), object(5)\n",
            "memory usage: 2.0+ MB\n"
          ]
        }
      ],
      "source": [
        "\n",
        "data.info()"
      ]
    },
    {
      "cell_type": "markdown",
      "id": "9e624e91",
      "metadata": {
        "deletable": false,
        "editable": false,
        "id": "9e624e91"
      },
      "source": [
        "## Предобработка данных"
      ]
    },
    {
      "cell_type": "markdown",
      "id": "855c51df",
      "metadata": {
        "deletable": false,
        "editable": false,
        "id": "855c51df"
      },
      "source": [
        "### Удаление пропусков"
      ]
    },
    {
      "cell_type": "markdown",
      "id": "41b213cd",
      "metadata": {
        "deletable": false,
        "editable": false,
        "id": "41b213cd",
        "tags": [
          "start_task"
        ]
      },
      "source": [
        "**Задание 4. Выведите количество пропущенных значений для каждого столбца. Используйте комбинацию двух методов.**"
      ]
    },
    {
      "cell_type": "code",
      "execution_count": null,
      "id": "d11f9c97",
      "metadata": {
        "id": "d11f9c97",
        "outputId": "abf3312c-151d-468d-8a80-b2a95f008bea"
      },
      "outputs": [
        {
          "name": "stdout",
          "output_type": "stream",
          "text": [
            "children               0\n",
            "days_employed       2174\n",
            "dob_years              0\n",
            "education              0\n",
            "education_id           0\n",
            "family_status          0\n",
            "family_status_id       0\n",
            "gender                 0\n",
            "income_type            0\n",
            "debt                   0\n",
            "total_income        2174\n",
            "purpose                0\n",
            "dtype: int64\n"
          ]
        }
      ],
      "source": [
        "\n",
        "print(data.isna().sum())"
      ]
    },
    {
      "cell_type": "markdown",
      "id": "21aa2bfb",
      "metadata": {
        "deletable": false,
        "editable": false,
        "id": "21aa2bfb",
        "tags": [
          "start_task"
        ]
      },
      "source": [
        "**Задание 5. В двух столбцах есть пропущенные значения. Один из них — `days_employed`. Пропуски в этом столбце вы обработаете на следующем этапе. Другой столбец с пропущенными значениями — `total_income` — хранит данные о доходах. На сумму дохода сильнее всего влияет тип занятости, поэтому заполнить пропуски в этом столбце нужно медианным значением по каждому типу из столбца `income_type`. Например, у человека с типом занятости `сотрудник` пропуск в столбце `total_income` должен быть заполнен медианным доходом среди всех записей с тем же типом.**"
      ]
    },
    {
      "cell_type": "code",
      "execution_count": null,
      "id": "3d3e49d7",
      "metadata": {
        "id": "3d3e49d7"
      },
      "outputs": [],
      "source": [
        "\n",
        "for x in data['income_type'].unique():\n",
        "    data.loc[(data['income_type'] == x) & (data['total_income'].isna()), 'total_income'] = \\\n",
        "    data.loc[data['income_type'] == x, 'total_income'].median()"
      ]
    },
    {
      "cell_type": "markdown",
      "id": "908c8c40",
      "metadata": {
        "deletable": false,
        "editable": false,
        "id": "908c8c40"
      },
      "source": [
        "### Обработка аномальных значений"
      ]
    },
    {
      "cell_type": "markdown",
      "id": "7d5068ed",
      "metadata": {
        "deletable": false,
        "editable": false,
        "id": "7d5068ed",
        "tags": [
          "start_task"
        ]
      },
      "source": [
        "**Задание 6. В данных могут встречаться артефакты (аномалии) — значения, которые не отражают действительность и появились по какой-то ошибке. Таким артефактом будет отрицательное количество дней трудового стажа в столбце `days_employed`. Для реальных данных это нормально. Обработайте значения в этом столбце: замените все отрицательные значения положительными с помощью метода `abs()`.**"
      ]
    },
    {
      "cell_type": "code",
      "execution_count": null,
      "id": "c81fe012",
      "metadata": {
        "id": "c81fe012"
      },
      "outputs": [],
      "source": [
        "\n",
        "data['days_employed'] = data['days_employed'].abs()"
      ]
    },
    {
      "cell_type": "markdown",
      "id": "32ba0ebe",
      "metadata": {
        "deletable": false,
        "editable": false,
        "id": "32ba0ebe",
        "tags": [
          "start_task"
        ]
      },
      "source": [
        "**Задание 7. Для каждого типа занятости выведите медианное значение трудового стажа `days_employed` в днях.**"
      ]
    },
    {
      "cell_type": "code",
      "execution_count": null,
      "id": "2558827f",
      "metadata": {
        "id": "2558827f",
        "outputId": "6d366baa-05a6-479f-d6f9-727635cf28d9"
      },
      "outputs": [
        {
          "name": "stdout",
          "output_type": "stream",
          "text": [
            "income_type\n",
            "безработный        366413.652744\n",
            "в декрете            3296.759962\n",
            "госслужащий          2689.368353\n",
            "компаньон            1547.382223\n",
            "пенсионер          365213.306266\n",
            "предприниматель       520.848083\n",
            "сотрудник            1574.202821\n",
            "студент               578.751554\n",
            "Name: days_employed, dtype: float64\n"
          ]
        }
      ],
      "source": [
        "\n",
        "print(data.groupby('income_type')['days_employed'].median())"
      ]
    },
    {
      "cell_type": "markdown",
      "id": "bd4b23c7",
      "metadata": {
        "deletable": false,
        "editable": false,
        "id": "bd4b23c7"
      },
      "source": [
        "У двух типов (безработные и пенсионеры) получатся аномально большие значения. Исправить такие значения сложно, поэтому оставьте их как есть. Тем более этот столбец не понадобится вам для исследования."
      ]
    },
    {
      "cell_type": "markdown",
      "id": "b35eabcb",
      "metadata": {
        "deletable": false,
        "editable": false,
        "id": "b35eabcb",
        "tags": [
          "start_task"
        ]
      },
      "source": [
        "**Задание 8. Выведите перечень уникальных значений столбца `children`.**"
      ]
    },
    {
      "cell_type": "code",
      "execution_count": null,
      "id": "ec0092bd",
      "metadata": {
        "id": "ec0092bd",
        "outputId": "5c7ad44d-c847-4ce1-8d64-706580642986"
      },
      "outputs": [
        {
          "name": "stdout",
          "output_type": "stream",
          "text": [
            "[ 1  0  3  2 -1  4 20  5]\n"
          ]
        }
      ],
      "source": [
        "\n",
        "print(data['children'].unique())"
      ]
    },
    {
      "cell_type": "markdown",
      "id": "a635f24d",
      "metadata": {
        "deletable": false,
        "editable": false,
        "id": "a635f24d",
        "tags": [
          "start_task"
        ]
      },
      "source": [
        "**Задание 9. В столбце `children` есть два аномальных значения. Удалите строки, в которых встречаются такие аномальные значения из датафрейма `data`.**"
      ]
    },
    {
      "cell_type": "code",
      "execution_count": null,
      "id": "667eee70",
      "metadata": {
        "id": "667eee70"
      },
      "outputs": [],
      "source": [
        "\n",
        "data = data[data['children'] > -1]\n",
        "data = data[data['children'] != 20]"
      ]
    },
    {
      "cell_type": "markdown",
      "id": "cae0eb7d",
      "metadata": {
        "deletable": false,
        "editable": false,
        "id": "cae0eb7d",
        "tags": [
          "start_task"
        ]
      },
      "source": [
        "**Задание 10. Ещё раз выведите перечень уникальных значений столбца `children`, чтобы убедиться, что артефакты удалены.**"
      ]
    },
    {
      "cell_type": "code",
      "execution_count": null,
      "id": "ebeaf935",
      "metadata": {
        "id": "ebeaf935",
        "outputId": "48610d62-95f0-4b9d-d6f9-9c555a27fdbe"
      },
      "outputs": [
        {
          "name": "stdout",
          "output_type": "stream",
          "text": [
            "[1 0 3 2 4 5]\n"
          ]
        }
      ],
      "source": [
        "\n",
        "print(data['children'].unique())"
      ]
    },
    {
      "cell_type": "markdown",
      "id": "25bda637",
      "metadata": {
        "deletable": false,
        "editable": false,
        "id": "25bda637"
      },
      "source": [
        "### Удаление пропусков (продолжение)"
      ]
    },
    {
      "cell_type": "markdown",
      "id": "0117ef6a",
      "metadata": {
        "deletable": false,
        "editable": false,
        "id": "0117ef6a",
        "tags": [
          "start_task"
        ]
      },
      "source": [
        "**Задание 11. Заполните пропуски в столбце `days_employed` медианными значениями по каждому типу занятости `income_type`.**"
      ]
    },
    {
      "cell_type": "code",
      "execution_count": null,
      "id": "f7b49cbd",
      "metadata": {
        "id": "f7b49cbd"
      },
      "outputs": [],
      "source": [
        "\n",
        "for x in data['income_type'].unique():\n",
        "    data.loc[(data['income_type'] == x) & (data['days_employed'].isna()), 'days_employed'] = \\\n",
        "    data.loc[data['income_type'] == x, 'days_employed'].median()"
      ]
    },
    {
      "cell_type": "markdown",
      "id": "a0c1012b",
      "metadata": {
        "deletable": false,
        "editable": false,
        "id": "a0c1012b",
        "tags": [
          "start_task"
        ]
      },
      "source": [
        "**Задание 12. Убедитесь, что все пропуски заполнены. Проверьте себя и ещё раз выведите количество пропущенных значений для каждого столбца с помощью двух методов.**"
      ]
    },
    {
      "cell_type": "code",
      "execution_count": null,
      "id": "98df0973",
      "metadata": {
        "id": "98df0973",
        "outputId": "f089c785-be9e-4239-cd00-e83f5a869fd0"
      },
      "outputs": [
        {
          "name": "stdout",
          "output_type": "stream",
          "text": [
            "children            0\n",
            "days_employed       0\n",
            "dob_years           0\n",
            "education           0\n",
            "education_id        0\n",
            "family_status       0\n",
            "family_status_id    0\n",
            "gender              0\n",
            "income_type         0\n",
            "debt                0\n",
            "total_income        0\n",
            "purpose             0\n",
            "dtype: int64\n"
          ]
        }
      ],
      "source": [
        "print(data.isna().sum())"
      ]
    },
    {
      "cell_type": "markdown",
      "id": "8b746ec5",
      "metadata": {
        "deletable": false,
        "editable": false,
        "id": "8b746ec5"
      },
      "source": [
        "### Изменение типов данных"
      ]
    },
    {
      "cell_type": "markdown",
      "id": "a967baf6",
      "metadata": {
        "deletable": false,
        "editable": false,
        "id": "a967baf6",
        "tags": [
          "start_task"
        ]
      },
      "source": [
        "**Задание 13. Замените вещественный тип данных в столбце `total_income` на целочисленный с помощью метода `astype()`.**"
      ]
    },
    {
      "cell_type": "code",
      "execution_count": null,
      "id": "f5da2831",
      "metadata": {
        "id": "f5da2831"
      },
      "outputs": [],
      "source": [
        "\n",
        "data['total_income'] = data['total_income'].astype('int')"
      ]
    },
    {
      "cell_type": "markdown",
      "id": "495e3928",
      "metadata": {
        "deletable": false,
        "editable": false,
        "id": "495e3928"
      },
      "source": [
        "### Обработка дубликатов"
      ]
    },
    {
      "cell_type": "markdown",
      "id": "bd51cdae",
      "metadata": {
        "deletable": false,
        "editable": false,
        "tags": [
          "start_task"
        ],
        "id": "bd51cdae"
      },
      "source": [
        "**Задание 14. Обработайте неявные дубликаты в столбце `education`. В этом столбце есть одни и те же значения, но записанные по-разному: с использованием заглавных и строчных букв. Приведите их к нижнему регистру. Проверьте остальные столбцы.**"
      ]
    },
    {
      "cell_type": "code",
      "execution_count": null,
      "id": "9fc3bdf4",
      "metadata": {
        "id": "9fc3bdf4"
      },
      "outputs": [],
      "source": [
        "\n",
        "data['education'] = data['education'].str.lower()"
      ]
    },
    {
      "cell_type": "markdown",
      "id": "29cbadf9",
      "metadata": {
        "deletable": false,
        "editable": false,
        "id": "29cbadf9",
        "tags": [
          "start_task"
        ]
      },
      "source": [
        "**Задание 15. Выведите на экран количество строк-дубликатов в данных. Если такие строки присутствуют, удалите их.**"
      ]
    },
    {
      "cell_type": "code",
      "execution_count": null,
      "id": "f22b8e41",
      "metadata": {
        "id": "f22b8e41",
        "outputId": "e9173bb2-b1ac-42ba-ad2b-ce78f6ff6e72"
      },
      "outputs": [
        {
          "name": "stdout",
          "output_type": "stream",
          "text": [
            "21397\n"
          ]
        }
      ],
      "source": [
        "\n",
        "print(data['education'].duplicated().sum())"
      ]
    },
    {
      "cell_type": "code",
      "execution_count": null,
      "id": "3fdf5874",
      "metadata": {
        "id": "3fdf5874",
        "outputId": "35df583b-7ecf-476b-a35a-1ec5736f235d"
      },
      "outputs": [
        {
          "data": {
            "text/plain": [
              "0                    высшее\n",
              "1                   среднее\n",
              "13      неоконченное высшее\n",
              "31                начальное\n",
              "2963         ученая степень\n",
              "Name: education, dtype: object"
            ]
          },
          "execution_count": 30,
          "metadata": {},
          "output_type": "execute_result"
        }
      ],
      "source": [
        "\n",
        "data['education'].drop_duplicates()"
      ]
    },
    {
      "cell_type": "markdown",
      "id": "1c1e77ba",
      "metadata": {
        "deletable": false,
        "editable": false,
        "id": "1c1e77ba"
      },
      "source": [
        "### Категоризация данных"
      ]
    },
    {
      "cell_type": "markdown",
      "id": "7610d347",
      "metadata": {
        "deletable": false,
        "editable": false,
        "id": "7610d347",
        "tags": [
          "start_task"
        ]
      },
      "source": [
        "**Задание 16. На основании диапазонов, указанных ниже, создайте в датафрейме `data` столбец `total_income_category` с категориями:**\n",
        "\n",
        "- 0–30000 — `'E'`;\n",
        "- 30001–50000 — `'D'`;\n",
        "- 50001–200000 — `'C'`;\n",
        "- 200001–1000000 — `'B'`;\n",
        "- 1000001 и выше — `'A'`.\n",
        "\n",
        "\n",
        "**Например, кредитополучателю с доходом 25000 нужно назначить категорию `'E'`, а клиенту, получающему 235000, — `'B'`. Используйте собственную функцию с именем `categorize_income()` и метод `apply()`.**"
      ]
    },
    {
      "cell_type": "code",
      "execution_count": null,
      "id": "432ad8f4",
      "metadata": {
        "id": "432ad8f4"
      },
      "outputs": [],
      "source": [
        "\n",
        "row = data['total_income']\n",
        "def categorize_income(row):\n",
        "    if row <= 30000:\n",
        "        return 'E'\n",
        "    if row <= 50000:\n",
        "        return 'D'\n",
        "    if row <= 200000:\n",
        "        return 'C'\n",
        "    if row <= 1000000:\n",
        "        return 'B'\n",
        "    if row > 1000000:\n",
        "        return 'A'"
      ]
    },
    {
      "cell_type": "code",
      "execution_count": null,
      "id": "dd337b2b",
      "metadata": {
        "id": "dd337b2b"
      },
      "outputs": [],
      "source": [
        "\n",
        "data['total_income_category'] = data['total_income'].apply(categorize_income)"
      ]
    },
    {
      "cell_type": "markdown",
      "id": "36e82da0",
      "metadata": {
        "deletable": false,
        "editable": false,
        "id": "36e82da0",
        "tags": [
          "start_task"
        ]
      },
      "source": [
        "**Задание 17. Выведите на экран перечень уникальных целей взятия кредита из столбца `purpose`.**"
      ]
    },
    {
      "cell_type": "code",
      "execution_count": null,
      "id": "ec6601d2",
      "metadata": {
        "id": "ec6601d2",
        "outputId": "d031da79-cf75-4942-ccbc-ae299b2b71f6"
      },
      "outputs": [
        {
          "name": "stdout",
          "output_type": "stream",
          "text": [
            "['покупка жилья' 'приобретение автомобиля' 'дополнительное образование'\n",
            " 'сыграть свадьбу' 'операции с жильем' 'образование'\n",
            " 'на проведение свадьбы' 'покупка жилья для семьи' 'покупка недвижимости'\n",
            " 'покупка коммерческой недвижимости' 'покупка жилой недвижимости'\n",
            " 'строительство собственной недвижимости' 'недвижимость'\n",
            " 'строительство недвижимости' 'на покупку подержанного автомобиля'\n",
            " 'на покупку своего автомобиля' 'операции с коммерческой недвижимостью'\n",
            " 'строительство жилой недвижимости' 'жилье'\n",
            " 'операции со своей недвижимостью' 'автомобили' 'заняться образованием'\n",
            " 'сделка с подержанным автомобилем' 'получение образования' 'автомобиль'\n",
            " 'свадьба' 'получение дополнительного образования' 'покупка своего жилья'\n",
            " 'операции с недвижимостью' 'получение высшего образования'\n",
            " 'свой автомобиль' 'сделка с автомобилем' 'профильное образование'\n",
            " 'высшее образование' 'покупка жилья для сдачи' 'на покупку автомобиля'\n",
            " 'ремонт жилью' 'заняться высшим образованием']\n"
          ]
        }
      ],
      "source": [
        "\n",
        "print(data['purpose'].unique())"
      ]
    },
    {
      "cell_type": "markdown",
      "id": "f167969d",
      "metadata": {
        "deletable": false,
        "editable": false,
        "id": "f167969d",
        "tags": [
          "start_task"
        ]
      },
      "source": [
        "**Задание 18. Создайте функцию, которая на основании данных из столбца `purpose` сформирует новый столбец `purpose_category`, в который войдут следующие категории:**\n",
        "\n",
        "- `'операции с автомобилем'`,\n",
        "- `'операции с недвижимостью'`,\n",
        "- `'проведение свадьбы'`,\n",
        "- `'получение образования'`.\n",
        "\n",
        "**Например, если в столбце `purpose` находится подстрока `'на покупку автомобиля'`, то в столбце `purpose_category` должна появиться строка `'операции с автомобилем'`.**\n",
        "\n",
        "**Используйте собственную функцию с именем `categorize_purpose()` и метод `apply()`. Изучите данные в столбце `purpose` и определите, какие подстроки помогут вам правильно определить категорию.**"
      ]
    },
    {
      "cell_type": "code",
      "execution_count": null,
      "id": "ab92e6ea",
      "metadata": {
        "id": "ab92e6ea"
      },
      "outputs": [],
      "source": [
        "\n",
        "def categorize_purpose(row):\n",
        "    if 'авто' in row:\n",
        "        return 'операции с автомобилем'\n",
        "    if 'недвижим'in row or 'жил' in row:\n",
        "        return 'операции с недвижимостью'\n",
        "    if 'свад' in row:\n",
        "        return 'проведение свадьбы'\n",
        "    if 'образ' in row:\n",
        "        return 'получение образования'\n",
        "    "
      ]
    },
    {
      "cell_type": "code",
      "execution_count": null,
      "id": "4ad7533c",
      "metadata": {
        "id": "4ad7533c"
      },
      "outputs": [],
      "source": [
        "\n",
        "data['purpose_category'] = data['purpose'].apply(categorize_purpose)"
      ]
    },
    {
      "cell_type": "code",
      "execution_count": null,
      "id": "1424f5ba",
      "metadata": {
        "id": "1424f5ba"
      },
      "outputs": [],
      "source": []
    }
  ],
  "metadata": {
    "ExecuteTimeLog": [
      {
        "duration": 365,
        "start_time": "2022-09-13T08:51:26.825Z"
      },
      {
        "duration": 121,
        "start_time": "2022-09-13T08:51:53.170Z"
      },
      {
        "duration": 22,
        "start_time": "2022-09-13T08:52:11.849Z"
      },
      {
        "duration": 23,
        "start_time": "2022-09-13T08:52:27.517Z"
      },
      {
        "duration": 44,
        "start_time": "2022-09-13T08:56:29.688Z"
      },
      {
        "duration": 31,
        "start_time": "2022-09-13T08:57:05.624Z"
      },
      {
        "duration": 35,
        "start_time": "2022-09-13T08:57:23.895Z"
      },
      {
        "duration": 30,
        "start_time": "2022-09-13T08:57:46.612Z"
      },
      {
        "duration": 31,
        "start_time": "2022-09-13T08:58:46.323Z"
      },
      {
        "duration": 44,
        "start_time": "2022-09-13T08:59:54.538Z"
      },
      {
        "duration": 2,
        "start_time": "2022-09-13T09:15:18.887Z"
      },
      {
        "duration": 94,
        "start_time": "2022-09-13T09:15:23.097Z"
      },
      {
        "duration": 29,
        "start_time": "2022-09-13T09:15:27.445Z"
      },
      {
        "duration": 384,
        "start_time": "2022-09-13T09:16:22.608Z"
      },
      {
        "duration": 65,
        "start_time": "2022-09-13T09:16:25.089Z"
      },
      {
        "duration": 21,
        "start_time": "2022-09-13T09:16:27.988Z"
      },
      {
        "duration": 18,
        "start_time": "2022-09-13T09:16:31.864Z"
      },
      {
        "duration": 29,
        "start_time": "2022-09-13T09:16:35.292Z"
      },
      {
        "duration": 439,
        "start_time": "2022-09-13T09:20:59.563Z"
      },
      {
        "duration": 90,
        "start_time": "2022-09-13T09:21:00.004Z"
      },
      {
        "duration": 28,
        "start_time": "2022-09-13T09:21:00.102Z"
      },
      {
        "duration": 18,
        "start_time": "2022-09-13T09:21:00.132Z"
      },
      {
        "duration": 49,
        "start_time": "2022-09-13T09:21:00.152Z"
      },
      {
        "duration": 4,
        "start_time": "2022-09-13T09:21:00.203Z"
      },
      {
        "duration": 5,
        "start_time": "2022-09-13T09:21:00.208Z"
      },
      {
        "duration": 11,
        "start_time": "2022-09-13T09:21:00.214Z"
      },
      {
        "duration": 5,
        "start_time": "2022-09-13T09:21:00.227Z"
      },
      {
        "duration": 9,
        "start_time": "2022-09-13T09:21:00.233Z"
      },
      {
        "duration": 9,
        "start_time": "2022-09-13T09:21:00.243Z"
      },
      {
        "duration": 11,
        "start_time": "2022-09-13T09:21:00.253Z"
      },
      {
        "duration": 10,
        "start_time": "2022-09-13T09:21:00.266Z"
      },
      {
        "duration": 33,
        "start_time": "2022-09-13T09:21:00.278Z"
      },
      {
        "duration": 7,
        "start_time": "2022-09-13T09:21:00.313Z"
      },
      {
        "duration": 12,
        "start_time": "2022-09-13T09:21:00.321Z"
      },
      {
        "duration": 21,
        "start_time": "2022-09-13T09:21:00.335Z"
      },
      {
        "duration": 49,
        "start_time": "2022-09-13T09:21:00.358Z"
      },
      {
        "duration": 31,
        "start_time": "2022-09-13T09:21:00.409Z"
      },
      {
        "duration": 20,
        "start_time": "2022-09-13T09:21:00.442Z"
      },
      {
        "duration": 29,
        "start_time": "2022-09-13T09:21:00.464Z"
      },
      {
        "duration": 7,
        "start_time": "2022-09-13T09:21:00.494Z"
      },
      {
        "duration": 46,
        "start_time": "2022-09-13T11:48:37.735Z"
      },
      {
        "duration": 372,
        "start_time": "2022-09-13T11:48:46.018Z"
      },
      {
        "duration": 143,
        "start_time": "2022-09-13T11:48:46.392Z"
      },
      {
        "duration": 24,
        "start_time": "2022-09-13T11:48:46.537Z"
      },
      {
        "duration": 12,
        "start_time": "2022-09-13T11:48:46.563Z"
      },
      {
        "duration": 10,
        "start_time": "2022-09-13T11:48:46.576Z"
      },
      {
        "duration": 12,
        "start_time": "2022-09-13T11:48:46.587Z"
      },
      {
        "duration": 7,
        "start_time": "2022-09-13T11:48:46.601Z"
      },
      {
        "duration": 10,
        "start_time": "2022-09-13T11:48:46.609Z"
      },
      {
        "duration": 7,
        "start_time": "2022-09-13T11:48:46.620Z"
      },
      {
        "duration": 11,
        "start_time": "2022-09-13T11:48:46.629Z"
      },
      {
        "duration": 3,
        "start_time": "2022-09-13T11:48:46.642Z"
      },
      {
        "duration": 6,
        "start_time": "2022-09-13T11:48:46.647Z"
      },
      {
        "duration": 6,
        "start_time": "2022-09-13T11:48:46.654Z"
      },
      {
        "duration": 6,
        "start_time": "2022-09-13T11:48:46.662Z"
      },
      {
        "duration": 8,
        "start_time": "2022-09-13T11:48:46.670Z"
      },
      {
        "duration": 17,
        "start_time": "2022-09-13T11:48:46.679Z"
      },
      {
        "duration": 11,
        "start_time": "2022-09-13T11:48:46.698Z"
      },
      {
        "duration": 10,
        "start_time": "2022-09-13T11:48:46.711Z"
      },
      {
        "duration": 8,
        "start_time": "2022-09-13T11:48:46.723Z"
      },
      {
        "duration": 9,
        "start_time": "2022-09-13T11:48:46.733Z"
      },
      {
        "duration": 4,
        "start_time": "2022-09-13T11:48:46.743Z"
      },
      {
        "duration": 9,
        "start_time": "2022-09-13T11:48:46.749Z"
      },
      {
        "duration": 16,
        "start_time": "2022-09-13T12:01:00.732Z"
      },
      {
        "duration": 90,
        "start_time": "2022-09-13T12:01:41.998Z"
      },
      {
        "duration": 105,
        "start_time": "2022-09-13T12:01:54.192Z"
      },
      {
        "duration": 17,
        "start_time": "2022-09-13T12:02:06.769Z"
      },
      {
        "duration": 17,
        "start_time": "2022-09-13T12:03:07.120Z"
      },
      {
        "duration": 17,
        "start_time": "2022-09-13T12:04:09.293Z"
      },
      {
        "duration": 18,
        "start_time": "2022-09-13T12:04:22.231Z"
      },
      {
        "duration": 154,
        "start_time": "2022-09-13T12:09:47.867Z"
      },
      {
        "duration": 79,
        "start_time": "2022-09-13T12:10:16.289Z"
      },
      {
        "duration": 4,
        "start_time": "2022-09-13T12:14:06.405Z"
      },
      {
        "duration": 373,
        "start_time": "2022-09-13T12:22:39.678Z"
      },
      {
        "duration": 86,
        "start_time": "2022-09-13T12:22:40.052Z"
      },
      {
        "duration": 20,
        "start_time": "2022-09-13T12:22:40.139Z"
      },
      {
        "duration": 12,
        "start_time": "2022-09-13T12:22:40.161Z"
      },
      {
        "duration": 9,
        "start_time": "2022-09-13T12:22:40.175Z"
      },
      {
        "duration": 71,
        "start_time": "2022-09-13T12:22:40.186Z"
      },
      {
        "duration": 0,
        "start_time": "2022-09-13T12:22:40.259Z"
      },
      {
        "duration": 0,
        "start_time": "2022-09-13T12:22:40.260Z"
      },
      {
        "duration": 0,
        "start_time": "2022-09-13T12:22:40.261Z"
      },
      {
        "duration": 0,
        "start_time": "2022-09-13T12:22:40.262Z"
      },
      {
        "duration": 0,
        "start_time": "2022-09-13T12:22:40.263Z"
      },
      {
        "duration": 0,
        "start_time": "2022-09-13T12:22:40.264Z"
      },
      {
        "duration": 0,
        "start_time": "2022-09-13T12:22:40.265Z"
      },
      {
        "duration": 0,
        "start_time": "2022-09-13T12:22:40.266Z"
      },
      {
        "duration": 0,
        "start_time": "2022-09-13T12:22:40.267Z"
      },
      {
        "duration": 0,
        "start_time": "2022-09-13T12:22:40.269Z"
      },
      {
        "duration": 0,
        "start_time": "2022-09-13T12:22:40.270Z"
      },
      {
        "duration": 0,
        "start_time": "2022-09-13T12:22:40.271Z"
      },
      {
        "duration": 0,
        "start_time": "2022-09-13T12:22:40.272Z"
      },
      {
        "duration": 0,
        "start_time": "2022-09-13T12:22:40.273Z"
      },
      {
        "duration": 0,
        "start_time": "2022-09-13T12:22:40.274Z"
      },
      {
        "duration": 0,
        "start_time": "2022-09-13T12:22:40.275Z"
      },
      {
        "duration": 31,
        "start_time": "2022-09-13T12:26:34.896Z"
      },
      {
        "duration": 3,
        "start_time": "2022-09-13T12:26:49.091Z"
      },
      {
        "duration": 8,
        "start_time": "2022-09-13T12:30:23.473Z"
      },
      {
        "duration": 3,
        "start_time": "2022-09-13T12:30:56.704Z"
      },
      {
        "duration": 3,
        "start_time": "2022-09-13T12:34:38.022Z"
      },
      {
        "duration": 5,
        "start_time": "2022-09-13T12:34:55.690Z"
      },
      {
        "duration": 3,
        "start_time": "2022-09-13T12:36:17.516Z"
      },
      {
        "duration": 5,
        "start_time": "2022-09-13T12:36:42.889Z"
      },
      {
        "duration": 3,
        "start_time": "2022-09-13T12:36:45.894Z"
      },
      {
        "duration": 66,
        "start_time": "2022-09-13T12:37:11.778Z"
      },
      {
        "duration": 4,
        "start_time": "2022-09-13T12:37:31.689Z"
      },
      {
        "duration": 4,
        "start_time": "2022-09-13T12:37:34.591Z"
      },
      {
        "duration": 5,
        "start_time": "2022-09-13T12:39:07.613Z"
      },
      {
        "duration": 3,
        "start_time": "2022-09-13T12:39:09.912Z"
      },
      {
        "duration": 4,
        "start_time": "2022-09-13T12:39:39.694Z"
      },
      {
        "duration": 3,
        "start_time": "2022-09-13T12:39:49.469Z"
      },
      {
        "duration": 167,
        "start_time": "2022-09-13T16:11:33.465Z"
      },
      {
        "duration": 164,
        "start_time": "2022-09-13T16:11:43.437Z"
      },
      {
        "duration": 81,
        "start_time": "2022-09-13T16:11:53.741Z"
      },
      {
        "duration": 4,
        "start_time": "2022-09-13T16:12:38.089Z"
      },
      {
        "duration": 3,
        "start_time": "2022-09-13T16:12:42.035Z"
      },
      {
        "duration": 370,
        "start_time": "2022-09-13T16:12:51.640Z"
      },
      {
        "duration": 67,
        "start_time": "2022-09-13T16:12:52.012Z"
      },
      {
        "duration": 21,
        "start_time": "2022-09-13T16:12:52.081Z"
      },
      {
        "duration": 22,
        "start_time": "2022-09-13T16:12:52.104Z"
      },
      {
        "duration": 9,
        "start_time": "2022-09-13T16:12:52.128Z"
      },
      {
        "duration": 47,
        "start_time": "2022-09-13T16:12:52.139Z"
      },
      {
        "duration": 3,
        "start_time": "2022-09-13T16:12:52.188Z"
      },
      {
        "duration": 15,
        "start_time": "2022-09-13T16:12:52.192Z"
      },
      {
        "duration": 13,
        "start_time": "2022-09-13T16:12:52.208Z"
      },
      {
        "duration": 25,
        "start_time": "2022-09-13T16:12:52.222Z"
      },
      {
        "duration": 16,
        "start_time": "2022-09-13T16:12:52.248Z"
      },
      {
        "duration": 28,
        "start_time": "2022-09-13T16:12:52.266Z"
      },
      {
        "duration": 13,
        "start_time": "2022-09-13T16:12:52.296Z"
      },
      {
        "duration": 14,
        "start_time": "2022-09-13T16:12:52.312Z"
      },
      {
        "duration": 10,
        "start_time": "2022-09-13T16:12:52.328Z"
      },
      {
        "duration": 12,
        "start_time": "2022-09-13T16:12:52.340Z"
      },
      {
        "duration": 38,
        "start_time": "2022-09-13T16:12:52.354Z"
      },
      {
        "duration": 13,
        "start_time": "2022-09-13T16:12:52.394Z"
      },
      {
        "duration": 19,
        "start_time": "2022-09-13T16:12:52.409Z"
      },
      {
        "duration": 23,
        "start_time": "2022-09-13T16:12:52.430Z"
      },
      {
        "duration": 17,
        "start_time": "2022-09-13T16:12:52.454Z"
      },
      {
        "duration": 16,
        "start_time": "2022-09-13T16:12:52.473Z"
      },
      {
        "duration": 3,
        "start_time": "2022-09-13T16:14:00.150Z"
      },
      {
        "duration": 70,
        "start_time": "2022-09-13T16:14:04.616Z"
      },
      {
        "duration": 8,
        "start_time": "2022-09-13T16:14:14.766Z"
      },
      {
        "duration": 9,
        "start_time": "2022-09-13T16:14:41.235Z"
      },
      {
        "duration": 9,
        "start_time": "2022-09-13T16:14:50.916Z"
      },
      {
        "duration": 422,
        "start_time": "2022-09-13T16:14:57.555Z"
      },
      {
        "duration": 74,
        "start_time": "2022-09-13T16:14:57.979Z"
      },
      {
        "duration": 20,
        "start_time": "2022-09-13T16:14:58.055Z"
      },
      {
        "duration": 16,
        "start_time": "2022-09-13T16:14:58.077Z"
      },
      {
        "duration": 9,
        "start_time": "2022-09-13T16:14:58.095Z"
      },
      {
        "duration": 30,
        "start_time": "2022-09-13T16:14:58.105Z"
      },
      {
        "duration": 3,
        "start_time": "2022-09-13T16:14:58.137Z"
      },
      {
        "duration": 8,
        "start_time": "2022-09-13T16:14:58.142Z"
      },
      {
        "duration": 4,
        "start_time": "2022-09-13T16:14:58.177Z"
      },
      {
        "duration": 24,
        "start_time": "2022-09-13T16:14:58.183Z"
      },
      {
        "duration": 5,
        "start_time": "2022-09-13T16:14:58.209Z"
      },
      {
        "duration": 6,
        "start_time": "2022-09-13T16:14:58.215Z"
      },
      {
        "duration": 10,
        "start_time": "2022-09-13T16:14:58.222Z"
      },
      {
        "duration": 4,
        "start_time": "2022-09-13T16:14:58.235Z"
      },
      {
        "duration": 4,
        "start_time": "2022-09-13T16:14:58.240Z"
      },
      {
        "duration": 6,
        "start_time": "2022-09-13T16:14:58.245Z"
      },
      {
        "duration": 5,
        "start_time": "2022-09-13T16:14:58.252Z"
      },
      {
        "duration": 10,
        "start_time": "2022-09-13T16:14:58.258Z"
      },
      {
        "duration": 5,
        "start_time": "2022-09-13T16:14:58.269Z"
      },
      {
        "duration": 18,
        "start_time": "2022-09-13T16:14:58.275Z"
      },
      {
        "duration": 7,
        "start_time": "2022-09-13T16:14:58.294Z"
      },
      {
        "duration": 5,
        "start_time": "2022-09-13T16:14:58.302Z"
      },
      {
        "duration": 4,
        "start_time": "2022-09-13T16:16:18.411Z"
      },
      {
        "duration": 5,
        "start_time": "2022-09-13T16:16:43.555Z"
      },
      {
        "duration": 4,
        "start_time": "2022-09-13T16:16:46.407Z"
      },
      {
        "duration": 5,
        "start_time": "2022-09-13T16:18:35.131Z"
      },
      {
        "duration": 5,
        "start_time": "2022-09-13T16:18:37.394Z"
      },
      {
        "duration": 5,
        "start_time": "2022-09-13T16:19:21.407Z"
      },
      {
        "duration": 4,
        "start_time": "2022-09-13T16:19:24.033Z"
      },
      {
        "duration": 5,
        "start_time": "2022-09-13T16:19:39.406Z"
      },
      {
        "duration": 4,
        "start_time": "2022-09-13T16:19:42.089Z"
      },
      {
        "duration": 4,
        "start_time": "2022-09-13T16:19:50.377Z"
      },
      {
        "duration": 387,
        "start_time": "2022-09-13T16:20:03.285Z"
      },
      {
        "duration": 68,
        "start_time": "2022-09-13T16:20:03.673Z"
      },
      {
        "duration": 21,
        "start_time": "2022-09-13T16:20:03.742Z"
      },
      {
        "duration": 13,
        "start_time": "2022-09-13T16:20:03.765Z"
      },
      {
        "duration": 7,
        "start_time": "2022-09-13T16:20:03.780Z"
      },
      {
        "duration": 32,
        "start_time": "2022-09-13T16:20:03.788Z"
      },
      {
        "duration": 3,
        "start_time": "2022-09-13T16:20:03.822Z"
      },
      {
        "duration": 11,
        "start_time": "2022-09-13T16:20:03.826Z"
      },
      {
        "duration": 3,
        "start_time": "2022-09-13T16:20:03.838Z"
      },
      {
        "duration": 10,
        "start_time": "2022-09-13T16:20:03.844Z"
      },
      {
        "duration": 5,
        "start_time": "2022-09-13T16:20:03.877Z"
      },
      {
        "duration": 5,
        "start_time": "2022-09-13T16:20:03.883Z"
      },
      {
        "duration": 5,
        "start_time": "2022-09-13T16:20:03.890Z"
      },
      {
        "duration": 4,
        "start_time": "2022-09-13T16:20:03.897Z"
      },
      {
        "duration": 4,
        "start_time": "2022-09-13T16:20:03.903Z"
      },
      {
        "duration": 4,
        "start_time": "2022-09-13T16:20:03.909Z"
      },
      {
        "duration": 5,
        "start_time": "2022-09-13T16:20:03.915Z"
      },
      {
        "duration": 8,
        "start_time": "2022-09-13T16:20:03.921Z"
      },
      {
        "duration": 7,
        "start_time": "2022-09-13T16:20:03.930Z"
      },
      {
        "duration": 5,
        "start_time": "2022-09-13T16:20:03.938Z"
      },
      {
        "duration": 5,
        "start_time": "2022-09-13T16:20:03.944Z"
      },
      {
        "duration": 7,
        "start_time": "2022-09-13T16:20:03.950Z"
      },
      {
        "duration": 93,
        "start_time": "2022-09-13T16:26:39.782Z"
      },
      {
        "duration": 29,
        "start_time": "2022-09-13T16:27:34.044Z"
      },
      {
        "duration": 3,
        "start_time": "2022-09-13T16:28:07.855Z"
      },
      {
        "duration": 8,
        "start_time": "2022-09-13T16:29:35.744Z"
      },
      {
        "duration": 411,
        "start_time": "2022-09-13T16:29:50.150Z"
      },
      {
        "duration": 67,
        "start_time": "2022-09-13T16:29:50.563Z"
      },
      {
        "duration": 20,
        "start_time": "2022-09-13T16:29:50.632Z"
      },
      {
        "duration": 22,
        "start_time": "2022-09-13T16:29:50.653Z"
      },
      {
        "duration": 28,
        "start_time": "2022-09-13T16:29:50.677Z"
      },
      {
        "duration": 53,
        "start_time": "2022-09-13T16:29:50.706Z"
      },
      {
        "duration": 3,
        "start_time": "2022-09-13T16:29:50.761Z"
      },
      {
        "duration": 27,
        "start_time": "2022-09-13T16:29:50.765Z"
      },
      {
        "duration": 13,
        "start_time": "2022-09-13T16:29:50.794Z"
      },
      {
        "duration": 24,
        "start_time": "2022-09-13T16:29:50.809Z"
      },
      {
        "duration": 5,
        "start_time": "2022-09-13T16:29:50.834Z"
      },
      {
        "duration": 32,
        "start_time": "2022-09-13T16:29:50.841Z"
      },
      {
        "duration": 9,
        "start_time": "2022-09-13T16:29:50.874Z"
      },
      {
        "duration": 3,
        "start_time": "2022-09-13T16:29:50.885Z"
      },
      {
        "duration": 4,
        "start_time": "2022-09-13T16:29:50.890Z"
      },
      {
        "duration": 5,
        "start_time": "2022-09-13T16:29:50.896Z"
      },
      {
        "duration": 4,
        "start_time": "2022-09-13T16:29:50.902Z"
      },
      {
        "duration": 5,
        "start_time": "2022-09-13T16:29:50.907Z"
      },
      {
        "duration": 4,
        "start_time": "2022-09-13T16:29:50.913Z"
      },
      {
        "duration": 10,
        "start_time": "2022-09-13T16:29:50.918Z"
      },
      {
        "duration": 6,
        "start_time": "2022-09-13T16:29:50.930Z"
      },
      {
        "duration": 5,
        "start_time": "2022-09-13T16:29:50.937Z"
      },
      {
        "duration": 80,
        "start_time": "2022-09-13T16:31:31.762Z"
      },
      {
        "duration": 46,
        "start_time": "2022-09-14T08:14:27.030Z"
      },
      {
        "duration": 471,
        "start_time": "2022-09-14T08:14:35.159Z"
      },
      {
        "duration": 305,
        "start_time": "2022-09-14T08:14:35.632Z"
      },
      {
        "duration": 22,
        "start_time": "2022-09-14T08:14:35.939Z"
      },
      {
        "duration": 15,
        "start_time": "2022-09-14T08:14:35.963Z"
      },
      {
        "duration": 8,
        "start_time": "2022-09-14T08:14:35.979Z"
      },
      {
        "duration": 101,
        "start_time": "2022-09-14T08:14:35.989Z"
      },
      {
        "duration": 0,
        "start_time": "2022-09-14T08:14:36.092Z"
      },
      {
        "duration": 0,
        "start_time": "2022-09-14T08:14:36.093Z"
      },
      {
        "duration": 0,
        "start_time": "2022-09-14T08:14:36.094Z"
      },
      {
        "duration": 0,
        "start_time": "2022-09-14T08:14:36.096Z"
      },
      {
        "duration": 0,
        "start_time": "2022-09-14T08:14:36.097Z"
      },
      {
        "duration": 1,
        "start_time": "2022-09-14T08:14:36.098Z"
      },
      {
        "duration": 0,
        "start_time": "2022-09-14T08:14:36.099Z"
      },
      {
        "duration": 0,
        "start_time": "2022-09-14T08:14:36.100Z"
      },
      {
        "duration": 0,
        "start_time": "2022-09-14T08:14:36.101Z"
      },
      {
        "duration": 0,
        "start_time": "2022-09-14T08:14:36.102Z"
      },
      {
        "duration": 0,
        "start_time": "2022-09-14T08:14:36.103Z"
      },
      {
        "duration": 0,
        "start_time": "2022-09-14T08:14:36.104Z"
      },
      {
        "duration": 0,
        "start_time": "2022-09-14T08:14:36.105Z"
      },
      {
        "duration": 0,
        "start_time": "2022-09-14T08:14:36.106Z"
      },
      {
        "duration": 0,
        "start_time": "2022-09-14T08:14:36.107Z"
      },
      {
        "duration": 0,
        "start_time": "2022-09-14T08:14:36.108Z"
      },
      {
        "duration": 10,
        "start_time": "2022-09-14T08:14:41.059Z"
      },
      {
        "duration": 32,
        "start_time": "2022-09-14T08:18:03.295Z"
      },
      {
        "duration": 3,
        "start_time": "2022-09-14T08:18:07.015Z"
      },
      {
        "duration": 7,
        "start_time": "2022-09-14T08:18:10.099Z"
      },
      {
        "duration": 3,
        "start_time": "2022-09-14T08:18:15.684Z"
      },
      {
        "duration": 10,
        "start_time": "2022-09-14T08:18:19.051Z"
      },
      {
        "duration": 4,
        "start_time": "2022-09-14T08:18:22.099Z"
      },
      {
        "duration": 42,
        "start_time": "2022-09-14T08:18:26.384Z"
      },
      {
        "duration": 9,
        "start_time": "2022-09-14T08:18:28.763Z"
      },
      {
        "duration": 3,
        "start_time": "2022-09-14T08:21:40.495Z"
      },
      {
        "duration": 7,
        "start_time": "2022-09-14T08:23:02.986Z"
      },
      {
        "duration": 11,
        "start_time": "2022-09-14T08:24:01.914Z"
      },
      {
        "duration": 13,
        "start_time": "2022-09-14T08:25:07.119Z"
      },
      {
        "duration": 11,
        "start_time": "2022-09-14T08:25:23.823Z"
      },
      {
        "duration": 39,
        "start_time": "2022-09-14T08:26:04.660Z"
      },
      {
        "duration": 32,
        "start_time": "2022-09-14T08:26:13.115Z"
      },
      {
        "duration": 7,
        "start_time": "2022-09-14T08:27:28.234Z"
      },
      {
        "duration": 5,
        "start_time": "2022-09-14T08:28:01.519Z"
      },
      {
        "duration": 6,
        "start_time": "2022-09-14T08:28:43.519Z"
      },
      {
        "duration": 5,
        "start_time": "2022-09-14T08:29:26.098Z"
      },
      {
        "duration": 4,
        "start_time": "2022-09-14T08:29:40.410Z"
      },
      {
        "duration": 4,
        "start_time": "2022-09-14T08:29:48.038Z"
      },
      {
        "duration": 4,
        "start_time": "2022-09-14T08:29:56.534Z"
      },
      {
        "duration": 6,
        "start_time": "2022-09-14T08:30:00.187Z"
      },
      {
        "duration": 3,
        "start_time": "2022-09-14T08:34:09.426Z"
      },
      {
        "duration": 9,
        "start_time": "2022-09-14T08:35:18.100Z"
      },
      {
        "duration": 5,
        "start_time": "2022-09-14T08:35:57.126Z"
      },
      {
        "duration": 4,
        "start_time": "2022-09-14T08:46:50.300Z"
      },
      {
        "duration": 76,
        "start_time": "2022-09-14T08:47:36.337Z"
      },
      {
        "duration": 3,
        "start_time": "2022-09-14T08:48:09.206Z"
      },
      {
        "duration": 10,
        "start_time": "2022-09-14T08:48:12.600Z"
      },
      {
        "duration": 4,
        "start_time": "2022-09-14T08:49:19.736Z"
      },
      {
        "duration": 8,
        "start_time": "2022-09-14T08:49:22.309Z"
      }
    ],
    "colab": {
      "provenance": []
    },
    "kernelspec": {
      "display_name": "Python 3 (ipykernel)",
      "language": "python",
      "name": "python3"
    },
    "language_info": {
      "codemirror_mode": {
        "name": "ipython",
        "version": 3
      },
      "file_extension": ".py",
      "mimetype": "text/x-python",
      "name": "python",
      "nbconvert_exporter": "python",
      "pygments_lexer": "ipython3",
      "version": "3.9.5"
    },
    "toc": {
      "base_numbering": 1,
      "nav_menu": {},
      "number_sections": true,
      "sideBar": true,
      "skip_h1_title": true,
      "title_cell": "Table of Contents",
      "title_sidebar": "Contents",
      "toc_cell": false,
      "toc_position": {},
      "toc_section_display": true,
      "toc_window_display": false
    }
  },
  "nbformat": 4,
  "nbformat_minor": 5
}