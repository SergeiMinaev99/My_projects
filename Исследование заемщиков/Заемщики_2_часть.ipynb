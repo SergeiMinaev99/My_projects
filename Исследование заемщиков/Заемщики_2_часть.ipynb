{
  "cells": [
    {
      "cell_type": "markdown",
      "id": "5988c1d4",
      "metadata": {
        "deletable": false,
        "editable": false,
        "id": "5988c1d4"
      },
      "source": [
        "# Исследование надежности заемщиков\n"
      ]
    },
    {
      "cell_type": "markdown",
      "id": "61a1dcb2",
      "metadata": {
        "deletable": false,
        "editable": false,
        "id": "61a1dcb2"
      },
      "source": [
        "## Откройте таблицу и изучите общую информацию о данных"
      ]
    },
    {
      "cell_type": "markdown",
      "id": "550aff47",
      "metadata": {
        "deletable": false,
        "editable": false,
        "id": "550aff47"
      },
      "source": [
        "**Задание 1. Импортируйте библиотеку pandas. Считайте данные из csv-файла в датафрейм и сохраните в переменную `data`. Путь к файлу:**\n",
        "\n",
        "`/datasets/data.csv`"
      ]
    },
    {
      "cell_type": "code",
      "execution_count": null,
      "id": "b65822b5",
      "metadata": {
        "deletable": false,
        "id": "b65822b5"
      },
      "outputs": [],
      "source": [
        "import pandas as pd\n",
        "\n",
        "try:\n",
        "    data = pd.read_csv('/datasets/data.csv')\n",
        "except:\n",
        "    data = pd.read_csv('https://code.s3.yandex.net/datasets/data.csv')"
      ]
    },
    {
      "cell_type": "markdown",
      "id": "210f75e5",
      "metadata": {
        "deletable": false,
        "editable": false,
        "id": "210f75e5"
      },
      "source": [
        "**Задание 2. Выведите первые 20 строчек датафрейма `data` на экран.**"
      ]
    },
    {
      "cell_type": "code",
      "execution_count": null,
      "id": "eb0d3f1d",
      "metadata": {
        "deletable": false,
        "id": "eb0d3f1d",
        "outputId": "1a8f3ef2-d323-4ec2-ddf7-89670b5944c4"
      },
      "outputs": [
        {
          "data": {
            "text/html": [
              "<div>\n",
              "<style scoped>\n",
              "    .dataframe tbody tr th:only-of-type {\n",
              "        vertical-align: middle;\n",
              "    }\n",
              "\n",
              "    .dataframe tbody tr th {\n",
              "        vertical-align: top;\n",
              "    }\n",
              "\n",
              "    .dataframe thead th {\n",
              "        text-align: right;\n",
              "    }\n",
              "</style>\n",
              "<table border=\"1\" class=\"dataframe\">\n",
              "  <thead>\n",
              "    <tr style=\"text-align: right;\">\n",
              "      <th></th>\n",
              "      <th>children</th>\n",
              "      <th>days_employed</th>\n",
              "      <th>dob_years</th>\n",
              "      <th>education</th>\n",
              "      <th>education_id</th>\n",
              "      <th>family_status</th>\n",
              "      <th>family_status_id</th>\n",
              "      <th>gender</th>\n",
              "      <th>income_type</th>\n",
              "      <th>debt</th>\n",
              "      <th>total_income</th>\n",
              "      <th>purpose</th>\n",
              "    </tr>\n",
              "  </thead>\n",
              "  <tbody>\n",
              "    <tr>\n",
              "      <th>0</th>\n",
              "      <td>1</td>\n",
              "      <td>-8437.673028</td>\n",
              "      <td>42</td>\n",
              "      <td>высшее</td>\n",
              "      <td>0</td>\n",
              "      <td>женат / замужем</td>\n",
              "      <td>0</td>\n",
              "      <td>F</td>\n",
              "      <td>сотрудник</td>\n",
              "      <td>0</td>\n",
              "      <td>253875.639453</td>\n",
              "      <td>покупка жилья</td>\n",
              "    </tr>\n",
              "    <tr>\n",
              "      <th>1</th>\n",
              "      <td>1</td>\n",
              "      <td>-4024.803754</td>\n",
              "      <td>36</td>\n",
              "      <td>среднее</td>\n",
              "      <td>1</td>\n",
              "      <td>женат / замужем</td>\n",
              "      <td>0</td>\n",
              "      <td>F</td>\n",
              "      <td>сотрудник</td>\n",
              "      <td>0</td>\n",
              "      <td>112080.014102</td>\n",
              "      <td>приобретение автомобиля</td>\n",
              "    </tr>\n",
              "    <tr>\n",
              "      <th>2</th>\n",
              "      <td>0</td>\n",
              "      <td>-5623.422610</td>\n",
              "      <td>33</td>\n",
              "      <td>Среднее</td>\n",
              "      <td>1</td>\n",
              "      <td>женат / замужем</td>\n",
              "      <td>0</td>\n",
              "      <td>M</td>\n",
              "      <td>сотрудник</td>\n",
              "      <td>0</td>\n",
              "      <td>145885.952297</td>\n",
              "      <td>покупка жилья</td>\n",
              "    </tr>\n",
              "    <tr>\n",
              "      <th>3</th>\n",
              "      <td>3</td>\n",
              "      <td>-4124.747207</td>\n",
              "      <td>32</td>\n",
              "      <td>среднее</td>\n",
              "      <td>1</td>\n",
              "      <td>женат / замужем</td>\n",
              "      <td>0</td>\n",
              "      <td>M</td>\n",
              "      <td>сотрудник</td>\n",
              "      <td>0</td>\n",
              "      <td>267628.550329</td>\n",
              "      <td>дополнительное образование</td>\n",
              "    </tr>\n",
              "    <tr>\n",
              "      <th>4</th>\n",
              "      <td>0</td>\n",
              "      <td>340266.072047</td>\n",
              "      <td>53</td>\n",
              "      <td>среднее</td>\n",
              "      <td>1</td>\n",
              "      <td>гражданский брак</td>\n",
              "      <td>1</td>\n",
              "      <td>F</td>\n",
              "      <td>пенсионер</td>\n",
              "      <td>0</td>\n",
              "      <td>158616.077870</td>\n",
              "      <td>сыграть свадьбу</td>\n",
              "    </tr>\n",
              "    <tr>\n",
              "      <th>5</th>\n",
              "      <td>0</td>\n",
              "      <td>-926.185831</td>\n",
              "      <td>27</td>\n",
              "      <td>высшее</td>\n",
              "      <td>0</td>\n",
              "      <td>гражданский брак</td>\n",
              "      <td>1</td>\n",
              "      <td>M</td>\n",
              "      <td>компаньон</td>\n",
              "      <td>0</td>\n",
              "      <td>255763.565419</td>\n",
              "      <td>покупка жилья</td>\n",
              "    </tr>\n",
              "    <tr>\n",
              "      <th>6</th>\n",
              "      <td>0</td>\n",
              "      <td>-2879.202052</td>\n",
              "      <td>43</td>\n",
              "      <td>высшее</td>\n",
              "      <td>0</td>\n",
              "      <td>женат / замужем</td>\n",
              "      <td>0</td>\n",
              "      <td>F</td>\n",
              "      <td>компаньон</td>\n",
              "      <td>0</td>\n",
              "      <td>240525.971920</td>\n",
              "      <td>операции с жильем</td>\n",
              "    </tr>\n",
              "    <tr>\n",
              "      <th>7</th>\n",
              "      <td>0</td>\n",
              "      <td>-152.779569</td>\n",
              "      <td>50</td>\n",
              "      <td>СРЕДНЕЕ</td>\n",
              "      <td>1</td>\n",
              "      <td>женат / замужем</td>\n",
              "      <td>0</td>\n",
              "      <td>M</td>\n",
              "      <td>сотрудник</td>\n",
              "      <td>0</td>\n",
              "      <td>135823.934197</td>\n",
              "      <td>образование</td>\n",
              "    </tr>\n",
              "    <tr>\n",
              "      <th>8</th>\n",
              "      <td>2</td>\n",
              "      <td>-6929.865299</td>\n",
              "      <td>35</td>\n",
              "      <td>ВЫСШЕЕ</td>\n",
              "      <td>0</td>\n",
              "      <td>гражданский брак</td>\n",
              "      <td>1</td>\n",
              "      <td>F</td>\n",
              "      <td>сотрудник</td>\n",
              "      <td>0</td>\n",
              "      <td>95856.832424</td>\n",
              "      <td>на проведение свадьбы</td>\n",
              "    </tr>\n",
              "    <tr>\n",
              "      <th>9</th>\n",
              "      <td>0</td>\n",
              "      <td>-2188.756445</td>\n",
              "      <td>41</td>\n",
              "      <td>среднее</td>\n",
              "      <td>1</td>\n",
              "      <td>женат / замужем</td>\n",
              "      <td>0</td>\n",
              "      <td>M</td>\n",
              "      <td>сотрудник</td>\n",
              "      <td>0</td>\n",
              "      <td>144425.938277</td>\n",
              "      <td>покупка жилья для семьи</td>\n",
              "    </tr>\n",
              "    <tr>\n",
              "      <th>10</th>\n",
              "      <td>2</td>\n",
              "      <td>-4171.483647</td>\n",
              "      <td>36</td>\n",
              "      <td>высшее</td>\n",
              "      <td>0</td>\n",
              "      <td>женат / замужем</td>\n",
              "      <td>0</td>\n",
              "      <td>M</td>\n",
              "      <td>компаньон</td>\n",
              "      <td>0</td>\n",
              "      <td>113943.491460</td>\n",
              "      <td>покупка недвижимости</td>\n",
              "    </tr>\n",
              "    <tr>\n",
              "      <th>11</th>\n",
              "      <td>0</td>\n",
              "      <td>-792.701887</td>\n",
              "      <td>40</td>\n",
              "      <td>среднее</td>\n",
              "      <td>1</td>\n",
              "      <td>женат / замужем</td>\n",
              "      <td>0</td>\n",
              "      <td>F</td>\n",
              "      <td>сотрудник</td>\n",
              "      <td>0</td>\n",
              "      <td>77069.234271</td>\n",
              "      <td>покупка коммерческой недвижимости</td>\n",
              "    </tr>\n",
              "    <tr>\n",
              "      <th>12</th>\n",
              "      <td>0</td>\n",
              "      <td>NaN</td>\n",
              "      <td>65</td>\n",
              "      <td>среднее</td>\n",
              "      <td>1</td>\n",
              "      <td>гражданский брак</td>\n",
              "      <td>1</td>\n",
              "      <td>M</td>\n",
              "      <td>пенсионер</td>\n",
              "      <td>0</td>\n",
              "      <td>NaN</td>\n",
              "      <td>сыграть свадьбу</td>\n",
              "    </tr>\n",
              "    <tr>\n",
              "      <th>13</th>\n",
              "      <td>0</td>\n",
              "      <td>-1846.641941</td>\n",
              "      <td>54</td>\n",
              "      <td>неоконченное высшее</td>\n",
              "      <td>2</td>\n",
              "      <td>женат / замужем</td>\n",
              "      <td>0</td>\n",
              "      <td>F</td>\n",
              "      <td>сотрудник</td>\n",
              "      <td>0</td>\n",
              "      <td>130458.228857</td>\n",
              "      <td>приобретение автомобиля</td>\n",
              "    </tr>\n",
              "    <tr>\n",
              "      <th>14</th>\n",
              "      <td>0</td>\n",
              "      <td>-1844.956182</td>\n",
              "      <td>56</td>\n",
              "      <td>высшее</td>\n",
              "      <td>0</td>\n",
              "      <td>гражданский брак</td>\n",
              "      <td>1</td>\n",
              "      <td>F</td>\n",
              "      <td>компаньон</td>\n",
              "      <td>1</td>\n",
              "      <td>165127.911772</td>\n",
              "      <td>покупка жилой недвижимости</td>\n",
              "    </tr>\n",
              "    <tr>\n",
              "      <th>15</th>\n",
              "      <td>1</td>\n",
              "      <td>-972.364419</td>\n",
              "      <td>26</td>\n",
              "      <td>среднее</td>\n",
              "      <td>1</td>\n",
              "      <td>женат / замужем</td>\n",
              "      <td>0</td>\n",
              "      <td>F</td>\n",
              "      <td>сотрудник</td>\n",
              "      <td>0</td>\n",
              "      <td>116820.904450</td>\n",
              "      <td>строительство собственной недвижимости</td>\n",
              "    </tr>\n",
              "    <tr>\n",
              "      <th>16</th>\n",
              "      <td>0</td>\n",
              "      <td>-1719.934226</td>\n",
              "      <td>35</td>\n",
              "      <td>среднее</td>\n",
              "      <td>1</td>\n",
              "      <td>женат / замужем</td>\n",
              "      <td>0</td>\n",
              "      <td>F</td>\n",
              "      <td>сотрудник</td>\n",
              "      <td>0</td>\n",
              "      <td>289202.704229</td>\n",
              "      <td>недвижимость</td>\n",
              "    </tr>\n",
              "    <tr>\n",
              "      <th>17</th>\n",
              "      <td>0</td>\n",
              "      <td>-2369.999720</td>\n",
              "      <td>33</td>\n",
              "      <td>высшее</td>\n",
              "      <td>0</td>\n",
              "      <td>гражданский брак</td>\n",
              "      <td>1</td>\n",
              "      <td>M</td>\n",
              "      <td>сотрудник</td>\n",
              "      <td>0</td>\n",
              "      <td>90410.586745</td>\n",
              "      <td>строительство недвижимости</td>\n",
              "    </tr>\n",
              "    <tr>\n",
              "      <th>18</th>\n",
              "      <td>0</td>\n",
              "      <td>400281.136913</td>\n",
              "      <td>53</td>\n",
              "      <td>среднее</td>\n",
              "      <td>1</td>\n",
              "      <td>вдовец / вдова</td>\n",
              "      <td>2</td>\n",
              "      <td>F</td>\n",
              "      <td>пенсионер</td>\n",
              "      <td>0</td>\n",
              "      <td>56823.777243</td>\n",
              "      <td>на покупку подержанного автомобиля</td>\n",
              "    </tr>\n",
              "    <tr>\n",
              "      <th>19</th>\n",
              "      <td>0</td>\n",
              "      <td>-10038.818549</td>\n",
              "      <td>48</td>\n",
              "      <td>СРЕДНЕЕ</td>\n",
              "      <td>1</td>\n",
              "      <td>в разводе</td>\n",
              "      <td>3</td>\n",
              "      <td>F</td>\n",
              "      <td>сотрудник</td>\n",
              "      <td>0</td>\n",
              "      <td>242831.107982</td>\n",
              "      <td>на покупку своего автомобиля</td>\n",
              "    </tr>\n",
              "  </tbody>\n",
              "</table>\n",
              "</div>"
            ],
            "text/plain": [
              "    children  days_employed  dob_years            education  education_id  \\\n",
              "0          1   -8437.673028         42               высшее             0   \n",
              "1          1   -4024.803754         36              среднее             1   \n",
              "2          0   -5623.422610         33              Среднее             1   \n",
              "3          3   -4124.747207         32              среднее             1   \n",
              "4          0  340266.072047         53              среднее             1   \n",
              "5          0    -926.185831         27               высшее             0   \n",
              "6          0   -2879.202052         43               высшее             0   \n",
              "7          0    -152.779569         50              СРЕДНЕЕ             1   \n",
              "8          2   -6929.865299         35               ВЫСШЕЕ             0   \n",
              "9          0   -2188.756445         41              среднее             1   \n",
              "10         2   -4171.483647         36               высшее             0   \n",
              "11         0    -792.701887         40              среднее             1   \n",
              "12         0            NaN         65              среднее             1   \n",
              "13         0   -1846.641941         54  неоконченное высшее             2   \n",
              "14         0   -1844.956182         56               высшее             0   \n",
              "15         1    -972.364419         26              среднее             1   \n",
              "16         0   -1719.934226         35              среднее             1   \n",
              "17         0   -2369.999720         33               высшее             0   \n",
              "18         0  400281.136913         53              среднее             1   \n",
              "19         0  -10038.818549         48              СРЕДНЕЕ             1   \n",
              "\n",
              "       family_status  family_status_id gender income_type  debt  \\\n",
              "0    женат / замужем                 0      F   сотрудник     0   \n",
              "1    женат / замужем                 0      F   сотрудник     0   \n",
              "2    женат / замужем                 0      M   сотрудник     0   \n",
              "3    женат / замужем                 0      M   сотрудник     0   \n",
              "4   гражданский брак                 1      F   пенсионер     0   \n",
              "5   гражданский брак                 1      M   компаньон     0   \n",
              "6    женат / замужем                 0      F   компаньон     0   \n",
              "7    женат / замужем                 0      M   сотрудник     0   \n",
              "8   гражданский брак                 1      F   сотрудник     0   \n",
              "9    женат / замужем                 0      M   сотрудник     0   \n",
              "10   женат / замужем                 0      M   компаньон     0   \n",
              "11   женат / замужем                 0      F   сотрудник     0   \n",
              "12  гражданский брак                 1      M   пенсионер     0   \n",
              "13   женат / замужем                 0      F   сотрудник     0   \n",
              "14  гражданский брак                 1      F   компаньон     1   \n",
              "15   женат / замужем                 0      F   сотрудник     0   \n",
              "16   женат / замужем                 0      F   сотрудник     0   \n",
              "17  гражданский брак                 1      M   сотрудник     0   \n",
              "18    вдовец / вдова                 2      F   пенсионер     0   \n",
              "19         в разводе                 3      F   сотрудник     0   \n",
              "\n",
              "     total_income                                 purpose  \n",
              "0   253875.639453                           покупка жилья  \n",
              "1   112080.014102                 приобретение автомобиля  \n",
              "2   145885.952297                           покупка жилья  \n",
              "3   267628.550329              дополнительное образование  \n",
              "4   158616.077870                         сыграть свадьбу  \n",
              "5   255763.565419                           покупка жилья  \n",
              "6   240525.971920                       операции с жильем  \n",
              "7   135823.934197                             образование  \n",
              "8    95856.832424                   на проведение свадьбы  \n",
              "9   144425.938277                 покупка жилья для семьи  \n",
              "10  113943.491460                    покупка недвижимости  \n",
              "11   77069.234271       покупка коммерческой недвижимости  \n",
              "12            NaN                         сыграть свадьбу  \n",
              "13  130458.228857                 приобретение автомобиля  \n",
              "14  165127.911772              покупка жилой недвижимости  \n",
              "15  116820.904450  строительство собственной недвижимости  \n",
              "16  289202.704229                            недвижимость  \n",
              "17   90410.586745              строительство недвижимости  \n",
              "18   56823.777243      на покупку подержанного автомобиля  \n",
              "19  242831.107982            на покупку своего автомобиля  "
            ]
          },
          "execution_count": 3,
          "metadata": {},
          "output_type": "execute_result"
        }
      ],
      "source": [
        "data.head(20)"
      ]
    },
    {
      "cell_type": "markdown",
      "id": "239c615f",
      "metadata": {
        "deletable": false,
        "editable": false,
        "id": "239c615f"
      },
      "source": [
        "**Задание 3. Выведите основную информацию о датафрейме с помощью метода `info()`.**"
      ]
    },
    {
      "cell_type": "code",
      "execution_count": null,
      "id": "2f7bc6f8",
      "metadata": {
        "deletable": false,
        "id": "2f7bc6f8",
        "outputId": "15376089-8dad-46c9-b520-c05248d43158"
      },
      "outputs": [
        {
          "name": "stdout",
          "output_type": "stream",
          "text": [
            "<class 'pandas.core.frame.DataFrame'>\n",
            "RangeIndex: 21525 entries, 0 to 21524\n",
            "Data columns (total 12 columns):\n",
            " #   Column            Non-Null Count  Dtype  \n",
            "---  ------            --------------  -----  \n",
            " 0   children          21525 non-null  int64  \n",
            " 1   days_employed     19351 non-null  float64\n",
            " 2   dob_years         21525 non-null  int64  \n",
            " 3   education         21525 non-null  object \n",
            " 4   education_id      21525 non-null  int64  \n",
            " 5   family_status     21525 non-null  object \n",
            " 6   family_status_id  21525 non-null  int64  \n",
            " 7   gender            21525 non-null  object \n",
            " 8   income_type       21525 non-null  object \n",
            " 9   debt              21525 non-null  int64  \n",
            " 10  total_income      19351 non-null  float64\n",
            " 11  purpose           21525 non-null  object \n",
            "dtypes: float64(2), int64(5), object(5)\n",
            "memory usage: 2.0+ MB\n"
          ]
        }
      ],
      "source": [
        "data.info()"
      ]
    },
    {
      "cell_type": "markdown",
      "id": "967d82ca",
      "metadata": {
        "deletable": false,
        "editable": false,
        "id": "967d82ca"
      },
      "source": [
        "## Предобработка данных"
      ]
    },
    {
      "cell_type": "markdown",
      "id": "62aa6513",
      "metadata": {
        "deletable": false,
        "editable": false,
        "id": "62aa6513"
      },
      "source": [
        "### Удаление пропусков"
      ]
    },
    {
      "cell_type": "markdown",
      "id": "38aac14f",
      "metadata": {
        "deletable": false,
        "editable": false,
        "id": "38aac14f"
      },
      "source": [
        "**Задание 4. Выведите количество пропущенных значений для каждого столбца. Используйте комбинацию двух методов.**"
      ]
    },
    {
      "cell_type": "code",
      "execution_count": null,
      "id": "557d300a",
      "metadata": {
        "deletable": false,
        "id": "557d300a",
        "outputId": "81f4d817-781c-465c-ed15-91ce4446810d"
      },
      "outputs": [
        {
          "data": {
            "text/plain": [
              "children               0\n",
              "days_employed       2174\n",
              "dob_years              0\n",
              "education              0\n",
              "education_id           0\n",
              "family_status          0\n",
              "family_status_id       0\n",
              "gender                 0\n",
              "income_type            0\n",
              "debt                   0\n",
              "total_income        2174\n",
              "purpose                0\n",
              "dtype: int64"
            ]
          },
          "execution_count": 5,
          "metadata": {},
          "output_type": "execute_result"
        }
      ],
      "source": [
        "data.isna().sum()"
      ]
    },
    {
      "cell_type": "markdown",
      "id": "2ad0f509",
      "metadata": {
        "deletable": false,
        "editable": false,
        "id": "2ad0f509"
      },
      "source": [
        "**Задание 5. В двух столбцах есть пропущенные значения. Один из них — `days_employed`. Пропуски в этом столбце вы обработаете на следующем этапе. Другой столбец с пропущенными значениями — `total_income` — хранит данные о доходах. На сумму дохода сильнее всего влияет тип занятости, поэтому заполнить пропуски в этом столбце нужно медианным значением по каждому типу из столбца `income_type`. Например, у человека с типом занятости `сотрудник` пропуск в столбце `total_income` должен быть заполнен медианным доходом среди всех записей с тем же типом.**"
      ]
    },
    {
      "cell_type": "code",
      "execution_count": null,
      "id": "87af76ee",
      "metadata": {
        "deletable": false,
        "id": "87af76ee"
      },
      "outputs": [],
      "source": [
        "for t in data['income_type'].unique():\n",
        "    data.loc[(data['income_type'] == t) & (data['total_income'].isna()), 'total_income'] = \\\n",
        "    data.loc[(data['income_type'] == t), 'total_income'].median()"
      ]
    },
    {
      "cell_type": "markdown",
      "id": "797edad6",
      "metadata": {
        "deletable": false,
        "editable": false,
        "id": "797edad6"
      },
      "source": [
        "### Обработка аномальных значений"
      ]
    },
    {
      "cell_type": "markdown",
      "id": "544d788b",
      "metadata": {
        "deletable": false,
        "editable": false,
        "id": "544d788b"
      },
      "source": [
        "**Задание 6. В данных могут встречаться артефакты (аномалии) — значения, которые не отражают действительность и появились по какой-то ошибке. таким артефактом будет отрицательное количество дней трудового стажа в столбце `days_employed`. Для реальных данных это нормально. Обработайте значения в этом столбце: замените все отрицательные значения положительными с помощью метода `abs()`.**"
      ]
    },
    {
      "cell_type": "code",
      "execution_count": null,
      "id": "b9e1ee60",
      "metadata": {
        "deletable": false,
        "id": "b9e1ee60"
      },
      "outputs": [],
      "source": [
        "data['days_employed'] = data['days_employed'].abs()"
      ]
    },
    {
      "cell_type": "markdown",
      "id": "71a08c01",
      "metadata": {
        "deletable": false,
        "editable": false,
        "id": "71a08c01"
      },
      "source": [
        "**Задание 7. Для каждого типа занятости выведите медианное значение трудового стажа `days_employed` в днях.**"
      ]
    },
    {
      "cell_type": "code",
      "execution_count": null,
      "id": "bb3dc28b",
      "metadata": {
        "deletable": false,
        "id": "bb3dc28b",
        "outputId": "801ef80e-522b-4668-f34e-565af7432bcf"
      },
      "outputs": [
        {
          "name": "stdout",
          "output_type": "stream",
          "text": [
            "income_type\n",
            "безработный        366413.652744\n",
            "в декрете            3296.759962\n",
            "госслужащий          2689.368353\n",
            "компаньон            1547.382223\n",
            "пенсионер          365213.306266\n",
            "предприниматель       520.848083\n",
            "сотрудник            1574.202821\n",
            "студент               578.751554\n",
            "Name: days_employed, dtype: float64\n"
          ]
        }
      ],
      "source": [
        "print(data.groupby('income_type')['days_employed'].agg('median'))"
      ]
    },
    {
      "cell_type": "markdown",
      "id": "278076ef",
      "metadata": {
        "deletable": false,
        "editable": false,
        "id": "278076ef"
      },
      "source": [
        "**Задание 8. Выведите перечень уникальных значений столбца `children`.**"
      ]
    },
    {
      "cell_type": "code",
      "execution_count": null,
      "id": "f1e663c6",
      "metadata": {
        "deletable": false,
        "id": "f1e663c6",
        "outputId": "6975b15c-7f95-4697-d16d-a0c79b657b03"
      },
      "outputs": [
        {
          "data": {
            "text/plain": [
              "array([ 1,  0,  3,  2, -1,  4, 20,  5])"
            ]
          },
          "execution_count": 9,
          "metadata": {},
          "output_type": "execute_result"
        }
      ],
      "source": [
        "data['children'].unique()"
      ]
    },
    {
      "cell_type": "markdown",
      "id": "1778109a",
      "metadata": {
        "deletable": false,
        "editable": false,
        "id": "1778109a"
      },
      "source": [
        "**Задание 9. В столбце `children` есть два аномальных значения. Удалите строки, в которых встречаются такие аномальные значения из датафрейма `data`.**"
      ]
    },
    {
      "cell_type": "code",
      "execution_count": null,
      "id": "f5b8ab16",
      "metadata": {
        "deletable": false,
        "id": "f5b8ab16"
      },
      "outputs": [],
      "source": [
        "data = data[(data['children'] != -1) & (data['children'] != 20)]"
      ]
    },
    {
      "cell_type": "markdown",
      "id": "36f098e0",
      "metadata": {
        "deletable": false,
        "editable": false,
        "id": "36f098e0"
      },
      "source": [
        "**Задание 10. Ещё раз выведите перечень уникальных значений столбца `children`, чтобы убедиться, что артефакты удалены.**"
      ]
    },
    {
      "cell_type": "code",
      "execution_count": null,
      "id": "5505c76b",
      "metadata": {
        "deletable": false,
        "id": "5505c76b",
        "outputId": "b2097101-d49d-44d9-901b-32a65c9463d1"
      },
      "outputs": [
        {
          "data": {
            "text/plain": [
              "array([1, 0, 3, 2, 4, 5])"
            ]
          },
          "execution_count": 11,
          "metadata": {},
          "output_type": "execute_result"
        }
      ],
      "source": [
        "data['children'].unique()"
      ]
    },
    {
      "cell_type": "markdown",
      "id": "c5fe9ba6",
      "metadata": {
        "deletable": false,
        "editable": false,
        "id": "c5fe9ba6"
      },
      "source": [
        "### Удаление пропусков (продолжение)"
      ]
    },
    {
      "cell_type": "markdown",
      "id": "9650de59",
      "metadata": {
        "deletable": false,
        "editable": false,
        "id": "9650de59"
      },
      "source": [
        "**Задание 11. Заполните пропуски в столбце `days_employed` медианными значениями по каждого типа занятости `income_type`.**"
      ]
    },
    {
      "cell_type": "code",
      "execution_count": null,
      "id": "fc7dc330",
      "metadata": {
        "deletable": false,
        "id": "fc7dc330"
      },
      "outputs": [],
      "source": [
        "for t in data['income_type'].unique():\n",
        "    data.loc[(data['income_type'] == t) & (data['days_employed'].isna()), 'days_employed'] = \\\n",
        "    data.loc[(data['income_type'] == t), 'days_employed'].median()"
      ]
    },
    {
      "cell_type": "markdown",
      "id": "c3bd5cc2",
      "metadata": {
        "deletable": false,
        "editable": false,
        "id": "c3bd5cc2"
      },
      "source": [
        "**Задание 12. Убедитесь, что все пропуски заполнены. Проверьте себя и ещё раз выведите количество пропущенных значений для каждого столбца с помощью двух методов.**"
      ]
    },
    {
      "cell_type": "code",
      "execution_count": null,
      "id": "69c43ebc",
      "metadata": {
        "deletable": false,
        "id": "69c43ebc",
        "outputId": "8da1e4e1-358e-4e87-98c9-f261bce0a7b2"
      },
      "outputs": [
        {
          "data": {
            "text/plain": [
              "children            0\n",
              "days_employed       0\n",
              "dob_years           0\n",
              "education           0\n",
              "education_id        0\n",
              "family_status       0\n",
              "family_status_id    0\n",
              "gender              0\n",
              "income_type         0\n",
              "debt                0\n",
              "total_income        0\n",
              "purpose             0\n",
              "dtype: int64"
            ]
          },
          "execution_count": 13,
          "metadata": {},
          "output_type": "execute_result"
        }
      ],
      "source": [
        "data.isna().sum()"
      ]
    },
    {
      "cell_type": "markdown",
      "id": "e20dc7b7",
      "metadata": {
        "deletable": false,
        "editable": false,
        "id": "e20dc7b7"
      },
      "source": [
        "### Изменение типов данных"
      ]
    },
    {
      "cell_type": "markdown",
      "id": "f4bc117a",
      "metadata": {
        "deletable": false,
        "editable": false,
        "id": "f4bc117a"
      },
      "source": [
        "**Задание 13. Замените вещественный тип данных в столбце `total_income` на целочисленный с помощью метода `astype()`.**"
      ]
    },
    {
      "cell_type": "code",
      "execution_count": null,
      "id": "8e7bfed0",
      "metadata": {
        "deletable": false,
        "id": "8e7bfed0"
      },
      "outputs": [],
      "source": [
        "data['total_income'] = data['total_income'].astype(int)"
      ]
    },
    {
      "cell_type": "markdown",
      "id": "a580efd7",
      "metadata": {
        "deletable": false,
        "editable": false,
        "id": "a580efd7"
      },
      "source": [
        "### Обработка дубликатов"
      ]
    },
    {
      "cell_type": "markdown",
      "id": "0b7923ee",
      "metadata": {
        "deletable": false,
        "editable": false,
        "id": "0b7923ee"
      },
      "source": [
        "**Задание 14. Обработайте неявные дубликаты в столбце `education`. В этом столбце есть одни и те же значения, но записанные по-разному: с использованием заглавных и строчных букв. Приведите их к нижнему регистру. Проверьте остальные столбцы.**"
      ]
    },
    {
      "cell_type": "code",
      "execution_count": null,
      "id": "97da0d73",
      "metadata": {
        "deletable": false,
        "id": "97da0d73"
      },
      "outputs": [],
      "source": [
        "data['education'] = data['education'].str.lower()"
      ]
    },
    {
      "cell_type": "markdown",
      "id": "0809b7a2",
      "metadata": {
        "deletable": false,
        "editable": false,
        "id": "0809b7a2"
      },
      "source": [
        "**Задание 15. Выведите на экран количество строк-дубликатов в данных. Если такие строки присутствуют, удалите их.**"
      ]
    },
    {
      "cell_type": "code",
      "execution_count": null,
      "id": "91f0bc88",
      "metadata": {
        "deletable": false,
        "id": "91f0bc88",
        "outputId": "9684deba-1934-42d1-99e1-cda61740f822"
      },
      "outputs": [
        {
          "data": {
            "text/plain": [
              "71"
            ]
          },
          "execution_count": 16,
          "metadata": {},
          "output_type": "execute_result"
        }
      ],
      "source": [
        "data.duplicated().sum()"
      ]
    },
    {
      "cell_type": "code",
      "execution_count": null,
      "id": "c6f4e8c2",
      "metadata": {
        "deletable": false,
        "id": "c6f4e8c2"
      },
      "outputs": [],
      "source": [
        "data = data.drop_duplicates()"
      ]
    },
    {
      "cell_type": "markdown",
      "id": "9df58cc8",
      "metadata": {
        "deletable": false,
        "editable": false,
        "id": "9df58cc8"
      },
      "source": [
        "### Категоризация данных"
      ]
    },
    {
      "cell_type": "markdown",
      "id": "d9dcf9c8",
      "metadata": {
        "deletable": false,
        "editable": false,
        "id": "d9dcf9c8"
      },
      "source": [
        "**Задание 16. На основании диапазонов, указанных ниже, создайте в датафрейме `data` столбец `total_income_category` с категориями:**\n",
        "\n",
        "- 0–30000 — `'E'`;\n",
        "- 30001–50000 — `'D'`;\n",
        "- 50001–200000 — `'C'`;\n",
        "- 200001–1000000 — `'B'`;\n",
        "- 1000001 и выше — `'A'`.\n",
        "\n",
        "\n",
        "**Например, кредитополучателю с доходом 25000 нужно назначить категорию `'E'`, а клиенту, получающему 235000, — `'B'`. Используйте собственную функцию с именем `categorize_income()` и метод `apply()`.**"
      ]
    },
    {
      "cell_type": "code",
      "execution_count": null,
      "id": "f4b81535",
      "metadata": {
        "deletable": false,
        "id": "f4b81535"
      },
      "outputs": [],
      "source": [
        "def categorize_income(income):\n",
        "    try:\n",
        "        if 0 <= income <= 30000:\n",
        "            return 'E'\n",
        "        elif 30001 <= income <= 50000:\n",
        "            return 'D'\n",
        "        elif 50001 <= income <= 200000:\n",
        "            return 'C'\n",
        "        elif 200001 <= income <= 1000000:\n",
        "            return 'B'\n",
        "        elif income >= 1000001:\n",
        "            return 'A'\n",
        "    except:\n",
        "        pass"
      ]
    },
    {
      "cell_type": "code",
      "execution_count": null,
      "id": "007eee87",
      "metadata": {
        "deletable": false,
        "id": "007eee87"
      },
      "outputs": [],
      "source": [
        "data['total_income_category'] = data['total_income'].apply(categorize_income)"
      ]
    },
    {
      "cell_type": "markdown",
      "id": "d37ce418",
      "metadata": {
        "deletable": false,
        "editable": false,
        "id": "d37ce418"
      },
      "source": [
        "**Задание 17. Выведите на экран перечень уникальных целей взятия кредита из столбца `purpose`.**"
      ]
    },
    {
      "cell_type": "code",
      "execution_count": null,
      "id": "a35e31bf",
      "metadata": {
        "deletable": false,
        "id": "a35e31bf",
        "outputId": "673c12d9-7d7e-4ae0-9812-c622c89dd244"
      },
      "outputs": [
        {
          "data": {
            "text/plain": [
              "array(['покупка жилья', 'приобретение автомобиля',\n",
              "       'дополнительное образование', 'сыграть свадьбу',\n",
              "       'операции с жильем', 'образование', 'на проведение свадьбы',\n",
              "       'покупка жилья для семьи', 'покупка недвижимости',\n",
              "       'покупка коммерческой недвижимости', 'покупка жилой недвижимости',\n",
              "       'строительство собственной недвижимости', 'недвижимость',\n",
              "       'строительство недвижимости', 'на покупку подержанного автомобиля',\n",
              "       'на покупку своего автомобиля',\n",
              "       'операции с коммерческой недвижимостью',\n",
              "       'строительство жилой недвижимости', 'жилье',\n",
              "       'операции со своей недвижимостью', 'автомобили',\n",
              "       'заняться образованием', 'сделка с подержанным автомобилем',\n",
              "       'получение образования', 'автомобиль', 'свадьба',\n",
              "       'получение дополнительного образования', 'покупка своего жилья',\n",
              "       'операции с недвижимостью', 'получение высшего образования',\n",
              "       'свой автомобиль', 'сделка с автомобилем',\n",
              "       'профильное образование', 'высшее образование',\n",
              "       'покупка жилья для сдачи', 'на покупку автомобиля', 'ремонт жилью',\n",
              "       'заняться высшим образованием'], dtype=object)"
            ]
          },
          "execution_count": 20,
          "metadata": {},
          "output_type": "execute_result"
        }
      ],
      "source": [
        "data['purpose'].unique()"
      ]
    },
    {
      "cell_type": "markdown",
      "id": "7845b9f9",
      "metadata": {
        "deletable": false,
        "editable": false,
        "id": "7845b9f9"
      },
      "source": [
        "**Задание 18. Создайте функцию, которая на основании данных из столбца `purpose` сформирует новый столбец `purpose_category`, в который войдут следующие категории:**\n",
        "\n",
        "- `'операции с автомобилем'`,\n",
        "- `'операции с недвижимостью'`,\n",
        "- `'проведение свадьбы'`,\n",
        "- `'получение образования'`.\n",
        "\n",
        "**Например, если в столбце `purpose` находится подстрока `'на покупку автомобиля'`, то в столбце `purpose_category` должна появиться строка `'операции с автомобилем'`.**\n",
        "\n",
        "**Используйте собственную функцию с именем `categorize_purpose()` и метод `apply()`. Изучите данные в столбце `purpose` и определите, какие подстроки помогут вам правильно определить категорию.**"
      ]
    },
    {
      "cell_type": "code",
      "execution_count": null,
      "id": "af6f0496",
      "metadata": {
        "deletable": false,
        "id": "af6f0496"
      },
      "outputs": [],
      "source": [
        "def categorize_purpose(row):\n",
        "    try:\n",
        "        if 'автом' in row:\n",
        "            return 'операции с автомобилем'\n",
        "        elif 'жил' in row or 'недвиж' in row:\n",
        "            return 'операции с недвижимостью'\n",
        "        elif 'свад' in row:\n",
        "            return 'проведение свадьбы'\n",
        "        elif 'образов' in row:\n",
        "            return 'получение образования'\n",
        "    except:\n",
        "        return 'нет категории'"
      ]
    },
    {
      "cell_type": "code",
      "execution_count": null,
      "id": "0287405f",
      "metadata": {
        "deletable": false,
        "id": "0287405f"
      },
      "outputs": [],
      "source": [
        "data['purpose_category'] = data['purpose'].apply(categorize_purpose)"
      ]
    },
    {
      "cell_type": "markdown",
      "id": "c3ad8820",
      "metadata": {
        "deletable": false,
        "editable": false,
        "id": "c3ad8820"
      },
      "source": [
        "### Шаг 3. Исследуйте данные и ответьте на вопросы"
      ]
    },
    {
      "cell_type": "markdown",
      "id": "91b852d0",
      "metadata": {
        "deletable": false,
        "editable": false,
        "id": "91b852d0"
      },
      "source": [
        "#### 3.1 Есть ли зависимость между количеством детей и возвратом кредита в срок?"
      ]
    },
    {
      "cell_type": "code",
      "execution_count": null,
      "id": "4f27a9d6",
      "metadata": {
        "deletable": false,
        "id": "4f27a9d6",
        "outputId": "20058378-dfa2-43f0-d571-61597d1d2c79"
      },
      "outputs": [
        {
          "name": "stdout",
          "output_type": "stream",
          "text": [
            "           sum  count     share\n",
            "          debt   debt          \n",
            "children                       \n",
            "0         1063  14091  0.075438\n",
            "1          444   4808  0.092346\n",
            "2          194   2052  0.094542\n",
            "3           27    330  0.081818\n",
            "4            4     41  0.097561\n",
            "5            0      9  0.000000\n"
          ]
        }
      ],
      "source": [
        "\n",
        "# Изначально сгруппируем по количеству детей в семье\n",
        "# Проссумируем количество людей с задолженностью по кредиту\n",
        "data_pivot = data.pivot_table(index = ['children'],values = 'debt', aggfunc = ['sum', 'count'])\n",
        "data_pivot['share'] = data_pivot['sum'] / data_pivot['count']\n",
        "print(data_pivot)"
      ]
    },
    {
      "cell_type": "markdown",
      "id": "f928961d",
      "metadata": {
        "id": "f928961d"
      },
      "source": [
        "**Вывод:** Анализ в абсолютных величинах показал, что наибольшее количество задолженностей наблюдается у людей без детей. Однако, проанализировав относительные значения выяснилось, что зависимости между количеством детей и возвратом кредита в основном **не наблюдается**."
      ]
    },
    {
      "cell_type": "markdown",
      "id": "211eb120",
      "metadata": {
        "deletable": false,
        "editable": false,
        "id": "211eb120"
      },
      "source": [
        "#### 3.2 Есть ли зависимость между семейным положением и возвратом кредита в срок?"
      ]
    },
    {
      "cell_type": "code",
      "execution_count": null,
      "id": "bc0c9e46",
      "metadata": {
        "deletable": false,
        "id": "bc0c9e46",
        "outputId": "122437a8-ada6-460f-b490-12693a584da2"
      },
      "outputs": [
        {
          "name": "stdout",
          "output_type": "stream",
          "text": [
            "                       sum  count     share\n",
            "                      debt   debt          \n",
            "family_status                              \n",
            "Не женат / не замужем  273   2796  0.097639\n",
            "в разводе               84   1189  0.070648\n",
            "вдовец / вдова          63    951  0.066246\n",
            "гражданский брак       385   4134  0.093130\n",
            "женат / замужем        927  12261  0.075606\n"
          ]
        }
      ],
      "source": [
        "\n",
        "data_pivot = data.pivot_table(index = ['family_status'],values = 'debt', aggfunc = ['sum', 'count'])\n",
        "data_pivot['share'] = data_pivot['sum'] / data_pivot['count']\n",
        "print(data_pivot.head(20))"
      ]
    },
    {
      "cell_type": "markdown",
      "id": "6383bedf",
      "metadata": {
        "id": "6383bedf"
      },
      "source": [
        "**Вывод:** По данным мы видим, что среди вдовцов/вдов наиболее низкий процент просрочек по кредиту."
      ]
    },
    {
      "cell_type": "markdown",
      "id": "45dd6556",
      "metadata": {
        "deletable": false,
        "editable": false,
        "id": "45dd6556"
      },
      "source": [
        "#### 3.3 Есть ли зависимость между уровнем дохода и возвратом кредита в срок?"
      ]
    },
    {
      "cell_type": "code",
      "execution_count": null,
      "id": "6ca48425",
      "metadata": {
        "deletable": false,
        "id": "6ca48425",
        "outputId": "a50a4f87-6c53-4818-ea63-5ca85203ef68"
      },
      "outputs": [
        {
          "name": "stdout",
          "output_type": "stream",
          "text": [
            "                        sum      mean\n",
            "                       debt      debt\n",
            "total_income_category                \n",
            "A                         2  0.080000\n",
            "B                       354  0.070602\n",
            "C                      1353  0.084982\n",
            "D                        21  0.060172\n",
            "E                         2  0.090909\n"
          ]
        }
      ],
      "source": [
        "\n",
        "data_pivot = data.pivot_table(index = ['total_income_category'],values = 'debt', aggfunc = ['sum', 'mean'])\n",
        "print(data_pivot)"
      ]
    },
    {
      "cell_type": "markdown",
      "id": "72cbead9",
      "metadata": {
        "id": "72cbead9"
      },
      "source": [
        "**Вывод:** По результатам анализа можно сказать, что наблюдается тенденция к большому количеству просрочек по кредитам у людей, получающих от 200 тысяч до миллиона рублей в месяц. Это также подтверждается и при анализе относительных величин.  Скорее всего, это связано с наличием нескольких кредитов и увеличенной кредитной нагрузке."
      ]
    },
    {
      "cell_type": "markdown",
      "id": "295d94fb",
      "metadata": {
        "deletable": false,
        "editable": false,
        "id": "295d94fb"
      },
      "source": [
        "#### 3.4 Как разные цели кредита влияют на его возврат в срок?"
      ]
    },
    {
      "cell_type": "code",
      "execution_count": null,
      "id": "5e4116c8",
      "metadata": {
        "deletable": false,
        "id": "5e4116c8",
        "outputId": "583998dd-1f31-4c5c-e5df-3eb51d4df1a3"
      },
      "outputs": [
        {
          "name": "stdout",
          "output_type": "stream",
          "text": [
            "                          sum  count     share\n",
            "                         debt   debt          \n",
            "purpose_category                              \n",
            "операции с автомобилем    400   4279  0.093480\n",
            "операции с недвижимостью  780  10751  0.072551\n",
            "получение образования     369   3988  0.092528\n",
            "проведение свадьбы        183   2313  0.079118\n"
          ]
        }
      ],
      "source": [
        "\n",
        "data_pivot = data.pivot_table(index = ['purpose_category'],values = 'debt', aggfunc = ['sum', 'count'])\n",
        "data_pivot['share'] = data_pivot['sum'] / data_pivot['count']\n",
        "print(data_pivot)"
      ]
    },
    {
      "cell_type": "markdown",
      "id": "27b4e71d",
      "metadata": {
        "id": "27b4e71d"
      },
      "source": [
        "**Вывод:** Обратившись к относительным величинам, удалось понять, что цели кредита \"недвижимость\" и \"свадьба\" имеют наименьшие проценты по неуплатам в срок, при том, что они являются одними из наиболее популярных целей кредитования. Скорее всего, это связано с бОльшими суммами кредита (в случае недвижимости это очевидно) и более суровыми санкциями за неуплату в срок."
      ]
    },
    {
      "cell_type": "markdown",
      "id": "8c51c357",
      "metadata": {
        "deletable": false,
        "editable": false,
        "id": "8c51c357"
      },
      "source": [
        "#### 3.5 Приведите возможные причины появления пропусков в исходных данных."
      ]
    },
    {
      "cell_type": "markdown",
      "id": "e71fa350",
      "metadata": {
        "deletable": false,
        "id": "e71fa350"
      },
      "source": [
        "*Ответ:* возможно, некоторые люди считали себя безработными или не смогли назвать точный свой трудовой стаж (так как могут работать уже более 20-30 лет), по этой причине безработности ежемесячный доход не указан."
      ]
    },
    {
      "cell_type": "markdown",
      "id": "fc160d37",
      "metadata": {
        "deletable": false,
        "editable": false,
        "id": "fc160d37"
      },
      "source": [
        "#### 3.6 Объясните, почему заполнить пропуски медианным значением — лучшее решение для количественных переменных."
      ]
    },
    {
      "cell_type": "markdown",
      "id": "d6d33ad7",
      "metadata": {
        "deletable": false,
        "id": "d6d33ad7"
      },
      "source": [
        "*Ответ:* Медиана оценивает значения в центре выборки. В любой выборке могут встречаться выбросы или аномалии, которые сильно смещают значение среднего, следовательно, в крупных выборках с количественными данными медиану использовать лучше, нежели среднее значение. Важно отметить, что для правильного подсчета медианного значения выборка должна быть отсортирована либо по возрастанию, либо по убыванию. "
      ]
    },
    {
      "cell_type": "markdown",
      "id": "f7424fca",
      "metadata": {
        "deletable": false,
        "editable": false,
        "id": "f7424fca"
      },
      "source": [
        "### Шаг 4: общий вывод."
      ]
    },
    {
      "cell_type": "markdown",
      "id": "ff31ef4d",
      "metadata": {
        "id": "ff31ef4d"
      },
      "source": [
        "Полученные от заказчика данные нуждались в первоначальной обработке, так как некоторые категории данных имели пропуски (трудовой стаж и уровень дохода). Более того, в столбце с уровнем образования были ошибки (разный регистр указания информации об уровне образования), а также в столбце с количеством детей были 2 аномальных значения (-1 и 20). В ходе анализа для повышения его эффективности была проведена кластеризация людей по уровню зароботка, а также проведена группировка целей кредитования."
      ]
    },
    {
      "cell_type": "markdown",
      "id": "9cbccf85",
      "metadata": {
        "id": "9cbccf85"
      },
      "source": [
        "Таким образом, банку необходимо более корретно заполнять данные, чтобы не было больших пропусков и искажений(ошибок) в данных, также банку стоит усилить контроль за заемщиками автокредитов и образовательных кредитов, а также усилить контроль заемщиков из категории дохода \"С\", за теми кто не женат/не замсужем или находится в гражданском браке, а также за теми, у кого 1-2 ребенка"
      ]
    },
    {
      "cell_type": "code",
      "execution_count": null,
      "id": "462460b4",
      "metadata": {
        "id": "462460b4"
      },
      "outputs": [],
      "source": []
    }
  ],
  "metadata": {
    "ExecuteTimeLog": [
      {
        "duration": 472,
        "start_time": "2022-09-14T12:00:32.713Z"
      },
      {
        "duration": 21,
        "start_time": "2022-09-14T12:00:34.922Z"
      },
      {
        "duration": 14,
        "start_time": "2022-09-14T12:00:39.512Z"
      },
      {
        "duration": 10,
        "start_time": "2022-09-14T12:00:43.842Z"
      },
      {
        "duration": 33,
        "start_time": "2022-09-14T12:00:49.818Z"
      },
      {
        "duration": 4,
        "start_time": "2022-09-14T12:00:53.706Z"
      },
      {
        "duration": 7,
        "start_time": "2022-09-14T12:00:56.082Z"
      },
      {
        "duration": 5,
        "start_time": "2022-09-14T12:01:04.625Z"
      },
      {
        "duration": 6,
        "start_time": "2022-09-14T12:01:08.500Z"
      },
      {
        "duration": 5,
        "start_time": "2022-09-14T12:01:11.416Z"
      },
      {
        "duration": 33,
        "start_time": "2022-09-14T12:01:17.157Z"
      },
      {
        "duration": 10,
        "start_time": "2022-09-14T12:01:19.607Z"
      },
      {
        "duration": 3,
        "start_time": "2022-09-14T12:01:24.950Z"
      },
      {
        "duration": 11,
        "start_time": "2022-09-14T12:01:28.146Z"
      },
      {
        "duration": 21,
        "start_time": "2022-09-14T12:01:31.369Z"
      },
      {
        "duration": 18,
        "start_time": "2022-09-14T12:01:37.749Z"
      },
      {
        "duration": 4,
        "start_time": "2022-09-14T12:01:47.914Z"
      },
      {
        "duration": 6,
        "start_time": "2022-09-14T12:01:56.157Z"
      },
      {
        "duration": 3,
        "start_time": "2022-09-14T12:02:03.178Z"
      },
      {
        "duration": 9,
        "start_time": "2022-09-14T12:02:08.057Z"
      },
      {
        "duration": 134,
        "start_time": "2022-09-14T12:14:04.284Z"
      },
      {
        "duration": 67,
        "start_time": "2022-09-14T12:14:21.768Z"
      },
      {
        "duration": 18,
        "start_time": "2022-09-14T12:14:30.881Z"
      },
      {
        "duration": 27,
        "start_time": "2022-09-14T12:14:44.456Z"
      },
      {
        "duration": 239,
        "start_time": "2022-09-14T12:15:23.700Z"
      },
      {
        "duration": 20,
        "start_time": "2022-09-14T12:15:33.505Z"
      },
      {
        "duration": 15,
        "start_time": "2022-09-14T12:15:43.448Z"
      },
      {
        "duration": 9,
        "start_time": "2022-09-14T12:16:12.464Z"
      },
      {
        "duration": 11,
        "start_time": "2022-09-14T12:16:21.429Z"
      },
      {
        "duration": 13,
        "start_time": "2022-09-14T12:22:30.979Z"
      },
      {
        "duration": 10,
        "start_time": "2022-09-14T12:23:19.015Z"
      },
      {
        "duration": 8,
        "start_time": "2022-09-14T12:26:43.635Z"
      },
      {
        "duration": 10,
        "start_time": "2022-09-14T12:26:55.180Z"
      },
      {
        "duration": 14,
        "start_time": "2022-09-14T12:27:52.179Z"
      },
      {
        "duration": 13,
        "start_time": "2022-09-14T12:28:07.619Z"
      },
      {
        "duration": 14,
        "start_time": "2022-09-14T12:28:37.647Z"
      },
      {
        "duration": 13,
        "start_time": "2022-09-14T12:28:41.932Z"
      },
      {
        "duration": 12,
        "start_time": "2022-09-14T12:29:08.430Z"
      },
      {
        "duration": 8,
        "start_time": "2022-09-14T12:32:31.833Z"
      },
      {
        "duration": 16,
        "start_time": "2022-09-14T12:32:51.070Z"
      },
      {
        "duration": 194,
        "start_time": "2022-09-14T12:35:26.208Z"
      },
      {
        "duration": 16,
        "start_time": "2022-09-14T12:36:42.338Z"
      },
      {
        "duration": 11,
        "start_time": "2022-09-14T12:36:50.699Z"
      },
      {
        "duration": 12,
        "start_time": "2022-09-14T12:46:18.709Z"
      },
      {
        "duration": 536,
        "start_time": "2022-09-14T19:48:31.052Z"
      },
      {
        "duration": 21,
        "start_time": "2022-09-14T19:48:31.590Z"
      },
      {
        "duration": 15,
        "start_time": "2022-09-14T19:48:31.612Z"
      },
      {
        "duration": 9,
        "start_time": "2022-09-14T19:48:31.629Z"
      },
      {
        "duration": 54,
        "start_time": "2022-09-14T19:48:31.640Z"
      },
      {
        "duration": 3,
        "start_time": "2022-09-14T19:48:31.696Z"
      },
      {
        "duration": 14,
        "start_time": "2022-09-14T19:48:31.701Z"
      },
      {
        "duration": 7,
        "start_time": "2022-09-14T19:48:31.717Z"
      },
      {
        "duration": 8,
        "start_time": "2022-09-14T19:48:31.725Z"
      },
      {
        "duration": 6,
        "start_time": "2022-09-14T19:48:31.736Z"
      },
      {
        "duration": 69,
        "start_time": "2022-09-14T19:48:31.743Z"
      },
      {
        "duration": 17,
        "start_time": "2022-09-14T19:48:31.814Z"
      },
      {
        "duration": 12,
        "start_time": "2022-09-14T19:48:31.833Z"
      },
      {
        "duration": 19,
        "start_time": "2022-09-14T19:48:31.847Z"
      },
      {
        "duration": 34,
        "start_time": "2022-09-14T19:48:31.869Z"
      },
      {
        "duration": 22,
        "start_time": "2022-09-14T19:48:31.907Z"
      },
      {
        "duration": 7,
        "start_time": "2022-09-14T19:48:31.932Z"
      },
      {
        "duration": 21,
        "start_time": "2022-09-14T19:48:31.942Z"
      },
      {
        "duration": 14,
        "start_time": "2022-09-14T19:48:31.965Z"
      },
      {
        "duration": 4,
        "start_time": "2022-09-14T19:48:31.990Z"
      },
      {
        "duration": 26,
        "start_time": "2022-09-14T19:48:31.996Z"
      },
      {
        "duration": 22,
        "start_time": "2022-09-14T19:48:32.025Z"
      },
      {
        "duration": 15,
        "start_time": "2022-09-14T19:48:32.049Z"
      },
      {
        "duration": 27,
        "start_time": "2022-09-14T19:48:32.066Z"
      },
      {
        "duration": 19,
        "start_time": "2022-09-14T19:48:32.096Z"
      },
      {
        "duration": 49,
        "start_time": "2022-09-15T06:34:55.692Z"
      },
      {
        "duration": 720,
        "start_time": "2022-09-15T06:35:02.572Z"
      },
      {
        "duration": 22,
        "start_time": "2022-09-15T06:35:03.294Z"
      },
      {
        "duration": 30,
        "start_time": "2022-09-15T06:35:03.318Z"
      },
      {
        "duration": 22,
        "start_time": "2022-09-15T06:35:03.350Z"
      },
      {
        "duration": 87,
        "start_time": "2022-09-15T06:35:03.375Z"
      },
      {
        "duration": 4,
        "start_time": "2022-09-15T06:35:03.464Z"
      },
      {
        "duration": 41,
        "start_time": "2022-09-15T06:35:03.469Z"
      },
      {
        "duration": 19,
        "start_time": "2022-09-15T06:35:03.512Z"
      },
      {
        "duration": 18,
        "start_time": "2022-09-15T06:35:03.533Z"
      },
      {
        "duration": 22,
        "start_time": "2022-09-15T06:35:03.552Z"
      },
      {
        "duration": 64,
        "start_time": "2022-09-15T06:35:03.576Z"
      },
      {
        "duration": 10,
        "start_time": "2022-09-15T06:35:03.641Z"
      },
      {
        "duration": 17,
        "start_time": "2022-09-15T06:35:03.652Z"
      },
      {
        "duration": 33,
        "start_time": "2022-09-15T06:35:03.672Z"
      },
      {
        "duration": 37,
        "start_time": "2022-09-15T06:35:03.707Z"
      },
      {
        "duration": 17,
        "start_time": "2022-09-15T06:35:03.746Z"
      },
      {
        "duration": 7,
        "start_time": "2022-09-15T06:35:03.764Z"
      },
      {
        "duration": 33,
        "start_time": "2022-09-15T06:35:03.773Z"
      },
      {
        "duration": 29,
        "start_time": "2022-09-15T06:35:03.807Z"
      },
      {
        "duration": 24,
        "start_time": "2022-09-15T06:35:03.838Z"
      },
      {
        "duration": 38,
        "start_time": "2022-09-15T06:35:03.863Z"
      },
      {
        "duration": 994,
        "start_time": "2022-09-15T06:35:03.903Z"
      },
      {
        "duration": 919,
        "start_time": "2022-09-15T06:35:16.459Z"
      },
      {
        "duration": 60,
        "start_time": "2022-09-15T06:41:17.892Z"
      },
      {
        "duration": 47,
        "start_time": "2022-09-15T06:41:41.393Z"
      },
      {
        "duration": 7,
        "start_time": "2022-09-15T06:41:51.824Z"
      },
      {
        "duration": 9,
        "start_time": "2022-09-15T06:42:08.889Z"
      },
      {
        "duration": 7,
        "start_time": "2022-09-15T06:42:11.686Z"
      },
      {
        "duration": 8,
        "start_time": "2022-09-15T06:42:54.208Z"
      },
      {
        "duration": 7,
        "start_time": "2022-09-15T06:43:08.841Z"
      },
      {
        "duration": 8,
        "start_time": "2022-09-15T06:43:25.890Z"
      },
      {
        "duration": 7,
        "start_time": "2022-09-15T06:43:32.816Z"
      },
      {
        "duration": 21,
        "start_time": "2022-09-15T06:44:03.129Z"
      },
      {
        "duration": 13,
        "start_time": "2022-09-15T06:46:30.908Z"
      },
      {
        "duration": 13,
        "start_time": "2022-09-15T06:52:03.627Z"
      },
      {
        "duration": 16,
        "start_time": "2022-09-15T06:52:54.155Z"
      },
      {
        "duration": 13,
        "start_time": "2022-09-15T06:56:53.524Z"
      },
      {
        "duration": 28,
        "start_time": "2022-09-15T06:58:06.897Z"
      },
      {
        "duration": 22,
        "start_time": "2022-09-15T07:01:13.591Z"
      },
      {
        "duration": 20,
        "start_time": "2022-09-15T07:02:27.293Z"
      },
      {
        "duration": 20,
        "start_time": "2022-09-15T07:02:47.878Z"
      },
      {
        "duration": 25,
        "start_time": "2022-09-15T07:04:32.095Z"
      },
      {
        "duration": 23,
        "start_time": "2022-09-15T07:04:47.204Z"
      }
    ],
    "colab": {
      "provenance": []
    },
    "kernelspec": {
      "display_name": "Python 3 (ipykernel)",
      "language": "python",
      "name": "python3"
    },
    "language_info": {
      "codemirror_mode": {
        "name": "ipython",
        "version": 3
      },
      "file_extension": ".py",
      "mimetype": "text/x-python",
      "name": "python",
      "nbconvert_exporter": "python",
      "pygments_lexer": "ipython3",
      "version": "3.9.5"
    },
    "toc": {
      "base_numbering": 1,
      "nav_menu": {},
      "number_sections": true,
      "sideBar": true,
      "skip_h1_title": true,
      "title_cell": "Table of Contents",
      "title_sidebar": "Contents",
      "toc_cell": false,
      "toc_position": {},
      "toc_section_display": true,
      "toc_window_display": false
    }
  },
  "nbformat": 4,
  "nbformat_minor": 5
}